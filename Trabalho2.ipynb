{
  "nbformat": 4,
  "nbformat_minor": 0,
  "metadata": {
    "colab": {
      "name": "Trabalho2.ipynb",
      "provenance": [],
      "collapsed_sections": [
        "ojRznUnKGo26"
      ]
    },
    "kernelspec": {
      "name": "python3",
      "display_name": "Python 3"
    },
    "language_info": {
      "name": "python"
    }
  },
  "cells": [
    {
      "cell_type": "markdown",
      "source": [
        "#Bibliotecas"
      ],
      "metadata": {
        "id": "UfWwCHngzZ7Q"
      }
    },
    {
      "cell_type": "code",
      "execution_count": 264,
      "metadata": {
        "id": "9TlkxIIR5mpx"
      },
      "outputs": [],
      "source": [
        "import pandas as pd\n",
        "import numpy as np\n",
        "import matplotlib.pyplot as plt\n",
        "import seaborn as sns\n",
        "from sklearn.model_selection import train_test_split\n",
        "from sklearn.linear_model import LogisticRegression\n",
        "from sklearn.metrics import accuracy_score\n",
        "from sklearn import datasets\n",
        "\n",
        "import ast\n",
        "from keras import models\n",
        "from keras import layers\n",
        "from keras import optimizers\n",
        "from datetime import datetime\n",
        "from keras import regularizers\n",
        "from collections import Counter\n",
        "from wordcloud import WordCloud\n",
        "import matplotlib.pyplot as plt\n",
        "from sklearn import preprocessing\n",
        "from sklearn.model_selection import KFold\n",
        "from sklearn.preprocessing import normalize\n",
        "from sklearn.preprocessing import LabelEncoder\n",
        "from sklearn.model_selection import train_test_split\n",
        "from keras.metrics import mean_squared_logarithmic_error\n",
        "\n",
        "plt.style.use('fivethirtyeight')"
      ]
    },
    {
      "cell_type": "markdown",
      "source": [
        "# Código"
      ],
      "metadata": {
        "id": "_M64Q9w7zhCF"
      }
    },
    {
      "cell_type": "markdown",
      "source": [
        "## Verificando os dados"
      ],
      "metadata": {
        "id": "gg83tRGXzuiV"
      }
    },
    {
      "cell_type": "code",
      "source": [
        "treino = pd.read_csv(\"./train.csv\")\n",
        "teste = pd.read_csv(\"./test.csv\")"
      ],
      "metadata": {
        "id": "KhsuN4ew8mKR"
      },
      "execution_count": 265,
      "outputs": []
    },
    {
      "cell_type": "code",
      "source": [
        "treino.head()"
      ],
      "metadata": {
        "id": "Sr1olD-R8rGk",
        "colab": {
          "base_uri": "https://localhost:8080/",
          "height": 716
        },
        "outputId": "4668c737-b2b0-4c7c-e01f-2c996f338888"
      },
      "execution_count": 266,
      "outputs": [
        {
          "output_type": "execute_result",
          "data": {
            "text/html": [
              "\n",
              "  <div id=\"df-feaa06f9-70c5-4bc3-a767-fa8bf06f99fb\">\n",
              "    <div class=\"colab-df-container\">\n",
              "      <div>\n",
              "<style scoped>\n",
              "    .dataframe tbody tr th:only-of-type {\n",
              "        vertical-align: middle;\n",
              "    }\n",
              "\n",
              "    .dataframe tbody tr th {\n",
              "        vertical-align: top;\n",
              "    }\n",
              "\n",
              "    .dataframe thead th {\n",
              "        text-align: right;\n",
              "    }\n",
              "</style>\n",
              "<table border=\"1\" class=\"dataframe\">\n",
              "  <thead>\n",
              "    <tr style=\"text-align: right;\">\n",
              "      <th></th>\n",
              "      <th>id</th>\n",
              "      <th>belongs_to_collection</th>\n",
              "      <th>budget</th>\n",
              "      <th>genres</th>\n",
              "      <th>homepage</th>\n",
              "      <th>imdb_id</th>\n",
              "      <th>original_language</th>\n",
              "      <th>original_title</th>\n",
              "      <th>overview</th>\n",
              "      <th>popularity</th>\n",
              "      <th>...</th>\n",
              "      <th>release_date</th>\n",
              "      <th>runtime</th>\n",
              "      <th>spoken_languages</th>\n",
              "      <th>status</th>\n",
              "      <th>tagline</th>\n",
              "      <th>title</th>\n",
              "      <th>Keywords</th>\n",
              "      <th>cast</th>\n",
              "      <th>crew</th>\n",
              "      <th>revenue</th>\n",
              "    </tr>\n",
              "  </thead>\n",
              "  <tbody>\n",
              "    <tr>\n",
              "      <th>0</th>\n",
              "      <td>1</td>\n",
              "      <td>[{'id': 313576, 'name': 'Hot Tub Time Machine ...</td>\n",
              "      <td>14000000</td>\n",
              "      <td>[{'id': 35, 'name': 'Comedy'}]</td>\n",
              "      <td>NaN</td>\n",
              "      <td>tt2637294</td>\n",
              "      <td>en</td>\n",
              "      <td>Hot Tub Time Machine 2</td>\n",
              "      <td>When Lou, who has become the \"father of the In...</td>\n",
              "      <td>6.575393</td>\n",
              "      <td>...</td>\n",
              "      <td>2/20/15</td>\n",
              "      <td>93.0</td>\n",
              "      <td>[{'iso_639_1': 'en', 'name': 'English'}]</td>\n",
              "      <td>Released</td>\n",
              "      <td>The Laws of Space and Time are About to be Vio...</td>\n",
              "      <td>Hot Tub Time Machine 2</td>\n",
              "      <td>[{'id': 4379, 'name': 'time travel'}, {'id': 9...</td>\n",
              "      <td>[{'cast_id': 4, 'character': 'Lou', 'credit_id...</td>\n",
              "      <td>[{'credit_id': '59ac067c92514107af02c8c8', 'de...</td>\n",
              "      <td>12314651</td>\n",
              "    </tr>\n",
              "    <tr>\n",
              "      <th>1</th>\n",
              "      <td>2</td>\n",
              "      <td>[{'id': 107674, 'name': 'The Princess Diaries ...</td>\n",
              "      <td>40000000</td>\n",
              "      <td>[{'id': 35, 'name': 'Comedy'}, {'id': 18, 'nam...</td>\n",
              "      <td>NaN</td>\n",
              "      <td>tt0368933</td>\n",
              "      <td>en</td>\n",
              "      <td>The Princess Diaries 2: Royal Engagement</td>\n",
              "      <td>Mia Thermopolis is now a college graduate and ...</td>\n",
              "      <td>8.248895</td>\n",
              "      <td>...</td>\n",
              "      <td>8/6/04</td>\n",
              "      <td>113.0</td>\n",
              "      <td>[{'iso_639_1': 'en', 'name': 'English'}]</td>\n",
              "      <td>Released</td>\n",
              "      <td>It can take a lifetime to find true love; she'...</td>\n",
              "      <td>The Princess Diaries 2: Royal Engagement</td>\n",
              "      <td>[{'id': 2505, 'name': 'coronation'}, {'id': 42...</td>\n",
              "      <td>[{'cast_id': 1, 'character': 'Mia Thermopolis'...</td>\n",
              "      <td>[{'credit_id': '52fe43fe9251416c7502563d', 'de...</td>\n",
              "      <td>95149435</td>\n",
              "    </tr>\n",
              "    <tr>\n",
              "      <th>2</th>\n",
              "      <td>3</td>\n",
              "      <td>NaN</td>\n",
              "      <td>3300000</td>\n",
              "      <td>[{'id': 18, 'name': 'Drama'}]</td>\n",
              "      <td>http://sonyclassics.com/whiplash/</td>\n",
              "      <td>tt2582802</td>\n",
              "      <td>en</td>\n",
              "      <td>Whiplash</td>\n",
              "      <td>Under the direction of a ruthless instructor, ...</td>\n",
              "      <td>64.299990</td>\n",
              "      <td>...</td>\n",
              "      <td>10/10/14</td>\n",
              "      <td>105.0</td>\n",
              "      <td>[{'iso_639_1': 'en', 'name': 'English'}]</td>\n",
              "      <td>Released</td>\n",
              "      <td>The road to greatness can take you to the edge.</td>\n",
              "      <td>Whiplash</td>\n",
              "      <td>[{'id': 1416, 'name': 'jazz'}, {'id': 1523, 'n...</td>\n",
              "      <td>[{'cast_id': 5, 'character': 'Andrew Neimann',...</td>\n",
              "      <td>[{'credit_id': '54d5356ec3a3683ba0000039', 'de...</td>\n",
              "      <td>13092000</td>\n",
              "    </tr>\n",
              "    <tr>\n",
              "      <th>3</th>\n",
              "      <td>4</td>\n",
              "      <td>NaN</td>\n",
              "      <td>1200000</td>\n",
              "      <td>[{'id': 53, 'name': 'Thriller'}, {'id': 18, 'n...</td>\n",
              "      <td>http://kahaanithefilm.com/</td>\n",
              "      <td>tt1821480</td>\n",
              "      <td>hi</td>\n",
              "      <td>Kahaani</td>\n",
              "      <td>Vidya Bagchi (Vidya Balan) arrives in Kolkata ...</td>\n",
              "      <td>3.174936</td>\n",
              "      <td>...</td>\n",
              "      <td>3/9/12</td>\n",
              "      <td>122.0</td>\n",
              "      <td>[{'iso_639_1': 'en', 'name': 'English'}, {'iso...</td>\n",
              "      <td>Released</td>\n",
              "      <td>NaN</td>\n",
              "      <td>Kahaani</td>\n",
              "      <td>[{'id': 10092, 'name': 'mystery'}, {'id': 1054...</td>\n",
              "      <td>[{'cast_id': 1, 'character': 'Vidya Bagchi', '...</td>\n",
              "      <td>[{'credit_id': '52fe48779251416c9108d6eb', 'de...</td>\n",
              "      <td>16000000</td>\n",
              "    </tr>\n",
              "    <tr>\n",
              "      <th>4</th>\n",
              "      <td>5</td>\n",
              "      <td>NaN</td>\n",
              "      <td>0</td>\n",
              "      <td>[{'id': 28, 'name': 'Action'}, {'id': 53, 'nam...</td>\n",
              "      <td>NaN</td>\n",
              "      <td>tt1380152</td>\n",
              "      <td>ko</td>\n",
              "      <td>마린보이</td>\n",
              "      <td>Marine Boy is the story of a former national s...</td>\n",
              "      <td>1.148070</td>\n",
              "      <td>...</td>\n",
              "      <td>2/5/09</td>\n",
              "      <td>118.0</td>\n",
              "      <td>[{'iso_639_1': 'ko', 'name': '한국어/조선말'}]</td>\n",
              "      <td>Released</td>\n",
              "      <td>NaN</td>\n",
              "      <td>Marine Boy</td>\n",
              "      <td>NaN</td>\n",
              "      <td>[{'cast_id': 3, 'character': 'Chun-soo', 'cred...</td>\n",
              "      <td>[{'credit_id': '52fe464b9251416c75073b43', 'de...</td>\n",
              "      <td>3923970</td>\n",
              "    </tr>\n",
              "  </tbody>\n",
              "</table>\n",
              "<p>5 rows × 23 columns</p>\n",
              "</div>\n",
              "      <button class=\"colab-df-convert\" onclick=\"convertToInteractive('df-feaa06f9-70c5-4bc3-a767-fa8bf06f99fb')\"\n",
              "              title=\"Convert this dataframe to an interactive table.\"\n",
              "              style=\"display:none;\">\n",
              "        \n",
              "  <svg xmlns=\"http://www.w3.org/2000/svg\" height=\"24px\"viewBox=\"0 0 24 24\"\n",
              "       width=\"24px\">\n",
              "    <path d=\"M0 0h24v24H0V0z\" fill=\"none\"/>\n",
              "    <path d=\"M18.56 5.44l.94 2.06.94-2.06 2.06-.94-2.06-.94-.94-2.06-.94 2.06-2.06.94zm-11 1L8.5 8.5l.94-2.06 2.06-.94-2.06-.94L8.5 2.5l-.94 2.06-2.06.94zm10 10l.94 2.06.94-2.06 2.06-.94-2.06-.94-.94-2.06-.94 2.06-2.06.94z\"/><path d=\"M17.41 7.96l-1.37-1.37c-.4-.4-.92-.59-1.43-.59-.52 0-1.04.2-1.43.59L10.3 9.45l-7.72 7.72c-.78.78-.78 2.05 0 2.83L4 21.41c.39.39.9.59 1.41.59.51 0 1.02-.2 1.41-.59l7.78-7.78 2.81-2.81c.8-.78.8-2.07 0-2.86zM5.41 20L4 18.59l7.72-7.72 1.47 1.35L5.41 20z\"/>\n",
              "  </svg>\n",
              "      </button>\n",
              "      \n",
              "  <style>\n",
              "    .colab-df-container {\n",
              "      display:flex;\n",
              "      flex-wrap:wrap;\n",
              "      gap: 12px;\n",
              "    }\n",
              "\n",
              "    .colab-df-convert {\n",
              "      background-color: #E8F0FE;\n",
              "      border: none;\n",
              "      border-radius: 50%;\n",
              "      cursor: pointer;\n",
              "      display: none;\n",
              "      fill: #1967D2;\n",
              "      height: 32px;\n",
              "      padding: 0 0 0 0;\n",
              "      width: 32px;\n",
              "    }\n",
              "\n",
              "    .colab-df-convert:hover {\n",
              "      background-color: #E2EBFA;\n",
              "      box-shadow: 0px 1px 2px rgba(60, 64, 67, 0.3), 0px 1px 3px 1px rgba(60, 64, 67, 0.15);\n",
              "      fill: #174EA6;\n",
              "    }\n",
              "\n",
              "    [theme=dark] .colab-df-convert {\n",
              "      background-color: #3B4455;\n",
              "      fill: #D2E3FC;\n",
              "    }\n",
              "\n",
              "    [theme=dark] .colab-df-convert:hover {\n",
              "      background-color: #434B5C;\n",
              "      box-shadow: 0px 1px 3px 1px rgba(0, 0, 0, 0.15);\n",
              "      filter: drop-shadow(0px 1px 2px rgba(0, 0, 0, 0.3));\n",
              "      fill: #FFFFFF;\n",
              "    }\n",
              "  </style>\n",
              "\n",
              "      <script>\n",
              "        const buttonEl =\n",
              "          document.querySelector('#df-feaa06f9-70c5-4bc3-a767-fa8bf06f99fb button.colab-df-convert');\n",
              "        buttonEl.style.display =\n",
              "          google.colab.kernel.accessAllowed ? 'block' : 'none';\n",
              "\n",
              "        async function convertToInteractive(key) {\n",
              "          const element = document.querySelector('#df-feaa06f9-70c5-4bc3-a767-fa8bf06f99fb');\n",
              "          const dataTable =\n",
              "            await google.colab.kernel.invokeFunction('convertToInteractive',\n",
              "                                                     [key], {});\n",
              "          if (!dataTable) return;\n",
              "\n",
              "          const docLinkHtml = 'Like what you see? Visit the ' +\n",
              "            '<a target=\"_blank\" href=https://colab.research.google.com/notebooks/data_table.ipynb>data table notebook</a>'\n",
              "            + ' to learn more about interactive tables.';\n",
              "          element.innerHTML = '';\n",
              "          dataTable['output_type'] = 'display_data';\n",
              "          await google.colab.output.renderOutput(dataTable, element);\n",
              "          const docLink = document.createElement('div');\n",
              "          docLink.innerHTML = docLinkHtml;\n",
              "          element.appendChild(docLink);\n",
              "        }\n",
              "      </script>\n",
              "    </div>\n",
              "  </div>\n",
              "  "
            ],
            "text/plain": [
              "   id                              belongs_to_collection    budget  \\\n",
              "0   1  [{'id': 313576, 'name': 'Hot Tub Time Machine ...  14000000   \n",
              "1   2  [{'id': 107674, 'name': 'The Princess Diaries ...  40000000   \n",
              "2   3                                                NaN   3300000   \n",
              "3   4                                                NaN   1200000   \n",
              "4   5                                                NaN         0   \n",
              "\n",
              "                                              genres  \\\n",
              "0                     [{'id': 35, 'name': 'Comedy'}]   \n",
              "1  [{'id': 35, 'name': 'Comedy'}, {'id': 18, 'nam...   \n",
              "2                      [{'id': 18, 'name': 'Drama'}]   \n",
              "3  [{'id': 53, 'name': 'Thriller'}, {'id': 18, 'n...   \n",
              "4  [{'id': 28, 'name': 'Action'}, {'id': 53, 'nam...   \n",
              "\n",
              "                            homepage    imdb_id original_language  \\\n",
              "0                                NaN  tt2637294                en   \n",
              "1                                NaN  tt0368933                en   \n",
              "2  http://sonyclassics.com/whiplash/  tt2582802                en   \n",
              "3         http://kahaanithefilm.com/  tt1821480                hi   \n",
              "4                                NaN  tt1380152                ko   \n",
              "\n",
              "                             original_title  \\\n",
              "0                    Hot Tub Time Machine 2   \n",
              "1  The Princess Diaries 2: Royal Engagement   \n",
              "2                                  Whiplash   \n",
              "3                                   Kahaani   \n",
              "4                                      마린보이   \n",
              "\n",
              "                                            overview  popularity  ...  \\\n",
              "0  When Lou, who has become the \"father of the In...    6.575393  ...   \n",
              "1  Mia Thermopolis is now a college graduate and ...    8.248895  ...   \n",
              "2  Under the direction of a ruthless instructor, ...   64.299990  ...   \n",
              "3  Vidya Bagchi (Vidya Balan) arrives in Kolkata ...    3.174936  ...   \n",
              "4  Marine Boy is the story of a former national s...    1.148070  ...   \n",
              "\n",
              "  release_date runtime                                   spoken_languages  \\\n",
              "0      2/20/15    93.0           [{'iso_639_1': 'en', 'name': 'English'}]   \n",
              "1       8/6/04   113.0           [{'iso_639_1': 'en', 'name': 'English'}]   \n",
              "2     10/10/14   105.0           [{'iso_639_1': 'en', 'name': 'English'}]   \n",
              "3       3/9/12   122.0  [{'iso_639_1': 'en', 'name': 'English'}, {'iso...   \n",
              "4       2/5/09   118.0           [{'iso_639_1': 'ko', 'name': '한국어/조선말'}]   \n",
              "\n",
              "     status                                            tagline  \\\n",
              "0  Released  The Laws of Space and Time are About to be Vio...   \n",
              "1  Released  It can take a lifetime to find true love; she'...   \n",
              "2  Released    The road to greatness can take you to the edge.   \n",
              "3  Released                                                NaN   \n",
              "4  Released                                                NaN   \n",
              "\n",
              "                                      title  \\\n",
              "0                    Hot Tub Time Machine 2   \n",
              "1  The Princess Diaries 2: Royal Engagement   \n",
              "2                                  Whiplash   \n",
              "3                                   Kahaani   \n",
              "4                                Marine Boy   \n",
              "\n",
              "                                            Keywords  \\\n",
              "0  [{'id': 4379, 'name': 'time travel'}, {'id': 9...   \n",
              "1  [{'id': 2505, 'name': 'coronation'}, {'id': 42...   \n",
              "2  [{'id': 1416, 'name': 'jazz'}, {'id': 1523, 'n...   \n",
              "3  [{'id': 10092, 'name': 'mystery'}, {'id': 1054...   \n",
              "4                                                NaN   \n",
              "\n",
              "                                                cast  \\\n",
              "0  [{'cast_id': 4, 'character': 'Lou', 'credit_id...   \n",
              "1  [{'cast_id': 1, 'character': 'Mia Thermopolis'...   \n",
              "2  [{'cast_id': 5, 'character': 'Andrew Neimann',...   \n",
              "3  [{'cast_id': 1, 'character': 'Vidya Bagchi', '...   \n",
              "4  [{'cast_id': 3, 'character': 'Chun-soo', 'cred...   \n",
              "\n",
              "                                                crew   revenue  \n",
              "0  [{'credit_id': '59ac067c92514107af02c8c8', 'de...  12314651  \n",
              "1  [{'credit_id': '52fe43fe9251416c7502563d', 'de...  95149435  \n",
              "2  [{'credit_id': '54d5356ec3a3683ba0000039', 'de...  13092000  \n",
              "3  [{'credit_id': '52fe48779251416c9108d6eb', 'de...  16000000  \n",
              "4  [{'credit_id': '52fe464b9251416c75073b43', 'de...   3923970  \n",
              "\n",
              "[5 rows x 23 columns]"
            ]
          },
          "metadata": {},
          "execution_count": 266
        }
      ]
    },
    {
      "cell_type": "markdown",
      "source": [
        "## Analisando e limpando os dados"
      ],
      "metadata": {
        "id": "y3o03tr91VY_"
      }
    },
    {
      "cell_type": "code",
      "source": [
        "#Analisando o formado dos dados\n",
        "treino.shape, teste.shape"
      ],
      "metadata": {
        "colab": {
          "base_uri": "https://localhost:8080/"
        },
        "id": "k-IrSVD1-Y5l",
        "outputId": "963ab945-ff3e-4705-d279-78c28888048c"
      },
      "execution_count": 267,
      "outputs": [
        {
          "output_type": "execute_result",
          "data": {
            "text/plain": [
              "((3000, 23), (4398, 22))"
            ]
          },
          "metadata": {},
          "execution_count": 267
        }
      ]
    },
    {
      "cell_type": "code",
      "source": [
        "#Analisando os nomes das colunas do dataframe\n",
        "list(treino.columns)"
      ],
      "metadata": {
        "colab": {
          "base_uri": "https://localhost:8080/"
        },
        "id": "jp44Yt8CeJv8",
        "outputId": "0444efdf-395e-44dd-fda8-d75611e6fef6"
      },
      "execution_count": 268,
      "outputs": [
        {
          "output_type": "execute_result",
          "data": {
            "text/plain": [
              "['id',\n",
              " 'belongs_to_collection',\n",
              " 'budget',\n",
              " 'genres',\n",
              " 'homepage',\n",
              " 'imdb_id',\n",
              " 'original_language',\n",
              " 'original_title',\n",
              " 'overview',\n",
              " 'popularity',\n",
              " 'poster_path',\n",
              " 'production_companies',\n",
              " 'production_countries',\n",
              " 'release_date',\n",
              " 'runtime',\n",
              " 'spoken_languages',\n",
              " 'status',\n",
              " 'tagline',\n",
              " 'title',\n",
              " 'Keywords',\n",
              " 'cast',\n",
              " 'crew',\n",
              " 'revenue']"
            ]
          },
          "metadata": {},
          "execution_count": 268
        }
      ]
    },
    {
      "cell_type": "code",
      "source": [
        "#Analisando os tipos de dados\n",
        "treino.dtypes"
      ],
      "metadata": {
        "colab": {
          "base_uri": "https://localhost:8080/"
        },
        "id": "0ybitQBIkfu0",
        "outputId": "c566a863-f136-4593-8576-72bd6e847fc4"
      },
      "execution_count": 269,
      "outputs": [
        {
          "output_type": "execute_result",
          "data": {
            "text/plain": [
              "id                         int64\n",
              "belongs_to_collection     object\n",
              "budget                     int64\n",
              "genres                    object\n",
              "homepage                  object\n",
              "imdb_id                   object\n",
              "original_language         object\n",
              "original_title            object\n",
              "overview                  object\n",
              "popularity               float64\n",
              "poster_path               object\n",
              "production_companies      object\n",
              "production_countries      object\n",
              "release_date              object\n",
              "runtime                  float64\n",
              "spoken_languages          object\n",
              "status                    object\n",
              "tagline                   object\n",
              "title                     object\n",
              "Keywords                  object\n",
              "cast                      object\n",
              "crew                      object\n",
              "revenue                    int64\n",
              "dtype: object"
            ]
          },
          "metadata": {},
          "execution_count": 269
        }
      ]
    },
    {
      "cell_type": "code",
      "source": [
        "#Alisando se há algum valor nulo\n",
        "treino.isna().any()"
      ],
      "metadata": {
        "colab": {
          "base_uri": "https://localhost:8080/"
        },
        "id": "G2DQe516mmJ7",
        "outputId": "3f3fe3e8-2ff0-4324-f4c2-80fdefa8d80c"
      },
      "execution_count": 270,
      "outputs": [
        {
          "output_type": "execute_result",
          "data": {
            "text/plain": [
              "id                       False\n",
              "belongs_to_collection     True\n",
              "budget                   False\n",
              "genres                    True\n",
              "homepage                  True\n",
              "imdb_id                  False\n",
              "original_language        False\n",
              "original_title           False\n",
              "overview                  True\n",
              "popularity               False\n",
              "poster_path               True\n",
              "production_companies      True\n",
              "production_countries      True\n",
              "release_date             False\n",
              "runtime                   True\n",
              "spoken_languages          True\n",
              "status                   False\n",
              "tagline                   True\n",
              "title                    False\n",
              "Keywords                  True\n",
              "cast                      True\n",
              "crew                      True\n",
              "revenue                  False\n",
              "dtype: bool"
            ]
          },
          "metadata": {},
          "execution_count": 270
        }
      ]
    },
    {
      "cell_type": "code",
      "source": [
        "#Analisando a quantidade de dados nulos\n",
        "treino.isna().sum()"
      ],
      "metadata": {
        "colab": {
          "base_uri": "https://localhost:8080/"
        },
        "id": "ZnJLf5HknPgr",
        "outputId": "23209558-561b-471c-9df7-75eac80e4303"
      },
      "execution_count": 271,
      "outputs": [
        {
          "output_type": "execute_result",
          "data": {
            "text/plain": [
              "id                          0\n",
              "belongs_to_collection    2396\n",
              "budget                      0\n",
              "genres                      7\n",
              "homepage                 2054\n",
              "imdb_id                     0\n",
              "original_language           0\n",
              "original_title              0\n",
              "overview                    8\n",
              "popularity                  0\n",
              "poster_path                 1\n",
              "production_companies      156\n",
              "production_countries       55\n",
              "release_date                0\n",
              "runtime                     2\n",
              "spoken_languages           20\n",
              "status                      0\n",
              "tagline                   597\n",
              "title                       0\n",
              "Keywords                  276\n",
              "cast                       13\n",
              "crew                       16\n",
              "revenue                     0\n",
              "dtype: int64"
            ]
          },
          "metadata": {},
          "execution_count": 271
        }
      ]
    },
    {
      "cell_type": "code",
      "source": [
        "#Conferindo se hé dados duplicado\n",
        "treino.duplicated().sum()"
      ],
      "metadata": {
        "colab": {
          "base_uri": "https://localhost:8080/"
        },
        "id": "Hxiof-ghtbi_",
        "outputId": "d996f295-8421-4e76-d960-b679bd85f6b7"
      },
      "execution_count": 272,
      "outputs": [
        {
          "output_type": "execute_result",
          "data": {
            "text/plain": [
              "0"
            ]
          },
          "metadata": {},
          "execution_count": 272
        }
      ]
    },
    {
      "cell_type": "code",
      "source": [
        "#excluir belongs_to_collection, tagline, Keyword, crew"
      ],
      "metadata": {
        "id": "pifhcuiwK9LJ"
      },
      "execution_count": 273,
      "outputs": []
    },
    {
      "cell_type": "code",
      "source": [
        "#Retirando algumas linhas com dados faltantes\n",
        "treino.dropna(axis=0, subset=['genres', 'overview','poster_path','production_countries', 'runtime','spoken_languages', 'cast', 'crew'],inplace = True)"
      ],
      "metadata": {
        "id": "xrJ5GL7hecv8"
      },
      "execution_count": 274,
      "outputs": []
    },
    {
      "cell_type": "code",
      "source": [
        "#Conferindo as mudanças\n",
        "treino.shape"
      ],
      "metadata": {
        "colab": {
          "base_uri": "https://localhost:8080/"
        },
        "id": "FdLZIS6yHp3Z",
        "outputId": "b3322773-c5fa-46a2-aa7c-406089d884c3"
      },
      "execution_count": 275,
      "outputs": [
        {
          "output_type": "execute_result",
          "data": {
            "text/plain": [
              "(2911, 23)"
            ]
          },
          "metadata": {},
          "execution_count": 275
        }
      ]
    },
    {
      "cell_type": "code",
      "source": [
        "#Conferindo o que havia na coluna de homepage\n",
        "treino['homepage'].value_counts()"
      ],
      "metadata": {
        "colab": {
          "base_uri": "https://localhost:8080/"
        },
        "id": "gXeRvVxEAU4e",
        "outputId": "6948e56b-85d9-4c33-fd74-e24d52457796"
      },
      "execution_count": 276,
      "outputs": [
        {
          "output_type": "execute_result",
          "data": {
            "text/plain": [
              "http://www.transformersmovie.com/           4\n",
              "http://www.thehobbit.com/                   2\n",
              "http://www.lordoftherings.net/              2\n",
              "http://sonyclassics.com/whiplash/           1\n",
              "http://sh-sh.ru/                            1\n",
              "                                           ..\n",
              "http://admiralfilm.ru/                      1\n",
              "http://www.jackreachermovie.com/            1\n",
              "http://www.sleepdealer.com/                 1\n",
              "http://www.popperspenguins.com/main.html    1\n",
              "http://www.abductionthefilm.com/            1\n",
              "Name: homepage, Length: 922, dtype: int64"
            ]
          },
          "metadata": {},
          "execution_count": 276
        }
      ]
    },
    {
      "cell_type": "code",
      "source": [
        "#Conferindo o que havia na coluna de id do IMDB\n",
        "treino['imdb_id'].value_counts()"
      ],
      "metadata": {
        "colab": {
          "base_uri": "https://localhost:8080/"
        },
        "id": "Fho6NrXgHUOg",
        "outputId": "e7f62369-ba99-4a9e-81cb-5e52a2b52f64"
      },
      "execution_count": 277,
      "outputs": [
        {
          "output_type": "execute_result",
          "data": {
            "text/plain": [
              "tt2637294    1\n",
              "tt0095271    1\n",
              "tt1821317    1\n",
              "tt3139086    1\n",
              "tt0116830    1\n",
              "            ..\n",
              "tt0101775    1\n",
              "tt2720680    1\n",
              "tt0114681    1\n",
              "tt0369672    1\n",
              "tt1600195    1\n",
              "Name: imdb_id, Length: 2911, dtype: int64"
            ]
          },
          "metadata": {},
          "execution_count": 277
        }
      ]
    },
    {
      "cell_type": "code",
      "source": [
        "#Conferindo o que havia na coluna de sinopse\n",
        "treino['overview'].value_counts()"
      ],
      "metadata": {
        "id": "N9hJCBxOIQ6t",
        "colab": {
          "base_uri": "https://localhost:8080/"
        },
        "outputId": "fc9f5df6-f3eb-4d38-aa15-4a27e0197a4f"
      },
      "execution_count": 278,
      "outputs": [
        {
          "output_type": "execute_result",
          "data": {
            "text/plain": [
              "When Lou, who has become the \"father of the Internet,\" is shot by an unknown assailant, Jacob and Nick fire up the time machine again to save their friend.                                                                                                                                                                                                                                                                                                                                                                                                                                                                                                                                                                                         1\n",
              "The legend of that creepy masked-man, Michael Myers, comes to life once again in this fourth installment of the successful horror franchise. This time, it's Michael's niece, Jamie, who can't seem to escape her crazy uncle. With Michael on the loose, Jamie enlists the help of good old Dr. Loomis to stop the murderer. This time, though, there seems to be no end to Michael's madness.                                                                                                                                                                                                                                                                                                                                                     1\n",
              "The movie is set in the backdrop of a town, where Rooster fights are common. Pettaikaaran and Rathnaswamy, a cop are tough competitors in these games and it is often Pettai who wins due to the fact that nobody knows his way of maintaining the quality of the birds. Karuppu (Dhanush) and Durai (Kishore) are also in Pettaikaran's team. Rathnasamy keeps insisting on having one last fight to win and satisfy his old mother‚Äôs wish but Pettaikaran declines to have any more fights with him because he feels Rathnasamy has lost faith in his roosters and will be using nefarious methods to win. Rathnasamy keeps insisting and tries to make him accept the challenge through cajoling, threatening, bribing and other vile acts.    1\n",
              "Based on the hit video game series, Batman must find a bomb planted by the Joker while dealing with a mysterious team of villains called, The Suicide Squad.                                                                                                                                                                                                                                                                                                                                                                                                                                                                                                                                                                                        1\n",
              "John Smith is a mysterious stranger who is drawn into a vicious war between two Prohibition-era gangs. In a dangerous game, he switches allegiances from one to another, offering his services to the highest bidder. As the death toll mounts, Smith takes the law into his own hands in a deadly race to stay alive.                                                                                                                                                                                                                                                                                                                                                                                                                              1\n",
              "                                                                                                                                                                                                                                                                                                                                                                                                                                                                                                                                                                                                                                                                                                                                                   ..\n",
              "When Elizabeth returns to her mother's home after her marriage breaks up, she recreates her imaginary childhood friend, Fred, to escape from the trauma of losing her husband and her job. In between the chaos and mayhem that Fred creates, Elizabeth attempts to win back her husband and return to normality.                                                                                                                                                                                                                                                                                                                                                                                                                                   1\n",
              "In 1870s America, a peaceful American settler kills his family's murderer which unleashes the fury of a notorious gang leader. His cowardly fellow townspeople then betray him, forcing him to hunt down the outlaws alone.                                                                                                                                                                                                                                                                                                                                                                                                                                                                                                                         1\n",
              "Susan wants to work in television and will therefore do anything it takes, even if it means killing her husband. A very dark comedy from independent director Gus Van Sant with a brilliant Nicole Kidman in the leading role.                                                                                                                                                                                                                                                                                                                                                                                                                                                                                                                      1\n",
              "A headstrong young woman returns to New Orleans after the death of her estranged mother.                                                                                                                                                                                                                                                                                                                                                                                                                                                                                                                                                                                                                                                            1\n",
              "A young man sets out to uncover the truth about his life after finding his baby photo on a missing persons website.                                                                                                                                                                                                                                                                                                                                                                                                                                                                                                                                                                                                                                 1\n",
              "Name: overview, Length: 2911, dtype: int64"
            ]
          },
          "metadata": {},
          "execution_count": 278
        }
      ]
    },
    {
      "cell_type": "code",
      "source": [
        "#Conferindo o que havia na coluna de poster\n",
        "treino['popularity'].value_counts()"
      ],
      "metadata": {
        "id": "hljHzxqUImMg",
        "colab": {
          "base_uri": "https://localhost:8080/"
        },
        "outputId": "b7930726-84d8-43ec-b995-13b1a2c8147f"
      },
      "execution_count": 279,
      "outputs": [
        {
          "output_type": "execute_result",
          "data": {
            "text/plain": [
              "0.318437     2\n",
              "6.575393     1\n",
              "8.500628     1\n",
              "6.095500     1\n",
              "11.845918    1\n",
              "            ..\n",
              "7.881010     1\n",
              "8.253705     1\n",
              "10.448481    1\n",
              "5.185771     1\n",
              "10.512109    1\n",
              "Name: popularity, Length: 2910, dtype: int64"
            ]
          },
          "metadata": {},
          "execution_count": 279
        }
      ]
    },
    {
      "cell_type": "code",
      "source": [
        "#Conferindo melhor o que havia na coluna de popularidade\n",
        "treino.sort_values(by='popularity',ascending=False)"
      ],
      "metadata": {
        "id": "dnXb0O8OJHhE",
        "colab": {
          "base_uri": "https://localhost:8080/",
          "height": 1000
        },
        "outputId": "8bf00d47-b6dd-41c4-e734-d12e9b945c24"
      },
      "execution_count": 280,
      "outputs": [
        {
          "output_type": "execute_result",
          "data": {
            "text/html": [
              "\n",
              "  <div id=\"df-bfa9226a-b43e-4e36-b06a-91bec740e824\">\n",
              "    <div class=\"colab-df-container\">\n",
              "      <div>\n",
              "<style scoped>\n",
              "    .dataframe tbody tr th:only-of-type {\n",
              "        vertical-align: middle;\n",
              "    }\n",
              "\n",
              "    .dataframe tbody tr th {\n",
              "        vertical-align: top;\n",
              "    }\n",
              "\n",
              "    .dataframe thead th {\n",
              "        text-align: right;\n",
              "    }\n",
              "</style>\n",
              "<table border=\"1\" class=\"dataframe\">\n",
              "  <thead>\n",
              "    <tr style=\"text-align: right;\">\n",
              "      <th></th>\n",
              "      <th>id</th>\n",
              "      <th>belongs_to_collection</th>\n",
              "      <th>budget</th>\n",
              "      <th>genres</th>\n",
              "      <th>homepage</th>\n",
              "      <th>imdb_id</th>\n",
              "      <th>original_language</th>\n",
              "      <th>original_title</th>\n",
              "      <th>overview</th>\n",
              "      <th>popularity</th>\n",
              "      <th>...</th>\n",
              "      <th>release_date</th>\n",
              "      <th>runtime</th>\n",
              "      <th>spoken_languages</th>\n",
              "      <th>status</th>\n",
              "      <th>tagline</th>\n",
              "      <th>title</th>\n",
              "      <th>Keywords</th>\n",
              "      <th>cast</th>\n",
              "      <th>crew</th>\n",
              "      <th>revenue</th>\n",
              "    </tr>\n",
              "  </thead>\n",
              "  <tbody>\n",
              "    <tr>\n",
              "      <th>684</th>\n",
              "      <td>685</td>\n",
              "      <td>NaN</td>\n",
              "      <td>160000000</td>\n",
              "      <td>[{'id': 10751, 'name': 'Family'}, {'id': 14, '...</td>\n",
              "      <td>http://movies.disney.com/beauty-and-the-beast-...</td>\n",
              "      <td>tt2771200</td>\n",
              "      <td>en</td>\n",
              "      <td>Beauty and the Beast</td>\n",
              "      <td>A live-action adaptation of Disney's version o...</td>\n",
              "      <td>287.253654</td>\n",
              "      <td>...</td>\n",
              "      <td>3/16/17</td>\n",
              "      <td>129.0</td>\n",
              "      <td>[{'iso_639_1': 'en', 'name': 'English'}]</td>\n",
              "      <td>Released</td>\n",
              "      <td>Be our guest.</td>\n",
              "      <td>Beauty and the Beast</td>\n",
              "      <td>[{'id': 254, 'name': 'france'}, {'id': 2343, '...</td>\n",
              "      <td>[{'cast_id': 174, 'character': 'Belle', 'credi...</td>\n",
              "      <td>[{'credit_id': '551879bec3a3681f840004eb', 'de...</td>\n",
              "      <td>1262886337</td>\n",
              "    </tr>\n",
              "    <tr>\n",
              "      <th>1695</th>\n",
              "      <td>1696</td>\n",
              "      <td>NaN</td>\n",
              "      <td>34000000</td>\n",
              "      <td>[{'id': 28, 'name': 'Action'}, {'id': 80, 'nam...</td>\n",
              "      <td>NaN</td>\n",
              "      <td>tt3890160</td>\n",
              "      <td>en</td>\n",
              "      <td>Baby Driver</td>\n",
              "      <td>After being coerced into working for a crime b...</td>\n",
              "      <td>228.032744</td>\n",
              "      <td>...</td>\n",
              "      <td>6/28/17</td>\n",
              "      <td>113.0</td>\n",
              "      <td>[{'iso_639_1': 'en', 'name': 'English'}]</td>\n",
              "      <td>Released</td>\n",
              "      <td>All you need is one killer track.</td>\n",
              "      <td>Baby Driver</td>\n",
              "      <td>[{'id': 642, 'name': 'robbery'}, {'id': 2076, ...</td>\n",
              "      <td>[{'cast_id': 9, 'character': 'Baby', 'credit_i...</td>\n",
              "      <td>[{'credit_id': '55c58c009251417a21000e5d', 'de...</td>\n",
              "      <td>224511319</td>\n",
              "    </tr>\n",
              "    <tr>\n",
              "      <th>2326</th>\n",
              "      <td>2327</td>\n",
              "      <td>[{'id': 448150, 'name': 'Deadpool Collection',...</td>\n",
              "      <td>58000000</td>\n",
              "      <td>[{'id': 28, 'name': 'Action'}, {'id': 12, 'nam...</td>\n",
              "      <td>http://www.foxmovies.com/movies/deadpool</td>\n",
              "      <td>tt1431045</td>\n",
              "      <td>en</td>\n",
              "      <td>Deadpool</td>\n",
              "      <td>Deadpool tells the origin story of former Spec...</td>\n",
              "      <td>187.860492</td>\n",
              "      <td>...</td>\n",
              "      <td>2/9/16</td>\n",
              "      <td>108.0</td>\n",
              "      <td>[{'iso_639_1': 'en', 'name': 'English'}]</td>\n",
              "      <td>Released</td>\n",
              "      <td>Witness the beginning of a happy ending</td>\n",
              "      <td>Deadpool</td>\n",
              "      <td>[{'id': 2095, 'name': 'anti hero'}, {'id': 307...</td>\n",
              "      <td>[{'cast_id': 99, 'character': 'Wade Wilson / D...</td>\n",
              "      <td>[{'credit_id': '57e564fac3a3681beb0000cc', 'de...</td>\n",
              "      <td>783112979</td>\n",
              "    </tr>\n",
              "    <tr>\n",
              "      <th>2126</th>\n",
              "      <td>2127</td>\n",
              "      <td>[{'id': 284433, 'name': 'Guardians of the Gala...</td>\n",
              "      <td>200000000</td>\n",
              "      <td>[{'id': 28, 'name': 'Action'}, {'id': 12, 'nam...</td>\n",
              "      <td>http://marvel.com/movies/movie/221/guardians_o...</td>\n",
              "      <td>tt3896198</td>\n",
              "      <td>en</td>\n",
              "      <td>Guardians of the Galaxy Vol. 2</td>\n",
              "      <td>The Guardians must fight to keep their newfoun...</td>\n",
              "      <td>185.330992</td>\n",
              "      <td>...</td>\n",
              "      <td>4/19/17</td>\n",
              "      <td>137.0</td>\n",
              "      <td>[{'iso_639_1': 'en', 'name': 'English'}]</td>\n",
              "      <td>Released</td>\n",
              "      <td>Obviously.</td>\n",
              "      <td>Guardians of the Galaxy Vol. 2</td>\n",
              "      <td>[{'id': 9663, 'name': 'sequel'}, {'id': 9715, ...</td>\n",
              "      <td>[{'cast_id': 3, 'character': 'Peter Quill / St...</td>\n",
              "      <td>[{'credit_id': '59171547925141583c0315a6', 'de...</td>\n",
              "      <td>863416141</td>\n",
              "    </tr>\n",
              "    <tr>\n",
              "      <th>1309</th>\n",
              "      <td>1310</td>\n",
              "      <td>NaN</td>\n",
              "      <td>61000000</td>\n",
              "      <td>[{'id': 9648, 'name': 'Mystery'}, {'id': 53, '...</td>\n",
              "      <td>http://www.gonegirlmovie.com/</td>\n",
              "      <td>tt2267998</td>\n",
              "      <td>en</td>\n",
              "      <td>Gone Girl</td>\n",
              "      <td>With his wife's disappearance having become th...</td>\n",
              "      <td>154.801009</td>\n",
              "      <td>...</td>\n",
              "      <td>10/1/14</td>\n",
              "      <td>145.0</td>\n",
              "      <td>[{'iso_639_1': 'en', 'name': 'English'}]</td>\n",
              "      <td>Released</td>\n",
              "      <td>You don't know what you've got 'til it's...</td>\n",
              "      <td>Gone Girl</td>\n",
              "      <td>[{'id': 818, 'name': 'based on novel'}, {'id':...</td>\n",
              "      <td>[{'cast_id': 7, 'character': 'Nick Dunne', 'cr...</td>\n",
              "      <td>[{'credit_id': '52fe4d7fc3a368484e1ec741', 'de...</td>\n",
              "      <td>369330363</td>\n",
              "    </tr>\n",
              "    <tr>\n",
              "      <th>...</th>\n",
              "      <td>...</td>\n",
              "      <td>...</td>\n",
              "      <td>...</td>\n",
              "      <td>...</td>\n",
              "      <td>...</td>\n",
              "      <td>...</td>\n",
              "      <td>...</td>\n",
              "      <td>...</td>\n",
              "      <td>...</td>\n",
              "      <td>...</td>\n",
              "      <td>...</td>\n",
              "      <td>...</td>\n",
              "      <td>...</td>\n",
              "      <td>...</td>\n",
              "      <td>...</td>\n",
              "      <td>...</td>\n",
              "      <td>...</td>\n",
              "      <td>...</td>\n",
              "      <td>...</td>\n",
              "      <td>...</td>\n",
              "      <td>...</td>\n",
              "    </tr>\n",
              "    <tr>\n",
              "      <th>862</th>\n",
              "      <td>863</td>\n",
              "      <td>NaN</td>\n",
              "      <td>0</td>\n",
              "      <td>[{'id': 99, 'name': 'Documentary'}]</td>\n",
              "      <td>NaN</td>\n",
              "      <td>tt1638979</td>\n",
              "      <td>en</td>\n",
              "      <td>Hey, Boo: Harper Lee &amp; To Kill a Mockingbird</td>\n",
              "      <td>Hey, Boo explores the life of reclusive author...</td>\n",
              "      <td>0.007294</td>\n",
              "      <td>...</td>\n",
              "      <td>5/13/11</td>\n",
              "      <td>82.0</td>\n",
              "      <td>[{'iso_639_1': 'en', 'name': 'English'}]</td>\n",
              "      <td>Released</td>\n",
              "      <td>The untold story behind a great American novel</td>\n",
              "      <td>Hey, Boo: Harper Lee &amp; To Kill a Mockingbird</td>\n",
              "      <td>[{'id': 187056, 'name': 'woman director'}]</td>\n",
              "      <td>[{'cast_id': 3, 'character': 'Herself', 'credi...</td>\n",
              "      <td>[{'credit_id': '52fe4810c3a368484e0e792f', 'de...</td>\n",
              "      <td>26488</td>\n",
              "    </tr>\n",
              "    <tr>\n",
              "      <th>1800</th>\n",
              "      <td>1801</td>\n",
              "      <td>NaN</td>\n",
              "      <td>5</td>\n",
              "      <td>[{'id': 18, 'name': 'Drama'}, {'id': 35, 'name...</td>\n",
              "      <td>NaN</td>\n",
              "      <td>tt0144134</td>\n",
              "      <td>en</td>\n",
              "      <td>The Cherry Orchard</td>\n",
              "      <td>Madame Ranevskaya (Rampling) is a spoiled agin...</td>\n",
              "      <td>0.001880</td>\n",
              "      <td>...</td>\n",
              "      <td>1/1/99</td>\n",
              "      <td>141.0</td>\n",
              "      <td>[{'iso_639_1': 'en', 'name': 'English'}, {'iso...</td>\n",
              "      <td>Released</td>\n",
              "      <td>NaN</td>\n",
              "      <td>The Cherry Orchard</td>\n",
              "      <td>NaN</td>\n",
              "      <td>[]</td>\n",
              "      <td>[{'credit_id': '52fe471bc3a36847f8123c13', 'de...</td>\n",
              "      <td>135</td>\n",
              "    </tr>\n",
              "    <tr>\n",
              "      <th>773</th>\n",
              "      <td>774</td>\n",
              "      <td>NaN</td>\n",
              "      <td>0</td>\n",
              "      <td>[{'id': 99, 'name': 'Documentary'}]</td>\n",
              "      <td>NaN</td>\n",
              "      <td>tt0264802</td>\n",
              "      <td>en</td>\n",
              "      <td>Live Nude Girls Unite!</td>\n",
              "      <td>Documentary look at the 1996-97 effort of the ...</td>\n",
              "      <td>0.001272</td>\n",
              "      <td>...</td>\n",
              "      <td>10/6/00</td>\n",
              "      <td>75.0</td>\n",
              "      <td>[{'iso_639_1': 'en', 'name': 'English'}]</td>\n",
              "      <td>Released</td>\n",
              "      <td>NaN</td>\n",
              "      <td>Live Nude Girls Unite!</td>\n",
              "      <td>[{'id': 582, 'name': 'san francisco'}, {'id': ...</td>\n",
              "      <td>[]</td>\n",
              "      <td>[{'credit_id': '52fe4a249251416c750df26b', 'de...</td>\n",
              "      <td>48752</td>\n",
              "    </tr>\n",
              "    <tr>\n",
              "      <th>741</th>\n",
              "      <td>742</td>\n",
              "      <td>NaN</td>\n",
              "      <td>0</td>\n",
              "      <td>[{'id': 10751, 'name': 'Family'}, {'id': 878, ...</td>\n",
              "      <td>NaN</td>\n",
              "      <td>tt0101343</td>\n",
              "      <td>en</td>\n",
              "      <td>And You Thought Your Parents Were Weird</td>\n",
              "      <td>Two boys follow in their late fathers foot ste...</td>\n",
              "      <td>0.000578</td>\n",
              "      <td>...</td>\n",
              "      <td>11/15/91</td>\n",
              "      <td>92.0</td>\n",
              "      <td>[{'iso_639_1': 'en', 'name': 'English'}]</td>\n",
              "      <td>Released</td>\n",
              "      <td>NaN</td>\n",
              "      <td>And You Thought Your Parents Were Weird!</td>\n",
              "      <td>[{'id': 5202, 'name': 'boy'}, {'id': 13130, 'n...</td>\n",
              "      <td>[{'cast_id': 3, 'character': 'Sarah Carson', '...</td>\n",
              "      <td>[{'credit_id': '52fe4978c3a368484e12ce53', 'de...</td>\n",
              "      <td>402539</td>\n",
              "    </tr>\n",
              "    <tr>\n",
              "      <th>2556</th>\n",
              "      <td>2557</td>\n",
              "      <td>NaN</td>\n",
              "      <td>0</td>\n",
              "      <td>[{'id': 99, 'name': 'Documentary'}, {'id': 18,...</td>\n",
              "      <td>NaN</td>\n",
              "      <td>tt0094743</td>\n",
              "      <td>en</td>\n",
              "      <td>Big Time</td>\n",
              "      <td>Bringing his unique sense of humor to this biz...</td>\n",
              "      <td>0.000001</td>\n",
              "      <td>...</td>\n",
              "      <td>9/15/88</td>\n",
              "      <td>87.0</td>\n",
              "      <td>[{'iso_639_1': 'en', 'name': 'English'}]</td>\n",
              "      <td>Released</td>\n",
              "      <td>The concert was \"the best live performance of ...</td>\n",
              "      <td>Big Time</td>\n",
              "      <td>[{'id': 10183, 'name': 'independent film'}]</td>\n",
              "      <td>[{'cast_id': 1, 'character': '', 'credit_id': ...</td>\n",
              "      <td>[{'credit_id': '5654795892514170210042e6', 'de...</td>\n",
              "      <td>148426</td>\n",
              "    </tr>\n",
              "  </tbody>\n",
              "</table>\n",
              "<p>2911 rows × 23 columns</p>\n",
              "</div>\n",
              "      <button class=\"colab-df-convert\" onclick=\"convertToInteractive('df-bfa9226a-b43e-4e36-b06a-91bec740e824')\"\n",
              "              title=\"Convert this dataframe to an interactive table.\"\n",
              "              style=\"display:none;\">\n",
              "        \n",
              "  <svg xmlns=\"http://www.w3.org/2000/svg\" height=\"24px\"viewBox=\"0 0 24 24\"\n",
              "       width=\"24px\">\n",
              "    <path d=\"M0 0h24v24H0V0z\" fill=\"none\"/>\n",
              "    <path d=\"M18.56 5.44l.94 2.06.94-2.06 2.06-.94-2.06-.94-.94-2.06-.94 2.06-2.06.94zm-11 1L8.5 8.5l.94-2.06 2.06-.94-2.06-.94L8.5 2.5l-.94 2.06-2.06.94zm10 10l.94 2.06.94-2.06 2.06-.94-2.06-.94-.94-2.06-.94 2.06-2.06.94z\"/><path d=\"M17.41 7.96l-1.37-1.37c-.4-.4-.92-.59-1.43-.59-.52 0-1.04.2-1.43.59L10.3 9.45l-7.72 7.72c-.78.78-.78 2.05 0 2.83L4 21.41c.39.39.9.59 1.41.59.51 0 1.02-.2 1.41-.59l7.78-7.78 2.81-2.81c.8-.78.8-2.07 0-2.86zM5.41 20L4 18.59l7.72-7.72 1.47 1.35L5.41 20z\"/>\n",
              "  </svg>\n",
              "      </button>\n",
              "      \n",
              "  <style>\n",
              "    .colab-df-container {\n",
              "      display:flex;\n",
              "      flex-wrap:wrap;\n",
              "      gap: 12px;\n",
              "    }\n",
              "\n",
              "    .colab-df-convert {\n",
              "      background-color: #E8F0FE;\n",
              "      border: none;\n",
              "      border-radius: 50%;\n",
              "      cursor: pointer;\n",
              "      display: none;\n",
              "      fill: #1967D2;\n",
              "      height: 32px;\n",
              "      padding: 0 0 0 0;\n",
              "      width: 32px;\n",
              "    }\n",
              "\n",
              "    .colab-df-convert:hover {\n",
              "      background-color: #E2EBFA;\n",
              "      box-shadow: 0px 1px 2px rgba(60, 64, 67, 0.3), 0px 1px 3px 1px rgba(60, 64, 67, 0.15);\n",
              "      fill: #174EA6;\n",
              "    }\n",
              "\n",
              "    [theme=dark] .colab-df-convert {\n",
              "      background-color: #3B4455;\n",
              "      fill: #D2E3FC;\n",
              "    }\n",
              "\n",
              "    [theme=dark] .colab-df-convert:hover {\n",
              "      background-color: #434B5C;\n",
              "      box-shadow: 0px 1px 3px 1px rgba(0, 0, 0, 0.15);\n",
              "      filter: drop-shadow(0px 1px 2px rgba(0, 0, 0, 0.3));\n",
              "      fill: #FFFFFF;\n",
              "    }\n",
              "  </style>\n",
              "\n",
              "      <script>\n",
              "        const buttonEl =\n",
              "          document.querySelector('#df-bfa9226a-b43e-4e36-b06a-91bec740e824 button.colab-df-convert');\n",
              "        buttonEl.style.display =\n",
              "          google.colab.kernel.accessAllowed ? 'block' : 'none';\n",
              "\n",
              "        async function convertToInteractive(key) {\n",
              "          const element = document.querySelector('#df-bfa9226a-b43e-4e36-b06a-91bec740e824');\n",
              "          const dataTable =\n",
              "            await google.colab.kernel.invokeFunction('convertToInteractive',\n",
              "                                                     [key], {});\n",
              "          if (!dataTable) return;\n",
              "\n",
              "          const docLinkHtml = 'Like what you see? Visit the ' +\n",
              "            '<a target=\"_blank\" href=https://colab.research.google.com/notebooks/data_table.ipynb>data table notebook</a>'\n",
              "            + ' to learn more about interactive tables.';\n",
              "          element.innerHTML = '';\n",
              "          dataTable['output_type'] = 'display_data';\n",
              "          await google.colab.output.renderOutput(dataTable, element);\n",
              "          const docLink = document.createElement('div');\n",
              "          docLink.innerHTML = docLinkHtml;\n",
              "          element.appendChild(docLink);\n",
              "        }\n",
              "      </script>\n",
              "    </div>\n",
              "  </div>\n",
              "  "
            ],
            "text/plain": [
              "        id                              belongs_to_collection     budget  \\\n",
              "684    685                                                NaN  160000000   \n",
              "1695  1696                                                NaN   34000000   \n",
              "2326  2327  [{'id': 448150, 'name': 'Deadpool Collection',...   58000000   \n",
              "2126  2127  [{'id': 284433, 'name': 'Guardians of the Gala...  200000000   \n",
              "1309  1310                                                NaN   61000000   \n",
              "...    ...                                                ...        ...   \n",
              "862    863                                                NaN          0   \n",
              "1800  1801                                                NaN          5   \n",
              "773    774                                                NaN          0   \n",
              "741    742                                                NaN          0   \n",
              "2556  2557                                                NaN          0   \n",
              "\n",
              "                                                 genres  \\\n",
              "684   [{'id': 10751, 'name': 'Family'}, {'id': 14, '...   \n",
              "1695  [{'id': 28, 'name': 'Action'}, {'id': 80, 'nam...   \n",
              "2326  [{'id': 28, 'name': 'Action'}, {'id': 12, 'nam...   \n",
              "2126  [{'id': 28, 'name': 'Action'}, {'id': 12, 'nam...   \n",
              "1309  [{'id': 9648, 'name': 'Mystery'}, {'id': 53, '...   \n",
              "...                                                 ...   \n",
              "862                 [{'id': 99, 'name': 'Documentary'}]   \n",
              "1800  [{'id': 18, 'name': 'Drama'}, {'id': 35, 'name...   \n",
              "773                 [{'id': 99, 'name': 'Documentary'}]   \n",
              "741   [{'id': 10751, 'name': 'Family'}, {'id': 878, ...   \n",
              "2556  [{'id': 99, 'name': 'Documentary'}, {'id': 18,...   \n",
              "\n",
              "                                               homepage    imdb_id  \\\n",
              "684   http://movies.disney.com/beauty-and-the-beast-...  tt2771200   \n",
              "1695                                                NaN  tt3890160   \n",
              "2326           http://www.foxmovies.com/movies/deadpool  tt1431045   \n",
              "2126  http://marvel.com/movies/movie/221/guardians_o...  tt3896198   \n",
              "1309                      http://www.gonegirlmovie.com/  tt2267998   \n",
              "...                                                 ...        ...   \n",
              "862                                                 NaN  tt1638979   \n",
              "1800                                                NaN  tt0144134   \n",
              "773                                                 NaN  tt0264802   \n",
              "741                                                 NaN  tt0101343   \n",
              "2556                                                NaN  tt0094743   \n",
              "\n",
              "     original_language                                original_title  \\\n",
              "684                 en                          Beauty and the Beast   \n",
              "1695                en                                   Baby Driver   \n",
              "2326                en                                      Deadpool   \n",
              "2126                en                Guardians of the Galaxy Vol. 2   \n",
              "1309                en                                     Gone Girl   \n",
              "...                ...                                           ...   \n",
              "862                 en  Hey, Boo: Harper Lee & To Kill a Mockingbird   \n",
              "1800                en                            The Cherry Orchard   \n",
              "773                 en                        Live Nude Girls Unite!   \n",
              "741                 en       And You Thought Your Parents Were Weird   \n",
              "2556                en                                      Big Time   \n",
              "\n",
              "                                               overview  popularity  ...  \\\n",
              "684   A live-action adaptation of Disney's version o...  287.253654  ...   \n",
              "1695  After being coerced into working for a crime b...  228.032744  ...   \n",
              "2326  Deadpool tells the origin story of former Spec...  187.860492  ...   \n",
              "2126  The Guardians must fight to keep their newfoun...  185.330992  ...   \n",
              "1309  With his wife's disappearance having become th...  154.801009  ...   \n",
              "...                                                 ...         ...  ...   \n",
              "862   Hey, Boo explores the life of reclusive author...    0.007294  ...   \n",
              "1800  Madame Ranevskaya (Rampling) is a spoiled agin...    0.001880  ...   \n",
              "773   Documentary look at the 1996-97 effort of the ...    0.001272  ...   \n",
              "741   Two boys follow in their late fathers foot ste...    0.000578  ...   \n",
              "2556  Bringing his unique sense of humor to this biz...    0.000001  ...   \n",
              "\n",
              "     release_date runtime                                   spoken_languages  \\\n",
              "684       3/16/17   129.0           [{'iso_639_1': 'en', 'name': 'English'}]   \n",
              "1695      6/28/17   113.0           [{'iso_639_1': 'en', 'name': 'English'}]   \n",
              "2326       2/9/16   108.0           [{'iso_639_1': 'en', 'name': 'English'}]   \n",
              "2126      4/19/17   137.0           [{'iso_639_1': 'en', 'name': 'English'}]   \n",
              "1309      10/1/14   145.0           [{'iso_639_1': 'en', 'name': 'English'}]   \n",
              "...           ...     ...                                                ...   \n",
              "862       5/13/11    82.0           [{'iso_639_1': 'en', 'name': 'English'}]   \n",
              "1800       1/1/99   141.0  [{'iso_639_1': 'en', 'name': 'English'}, {'iso...   \n",
              "773       10/6/00    75.0           [{'iso_639_1': 'en', 'name': 'English'}]   \n",
              "741      11/15/91    92.0           [{'iso_639_1': 'en', 'name': 'English'}]   \n",
              "2556      9/15/88    87.0           [{'iso_639_1': 'en', 'name': 'English'}]   \n",
              "\n",
              "        status                                            tagline  \\\n",
              "684   Released                                      Be our guest.   \n",
              "1695  Released                  All you need is one killer track.   \n",
              "2326  Released            Witness the beginning of a happy ending   \n",
              "2126  Released                                         Obviously.   \n",
              "1309  Released        You don't know what you've got 'til it's...   \n",
              "...        ...                                                ...   \n",
              "862   Released     The untold story behind a great American novel   \n",
              "1800  Released                                                NaN   \n",
              "773   Released                                                NaN   \n",
              "741   Released                                                NaN   \n",
              "2556  Released  The concert was \"the best live performance of ...   \n",
              "\n",
              "                                             title  \\\n",
              "684                           Beauty and the Beast   \n",
              "1695                                   Baby Driver   \n",
              "2326                                      Deadpool   \n",
              "2126                Guardians of the Galaxy Vol. 2   \n",
              "1309                                     Gone Girl   \n",
              "...                                            ...   \n",
              "862   Hey, Boo: Harper Lee & To Kill a Mockingbird   \n",
              "1800                            The Cherry Orchard   \n",
              "773                         Live Nude Girls Unite!   \n",
              "741       And You Thought Your Parents Were Weird!   \n",
              "2556                                      Big Time   \n",
              "\n",
              "                                               Keywords  \\\n",
              "684   [{'id': 254, 'name': 'france'}, {'id': 2343, '...   \n",
              "1695  [{'id': 642, 'name': 'robbery'}, {'id': 2076, ...   \n",
              "2326  [{'id': 2095, 'name': 'anti hero'}, {'id': 307...   \n",
              "2126  [{'id': 9663, 'name': 'sequel'}, {'id': 9715, ...   \n",
              "1309  [{'id': 818, 'name': 'based on novel'}, {'id':...   \n",
              "...                                                 ...   \n",
              "862          [{'id': 187056, 'name': 'woman director'}]   \n",
              "1800                                                NaN   \n",
              "773   [{'id': 582, 'name': 'san francisco'}, {'id': ...   \n",
              "741   [{'id': 5202, 'name': 'boy'}, {'id': 13130, 'n...   \n",
              "2556        [{'id': 10183, 'name': 'independent film'}]   \n",
              "\n",
              "                                                   cast  \\\n",
              "684   [{'cast_id': 174, 'character': 'Belle', 'credi...   \n",
              "1695  [{'cast_id': 9, 'character': 'Baby', 'credit_i...   \n",
              "2326  [{'cast_id': 99, 'character': 'Wade Wilson / D...   \n",
              "2126  [{'cast_id': 3, 'character': 'Peter Quill / St...   \n",
              "1309  [{'cast_id': 7, 'character': 'Nick Dunne', 'cr...   \n",
              "...                                                 ...   \n",
              "862   [{'cast_id': 3, 'character': 'Herself', 'credi...   \n",
              "1800                                                 []   \n",
              "773                                                  []   \n",
              "741   [{'cast_id': 3, 'character': 'Sarah Carson', '...   \n",
              "2556  [{'cast_id': 1, 'character': '', 'credit_id': ...   \n",
              "\n",
              "                                                   crew     revenue  \n",
              "684   [{'credit_id': '551879bec3a3681f840004eb', 'de...  1262886337  \n",
              "1695  [{'credit_id': '55c58c009251417a21000e5d', 'de...   224511319  \n",
              "2326  [{'credit_id': '57e564fac3a3681beb0000cc', 'de...   783112979  \n",
              "2126  [{'credit_id': '59171547925141583c0315a6', 'de...   863416141  \n",
              "1309  [{'credit_id': '52fe4d7fc3a368484e1ec741', 'de...   369330363  \n",
              "...                                                 ...         ...  \n",
              "862   [{'credit_id': '52fe4810c3a368484e0e792f', 'de...       26488  \n",
              "1800  [{'credit_id': '52fe471bc3a36847f8123c13', 'de...         135  \n",
              "773   [{'credit_id': '52fe4a249251416c750df26b', 'de...       48752  \n",
              "741   [{'credit_id': '52fe4978c3a368484e12ce53', 'de...      402539  \n",
              "2556  [{'credit_id': '5654795892514170210042e6', 'de...      148426  \n",
              "\n",
              "[2911 rows x 23 columns]"
            ]
          },
          "metadata": {},
          "execution_count": 280
        }
      ]
    },
    {
      "cell_type": "code",
      "source": [
        "#Conferindo o que havia na coluna de poster\n",
        "treino['poster_path'].value_counts()"
      ],
      "metadata": {
        "colab": {
          "base_uri": "https://localhost:8080/"
        },
        "id": "FO3bafs4Awmf",
        "outputId": "be17c37e-38dd-4e21-8f98-cd534bd6f276"
      },
      "execution_count": 281,
      "outputs": [
        {
          "output_type": "execute_result",
          "data": {
            "text/plain": [
              "/tQtWuwvMf0hCc2QR2tkolwl7c3c.jpg    1\n",
              "/oudmrV1WljSJMpgwq6K4VzbIMMK.jpg    1\n",
              "/kysrhFoRGtZlXWQyDGMEiLF1aO8.jpg    1\n",
              "/jY5DEgyMmHUh4AbWTu6pOb5g7vk.jpg    1\n",
              "/fkURS96D2ceuocZIBuyiIBGHilF.jpg    1\n",
              "                                   ..\n",
              "/skRvltgHJXnFRMfZNOiID6o4UQn.jpg    1\n",
              "/b8uBcz6CgXOUsZhf2Y4RLHCwk19.jpg    1\n",
              "/zCREx8trzejNieDLUsRuwLU0cS3.jpg    1\n",
              "/c03bIFoCbbtC4uLcTb03t1Xgv3K.jpg    1\n",
              "/cUT6NQP5LAJpmUoStGtXmvNt4zA.jpg    1\n",
              "Name: poster_path, Length: 2911, dtype: int64"
            ]
          },
          "metadata": {},
          "execution_count": 281
        }
      ]
    },
    {
      "cell_type": "code",
      "source": [
        "#Conferindo o que havia na coluna de tempo de filme \n",
        "treino['runtime'].value_counts()"
      ],
      "metadata": {
        "colab": {
          "base_uri": "https://localhost:8080/"
        },
        "id": "WHe2m1O9KNlP",
        "outputId": "2ce390aa-47f4-471b-f846-52e216b34688"
      },
      "execution_count": 282,
      "outputs": [
        {
          "output_type": "execute_result",
          "data": {
            "text/plain": [
              "90.0     95\n",
              "100.0    93\n",
              "105.0    89\n",
              "95.0     86\n",
              "98.0     84\n",
              "         ..\n",
              "71.0      1\n",
              "60.0      1\n",
              "176.0     1\n",
              "177.0     1\n",
              "182.0     1\n",
              "Name: runtime, Length: 139, dtype: int64"
            ]
          },
          "metadata": {},
          "execution_count": 282
        }
      ]
    },
    {
      "cell_type": "code",
      "source": [
        "#Conferindo o que havia na coluna de linguas faladas\n",
        "treino['spoken_languages'].value_counts()"
      ],
      "metadata": {
        "id": "VGGUXB4_Fwr2",
        "colab": {
          "base_uri": "https://localhost:8080/"
        },
        "outputId": "5be04a2b-27b0-45c5-8879-d82df9398b37"
      },
      "execution_count": 283,
      "outputs": [
        {
          "output_type": "execute_result",
          "data": {
            "text/plain": [
              "[{'iso_639_1': 'en', 'name': 'English'}]                                                                                                                                                                            1780\n",
              "[{'iso_639_1': 'en', 'name': 'English'}, {'iso_639_1': 'es', 'name': 'Español'}]                                                                                                                                      85\n",
              "[{'iso_639_1': 'en', 'name': 'English'}, {'iso_639_1': 'fr', 'name': 'Français'}]                                                                                                                                     77\n",
              "[{'iso_639_1': 'fr', 'name': 'Français'}]                                                                                                                                                                             40\n",
              "[{'iso_639_1': 'ru', 'name': 'Pусский'}]                                                                                                                                                                              39\n",
              "                                                                                                                                                                                                                    ... \n",
              "[{'iso_639_1': 'am', 'name': ''}]                                                                                                                                                                                      1\n",
              "[{'iso_639_1': 'ar', 'name': 'العربية'}, {'iso_639_1': 'en', 'name': 'English'}, {'iso_639_1': 'fr', 'name': 'Français'}, {'iso_639_1': 'it', 'name': 'Italiano'}]                                                     1\n",
              "[{'iso_639_1': 'cs', 'name': 'Český'}, {'iso_639_1': 'de', 'name': 'Deutsch'}]                                                                                                                                         1\n",
              "[{'iso_639_1': 'en', 'name': 'English'}, {'iso_639_1': 'fr', 'name': 'Français'}, {'iso_639_1': 'it', 'name': 'Italiano'}, {'iso_639_1': 'ru', 'name': 'Pусский'}, {'iso_639_1': 'es', 'name': 'Español'}]             1\n",
              "[{'iso_639_1': 'bg', 'name': 'български език'}, {'iso_639_1': 'en', 'name': 'English'}, {'iso_639_1': 'fr', 'name': 'Français'}, {'iso_639_1': 'ru', 'name': 'Pусский'}, {'iso_639_1': 'es', 'name': 'Español'}]       1\n",
              "Name: spoken_languages, Length: 395, dtype: int64"
            ]
          },
          "metadata": {},
          "execution_count": 283
        }
      ]
    },
    {
      "cell_type": "code",
      "source": [
        "#Conferindo o que havia na coluna de status\n",
        "treino['status'].value_counts()"
      ],
      "metadata": {
        "colab": {
          "base_uri": "https://localhost:8080/"
        },
        "id": "RvrciROKAJqI",
        "outputId": "842bce7a-5e4e-4a80-cca4-8bd601c6a0a4"
      },
      "execution_count": 284,
      "outputs": [
        {
          "output_type": "execute_result",
          "data": {
            "text/plain": [
              "Released    2908\n",
              "Rumored        3\n",
              "Name: status, dtype: int64"
            ]
          },
          "metadata": {},
          "execution_count": 284
        }
      ]
    },
    {
      "cell_type": "code",
      "source": [
        "#Conferindo o que havia na coluna de AAAAAAAAAA\n",
        "treino['tagline'].value_counts()"
      ],
      "metadata": {
        "colab": {
          "base_uri": "https://localhost:8080/"
        },
        "id": "-P7akaM2vWNq",
        "outputId": "6a353b8d-777d-4c58-b466-bc4d6326ca28"
      },
      "execution_count": 285,
      "outputs": [
        {
          "output_type": "execute_result",
          "data": {
            "text/plain": [
              "Based on a true story.                                  3\n",
              "Who is John Galt?                                       2\n",
              "The Laws of Space and Time are About to be Violated.    1\n",
              "They can't keep their hands off each others assets.     1\n",
              "Get ready to root for the bad guys.                     1\n",
              "                                                       ..\n",
              "A god incarnate. A city doomed.                         1\n",
              "Live or die. Make your choice.                          1\n",
              "Who's your daddy?                                       1\n",
              "A movie for people who love movies.                     1\n",
              "They stole his life. He's taking it back.               1\n",
              "Name: tagline, Length: 2356, dtype: int64"
            ]
          },
          "metadata": {},
          "execution_count": 285
        }
      ]
    },
    {
      "cell_type": "code",
      "source": [
        "#Conferindo o que havia na coluna de palavras chaves\n",
        "treino['Keywords'].value_counts()"
      ],
      "metadata": {
        "colab": {
          "base_uri": "https://localhost:8080/"
        },
        "id": "vy2nz1J3wTmw",
        "outputId": "48ac3e3a-ac2b-42ff-9bd5-f4f83d2add51"
      },
      "execution_count": 286,
      "outputs": [
        {
          "output_type": "execute_result",
          "data": {
            "text/plain": [
              "[{'id': 10183, 'name': 'independent film'}]                                                                                                                                                                                                                                                                                                                                                                                                                                      26\n",
              "[{'id': 187056, 'name': 'woman director'}]                                                                                                                                                                                                                                                                                                                                                                                                                                       16\n",
              "[{'id': 179431, 'name': 'duringcreditsstinger'}]                                                                                                                                                                                                                                                                                                                                                                                                                                  7\n",
              "[{'id': 9937, 'name': 'suspense'}]                                                                                                                                                                                                                                                                                                                                                                                                                                                6\n",
              "[{'id': 5565, 'name': 'biography'}]                                                                                                                                                                                                                                                                                                                                                                                                                                               5\n",
              "                                                                                                                                                                                                                                                                                                                                                                                                                                                                                 ..\n",
              "[{'id': 1157, 'name': 'wife husband relationship'}, {'id': 2793, 'name': 'film director'}, {'id': 5565, 'name': 'biography'}, {'id': 184793, 'name': 'movie set'}, {'id': 185482, 'name': 'movie actress'}, {'id': 185483, 'name': 'movie actor'}]                                                                                                                                                                                                                                1\n",
              "[{'id': 1252, 'name': 'suicide attempt'}, {'id': 1741, 'name': 'blindness and impaired vision'}, {'id': 4543, 'name': 'thanksgiving'}, {'id': 6271, 'name': 'boarding school'}, {'id': 9864, 'name': 'prank'}, {'id': 10786, 'name': 'colonel'}, {'id': 12105, 'name': 'student'}, {'id': 14512, 'name': 'new york city'}, {'id': 14708, 'name': 'tears'}, {'id': 183241, 'name': 'change of heart'}, {'id': 185994, 'name': 'ex military'}]                                      1\n",
              "[{'id': 2820, 'name': 'wound'}, {'id': 4560, 'name': 'mountaineer'}, {'id': 5967, 'name': 'peru'}, {'id': 6075, 'name': 'sport'}, {'id': 7330, 'name': 'glacier'}, {'id': 8624, 'name': 'climbing'}, {'id': 10084, 'name': 'rescue'}, {'id': 10794, 'name': 'snow'}, {'id': 209455, 'name': 'cordillera huayhuash'}]                                                                                                                                                              1\n",
              "[{'id': 2122, 'name': 'death penalty'}, {'id': 5946, 'name': 'ethiopia'}, {'id': 18339, 'name': 'human rights'}, {'id': 164149, 'name': 'attempted kidnapping'}, {'id': 170865, 'name': 'child kidnapping'}]                                                                                                                                                                                                                                                                      1\n",
              "[{'id': 591, 'name': 'cia'}, {'id': 822, 'name': 'airport'}, {'id': 1701, 'name': 'hero'}, {'id': 1721, 'name': 'fight'}, {'id': 1930, 'name': 'kidnapping'}, {'id': 3562, 'name': 'time bomb'}, {'id': 4613, 'name': 'training'}, {'id': 6435, 'name': 'webcam'}, {'id': 6614, 'name': 'website'}, {'id': 8508, 'name': 'party'}, {'id': 10562, 'name': 'on the run'}, {'id': 11612, 'name': 'hospital'}, {'id': 13008, 'name': 'train'}, {'id': 13130, 'name': 'teenager'}]     1\n",
              "Name: Keywords, Length: 2605, dtype: int64"
            ]
          },
          "metadata": {},
          "execution_count": 286
        }
      ]
    },
    {
      "cell_type": "code",
      "source": [
        "#Conferindo o que havia na coluna de equipe\n",
        "treino['crew'].value_counts()"
      ],
      "metadata": {
        "colab": {
          "base_uri": "https://localhost:8080/"
        },
        "id": "O3wWnC4_wXx4",
        "outputId": "2b4123be-0206-4863-9438-737b36a2e06b"
      },
      "execution_count": 287,
      "outputs": [
        {
          "output_type": "execute_result",
          "data": {
            "text/plain": [
              "[{'credit_id': '59ac067c92514107af02c8c8', 'department': 'Directing', 'gender': 0, 'id': 1449071, 'job': 'First Assistant Director', 'name': 'Kelly Cantley', 'profile_path': None}, {'credit_id': '52fe4ee7c3a36847f82afad7', 'department': 'Directing', 'gender': 2, 'id': 3227, 'job': 'Director', 'name': 'Steve Pink', 'profile_path': '/myHOgo8mQSCiCAZNGMRdHVr03jr.jpg'}, {'credit_id': '5524ed25c3a3687ded000d88', 'department': 'Writing', 'gender': 2, 'id': 347335, 'job': 'Writer', 'name': 'Josh Heald', 'profile_path': '/pwXJIenrDMrG7t3zNfLvr8w1RGU.jpg'}, {'credit_id': '5524ed2d925141720c001128', 'department': 'Writing', 'gender': 2, 'id': 347335, 'job': 'Characters', 'name': 'Josh Heald', 'profile_path': '/pwXJIenrDMrG7t3zNfLvr8w1RGU.jpg'}, {'credit_id': '5524ed3d92514166c1004a5d', 'department': 'Production', 'gender': 2, 'id': 57822, 'job': 'Producer', 'name': 'Andrew Panay', 'profile_path': None}, {'credit_id': '5524ed4bc3a3687df3000dd2', 'department': 'Production', 'gender': 0, 'id': 1451395, 'job': 'Associate Producer', 'name': 'Adam Blum', 'profile_path': None}, {'credit_id': '5524ed5a925141720c00112c', 'department': 'Production', 'gender': 2, 'id': 52997, 'job': 'Executive Producer', 'name': 'Rob Corddry', 'profile_path': '/k2zJL0V1nEZuFT08xUdOd3ucfXz.jpg'}, {'credit_id': '5524ed85c3a3687e0e000f56', 'department': 'Production', 'gender': 0, 'id': 62807, 'job': 'Executive Producer', 'name': 'Ben Ormand', 'profile_path': None}, {'credit_id': '5524ed9fc3a3687e0e000f59', 'department': 'Sound', 'gender': 2, 'id': 23486, 'job': 'Original Music Composer', 'name': 'Christophe Beck', 'profile_path': '/2fnJUmCk6IEpVIptpYaUk31epHx.jpg'}, {'credit_id': '5524eda6c3a3687e03000d28', 'department': 'Camera', 'gender': 2, 'id': 6117, 'job': 'Director of Photography', 'name': 'Declan Quinn', 'profile_path': None}, {'credit_id': '5524edb4925141720c00113d', 'department': 'Editing', 'gender': 0, 'id': 1451396, 'job': 'Editor', 'name': 'Jamie Gross', 'profile_path': None}, {'credit_id': '5524edc1925141727600102e', 'department': 'Production', 'gender': 0, 'id': 22219, 'job': 'Casting', 'name': 'Susie Farris', 'profile_path': None}, {'credit_id': '5524edd192514171cb008257', 'department': 'Art', 'gender': 0, 'id': 1002643, 'job': 'Production Design', 'name': 'Ryan Berg', 'profile_path': None}, {'credit_id': '555ad9be9251411e5b00d485', 'department': 'Production', 'gender': 2, 'id': 57431, 'job': 'Executive Producer', 'name': 'Matt Moore', 'profile_path': None}, {'credit_id': '5677e93bc3a36816890087dc', 'department': 'Directing', 'gender': 0, 'id': 1551818, 'job': 'Script Supervisor', 'name': 'Nicole Garcea', 'profile_path': None}, {'credit_id': '5677e96a92514179e10093d0', 'department': 'Production', 'gender': 0, 'id': 1551819, 'job': 'Production Coordinator', 'name': 'Jason Salzman', 'profile_path': None}, {'credit_id': '5677e98492514179d2008cd9', 'department': 'Costume & Make-Up', 'gender': 0, 'id': 1422996, 'job': 'Costume Design', 'name': 'Carol Cutshall', 'profile_path': None}, {'credit_id': '5677e9d5c3a368168e009414', 'department': 'Art', 'gender': 2, 'id': 500199, 'job': 'Set Decoration', 'name': 'Tim Cohn', 'profile_path': None}, {'credit_id': '5677f89d9251417845001a61', 'department': 'Costume & Make-Up', 'gender': 0, 'id': 1527917, 'job': 'Hair Department Head', 'name': 'Voni Hinkle', 'profile_path': None}, {'credit_id': '5677f8b392514179dd0089fb', 'department': 'Costume & Make-Up', 'gender': 0, 'id': 1431554, 'job': 'Makeup Department Head', 'name': 'Remi Savva', 'profile_path': None}, {'credit_id': '5677f8d1c3a3681689008a4b', 'department': 'Art', 'gender': 0, 'id': 66495, 'job': 'Art Direction', 'name': 'Jason Baldwin Stewart', 'profile_path': None}, {'credit_id': '5677f8eec3a3681685008dd5', 'department': 'Production', 'gender': 0, 'id': 1412466, 'job': 'Production Supervisor', 'name': 'Korey Budd', 'profile_path': None}, {'credit_id': '5677f90a9251417845001a7d', 'department': 'Sound', 'gender': 0, 'id': 1401562, 'job': 'Sound Re-Recording Mixer', 'name': 'Gary C. Bourgeois', 'profile_path': None}, {'credit_id': '5677f91e9251417845001a84', 'department': 'Sound', 'gender': 0, 'id': 1396794, 'job': 'Sound Re-Recording Mixer', 'name': 'Gabriel J. Serrano', 'profile_path': None}, {'credit_id': '5677f938c3a3681680008dd4', 'department': 'Editing', 'gender': 0, 'id': 13168, 'job': 'Dialogue Editor', 'name': 'Victoria Rose Sampson', 'profile_path': None}, {'credit_id': '5677f94e92514179dd008a1f', 'department': 'Sound', 'gender': 0, 'id': 1551839, 'job': 'Production Sound Mixer', 'name': 'Michael B. Koff', 'profile_path': None}, {'credit_id': '5677f968c3a368168e009698', 'department': 'Sound', 'gender': 0, 'id': 113052, 'job': 'Sound Effects Editor', 'name': 'Randall Guth', 'profile_path': None}, {'credit_id': '5677f98dc3a3681685008e02', 'department': 'Crew', 'gender': 2, 'id': 1442535, 'job': 'Stunt Coordinator', 'name': 'Chuck Picerni Jr.', 'profile_path': '/yE5QtXUzcrnCzMRctZL8F5g842B.jpg'}, {'credit_id': '5677f9a692514179dd008a49', 'department': 'Camera', 'gender': 0, 'id': 1437305, 'job': 'Camera Operator', 'name': 'Michael Applebaum', 'profile_path': None}, {'credit_id': '5677f9bd9251417845001aae', 'department': 'Camera', 'gender': 0, 'id': 1401765, 'job': 'Still Photographer', 'name': 'Steve Dietl', 'profile_path': None}, {'credit_id': '5677f9e592514179e7008bf7', 'department': 'Lighting', 'gender': 0, 'id': 1402721, 'job': 'Rigging Gaffer', 'name': 'Tarik Naim Alherimi', 'profile_path': None}, {'credit_id': '5677f9f4c3a368167c0090ed', 'department': 'Lighting', 'gender': 0, 'id': 1402719, 'job': 'Gaffer', 'name': 'Paul Olinde', 'profile_path': None}, {'credit_id': '5677fa21c3a368168e0096ca', 'department': 'Sound', 'gender': 0, 'id': 1551840, 'job': 'Music Supervisor', 'name': 'Steve Griffen', 'profile_path': None}, {'credit_id': '5677fa31c3a3681680008e04', 'department': 'Sound', 'gender': 0, 'id': 1551841, 'job': 'Music Editor', 'name': 'Matt Fausak', 'profile_path': None}, {'credit_id': '5677fa4392514179dd008a76', 'department': 'Sound', 'gender': 0, 'id': 1551840, 'job': 'Music Editor', 'name': 'Steve Griffen', 'profile_path': None}, {'credit_id': '5677fa609251417845001acf', 'department': 'Costume & Make-Up', 'gender': 0, 'id': 1403416, 'job': 'Costume Supervisor', 'name': 'Shonta T. McCray', 'profile_path': None}, {'credit_id': '5677fa8492514179d2008fb3', 'department': 'Camera', 'gender': 0, 'id': 1425831, 'job': 'Steadicam Operator', 'name': 'Mark Karavite', 'profile_path': None}, {'credit_id': '5677fab2c3a3681689008ac3', 'department': 'Camera', 'gender': 0, 'id': 1551842, 'job': 'First Assistant Camera', 'name': 'Joe Waistell', 'profile_path': None}, {'credit_id': '5677faecc3a368168e0096fe', 'department': 'Sound', 'gender': 0, 'id': 58362, 'job': 'Supervising Sound Editor', 'name': 'Michael Hilkene', 'profile_path': None}, {'credit_id': '59ac0368c3a3682c0a02c484', 'department': 'Crew', 'gender': 0, 'id': 1881584, 'job': 'Additional Writing', 'name': 'John Karnay', 'profile_path': None}, {'credit_id': '59ac0411c3a3682bf0028966', 'department': 'Costume & Make-Up', 'gender': 0, 'id': 1431552, 'job': 'Hairstylist', 'name': 'Daina Daigle', 'profile_path': None}, {'credit_id': '59ac0504925141072302b8fb', 'department': 'Costume & Make-Up', 'gender': 0, 'id': 1712001, 'job': 'Makeup Artist', 'name': 'Allison Gordin', 'profile_path': None}, {'credit_id': '59ac0570c3a3682bf0028aac', 'department': 'Costume & Make-Up', 'gender': 0, 'id': 578725, 'job': 'Makeup Artist', 'name': 'Darryl Lucas', 'profile_path': None}, {'credit_id': '59ac05a4925141077e02c97e', 'department': 'Costume & Make-Up', 'gender': 0, 'id': 1463274, 'job': 'Makeup Artist', 'name': 'Annabelle MacNeal', 'profile_path': None}, {'credit_id': '59ac05c6925141076502d106', 'department': 'Costume & Make-Up', 'gender': 0, 'id': 1881586, 'job': 'Makeup Artist', 'name': 'Marina Savva', 'profile_path': None}, {'credit_id': '59ac0615c3a3682c480296aa', 'department': 'Costume & Make-Up', 'gender': 0, 'id': 1406267, 'job': 'Hairstylist', 'name': 'Carl G. Variste', 'profile_path': None}, {'credit_id': '59ac06ba925141076502d1fa', 'department': 'Directing', 'gender': 0, 'id': 1798593, 'job': 'First Assistant Director', 'name': 'Josh King', 'profile_path': None}, {'credit_id': '59ac06f1c3a3682c2202aca0', 'department': 'Art', 'gender': 0, 'id': 1415083, 'job': 'Greensman', 'name': 'Scott C. Bivona', 'profile_path': None}, {'credit_id': '59ac072c925141076502d260', 'department': 'Art', 'gender': 0, 'id': 1881587, 'job': 'Title Designer', 'name': 'Eunha Choi', 'profile_path': None}, {'credit_id': '59ac077c925141077e02cb62', 'department': 'Art', 'gender': 0, 'id': 1585302, 'job': 'Construction Coordinator', 'name': 'Daniel Coe', 'profile_path': None}, {'credit_id': '59ac07e0925141078a02d842', 'department': 'Art', 'gender': 0, 'id': 1495523, 'job': 'Set Designer', 'name': 'Spencer Davison', 'profile_path': None}, {'credit_id': '59ac0862925141072f02cf6f', 'department': 'Art', 'gender': 0, 'id': 1881589, 'job': 'Painter', 'name': 'Sonia L. Garcia', 'profile_path': None}, {'credit_id': '59ac08e0c3a3682bf0028e51', 'department': 'Art', 'gender': 0, 'id': 1424896, 'job': 'Art Department Coordinator', 'name': 'Caleb Guillotte', 'profile_path': None}, {'credit_id': '59ac0920c3a3682c2202af36', 'department': 'Art', 'gender': 0, 'id': 1393375, 'job': 'Leadman', 'name': \"Pat A. O'Connor\", 'profile_path': None}, {'credit_id': '59ac095592514107af02cc39', 'department': 'Art', 'gender': 0, 'id': 1881592, 'job': 'Set Designer', 'name': 'Brendan Turrill', 'profile_path': None}, {'credit_id': '59ac0989925141072302bdfa', 'department': 'Art', 'gender': 2, 'id': 76497, 'job': 'Property Master', 'name': 'Brook Yeaton', 'profile_path': None}, {'credit_id': '59ac0a2cc3a3682c9c02add1', 'department': 'Sound', 'gender': 0, 'id': 1881596, 'job': 'Boom Operator', 'name': 'Matthew Armstrong', 'profile_path': None}, {'credit_id': '59ac0aa8925141072f02d282', 'department': 'Visual Effects', 'gender': 2, 'id': 1558086, 'job': 'Special Effects Supervisor', 'name': 'Matt Kutcher', 'profile_path': None}, {'credit_id': '59ac0b2ac3a3682c2202b192', 'department': 'Crew', 'gender': 2, 'id': 1558087, 'job': 'Special Effects Coordinator', 'name': 'Eric Roberts', 'profile_path': None}, {'credit_id': '59ac0b7ac3a3682c2202b1fb', 'department': 'Visual Effects', 'gender': 0, 'id': 1392098, 'job': 'Visual Effects Supervisor', 'name': 'Rocco Passionino', 'profile_path': None}, {'credit_id': '59ac0bbe925141077e02d0c4', 'department': 'Visual Effects', 'gender': 0, 'id': 1558716, 'job': 'Visual Effects Coordinator', 'name': 'Joseph Payo', 'profile_path': None}, {'credit_id': '59ac0bf2c3a3682cc802cefa', 'department': 'Visual Effects', 'gender': 0, 'id': 1408784, 'job': 'Visual Effects Producer', 'name': 'Chris Roff', 'profile_path': None}, {'credit_id': '59ac0c51c3a3682c48029d99', 'department': 'Lighting', 'gender': 0, 'id': 1881600, 'job': 'Best Boy Electric', 'name': 'Ulyan Atamanyuk', 'profile_path': None}, {'credit_id': '59ac0cbac3a3682c0a02cff6', 'department': 'Camera', 'gender': 0, 'id': 1881602, 'job': 'Key Grip', 'name': 'Chris Ekstrom', 'profile_path': None}, {'credit_id': '59ac0d54925141072f02d5e6', 'department': 'Lighting', 'gender': 0, 'id': 1484984, 'job': 'Best Boy Electric', 'name': 'Brad Garris', 'profile_path': None}, {'credit_id': '59ac0db0925141078a02df86', 'department': 'Camera', 'gender': 0, 'id': 1881603, 'job': 'Dolly Grip', 'name': 'Kendell Joseph', 'profile_path': None}, {'credit_id': '59ac0e5a925141077e02d39f', 'department': 'Camera', 'gender': 0, 'id': 1549179, 'job': 'Dolly Grip', 'name': 'Spencer Wilcox', 'profile_path': None}, {'credit_id': '59ac0e9f925141079d02bee6', 'department': 'Costume & Make-Up', 'gender': 0, 'id': 1552626, 'job': 'Key Costumer', 'name': 'Sarah P. Koeppe', 'profile_path': None}, {'credit_id': '59ac0ec1c3a3682bf0029524', 'department': 'Costume & Make-Up', 'gender': 0, 'id': 1881605, 'job': 'Seamstress', 'name': 'Catherine Rodi', 'profile_path': None}, {'credit_id': '59ac0eef925141070702c7ff', 'department': 'Costume & Make-Up', 'gender': 0, 'id': 1463801, 'job': 'Seamstress', 'name': 'Giselle Spence', 'profile_path': None}, {'credit_id': '59ac0f5dc3a3682c4802a0f5', 'department': 'Production', 'gender': 0, 'id': 1400837, 'job': 'Location Manager', 'name': 'John A. Johnston', 'profile_path': None}, {'credit_id': '59ac0ff2c3a3682c4802a196', 'department': 'Crew', 'gender': 0, 'id': 1844322, 'job': 'Production Controller', 'name': 'Gail Marks', 'profile_path': None}]    1\n",
              "[{'credit_id': '52fe442f9251416c7502bca1', 'department': 'Directing', 'gender': 0, 'id': 56998, 'job': 'Director', 'name': 'Dwight H. Little', 'profile_path': '/9Q77ZzYvRkVmfdU6twRQyvW4YB8.jpg'}, {'credit_id': '52fe442f9251416c7502bca7', 'department': 'Writing', 'gender': 2, 'id': 56452, 'job': 'Screenplay', 'name': 'Alan B. McElroy', 'profile_path': None}, {'credit_id': '52fe442f9251416c7502bcad', 'department': 'Production', 'gender': 2, 'id': 66203, 'job': 'Executive Producer', 'name': 'Moustapha Akkad', 'profile_path': '/lL9LxSsNN6qYXHgnDaocCl2xVI2.jpg'}, {'credit_id': '52fe442f9251416c7502bcb3', 'department': 'Production', 'gender': 0, 'id': 652, 'job': 'Producer', 'name': 'Paul Freeman', 'profile_path': '/gWRX09kyrzTFFehwE53cJtps2fx.jpg'}, {'credit_id': '52fe442f9251416c7502bcb9', 'department': 'Sound', 'gender': 2, 'id': 15445, 'job': 'Original Music Composer', 'name': 'Alan Howarth', 'profile_path': None}, {'credit_id': '52fe442f9251416c7502bcbf', 'department': 'Camera', 'gender': 2, 'id': 20823, 'job': 'Director of Photography', 'name': 'Peter Lyons Collister', 'profile_path': None}, {'credit_id': '52fe442f9251416c7502bcc5', 'department': 'Editing', 'gender': 2, 'id': 6390, 'job': 'Editor', 'name': 'Curtiss Clayton', 'profile_path': None}, {'credit_id': '58ac784092514158c00164df', 'department': 'Production', 'gender': 0, 'id': 1485315, 'job': 'Associate Producer', 'name': 'M.N. Sanousi', 'profile_path': None}, {'credit_id': '58ac786c925141590e014bfc', 'department': 'Art', 'gender': 0, 'id': 1341333, 'job': 'Art Direction', 'name': 'Roger Crandall', 'profile_path': None}]                                                                                                                                                                                                                                                                                                                                                                                                                                                                                                                                                                                                                                                                                                                                                                                                                                                                                                                                                                                                                                                                                                                                                                                                                                                                                                                                                                                                                                                                                                                                                                                                                                                                                                                                                                                                                                                                                                                                                                                                                                                                                                                                                                                                                                                                                                                                                                                                                                                                                                                                                                                                                                                                                                                                                                                                                                                                                                                                                                                                                                                                                                                                                                                                                                                                                                                                                                                                                                                                                                                                                                                                                                                                                                                                                                                                                                                                                                                                                                                                                                                                                                                                                                                                                                                                                                                                                                                                                                                                                                                                                                                                                                                                                                                                                                                                                                                                                                                                                                                                                                                                                                                                                                                                                                                                                                                                                                                                                                                                                                                                                                                                                                                                                                                                                                                                                                                                                                                                                                                                                                                                                                                                                                                                                                                                                                                                                                                                                                                                                                                                                                                                                                                                                                                                                                                                                                                                                                                                                                                                                                                                                                                                                                                                                                                                                                                                                                                                                                                                                                                                                                                                                                                                                                                                                                                                                                                                                                                                                                                                                                                                                                                                                                                                                                                                                                                                                                                                                                                                                                                                                                                                                                                                                                                                                                                                                                                                                                                                                                                                                                                                                                                                                                                                                                                                                                                                                                                                                                                                                                                                                                                                                                                                                                                                                                                                                                                                                                                                                                                                                                                                                                                                                                                                                                                                                                                                                                                                                                                                                                                                                                                                                                                                                                                                                                                                                                                                                                                                                                                                                                                                                                                                                                                                                                                                                                                                                             1\n",
              "[{'credit_id': '52fe4780c3a368484e0ca94d', 'department': 'Directing', 'gender': 0, 'id': 550172, 'job': 'Director', 'name': 'Vetrimaran', 'profile_path': '/26CngaQNb883pY8KC0tRWtkRlTs.jpg'}, {'credit_id': '52fe4780c3a368484e0ca953', 'department': 'Production', 'gender': 0, 'id': 550173, 'job': 'Producer', 'name': 'Kathiresan', 'profile_path': None}, {'credit_id': '52fe4780c3a368484e0ca959', 'department': 'Sound', 'gender': 2, 'id': 584950, 'job': 'Music', 'name': 'G. V. Prakash Kumar', 'profile_path': '/acoKN1VOgOTq4zKTwtuZoRObo0w.jpg'}, {'credit_id': '52fe4780c3a368484e0ca95f', 'department': 'Writing', 'gender': 0, 'id': 550172, 'job': 'Writer', 'name': 'Vetrimaran', 'profile_path': '/26CngaQNb883pY8KC0tRWtkRlTs.jpg'}]                                                                                                                                                                                                                                                                                                                                                                                                                                                                                                                                                                                                                                                                                                                                                                                                                                                                                                                                                                                                                                                                                                                                                                                                                                                                                                                                                                                                                                                                                                                                                                                                                                                                                                                                                                                                                                                                                                                                                                                                                                                                                                                                                                                                                                                                                                                                                                                                                                                                                                                                                                                                                                                                                                                                                                                                                                                                                                                                                                                                                                                                                                                                                                                                                                                                                                                                                                                                                                                                                                                                                                                                                                                                                                                                                                                                                                                                                                                                                                                                                                                                                                                                                                                                                                                                                                                                                                                                                                                                                                                                                                                                                                                                                                                                                                                                                                                                                                                                                                                                                                                                                                                                                                                                                                                                                                                                                                                                                                                                                                                                                                                                                                                                                                                                                                                                                                                                                                                                                                                                                                                                                                                                                                                                                                                                                                                                                                                                                                                                                                                                                                                                                                                                                                                                                                                                                                                                                                                                                                                                                                                                                                                                                                                                                                                                                                                                                                                                                                                                                                                                                                                                                                                                                                                                                                                                                                                                                                                                                                                                                                                                                                                                                                                                                                                                                                                                                                                                                                                                                                                                                                                                                                                                                                                                                                                                                                                                                                                                                                                                                                                                                                                                                                                                                                                                                                                                                                                                                                                                                                                                                                                                                                                                                                                                                                                                                                                                                                                                                                                                                                                                                                                                                                                                                                                                                                                                                                                                                                                                                                                                                                                                                                                                                                                                                                                                                                                                                                                                                                                                                                                                                                                                                                                                                                                                                                                                                                                                                                                                                                                                                                                                                                                                                                                                                                                                                                                                                                                                                                                                                                                                                                                                                                                                                                                                         1\n",
              "[{'credit_id': '537d37bb0e0a2624c3000064', 'department': 'Directing', 'gender': 0, 'id': 204553, 'job': 'Director', 'name': 'Ethan Spaulding', 'profile_path': None}, {'credit_id': '535195230e0a2656030019ff', 'department': 'Directing', 'gender': 2, 'id': 105643, 'job': 'Director', 'name': 'Jay Oliva', 'profile_path': '/y7EbnuoKFMvU7uZ4aD50jThyNoF.jpg'}, {'credit_id': '537d3746c3a368059b00003e', 'department': 'Production', 'gender': 2, 'id': 10951, 'job': 'Executive Producer', 'name': 'Benjamin Melniker', 'profile_path': None}, {'credit_id': '537d3767c3a3680595000048', 'department': 'Production', 'gender': 2, 'id': 141043, 'job': 'Executive Producer', 'name': 'Sam Register', 'profile_path': None}, {'credit_id': '537d37d10e0a2624cb00003f', 'department': 'Writing', 'gender': 0, 'id': 1267557, 'job': 'Writer', 'name': 'Heath Corson', 'profile_path': None}, {'credit_id': '570ed20392514102bf000b61', 'department': 'Production', 'gender': 2, 'id': 10949, 'job': 'Executive Producer', 'name': 'Michael Uslan', 'profile_path': '/lJ8n7Z9JB0XH4dxdgI48HG9jX1o.jpg'}, {'credit_id': '56a4fc4d9251410c080050fd', 'department': 'Production', 'gender': 0, 'id': 1225820, 'job': 'Supervising Producer', 'name': 'James Tucker', 'profile_path': None}, {'credit_id': '58780d3c925141103500ce89', 'department': 'Sound', 'gender': 2, 'id': 1322323, 'job': 'Original Music Composer', 'name': 'Robert J. Kral', 'profile_path': None}, {'credit_id': '58d5a0fb9251411f9003288a', 'department': 'Editing', 'gender': 0, 'id': 1033619, 'job': 'Editor', 'name': 'Christopher D. Lozinski', 'profile_path': None}, {'credit_id': '58e4b39f925141283502b49f', 'department': 'Art', 'gender': 0, 'id': 90367, 'job': 'Storyboard Designer', 'name': 'Sam Liu', 'profile_path': '/6YLCBYqgILXZNpHql8xxadZldXq.jpg'}]                                                                                                                                                                                                                                                                                                                                                                                                                                                                                                                                                                                                                                                                                                                                                                                                                                                                                                                                                                                                                                                                                                                                                                                                                                                                                                                                                                                                                                                                                                                                                                                                                                                                                                                                                                                                                                                                                                                                                                                                                                                                                                                                                                                                                                                                                                                                                                                                                                                                                                                                                                                                                                                                                                                                                                                                                                                                                                                                                                                                                                                                                                                                                                                                                                                                                                                                                                                                                                                                                                                                                                                                                                                                                                                                                                                                                                                                                                                                                                                                                                                                                                                                                                                                                                                                                                                                                                                                                                                                                                                                                                                                                                                                                                                                                                                                                                                                                                                                                                                                                                                                                                                                                                                                                                                                                                                                                                                                                                                                                                                                                                                                                                                                                                                                                                                                                                                                                                                                                                                                                                                                                                                                                                                                                                                                                                                                                                                                                                                                                                                                                                                                                                                                                                                                                                                                                                                                                                                                                                                                                                                                                                                                                                                                                                                                                                                                                                                                                                                                                                                                                                                                                                                                                                                                                                                                                                                                                                                                                                                                                                                                                                                                                                                                                                                                                                                                                                                                                                                                                                                                                                                                                                                                                                                                                                                                                                                                                                                                                                                                                                                                                                                                                                                                                                                                                                                                                                                                                                                                                                                                                                                                                                                                                                                                                                                                                                                                                                                                                                                                                                                                                                                                                                                                                                                                                                                                                                                                                                                                                                                                                                                                                                                                                                                                                                                                                                                                                                                                                                                                                                                                                                                                                                               1\n",
              "[{'credit_id': '52fe44e8c3a36847f80b13a1', 'department': 'Directing', 'gender': 2, 'id': 1723, 'job': 'Director', 'name': 'Walter Hill', 'profile_path': '/gCU3dgnNaZuvmArtBJgjCUMmimd.jpg'}, {'credit_id': '52fe44e8c3a36847f80b13a7', 'department': 'Writing', 'gender': 2, 'id': 1723, 'job': 'Screenplay', 'name': 'Walter Hill', 'profile_path': '/gCU3dgnNaZuvmArtBJgjCUMmimd.jpg'}, {'credit_id': '52fe44e8c3a36847f80b13ad', 'department': 'Production', 'gender': 2, 'id': 4767, 'job': 'Executive Producer', 'name': 'Michael De Luca', 'profile_path': None}, {'credit_id': '52fe44e8c3a36847f80b13b3', 'department': 'Production', 'gender': 2, 'id': 1723, 'job': 'Producer', 'name': 'Walter Hill', 'profile_path': '/gCU3dgnNaZuvmArtBJgjCUMmimd.jpg'}, {'credit_id': '52fe44e8c3a36847f80b13b9', 'department': 'Production', 'gender': 1, 'id': 13668, 'job': 'Executive Producer', 'name': 'Sara Risher', 'profile_path': None}, {'credit_id': '52fe44e8c3a36847f80b13bf', 'department': 'Production', 'gender': 2, 'id': 21636, 'job': 'Producer', 'name': 'Arthur M. Sarkissian', 'profile_path': None}, {'credit_id': '52fe44e8c3a36847f80b13c5', 'department': 'Sound', 'gender': 2, 'id': 6918, 'job': 'Original Music Composer', 'name': 'Ry Cooder', 'profile_path': '/jDeoNWlT6ZTdjdOkgbccb3nFH8H.jpg'}, {'credit_id': '52fe44e8c3a36847f80b13cb', 'department': 'Camera', 'gender': 2, 'id': 43891, 'job': 'Director of Photography', 'name': 'Lloyd Ahern II', 'profile_path': None}, {'credit_id': '52fe44e8c3a36847f80b13d1', 'department': 'Editing', 'gender': 2, 'id': 1731, 'job': 'Editor', 'name': 'Freeman A. Davies', 'profile_path': None}, {'credit_id': '597cf7b39251415daa0061ee', 'department': 'Writing', 'gender': 0, 'id': 34373, 'job': 'Story', 'name': 'Ry√ªz√¥ Kikushima', 'profile_path': None}, {'credit_id': '597cf7c4c3a36853dd005ab1', 'department': 'Writing', 'gender': 2, 'id': 5026, 'job': 'Story', 'name': 'Akira Kurosawa', 'profile_path': '/7MTiuRIaAFlYLZMOJDysFNCqhGA.jpg'}, {'credit_id': '597cf7f4c3a3685440006169', 'department': 'Production', 'gender': 2, 'id': 18855, 'job': 'Co-Producer', 'name': 'Ralph S. Singleton', 'profile_path': None}, {'credit_id': '597cf8129251415d61006847', 'department': 'Crew', 'gender': 2, 'id': 43891, 'job': 'Cinematography', 'name': 'Lloyd Ahern II', 'profile_path': None}, {'credit_id': '597cf834c3a3685451006158', 'department': 'Production', 'gender': 1, 'id': 19679, 'job': 'Casting', 'name': 'Mary Gail Artz', 'profile_path': None}, {'credit_id': '597cf849c3a3685397006b58', 'department': 'Production', 'gender': 1, 'id': 19680, 'job': 'Casting', 'name': 'Barbara Cohen', 'profile_path': None}, {'credit_id': '597cf85d9251415db100649c', 'department': 'Art', 'gender': 2, 'id': 12051, 'job': 'Production Design', 'name': 'Gary Wissner', 'profile_path': None}, {'credit_id': '597cf873c3a368545100619a', 'department': 'Art', 'gender': 2, 'id': 10820, 'job': 'Art Direction', 'name': 'Barry Chusid', 'profile_path': None}, {'credit_id': '597cf885c3a3685417005e0d', 'department': 'Art', 'gender': 2, 'id': 65711, 'job': 'Set Decoration', 'name': 'Gary Fettis', 'profile_path': None}]                                                                                                                                                                                                                                                                                                                                                                                                                                                                                                                                                                                                                                                                                                                                                                                                                                                                                                                                                                                                                                                                                                                                                                                                                                                                                                                                                                                                                                                                                                                                                                                                                                                                                                                                                                                                                                                                                                                                                                                                                                                                                                                                                                                                                                                                                                                                                                                                                                                                                                                                                                                                                                                                                                                                                                                                                                                                                                                                                                                                                                                                                                                                                                                                                                                                                                                                                                                                                                                                                                                                                                                                                                                                                                                                                                                                                                                                                                                                                                                                                                                                                                                                                                                                                                                                                                                                                                                                                                                                                                                                                                                                                                                                                                                                                                                                                                                                                                                                                                                                                                                                                                                                                                                                                                                                                                                                                                                                                                                                                                                                                                                                                                                                                                                                                                                                                                                                                                                                                                                                                                                                                                                                                                                                                                                                                                                                                                                                                                                                                                                                                                                                                                                                                                                                                                                                                                                                                                                                                                                                                                                                                                                                                                                                                                                                                                                                                                                                                                                                                                                                                                                                                                                                                                                                                                                                                                                                                                                                                                                                                                                                                                                                                                                                                                                                                                                                                                                                                                                                                                                                                                                                                                                                                                                                                                                                                                                                                                                                                                                                                                                                                                                                                                                                                                                                                                                                                                                                                                                                                                                                                                                                                                                                                                                                                                                             1\n",
              "                                                                                                                                                                                                                                                                                                                                                                                                                                                                                                                                                                                                                                                                                                                                                                                                                                                                                                                                                                                                                                                                                                                                                                                                                                                                                                                                                                                                                                                                                                                                                                                                                                                                                                                                                                                                                                                                                                                                                                                                                                                                                                                                                                                                                                                                                                                                                                                                                                                                                                                                                                                                                                                                                                                                                                                                                                                                                                                                                                                                                                                                                                                                                                                                                                                                                                                                                                                                                                                                                                                                                                                                                                                                                                                                                                                                                                                                                                                                                                                                                                                                                                                                                                                                                                                                                                                                                                                                                                                                                                                                                                                                                                                                                                                                                                                                                                                                                                                                                                                                                                                                                                                                                                                                                                                                                                                                                                                                                                                                                                                                                                                                                                                                                                                                                                                                                                                                                                                                                                                                                                                                                                                                                                                                                                                                                                                                                                                                                                                                                                                                                                                                                                                                                                                                                                                                                                                                                                                                                                                                                                                                                                                                                                                                                                                                                                                                                                                                                                                                                                                                                                                                                                                                                                                                                                                                                                                                                                                                                                                                                                                                                                                                                                                                                                                                                                                                                                                                                                                                                                                                                                                                                                                                                                                                                                                                                                                                                                                                                                                                                                                                                                                                                                                                                                                                                                                                                                                                                                                                                                                                                                                                                                                                                                                                                                                                                                                                                                                                                                                                                                                                                                                                                                                                                                                                                                                                                                                                                                                                                                                                                                                                                                                                                                                                                                                                                                                                                                                                                                                                                                                                                                                                                                                                                                                                                                                                                                                                                                                                                                                                                                                                                                                                                                                                                                                                                                                                                                                                                                                                                                                                                                                                                                                                                                                                                                                                                                                                                                                                                                                                                                                                                                                                                                                                                                                                                                                                                                                                                                                                                                 ..\n",
              "[{'credit_id': '52fe43639251416c7500e623', 'department': 'Production', 'gender': 2, 'id': 2236, 'job': 'Executive Producer', 'name': 'Tim Bevan', 'profile_path': '/f7o93O1KocuLwIrSa7KqyL1sWaT.jpg'}, {'credit_id': '52fe43639251416c7500e641', 'department': 'Camera', 'gender': 2, 'id': 9573, 'job': 'Director of Photography', 'name': 'Peter Deming', 'profile_path': '/3NgM7E5kRYFMXY5znBPktbeI6qB.jpg'}, {'credit_id': '52fe43639251416c7500e63b', 'department': 'Sound', 'gender': 0, 'id': 14712, 'job': 'Original Music Composer', 'name': 'Randy Edelman', 'profile_path': '/fGS6OjvQpivFVajkmjTRgRiC9BN.jpg'}, {'credit_id': '52fe43639251416c7500e611', 'department': 'Directing', 'gender': 2, 'id': 16672, 'job': 'Director', 'name': 'Ate de Jong', 'profile_path': '/7CccV2n5Xe1RtRRImezylYLPYZS.jpg'}, {'credit_id': '52fe43639251416c7500e635', 'department': 'Production', 'gender': 2, 'id': 21378, 'job': 'Producer', 'name': 'Paul Webster', 'profile_path': '/fze6uF1oCdDYJFA5tbVhKX9nwW3.jpg'}, {'credit_id': '52fe43639251416c7500e647', 'department': 'Editing', 'gender': 2, 'id': 44993, 'job': 'Editor', 'name': 'Marshall Harvey', 'profile_path': None}, {'credit_id': '52fe43639251416c7500e617', 'department': 'Writing', 'gender': 0, 'id': 64946, 'job': 'Screenplay', 'name': 'Carlos Davis', 'profile_path': None}, {'credit_id': '52fe43639251416c7500e629', 'department': 'Production', 'gender': 0, 'id': 64946, 'job': 'Executive Producer', 'name': 'Carlos Davis', 'profile_path': None}, {'credit_id': '52fe43639251416c7500e61d', 'department': 'Writing', 'gender': 2, 'id': 64947, 'job': 'Screenplay', 'name': 'Anthony Fingleton', 'profile_path': None}, {'credit_id': '52fe43639251416c7500e62f', 'department': 'Production', 'gender': 2, 'id': 64947, 'job': 'Executive Producer', 'name': 'Anthony Fingleton', 'profile_path': None}, {'credit_id': '52fe43639251416c7500e651', 'department': 'Editing', 'gender': 0, 'id': 1211632, 'job': 'Editorial Production Assistant', 'name': 'James Groetsch', 'profile_path': None}]                                                                                                                                                                                                                                                                                                                                                                                                                                                                                                                                                                                                                                                                                                                                                                                                                                                                                                                                                                                                                                                                                                                                                                                                                                                                                                                                                                                                                                                                                                                                                                                                                                                                                                                                                                                                                                                                                                                                                                                                                                                                                                                                                                                                                                                                                                                                                                                                                                                                                                                                                                                                                                                                                                                                                                                                                                                                                                                                                                                                                                                                                                                                                                                                                                                                                                                                                                                                                                                                                                                                                                                                                                                                                                                                                                                                                                                                                                                                                                                                                                                                                                                                                                                                                                                                                                                                                                                                                                                                                                                                                                                                                                                                                                                                                                                                                                                                                                                                                                                                                                                                                                                                                                                                                                                                                                                                                                                                                                                                                                                                                                                                                                                                                                                                                                                                                                                                                                                                                                                                                                                                                                                                                                                                                                                                                                                                                                                                                                                                                                                                                                                                                                                                                                                                                                                                                                                                                                                                                                                                                                                                                                                                                                                                                                                                                                                                                                                                                                                                                                                                                                                                                                                                                                                                                                                                                                                                                                                                                                                                                                                                                                                                                                                                                                                                                                                                                                                                                                                                                                                                                                                                                                                                                                                                                                                                                                                                                                                                                                                                                                                                                                                                                                                                                                                                                                                                                                                                                                                                                                                                                                                                                                                                                                                                                                                                                                                                                                                                                                                                                                                                                                                                                                                                                                                                                                                                                                                                                                                                                                                                                                                                                                                                                                                                                                                                                                                                                                                                            1\n",
              "[{'credit_id': '597dfeb49251415d78019fee', 'department': 'Costume & Make-Up', 'gender': 1, 'id': 19692, 'job': 'Costume Design', 'name': 'Diana Cilliers', 'profile_path': None}, {'credit_id': '5357d416c3a3685621002c09', 'department': 'Directing', 'gender': 0, 'id': 65879, 'job': 'Director', 'name': 'Kristian Levring', 'profile_path': '/9BoGTgDyRyRW51JgXaCl5gmVNYC.jpg'}, {'credit_id': '5357d421c3a36855f9002c81', 'department': 'Writing', 'gender': 0, 'id': 65879, 'job': 'Writer', 'name': 'Kristian Levring', 'profile_path': '/9BoGTgDyRyRW51JgXaCl5gmVNYC.jpg'}, {'credit_id': '5357d439c3a36855f2002c79', 'department': 'Writing', 'gender': 2, 'id': 1012, 'job': 'Writer', 'name': 'Anders Thomas Jensen', 'profile_path': '/qlTicJ92OcWBvKZUxCGnHTskzhA.jpg'}, {'credit_id': '5357d44bc3a36855f2002c7b', 'department': 'Production', 'gender': 0, 'id': 1195575, 'job': 'Producer', 'name': 'Michael Auret', 'profile_path': None}, {'credit_id': '5357d456c3a36855f2002c7f', 'department': 'Production', 'gender': 0, 'id': 1015, 'job': 'Producer', 'name': 'Sisse Graum J√∏rgensen', 'profile_path': None}, {'credit_id': '5357d47bc3a3685611002b6a', 'department': 'Sound', 'gender': 0, 'id': 1015, 'job': 'Music', 'name': 'Sisse Graum J√∏rgensen', 'profile_path': None}, {'credit_id': '5357d4bfc3a3685609002cac', 'department': 'Camera', 'gender': 0, 'id': 65882, 'job': 'Director of Photography', 'name': 'Jens Schlosser', 'profile_path': None}, {'credit_id': '5357d4cac3a3685609002cae', 'department': 'Editing', 'gender': 2, 'id': 1030, 'job': 'Editor', 'name': 'Pernille Bech Christensen', 'profile_path': None}, {'credit_id': '5357d4d9c3a36855f9002c8c', 'department': 'Art', 'gender': 0, 'id': 1312809, 'job': 'Art Direction', 'name': 'Chantal Carter', 'profile_path': None}, {'credit_id': '5357d4efc3a3685619002b84', 'department': 'Sound', 'gender': 0, 'id': 1312810, 'job': 'Sound Designer', 'name': 'Alastair Sirkett', 'profile_path': None}, {'credit_id': '5575a515c3a36855f5001c49', 'department': 'Production', 'gender': 1, 'id': 3922, 'job': 'Casting', 'name': 'Joyce Nettles', 'profile_path': None}, {'credit_id': '5575a52bc3a36838d30090ef', 'department': 'Production', 'gender': 1, 'id': 2952, 'job': 'Casting', 'name': 'Avy Kaufman', 'profile_path': '/yQPGktsmkKkhkOQAUlmYlxHJOiJ.jpg'}, {'credit_id': '5575a56bc3a36838d3009103', 'department': 'Art', 'gender': 0, 'id': 1475315, 'job': 'Production Design', 'name': 'J√∏rgen Munk', 'profile_path': None}, {'credit_id': '5575a5869251412e26005edb', 'department': 'Art', 'gender': 0, 'id': 1475317, 'job': 'Set Decoration', 'name': 'Anneke Botha', 'profile_path': None}, {'credit_id': '5575a5c5c3a368234c004461', 'department': 'Directing', 'gender': 0, 'id': 1475319, 'job': 'Script Coordinator', 'name': 'Maureen Conway', 'profile_path': None}]                                                                                                                                                                                                                                                                                                                                                                                                                                                                                                                                                                                                                                                                                                                                                                                                                                                                                                                                                                                                                                                                                                                                                                                                                                                                                                                                                                                                                                                                                                                                                                                                                                                                                                                                                                                                                                                                                                                                                                                                                                                                                                                                                                                                                                                                                                                                                                                                                                                                                                                                                                                                                                                                                                                                                                                                                                                                                                                                                                                                                                                                                                                                                                                                                                                                                                                                                                                                                                                                                                                                                                                                                                                                                                                                                                                                                                                                                                                                                                                                                                                                                                                                                                                                                                                                                                                                                                                                                                                                                                                                                                                                                                                                                                                                                                                                                                                                                                                                                                                                                                                                                                                                                                                                                                                                                                                                                                                                                                                                                                                                                                                                                                                                                                                                                                                                                                                                                                                                                                                                                                                                                                                                                                                                                                                                                                                                                                                                                                                                                                                                                                                                                                                                                                                                                                                                                                                                                                                                                                                                                                                                                                                                                                                                                                                                                                                                                                                                                                                                                                                                                                                                                                                                                                                                                                                                                                                                                                                                                                                                                                                                                                                                                                                                                                                                                                                                                                                                                                                                                                                                                                                                                                                                                                                                                                                                                                                                                                                                                                                                                                                                                                                                                                                                                                                                                                                                                                                                                                                                                                                                                                                                                                                                                                                                                                                                                                                                                                                                                                                                                                                                                                                               1\n",
              "[{'credit_id': '52fe4255c3a36847f8015f49', 'department': 'Directing', 'gender': 2, 'id': 5216, 'job': 'Director', 'name': 'Gus Van Sant', 'profile_path': '/2WsDgxPivXtPHtsXK5QZ8U7zYEb.jpg'}, {'credit_id': '52fe4255c3a36847f8015f4f', 'department': 'Writing', 'gender': 1, 'id': 7794, 'job': 'Author', 'name': 'Joyce Maynard', 'profile_path': None}, {'credit_id': '52fe4255c3a36847f8015f55', 'department': 'Writing', 'gender': 0, 'id': 7795, 'job': 'Screenplay', 'name': 'Buck Henry', 'profile_path': '/1RVDoUYK85mynMCU7mom7B1TQqC.jpg'}, {'credit_id': '52fe4255c3a36847f8015f73', 'department': 'Production', 'gender': 1, 'id': 7627, 'job': 'Producer', 'name': 'Laura Ziskin', 'profile_path': None}, {'credit_id': '52fe4255c3a36847f8015f79', 'department': 'Production', 'gender': 0, 'id': 2553, 'job': 'Executive Producer', 'name': 'Jonathan T. Taplin', 'profile_path': None}, {'credit_id': '52fe4255c3a36847f8015f7f', 'department': 'Production', 'gender': 0, 'id': 7797, 'job': 'Producer', 'name': 'Leslie Morgan', 'profile_path': None}, {'credit_id': '52fe4255c3a36847f8015f85', 'department': 'Production', 'gender': 2, 'id': 7798, 'job': 'Producer', 'name': 'Sandy Isaac', 'profile_path': None}, {'credit_id': '52fe4255c3a36847f8015f8b', 'department': 'Sound', 'gender': 2, 'id': 531, 'job': 'Original Music Composer', 'name': 'Danny Elfman', 'profile_path': '/pWacZpYPos8io22nEiim7d3wp2j.jpg'}, {'credit_id': '52fe4255c3a36847f8015f91', 'department': 'Camera', 'gender': 0, 'id': 6389, 'job': 'Director of Photography', 'name': 'Eric Alan Edwards', 'profile_path': None}, {'credit_id': '52fe4255c3a36847f8015f97', 'department': 'Editing', 'gender': 2, 'id': 6390, 'job': 'Editor', 'name': 'Curtiss Clayton', 'profile_path': None}, {'credit_id': '52fe4255c3a36847f8015f9d', 'department': 'Production', 'gender': 1, 'id': 7800, 'job': 'Casting', 'name': 'Deirdre Bowen', 'profile_path': None}, {'credit_id': '52fe4255c3a36847f8015fa3', 'department': 'Art', 'gender': 1, 'id': 6628, 'job': 'Production Design', 'name': 'Missy Stewart', 'profile_path': None}, {'credit_id': '52fe4255c3a36847f8015fa9', 'department': 'Art', 'gender': 1, 'id': 7802, 'job': 'Set Decoration', 'name': 'Carol Lavoie', 'profile_path': None}, {'credit_id': '52fe4255c3a36847f8015faf', 'department': 'Costume & Make-Up', 'gender': 1, 'id': 6392, 'job': 'Costume Design', 'name': 'Beatrix Aruna Pasztor', 'profile_path': None}, {'credit_id': '52fe4255c3a36847f8015fc1', 'department': 'Production', 'gender': 2, 'id': 1530, 'job': 'Casting', 'name': 'Howard Feuer', 'profile_path': None}, {'credit_id': '52fe4255c3a36847f8015fc7', 'department': 'Production', 'gender': 0, 'id': 10570, 'job': 'Executive Producer', 'name': 'Joseph M. Caracciolo Jr.', 'profile_path': None}]                                                                                                                                                                                                                                                                                                                                                                                                                                                                                                                                                                                                                                                                                                                                                                                                                                                                                                                                                                                                                                                                                                                                                                                                                                                                                                                                                                                                                                                                                                                                                                                                                                                                                                                                                                                                                                                                                                                                                                                                                                                                                                                                                                                                                                                                                                                                                                                                                                                                                                                                                                                                                                                                                                                                                                                                                                                                                                                                                                                                                                                                                                                                                                                                                                                                                                                                                                                                                                                                                                                                                                                                                                                                                                                                                                                                                                                                                                                                                                                                                                                                                                                                                                                                                                                                                                                                                                                                                                                                                                                                                                                                                                                                                                                                                                                                                                                                                                                                                                                                                                                                                                                                                                                                                                                                                                                                                                                                                                                                                                                                                                                                                                                                                                                                                                                                                                                                                                                                                                                                                                                                                                                                                                                                                                                                                                                                                                                                                                                                                                                                                                                                                                                                                                                                                                                                                                                                                                                                                                                                                                                                                                                                                                                                                                                                                                                                                                                                                                                                                                                                                                                                                                                                                                                                                                                                                                                                                                                                                                                                                                                                                                                                                                                                                                                                                                                                                                                                                                                                                                                                                                                                                                                                                                                                                                                                                                                                                                                                                                                                                                                                                                                                                                                                                                                                                                                                                                                                                                                                                                                                                                                                                                                                                                                                                                                                                                                                                                                                                                                                                                                                                                                                                                           1\n",
              "[{'credit_id': '52fe454fc3a36847f80c70cf', 'department': 'Editing', 'gender': 1, 'id': 3274, 'job': 'Editor', 'name': 'Lisa Fruchtman', 'profile_path': None}, {'credit_id': '52fe454fc3a36847f80c70ed', 'department': 'Production', 'gender': 1, 'id': 2031, 'job': 'Casting', 'name': 'Amanda Mackey', 'profile_path': None}, {'credit_id': '52fe454fc3a36847f80c70db', 'department': 'Production', 'gender': 1, 'id': 2532, 'job': 'Casting', 'name': 'Cathy Sandrich', 'profile_path': None}, {'credit_id': '52fe454fc3a36847f80c70f3', 'department': 'Sound', 'gender': 2, 'id': 2863, 'job': 'Original Music Composer', 'name': 'Nathan Larson', 'profile_path': None}, {'credit_id': '52fe454fc3a36847f80c70d5', 'department': 'Editing', 'gender': 2, 'id': 2866, 'job': 'Editor', 'name': 'Lee Percy', 'profile_path': None}, {'credit_id': '52fe454fc3a36847f80c70c3', 'department': 'Production', 'gender': 2, 'id': 4232, 'job': 'Producer', 'name': 'Bob Yari', 'profile_path': None}, {'credit_id': '52fe454fc3a36847f80c70e7', 'department': 'Production', 'gender': 2, 'id': 4906, 'job': 'Casting', 'name': 'Sig De Miguel', 'profile_path': None}, {'credit_id': '52fe454fc3a36847f80c70c9', 'department': 'Camera', 'gender': 2, 'id': 5506, 'job': 'Director of Photography', 'name': 'Elliot Davis', 'profile_path': None}, {'credit_id': '52fe454fc3a36847f80c7087', 'department': 'Production', 'gender': 2, 'id': 17210, 'job': 'Executive Producer', 'name': 'George Furla', 'profile_path': None}, {'credit_id': '52fe454fc3a36847f80c708d', 'department': 'Production', 'gender': 2, 'id': 17211, 'job': 'Executive Producer', 'name': 'Randall Emmett', 'profile_path': None}, {'credit_id': '52fe454fc3a36847f80c710f', 'department': 'Costume & Make-Up', 'gender': 1, 'id': 28162, 'job': 'Costume Design', 'name': 'Jill M. Ohanneson', 'profile_path': None}, {'credit_id': '52fe454fc3a36847f80c70e1', 'department': 'Production', 'gender': 1, 'id': 41677, 'job': 'Casting', 'name': 'Wendy Weidman', 'profile_path': None}, {'credit_id': '52fe454fc3a36847f80c7093', 'department': 'Production', 'gender': 2, 'id': 51702, 'job': 'Executive Producer', 'name': 'Brad Krevoy', 'profile_path': None}, {'credit_id': '52fe454fc3a36847f80c7081', 'department': 'Production', 'gender': 0, 'id': 52469, 'job': 'Producer', 'name': 'Anson Downes', 'profile_path': None}, {'credit_id': '52fe454fc3a36847f80c7099', 'department': 'Production', 'gender': 0, 'id': 52990, 'job': 'Producer', 'name': 'Jamie Gordon', 'profile_path': None}, {'credit_id': '52fe454fc3a36847f80c7105', 'department': 'Production', 'gender': 1, 'id': 60503, 'job': 'Casting', 'name': 'Lisa Mae Fincannon', 'profile_path': None}, {'credit_id': '52fe454fc3a36847f80c709f', 'department': 'Production', 'gender': 0, 'id': 60862, 'job': 'Producer', 'name': 'Linda Favila', 'profile_path': None}, {'credit_id': '52fe454fc3a36847f80c70a5', 'department': 'Directing', 'gender': 0, 'id': 60860, 'job': 'Director', 'name': 'Shainee Gabel', 'profile_path': '/jDCufbFdVFP1easYXsQscGHSDM9.jpg'}, {'credit_id': '52fe454fc3a36847f80c716d', 'department': 'Production', 'gender': 0, 'id': 60860, 'job': 'Producer', 'name': 'Shainee Gabel', 'profile_path': '/jDCufbFdVFP1easYXsQscGHSDM9.jpg'}, {'credit_id': '52fe454fc3a36847f80c7173', 'department': 'Writing', 'gender': 0, 'id': 60860, 'job': 'Author', 'name': 'Shainee Gabel', 'profile_path': '/jDCufbFdVFP1easYXsQscGHSDM9.jpg'}, {'credit_id': '52fe454fc3a36847f80c70ab', 'department': 'Production', 'gender': 2, 'id': 60864, 'job': 'Producer', 'name': 'David Lancaster', 'profile_path': None}, {'credit_id': '52fe454fc3a36847f80c70b1', 'department': 'Production', 'gender': 0, 'id': 60865, 'job': 'Producer', 'name': 'R. Paul Miller', 'profile_path': None}, {'credit_id': '52fe454fc3a36847f80c70b7', 'department': 'Production', 'gender': 2, 'id': 60866, 'job': 'Producer', 'name': 'Chad Marting', 'profile_path': None}, {'credit_id': '52fe454fc3a36847f80c70bd', 'department': 'Production', 'gender': 0, 'id': 60867, 'job': 'Producer', 'name': 'Melanie Sloan', 'profile_path': None}, {'credit_id': '52fe454fc3a36847f80c70f9', 'department': 'Writing', 'gender': 0, 'id': 60869, 'job': 'Author', 'name': 'Ronald Everett Capps', 'profile_path': None}, {'credit_id': '52fe454fc3a36847f80c70ff', 'department': 'Art', 'gender': 1, 'id': 60870, 'job': 'Production Design', 'name': 'Sharon Lomofsky', 'profile_path': None}, {'credit_id': '52fe454fc3a36847f80c711d', 'department': 'Art', 'gender': 0, 'id': 60871, 'job': 'Art Direction', 'name': 'Adele Plauche', 'profile_path': None}, {'credit_id': '52fe454fc3a36847f80c7123', 'department': 'Art', 'gender': 2, 'id': 60872, 'job': 'Set Decoration', 'name': 'Leonard R. Spears', 'profile_path': None}]                                                                                                                                                                                                                                                                                                                                                                                                                                                                                                                                                                                                                                                                                                                                                                                                                                                                                                                                                                                                                                                                                                                                                                                                                                                                                                                                                                                                                                                                                                                                                                                                                                                                                                                                                                                                                                                                                                                                                                                                                                                                                                                                                                                                                                                                                                                                                                                                                                                                                                                                                                                                                                                                                                                                                                                                                                                                                                                                                                                                                                                                                                                                                                                                                                                                                                                                                                                                                                                                                                                                                                                                                                                                                                                                                                                                                                                                                                                                                                                                                                                                                                                                                                                                                                                                                                                                                                                                                                                                                                                                                                                                                                                                                                                                                                                                                                                                                                                                                                                                                                                                                                                                                                                                                                                                                                                                                                                                                                                                                                                                                                                                                                                                                                                                                                                                                                                                                                                                                                                                                                                                                                                                                                                                                                                                                                                                                                                                                                                                                                                                                                                                                                                                                                                                                                                                                                                                                                                                                                                                                                                                                                                                                                                                                                                                                                                                                                                                                                                                                                                                                                                                                                                                                                                                                                                                                                                                                                                                                                                                                                                                                                                                            1\n",
              "[{'credit_id': '5391990d0e0a260fb5001629', 'department': 'Production', 'gender': 2, 'id': 1593, 'job': 'Casting', 'name': 'Joseph Middleton', 'profile_path': None}, {'credit_id': '57064fb4c3a3685d35002331', 'department': 'Sound', 'gender': 2, 'id': 1999, 'job': 'Original Music Composer', 'name': 'Ed Shearmur', 'profile_path': None}, {'credit_id': '52fe49a5c3a36847f81a5133', 'department': 'Directing', 'gender': 2, 'id': 6482, 'job': 'Director', 'name': 'John Singleton', 'profile_path': '/xmVaXjAAywPh7HIrYjLVsjfKPrV.jpg'}, {'credit_id': '5391985ec3a368648800121b', 'department': 'Editing', 'gender': 2, 'id': 9772, 'job': 'Editor', 'name': 'Bruce Cannon', 'profile_path': None}, {'credit_id': '53919a10c3a368647200123e', 'department': 'Costume & Make-Up', 'gender': 1, 'id': 15524, 'job': 'Costume Design', 'name': 'Ruth E. Carter', 'profile_path': None}, {'credit_id': '53919849c3a3686472001218', 'department': 'Camera', 'gender': 2, 'id': 17629, 'job': 'Director of Photography', 'name': 'Peter Menzies Jr.', 'profile_path': None}, {'credit_id': '53919776c3a3686479001213', 'department': 'Production', 'gender': 2, 'id': 21035, 'job': 'Producer', 'name': 'Doug Davison', 'profile_path': None}, {'credit_id': '539197e1c3a36864910011e8', 'department': 'Production', 'gender': 2, 'id': 21036, 'job': 'Producer', 'name': 'Roy Lee', 'profile_path': None}, {'credit_id': '539199260e0a260fc20015fb', 'department': 'Art', 'gender': 0, 'id': 22145, 'job': 'Production Design', 'name': 'Keith Brian Burns', 'profile_path': None}, {'credit_id': '5481ddd59251414efa006a09', 'department': 'Visual Effects', 'gender': 0, 'id': 80830, 'job': 'Visual Effects Supervisor', 'name': 'Mike Uguccioni', 'profile_path': None}, {'credit_id': '5481de199251416e780062d6', 'department': 'Crew', 'gender': 2, 'id': 146143, 'job': 'Stunt Coordinator', 'name': 'Brad Martin', 'profile_path': None}, {'credit_id': '5481dccac3a36829a7006519', 'department': 'Sound', 'gender': 2, 'id': 158916, 'job': 'Sound Re-Recording Mixer', 'name': 'Michael Keller', 'profile_path': None}, {'credit_id': '52fe49a5c3a36847f81a515d', 'department': 'Writing', 'gender': 0, 'id': 234817, 'job': 'Writer', 'name': 'Shawn Christensen', 'profile_path': '/wB2Vgdqikyb2RTvLH7JM3BrCBmw.jpg'}, {'credit_id': '5481db859251416e740066ea', 'department': 'Art', 'gender': 0, 'id': 582943, 'job': 'Art Department Coordinator', 'name': 'Kristin Lekki', 'profile_path': None}, {'credit_id': '5481dd6c9251416e780062c6', 'department': 'Crew', 'gender': 0, 'id': 1043368, 'job': 'Special Effects Coordinator', 'name': 'Drew Jiritano', 'profile_path': None}, {'credit_id': '5481dc7c9251416e7e0064d2', 'department': 'Sound', 'gender': 2, 'id': 1077782, 'job': 'Foley', 'name': 'Gary A. Hecker', 'profile_path': '/qyBUauN3XIS2Mlus3OdGCmrUo0S.jpg'}, {'credit_id': '5391978cc3a3685ed90010c9', 'department': 'Production', 'gender': 0, 'id': 1257754, 'job': 'Producer', 'name': 'Ellen Goldsmith-Vein', 'profile_path': None}, {'credit_id': '539197a8c3a368648800120d', 'department': 'Production', 'gender': 0, 'id': 1328141, 'job': 'Producer', 'name': 'Dan Lautner', 'profile_path': None}, {'credit_id': '539197fbc3a368647200120d', 'department': 'Production', 'gender': 0, 'id': 1328142, 'job': 'Producer', 'name': 'Lee Stollman', 'profile_path': '/e9MRsSp2WP35LCLTLsPujX9Ch6l.jpg'}, {'credit_id': '539198f50e0a260fb9001792', 'department': 'Production', 'gender': 2, 'id': 1328143, 'job': 'Casting', 'name': 'Alan Lee', 'profile_path': None}, {'credit_id': '5391993c0e0a260fc5001603', 'department': 'Art', 'gender': 0, 'id': 1328144, 'job': 'Art Direction', 'name': 'Liba Daniels', 'profile_path': None}, {'credit_id': '539199f0c3a3686491001212', 'department': 'Art', 'gender': 0, 'id': 1328145, 'job': 'Set Decoration', 'name': 'Julie Smith', 'profile_path': None}, {'credit_id': '53919a28c3a3686472001242', 'department': 'Costume & Make-Up', 'gender': 0, 'id': 1328146, 'job': 'Makeup Department Head', 'name': 'Evelyne Noraz', 'profile_path': None}, {'credit_id': '53919a48c3a3685ed9001109', 'department': 'Costume & Make-Up', 'gender': 0, 'id': 1328147, 'job': 'Costume Supervisor', 'name': 'Darcie Buterbaugh', 'profile_path': None}, {'credit_id': '53919a64c3a3686480001245', 'department': 'Production', 'gender': 1, 'id': 1328148, 'job': 'Casting', 'name': 'Donna M. Belajac', 'profile_path': '/4B6EVzcu6zOd9vFiQNgukZjts9.jpg'}, {'credit_id': '5481dc91c3a36829b5007942', 'department': 'Sound', 'gender': 0, 'id': 1374169, 'job': 'Foley', 'name': 'Michael J. Broomberg', 'profile_path': None}, {'credit_id': '5481ddbc9251416e7b005e00', 'department': 'Visual Effects', 'gender': 0, 'id': 1389593, 'job': 'Visual Effects Producer', 'name': 'Michele C. Vallillo', 'profile_path': None}, {'credit_id': '5481dcaa9251416e7b005de5', 'department': 'Editing', 'gender': 0, 'id': 1392085, 'job': 'Dialogue Editor', 'name': 'Daniel S. Irwin', 'profile_path': None}, {'credit_id': '5481dda59251416e7e0064fc', 'department': 'Visual Effects', 'gender': 0, 'id': 1393446, 'job': 'Visual Effects Producer', 'name': 'Jason Sanford', 'profile_path': None}, {'credit_id': '5481db5e9251416e7800628d', 'department': 'Crew', 'gender': 2, 'id': 1395014, 'job': 'Property Master', 'name': 'Peter C. Clarke', 'profile_path': None}, {'credit_id': '5481dba2c3a36829a7006504', 'department': 'Art', 'gender': 0, 'id': 1395015, 'job': 'Assistant Art Director', 'name': 'Jay Durrwachter', 'profile_path': None}, {'credit_id': '5481dbc6c3a36829b500792a', 'department': 'Art', 'gender': 0, 'id': 1395016, 'job': 'Construction Coordinator', 'name': 'Brian Markey', 'profile_path': None}, {'credit_id': '5481dbf69251416e780062a1', 'department': 'Art', 'gender': 0, 'id': 1395019, 'job': 'Set Designer', 'name': 'Julie Ray', 'profile_path': None}, {'credit_id': '5481dc23c3a36829ab006780', 'department': 'Art', 'gender': 0, 'id': 1395021, 'job': 'Leadman', 'name': 'Brent Rice', 'profile_path': None}, {'credit_id': '5481dc499251416e74006701', 'department': 'Sound', 'gender': 2, 'id': 1395022, 'job': 'Supervising Sound Editor', 'name': 'Greg Hedgepath', 'profile_path': None}, {'credit_id': '5481dc60c3a36829ab00678c', 'department': 'Sound', 'gender': 0, 'id': 1395023, 'job': 'Supervising Sound Editor', 'name': 'William R. Dean', 'profile_path': None}, {'credit_id': '5481dcdfc3a36829b500794f', 'department': 'Sound', 'gender': 2, 'id': 1395024, 'job': 'Sound Re-Recording Mixer', 'name': 'Mike Prestwood Smith', 'profile_path': None}, {'credit_id': '5481dd499251416e6c005bd3', 'department': 'Sound', 'gender': 2, 'id': 1395025, 'job': 'Dolby Consultant', 'name': 'James Wright', 'profile_path': None}, {'credit_id': '5481dd8ac3a36817a500663b', 'department': 'Visual Effects', 'gender': 0, 'id': 1395026, 'job': 'Visual Effects Producer', 'name': 'Tyler Kehl', 'profile_path': None}, {'credit_id': '5481ddedc3a3684afd001af0', 'department': 'Visual Effects', 'gender': 0, 'id': 1395027, 'job': 'Visual Effects Supervisor', 'name': 'Gregory D. Liegey', 'profile_path': None}, {'credit_id': '5481de5a9251416e6c005bf2', 'department': 'Camera', 'gender': 2, 'id': 1395028, 'job': 'Still Photographer', 'name': 'Bruce W. Talamon', 'profile_path': None}, {'credit_id': '5481de98c3a36829b5007982', 'department': 'Camera', 'gender': 0, 'id': 1395029, 'job': 'Camera Operator', 'name': 'Colin Hudson', 'profile_path': None}, {'credit_id': '5481dee8c3a36829ab0067d8', 'department': 'Costume & Make-Up', 'gender': 0, 'id': 1395030, 'job': 'Set Costumer', 'name': 'Alison Evans', 'profile_path': None}, {'credit_id': '5481def99251416e7e006527', 'department': 'Costume & Make-Up', 'gender': 0, 'id': 1395031, 'job': 'Set Costumer', 'name': 'Crystal Gomes', 'profile_path': None}, {'credit_id': '5481df0cc3a3684afd001b18', 'department': 'Costume & Make-Up', 'gender': 0, 'id': 1395032, 'job': 'Set Costumer', 'name': 'Amanda Jenkins', 'profile_path': None}, {'credit_id': '5481df1ec3a36829b5007992', 'department': 'Costume & Make-Up', 'gender': 0, 'id': 1395033, 'job': 'Set Costumer', 'name': 'Mara Majorowicz', 'profile_path': None}, {'credit_id': '5481df36c3a3685c0e00037e', 'department': 'Crew', 'gender': 0, 'id': 1395034, 'job': 'Transportation Coordinator', 'name': 'Donald A. Kraus', 'profile_path': None}, {'credit_id': '5481df53c3a3685c0e000387', 'department': 'Directing', 'gender': 0, 'id': 1395035, 'job': 'Script Supervisor', 'name': 'Liliana M. Molina', 'profile_path': None}]                                                                                                                                                                                                                                                                                                                                                                                                                                                                                                                                                                                                                                                                                                                                                                                                                                                                                                                                                                                                                                                                                                                                                                                                                                                                                                                                                                                                                                                                                                                                                                                                                                                                                                                                                                                                                                                                                                                                                                                                                                                                                                                                                                                                                                                                                                                                                                                                                                                                                                                                                                                                                                                                                                                                                                                                                                                                                                                                                                                                                                                                                                                                                                                                                                                                                                                                                                                                                                                                                                                                                                                                                                                                                                                                                                                                                                                                                                                                                                                                                                                                                                                                                                                                                                                                                                      1\n",
              "Name: crew, Length: 2911, dtype: int64"
            ]
          },
          "metadata": {},
          "execution_count": 287
        }
      ]
    },
    {
      "cell_type": "code",
      "source": [
        "#Como eram apenas links de imagens e todos eram diferente foi decidido excluir essa coluna\n",
        "treino.drop('poster_path', axis=1, inplace=True)"
      ],
      "metadata": {
        "id": "CHkNcIHBBGSU"
      },
      "execution_count": 288,
      "outputs": []
    },
    {
      "cell_type": "code",
      "source": [
        "#Como eram apenas links e todos eram diferente foi decidido excluir essa coluna\n",
        "treino.drop('homepage', axis=1, inplace=True)"
      ],
      "metadata": {
        "id": "pHvrzed5JuVR"
      },
      "execution_count": 289,
      "outputs": []
    },
    {
      "cell_type": "code",
      "source": [
        "#Como tinham apenas 3 filmes não lançados foi decidido excluir essa coluna\n",
        "treino.drop('status', axis=1, inplace=True)"
      ],
      "metadata": {
        "id": "szKF1ba0JnsD"
      },
      "execution_count": 290,
      "outputs": []
    },
    {
      "cell_type": "code",
      "source": [
        "#Como essa coluna era apenas as linguas faladas no filme e não a lingua de origem do filme foi decidido excluir essa coluna\n",
        "treino.drop('spoken_languages', axis=1, inplace=True)"
      ],
      "metadata": {
        "id": "An8tYA7_G7gp"
      },
      "execution_count": 291,
      "outputs": []
    },
    {
      "cell_type": "code",
      "source": [
        "#Como \n",
        "#treino.drop('tagline', axis=1, inplace=True)"
      ],
      "metadata": {
        "id": "XmuwRCEiZeae"
      },
      "execution_count": 292,
      "outputs": []
    },
    {
      "cell_type": "code",
      "source": [
        "#Como \n",
        "#treino.drop('Keyword', axis=1, inplace=True)"
      ],
      "metadata": {
        "id": "WXyngwQ-vS0e"
      },
      "execution_count": 293,
      "outputs": []
    },
    {
      "cell_type": "code",
      "source": [
        "#Como \n",
        "#treino.drop('crew', axis=1, inplace=True)"
      ],
      "metadata": {
        "id": "U8VDBkdgzN_4"
      },
      "execution_count": 294,
      "outputs": []
    },
    {
      "cell_type": "code",
      "source": [
        "#Como \n",
        "#treino.drop('belongs_to_collection', axis=1, inplace=True)"
      ],
      "metadata": {
        "id": "GBtTmDD3zTWp"
      },
      "execution_count": 295,
      "outputs": []
    },
    {
      "cell_type": "code",
      "source": [
        "#Conferindo as mudanças\n",
        "treino.shape"
      ],
      "metadata": {
        "colab": {
          "base_uri": "https://localhost:8080/"
        },
        "outputId": "81e5c329-0070-4306-97b1-50ea4775929f",
        "id": "fGb-YLGsLbuu"
      },
      "execution_count": 296,
      "outputs": [
        {
          "output_type": "execute_result",
          "data": {
            "text/plain": [
              "(2911, 19)"
            ]
          },
          "metadata": {},
          "execution_count": 296
        }
      ]
    },
    {
      "cell_type": "code",
      "source": [
        "#Conferindo o que havia na coluna de status\n",
        "treino['genres'].value_counts()"
      ],
      "metadata": {
        "colab": {
          "base_uri": "https://localhost:8080/"
        },
        "id": "UO0QtpKLMuUm",
        "outputId": "918e4cee-7f8a-4923-82ce-e1e51dda688c"
      },
      "execution_count": 297,
      "outputs": [
        {
          "output_type": "execute_result",
          "data": {
            "text/plain": [
              "[{'id': 18, 'name': 'Drama'}]                                                                                                                                                256\n",
              "[{'id': 35, 'name': 'Comedy'}]                                                                                                                                               178\n",
              "[{'id': 18, 'name': 'Drama'}, {'id': 10749, 'name': 'Romance'}]                                                                                                              102\n",
              "[{'id': 35, 'name': 'Comedy'}, {'id': 10749, 'name': 'Romance'}]                                                                                                              86\n",
              "[{'id': 35, 'name': 'Comedy'}, {'id': 18, 'name': 'Drama'}]                                                                                                                   82\n",
              "                                                                                                                                                                            ... \n",
              "[{'id': 12, 'name': 'Adventure'}, {'id': 18, 'name': 'Drama'}, {'id': 14, 'name': 'Fantasy'}, {'id': 10751, 'name': 'Family'}, {'id': 9648, 'name': 'Mystery'}]                1\n",
              "[{'id': 14, 'name': 'Fantasy'}, {'id': 16, 'name': 'Animation'}, {'id': 18, 'name': 'Drama'}, {'id': 10749, 'name': 'Romance'}, {'id': 10751, 'name': 'Family'}]               1\n",
              "[{'id': 28, 'name': 'Action'}, {'id': 12, 'name': 'Adventure'}, {'id': 10749, 'name': 'Romance'}, {'id': 878, 'name': 'Science Fiction'}, {'id': 53, 'name': 'Thriller'}]      1\n",
              "[{'id': 12, 'name': 'Adventure'}, {'id': 16, 'name': 'Animation'}, {'id': 10751, 'name': 'Family'}, {'id': 35, 'name': 'Comedy'}]                                              1\n",
              "[{'id': 53, 'name': 'Thriller'}, {'id': 28, 'name': 'Action'}, {'id': 9648, 'name': 'Mystery'}]                                                                                1\n",
              "Name: genres, Length: 859, dtype: int64"
            ]
          },
          "metadata": {},
          "execution_count": 297
        }
      ]
    },
    {
      "cell_type": "code",
      "source": [
        "#treino.to_csv('.csv')"
      ],
      "metadata": {
        "id": "tMgAMkWs4msM"
      },
      "execution_count": 298,
      "outputs": []
    },
    {
      "cell_type": "code",
      "source": [
        "# dict_columns = ['belongs_to_collection', 'genres', 'production_companies',\n",
        "#                 'production_countries', 'spoken_languages', 'Keywords', 'cast', 'crew']\n",
        "\n",
        "# def text_to_dict(treino):\n",
        "#     for column in dict_columns:\n",
        "#         treino[column] = treino[column].apply(lambda x: {} if pd.isna(x) else ast.literal_eval(x) )\n",
        "#     return treino\n",
        "        \n",
        "# dfx = text_to_dict(treino)\n",
        "# for col in dict_columns:\n",
        "#        treino[col]=dfx[col]"
      ],
      "metadata": {
        "id": "H8a_nuhL_lsJ"
      },
      "execution_count": 301,
      "outputs": []
    },
    {
      "cell_type": "code",
      "source": [
        "# print('Number of genres')\n",
        "# lista_genero = list(treino['genres'].apply(lambda x: [i['name'] for i in x] if x != {} else []).values)\n",
        "# Counter([i for j in lista_genero for i in j]).most_common()"
      ],
      "metadata": {
        "id": "QtTvLM4w8G-3"
      },
      "execution_count": null,
      "outputs": []
    },
    {
      "cell_type": "code",
      "source": [
        "# for i, e in enumerate(treino['genres'][:10]):\n",
        "#     print(i, e)"
      ],
      "metadata": {
        "id": "tVANqxyQAiZT"
      },
      "execution_count": null,
      "outputs": []
    },
    {
      "cell_type": "code",
      "source": [
        "# print('Number of genres in films')\n",
        "# treino['genres'].apply(lambda x: len(x) if x != {} else 0).value_counts()"
      ],
      "metadata": {
        "id": "djjHyjhQBA0S"
      },
      "execution_count": null,
      "outputs": []
    },
    {
      "cell_type": "code",
      "source": [
        "# text =''\n",
        "# generos = set({})\n",
        "# for linha in treino.genres:\n",
        "#     if type(linha) == str:\n",
        "#         text += linha\n",
        "\n",
        "# linhas = text.split('{')\n",
        "# for i in linhas:\n",
        "#     x = i.find('name')\n",
        "#     y = i.find('}')\n",
        "#     texto = i[x+8:y-1]\n",
        "#     generos.add(texto)\n",
        "\n",
        "# print(generos)"
      ],
      "metadata": {
        "id": "z0BQHFL_M239"
      },
      "execution_count": null,
      "outputs": []
    },
    {
      "cell_type": "code",
      "source": [
        "# oq eu falei é o IDEAL é vc tirar de dentro do texto e criar uma coluna binária pra cada gênero\n",
        "# e ai vc marca se é 0 ou 1\n",
        "# pq é isso q tu vai usar pra treinar o modelo"
      ],
      "metadata": {
        "id": "YOdClbBNrJx3"
      },
      "execution_count": null,
      "outputs": []
    },
    {
      "cell_type": "markdown",
      "source": [
        "## Manipulando os dados"
      ],
      "metadata": {
        "id": "9PzfcnB50jCF"
      }
    },
    {
      "cell_type": "code",
      "source": [
        "plt.figure(figsize=(10,8))\n",
        "\n",
        "treino = treino.sort_values(by='revenue', ascending=False)\n",
        "treino2 = treino.head(20)\n",
        "ax= sns.pointplot(treino2['budget'], treino2['revenue'], hue= treino2['title'])\n",
        "ax.set_xticklabels(ax.get_xticklabels(), rotation=40, ha= \"right\")\n",
        "plt.tight_layout()\n",
        "plt.show()\n"
      ],
      "metadata": {
        "id": "qnTM9Xlqrg16"
      },
      "execution_count": null,
      "outputs": []
    },
    {
      "cell_type": "markdown",
      "source": [
        "# Submissão"
      ],
      "metadata": {
        "id": "abvqiGsEy89W"
      }
    },
    {
      "cell_type": "code",
      "source": [
        "#https://www.kaggle.com/c/tmdb-box-office-prediction/overview"
      ],
      "metadata": {
        "id": "MVlNAsFmzDX2"
      },
      "execution_count": null,
      "outputs": []
    },
    {
      "cell_type": "markdown",
      "source": [
        "#Teste"
      ],
      "metadata": {
        "id": "9FsI61zjraIV"
      }
    },
    {
      "cell_type": "code",
      "source": [
        "#print('Number of genres in films')\n",
        "# treino['genres'].apply(lambda x: len(x) if x != {} else 0).value_counts()"
      ],
      "metadata": {
        "id": "CdWx3PIJOriP"
      },
      "execution_count": null,
      "outputs": []
    },
    {
      "cell_type": "code",
      "source": [
        "# dict_columns = ['belongs_to_collection', 'genres', 'production_companies',\n",
        "#                 'production_countries', 'spoken_languages', 'Keywords', 'cast', 'crew']\n",
        "\n",
        "# def text_to_dict(df):\n",
        "#     for column in dict_columns:\n",
        "#         df[column] = df[column].apply(lambda x: {} if pd.isna(x) else ast.literal_eval(x) )\n",
        "#     return df\n",
        "        \n",
        "# dfx = text_to_dict(treino)\n",
        "# for col in dict_columns:\n",
        "#        treino[col]=dfx[col]"
      ],
      "metadata": {
        "id": "R8gccKSXSOZs"
      },
      "execution_count": null,
      "outputs": []
    },
    {
      "cell_type": "code",
      "source": [
        "# collections= treino['belongs_to_collection'].apply(lambda x : x[0]['name'] if x!= {} else '?').value_counts()[1:15]\n",
        "# plt.figure(figsize=(8,8))\n",
        "# sns.barplot(collections,collections.index)\n",
        "# plt.show()"
      ],
      "metadata": {
        "id": "wsMVBYu-QiL2"
      },
      "execution_count": null,
      "outputs": []
    },
    {
      "cell_type": "code",
      "source": [
        "#verificando correlações\n",
        "corr = treino.corr()\n",
        "sns.heatmap(corr, annot=True)"
      ],
      "metadata": {
        "id": "-YEJfR4HMPjG"
      },
      "execution_count": null,
      "outputs": []
    },
    {
      "cell_type": "markdown",
      "source": [
        "# Testando funções"
      ],
      "metadata": {
        "id": "ojRznUnKGo26"
      }
    },
    {
      "cell_type": "code",
      "source": [
        "#treino.sort_values(by='budget',ascending=False)"
      ],
      "metadata": {
        "id": "NPNYlBAY-xa7"
      },
      "execution_count": null,
      "outputs": []
    },
    {
      "cell_type": "code",
      "source": [
        "#Retirando linhas com dados faltantes\n",
        "#linha axis=0 / coluna axis=1\n",
        "#linha por linha ->\n",
        "#treino.dropna(axis=0, subset=['genres', 'overview','poster_path','production_countries', 'runtime','spoken_languages', 'cast', 'crew'],inplace = True)"
      ],
      "metadata": {
        "id": "krb4eLfNHLOg"
      },
      "execution_count": null,
      "outputs": []
    },
    {
      "cell_type": "code",
      "source": [
        "#treino.sort_values(by='popularity',ascending=False)"
      ],
      "metadata": {
        "id": "zbOU-jvf_ksg"
      },
      "execution_count": null,
      "outputs": []
    }
  ]
}