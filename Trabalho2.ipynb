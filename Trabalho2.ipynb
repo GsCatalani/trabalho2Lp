{
  "nbformat": 4,
  "nbformat_minor": 0,
  "metadata": {
    "colab": {
      "name": "Trabalho2.ipynb",
      "provenance": [],
      "collapsed_sections": [
        "UfWwCHngzZ7Q",
        "gg83tRGXzuiV",
        "fUApvkBilEIl",
        "JB6oHwTdHD3o",
        "Gl4CwnZEPn6M",
        "PhVRUTMRbHS0",
        "NCuthwdHbYgD",
        "abvqiGsEy89W",
        "9FsI61zjraIV",
        "ojRznUnKGo26"
      ]
    },
    "kernelspec": {
      "name": "python3",
      "display_name": "Python 3"
    },
    "language_info": {
      "name": "python"
    }
  },
  "cells": [
    {
      "cell_type": "markdown",
      "source": [
        "#Bibliotecas"
      ],
      "metadata": {
        "id": "UfWwCHngzZ7Q"
      }
    },
    {
      "cell_type": "code",
      "execution_count": 993,
      "metadata": {
        "id": "9TlkxIIR5mpx"
      },
      "outputs": [],
      "source": [
        "import pandas as pd\n",
        "import numpy as np\n",
        "import matplotlib.pyplot as plt\n",
        "import seaborn as sns\n",
        "from sklearn.model_selection import train_test_split\n",
        "from sklearn.linear_model import LogisticRegression\n",
        "from sklearn.metrics import accuracy_score\n",
        "from sklearn import datasets\n",
        "\n",
        "import ast\n",
        "from keras import models\n",
        "from keras import layers\n",
        "from keras import optimizers\n",
        "from datetime import datetime\n",
        "from keras import regularizers\n",
        "from collections import Counter\n",
        "from wordcloud import WordCloud\n",
        "import matplotlib.pyplot as plt\n",
        "from sklearn import preprocessing\n",
        "from sklearn.model_selection import KFold\n",
        "from sklearn.preprocessing import normalize\n",
        "from sklearn.preprocessing import LabelEncoder\n",
        "from sklearn.model_selection import train_test_split\n",
        "from keras.metrics import mean_squared_logarithmic_error\n",
        "\n",
        "plt.style.use('fivethirtyeight')"
      ]
    },
    {
      "cell_type": "markdown",
      "source": [
        "# Código"
      ],
      "metadata": {
        "id": "_M64Q9w7zhCF"
      }
    },
    {
      "cell_type": "markdown",
      "source": [
        "## Verificando os dados"
      ],
      "metadata": {
        "id": "gg83tRGXzuiV"
      }
    },
    {
      "cell_type": "code",
      "source": [
        "treino = pd.read_csv(\"./train.csv\")\n",
        "teste = pd.read_csv(\"./test.csv\")"
      ],
      "metadata": {
        "id": "KhsuN4ew8mKR"
      },
      "execution_count": 994,
      "outputs": []
    },
    {
      "cell_type": "code",
      "source": [
        "treino.head()"
      ],
      "metadata": {
        "id": "Sr1olD-R8rGk",
        "colab": {
          "base_uri": "https://localhost:8080/",
          "height": 0
        },
        "outputId": "e881fde1-6fac-4b17-fb6b-d6cda5641822"
      },
      "execution_count": 995,
      "outputs": [
        {
          "output_type": "execute_result",
          "data": {
            "text/html": [
              "\n",
              "  <div id=\"df-9b3cef59-9d69-4fd2-9aae-376421bcb8a1\">\n",
              "    <div class=\"colab-df-container\">\n",
              "      <div>\n",
              "<style scoped>\n",
              "    .dataframe tbody tr th:only-of-type {\n",
              "        vertical-align: middle;\n",
              "    }\n",
              "\n",
              "    .dataframe tbody tr th {\n",
              "        vertical-align: top;\n",
              "    }\n",
              "\n",
              "    .dataframe thead th {\n",
              "        text-align: right;\n",
              "    }\n",
              "</style>\n",
              "<table border=\"1\" class=\"dataframe\">\n",
              "  <thead>\n",
              "    <tr style=\"text-align: right;\">\n",
              "      <th></th>\n",
              "      <th>id</th>\n",
              "      <th>belongs_to_collection</th>\n",
              "      <th>budget</th>\n",
              "      <th>genres</th>\n",
              "      <th>homepage</th>\n",
              "      <th>imdb_id</th>\n",
              "      <th>original_language</th>\n",
              "      <th>original_title</th>\n",
              "      <th>overview</th>\n",
              "      <th>popularity</th>\n",
              "      <th>...</th>\n",
              "      <th>release_date</th>\n",
              "      <th>runtime</th>\n",
              "      <th>spoken_languages</th>\n",
              "      <th>status</th>\n",
              "      <th>tagline</th>\n",
              "      <th>title</th>\n",
              "      <th>Keywords</th>\n",
              "      <th>cast</th>\n",
              "      <th>crew</th>\n",
              "      <th>revenue</th>\n",
              "    </tr>\n",
              "  </thead>\n",
              "  <tbody>\n",
              "    <tr>\n",
              "      <th>0</th>\n",
              "      <td>1</td>\n",
              "      <td>[{'id': 313576, 'name': 'Hot Tub Time Machine ...</td>\n",
              "      <td>14000000</td>\n",
              "      <td>[{'id': 35, 'name': 'Comedy'}]</td>\n",
              "      <td>NaN</td>\n",
              "      <td>tt2637294</td>\n",
              "      <td>en</td>\n",
              "      <td>Hot Tub Time Machine 2</td>\n",
              "      <td>When Lou, who has become the \"father of the In...</td>\n",
              "      <td>6.575393</td>\n",
              "      <td>...</td>\n",
              "      <td>2/20/15</td>\n",
              "      <td>93.0</td>\n",
              "      <td>[{'iso_639_1': 'en', 'name': 'English'}]</td>\n",
              "      <td>Released</td>\n",
              "      <td>The Laws of Space and Time are About to be Vio...</td>\n",
              "      <td>Hot Tub Time Machine 2</td>\n",
              "      <td>[{'id': 4379, 'name': 'time travel'}, {'id': 9...</td>\n",
              "      <td>[{'cast_id': 4, 'character': 'Lou', 'credit_id...</td>\n",
              "      <td>[{'credit_id': '59ac067c92514107af02c8c8', 'de...</td>\n",
              "      <td>12314651</td>\n",
              "    </tr>\n",
              "    <tr>\n",
              "      <th>1</th>\n",
              "      <td>2</td>\n",
              "      <td>[{'id': 107674, 'name': 'The Princess Diaries ...</td>\n",
              "      <td>40000000</td>\n",
              "      <td>[{'id': 35, 'name': 'Comedy'}, {'id': 18, 'nam...</td>\n",
              "      <td>NaN</td>\n",
              "      <td>tt0368933</td>\n",
              "      <td>en</td>\n",
              "      <td>The Princess Diaries 2: Royal Engagement</td>\n",
              "      <td>Mia Thermopolis is now a college graduate and ...</td>\n",
              "      <td>8.248895</td>\n",
              "      <td>...</td>\n",
              "      <td>8/6/04</td>\n",
              "      <td>113.0</td>\n",
              "      <td>[{'iso_639_1': 'en', 'name': 'English'}]</td>\n",
              "      <td>Released</td>\n",
              "      <td>It can take a lifetime to find true love; she'...</td>\n",
              "      <td>The Princess Diaries 2: Royal Engagement</td>\n",
              "      <td>[{'id': 2505, 'name': 'coronation'}, {'id': 42...</td>\n",
              "      <td>[{'cast_id': 1, 'character': 'Mia Thermopolis'...</td>\n",
              "      <td>[{'credit_id': '52fe43fe9251416c7502563d', 'de...</td>\n",
              "      <td>95149435</td>\n",
              "    </tr>\n",
              "    <tr>\n",
              "      <th>2</th>\n",
              "      <td>3</td>\n",
              "      <td>NaN</td>\n",
              "      <td>3300000</td>\n",
              "      <td>[{'id': 18, 'name': 'Drama'}]</td>\n",
              "      <td>http://sonyclassics.com/whiplash/</td>\n",
              "      <td>tt2582802</td>\n",
              "      <td>en</td>\n",
              "      <td>Whiplash</td>\n",
              "      <td>Under the direction of a ruthless instructor, ...</td>\n",
              "      <td>64.299990</td>\n",
              "      <td>...</td>\n",
              "      <td>10/10/14</td>\n",
              "      <td>105.0</td>\n",
              "      <td>[{'iso_639_1': 'en', 'name': 'English'}]</td>\n",
              "      <td>Released</td>\n",
              "      <td>The road to greatness can take you to the edge.</td>\n",
              "      <td>Whiplash</td>\n",
              "      <td>[{'id': 1416, 'name': 'jazz'}, {'id': 1523, 'n...</td>\n",
              "      <td>[{'cast_id': 5, 'character': 'Andrew Neimann',...</td>\n",
              "      <td>[{'credit_id': '54d5356ec3a3683ba0000039', 'de...</td>\n",
              "      <td>13092000</td>\n",
              "    </tr>\n",
              "    <tr>\n",
              "      <th>3</th>\n",
              "      <td>4</td>\n",
              "      <td>NaN</td>\n",
              "      <td>1200000</td>\n",
              "      <td>[{'id': 53, 'name': 'Thriller'}, {'id': 18, 'n...</td>\n",
              "      <td>http://kahaanithefilm.com/</td>\n",
              "      <td>tt1821480</td>\n",
              "      <td>hi</td>\n",
              "      <td>Kahaani</td>\n",
              "      <td>Vidya Bagchi (Vidya Balan) arrives in Kolkata ...</td>\n",
              "      <td>3.174936</td>\n",
              "      <td>...</td>\n",
              "      <td>3/9/12</td>\n",
              "      <td>122.0</td>\n",
              "      <td>[{'iso_639_1': 'en', 'name': 'English'}, {'iso...</td>\n",
              "      <td>Released</td>\n",
              "      <td>NaN</td>\n",
              "      <td>Kahaani</td>\n",
              "      <td>[{'id': 10092, 'name': 'mystery'}, {'id': 1054...</td>\n",
              "      <td>[{'cast_id': 1, 'character': 'Vidya Bagchi', '...</td>\n",
              "      <td>[{'credit_id': '52fe48779251416c9108d6eb', 'de...</td>\n",
              "      <td>16000000</td>\n",
              "    </tr>\n",
              "    <tr>\n",
              "      <th>4</th>\n",
              "      <td>5</td>\n",
              "      <td>NaN</td>\n",
              "      <td>0</td>\n",
              "      <td>[{'id': 28, 'name': 'Action'}, {'id': 53, 'nam...</td>\n",
              "      <td>NaN</td>\n",
              "      <td>tt1380152</td>\n",
              "      <td>ko</td>\n",
              "      <td>마린보이</td>\n",
              "      <td>Marine Boy is the story of a former national s...</td>\n",
              "      <td>1.148070</td>\n",
              "      <td>...</td>\n",
              "      <td>2/5/09</td>\n",
              "      <td>118.0</td>\n",
              "      <td>[{'iso_639_1': 'ko', 'name': '한국어/조선말'}]</td>\n",
              "      <td>Released</td>\n",
              "      <td>NaN</td>\n",
              "      <td>Marine Boy</td>\n",
              "      <td>NaN</td>\n",
              "      <td>[{'cast_id': 3, 'character': 'Chun-soo', 'cred...</td>\n",
              "      <td>[{'credit_id': '52fe464b9251416c75073b43', 'de...</td>\n",
              "      <td>3923970</td>\n",
              "    </tr>\n",
              "  </tbody>\n",
              "</table>\n",
              "<p>5 rows × 23 columns</p>\n",
              "</div>\n",
              "      <button class=\"colab-df-convert\" onclick=\"convertToInteractive('df-9b3cef59-9d69-4fd2-9aae-376421bcb8a1')\"\n",
              "              title=\"Convert this dataframe to an interactive table.\"\n",
              "              style=\"display:none;\">\n",
              "        \n",
              "  <svg xmlns=\"http://www.w3.org/2000/svg\" height=\"24px\"viewBox=\"0 0 24 24\"\n",
              "       width=\"24px\">\n",
              "    <path d=\"M0 0h24v24H0V0z\" fill=\"none\"/>\n",
              "    <path d=\"M18.56 5.44l.94 2.06.94-2.06 2.06-.94-2.06-.94-.94-2.06-.94 2.06-2.06.94zm-11 1L8.5 8.5l.94-2.06 2.06-.94-2.06-.94L8.5 2.5l-.94 2.06-2.06.94zm10 10l.94 2.06.94-2.06 2.06-.94-2.06-.94-.94-2.06-.94 2.06-2.06.94z\"/><path d=\"M17.41 7.96l-1.37-1.37c-.4-.4-.92-.59-1.43-.59-.52 0-1.04.2-1.43.59L10.3 9.45l-7.72 7.72c-.78.78-.78 2.05 0 2.83L4 21.41c.39.39.9.59 1.41.59.51 0 1.02-.2 1.41-.59l7.78-7.78 2.81-2.81c.8-.78.8-2.07 0-2.86zM5.41 20L4 18.59l7.72-7.72 1.47 1.35L5.41 20z\"/>\n",
              "  </svg>\n",
              "      </button>\n",
              "      \n",
              "  <style>\n",
              "    .colab-df-container {\n",
              "      display:flex;\n",
              "      flex-wrap:wrap;\n",
              "      gap: 12px;\n",
              "    }\n",
              "\n",
              "    .colab-df-convert {\n",
              "      background-color: #E8F0FE;\n",
              "      border: none;\n",
              "      border-radius: 50%;\n",
              "      cursor: pointer;\n",
              "      display: none;\n",
              "      fill: #1967D2;\n",
              "      height: 32px;\n",
              "      padding: 0 0 0 0;\n",
              "      width: 32px;\n",
              "    }\n",
              "\n",
              "    .colab-df-convert:hover {\n",
              "      background-color: #E2EBFA;\n",
              "      box-shadow: 0px 1px 2px rgba(60, 64, 67, 0.3), 0px 1px 3px 1px rgba(60, 64, 67, 0.15);\n",
              "      fill: #174EA6;\n",
              "    }\n",
              "\n",
              "    [theme=dark] .colab-df-convert {\n",
              "      background-color: #3B4455;\n",
              "      fill: #D2E3FC;\n",
              "    }\n",
              "\n",
              "    [theme=dark] .colab-df-convert:hover {\n",
              "      background-color: #434B5C;\n",
              "      box-shadow: 0px 1px 3px 1px rgba(0, 0, 0, 0.15);\n",
              "      filter: drop-shadow(0px 1px 2px rgba(0, 0, 0, 0.3));\n",
              "      fill: #FFFFFF;\n",
              "    }\n",
              "  </style>\n",
              "\n",
              "      <script>\n",
              "        const buttonEl =\n",
              "          document.querySelector('#df-9b3cef59-9d69-4fd2-9aae-376421bcb8a1 button.colab-df-convert');\n",
              "        buttonEl.style.display =\n",
              "          google.colab.kernel.accessAllowed ? 'block' : 'none';\n",
              "\n",
              "        async function convertToInteractive(key) {\n",
              "          const element = document.querySelector('#df-9b3cef59-9d69-4fd2-9aae-376421bcb8a1');\n",
              "          const dataTable =\n",
              "            await google.colab.kernel.invokeFunction('convertToInteractive',\n",
              "                                                     [key], {});\n",
              "          if (!dataTable) return;\n",
              "\n",
              "          const docLinkHtml = 'Like what you see? Visit the ' +\n",
              "            '<a target=\"_blank\" href=https://colab.research.google.com/notebooks/data_table.ipynb>data table notebook</a>'\n",
              "            + ' to learn more about interactive tables.';\n",
              "          element.innerHTML = '';\n",
              "          dataTable['output_type'] = 'display_data';\n",
              "          await google.colab.output.renderOutput(dataTable, element);\n",
              "          const docLink = document.createElement('div');\n",
              "          docLink.innerHTML = docLinkHtml;\n",
              "          element.appendChild(docLink);\n",
              "        }\n",
              "      </script>\n",
              "    </div>\n",
              "  </div>\n",
              "  "
            ],
            "text/plain": [
              "   id                              belongs_to_collection    budget  \\\n",
              "0   1  [{'id': 313576, 'name': 'Hot Tub Time Machine ...  14000000   \n",
              "1   2  [{'id': 107674, 'name': 'The Princess Diaries ...  40000000   \n",
              "2   3                                                NaN   3300000   \n",
              "3   4                                                NaN   1200000   \n",
              "4   5                                                NaN         0   \n",
              "\n",
              "                                              genres  \\\n",
              "0                     [{'id': 35, 'name': 'Comedy'}]   \n",
              "1  [{'id': 35, 'name': 'Comedy'}, {'id': 18, 'nam...   \n",
              "2                      [{'id': 18, 'name': 'Drama'}]   \n",
              "3  [{'id': 53, 'name': 'Thriller'}, {'id': 18, 'n...   \n",
              "4  [{'id': 28, 'name': 'Action'}, {'id': 53, 'nam...   \n",
              "\n",
              "                            homepage    imdb_id original_language  \\\n",
              "0                                NaN  tt2637294                en   \n",
              "1                                NaN  tt0368933                en   \n",
              "2  http://sonyclassics.com/whiplash/  tt2582802                en   \n",
              "3         http://kahaanithefilm.com/  tt1821480                hi   \n",
              "4                                NaN  tt1380152                ko   \n",
              "\n",
              "                             original_title  \\\n",
              "0                    Hot Tub Time Machine 2   \n",
              "1  The Princess Diaries 2: Royal Engagement   \n",
              "2                                  Whiplash   \n",
              "3                                   Kahaani   \n",
              "4                                      마린보이   \n",
              "\n",
              "                                            overview  popularity  ...  \\\n",
              "0  When Lou, who has become the \"father of the In...    6.575393  ...   \n",
              "1  Mia Thermopolis is now a college graduate and ...    8.248895  ...   \n",
              "2  Under the direction of a ruthless instructor, ...   64.299990  ...   \n",
              "3  Vidya Bagchi (Vidya Balan) arrives in Kolkata ...    3.174936  ...   \n",
              "4  Marine Boy is the story of a former national s...    1.148070  ...   \n",
              "\n",
              "  release_date runtime                                   spoken_languages  \\\n",
              "0      2/20/15    93.0           [{'iso_639_1': 'en', 'name': 'English'}]   \n",
              "1       8/6/04   113.0           [{'iso_639_1': 'en', 'name': 'English'}]   \n",
              "2     10/10/14   105.0           [{'iso_639_1': 'en', 'name': 'English'}]   \n",
              "3       3/9/12   122.0  [{'iso_639_1': 'en', 'name': 'English'}, {'iso...   \n",
              "4       2/5/09   118.0           [{'iso_639_1': 'ko', 'name': '한국어/조선말'}]   \n",
              "\n",
              "     status                                            tagline  \\\n",
              "0  Released  The Laws of Space and Time are About to be Vio...   \n",
              "1  Released  It can take a lifetime to find true love; she'...   \n",
              "2  Released    The road to greatness can take you to the edge.   \n",
              "3  Released                                                NaN   \n",
              "4  Released                                                NaN   \n",
              "\n",
              "                                      title  \\\n",
              "0                    Hot Tub Time Machine 2   \n",
              "1  The Princess Diaries 2: Royal Engagement   \n",
              "2                                  Whiplash   \n",
              "3                                   Kahaani   \n",
              "4                                Marine Boy   \n",
              "\n",
              "                                            Keywords  \\\n",
              "0  [{'id': 4379, 'name': 'time travel'}, {'id': 9...   \n",
              "1  [{'id': 2505, 'name': 'coronation'}, {'id': 42...   \n",
              "2  [{'id': 1416, 'name': 'jazz'}, {'id': 1523, 'n...   \n",
              "3  [{'id': 10092, 'name': 'mystery'}, {'id': 1054...   \n",
              "4                                                NaN   \n",
              "\n",
              "                                                cast  \\\n",
              "0  [{'cast_id': 4, 'character': 'Lou', 'credit_id...   \n",
              "1  [{'cast_id': 1, 'character': 'Mia Thermopolis'...   \n",
              "2  [{'cast_id': 5, 'character': 'Andrew Neimann',...   \n",
              "3  [{'cast_id': 1, 'character': 'Vidya Bagchi', '...   \n",
              "4  [{'cast_id': 3, 'character': 'Chun-soo', 'cred...   \n",
              "\n",
              "                                                crew   revenue  \n",
              "0  [{'credit_id': '59ac067c92514107af02c8c8', 'de...  12314651  \n",
              "1  [{'credit_id': '52fe43fe9251416c7502563d', 'de...  95149435  \n",
              "2  [{'credit_id': '54d5356ec3a3683ba0000039', 'de...  13092000  \n",
              "3  [{'credit_id': '52fe48779251416c9108d6eb', 'de...  16000000  \n",
              "4  [{'credit_id': '52fe464b9251416c75073b43', 'de...   3923970  \n",
              "\n",
              "[5 rows x 23 columns]"
            ]
          },
          "metadata": {},
          "execution_count": 995
        }
      ]
    },
    {
      "cell_type": "markdown",
      "source": [
        "##Verificando e limpando os dados"
      ],
      "metadata": {
        "id": "y3o03tr91VY_"
      }
    },
    {
      "cell_type": "markdown",
      "source": [
        "###Analise geral"
      ],
      "metadata": {
        "id": "fUApvkBilEIl"
      }
    },
    {
      "cell_type": "markdown",
      "source": [
        "Analisando o formato dos dados"
      ],
      "metadata": {
        "id": "rw5y70gTGVI_"
      }
    },
    {
      "cell_type": "code",
      "source": [
        "treino.shape, teste.shape"
      ],
      "metadata": {
        "colab": {
          "base_uri": "https://localhost:8080/"
        },
        "id": "k-IrSVD1-Y5l",
        "outputId": "1ea63a22-f52f-483d-aa74-2a93877cec59"
      },
      "execution_count": 996,
      "outputs": [
        {
          "output_type": "execute_result",
          "data": {
            "text/plain": [
              "((3000, 23), (4398, 22))"
            ]
          },
          "metadata": {},
          "execution_count": 996
        }
      ]
    },
    {
      "cell_type": "markdown",
      "source": [
        "Analisando os nomes das colunas do dataframe"
      ],
      "metadata": {
        "id": "Au6DRm-JGZcj"
      }
    },
    {
      "cell_type": "code",
      "source": [
        "list(treino.columns)"
      ],
      "metadata": {
        "colab": {
          "base_uri": "https://localhost:8080/"
        },
        "id": "jp44Yt8CeJv8",
        "outputId": "a3b41241-0b02-4b21-a0bf-df201aaf7d53"
      },
      "execution_count": 997,
      "outputs": [
        {
          "output_type": "execute_result",
          "data": {
            "text/plain": [
              "['id',\n",
              " 'belongs_to_collection',\n",
              " 'budget',\n",
              " 'genres',\n",
              " 'homepage',\n",
              " 'imdb_id',\n",
              " 'original_language',\n",
              " 'original_title',\n",
              " 'overview',\n",
              " 'popularity',\n",
              " 'poster_path',\n",
              " 'production_companies',\n",
              " 'production_countries',\n",
              " 'release_date',\n",
              " 'runtime',\n",
              " 'spoken_languages',\n",
              " 'status',\n",
              " 'tagline',\n",
              " 'title',\n",
              " 'Keywords',\n",
              " 'cast',\n",
              " 'crew',\n",
              " 'revenue']"
            ]
          },
          "metadata": {},
          "execution_count": 997
        }
      ]
    },
    {
      "cell_type": "markdown",
      "source": [
        "Analisando os tipos de dados"
      ],
      "metadata": {
        "id": "EhDGWqsqGshI"
      }
    },
    {
      "cell_type": "code",
      "source": [
        "treino.dtypes"
      ],
      "metadata": {
        "colab": {
          "base_uri": "https://localhost:8080/"
        },
        "id": "0ybitQBIkfu0",
        "outputId": "138300fe-12a7-4603-e92f-2c9c1bab53d6"
      },
      "execution_count": 998,
      "outputs": [
        {
          "output_type": "execute_result",
          "data": {
            "text/plain": [
              "id                         int64\n",
              "belongs_to_collection     object\n",
              "budget                     int64\n",
              "genres                    object\n",
              "homepage                  object\n",
              "imdb_id                   object\n",
              "original_language         object\n",
              "original_title            object\n",
              "overview                  object\n",
              "popularity               float64\n",
              "poster_path               object\n",
              "production_companies      object\n",
              "production_countries      object\n",
              "release_date              object\n",
              "runtime                  float64\n",
              "spoken_languages          object\n",
              "status                    object\n",
              "tagline                   object\n",
              "title                     object\n",
              "Keywords                  object\n",
              "cast                      object\n",
              "crew                      object\n",
              "revenue                    int64\n",
              "dtype: object"
            ]
          },
          "metadata": {},
          "execution_count": 998
        }
      ]
    },
    {
      "cell_type": "markdown",
      "source": [
        "Alisando se há algum valor nulo"
      ],
      "metadata": {
        "id": "gDS9wqv8Gvtu"
      }
    },
    {
      "cell_type": "code",
      "source": [
        "treino.isna().any()"
      ],
      "metadata": {
        "colab": {
          "base_uri": "https://localhost:8080/"
        },
        "id": "G2DQe516mmJ7",
        "outputId": "cea41eb1-6c3d-4260-f7ff-e0a4c605732d"
      },
      "execution_count": 999,
      "outputs": [
        {
          "output_type": "execute_result",
          "data": {
            "text/plain": [
              "id                       False\n",
              "belongs_to_collection     True\n",
              "budget                   False\n",
              "genres                    True\n",
              "homepage                  True\n",
              "imdb_id                  False\n",
              "original_language        False\n",
              "original_title           False\n",
              "overview                  True\n",
              "popularity               False\n",
              "poster_path               True\n",
              "production_companies      True\n",
              "production_countries      True\n",
              "release_date             False\n",
              "runtime                   True\n",
              "spoken_languages          True\n",
              "status                   False\n",
              "tagline                   True\n",
              "title                    False\n",
              "Keywords                  True\n",
              "cast                      True\n",
              "crew                      True\n",
              "revenue                  False\n",
              "dtype: bool"
            ]
          },
          "metadata": {},
          "execution_count": 999
        }
      ]
    },
    {
      "cell_type": "markdown",
      "source": [
        "Analisando a quantidade de dados nulos"
      ],
      "metadata": {
        "id": "k_F4RXnIG1is"
      }
    },
    {
      "cell_type": "code",
      "source": [
        "treino.isna().sum()"
      ],
      "metadata": {
        "colab": {
          "base_uri": "https://localhost:8080/"
        },
        "id": "ZnJLf5HknPgr",
        "outputId": "2d92dbae-a3f7-4c4a-8644-eeefba4a9e7b"
      },
      "execution_count": 1000,
      "outputs": [
        {
          "output_type": "execute_result",
          "data": {
            "text/plain": [
              "id                          0\n",
              "belongs_to_collection    2396\n",
              "budget                      0\n",
              "genres                      7\n",
              "homepage                 2054\n",
              "imdb_id                     0\n",
              "original_language           0\n",
              "original_title              0\n",
              "overview                    8\n",
              "popularity                  0\n",
              "poster_path                 1\n",
              "production_companies      156\n",
              "production_countries       55\n",
              "release_date                0\n",
              "runtime                     2\n",
              "spoken_languages           20\n",
              "status                      0\n",
              "tagline                   597\n",
              "title                       0\n",
              "Keywords                  276\n",
              "cast                       13\n",
              "crew                       16\n",
              "revenue                     0\n",
              "dtype: int64"
            ]
          },
          "metadata": {},
          "execution_count": 1000
        }
      ]
    },
    {
      "cell_type": "markdown",
      "source": [
        "Conferindo se hé dados duplicado"
      ],
      "metadata": {
        "id": "QOXdyHhyG4a8"
      }
    },
    {
      "cell_type": "code",
      "source": [
        "treino.duplicated().sum()"
      ],
      "metadata": {
        "colab": {
          "base_uri": "https://localhost:8080/"
        },
        "id": "Hxiof-ghtbi_",
        "outputId": "7340bea4-a1aa-4aa6-acc2-eab6286dec1c"
      },
      "execution_count": 1001,
      "outputs": [
        {
          "output_type": "execute_result",
          "data": {
            "text/plain": [
              "0"
            ]
          },
          "metadata": {},
          "execution_count": 1001
        }
      ]
    },
    {
      "cell_type": "markdown",
      "source": [
        "Retirando algumas linhas com dados faltantes\n",
        " \n",
        "(*Essas colunas foram escolhidas por terem número de dados nulos pouco relevantes para que influenciassem na análise*)\n",
        " \n"
      ],
      "metadata": {
        "id": "4NQFFwNiG6bl"
      }
    },
    {
      "cell_type": "code",
      "source": [
        "treino.dropna(axis=0, subset=['genres', 'overview','poster_path','production_companies','production_countries', 'runtime','spoken_languages', 'cast', 'crew'],inplace = True)"
      ],
      "metadata": {
        "id": "xrJ5GL7hecv8"
      },
      "execution_count": 1002,
      "outputs": []
    },
    {
      "cell_type": "markdown",
      "source": [
        "###Conferindo as mudanças"
      ],
      "metadata": {
        "id": "JB6oHwTdHD3o"
      }
    },
    {
      "cell_type": "code",
      "source": [
        "treino.shape"
      ],
      "metadata": {
        "colab": {
          "base_uri": "https://localhost:8080/"
        },
        "id": "FdLZIS6yHp3Z",
        "outputId": "e6b11051-93b4-48a7-fcb6-1655fd08a3fd"
      },
      "execution_count": 1003,
      "outputs": [
        {
          "output_type": "execute_result",
          "data": {
            "text/plain": [
              "(2804, 23)"
            ]
          },
          "metadata": {},
          "execution_count": 1003
        }
      ]
    },
    {
      "cell_type": "markdown",
      "source": [
        "### Certificando e retirando dados por coluna"
      ],
      "metadata": {
        "id": "Gl4CwnZEPn6M"
      }
    },
    {
      "cell_type": "markdown",
      "source": [
        "Conferindo o que havia na coluna de pertencente a coleção:"
      ],
      "metadata": {
        "id": "HqMKChngTyoN"
      }
    },
    {
      "cell_type": "code",
      "source": [
        "treino['belongs_to_collection'].value_counts()"
      ],
      "metadata": {
        "colab": {
          "base_uri": "https://localhost:8080/"
        },
        "id": "wOnnuAhfQskt",
        "outputId": "68e5f40c-5026-476d-d841-de473c2e65de"
      },
      "execution_count": 1004,
      "outputs": [
        {
          "output_type": "execute_result",
          "data": {
            "text/plain": [
              "[{'id': 645, 'name': 'James Bond Collection', 'poster_path': '/HORpg5CSkmeQlAolx3bKMrKgfi.jpg', 'backdrop_path': '/6VcVl48kNKvdXOZfJPdarlUGOsk.jpg'}]                                   16\n",
              "[{'id': 9735, 'name': 'Friday the 13th Collection', 'poster_path': '/uobgqpLQff9WvxGKE2OSvXv1RHm.jpg', 'backdrop_path': '/c7pMKwv5NzIN6N3KM4L8fYMTtPw.jpg'}]                             7\n",
              "[{'id': 937, 'name': 'The Pink Panther (Original) Collection', 'poster_path': '/xu6gZ0zGUSR8SC2QLKFaUrX2niM.jpg', 'backdrop_path': '/6KE7AguGR3UqwUn5RkzkoBc3MLy.jpg'}]                  6\n",
              "[{'id': 9338, 'name': 'Police Academy Collection', 'poster_path': '/1VRdXVy2FYlX4EtllnLKWK6kYDJ.jpg', 'backdrop_path': '/RhpI828r9EKPV4x0pyHiqCDZDQ.jpg'}]                               5\n",
              "[{'id': 41437, 'name': 'Paranormal Activity Collection', 'poster_path': '/lYXAMmm9XlYmj5Dr4O9diLQVCJS.jpg', 'backdrop_path': '/hZMiAPeINRH0M2X1PBEgn6YdULy.jpg'}]                        4\n",
              "                                                                                                                                                                                        ..\n",
              "[{'id': 401562, 'name': 'Teenage Mutant Ninja Turtles (Remake) Collection', 'poster_path': '/i3DywIl37k83YXWreQGIcWNF7kL.jpg', 'backdrop_path': '/tfpOdV9gvqbGJEeLGSu5X1vOLKV.jpg'}]     1\n",
              "[{'id': 306031, 'name': 'Pitch Perfect Collection', 'poster_path': '/n1bCFVJeVxX1yCTnXy4OCRwynF1.jpg', 'backdrop_path': '/jolu4gMP6g2VmUZt099U6X6jNNJ.jpg'}]                             1\n",
              "[{'id': 241729, 'name': 'Alpha and Omega Collection', 'poster_path': '/mAY1IkH0IoaETKlPu7t7Qj0agbp.jpg', 'backdrop_path': '/234TMV6vkkQZgYMJ2fOc1Gx1QeK.jpg'}]                           1\n",
              "[{'id': 14890, 'name': 'Bad Boys Collection', 'poster_path': '/tSVbihfvVTCbcm0zXKA7L8R6Y9v.jpg', 'backdrop_path': '/yUvBiiC77UY6SyKhfFyLj7DNbfh.jpg'}]                                   1\n",
              "[{'id': 107469, 'name': 'Save The Last Dance Collection', 'poster_path': '/jAByXoHn29RlCjIrOa3k1jl60DB.jpg', 'backdrop_path': None}]                                                     1\n",
              "Name: belongs_to_collection, Length: 408, dtype: int64"
            ]
          },
          "metadata": {},
          "execution_count": 1004
        }
      ]
    },
    {
      "cell_type": "markdown",
      "source": [
        "Como era uma categorização por coleção precisaria de um estudo mais aprofundado para que tal coluna fosse relevante. Além de se ter muitos dados faltantes.\n"
      ],
      "metadata": {
        "id": "r2hhwuF7UOwd"
      }
    },
    {
      "cell_type": "code",
      "source": [
        "treino.drop('belongs_to_collection', axis=1, inplace=True)"
      ],
      "metadata": {
        "id": "eqU09XuyU30k"
      },
      "execution_count": 1005,
      "outputs": []
    },
    {
      "cell_type": "markdown",
      "source": [
        "Conferindo o que havia na coluna de orçamento em ordem descrescente"
      ],
      "metadata": {
        "id": "Fg0pkJ4YQfJo"
      }
    },
    {
      "cell_type": "code",
      "source": [
        "treino.sort_values(by='budget',ascending=False)"
      ],
      "metadata": {
        "colab": {
          "base_uri": "https://localhost:8080/",
          "height": 0
        },
        "id": "x65GqIyGQQNZ",
        "outputId": "211f4739-4443-4ba6-cc51-5be268bd53d1"
      },
      "execution_count": 1006,
      "outputs": [
        {
          "output_type": "execute_result",
          "data": {
            "text/html": [
              "\n",
              "  <div id=\"df-fcdd5810-f930-4e2e-9468-8f6f9634cae6\">\n",
              "    <div class=\"colab-df-container\">\n",
              "      <div>\n",
              "<style scoped>\n",
              "    .dataframe tbody tr th:only-of-type {\n",
              "        vertical-align: middle;\n",
              "    }\n",
              "\n",
              "    .dataframe tbody tr th {\n",
              "        vertical-align: top;\n",
              "    }\n",
              "\n",
              "    .dataframe thead th {\n",
              "        text-align: right;\n",
              "    }\n",
              "</style>\n",
              "<table border=\"1\" class=\"dataframe\">\n",
              "  <thead>\n",
              "    <tr style=\"text-align: right;\">\n",
              "      <th></th>\n",
              "      <th>id</th>\n",
              "      <th>budget</th>\n",
              "      <th>genres</th>\n",
              "      <th>homepage</th>\n",
              "      <th>imdb_id</th>\n",
              "      <th>original_language</th>\n",
              "      <th>original_title</th>\n",
              "      <th>overview</th>\n",
              "      <th>popularity</th>\n",
              "      <th>poster_path</th>\n",
              "      <th>...</th>\n",
              "      <th>release_date</th>\n",
              "      <th>runtime</th>\n",
              "      <th>spoken_languages</th>\n",
              "      <th>status</th>\n",
              "      <th>tagline</th>\n",
              "      <th>title</th>\n",
              "      <th>Keywords</th>\n",
              "      <th>cast</th>\n",
              "      <th>crew</th>\n",
              "      <th>revenue</th>\n",
              "    </tr>\n",
              "  </thead>\n",
              "  <tbody>\n",
              "    <tr>\n",
              "      <th>2135</th>\n",
              "      <td>2136</td>\n",
              "      <td>380000000</td>\n",
              "      <td>[{'id': 12, 'name': 'Adventure'}, {'id': 28, '...</td>\n",
              "      <td>http://disney.go.com/pirates/index-on-stranger...</td>\n",
              "      <td>tt1298650</td>\n",
              "      <td>en</td>\n",
              "      <td>Pirates of the Caribbean: On Stranger Tides</td>\n",
              "      <td>Captain Jack Sparrow crosses paths with a woma...</td>\n",
              "      <td>27.887720</td>\n",
              "      <td>/wNUDAq5OUMOtxMlz64YaCp7gZma.jpg</td>\n",
              "      <td>...</td>\n",
              "      <td>5/14/11</td>\n",
              "      <td>136.0</td>\n",
              "      <td>[{'iso_639_1': 'en', 'name': 'English'}, {'iso...</td>\n",
              "      <td>Released</td>\n",
              "      <td>Live Forever Or Die Trying.</td>\n",
              "      <td>Pirates of the Caribbean: On Stranger Tides</td>\n",
              "      <td>[{'id': 658, 'name': 'sea'}, {'id': 1316, 'nam...</td>\n",
              "      <td>[{'cast_id': 15, 'character': 'Captain Jack Sp...</td>\n",
              "      <td>[{'credit_id': '566b4f54c3a3683f56005151', 'de...</td>\n",
              "      <td>1045713802</td>\n",
              "    </tr>\n",
              "    <tr>\n",
              "      <th>2209</th>\n",
              "      <td>2210</td>\n",
              "      <td>300000000</td>\n",
              "      <td>[{'id': 12, 'name': 'Adventure'}, {'id': 14, '...</td>\n",
              "      <td>http://disney.go.com/disneypictures/pirates/</td>\n",
              "      <td>tt0449088</td>\n",
              "      <td>en</td>\n",
              "      <td>Pirates of the Caribbean: At World's End</td>\n",
              "      <td>Captain Barbossa, long believed to be dead, ha...</td>\n",
              "      <td>31.363664</td>\n",
              "      <td>/bXb00CkHqx7TPchTGG131sWV59y.jpg</td>\n",
              "      <td>...</td>\n",
              "      <td>5/19/07</td>\n",
              "      <td>169.0</td>\n",
              "      <td>[{'iso_639_1': 'en', 'name': 'English'}]</td>\n",
              "      <td>Released</td>\n",
              "      <td>At the end of the world, the adventure begins.</td>\n",
              "      <td>Pirates of the Caribbean: At World's End</td>\n",
              "      <td>[{'id': 270, 'name': 'ocean'}, {'id': 726, 'na...</td>\n",
              "      <td>[{'cast_id': 4, 'character': 'Captain Jack Spa...</td>\n",
              "      <td>[{'credit_id': '52fe4232c3a36847f800b579', 'de...</td>\n",
              "      <td>961000000</td>\n",
              "    </tr>\n",
              "    <tr>\n",
              "      <th>2770</th>\n",
              "      <td>2771</td>\n",
              "      <td>280000000</td>\n",
              "      <td>[{'id': 28, 'name': 'Action'}, {'id': 12, 'nam...</td>\n",
              "      <td>http://marvel.com/movies/movie/193/avengers_ag...</td>\n",
              "      <td>tt2395427</td>\n",
              "      <td>en</td>\n",
              "      <td>Avengers: Age of Ultron</td>\n",
              "      <td>When Tony Stark tries to jumpstart a dormant p...</td>\n",
              "      <td>37.379420</td>\n",
              "      <td>/t90Y3G8UGQp0f0DrP60wRu9gfrH.jpg</td>\n",
              "      <td>...</td>\n",
              "      <td>4/22/15</td>\n",
              "      <td>141.0</td>\n",
              "      <td>[{'iso_639_1': 'en', 'name': 'English'}]</td>\n",
              "      <td>Released</td>\n",
              "      <td>A New Age Has Come.</td>\n",
              "      <td>Avengers: Age of Ultron</td>\n",
              "      <td>[{'id': 8828, 'name': 'marvel comic'}, {'id': ...</td>\n",
              "      <td>[{'cast_id': 76, 'character': 'Tony Stark / Ir...</td>\n",
              "      <td>[{'credit_id': '55d5f7d4c3a3683e7e0016eb', 'de...</td>\n",
              "      <td>1405403694</td>\n",
              "    </tr>\n",
              "    <tr>\n",
              "      <th>1425</th>\n",
              "      <td>1426</td>\n",
              "      <td>270000000</td>\n",
              "      <td>[{'id': 12, 'name': 'Adventure'}, {'id': 14, '...</td>\n",
              "      <td>http://www.superman.com</td>\n",
              "      <td>tt0348150</td>\n",
              "      <td>en</td>\n",
              "      <td>Superman Returns</td>\n",
              "      <td>Superman returns to discover his 5-year absenc...</td>\n",
              "      <td>13.284712</td>\n",
              "      <td>/e3aLTaD5ppxo3en0GAGceekEPAe.jpg</td>\n",
              "      <td>...</td>\n",
              "      <td>6/28/06</td>\n",
              "      <td>154.0</td>\n",
              "      <td>[{'iso_639_1': 'en', 'name': 'English'}, {'iso...</td>\n",
              "      <td>Released</td>\n",
              "      <td>NaN</td>\n",
              "      <td>Superman Returns</td>\n",
              "      <td>[{'id': 83, 'name': 'saving the world'}, {'id'...</td>\n",
              "      <td>[{'cast_id': 3, 'character': 'Superman / Clark...</td>\n",
              "      <td>[{'credit_id': '553bef6a9251416874003c8f', 'de...</td>\n",
              "      <td>391081192</td>\n",
              "    </tr>\n",
              "    <tr>\n",
              "      <th>1630</th>\n",
              "      <td>1631</td>\n",
              "      <td>260000000</td>\n",
              "      <td>[{'id': 28, 'name': 'Action'}, {'id': 878, 'na...</td>\n",
              "      <td>http://www.transformersmovie.com/</td>\n",
              "      <td>tt3371366</td>\n",
              "      <td>en</td>\n",
              "      <td>Transformers: The Last Knight</td>\n",
              "      <td>Autobots and Decepticons are at war, with huma...</td>\n",
              "      <td>39.186819</td>\n",
              "      <td>/s5HQf2Gb3lIO2cRcFwNL9sn1o1o.jpg</td>\n",
              "      <td>...</td>\n",
              "      <td>6/21/17</td>\n",
              "      <td>149.0</td>\n",
              "      <td>[{'iso_639_1': 'en', 'name': 'English'}]</td>\n",
              "      <td>Released</td>\n",
              "      <td>For one world to live, the other must die.</td>\n",
              "      <td>Transformers: The Last Knight</td>\n",
              "      <td>[{'id': 10466, 'name': 'knight'}, {'id': 10607...</td>\n",
              "      <td>[{'cast_id': 2, 'character': 'Cade Yeager', 'c...</td>\n",
              "      <td>[{'credit_id': '5553e38bc3a368208f000502', 'de...</td>\n",
              "      <td>604942143</td>\n",
              "    </tr>\n",
              "    <tr>\n",
              "      <th>...</th>\n",
              "      <td>...</td>\n",
              "      <td>...</td>\n",
              "      <td>...</td>\n",
              "      <td>...</td>\n",
              "      <td>...</td>\n",
              "      <td>...</td>\n",
              "      <td>...</td>\n",
              "      <td>...</td>\n",
              "      <td>...</td>\n",
              "      <td>...</td>\n",
              "      <td>...</td>\n",
              "      <td>...</td>\n",
              "      <td>...</td>\n",
              "      <td>...</td>\n",
              "      <td>...</td>\n",
              "      <td>...</td>\n",
              "      <td>...</td>\n",
              "      <td>...</td>\n",
              "      <td>...</td>\n",
              "      <td>...</td>\n",
              "      <td>...</td>\n",
              "    </tr>\n",
              "    <tr>\n",
              "      <th>2096</th>\n",
              "      <td>2097</td>\n",
              "      <td>0</td>\n",
              "      <td>[{'id': 10749, 'name': 'Romance'}, {'id': 18, ...</td>\n",
              "      <td>NaN</td>\n",
              "      <td>tt0116587</td>\n",
              "      <td>en</td>\n",
              "      <td>Hustler White</td>\n",
              "      <td>Reminiscent of Sunset Boulevard, Hustler White...</td>\n",
              "      <td>1.068288</td>\n",
              "      <td>/sREgNitMxCnucK5yL8oV4eP4EnK.jpg</td>\n",
              "      <td>...</td>\n",
              "      <td>7/19/96</td>\n",
              "      <td>79.0</td>\n",
              "      <td>[{'iso_639_1': 'en', 'name': 'English'}]</td>\n",
              "      <td>Released</td>\n",
              "      <td>See it with someone you've paid for.</td>\n",
              "      <td>Hustler White</td>\n",
              "      <td>NaN</td>\n",
              "      <td>[{'cast_id': 1, 'character': \"Montgomery 'Mont...</td>\n",
              "      <td>[{'credit_id': '52fe468bc3a36847f8104cb3', 'de...</td>\n",
              "      <td>127251</td>\n",
              "    </tr>\n",
              "    <tr>\n",
              "      <th>580</th>\n",
              "      <td>581</td>\n",
              "      <td>0</td>\n",
              "      <td>[{'id': 35, 'name': 'Comedy'}, {'id': 27, 'nam...</td>\n",
              "      <td>NaN</td>\n",
              "      <td>tt0091178</td>\n",
              "      <td>en</td>\n",
              "      <td>Haunted Honeymoon</td>\n",
              "      <td>Larry Abbot, speaker in the radio horror shows...</td>\n",
              "      <td>2.858879</td>\n",
              "      <td>/jRhLxC1rorRqWDb7xoNgxHhmAtO.jpg</td>\n",
              "      <td>...</td>\n",
              "      <td>7/25/86</td>\n",
              "      <td>82.0</td>\n",
              "      <td>[{'iso_639_1': 'en', 'name': 'English'}]</td>\n",
              "      <td>Released</td>\n",
              "      <td>...A Comedy Chiller</td>\n",
              "      <td>Haunted Honeymoon</td>\n",
              "      <td>[{'id': 10920, 'name': 'radio program'}]</td>\n",
              "      <td>[{'cast_id': 1, 'character': 'Larry Abbot', 'c...</td>\n",
              "      <td>[{'credit_id': '52fe4482c3a368484e0272b7', 'de...</td>\n",
              "      <td>8033397</td>\n",
              "    </tr>\n",
              "    <tr>\n",
              "      <th>2104</th>\n",
              "      <td>2105</td>\n",
              "      <td>0</td>\n",
              "      <td>[{'id': 35, 'name': 'Comedy'}]</td>\n",
              "      <td>NaN</td>\n",
              "      <td>tt0127296</td>\n",
              "      <td>en</td>\n",
              "      <td>Splendor</td>\n",
              "      <td>Veronica is a white-bread beauty searching for...</td>\n",
              "      <td>3.508075</td>\n",
              "      <td>/1nbcquysc6Y69xzQckeHnD1rmil.jpg</td>\n",
              "      <td>...</td>\n",
              "      <td>1/29/99</td>\n",
              "      <td>93.0</td>\n",
              "      <td>[{'iso_639_1': 'en', 'name': 'English'}]</td>\n",
              "      <td>Released</td>\n",
              "      <td>Explore the possibilities...</td>\n",
              "      <td>Splendor</td>\n",
              "      <td>[{'id': 3190, 'name': 'menage a trois'}]</td>\n",
              "      <td>[{'cast_id': 1, 'character': 'Veronica', 'cred...</td>\n",
              "      <td>[{'credit_id': '52fe45949251416c91037519', 'de...</td>\n",
              "      <td>45703</td>\n",
              "    </tr>\n",
              "    <tr>\n",
              "      <th>579</th>\n",
              "      <td>580</td>\n",
              "      <td>0</td>\n",
              "      <td>[{'id': 28, 'name': 'Action'}, {'id': 37, 'nam...</td>\n",
              "      <td>NaN</td>\n",
              "      <td>tt0040175</td>\n",
              "      <td>en</td>\n",
              "      <td>Blood on the Moon</td>\n",
              "      <td>Mitchum plays drifter cowboy Jim Garry. After ...</td>\n",
              "      <td>1.033927</td>\n",
              "      <td>/rU6VHAVXH32xNNyUGTjuGX3ZT3i.jpg</td>\n",
              "      <td>...</td>\n",
              "      <td>11/9/48</td>\n",
              "      <td>88.0</td>\n",
              "      <td>[{'iso_639_1': 'en', 'name': 'English'}]</td>\n",
              "      <td>Released</td>\n",
              "      <td>\"Just remember...A WOMAN'S BULLETS KILL AS QUI...</td>\n",
              "      <td>Blood on the Moon</td>\n",
              "      <td>[{'id': 5600, 'name': 'daughter'}, {'id': 1244...</td>\n",
              "      <td>[{'cast_id': 1, 'character': 'Jim Garry', 'cre...</td>\n",
              "      <td>[{'credit_id': '52fe4608c3a368484e07ce1b', 'de...</td>\n",
              "      <td>88</td>\n",
              "    </tr>\n",
              "    <tr>\n",
              "      <th>594</th>\n",
              "      <td>595</td>\n",
              "      <td>0</td>\n",
              "      <td>[{'id': 35, 'name': 'Comedy'}]</td>\n",
              "      <td>NaN</td>\n",
              "      <td>tt0114694</td>\n",
              "      <td>en</td>\n",
              "      <td>Tommy Boy</td>\n",
              "      <td>Party animal Tommy Callahan is a few cans shor...</td>\n",
              "      <td>11.971318</td>\n",
              "      <td>/lbsuDUaTH9POXWb4Inyck8gZFck.jpg</td>\n",
              "      <td>...</td>\n",
              "      <td>3/31/95</td>\n",
              "      <td>97.0</td>\n",
              "      <td>[{'iso_639_1': 'en', 'name': 'English'}]</td>\n",
              "      <td>Released</td>\n",
              "      <td>If at first you don't succeed, lower your stan...</td>\n",
              "      <td>Tommy Boy</td>\n",
              "      <td>NaN</td>\n",
              "      <td>[{'cast_id': 1, 'character': \"Thomas 'Tommy' C...</td>\n",
              "      <td>[{'credit_id': '52fe44359251416c7502c87d', 'de...</td>\n",
              "      <td>32648673</td>\n",
              "    </tr>\n",
              "  </tbody>\n",
              "</table>\n",
              "<p>2804 rows × 22 columns</p>\n",
              "</div>\n",
              "      <button class=\"colab-df-convert\" onclick=\"convertToInteractive('df-fcdd5810-f930-4e2e-9468-8f6f9634cae6')\"\n",
              "              title=\"Convert this dataframe to an interactive table.\"\n",
              "              style=\"display:none;\">\n",
              "        \n",
              "  <svg xmlns=\"http://www.w3.org/2000/svg\" height=\"24px\"viewBox=\"0 0 24 24\"\n",
              "       width=\"24px\">\n",
              "    <path d=\"M0 0h24v24H0V0z\" fill=\"none\"/>\n",
              "    <path d=\"M18.56 5.44l.94 2.06.94-2.06 2.06-.94-2.06-.94-.94-2.06-.94 2.06-2.06.94zm-11 1L8.5 8.5l.94-2.06 2.06-.94-2.06-.94L8.5 2.5l-.94 2.06-2.06.94zm10 10l.94 2.06.94-2.06 2.06-.94-2.06-.94-.94-2.06-.94 2.06-2.06.94z\"/><path d=\"M17.41 7.96l-1.37-1.37c-.4-.4-.92-.59-1.43-.59-.52 0-1.04.2-1.43.59L10.3 9.45l-7.72 7.72c-.78.78-.78 2.05 0 2.83L4 21.41c.39.39.9.59 1.41.59.51 0 1.02-.2 1.41-.59l7.78-7.78 2.81-2.81c.8-.78.8-2.07 0-2.86zM5.41 20L4 18.59l7.72-7.72 1.47 1.35L5.41 20z\"/>\n",
              "  </svg>\n",
              "      </button>\n",
              "      \n",
              "  <style>\n",
              "    .colab-df-container {\n",
              "      display:flex;\n",
              "      flex-wrap:wrap;\n",
              "      gap: 12px;\n",
              "    }\n",
              "\n",
              "    .colab-df-convert {\n",
              "      background-color: #E8F0FE;\n",
              "      border: none;\n",
              "      border-radius: 50%;\n",
              "      cursor: pointer;\n",
              "      display: none;\n",
              "      fill: #1967D2;\n",
              "      height: 32px;\n",
              "      padding: 0 0 0 0;\n",
              "      width: 32px;\n",
              "    }\n",
              "\n",
              "    .colab-df-convert:hover {\n",
              "      background-color: #E2EBFA;\n",
              "      box-shadow: 0px 1px 2px rgba(60, 64, 67, 0.3), 0px 1px 3px 1px rgba(60, 64, 67, 0.15);\n",
              "      fill: #174EA6;\n",
              "    }\n",
              "\n",
              "    [theme=dark] .colab-df-convert {\n",
              "      background-color: #3B4455;\n",
              "      fill: #D2E3FC;\n",
              "    }\n",
              "\n",
              "    [theme=dark] .colab-df-convert:hover {\n",
              "      background-color: #434B5C;\n",
              "      box-shadow: 0px 1px 3px 1px rgba(0, 0, 0, 0.15);\n",
              "      filter: drop-shadow(0px 1px 2px rgba(0, 0, 0, 0.3));\n",
              "      fill: #FFFFFF;\n",
              "    }\n",
              "  </style>\n",
              "\n",
              "      <script>\n",
              "        const buttonEl =\n",
              "          document.querySelector('#df-fcdd5810-f930-4e2e-9468-8f6f9634cae6 button.colab-df-convert');\n",
              "        buttonEl.style.display =\n",
              "          google.colab.kernel.accessAllowed ? 'block' : 'none';\n",
              "\n",
              "        async function convertToInteractive(key) {\n",
              "          const element = document.querySelector('#df-fcdd5810-f930-4e2e-9468-8f6f9634cae6');\n",
              "          const dataTable =\n",
              "            await google.colab.kernel.invokeFunction('convertToInteractive',\n",
              "                                                     [key], {});\n",
              "          if (!dataTable) return;\n",
              "\n",
              "          const docLinkHtml = 'Like what you see? Visit the ' +\n",
              "            '<a target=\"_blank\" href=https://colab.research.google.com/notebooks/data_table.ipynb>data table notebook</a>'\n",
              "            + ' to learn more about interactive tables.';\n",
              "          element.innerHTML = '';\n",
              "          dataTable['output_type'] = 'display_data';\n",
              "          await google.colab.output.renderOutput(dataTable, element);\n",
              "          const docLink = document.createElement('div');\n",
              "          docLink.innerHTML = docLinkHtml;\n",
              "          element.appendChild(docLink);\n",
              "        }\n",
              "      </script>\n",
              "    </div>\n",
              "  </div>\n",
              "  "
            ],
            "text/plain": [
              "        id     budget                                             genres  \\\n",
              "2135  2136  380000000  [{'id': 12, 'name': 'Adventure'}, {'id': 28, '...   \n",
              "2209  2210  300000000  [{'id': 12, 'name': 'Adventure'}, {'id': 14, '...   \n",
              "2770  2771  280000000  [{'id': 28, 'name': 'Action'}, {'id': 12, 'nam...   \n",
              "1425  1426  270000000  [{'id': 12, 'name': 'Adventure'}, {'id': 14, '...   \n",
              "1630  1631  260000000  [{'id': 28, 'name': 'Action'}, {'id': 878, 'na...   \n",
              "...    ...        ...                                                ...   \n",
              "2096  2097          0  [{'id': 10749, 'name': 'Romance'}, {'id': 18, ...   \n",
              "580    581          0  [{'id': 35, 'name': 'Comedy'}, {'id': 27, 'nam...   \n",
              "2104  2105          0                     [{'id': 35, 'name': 'Comedy'}]   \n",
              "579    580          0  [{'id': 28, 'name': 'Action'}, {'id': 37, 'nam...   \n",
              "594    595          0                     [{'id': 35, 'name': 'Comedy'}]   \n",
              "\n",
              "                                               homepage    imdb_id  \\\n",
              "2135  http://disney.go.com/pirates/index-on-stranger...  tt1298650   \n",
              "2209       http://disney.go.com/disneypictures/pirates/  tt0449088   \n",
              "2770  http://marvel.com/movies/movie/193/avengers_ag...  tt2395427   \n",
              "1425                            http://www.superman.com  tt0348150   \n",
              "1630                  http://www.transformersmovie.com/  tt3371366   \n",
              "...                                                 ...        ...   \n",
              "2096                                                NaN  tt0116587   \n",
              "580                                                 NaN  tt0091178   \n",
              "2104                                                NaN  tt0127296   \n",
              "579                                                 NaN  tt0040175   \n",
              "594                                                 NaN  tt0114694   \n",
              "\n",
              "     original_language                               original_title  \\\n",
              "2135                en  Pirates of the Caribbean: On Stranger Tides   \n",
              "2209                en     Pirates of the Caribbean: At World's End   \n",
              "2770                en                      Avengers: Age of Ultron   \n",
              "1425                en                             Superman Returns   \n",
              "1630                en                Transformers: The Last Knight   \n",
              "...                ...                                          ...   \n",
              "2096                en                                Hustler White   \n",
              "580                 en                            Haunted Honeymoon   \n",
              "2104                en                                     Splendor   \n",
              "579                 en                            Blood on the Moon   \n",
              "594                 en                                    Tommy Boy   \n",
              "\n",
              "                                               overview  popularity  \\\n",
              "2135  Captain Jack Sparrow crosses paths with a woma...   27.887720   \n",
              "2209  Captain Barbossa, long believed to be dead, ha...   31.363664   \n",
              "2770  When Tony Stark tries to jumpstart a dormant p...   37.379420   \n",
              "1425  Superman returns to discover his 5-year absenc...   13.284712   \n",
              "1630  Autobots and Decepticons are at war, with huma...   39.186819   \n",
              "...                                                 ...         ...   \n",
              "2096  Reminiscent of Sunset Boulevard, Hustler White...    1.068288   \n",
              "580   Larry Abbot, speaker in the radio horror shows...    2.858879   \n",
              "2104  Veronica is a white-bread beauty searching for...    3.508075   \n",
              "579   Mitchum plays drifter cowboy Jim Garry. After ...    1.033927   \n",
              "594   Party animal Tommy Callahan is a few cans shor...   11.971318   \n",
              "\n",
              "                           poster_path  ... release_date runtime  \\\n",
              "2135  /wNUDAq5OUMOtxMlz64YaCp7gZma.jpg  ...      5/14/11   136.0   \n",
              "2209  /bXb00CkHqx7TPchTGG131sWV59y.jpg  ...      5/19/07   169.0   \n",
              "2770  /t90Y3G8UGQp0f0DrP60wRu9gfrH.jpg  ...      4/22/15   141.0   \n",
              "1425  /e3aLTaD5ppxo3en0GAGceekEPAe.jpg  ...      6/28/06   154.0   \n",
              "1630  /s5HQf2Gb3lIO2cRcFwNL9sn1o1o.jpg  ...      6/21/17   149.0   \n",
              "...                                ...  ...          ...     ...   \n",
              "2096  /sREgNitMxCnucK5yL8oV4eP4EnK.jpg  ...      7/19/96    79.0   \n",
              "580   /jRhLxC1rorRqWDb7xoNgxHhmAtO.jpg  ...      7/25/86    82.0   \n",
              "2104  /1nbcquysc6Y69xzQckeHnD1rmil.jpg  ...      1/29/99    93.0   \n",
              "579   /rU6VHAVXH32xNNyUGTjuGX3ZT3i.jpg  ...      11/9/48    88.0   \n",
              "594   /lbsuDUaTH9POXWb4Inyck8gZFck.jpg  ...      3/31/95    97.0   \n",
              "\n",
              "                                       spoken_languages    status  \\\n",
              "2135  [{'iso_639_1': 'en', 'name': 'English'}, {'iso...  Released   \n",
              "2209           [{'iso_639_1': 'en', 'name': 'English'}]  Released   \n",
              "2770           [{'iso_639_1': 'en', 'name': 'English'}]  Released   \n",
              "1425  [{'iso_639_1': 'en', 'name': 'English'}, {'iso...  Released   \n",
              "1630           [{'iso_639_1': 'en', 'name': 'English'}]  Released   \n",
              "...                                                 ...       ...   \n",
              "2096           [{'iso_639_1': 'en', 'name': 'English'}]  Released   \n",
              "580            [{'iso_639_1': 'en', 'name': 'English'}]  Released   \n",
              "2104           [{'iso_639_1': 'en', 'name': 'English'}]  Released   \n",
              "579            [{'iso_639_1': 'en', 'name': 'English'}]  Released   \n",
              "594            [{'iso_639_1': 'en', 'name': 'English'}]  Released   \n",
              "\n",
              "                                                tagline  \\\n",
              "2135                        Live Forever Or Die Trying.   \n",
              "2209     At the end of the world, the adventure begins.   \n",
              "2770                                A New Age Has Come.   \n",
              "1425                                                NaN   \n",
              "1630         For one world to live, the other must die.   \n",
              "...                                                 ...   \n",
              "2096               See it with someone you've paid for.   \n",
              "580                                 ...A Comedy Chiller   \n",
              "2104                       Explore the possibilities...   \n",
              "579   \"Just remember...A WOMAN'S BULLETS KILL AS QUI...   \n",
              "594   If at first you don't succeed, lower your stan...   \n",
              "\n",
              "                                            title  \\\n",
              "2135  Pirates of the Caribbean: On Stranger Tides   \n",
              "2209     Pirates of the Caribbean: At World's End   \n",
              "2770                      Avengers: Age of Ultron   \n",
              "1425                             Superman Returns   \n",
              "1630                Transformers: The Last Knight   \n",
              "...                                           ...   \n",
              "2096                                Hustler White   \n",
              "580                             Haunted Honeymoon   \n",
              "2104                                     Splendor   \n",
              "579                             Blood on the Moon   \n",
              "594                                     Tommy Boy   \n",
              "\n",
              "                                               Keywords  \\\n",
              "2135  [{'id': 658, 'name': 'sea'}, {'id': 1316, 'nam...   \n",
              "2209  [{'id': 270, 'name': 'ocean'}, {'id': 726, 'na...   \n",
              "2770  [{'id': 8828, 'name': 'marvel comic'}, {'id': ...   \n",
              "1425  [{'id': 83, 'name': 'saving the world'}, {'id'...   \n",
              "1630  [{'id': 10466, 'name': 'knight'}, {'id': 10607...   \n",
              "...                                                 ...   \n",
              "2096                                                NaN   \n",
              "580            [{'id': 10920, 'name': 'radio program'}]   \n",
              "2104           [{'id': 3190, 'name': 'menage a trois'}]   \n",
              "579   [{'id': 5600, 'name': 'daughter'}, {'id': 1244...   \n",
              "594                                                 NaN   \n",
              "\n",
              "                                                   cast  \\\n",
              "2135  [{'cast_id': 15, 'character': 'Captain Jack Sp...   \n",
              "2209  [{'cast_id': 4, 'character': 'Captain Jack Spa...   \n",
              "2770  [{'cast_id': 76, 'character': 'Tony Stark / Ir...   \n",
              "1425  [{'cast_id': 3, 'character': 'Superman / Clark...   \n",
              "1630  [{'cast_id': 2, 'character': 'Cade Yeager', 'c...   \n",
              "...                                                 ...   \n",
              "2096  [{'cast_id': 1, 'character': \"Montgomery 'Mont...   \n",
              "580   [{'cast_id': 1, 'character': 'Larry Abbot', 'c...   \n",
              "2104  [{'cast_id': 1, 'character': 'Veronica', 'cred...   \n",
              "579   [{'cast_id': 1, 'character': 'Jim Garry', 'cre...   \n",
              "594   [{'cast_id': 1, 'character': \"Thomas 'Tommy' C...   \n",
              "\n",
              "                                                   crew     revenue  \n",
              "2135  [{'credit_id': '566b4f54c3a3683f56005151', 'de...  1045713802  \n",
              "2209  [{'credit_id': '52fe4232c3a36847f800b579', 'de...   961000000  \n",
              "2770  [{'credit_id': '55d5f7d4c3a3683e7e0016eb', 'de...  1405403694  \n",
              "1425  [{'credit_id': '553bef6a9251416874003c8f', 'de...   391081192  \n",
              "1630  [{'credit_id': '5553e38bc3a368208f000502', 'de...   604942143  \n",
              "...                                                 ...         ...  \n",
              "2096  [{'credit_id': '52fe468bc3a36847f8104cb3', 'de...      127251  \n",
              "580   [{'credit_id': '52fe4482c3a368484e0272b7', 'de...     8033397  \n",
              "2104  [{'credit_id': '52fe45949251416c91037519', 'de...       45703  \n",
              "579   [{'credit_id': '52fe4608c3a368484e07ce1b', 'de...          88  \n",
              "594   [{'credit_id': '52fe44359251416c7502c87d', 'de...    32648673  \n",
              "\n",
              "[2804 rows x 22 columns]"
            ]
          },
          "metadata": {},
          "execution_count": 1006
        }
      ]
    },
    {
      "cell_type": "markdown",
      "source": [
        "Como tal dado parece relevante será mantido"
      ],
      "metadata": {
        "id": "W4t8KWKSS7ge"
      }
    },
    {
      "cell_type": "markdown",
      "source": [
        "Conferindo o que havia na coluna de gêneros de filme:"
      ],
      "metadata": {
        "id": "Q0niLcTZOvKo"
      }
    },
    {
      "cell_type": "code",
      "source": [
        "treino['genres'].value_counts()"
      ],
      "metadata": {
        "colab": {
          "base_uri": "https://localhost:8080/"
        },
        "id": "UO0QtpKLMuUm",
        "outputId": "b7ce7fb3-81a4-4374-d5b7-5a71f878fed3"
      },
      "execution_count": 1007,
      "outputs": [
        {
          "output_type": "execute_result",
          "data": {
            "text/plain": [
              "[{'id': 18, 'name': 'Drama'}]                                                                                                                                                                                                             249\n",
              "[{'id': 35, 'name': 'Comedy'}]                                                                                                                                                                                                            171\n",
              "[{'id': 18, 'name': 'Drama'}, {'id': 10749, 'name': 'Romance'}]                                                                                                                                                                           101\n",
              "[{'id': 35, 'name': 'Comedy'}, {'id': 10749, 'name': 'Romance'}]                                                                                                                                                                           83\n",
              "[{'id': 35, 'name': 'Comedy'}, {'id': 18, 'name': 'Drama'}]                                                                                                                                                                                75\n",
              "                                                                                                                                                                                                                                         ... \n",
              "[{'id': 12, 'name': 'Adventure'}, {'id': 28, 'name': 'Action'}, {'id': 35, 'name': 'Comedy'}, {'id': 53, 'name': 'Thriller'}, {'id': 80, 'name': 'Crime'}]                                                                                  1\n",
              "[{'id': 28, 'name': 'Action'}, {'id': 12, 'name': 'Adventure'}, {'id': 16, 'name': 'Animation'}, {'id': 35, 'name': 'Comedy'}, {'id': 10751, 'name': 'Family'}, {'id': 14, 'name': 'Fantasy'}, {'id': 878, 'name': 'Science Fiction'}]      1\n",
              "[{'id': 14, 'name': 'Fantasy'}, {'id': 10402, 'name': 'Music'}, {'id': 10749, 'name': 'Romance'}]                                                                                                                                           1\n",
              "[{'id': 35, 'name': 'Comedy'}, {'id': 80, 'name': 'Crime'}, {'id': 10749, 'name': 'Romance'}, {'id': 53, 'name': 'Thriller'}]                                                                                                               1\n",
              "[{'id': 53, 'name': 'Thriller'}, {'id': 28, 'name': 'Action'}, {'id': 9648, 'name': 'Mystery'}]                                                                                                                                             1\n",
              "Name: genres, Length: 841, dtype: int64"
            ]
          },
          "metadata": {},
          "execution_count": 1007
        }
      ]
    },
    {
      "cell_type": "markdown",
      "source": [
        "Como tal dado parece relevante será mantido"
      ],
      "metadata": {
        "id": "-1WTayeRStEO"
      }
    },
    {
      "cell_type": "markdown",
      "source": [
        "Conferindo o que havia na coluna de homepage:"
      ],
      "metadata": {
        "id": "g5gmXjWpHHO1"
      }
    },
    {
      "cell_type": "code",
      "source": [
        "treino['homepage'].value_counts()"
      ],
      "metadata": {
        "colab": {
          "base_uri": "https://localhost:8080/"
        },
        "id": "gXeRvVxEAU4e",
        "outputId": "953de68e-42a1-44bb-f2e2-aef44a30c7fd"
      },
      "execution_count": 1008,
      "outputs": [
        {
          "output_type": "execute_result",
          "data": {
            "text/plain": [
              "http://www.transformersmovie.com/                           4\n",
              "http://www.lordoftherings.net/                              2\n",
              "http://www.thehobbit.com/                                   2\n",
              "http://www.jankypromoters.com/                              1\n",
              "http://www.maxpaynethemovie.com                             1\n",
              "                                                           ..\n",
              "http://www.popperspenguins.com/main.html                    1\n",
              "http://www.mgm.com/view/movie/1132/The-Living-Daylights/    1\n",
              "http://www.bitchslapmovie.com/                              1\n",
              "http://oceans13.warnerbros.com/                             1\n",
              "http://www.abductionthefilm.com/                            1\n",
              "Name: homepage, Length: 890, dtype: int64"
            ]
          },
          "metadata": {},
          "execution_count": 1008
        }
      ]
    },
    {
      "cell_type": "markdown",
      "source": [
        "Como eram apenas links e todos eram diferente foi decidido excluir essa coluna"
      ],
      "metadata": {
        "id": "ABcylrDLQD8M"
      }
    },
    {
      "cell_type": "code",
      "source": [
        "treino.drop('homepage', axis=1, inplace=True)"
      ],
      "metadata": {
        "id": "kMBHtlrKN3sp"
      },
      "execution_count": 1009,
      "outputs": []
    },
    {
      "cell_type": "markdown",
      "source": [
        "Conferindo o que havia na coluna de id do IMDB"
      ],
      "metadata": {
        "id": "8DZjrHxfHNbl"
      }
    },
    {
      "cell_type": "code",
      "source": [
        "treino['imdb_id'].value_counts()"
      ],
      "metadata": {
        "colab": {
          "base_uri": "https://localhost:8080/"
        },
        "id": "Fho6NrXgHUOg",
        "outputId": "15d39469-1d90-49c3-e3ee-0429279d648a"
      },
      "execution_count": 1010,
      "outputs": [
        {
          "output_type": "execute_result",
          "data": {
            "text/plain": [
              "tt2637294    1\n",
              "tt2091473    1\n",
              "tt0427392    1\n",
              "tt0262396    1\n",
              "tt0112453    1\n",
              "            ..\n",
              "tt0429277    1\n",
              "tt0091080    1\n",
              "tt0108358    1\n",
              "tt3152624    1\n",
              "tt1600195    1\n",
              "Name: imdb_id, Length: 2804, dtype: int64"
            ]
          },
          "metadata": {},
          "execution_count": 1010
        }
      ]
    },
    {
      "cell_type": "markdown",
      "source": [
        "Como eram apenas Ids todos diferentes foi decidido excluir essa coluna"
      ],
      "metadata": {
        "id": "DZuokIgHTFO8"
      }
    },
    {
      "cell_type": "code",
      "source": [
        "treino.drop('imdb_id', axis=1, inplace=True)"
      ],
      "metadata": {
        "id": "DZfqbEBAUloz"
      },
      "execution_count": 1011,
      "outputs": []
    },
    {
      "cell_type": "markdown",
      "source": [
        "Conferindo o que havia na coluna de língua original:"
      ],
      "metadata": {
        "id": "mApEiRsWV8g9"
      }
    },
    {
      "cell_type": "code",
      "source": [
        "treino['original_language'].value_counts()"
      ],
      "metadata": {
        "colab": {
          "base_uri": "https://localhost:8080/"
        },
        "id": "FZ4aMLsyVvR7",
        "outputId": "533eb2ed-8c5a-4186-89b2-99d65aa0ebdc"
      },
      "execution_count": 1012,
      "outputs": [
        {
          "output_type": "execute_result",
          "data": {
            "text/plain": [
              "en    2424\n",
              "fr      76\n",
              "es      40\n",
              "hi      38\n",
              "ru      34\n",
              "ja      33\n",
              "cn      20\n",
              "ko      19\n",
              "it      18\n",
              "zh      18\n",
              "de      17\n",
              "ta      14\n",
              "sv       8\n",
              "pt       6\n",
              "fa       5\n",
              "da       5\n",
              "ro       4\n",
              "nl       4\n",
              "hu       3\n",
              "tr       2\n",
              "ml       2\n",
              "no       2\n",
              "pl       2\n",
              "bn       1\n",
              "te       1\n",
              "he       1\n",
              "nb       1\n",
              "ar       1\n",
              "ur       1\n",
              "el       1\n",
              "fi       1\n",
              "sr       1\n",
              "id       1\n",
              "Name: original_language, dtype: int64"
            ]
          },
          "metadata": {},
          "execution_count": 1012
        }
      ]
    },
    {
      "cell_type": "markdown",
      "source": [
        "Como tal dado parece relevante será mantido"
      ],
      "metadata": {
        "id": "3ArRUoRtWobF"
      }
    },
    {
      "cell_type": "markdown",
      "source": [
        "Conferindo o que havia na coluna de título original"
      ],
      "metadata": {
        "id": "ZtJKBWb0W1xl"
      }
    },
    {
      "cell_type": "code",
      "source": [
        "treino['original_title'].value_counts()"
      ],
      "metadata": {
        "colab": {
          "base_uri": "https://localhost:8080/"
        },
        "id": "Wc-O0Y3DXHA9",
        "outputId": "4b3e7602-3c4a-40f8-c5c4-b059cc0b83f7"
      },
      "execution_count": 1013,
      "outputs": [
        {
          "output_type": "execute_result",
          "data": {
            "text/plain": [
              "The Other Woman                         2\n",
              "Hot Pursuit                             2\n",
              "Lolita                                  2\n",
              "Alone in the Dark                       2\n",
              "The Double                              2\n",
              "                                       ..\n",
              "Friday the 13th Part VI: Jason Lives    1\n",
              "Tombstone                               1\n",
              "Trainwreck                              1\n",
              "Pale Rider                              1\n",
              "Abduction                               1\n",
              "Name: original_title, Length: 2781, dtype: int64"
            ]
          },
          "metadata": {},
          "execution_count": 1013
        }
      ]
    },
    {
      "cell_type": "markdown",
      "source": [
        "Como nessa coluna há caracteres que não são do alfabeto romano foi decidido excluir essa coluna"
      ],
      "metadata": {
        "id": "Mid5OAthXHA9"
      }
    },
    {
      "cell_type": "code",
      "source": [
        "treino.drop('original_title', axis=1, inplace=True)"
      ],
      "metadata": {
        "id": "PJpTyq3nynO8"
      },
      "execution_count": 1014,
      "outputs": []
    },
    {
      "cell_type": "markdown",
      "source": [
        "Conferindo o que havia na coluna de sinopse"
      ],
      "metadata": {
        "id": "zM7cmlRIHU1O"
      }
    },
    {
      "cell_type": "code",
      "source": [
        "treino['overview'].value_counts()"
      ],
      "metadata": {
        "id": "N9hJCBxOIQ6t",
        "colab": {
          "base_uri": "https://localhost:8080/"
        },
        "outputId": "2d060528-eb34-4d22-f1c9-a3086ba2bc23"
      },
      "execution_count": 1015,
      "outputs": [
        {
          "output_type": "execute_result",
          "data": {
            "text/plain": [
              "When Lou, who has become the \"father of the Internet,\" is shot by an unknown assailant, Jacob and Nick fire up the time machine again to save their friend.                                                                                                                                                                                                                                                                                                                                                       1\n",
              "A salesman for a natural gas company experiences life-changing events after arriving in a small town, where his corporation wants to tap into the available resources.                                                                                                                                                                                                                                                                                                                                            1\n",
              "Washington, D.C. psychologist Carol Bennell and her colleague Dr. Ben Driscoll are the only two people on Earth who are aware of an epidemic running rampant through the city. They discover an alien virus aboard a crashed space shuttle that transforms anyone who comes into contact with it into unfeeling drones while they sleep. Carol realizes her son holds the key to stopping the spread of the plague and she races to find him before it is too late.                                               1\n",
              "A big time drug dealer Victor Rosa is looking to get out of the game and sees his chance with a big deal with a new friend who happens to be a Wall St. stockbroker. Thinking this will be his chance to go out on top Victor soon finds out that he has been double crossed and his last option is to get revenge.                                                                                                                                                                                               1\n",
              "An outcast half-wolf risks his life to prevent a deadly epidemic from ravaging Nome, Alaska.                                                                                                                                                                                                                                                                                                                                                                                                                      1\n",
              "                                                                                                                                                                                                                                                                                                                                                                                                                                                                                                                 ..\n",
              "A married man (Leo Grillo) meets a beautiful woman (Katherine Heigl) in a Las Vegas casino and allows her to seduce him. When her jealous boyfriend (Tom Sizemore) finds them together, a scuffle results in the boyfriend's death. The lovers head to the desert to bury the corpse, but it disappears.                                                                                                                                                                                                          1\n",
              "As a child, Tommy killed mass-murderer Jason. But now, years later, he is tormented by the fear that maybe Jason isn‚Äôt really dead. Determined to finish off the infamous killer once and for all, Tommy and a friend dig up Jason‚Äôs corpse in order to cremate him. Unfortunately, things go seriously awry, and Jason is instead resurrected, sparking a new chain of ruthlessly brutal murders. Now it‚Äôs up to Tommy to stop the dark, devious and demented deaths that he unwittingly brought about.    1\n",
              "Legendary marshal Wyatt Earp, now a weary gunfighter, joins his brothers Morgan and Virgil to pursue their collective fortune in the thriving mining town of Tombstone. But Earp is forced to don a badge again and get help from his notorious pal Doc Holliday when a gang of renegade brigands and rustlers begins terrorizing the town.                                                                                                                                                                       1\n",
              "Having thought that monogamy was never possible, a commitment-phobic career woman may have to face her fears when she meets a good guy.                                                                                                                                                                                                                                                                                                                                                                           1\n",
              "A young man sets out to uncover the truth about his life after finding his baby photo on a missing persons website.                                                                                                                                                                                                                                                                                                                                                                                               1\n",
              "Name: overview, Length: 2804, dtype: int64"
            ]
          },
          "metadata": {},
          "execution_count": 1015
        }
      ]
    },
    {
      "cell_type": "markdown",
      "source": [
        "Como essa coluna tinha as sinopses dos filmes precisaria de um estudo mais aprofundado das palavras usadas, para que tal coluna fosse relevante"
      ],
      "metadata": {
        "id": "b7t-5JV5Xq9W"
      }
    },
    {
      "cell_type": "code",
      "source": [
        "treino.drop('overview', axis=1, inplace=True)"
      ],
      "metadata": {
        "id": "r_ZyIMeIYfe-"
      },
      "execution_count": 1016,
      "outputs": []
    },
    {
      "cell_type": "markdown",
      "source": [
        "Conferindo o que havia na coluna de popularidade"
      ],
      "metadata": {
        "id": "z4ZhSPf2GNLx"
      }
    },
    {
      "cell_type": "code",
      "source": [
        "treino['popularity'].value_counts()"
      ],
      "metadata": {
        "id": "hljHzxqUImMg",
        "colab": {
          "base_uri": "https://localhost:8080/"
        },
        "outputId": "069c4164-c760-4d53-a804-6f2ced3ce8f8"
      },
      "execution_count": 1017,
      "outputs": [
        {
          "output_type": "execute_result",
          "data": {
            "text/plain": [
              "6.575393     1\n",
              "7.063780     1\n",
              "5.228837     1\n",
              "2.148655     1\n",
              "12.140733    1\n",
              "            ..\n",
              "0.717595     1\n",
              "8.122042     1\n",
              "11.338194    1\n",
              "17.310647    1\n",
              "10.512109    1\n",
              "Name: popularity, Length: 2804, dtype: int64"
            ]
          },
          "metadata": {},
          "execution_count": 1017
        }
      ]
    },
    {
      "cell_type": "markdown",
      "source": [
        "Conferindo melhor o que havia na coluna de popularidade:"
      ],
      "metadata": {
        "id": "FiYBpHQ5GES1"
      }
    },
    {
      "cell_type": "code",
      "source": [
        "treino.sort_values(by='popularity',ascending=False)"
      ],
      "metadata": {
        "id": "dnXb0O8OJHhE",
        "colab": {
          "base_uri": "https://localhost:8080/",
          "height": 0
        },
        "outputId": "84b3c433-f241-413a-cc9a-31ab5d39a149"
      },
      "execution_count": 1018,
      "outputs": [
        {
          "output_type": "execute_result",
          "data": {
            "text/html": [
              "\n",
              "  <div id=\"df-b73062aa-773d-474a-a5a2-6ca95b3b3de8\">\n",
              "    <div class=\"colab-df-container\">\n",
              "      <div>\n",
              "<style scoped>\n",
              "    .dataframe tbody tr th:only-of-type {\n",
              "        vertical-align: middle;\n",
              "    }\n",
              "\n",
              "    .dataframe tbody tr th {\n",
              "        vertical-align: top;\n",
              "    }\n",
              "\n",
              "    .dataframe thead th {\n",
              "        text-align: right;\n",
              "    }\n",
              "</style>\n",
              "<table border=\"1\" class=\"dataframe\">\n",
              "  <thead>\n",
              "    <tr style=\"text-align: right;\">\n",
              "      <th></th>\n",
              "      <th>id</th>\n",
              "      <th>budget</th>\n",
              "      <th>genres</th>\n",
              "      <th>original_language</th>\n",
              "      <th>popularity</th>\n",
              "      <th>poster_path</th>\n",
              "      <th>production_companies</th>\n",
              "      <th>production_countries</th>\n",
              "      <th>release_date</th>\n",
              "      <th>runtime</th>\n",
              "      <th>spoken_languages</th>\n",
              "      <th>status</th>\n",
              "      <th>tagline</th>\n",
              "      <th>title</th>\n",
              "      <th>Keywords</th>\n",
              "      <th>cast</th>\n",
              "      <th>crew</th>\n",
              "      <th>revenue</th>\n",
              "    </tr>\n",
              "  </thead>\n",
              "  <tbody>\n",
              "    <tr>\n",
              "      <th>684</th>\n",
              "      <td>685</td>\n",
              "      <td>160000000</td>\n",
              "      <td>[{'id': 10751, 'name': 'Family'}, {'id': 14, '...</td>\n",
              "      <td>en</td>\n",
              "      <td>287.253654</td>\n",
              "      <td>/tWqifoYuwLETmmasnGHO7xBjEtt.jpg</td>\n",
              "      <td>[{'name': 'Walt Disney Pictures', 'id': 2}, {'...</td>\n",
              "      <td>[{'iso_3166_1': 'GB', 'name': 'United Kingdom'...</td>\n",
              "      <td>3/16/17</td>\n",
              "      <td>129.0</td>\n",
              "      <td>[{'iso_639_1': 'en', 'name': 'English'}]</td>\n",
              "      <td>Released</td>\n",
              "      <td>Be our guest.</td>\n",
              "      <td>Beauty and the Beast</td>\n",
              "      <td>[{'id': 254, 'name': 'france'}, {'id': 2343, '...</td>\n",
              "      <td>[{'cast_id': 174, 'character': 'Belle', 'credi...</td>\n",
              "      <td>[{'credit_id': '551879bec3a3681f840004eb', 'de...</td>\n",
              "      <td>1262886337</td>\n",
              "    </tr>\n",
              "    <tr>\n",
              "      <th>1695</th>\n",
              "      <td>1696</td>\n",
              "      <td>34000000</td>\n",
              "      <td>[{'id': 28, 'name': 'Action'}, {'id': 80, 'nam...</td>\n",
              "      <td>en</td>\n",
              "      <td>228.032744</td>\n",
              "      <td>/dN9LbVNNZFITwfaRjl4tmwGWkRg.jpg</td>\n",
              "      <td>[{'name': 'Big Talk Productions', 'id': 443}, ...</td>\n",
              "      <td>[{'iso_3166_1': 'GB', 'name': 'United Kingdom'...</td>\n",
              "      <td>6/28/17</td>\n",
              "      <td>113.0</td>\n",
              "      <td>[{'iso_639_1': 'en', 'name': 'English'}]</td>\n",
              "      <td>Released</td>\n",
              "      <td>All you need is one killer track.</td>\n",
              "      <td>Baby Driver</td>\n",
              "      <td>[{'id': 642, 'name': 'robbery'}, {'id': 2076, ...</td>\n",
              "      <td>[{'cast_id': 9, 'character': 'Baby', 'credit_i...</td>\n",
              "      <td>[{'credit_id': '55c58c009251417a21000e5d', 'de...</td>\n",
              "      <td>224511319</td>\n",
              "    </tr>\n",
              "    <tr>\n",
              "      <th>2326</th>\n",
              "      <td>2327</td>\n",
              "      <td>58000000</td>\n",
              "      <td>[{'id': 28, 'name': 'Action'}, {'id': 12, 'nam...</td>\n",
              "      <td>en</td>\n",
              "      <td>187.860492</td>\n",
              "      <td>/inVq3FRqcYIRl2la8iZikYYxFNR.jpg</td>\n",
              "      <td>[{'name': 'Twentieth Century Fox Film Corporat...</td>\n",
              "      <td>[{'iso_3166_1': 'US', 'name': 'United States o...</td>\n",
              "      <td>2/9/16</td>\n",
              "      <td>108.0</td>\n",
              "      <td>[{'iso_639_1': 'en', 'name': 'English'}]</td>\n",
              "      <td>Released</td>\n",
              "      <td>Witness the beginning of a happy ending</td>\n",
              "      <td>Deadpool</td>\n",
              "      <td>[{'id': 2095, 'name': 'anti hero'}, {'id': 307...</td>\n",
              "      <td>[{'cast_id': 99, 'character': 'Wade Wilson / D...</td>\n",
              "      <td>[{'credit_id': '57e564fac3a3681beb0000cc', 'de...</td>\n",
              "      <td>783112979</td>\n",
              "    </tr>\n",
              "    <tr>\n",
              "      <th>2126</th>\n",
              "      <td>2127</td>\n",
              "      <td>200000000</td>\n",
              "      <td>[{'id': 28, 'name': 'Action'}, {'id': 12, 'nam...</td>\n",
              "      <td>en</td>\n",
              "      <td>185.330992</td>\n",
              "      <td>/y4MBh0EjBlMuOzv9axM4qJlmhzz.jpg</td>\n",
              "      <td>[{'name': 'Walt Disney Pictures', 'id': 2}, {'...</td>\n",
              "      <td>[{'iso_3166_1': 'US', 'name': 'United States o...</td>\n",
              "      <td>4/19/17</td>\n",
              "      <td>137.0</td>\n",
              "      <td>[{'iso_639_1': 'en', 'name': 'English'}]</td>\n",
              "      <td>Released</td>\n",
              "      <td>Obviously.</td>\n",
              "      <td>Guardians of the Galaxy Vol. 2</td>\n",
              "      <td>[{'id': 9663, 'name': 'sequel'}, {'id': 9715, ...</td>\n",
              "      <td>[{'cast_id': 3, 'character': 'Peter Quill / St...</td>\n",
              "      <td>[{'credit_id': '59171547925141583c0315a6', 'de...</td>\n",
              "      <td>863416141</td>\n",
              "    </tr>\n",
              "    <tr>\n",
              "      <th>1309</th>\n",
              "      <td>1310</td>\n",
              "      <td>61000000</td>\n",
              "      <td>[{'id': 9648, 'name': 'Mystery'}, {'id': 53, '...</td>\n",
              "      <td>en</td>\n",
              "      <td>154.801009</td>\n",
              "      <td>/gdiLTof3rbPDAmPaCf4g6op46bj.jpg</td>\n",
              "      <td>[{'name': 'Twentieth Century Fox Film Corporat...</td>\n",
              "      <td>[{'iso_3166_1': 'US', 'name': 'United States o...</td>\n",
              "      <td>10/1/14</td>\n",
              "      <td>145.0</td>\n",
              "      <td>[{'iso_639_1': 'en', 'name': 'English'}]</td>\n",
              "      <td>Released</td>\n",
              "      <td>You don't know what you've got 'til it's...</td>\n",
              "      <td>Gone Girl</td>\n",
              "      <td>[{'id': 818, 'name': 'based on novel'}, {'id':...</td>\n",
              "      <td>[{'cast_id': 7, 'character': 'Nick Dunne', 'cr...</td>\n",
              "      <td>[{'credit_id': '52fe4d7fc3a368484e1ec741', 'de...</td>\n",
              "      <td>369330363</td>\n",
              "    </tr>\n",
              "    <tr>\n",
              "      <th>...</th>\n",
              "      <td>...</td>\n",
              "      <td>...</td>\n",
              "      <td>...</td>\n",
              "      <td>...</td>\n",
              "      <td>...</td>\n",
              "      <td>...</td>\n",
              "      <td>...</td>\n",
              "      <td>...</td>\n",
              "      <td>...</td>\n",
              "      <td>...</td>\n",
              "      <td>...</td>\n",
              "      <td>...</td>\n",
              "      <td>...</td>\n",
              "      <td>...</td>\n",
              "      <td>...</td>\n",
              "      <td>...</td>\n",
              "      <td>...</td>\n",
              "      <td>...</td>\n",
              "    </tr>\n",
              "    <tr>\n",
              "      <th>1053</th>\n",
              "      <td>1054</td>\n",
              "      <td>0</td>\n",
              "      <td>[{'id': 35, 'name': 'Comedy'}]</td>\n",
              "      <td>es</td>\n",
              "      <td>0.044048</td>\n",
              "      <td>/pQls9D2Dv8l2LC50YpeKisMiAOE.jpg</td>\n",
              "      <td>[{'name': 'Manga Films', 'id': 56674}]</td>\n",
              "      <td>[{'iso_3166_1': 'ES', 'name': 'Spain'}]</td>\n",
              "      <td>6/4/04</td>\n",
              "      <td>85.0</td>\n",
              "      <td>[{'iso_639_1': 'es', 'name': 'Español'}]</td>\n",
              "      <td>Released</td>\n",
              "      <td>NaN</td>\n",
              "      <td>FBI: Frikis buscan incordiar</td>\n",
              "      <td>[{'id': 2138, 'name': 'joke'}, {'id': 207673, ...</td>\n",
              "      <td>[{'cast_id': 2, 'character': 'Javier', 'credit...</td>\n",
              "      <td>[{'credit_id': '52fe4b82c3a368484e18c6d1', 'de...</td>\n",
              "      <td>928391</td>\n",
              "    </tr>\n",
              "    <tr>\n",
              "      <th>2920</th>\n",
              "      <td>2921</td>\n",
              "      <td>0</td>\n",
              "      <td>[{'id': 28, 'name': 'Action'}, {'id': 35, 'nam...</td>\n",
              "      <td>en</td>\n",
              "      <td>0.042036</td>\n",
              "      <td>/12QvGfXU7TUSzMoIdwhjlFPefdF.jpg</td>\n",
              "      <td>[{'name': 'Focus Films', 'id': 1268}, {'name':...</td>\n",
              "      <td>[{'iso_3166_1': 'DE', 'name': 'Germany'}, {'is...</td>\n",
              "      <td>10/29/00</td>\n",
              "      <td>92.0</td>\n",
              "      <td>[{'iso_639_1': 'en', 'name': 'English'}]</td>\n",
              "      <td>Released</td>\n",
              "      <td>A Romantic Comedy of Generous Proportions</td>\n",
              "      <td>Secret Society</td>\n",
              "      <td>[{'id': 730, 'name': 'factory worker'}, {'id':...</td>\n",
              "      <td>[{'cast_id': 2, 'character': 'Daisy', 'credit_...</td>\n",
              "      <td>[{'credit_id': '57df1f76c3a3681298009dbb', 'de...</td>\n",
              "      <td>4275</td>\n",
              "    </tr>\n",
              "    <tr>\n",
              "      <th>2426</th>\n",
              "      <td>2427</td>\n",
              "      <td>0</td>\n",
              "      <td>[{'id': 18, 'name': 'Drama'}]</td>\n",
              "      <td>es</td>\n",
              "      <td>0.021580</td>\n",
              "      <td>/wJB1eF5zYgptLkNDbi59z3ebEAD.jpg</td>\n",
              "      <td>[{'name': 'Ópalo Films', 'id': 29248}]</td>\n",
              "      <td>[{'iso_3166_1': 'ES', 'name': 'Spain'}]</td>\n",
              "      <td>9/4/83</td>\n",
              "      <td>105.0</td>\n",
              "      <td>[{'iso_639_1': 'es', 'name': 'Español'}]</td>\n",
              "      <td>Released</td>\n",
              "      <td>NaN</td>\n",
              "      <td>Overdose</td>\n",
              "      <td>[{'id': 293, 'name': 'female nudity'}, {'id': ...</td>\n",
              "      <td>[{'cast_id': 5, 'character': 'Paco', 'credit_i...</td>\n",
              "      <td>[{'credit_id': '54a7fd989251414d6d0019f8', 'de...</td>\n",
              "      <td>1334173</td>\n",
              "    </tr>\n",
              "    <tr>\n",
              "      <th>862</th>\n",
              "      <td>863</td>\n",
              "      <td>0</td>\n",
              "      <td>[{'id': 99, 'name': 'Documentary'}]</td>\n",
              "      <td>en</td>\n",
              "      <td>0.007294</td>\n",
              "      <td>/iMQYs4BoXMpplkp6d2UbYbvkjWS.jpg</td>\n",
              "      <td>[{'name': 'Mary Murphy &amp; Company', 'id': 84212}]</td>\n",
              "      <td>[{'iso_3166_1': 'US', 'name': 'United States o...</td>\n",
              "      <td>5/13/11</td>\n",
              "      <td>82.0</td>\n",
              "      <td>[{'iso_639_1': 'en', 'name': 'English'}]</td>\n",
              "      <td>Released</td>\n",
              "      <td>The untold story behind a great American novel</td>\n",
              "      <td>Hey, Boo: Harper Lee &amp; To Kill a Mockingbird</td>\n",
              "      <td>[{'id': 187056, 'name': 'woman director'}]</td>\n",
              "      <td>[{'cast_id': 3, 'character': 'Herself', 'credi...</td>\n",
              "      <td>[{'credit_id': '52fe4810c3a368484e0e792f', 'de...</td>\n",
              "      <td>26488</td>\n",
              "    </tr>\n",
              "    <tr>\n",
              "      <th>741</th>\n",
              "      <td>742</td>\n",
              "      <td>0</td>\n",
              "      <td>[{'id': 10751, 'name': 'Family'}, {'id': 878, ...</td>\n",
              "      <td>en</td>\n",
              "      <td>0.000578</td>\n",
              "      <td>/omOVUwT5FjhjHWARa3gDh5kuP0L.jpg</td>\n",
              "      <td>[{'name': 'Panorama', 'id': 4016}]</td>\n",
              "      <td>[{'iso_3166_1': 'US', 'name': 'United States o...</td>\n",
              "      <td>11/15/91</td>\n",
              "      <td>92.0</td>\n",
              "      <td>[{'iso_639_1': 'en', 'name': 'English'}]</td>\n",
              "      <td>Released</td>\n",
              "      <td>NaN</td>\n",
              "      <td>And You Thought Your Parents Were Weird!</td>\n",
              "      <td>[{'id': 5202, 'name': 'boy'}, {'id': 13130, 'n...</td>\n",
              "      <td>[{'cast_id': 3, 'character': 'Sarah Carson', '...</td>\n",
              "      <td>[{'credit_id': '52fe4978c3a368484e12ce53', 'de...</td>\n",
              "      <td>402539</td>\n",
              "    </tr>\n",
              "  </tbody>\n",
              "</table>\n",
              "<p>2804 rows × 18 columns</p>\n",
              "</div>\n",
              "      <button class=\"colab-df-convert\" onclick=\"convertToInteractive('df-b73062aa-773d-474a-a5a2-6ca95b3b3de8')\"\n",
              "              title=\"Convert this dataframe to an interactive table.\"\n",
              "              style=\"display:none;\">\n",
              "        \n",
              "  <svg xmlns=\"http://www.w3.org/2000/svg\" height=\"24px\"viewBox=\"0 0 24 24\"\n",
              "       width=\"24px\">\n",
              "    <path d=\"M0 0h24v24H0V0z\" fill=\"none\"/>\n",
              "    <path d=\"M18.56 5.44l.94 2.06.94-2.06 2.06-.94-2.06-.94-.94-2.06-.94 2.06-2.06.94zm-11 1L8.5 8.5l.94-2.06 2.06-.94-2.06-.94L8.5 2.5l-.94 2.06-2.06.94zm10 10l.94 2.06.94-2.06 2.06-.94-2.06-.94-.94-2.06-.94 2.06-2.06.94z\"/><path d=\"M17.41 7.96l-1.37-1.37c-.4-.4-.92-.59-1.43-.59-.52 0-1.04.2-1.43.59L10.3 9.45l-7.72 7.72c-.78.78-.78 2.05 0 2.83L4 21.41c.39.39.9.59 1.41.59.51 0 1.02-.2 1.41-.59l7.78-7.78 2.81-2.81c.8-.78.8-2.07 0-2.86zM5.41 20L4 18.59l7.72-7.72 1.47 1.35L5.41 20z\"/>\n",
              "  </svg>\n",
              "      </button>\n",
              "      \n",
              "  <style>\n",
              "    .colab-df-container {\n",
              "      display:flex;\n",
              "      flex-wrap:wrap;\n",
              "      gap: 12px;\n",
              "    }\n",
              "\n",
              "    .colab-df-convert {\n",
              "      background-color: #E8F0FE;\n",
              "      border: none;\n",
              "      border-radius: 50%;\n",
              "      cursor: pointer;\n",
              "      display: none;\n",
              "      fill: #1967D2;\n",
              "      height: 32px;\n",
              "      padding: 0 0 0 0;\n",
              "      width: 32px;\n",
              "    }\n",
              "\n",
              "    .colab-df-convert:hover {\n",
              "      background-color: #E2EBFA;\n",
              "      box-shadow: 0px 1px 2px rgba(60, 64, 67, 0.3), 0px 1px 3px 1px rgba(60, 64, 67, 0.15);\n",
              "      fill: #174EA6;\n",
              "    }\n",
              "\n",
              "    [theme=dark] .colab-df-convert {\n",
              "      background-color: #3B4455;\n",
              "      fill: #D2E3FC;\n",
              "    }\n",
              "\n",
              "    [theme=dark] .colab-df-convert:hover {\n",
              "      background-color: #434B5C;\n",
              "      box-shadow: 0px 1px 3px 1px rgba(0, 0, 0, 0.15);\n",
              "      filter: drop-shadow(0px 1px 2px rgba(0, 0, 0, 0.3));\n",
              "      fill: #FFFFFF;\n",
              "    }\n",
              "  </style>\n",
              "\n",
              "      <script>\n",
              "        const buttonEl =\n",
              "          document.querySelector('#df-b73062aa-773d-474a-a5a2-6ca95b3b3de8 button.colab-df-convert');\n",
              "        buttonEl.style.display =\n",
              "          google.colab.kernel.accessAllowed ? 'block' : 'none';\n",
              "\n",
              "        async function convertToInteractive(key) {\n",
              "          const element = document.querySelector('#df-b73062aa-773d-474a-a5a2-6ca95b3b3de8');\n",
              "          const dataTable =\n",
              "            await google.colab.kernel.invokeFunction('convertToInteractive',\n",
              "                                                     [key], {});\n",
              "          if (!dataTable) return;\n",
              "\n",
              "          const docLinkHtml = 'Like what you see? Visit the ' +\n",
              "            '<a target=\"_blank\" href=https://colab.research.google.com/notebooks/data_table.ipynb>data table notebook</a>'\n",
              "            + ' to learn more about interactive tables.';\n",
              "          element.innerHTML = '';\n",
              "          dataTable['output_type'] = 'display_data';\n",
              "          await google.colab.output.renderOutput(dataTable, element);\n",
              "          const docLink = document.createElement('div');\n",
              "          docLink.innerHTML = docLinkHtml;\n",
              "          element.appendChild(docLink);\n",
              "        }\n",
              "      </script>\n",
              "    </div>\n",
              "  </div>\n",
              "  "
            ],
            "text/plain": [
              "        id     budget                                             genres  \\\n",
              "684    685  160000000  [{'id': 10751, 'name': 'Family'}, {'id': 14, '...   \n",
              "1695  1696   34000000  [{'id': 28, 'name': 'Action'}, {'id': 80, 'nam...   \n",
              "2326  2327   58000000  [{'id': 28, 'name': 'Action'}, {'id': 12, 'nam...   \n",
              "2126  2127  200000000  [{'id': 28, 'name': 'Action'}, {'id': 12, 'nam...   \n",
              "1309  1310   61000000  [{'id': 9648, 'name': 'Mystery'}, {'id': 53, '...   \n",
              "...    ...        ...                                                ...   \n",
              "1053  1054          0                     [{'id': 35, 'name': 'Comedy'}]   \n",
              "2920  2921          0  [{'id': 28, 'name': 'Action'}, {'id': 35, 'nam...   \n",
              "2426  2427          0                      [{'id': 18, 'name': 'Drama'}]   \n",
              "862    863          0                [{'id': 99, 'name': 'Documentary'}]   \n",
              "741    742          0  [{'id': 10751, 'name': 'Family'}, {'id': 878, ...   \n",
              "\n",
              "     original_language  popularity                       poster_path  \\\n",
              "684                 en  287.253654  /tWqifoYuwLETmmasnGHO7xBjEtt.jpg   \n",
              "1695                en  228.032744  /dN9LbVNNZFITwfaRjl4tmwGWkRg.jpg   \n",
              "2326                en  187.860492  /inVq3FRqcYIRl2la8iZikYYxFNR.jpg   \n",
              "2126                en  185.330992  /y4MBh0EjBlMuOzv9axM4qJlmhzz.jpg   \n",
              "1309                en  154.801009  /gdiLTof3rbPDAmPaCf4g6op46bj.jpg   \n",
              "...                ...         ...                               ...   \n",
              "1053                es    0.044048  /pQls9D2Dv8l2LC50YpeKisMiAOE.jpg   \n",
              "2920                en    0.042036  /12QvGfXU7TUSzMoIdwhjlFPefdF.jpg   \n",
              "2426                es    0.021580  /wJB1eF5zYgptLkNDbi59z3ebEAD.jpg   \n",
              "862                 en    0.007294  /iMQYs4BoXMpplkp6d2UbYbvkjWS.jpg   \n",
              "741                 en    0.000578  /omOVUwT5FjhjHWARa3gDh5kuP0L.jpg   \n",
              "\n",
              "                                   production_companies  \\\n",
              "684   [{'name': 'Walt Disney Pictures', 'id': 2}, {'...   \n",
              "1695  [{'name': 'Big Talk Productions', 'id': 443}, ...   \n",
              "2326  [{'name': 'Twentieth Century Fox Film Corporat...   \n",
              "2126  [{'name': 'Walt Disney Pictures', 'id': 2}, {'...   \n",
              "1309  [{'name': 'Twentieth Century Fox Film Corporat...   \n",
              "...                                                 ...   \n",
              "1053             [{'name': 'Manga Films', 'id': 56674}]   \n",
              "2920  [{'name': 'Focus Films', 'id': 1268}, {'name':...   \n",
              "2426             [{'name': 'Ópalo Films', 'id': 29248}]   \n",
              "862    [{'name': 'Mary Murphy & Company', 'id': 84212}]   \n",
              "741                  [{'name': 'Panorama', 'id': 4016}]   \n",
              "\n",
              "                                   production_countries release_date  runtime  \\\n",
              "684   [{'iso_3166_1': 'GB', 'name': 'United Kingdom'...      3/16/17    129.0   \n",
              "1695  [{'iso_3166_1': 'GB', 'name': 'United Kingdom'...      6/28/17    113.0   \n",
              "2326  [{'iso_3166_1': 'US', 'name': 'United States o...       2/9/16    108.0   \n",
              "2126  [{'iso_3166_1': 'US', 'name': 'United States o...      4/19/17    137.0   \n",
              "1309  [{'iso_3166_1': 'US', 'name': 'United States o...      10/1/14    145.0   \n",
              "...                                                 ...          ...      ...   \n",
              "1053            [{'iso_3166_1': 'ES', 'name': 'Spain'}]       6/4/04     85.0   \n",
              "2920  [{'iso_3166_1': 'DE', 'name': 'Germany'}, {'is...     10/29/00     92.0   \n",
              "2426            [{'iso_3166_1': 'ES', 'name': 'Spain'}]       9/4/83    105.0   \n",
              "862   [{'iso_3166_1': 'US', 'name': 'United States o...      5/13/11     82.0   \n",
              "741   [{'iso_3166_1': 'US', 'name': 'United States o...     11/15/91     92.0   \n",
              "\n",
              "                              spoken_languages    status  \\\n",
              "684   [{'iso_639_1': 'en', 'name': 'English'}]  Released   \n",
              "1695  [{'iso_639_1': 'en', 'name': 'English'}]  Released   \n",
              "2326  [{'iso_639_1': 'en', 'name': 'English'}]  Released   \n",
              "2126  [{'iso_639_1': 'en', 'name': 'English'}]  Released   \n",
              "1309  [{'iso_639_1': 'en', 'name': 'English'}]  Released   \n",
              "...                                        ...       ...   \n",
              "1053  [{'iso_639_1': 'es', 'name': 'Español'}]  Released   \n",
              "2920  [{'iso_639_1': 'en', 'name': 'English'}]  Released   \n",
              "2426  [{'iso_639_1': 'es', 'name': 'Español'}]  Released   \n",
              "862   [{'iso_639_1': 'en', 'name': 'English'}]  Released   \n",
              "741   [{'iso_639_1': 'en', 'name': 'English'}]  Released   \n",
              "\n",
              "                                             tagline  \\\n",
              "684                                    Be our guest.   \n",
              "1695               All you need is one killer track.   \n",
              "2326         Witness the beginning of a happy ending   \n",
              "2126                                      Obviously.   \n",
              "1309     You don't know what you've got 'til it's...   \n",
              "...                                              ...   \n",
              "1053                                             NaN   \n",
              "2920       A Romantic Comedy of Generous Proportions   \n",
              "2426                                             NaN   \n",
              "862   The untold story behind a great American novel   \n",
              "741                                              NaN   \n",
              "\n",
              "                                             title  \\\n",
              "684                           Beauty and the Beast   \n",
              "1695                                   Baby Driver   \n",
              "2326                                      Deadpool   \n",
              "2126                Guardians of the Galaxy Vol. 2   \n",
              "1309                                     Gone Girl   \n",
              "...                                            ...   \n",
              "1053                  FBI: Frikis buscan incordiar   \n",
              "2920                                Secret Society   \n",
              "2426                                      Overdose   \n",
              "862   Hey, Boo: Harper Lee & To Kill a Mockingbird   \n",
              "741       And You Thought Your Parents Were Weird!   \n",
              "\n",
              "                                               Keywords  \\\n",
              "684   [{'id': 254, 'name': 'france'}, {'id': 2343, '...   \n",
              "1695  [{'id': 642, 'name': 'robbery'}, {'id': 2076, ...   \n",
              "2326  [{'id': 2095, 'name': 'anti hero'}, {'id': 307...   \n",
              "2126  [{'id': 9663, 'name': 'sequel'}, {'id': 9715, ...   \n",
              "1309  [{'id': 818, 'name': 'based on novel'}, {'id':...   \n",
              "...                                                 ...   \n",
              "1053  [{'id': 2138, 'name': 'joke'}, {'id': 207673, ...   \n",
              "2920  [{'id': 730, 'name': 'factory worker'}, {'id':...   \n",
              "2426  [{'id': 293, 'name': 'female nudity'}, {'id': ...   \n",
              "862          [{'id': 187056, 'name': 'woman director'}]   \n",
              "741   [{'id': 5202, 'name': 'boy'}, {'id': 13130, 'n...   \n",
              "\n",
              "                                                   cast  \\\n",
              "684   [{'cast_id': 174, 'character': 'Belle', 'credi...   \n",
              "1695  [{'cast_id': 9, 'character': 'Baby', 'credit_i...   \n",
              "2326  [{'cast_id': 99, 'character': 'Wade Wilson / D...   \n",
              "2126  [{'cast_id': 3, 'character': 'Peter Quill / St...   \n",
              "1309  [{'cast_id': 7, 'character': 'Nick Dunne', 'cr...   \n",
              "...                                                 ...   \n",
              "1053  [{'cast_id': 2, 'character': 'Javier', 'credit...   \n",
              "2920  [{'cast_id': 2, 'character': 'Daisy', 'credit_...   \n",
              "2426  [{'cast_id': 5, 'character': 'Paco', 'credit_i...   \n",
              "862   [{'cast_id': 3, 'character': 'Herself', 'credi...   \n",
              "741   [{'cast_id': 3, 'character': 'Sarah Carson', '...   \n",
              "\n",
              "                                                   crew     revenue  \n",
              "684   [{'credit_id': '551879bec3a3681f840004eb', 'de...  1262886337  \n",
              "1695  [{'credit_id': '55c58c009251417a21000e5d', 'de...   224511319  \n",
              "2326  [{'credit_id': '57e564fac3a3681beb0000cc', 'de...   783112979  \n",
              "2126  [{'credit_id': '59171547925141583c0315a6', 'de...   863416141  \n",
              "1309  [{'credit_id': '52fe4d7fc3a368484e1ec741', 'de...   369330363  \n",
              "...                                                 ...         ...  \n",
              "1053  [{'credit_id': '52fe4b82c3a368484e18c6d1', 'de...      928391  \n",
              "2920  [{'credit_id': '57df1f76c3a3681298009dbb', 'de...        4275  \n",
              "2426  [{'credit_id': '54a7fd989251414d6d0019f8', 'de...     1334173  \n",
              "862   [{'credit_id': '52fe4810c3a368484e0e792f', 'de...       26488  \n",
              "741   [{'credit_id': '52fe4978c3a368484e12ce53', 'de...      402539  \n",
              "\n",
              "[2804 rows x 18 columns]"
            ]
          },
          "metadata": {},
          "execution_count": 1018
        }
      ]
    },
    {
      "cell_type": "markdown",
      "source": [
        "Como tal dado parece relevante será mantido"
      ],
      "metadata": {
        "id": "VFwQDPrJNGcx"
      }
    },
    {
      "cell_type": "markdown",
      "source": [
        "Conferindo o que havia na coluna de poster:\n"
      ],
      "metadata": {
        "id": "O7NBBnkvF-5u"
      }
    },
    {
      "cell_type": "code",
      "source": [
        "treino['poster_path'].value_counts()"
      ],
      "metadata": {
        "colab": {
          "base_uri": "https://localhost:8080/"
        },
        "id": "FO3bafs4Awmf",
        "outputId": "85556e41-1ac6-4b23-8777-63e0e480a310"
      },
      "execution_count": 1019,
      "outputs": [
        {
          "output_type": "execute_result",
          "data": {
            "text/plain": [
              "/tQtWuwvMf0hCc2QR2tkolwl7c3c.jpg    1\n",
              "/dzbv1mDRERrEvhUIJIRqvFB3IVL.jpg    1\n",
              "/bhuG1ijKGuoEM3rwBijy2ZH83q1.jpg    1\n",
              "/rTsf1SrEZJsSYAvxiReVOYTJGiB.jpg    1\n",
              "/gV5PCAVCPNxlOLFM1bKk50EqLXO.jpg    1\n",
              "                                   ..\n",
              "/WkeynQQ6Ra2ogHEZSrqm1NKs31.jpg     1\n",
              "/le636yjPeWkC74nPDIZiQBH1CVt.jpg    1\n",
              "/xYVtxxQjY0ZT80mMu9kyz4A9QR6.jpg    1\n",
              "/2USk7mhiCXRkU9NzttXCzOjg2iV.jpg    1\n",
              "/cUT6NQP5LAJpmUoStGtXmvNt4zA.jpg    1\n",
              "Name: poster_path, Length: 2804, dtype: int64"
            ]
          },
          "metadata": {},
          "execution_count": 1019
        }
      ]
    },
    {
      "cell_type": "markdown",
      "source": [
        "Como eram apenas links de imagens e todos eram diferente foi decidido excluir essa coluna"
      ],
      "metadata": {
        "id": "RU9Nt2evMJv4"
      }
    },
    {
      "cell_type": "code",
      "source": [
        "treino.drop('poster_path', axis=1, inplace=True)"
      ],
      "metadata": {
        "id": "CHkNcIHBBGSU"
      },
      "execution_count": 1020,
      "outputs": []
    },
    {
      "cell_type": "markdown",
      "source": [
        "Conferindo o que havia na coluna de produtora do filme:"
      ],
      "metadata": {
        "id": "KTgeeJXxd6FK"
      }
    },
    {
      "cell_type": "code",
      "source": [
        "treino['production_companies'].value_counts()"
      ],
      "metadata": {
        "colab": {
          "base_uri": "https://localhost:8080/"
        },
        "id": "qCmLOcp-cuY6",
        "outputId": "87a4e50a-782c-40f1-c92d-ebbe4d194838"
      },
      "execution_count": 1021,
      "outputs": [
        {
          "output_type": "execute_result",
          "data": {
            "text/plain": [
              "[{'name': 'Paramount Pictures', 'id': 4}]                                                                                                                                                                                                                     51\n",
              "[{'name': 'Universal Pictures', 'id': 33}]                                                                                                                                                                                                                    36\n",
              "[{'name': 'Warner Bros.', 'id': 6194}]                                                                                                                                                                                                                        32\n",
              "[{'name': 'Metro-Goldwyn-Mayer (MGM)', 'id': 8411}]                                                                                                                                                                                                           30\n",
              "[{'name': 'Twentieth Century Fox Film Corporation', 'id': 306}]                                                                                                                                                                                               24\n",
              "                                                                                                                                                                                                                                                              ..\n",
              "[{'name': 'Universal Pictures', 'id': 33}, {'name': 'Fuji Television Network', 'id': 3341}, {'name': 'Dentsu', 'id': 6452}, {'name': 'Apatow Productions', 'id': 10105}]                                                                                       1\n",
              "[{'name': 'Zyzzyx LLC', 'id': 92534}]                                                                                                                                                                                                                          1\n",
              "[{'name': 'Universal Pictures', 'id': 33}, {'name': 'Columbia Pictures Corporation', 'id': 441}]                                                                                                                                                               1\n",
              "[{'name': 'Yari Film Group', 'id': 2448}]                                                                                                                                                                                                                      1\n",
              "[{'name': 'Lions Gate Films', 'id': 35}, {'name': 'Vertigo Entertainment', 'id': 829}, {'name': 'Gotham Group', 'id': 3672}, {'name': 'Tailor Made', 'id': 24557}, {'name': 'Mango Farms', 'id': 24558}, {'name': 'Quick Six Entertainment', 'id': 24561}]     1\n",
              "Name: production_companies, Length: 2353, dtype: int64"
            ]
          },
          "metadata": {},
          "execution_count": 1021
        }
      ]
    },
    {
      "cell_type": "markdown",
      "source": [
        "Como tal dado parece relevante será mantido"
      ],
      "metadata": {
        "id": "VDDLETAqd-Ey"
      }
    },
    {
      "cell_type": "markdown",
      "source": [
        "Conferindo o que havia na coluna de onde o filme foi produzido:"
      ],
      "metadata": {
        "id": "iz19cegqeAgb"
      }
    },
    {
      "cell_type": "code",
      "source": [
        "treino['production_countries'].value_counts()"
      ],
      "metadata": {
        "colab": {
          "base_uri": "https://localhost:8080/"
        },
        "id": "BdIncpsmc0lS",
        "outputId": "94558593-7c1c-45ec-fb7b-3c4143171164"
      },
      "execution_count": 1022,
      "outputs": [
        {
          "output_type": "execute_result",
          "data": {
            "text/plain": [
              "[{'iso_3166_1': 'US', 'name': 'United States of America'}]                                                                                                                                                                                    1684\n",
              "[{'iso_3166_1': 'GB', 'name': 'United Kingdom'}, {'iso_3166_1': 'US', 'name': 'United States of America'}]                                                                                                                                     116\n",
              "[{'iso_3166_1': 'GB', 'name': 'United Kingdom'}]                                                                                                                                                                                                87\n",
              "[{'iso_3166_1': 'IN', 'name': 'India'}]                                                                                                                                                                                                         58\n",
              "[{'iso_3166_1': 'FR', 'name': 'France'}]                                                                                                                                                                                                        50\n",
              "                                                                                                                                                                                                                                              ... \n",
              "[{'iso_3166_1': 'CN', 'name': 'China'}, {'iso_3166_1': 'US', 'name': 'United States of America'}, {'iso_3166_1': 'HK', 'name': 'Hong Kong'}]                                                                                                     1\n",
              "[{'iso_3166_1': 'FR', 'name': 'France'}, {'iso_3166_1': 'IT', 'name': 'Italy'}, {'iso_3166_1': 'QA', 'name': 'Qatar'}, {'iso_3166_1': 'TN', 'name': 'Tunisia'}]                                                                                  1\n",
              "[{'iso_3166_1': 'FR', 'name': 'France'}, {'iso_3166_1': 'CN', 'name': 'China'}, {'iso_3166_1': 'GB', 'name': 'United Kingdom'}, {'iso_3166_1': 'IT', 'name': 'Italy'}]                                                                           1\n",
              "[{'iso_3166_1': 'IT', 'name': 'Italy'}, {'iso_3166_1': 'GB', 'name': 'United Kingdom'}, {'iso_3166_1': 'US', 'name': 'United States of America'}, {'iso_3166_1': 'CZ', 'name': 'Czech Republic'}, {'iso_3166_1': 'DE', 'name': 'Germany'}]       1\n",
              "[{'iso_3166_1': 'DK', 'name': 'Denmark'}, {'iso_3166_1': 'SE', 'name': 'Sweden'}]                                                                                                                                                                1\n",
              "Name: production_countries, Length: 312, dtype: int64"
            ]
          },
          "metadata": {},
          "execution_count": 1022
        }
      ]
    },
    {
      "cell_type": "markdown",
      "source": [
        "Como tal dado parece relevante será mantido"
      ],
      "metadata": {
        "id": "jL8iVkwjeCjF"
      }
    },
    {
      "cell_type": "markdown",
      "source": [
        "Conferindo o que havia na coluna data de lançamento:"
      ],
      "metadata": {
        "id": "Al73LQQoY3PS"
      }
    },
    {
      "cell_type": "code",
      "source": [
        "treino['release_date'].value_counts()"
      ],
      "metadata": {
        "colab": {
          "base_uri": "https://localhost:8080/"
        },
        "id": "AF1k0GU_Y2ic",
        "outputId": "5659f379-949a-4435-eef6-72bc58a135be"
      },
      "execution_count": 1023,
      "outputs": [
        {
          "output_type": "execute_result",
          "data": {
            "text/plain": [
              "9/10/10     5\n",
              "9/10/15     5\n",
              "5/11/01     4\n",
              "12/22/95    4\n",
              "9/2/11      4\n",
              "           ..\n",
              "11/3/89     1\n",
              "9/11/87     1\n",
              "6/6/08      1\n",
              "5/6/88      1\n",
              "9/22/11     1\n",
              "Name: release_date, Length: 2275, dtype: int64"
            ]
          },
          "metadata": {},
          "execution_count": 1023
        }
      ]
    },
    {
      "cell_type": "markdown",
      "source": [
        "Como tal dado parece relevante será mantido"
      ],
      "metadata": {
        "id": "y1o86Wu0hhlD"
      }
    },
    {
      "cell_type": "markdown",
      "source": [
        "Conferindo o que havia na coluna de tempo de filme:"
      ],
      "metadata": {
        "id": "9xpjsdiLHd9P"
      }
    },
    {
      "cell_type": "code",
      "source": [
        "treino['runtime'].value_counts()"
      ],
      "metadata": {
        "colab": {
          "base_uri": "https://localhost:8080/"
        },
        "id": "WHe2m1O9KNlP",
        "outputId": "eae31662-9548-4c82-db1d-b06491b7322f"
      },
      "execution_count": 1024,
      "outputs": [
        {
          "output_type": "execute_result",
          "data": {
            "text/plain": [
              "100.0    91\n",
              "90.0     90\n",
              "105.0    88\n",
              "95.0     81\n",
              "97.0     79\n",
              "         ..\n",
              "338.0     1\n",
              "74.0      1\n",
              "71.0      1\n",
              "165.0     1\n",
              "182.0     1\n",
              "Name: runtime, Length: 135, dtype: int64"
            ]
          },
          "metadata": {},
          "execution_count": 1024
        }
      ]
    },
    {
      "cell_type": "markdown",
      "source": [
        "Como tal dado parece relevante será mantido"
      ],
      "metadata": {
        "id": "Rv97pUcPYxXt"
      }
    },
    {
      "cell_type": "markdown",
      "source": [
        "Conferindo o que havia na coluna de linguas faladas:"
      ],
      "metadata": {
        "id": "vbAIqochHgit"
      }
    },
    {
      "cell_type": "code",
      "source": [
        "treino['spoken_languages'].value_counts()"
      ],
      "metadata": {
        "id": "VGGUXB4_Fwr2",
        "colab": {
          "base_uri": "https://localhost:8080/"
        },
        "outputId": "9e3bb37d-853d-4bc6-c854-74fec08bce57"
      },
      "execution_count": 1025,
      "outputs": [
        {
          "output_type": "execute_result",
          "data": {
            "text/plain": [
              "[{'iso_639_1': 'en', 'name': 'English'}]                                                                                                                                                                            1725\n",
              "[{'iso_639_1': 'en', 'name': 'English'}, {'iso_639_1': 'es', 'name': 'Español'}]                                                                                                                                      80\n",
              "[{'iso_639_1': 'en', 'name': 'English'}, {'iso_639_1': 'fr', 'name': 'Français'}]                                                                                                                                     74\n",
              "[{'iso_639_1': 'fr', 'name': 'Français'}]                                                                                                                                                                             40\n",
              "[{'iso_639_1': 'ru', 'name': 'Pусский'}]                                                                                                                                                                              32\n",
              "                                                                                                                                                                                                                    ... \n",
              "[{'iso_639_1': 'am', 'name': ''}]                                                                                                                                                                                      1\n",
              "[{'iso_639_1': 'ar', 'name': 'العربية'}, {'iso_639_1': 'en', 'name': 'English'}, {'iso_639_1': 'fr', 'name': 'Français'}, {'iso_639_1': 'it', 'name': 'Italiano'}]                                                     1\n",
              "[{'iso_639_1': 'cs', 'name': 'Český'}, {'iso_639_1': 'de', 'name': 'Deutsch'}]                                                                                                                                         1\n",
              "[{'iso_639_1': 'en', 'name': 'English'}, {'iso_639_1': 'fr', 'name': 'Français'}, {'iso_639_1': 'it', 'name': 'Italiano'}, {'iso_639_1': 'ru', 'name': 'Pусский'}, {'iso_639_1': 'es', 'name': 'Español'}]             1\n",
              "[{'iso_639_1': 'bg', 'name': 'български език'}, {'iso_639_1': 'en', 'name': 'English'}, {'iso_639_1': 'fr', 'name': 'Français'}, {'iso_639_1': 'ru', 'name': 'Pусский'}, {'iso_639_1': 'es', 'name': 'Español'}]       1\n",
              "Name: spoken_languages, Length: 386, dtype: int64"
            ]
          },
          "metadata": {},
          "execution_count": 1025
        }
      ]
    },
    {
      "cell_type": "markdown",
      "source": [
        "Como essa coluna era apenas as linguas faladas no filme e não a lingua de origem do filme foi decidido excluir essa coluna"
      ],
      "metadata": {
        "id": "EtoTyWiOOVXQ"
      }
    },
    {
      "cell_type": "code",
      "source": [
        "treino.drop('spoken_languages', axis=1, inplace=True)"
      ],
      "metadata": {
        "id": "xa_68OrvNv-h"
      },
      "execution_count": 1026,
      "outputs": []
    },
    {
      "cell_type": "markdown",
      "source": [
        "Conferindo o que havia na coluna de status:"
      ],
      "metadata": {
        "id": "Ws0aMfouHkl2"
      }
    },
    {
      "cell_type": "code",
      "source": [
        "treino['status'].value_counts()"
      ],
      "metadata": {
        "colab": {
          "base_uri": "https://localhost:8080/"
        },
        "id": "RvrciROKAJqI",
        "outputId": "0649a974-122d-4c16-f661-f10b7d2fa7fd"
      },
      "execution_count": 1027,
      "outputs": [
        {
          "output_type": "execute_result",
          "data": {
            "text/plain": [
              "Released    2803\n",
              "Rumored        1\n",
              "Name: status, dtype: int64"
            ]
          },
          "metadata": {},
          "execution_count": 1027
        }
      ]
    },
    {
      "cell_type": "markdown",
      "source": [
        "Como tinham apenas 3 filmes não lançados foi decidido excluir essa coluna"
      ],
      "metadata": {
        "id": "5Wiyv3MiOFuu"
      }
    },
    {
      "cell_type": "code",
      "source": [
        "treino.drop('status', axis=1, inplace=True)"
      ],
      "metadata": {
        "id": "w4jKhWjXOApM"
      },
      "execution_count": 1028,
      "outputs": []
    },
    {
      "cell_type": "markdown",
      "source": [
        "Conferindo o que havia na coluna de \"slogan\":"
      ],
      "metadata": {
        "id": "Rh9Gx0m9HquX"
      }
    },
    {
      "cell_type": "code",
      "source": [
        "treino['tagline'].value_counts()"
      ],
      "metadata": {
        "colab": {
          "base_uri": "https://localhost:8080/"
        },
        "id": "-P7akaM2vWNq",
        "outputId": "fa6fe250-98b0-44d0-949f-39d46a1d3de2"
      },
      "execution_count": 1029,
      "outputs": [
        {
          "output_type": "execute_result",
          "data": {
            "text/plain": [
              "Based on a true story.                                      3\n",
              "Who is John Galt?                                           2\n",
              "The Laws of Space and Time are About to be Violated.        1\n",
              "They can't keep their hands off each others assets.         1\n",
              "A world where the night never ends.                         1\n",
              "                                                           ..\n",
              "There's only one way these two are going to get along...    1\n",
              "A god incarnate. A city doomed.                             1\n",
              "Live or die. Make your choice.                              1\n",
              "Who's your daddy?                                           1\n",
              "They stole his life. He's taking it back.                   1\n",
              "Name: tagline, Length: 2320, dtype: int64"
            ]
          },
          "metadata": {},
          "execution_count": 1029
        }
      ]
    },
    {
      "cell_type": "markdown",
      "source": [
        "Como essa coluna tinha os \"slogans\" dos filmes precisaria de um estudo mais aprofundado das palavras usadas, para que tal coluna fosse relevante\n"
      ],
      "metadata": {
        "id": "ZHMhwtSUdzwx"
      }
    },
    {
      "cell_type": "code",
      "source": [
        "treino.drop('tagline', axis=1, inplace=True)"
      ],
      "metadata": {
        "id": "ci8aRE7bOJA9"
      },
      "execution_count": 1030,
      "outputs": []
    },
    {
      "cell_type": "markdown",
      "source": [
        "Conferindo o que havia na coluna de título:"
      ],
      "metadata": {
        "id": "0wSLkDZQZvn8"
      }
    },
    {
      "cell_type": "code",
      "source": [
        "treino['title'].value_counts()"
      ],
      "metadata": {
        "colab": {
          "base_uri": "https://localhost:8080/"
        },
        "id": "VNId4Xb2Zt5d",
        "outputId": "305f0c94-4fa5-4469-a06f-300648f8a7c4"
      },
      "execution_count": 1031,
      "outputs": [
        {
          "output_type": "execute_result",
          "data": {
            "text/plain": [
              "Alone in the Dark       2\n",
              "Scarface                2\n",
              "Priest                  2\n",
              "The Three Musketeers    2\n",
              "Sahara                  2\n",
              "                       ..\n",
              "Tombstone               1\n",
              "Trainwreck              1\n",
              "Pale Rider              1\n",
              "Pitch Perfect           1\n",
              "Abduction               1\n",
              "Name: title, Length: 2776, dtype: int64"
            ]
          },
          "metadata": {},
          "execution_count": 1031
        }
      ]
    },
    {
      "cell_type": "markdown",
      "source": [
        "Como foram tirada a maioria das colunas com dados não numéricos o estudo será focado nessa coluna e na de elenco. Logo essa coluna será mantida"
      ],
      "metadata": {
        "id": "tZKwX9f7Zwls"
      }
    },
    {
      "cell_type": "markdown",
      "source": [
        "Conferindo o que havia na coluna de palavras chaves:"
      ],
      "metadata": {
        "id": "EpgdaPlSHtNv"
      }
    },
    {
      "cell_type": "code",
      "source": [
        "treino['Keywords'].value_counts()"
      ],
      "metadata": {
        "colab": {
          "base_uri": "https://localhost:8080/"
        },
        "id": "vy2nz1J3wTmw",
        "outputId": "b9035155-b52b-4f67-a5fe-97ab145656a5"
      },
      "execution_count": 1032,
      "outputs": [
        {
          "output_type": "execute_result",
          "data": {
            "text/plain": [
              "[{'id': 10183, 'name': 'independent film'}]                                                                                                                                                                                                                                                                                                                                                                                                                                      21\n",
              "[{'id': 187056, 'name': 'woman director'}]                                                                                                                                                                                                                                                                                                                                                                                                                                       11\n",
              "[{'id': 179431, 'name': 'duringcreditsstinger'}]                                                                                                                                                                                                                                                                                                                                                                                                                                  7\n",
              "[{'id': 5565, 'name': 'biography'}]                                                                                                                                                                                                                                                                                                                                                                                                                                               5\n",
              "[{'id': 9937, 'name': 'suspense'}]                                                                                                                                                                                                                                                                                                                                                                                                                                                3\n",
              "                                                                                                                                                                                                                                                                                                                                                                                                                                                                                 ..\n",
              "[{'id': 1299, 'name': 'monster'}, {'id': 7671, 'name': 'godzilla'}, {'id': 11100, 'name': 'giant monster'}, {'id': 14796, 'name': 'destruction'}, {'id': 161791, 'name': 'kaiju'}, {'id': 235525, 'name': 'toyko'}]                                                                                                                                                                                                                                                               1\n",
              "[{'id': 1366, 'name': 'shotgun'}, {'id': 13000, 'name': 'based on short film'}, {'id': 13125, 'name': 'sadist'}, {'id': 13132, 'name': 'pistol'}, {'id': 157367, 'name': 'chained'}, {'id': 157375, 'name': 'bludgeoning'}, {'id': 157376, 'name': 'game of death'}]                                                                                                                                                                                                              1\n",
              "[{'id': 271, 'name': 'competition'}, {'id': 3836, 'name': 'success'}, {'id': 4590, 'name': 'kindergarten'}, {'id': 10103, 'name': 'children'}, {'id': 156052, 'name': 'unemployment'}]                                                                                                                                                                                                                                                                                            1\n",
              "[{'id': 725, 'name': 'lovesickness'}, {'id': 774, 'name': 'film business'}, {'id': 886, 'name': 'film making'}, {'id': 1388, 'name': 'cinema'}, {'id': 1861, 'name': 'nice'}, {'id': 2559, 'name': 'film maker'}, {'id': 3973, 'name': 'insurance salesman'}, {'id': 34094, 'name': 'extramarital affair'}]                                                                                                                                                                       1\n",
              "[{'id': 591, 'name': 'cia'}, {'id': 822, 'name': 'airport'}, {'id': 1701, 'name': 'hero'}, {'id': 1721, 'name': 'fight'}, {'id': 1930, 'name': 'kidnapping'}, {'id': 3562, 'name': 'time bomb'}, {'id': 4613, 'name': 'training'}, {'id': 6435, 'name': 'webcam'}, {'id': 6614, 'name': 'website'}, {'id': 8508, 'name': 'party'}, {'id': 10562, 'name': 'on the run'}, {'id': 11612, 'name': 'hospital'}, {'id': 13008, 'name': 'train'}, {'id': 13130, 'name': 'teenager'}]     1\n",
              "Name: Keywords, Length: 2550, dtype: int64"
            ]
          },
          "metadata": {},
          "execution_count": 1032
        }
      ]
    },
    {
      "cell_type": "markdown",
      "source": [
        "Como essa coluna tinha as palavras-chaves dos filmes precisaria de um estudo mais aprofundado das palavras usadas, para que tal coluna fosse relevante\n"
      ],
      "metadata": {
        "id": "e5fZBjrMbgyS"
      }
    },
    {
      "cell_type": "code",
      "source": [
        "treino.drop('Keywords', axis=1, inplace=True)"
      ],
      "metadata": {
        "id": "eYIThCvkOK20"
      },
      "execution_count": 1033,
      "outputs": []
    },
    {
      "cell_type": "markdown",
      "source": [
        "Conferindo o que havia na coluna de elenco:"
      ],
      "metadata": {
        "id": "ZUA9Nl0dakID"
      }
    },
    {
      "cell_type": "code",
      "source": [
        "treino['cast'].value_counts()"
      ],
      "metadata": {
        "colab": {
          "base_uri": "https://localhost:8080/"
        },
        "id": "Z6j0tgZ3akpJ",
        "outputId": "0ef37046-4080-41b0-fa85-5371575c5e12"
      },
      "execution_count": 1034,
      "outputs": [
        {
          "output_type": "execute_result",
          "data": {
            "text/plain": [
              "[]                                                                                                                                                                                                                                                                                                                                                                                                                                                                                                                                                                                                                                                                                                                                                                                                                                                                                                                                                                                                                                                                                                                                                                                                                                                                                                                                                                                                                                                                                                                                                                                                                                                                                                                                                                                                                                                                                                                                                                                                                                                                                                                                                                                                                                                                                                                                                                                                                                                                                                                                                                                                                                                                                                                                                                                                                                                                                                                                                                                                                                                                                                                                                                                                                                                                                                                                                                                                                                                                                                                                                                                                                                                                                                                                                                                                                                                                                                                                                                                                                                                                                                                                                                                                                                                                                                                                                                                                                                                                                                                                                                                                                                                                                                                                                                                                                                                                                                                                                                                                                                                                                                                                                                                                                                                                                                                                                                                                                                                                                                                                                                                                                                                                                                                                                                                                                                                                                                                                                                                                                                                                                                                                                                                                                                                                                                                                                                                                                                                                                                                                                                                                                                                                                                                                                                                                                                                                                                                                                                                                                                                                                                                                                                                                                                                                                                                                                                                                                                                                                                                                                                                                                                                                                                                                                                                                                                                                                                                                                                                                                                                                                                                                                                                                                                                                                                                                                                                                                                                                                                                                                                                                                                                                                                                                                                                                                                                                                                                                                                                                                                                                                                                                                                                                                                                                                                                                                                                                                                                                                                                                                                                                                                                                                                                                                                                                                                                                                                                                                                                                                                                                                                                                                                                                                                                                                                                                                                                                                                                                                                                                                                                                                                                                                                                                                                                                                                                                                                                                                                                                                                                                                                                                                                                                                                                                                                                                                                                                                                                                                                                                                                                                                                                                                                                                                                                                                                                                                                                                                                                                                                                                                                                                                                                                                                                                                                                                                                                                                                                                                                                                                                                                                           4\n",
              "[{'cast_id': 4, 'character': 'Lou', 'credit_id': '52fe4ee7c3a36847f82afae7', 'gender': 2, 'id': 52997, 'name': 'Rob Corddry', 'order': 0, 'profile_path': '/k2zJL0V1nEZuFT08xUdOd3ucfXz.jpg'}, {'cast_id': 5, 'character': 'Nick', 'credit_id': '52fe4ee7c3a36847f82afaeb', 'gender': 2, 'id': 64342, 'name': 'Craig Robinson', 'order': 1, 'profile_path': '/tVaRMkJXOEVhYxtnnFuhqW0Rjzz.jpg'}, {'cast_id': 6, 'character': 'Jacob', 'credit_id': '52fe4ee7c3a36847f82afaef', 'gender': 2, 'id': 54729, 'name': 'Clark Duke', 'order': 2, 'profile_path': '/oNzK0umwm5Wn0wyEbOy6TVJCSBn.jpg'}, {'cast_id': 7, 'character': 'Adam Jr.', 'credit_id': '52fe4ee7c3a36847f82afaf3', 'gender': 2, 'id': 36801, 'name': 'Adam Scott', 'order': 3, 'profile_path': '/5gb65xz8bzd42yjMAl4zwo4cvKw.jpg'}, {'cast_id': 8, 'character': 'Hot Tub Repairman', 'credit_id': '52fe4ee7c3a36847f82afaf7', 'gender': 2, 'id': 54812, 'name': 'Chevy Chase', 'order': 4, 'profile_path': '/svjpyYtPwtjvRxX9IZnOmOkhDOt.jpg'}, {'cast_id': 9, 'character': 'Jill', 'credit_id': '52fe4ee7c3a36847f82afafb', 'gender': 1, 'id': 94098, 'name': 'Gillian Jacobs', 'order': 5, 'profile_path': '/rBnhe5vhNPnhRUdtYahBWx90fJM.jpg'}, {'cast_id': 10, 'character': 'Sophie', 'credit_id': '52fe4ee7c3a36847f82afaff', 'gender': 1, 'id': 1159009, 'name': 'Bianca Haase', 'order': 6, 'profile_path': '/4x3nbtD8q8phAJPmoGWXPvz0iM.jpg'}, {'cast_id': 11, 'character': 'Kelly', 'credit_id': '5524ec51c3a3687df3000dbb', 'gender': 1, 'id': 86624, 'name': 'Collette Wolfe', 'order': 7, 'profile_path': '/aSD4h5379b2eEw3bLou9ByLimmq.jpg'}, {'cast_id': 13, 'character': 'Brad', 'credit_id': '5524ec8ec3a3687ded000d72', 'gender': 2, 'id': 466505, 'name': 'Kumail Nanjiani', 'order': 9, 'profile_path': '/x4nAztHY72SVciRfxEsbhIVTsIu.jpg'}, {'cast_id': 14, 'character': 'Courtney', 'credit_id': '5524ec9bc3a3687df8000d13', 'gender': 1, 'id': 70776, 'name': 'Kellee Stewart', 'order': 10, 'profile_path': '/w3xmsEPmJc1Cf0dQ4aIn8YmlHbk.jpg'}, {'cast_id': 15, 'character': 'Terry', 'credit_id': '5524eca892514171cb008237', 'gender': 2, 'id': 347335, 'name': 'Josh Heald', 'order': 11, 'profile_path': '/pwXJIenrDMrG7t3zNfLvr8w1RGU.jpg'}, {'cast_id': 16, 'character': 'Susan', 'credit_id': '5524ecb7925141720c001116', 'gender': 0, 'id': 1451392, 'name': 'Gretchen Koerner', 'order': 12, 'profile_path': '/muULPexCTJGyJba4yKzxronpD50.jpg'}, {'cast_id': 17, 'character': 'Herself', 'credit_id': '5524ecc3c3a3687ded000d74', 'gender': 1, 'id': 98879, 'name': 'Lisa Loeb', 'order': 13, 'profile_path': '/bGqg58ca0bZR38z9HliUMmeNGE.jpg'}, {'cast_id': 18, 'character': 'Herself', 'credit_id': '5524ecd3c3a3687e11000ed3', 'gender': 1, 'id': 1394648, 'name': 'Jessica Williams', 'order': 14, 'profile_path': '/A4syKjkcYB92wLEhH0c0hC3BCpz.jpg'}, {'cast_id': 19, 'character': 'Himself', 'credit_id': '5524ece6925141718d001009', 'gender': 0, 'id': 1451393, 'name': 'Bruce Buffer', 'order': 15, 'profile_path': None}, {'cast_id': 20, 'character': 'Shot Girl', 'credit_id': '5524ecf5c3a3687e08000dc2', 'gender': 0, 'id': 1451394, 'name': 'Mariana Paola Vicente', 'order': 16, 'profile_path': '/ckPllza8624UHWGHCbLShkLxCD1.jpg'}, {'cast_id': 33, 'character': 'Choozy Doozy Host', 'credit_id': '555844da9251412afe0013a9', 'gender': 2, 'id': 2224, 'name': 'Christian Slater', 'order': 17, 'profile_path': '/3ElLWjnvchMS6Q4cIQOK8QNAoMG.jpg'}, {'cast_id': 35, 'character': 'Gary Winkle', 'credit_id': '55872027c3a3683853005074', 'gender': 0, 'id': 185805, 'name': 'Jason Jones', 'order': 18, 'profile_path': '/aIoCw6vo8AGMdsQRAI5g2t0yJT3.jpg'}, {'cast_id': 36, 'character': 'Bridesmaid', 'credit_id': '55efe971c3a368090c00cd1b', 'gender': 0, 'id': 1507448, 'name': 'Olivia Jordan', 'order': 19, 'profile_path': '/szMukAEiIDeasel0lvyaeyKuych.jpg'}, {'cast_id': 37, 'character': 'Christine', 'credit_id': '55efe980c3a36871bf008176', 'gender': 1, 'id': 1334091, 'name': 'Christine Bently', 'order': 20, 'profile_path': '/oUZltnGa55OXE52hfyPTfCshuNy.jpg'}, {'cast_id': 38, 'character': 'Excited Girl', 'credit_id': '55efe98e9251413e3201d316', 'gender': 0, 'id': 557803, 'name': 'Stacey Asaro', 'order': 21, 'profile_path': '/qTPdlr1dXf3kNdyHuDsgtGC0HCC.jpg'}, {'cast_id': 64, 'character': 'Adam (uncredited)', 'credit_id': '58f2135ac3a3682e95008b91', 'gender': 2, 'id': 3036, 'name': 'John Cusack', 'order': 22, 'profile_path': '/uKydQYuZ9TnCzvbQLtj6j98vWAT.jpg'}, {'cast_id': 65, 'character': 'J-Bird', 'credit_id': '59ac0240c3a3682cc802c399', 'gender': 2, 'id': 59256, 'name': 'Adam Herschman', 'order': 23, 'profile_path': '/wZMwiuX1DslF6hDS50z9OTN6z1X.jpg'}, {'cast_id': 66, 'character': 'Bridesmaid', 'credit_id': '59ac02cd925141079d02b1b4', 'gender': 1, 'id': 129714, 'name': 'Kisha Sierra', 'order': 24, 'profile_path': None}]                                                                                                                                                                                                                                                                                                                                                                                                                                                                                                                                                                                                                                                                                                                                                                                                                                                                                                                                                                                                                                                                                                                                                                                                                                                                                                                                                                                                                                                                                                                                                                                                                                                                                                                                                                                                                                                                                                                                                                                                                                                                                                                                                                                                                                                                                                                                                                                                                                                                                                                                                                                                                                                                                                                                                                                                                                                                                                                                                                                                                                                                                                                                                                                                                                                                                                                                                                                                                                                                                                                                                                                                                                                                                                                                                                                                                                                                                                                                                                                                                                                                                                                                                                                                                                                                                                                                                                                                                                                                                                                                                                                                                                                                                                                                                                                                                                                                                                                                                                                                                                                                                                                                                                                                                                                                                                                                                                                                                                                                                                                                                                                                                                                                                                                                                                                                                                                                                                                                                                                                                                                                                                                                                                                                                                                                                                                                                                                                                                                                                                                                                                                                                                                                                                                                                                                                                                                                                                                                                                                                                                                                                                                                                                                                                                                                                                                                                                                                                                                                                                                                                                                                                                                                                                           1\n",
              "[{'cast_id': 1, 'character': 'Milo Boyd', 'credit_id': '52fe4554c3a368484e053fb5', 'gender': 2, 'id': 17276, 'name': 'Gerard Butler', 'order': 0, 'profile_path': '/i54XoxYieuff2w6MwyfwVUBvmR0.jpg'}, {'cast_id': 2, 'character': 'Nicole Hurley', 'credit_id': '52fe4554c3a368484e053fb9', 'gender': 1, 'id': 4491, 'name': 'Jennifer Aniston', 'order': 1, 'profile_path': '/4d4wvNyDuvN86DoneawbLOpr8gH.jpg'}, {'cast_id': 5, 'character': 'Uncle Sam', 'credit_id': '52fe4554c3a368484e053fc3', 'gender': 0, 'id': 114144, 'name': 'Gio Perez', 'order': 2, 'profile_path': '/xE18CS5KtkMaQEyPzcEX800T2Xw.jpg'}, {'cast_id': 6, 'character': 'Teresa', 'credit_id': '52fe4554c3a368484e053fc7', 'gender': 1, 'id': 6751, 'name': 'Siobhan Fallon', 'order': 3, 'profile_path': '/wVFa8GiY0xdOLFsvGygy9RMtcBc.jpg'}, {'cast_id': 8, 'character': 'Dwight', 'credit_id': '52fe4554c3a368484e053fd1', 'gender': 2, 'id': 88550, 'name': 'Joel Garland', 'order': 4, 'profile_path': '/53th6LzDg8FWYtJ0y3vmLuJ3A6P.jpg'}, {'cast_id': 32, 'character': 'Gelman', 'credit_id': '540e9e650e0a26419d0009e0', 'gender': 0, 'id': 1214054, 'name': 'Jason Kolotouros', 'order': 5, 'profile_path': '/3iNZZs8hPh2y0wy5p9ubLNypcwP.jpg'}, {'cast_id': 10, 'character': 'Gary', 'credit_id': '52fe4554c3a368484e053fd9', 'gender': 2, 'id': 19208, 'name': 'Matt Malloy', 'order': 6, 'profile_path': '/ian5yLWKo8Ttz8kEZIv9GLNCz2c.jpg'}, {'cast_id': 11, 'character': 'Stewart', 'credit_id': '52fe4555c3a368484e053fdd', 'gender': 2, 'id': 58224, 'name': 'Jason Sudeikis', 'order': 7, 'profile_path': '/pYH7faNg8R4KpNOtU3keL4wgu7G.jpg'}, {'cast_id': 31, 'character': 'Jimmy', 'credit_id': '533570289251414457004211', 'gender': 2, 'id': 962997, 'name': 'Adam Rose', 'order': 8, 'profile_path': '/5UX415OtcMkbDJL3s2Iqv4hn8bX.jpg'}, {'cast_id': 13, 'character': 'Kitty Hurley', 'credit_id': '52fe4555c3a368484e053fe5', 'gender': 1, 'id': 11870, 'name': 'Christine Baranski', 'order': 9, 'profile_path': '/veyiN4RP8ZmYfljTNKIyhTCuF2C.jpg'}, {'cast_id': 14, 'character': 'Bobby Jenkins', 'credit_id': '52fe4555c3a368484e053fe9', 'gender': 2, 'id': 26718, 'name': 'Dorian Missick', 'order': 10, 'profile_path': '/9ZZSHTaJJqooxzi7KGCzMi1AlAB.jpg'}, {'cast_id': 15, 'character': 'Arthur', 'credit_id': '52fe4555c3a368484e053fed', 'gender': 0, 'id': 82167, 'name': 'David Costabile', 'order': 11, 'profile_path': '/j0WailErU7LN1X82zrHgFsp5yOX.jpg'}, {'cast_id': 16, 'character': 'Judge', 'credit_id': '52fe4555c3a368484e053ff1', 'gender': 0, 'id': 167582, 'name': 'Lynda Gravatt', 'order': 12, 'profile_path': '/knh0uDGleHa54XiqtbPbzBwktgL.jpg'}, {'cast_id': 17, 'character': 'Earl Mahler', 'credit_id': '52fe4555c3a368484e053ff5', 'gender': 2, 'id': 11803, 'name': 'Peter Greene', 'order': 13, 'profile_path': '/zCHUxWj7BZ3Uzmkbq9FPpOicniQ.jpg'}, {'cast_id': 18, 'character': 'Sid', 'credit_id': '52fe4555c3a368484e053ff9', 'gender': 2, 'id': 60074, 'name': 'Jeff Garlin', 'order': 14, 'profile_path': '/cBs7u7rBTvDFp5MFCnvrPeF7SI2.jpg'}, {'cast_id': 19, 'character': 'Rich Guy', 'credit_id': '52fe4555c3a368484e053ffd', 'gender': 0, 'id': 133046, 'name': 'Charlie Hewson', 'order': 15, 'profile_path': '/37SPYdqVqUmikOAWcTXaHtIfAE9.jpg'}, {'cast_id': 34, 'character': 'Track Vet', 'credit_id': '56bb704292514111e10002f0', 'gender': 0, 'id': 127069, 'name': 'Charles Techman', 'order': 16, 'profile_path': '/fTjQfqqYRx2LvE6CmAVNOpNPkKa.jpg'}, {'cast_id': 35, 'character': 'Bone', 'credit_id': '5808f6fa9251410f5700a939', 'gender': 0, 'id': 1697187, 'name': 'Lou Sumrall', 'order': 17, 'profile_path': '/7uENmI9QmfUJcy4nhqhLMztqbGE.jpg'}]                                                                                                                                                                                                                                                                                                                                                                                                                                                                                                                                                                                                                                                                                                                                                                                                                                                                                                                                                                                                                                                                                                                                                                                                                                                                                                                                                                                                                                                                                                                                                                                                                                                                                                                                                                                                                                                                                                                                                                                                                                                                                                                                                                                                                                                                                                                                                                                                                                                                                                                                                                                                                                                                                                                                                                                                                                                                                                                                                                                                                                                                                                                                                                                                                                                                                                                                                                                                                                                                                                                                                                                                                                                                                                                                                                                                                                                                                                                                                                                                                                                                                                                                                                                                                                                                                                                                                                                                                                                                                                                                                                                                                                                                                                                                                                                                                                                                                                                                                                                                                                                                                                                                                                                                                                                                                                                                                                                                                                                                                                                                                                                                                                                                                                                                                                                                                                                                                                                                                                                                                                                                                                                                                                                                                                                                                                                                                                                                                                                                                                                                                                                                                                                                                                                                                                                                                                                                                                                                                                                                                                                                                                                                                                                                                                                                                                                                                                                                                                                                                                                                                                                                                                                                                                                                                                                                                                                                                                                                                                                                                                                                                                                                                                                                                                                                                                                                                                                                                                                                                                                                                                                                                                                                                                                                                                                                                                                                                                            1\n",
              "[{'cast_id': 10, 'character': \"Patricia 'Trish' Jenner\", 'credit_id': '52fe44c8c3a36847f80a9c43', 'gender': 1, 'id': 56356, 'name': 'Gina Philips', 'order': 0, 'profile_path': '/pj9O7yhpZ9JA0fP4bFu3l1xFKhl.jpg'}, {'cast_id': 11, 'character': \"Darius 'Darry' Jenner\", 'credit_id': '52fe44c8c3a36847f80a9c47', 'gender': 2, 'id': 15033, 'name': 'Justin Long', 'order': 1, 'profile_path': '/7TGXeHw4o86IBm6xknQotpludXK.jpg'}, {'cast_id': 12, 'character': 'The Creeper', 'credit_id': '52fe44c8c3a36847f80a9c4b', 'gender': 2, 'id': 56357, 'name': 'Jonathan Breck', 'order': 2, 'profile_path': '/wzEwiM2a9sqhMOy6tBpPvXvhkZK.jpg'}, {'cast_id': 13, 'character': 'Jezelle Gay Hartman', 'credit_id': '52fe44c8c3a36847f80a9c4f', 'gender': 1, 'id': 56358, 'name': 'Patricia Belcher', 'order': 3, 'profile_path': '/dbbOF0P2h8qJ0fktNzMj4rmztP3.jpg'}, {'cast_id': 14, 'character': 'The Cat Lady', 'credit_id': '52fe44c8c3a36847f80a9c53', 'gender': 1, 'id': 39015, 'name': 'Eileen Brennan', 'order': 4, 'profile_path': '/159LCkCJj99PFf6XEXp8dxf5uDg.jpg'}, {'cast_id': 15, 'character': 'Sgt. David Tubbs', 'credit_id': '52fe44c8c3a36847f80a9c57', 'gender': 2, 'id': 36637, 'name': 'Brandon Smith', 'order': 5, 'profile_path': '/eM1ZbYDxOXhgPcY9Zlj12UyXxyD.jpg'}, {'cast_id': 16, 'character': 'Waitress Beverly', 'credit_id': '52fe44c8c3a36847f80a9c5b', 'gender': 1, 'id': 955065, 'name': 'Peggy Sheffield', 'order': 6, 'profile_path': None}, {'cast_id': 17, 'character': 'Restaurant Manager', 'credit_id': '52fe44c8c3a36847f80a9c5f', 'gender': 0, 'id': 215118, 'name': 'Jeffrey William Evans', 'order': 7, 'profile_path': '/mScjQda0DyYpsv7xWwljS9VwZAT.jpg'}, {'cast_id': 18, 'character': 'Binky Plutzker', 'credit_id': '52fe44c8c3a36847f80a9c63', 'gender': 2, 'id': 943484, 'name': 'Patrick Cherry', 'order': 8, 'profile_path': None}, {'cast_id': 19, 'character': 'Officer Robert Gideon', 'credit_id': '52fe44c8c3a36847f80a9c67', 'gender': 2, 'id': 948289, 'name': 'Jon Beshara', 'order': 9, 'profile_path': None}, {'cast_id': 20, 'character': 'Officer Natasha Weston', 'credit_id': '52fe44c8c3a36847f80a9c6b', 'gender': 0, 'id': 168703, 'name': 'Avis-Marie Barnes', 'order': 10, 'profile_path': None}, {'cast_id': 21, 'character': 'Cellblock Officer', 'credit_id': '52fe44c8c3a36847f80a9c6f', 'gender': 0, 'id': 163220, 'name': 'Steve Raulerson', 'order': 11, 'profile_path': '/gPloY3aO6Iokkv4foZi9qnO5fhD.jpg'}, {'cast_id': 22, 'character': 'Austin McCoy', 'credit_id': '52fe44c8c3a36847f80a9c73', 'gender': 2, 'id': 945612, 'name': 'Tom Tarantini', 'order': 12, 'profile_path': None}, {'cast_id': 23, 'character': 'Officer with Hole in Chest', 'credit_id': '52fe44c8c3a36847f80a9c77', 'gender': 2, 'id': 78116, 'name': 'William Haze', 'order': 13, 'profile_path': '/hDqhc1vl0YAAMX6hzvyPVnEbktT.jpg'}, {'cast_id': 24, 'character': 'Camper Driver', 'credit_id': '52fe44c8c3a36847f80a9c7b', 'gender': 0, 'id': 195854, 'name': 'Kim Kahana', 'order': 14, 'profile_path': '/yR8nf6beERy8RCpTC4pwn9NNcT1.jpg'}, {'cast_id': 25, 'character': 'Dying Boy', 'credit_id': '52fe44c8c3a36847f80a9c7f', 'gender': 0, 'id': 955081, 'name': 'Chris Shepardson', 'order': 15, 'profile_path': None}]                                                                                                                                                                                                                                                                                                                                                                                                                                                                                                                                                                                                                                                                                                                                                                                                                                                                                                                                                                                                                                                                                                                                                                                                                                                                                                                                                                                                                                                                                                                                                                                                                                                                                                                                                                                                                                                                                                                                                                                                                                                                                                                                                                                                                                                                                                                                                                                                                                                                                                                                                                                                                                                                                                                                                                                                                                                                                                                                                                                                                                                                                                                                                                                                                                                                                                                                                                                                                                                                                                                                                                                                                                                                                                                                                                                                                                                                                                                                                                                                                                                                                                                                                                                                                                                                                                                                                                                                                                                                                                                                                                                                                                                                                                                                                                                                                                                                                                                                                                                                                                                                                                                                                                                                                                                                                                                                                                                                                                                                                                                                                                                                                                                                                                                                                                                                                                                                                                                                                                                                                                                                                                                                                                                                                                                                                                                                                                                                                                                                                                                                                                                                                                                                                                                                                                                                                                                                                                                                                                                                                                                                                                                                                                                                                                                                                                                                                                                                                                                                                                                                                                                                                                                                                                                                                                                                                                                                                                                                                                                                                                                                                                                                                                                                                                                                                                                                                                                                                                                                                                                                                                                                                                                                                                                                                                                                                                                                                                                                                                                                                                                                                                                                                                                                                                                                                                                                    1\n",
              "[{'cast_id': 1, 'character': 'Press Lenox', 'credit_id': '52fe43439251416c75009c13', 'gender': 2, 'id': 147, 'name': 'Michael Madsen', 'order': 0, 'profile_path': '/yPvagJYARJb0JAeAbCFdcXcaPs2.jpg'}, {'cast_id': 2, 'character': 'Eve', 'credit_id': '52fe43439251416c75009c17', 'gender': 1, 'id': 57395, 'name': 'Natasha Henstridge', 'order': 1, 'profile_path': '/z0gm11WfolcmUUGDsTusUZsR60Y.jpg'}, {'cast_id': 3, 'character': 'Dr. Laura Baker', 'credit_id': '52fe43439251416c75009c1b', 'gender': 1, 'id': 19838, 'name': 'Marg Helgenberger', 'order': 2, 'profile_path': '/9jIgVEJGZkfjQI1bItxFIaNN3b3.jpg'}, {'cast_id': 4, 'character': 'Dennis Gamble', 'credit_id': '52fe43439251416c75009c1f', 'gender': 2, 'id': 34, 'name': 'Mykelti Williamson', 'order': 3, 'profile_path': '/8TTxzpuvvpw2tB8xZBCDslYupNU.jpg'}, {'cast_id': 12, 'character': 'Colonel Carter Burgess Jr', 'credit_id': '52fe43439251416c75009c4d', 'gender': 2, 'id': 10477, 'name': 'George Dzundza', 'order': 4, 'profile_path': '/jyjr4P3uCpfrbwk8ySXNaDpBMbc.jpg'}, {'cast_id': 13, 'character': 'Senator Judson Ross', 'credit_id': '52fe43439251416c75009c51', 'gender': 2, 'id': 2505, 'name': 'James Cromwell', 'order': 5, 'profile_path': '/f9HU6zS2K2DCRt2WoJBK61ElqPJ.jpg'}, {'cast_id': 16, 'character': 'Melissa', 'credit_id': '52fe43439251416c75009c5d', 'gender': 1, 'id': 41819, 'name': 'Sarah Wynter', 'order': 6, 'profile_path': '/5eRmuhTtlhJBOmOl5Cam2eBcAHW.jpg'}, {'cast_id': 14, 'character': 'Patrick Ross', 'credit_id': '52fe43439251416c75009c55', 'gender': 2, 'id': 160082, 'name': 'Justin Lazard', 'order': 7, 'profile_path': None}, {'cast_id': 15, 'character': 'Anne Sampas', 'credit_id': '52fe43439251416c75009c59', 'gender': 1, 'id': 30611, 'name': 'Myriam Cyr', 'order': 8, 'profile_path': '/AfC3TRkDWjyespGiNqEJvRA5ya9.jpg'}, {'cast_id': 17, 'character': 'Dr. Orinsky', 'credit_id': '52fe43439251416c75009c61', 'gender': 2, 'id': 170921, 'name': 'Baxter Harris', 'order': 9, 'profile_path': None}, {'cast_id': 18, 'character': 'Harry Sampas', 'credit_id': '52fe43439251416c75009c65', 'gender': 2, 'id': 77245, 'name': 'Scott Morgan', 'order': 10, 'profile_path': '/9KIBxqEL0htPmY6JmFj3TNAx3Wv.jpg'}, {'cast_id': 19, 'character': 'Debutante', 'credit_id': '52fe43439251416c75009c69', 'gender': 1, 'id': 191435, 'name': 'Nancy La Scala', 'order': 11, 'profile_path': '/8sTP57E1B1cgRMQ1ObtpxQkajuc.jpg'}, {'cast_id': 20, 'character': \"Debutante's Sister\", 'credit_id': '52fe43439251416c75009c6d', 'gender': 1, 'id': 214142, 'name': 'Raquel Gardner', 'order': 12, 'profile_path': '/1xtugh8C2xmIRFY86wJSacURVQ5.jpg'}, {'cast_id': 21, 'character': 'Pentagon Personnel', 'credit_id': '52fe43439251416c75009c71', 'gender': 2, 'id': 167345, 'name': 'Henderson Forsythe', 'order': 13, 'profile_path': None}, {'cast_id': 22, 'character': 'Pentagon Personnel', 'credit_id': '52fe43439251416c75009c75', 'gender': 2, 'id': 152648, 'name': 'Robert Hogan', 'order': 14, 'profile_path': '/5jbfYKxmIlDcOqMhX3ywqr6iOQW.jpg'}, {'cast_id': 23, 'character': 'Pentagon Personnel', 'credit_id': '52fe43439251416c75009c79', 'gender': 2, 'id': 28043, 'name': 'Ted Sutton', 'order': 15, 'profile_path': '/8aqC9afqEiHOwvkIgCVcPxgEyhc.jpg'}, {'cast_id': 31, 'character': 'Dr. Herman Cromwell', 'credit_id': '577d5fd2c3a36817fb001cd3', 'gender': 2, 'id': 1039, 'name': 'Peter Boyle', 'order': 16, 'profile_path': '/hAZw6rJlAemlqND09Km7qGvpZ6D.jpg'}, {'cast_id': 52, 'character': 'Biologist', 'credit_id': '584c04aec3a368397e00b2bc', 'gender': 1, 'id': 1387916, 'name': 'Gwendolyn Briley-Strand', 'order': 17, 'profile_path': None}, {'cast_id': 53, 'character': 'Biologist', 'credit_id': '584c04b592514133bd00a967', 'gender': 1, 'id': 1720761, 'name': 'Valerie Karasek', 'order': 18, 'profile_path': None}, {'cast_id': 54, 'character': 'Biologist', 'credit_id': '584c04bf92514133b600b1c5', 'gender': 1, 'id': 58967, 'name': 'Jane Beard', 'order': 19, 'profile_path': None}, {'cast_id': 55, 'character': 'Tether Console Guard', 'credit_id': '584c04c892514133a800a4b5', 'gender': 1, 'id': 1332245, 'name': 'Nancy Young', 'order': 20, 'profile_path': '/45Ofa9fi7lCiYoe52SaC2mU6244.jpg'}, {'cast_id': 56, 'character': 'Administrator', 'credit_id': '584c04d2c3a368397500a5c4', 'gender': 2, 'id': 1387821, 'name': 'Beau James', 'order': 21, 'profile_path': None}, {'cast_id': 57, 'character': 'Prostitute', 'credit_id': '584c04e0c3a368398700ac40', 'gender': 1, 'id': 1720762, 'name': 'Tracy Metro', 'order': 22, 'profile_path': None}, {'cast_id': 58, 'character': 'Seedy Motel Clerk', 'credit_id': '584c04e7c3a368398b00b2ed', 'gender': 2, 'id': 1720763, 'name': 'Irv Ziff', 'order': 23, 'profile_path': None}, {'cast_id': 59, 'character': 'Hooker', 'credit_id': '584c04ee92514133b300b4ea', 'gender': 1, 'id': 1720764, 'name': 'Melanie Bradshaw', 'order': 24, 'profile_path': None}, {'cast_id': 60, 'character': 'Stripper', 'credit_id': '584c04f792514133b600b1ec', 'gender': 1, 'id': 1720765, 'name': 'Felicia Deel', 'order': 25, 'profile_path': None}, {'cast_id': 61, 'character': 'Medical Examiner', 'credit_id': '584c04fe92514133b300b4f9', 'gender': 2, 'id': 1720766, 'name': 'Norman Aronovic', 'order': 26, 'profile_path': None}, {'cast_id': 62, 'character': 'Darlene', 'credit_id': '584c050992514133a800a4cf', 'gender': 1, 'id': 6107, 'name': 'Kim Adams', 'order': 27, 'profile_path': None}, {'cast_id': 63, 'character': 'Kid at Supermarket', 'credit_id': '584c0517c3a368398700ac65', 'gender': 2, 'id': 1720767, 'name': 'Dustin Turner', 'order': 28, 'profile_path': None}, {'cast_id': 64, 'character': 'Woman Shopper', 'credit_id': '584c0527c3a368397a00b65b', 'gender': 1, 'id': 1224618, 'name': 'Susan Duvall', 'order': 29, 'profile_path': None}, {'cast_id': 65, 'character': 'Male Teenager', 'credit_id': '584c055292514133bd00a9ab', 'gender': 2, 'id': 1720768, 'name': 'Andreas Kraemer', 'order': 30, 'profile_path': None}, {'cast_id': 66, 'character': 'Female Teenager', 'credit_id': '584c0559c3a368398700ac8c', 'gender': 1, 'id': 1720769, 'name': 'Lauren Ziemski', 'order': 31, 'profile_path': None}, {'cast_id': 67, 'character': 'Woman in Crowd', 'credit_id': '584c056292514133ab00ac1c', 'gender': 1, 'id': 1720770, 'name': 'Donna Sacco', 'order': 32, 'profile_path': None}, {'cast_id': 68, 'character': 'Woman with Gamble', 'credit_id': '584c056ac3a368397500a613', 'gender': 1, 'id': 188216, 'name': 'Sondra Spriggs', 'order': 33, 'profile_path': None}, {'cast_id': 69, 'character': 'Federal Agent', 'credit_id': '584c057492514133bd00a9bf', 'gender': 2, 'id': 1491830, 'name': 'Kevin Grantz', 'order': 34, 'profile_path': None}, {'cast_id': 70, 'character': 'Press Agent', 'credit_id': '584c057cc3a368398700aca7', 'gender': 1, 'id': 1720771, 'name': 'Zite Bidanie', 'order': 35, 'profile_path': None}, {'cast_id': 71, 'character': 'Squad Leader', 'credit_id': '584c0586c3a3682c3a000dac', 'gender': 2, 'id': 75207, 'name': 'Nat Benchley', 'order': 36, 'profile_path': None}, {'cast_id': 72, 'character': 'Cobra Pilot', 'credit_id': '584c05a0c3a368398200aaa1', 'gender': 2, 'id': 1720774, 'name': 'Mike Gartland', 'order': 37, 'profile_path': None}, {'cast_id': 73, 'character': 'Pilot', 'credit_id': '584c05a8c3a368397e00b33d', 'gender': 2, 'id': 1720775, 'name': 'John C. Pratt', 'order': 38, 'profile_path': None}, {'cast_id': 74, 'character': 'Pilot', 'credit_id': '584c05afc3a368397500a63e', 'gender': 2, 'id': 1720776, 'name': 'John T. Scanlon', 'order': 39, 'profile_path': None}, {'cast_id': 75, 'character': 'Pilot', 'credit_id': '584c05b792514133b600b237', 'gender': 2, 'id': 1720777, 'name': 'Herbert R. Schutt Jr.', 'order': 40, 'profile_path': None}, {'cast_id': 76, 'character': 'Gorgeous Nurse', 'credit_id': '584c05bf92514133b100b245', 'gender': 1, 'id': 1720778, 'name': 'Evelyn Ebo', 'order': 41, 'profile_path': None}, {'cast_id': 77, 'character': 'Bill Boggs', 'credit_id': '584c05cd92514133bd00a9df', 'gender': 2, 'id': 177425, 'name': 'Bill Boggs', 'order': 42, 'profile_path': None}, {'cast_id': 78, 'character': 'U. S. President', 'credit_id': '584c05d892514133b300b567', 'gender': 2, 'id': 32396, 'name': 'Richard Belzer', 'order': 43, 'profile_path': '/r9X9FzyYlYt20rfl0wUmgRAl5gg.jpg'}, {'cast_id': 79, 'character': 'News Announcer', 'credit_id': '584c05df92514133b100b264', 'gender': 1, 'id': 1720779, 'name': 'Alesia Newman-Breen', 'order': 44, 'profile_path': None}, {'cast_id': 80, 'character': 'Patrick Creature Performer', 'credit_id': '584c05e892514133bd00a9ee', 'gender': 2, 'id': 43523, 'name': 'Vincent Hammond', 'order': 45, 'profile_path': None}, {'cast_id': 81, 'character': 'Eve Creature Performer', 'credit_id': '584c05f092514133b900b279', 'gender': 1, 'id': 1230008, 'name': 'Monica Staggs', 'order': 46, 'profile_path': '/uqnHWAdR6IA5FuA06c6DudoT8mg.jpg'}, {'cast_id': 82, 'character': 'Soldier', 'credit_id': '584c05fdc3a368398700acf9', 'gender': 2, 'id': 1720780, 'name': 'Jason Sweet', 'order': 47, 'profile_path': None}, {'cast_id': 83, 'character': 'Air Force Special Forces', 'credit_id': '584c08dec3a3682c3a000f65', 'gender': 2, 'id': 577739, 'name': 'Michael Ahl', 'order': 48, 'profile_path': None}, {'cast_id': 84, 'character': 'Soldier', 'credit_id': '584c08e6c3a368397a00b865', 'gender': 2, 'id': 1720784, 'name': 'Sean Attebury', 'order': 49, 'profile_path': None}, {'cast_id': 85, 'character': '', 'credit_id': '584c08efc3a368397800ab13', 'gender': 2, 'id': 198827, 'name': 'Matthew Boylan', 'order': 50, 'profile_path': '/5tgOQxFjf4bLVwhyIuZslXbORB1.jpg'}, {'cast_id': 86, 'character': 'Dinner Guest', 'credit_id': '584c08f7c3a368397500a7b3', 'gender': 1, 'id': 1720785, 'name': 'Heidi Burger', 'order': 51, 'profile_path': None}, {'cast_id': 87, 'character': 'Soldier', 'credit_id': '584c090592514133bd00ab66', 'gender': 2, 'id': 1720786, 'name': 'Tim Carr', 'order': 52, 'profile_path': None}, {'cast_id': 88, 'character': 'Scientist', 'credit_id': '584c093292514133b600b429', 'gender': 2, 'id': 93887, 'name': 'Gary Davis', 'order': 53, 'profile_path': None}, {'cast_id': 89, 'character': 'Marine', 'credit_id': '584c093d92514133ad00acf2', 'gender': 2, 'id': 1720787, 'name': 'Frank Faucette', 'order': 54, 'profile_path': None}, {'cast_id': 90, 'character': 'Orderly', 'credit_id': '584c094792514133bd00ab8d', 'gender': 2, 'id': 1720788, 'name': 'Sean Floyd', 'order': 55, 'profile_path': None}, {'cast_id': 91, 'character': 'Nurse', 'credit_id': '584c094e92514133b600b434', 'gender': 1, 'id': 1720789, 'name': 'Sarah Fragale', 'order': 56, 'profile_path': None}, {'cast_id': 92, 'character': 'Army Soldier', 'credit_id': '584c095a92514133b300b748', 'gender': 2, 'id': 1720790, 'name': 'Byron Henderson', 'order': 57, 'profile_path': None}, {'cast_id': 93, 'character': 'Paparazzi', 'credit_id': '584c097bc3a368398700ae8a', 'gender': 2, 'id': 1720791, 'name': 'Liam Hughes', 'order': 58, 'profile_path': None}, {'cast_id': 94, 'character': 'Springfield Orderly', 'credit_id': '584c098492514133b300b75f', 'gender': 2, 'id': 1720792, 'name': 'Paul Majors', 'order': 59, 'profile_path': None}, {'cast_id': 95, 'character': 'Police Officer', 'credit_id': '584c0990c3a368398700ae96', 'gender': 2, 'id': 1720793, 'name': 'Mark Norris', 'order': 60, 'profile_path': None}, {'cast_id': 96, 'character': 'Bar Patron (uncredited)', 'credit_id': '584c099a92514133b900b442', 'gender': 2, 'id': 1720794, 'name': 'Brian Harrison', 'order': 61, 'profile_path': None}, {'cast_id': 97, 'character': 'Hooker (uncredited)', 'credit_id': '584c09a292514133b600b457', 'gender': 1, 'id': 1720795, 'name': 'Julie Mabry', 'order': 62, 'profile_path': None}, {'cast_id': 98, 'character': 'FBI agent on boat (uncredited)', 'credit_id': '584c09aac3a368398700aea9', 'gender': 2, 'id': 577746, 'name': 'Karl Otter', 'order': 63, 'profile_path': None}, {'cast_id': 99, 'character': 'Maj Gen USMC (uncredited)', 'credit_id': '584c09b3c3a368397800ab69', 'gender': 2, 'id': 1720796, 'name': 'Thomas Reid', 'order': 64, 'profile_path': None}, {'cast_id': 100, 'character': 'Air Force Special Forces (uncredited)', 'credit_id': '584c09bb92514133a800a6bd', 'gender': 2, 'id': 1720797, 'name': 'Eric Alan Wendell', 'order': 65, 'profile_path': None}]    1\n",
              "                                                                                                                                                                                                                                                                                                                                                                                                                                                                                                                                                                                                                                                                                                                                                                                                                                                                                                                                                                                                                                                                                                                                                                                                                                                                                                                                                                                                                                                                                                                                                                                                                                                                                                                                                                                                                                                                                                                                                                                                                                                                                                                                                                                                                                                                                                                                                                                                                                                                                                                                                                                                                                                                                                                                                                                                                                                                                                                                                                                                                                                                                                                                                                                                                                                                                                                                                                                                                                                                                                                                                                                                                                                                                                                                                                                                                                                                                                                                                                                                                                                                                                                                                                                                                                                                                                                                                                                                                                                                                                                                                                                                                                                                                                                                                                                                                                                                                                                                                                                                                                                                                                                                                                                                                                                                                                                                                                                                                                                                                                                                                                                                                                                                                                                                                                                                                                                                                                                                                                                                                                                                                                                                                                                                                                                                                                                                                                                                                                                                                                                                                                                                                                                                                                                                                                                                                                                                                                                                                                                                                                                                                                                                                                                                                                                                                                                                                                                                                                                                                                                                                                                                                                                                                                                                                                                                                                                                                                                                                                                                                                                                                                                                                                                                                                                                                                                                                                                                                                                                                                                                                                                                                                                                                                                                                                                                                                                                                                                                                                                                                                                                                                                                                                                                                                                                                                                                                                                                                                                                                                                                                                                                                                                                                                                                                                                                                                                                                                                                                                                                                                                                                                                                                                                                                                                                                                                                                                                                                                                                                                                                                                                                                                                                                                                                                                                                                                                                                                                                                                                                                                                                                                                                                                                                                                                                                                                                                                                                                                                                                                                                                                                                                                                                                                                                                                                                                                                                                                                                                                                                                                                                                                                                                                                                                                                                                                                                                                                                                                                                                                                                                                                                                            ..\n",
              "[{'cast_id': 1, 'character': 'Lincoln Rhyme', 'credit_id': '52fe44fdc3a36847f80b61bb', 'gender': 2, 'id': 5292, 'name': 'Denzel Washington', 'order': 0, 'profile_path': '/khMf8LLTtppUwuZqqnigD2nAy26.jpg'}, {'cast_id': 27, 'character': 'Amelia Donaghy', 'credit_id': '52fe44fdc3a36847f80b6235', 'gender': 1, 'id': 11701, 'name': 'Angelina Jolie', 'order': 1, 'profile_path': '/nsxtg9MQG01hvud1vVEW9vvfukK.jpg'}, {'cast_id': 3, 'character': 'Thelma', 'credit_id': '52fe44fdc3a36847f80b61bf', 'gender': 1, 'id': 15758, 'name': 'Queen Latifah', 'order': 2, 'profile_path': '/ht52no1SMDhYBwRAmWL9a5YCss1.jpg'}, {'cast_id': 4, 'character': 'Captain Howard Cheney', 'credit_id': '52fe44fdc3a36847f80b61c3', 'gender': 2, 'id': 12132, 'name': 'Michael Rooker', 'order': 3, 'profile_path': '/bvmf7TIjCyRPrBNrmZ5qyePTL5y.jpg'}, {'cast_id': 16, 'character': 'Detective Kenny Solomon', 'credit_id': '52fe44fdc3a36847f80b6209', 'gender': 2, 'id': 69298, 'name': 'Michael McGlone', 'order': 4, 'profile_path': '/rB2uLTM2xh2O2aKri8OgPDKM0tK.jpg'}, {'cast_id': 17, 'character': 'Eddie Ortiz', 'credit_id': '52fe44fdc3a36847f80b620d', 'gender': 2, 'id': 40481, 'name': 'Luis Guzm√°n', 'order': 5, 'profile_path': '/e6mIeGBDkNFZwFDoskcetgkU5oH.jpg'}, {'cast_id': 18, 'character': 'Richard Thompson', 'credit_id': '52fe44fdc3a36847f80b6211', 'gender': 2, 'id': 2221, 'name': 'Leland Orser', 'order': 6, 'profile_path': '/2XnpH5LOE7Ln0JMhFTT73QscLQh.jpg'}, {'cast_id': 19, 'character': 'Dr. Barry Lehman', 'credit_id': '52fe44fdc3a36847f80b6215', 'gender': 2, 'id': 21179, 'name': 'John Benjamin Hickey', 'order': 7, 'profile_path': '/4srJbpblPshcmQPI5auoAR8c1bi.jpg'}, {'cast_id': 20, 'character': \"Steve, Amelia's Boyfriend\", 'credit_id': '52fe44fdc3a36847f80b6219', 'gender': 2, 'id': 21127, 'name': 'Bobby Cannavale', 'order': 8, 'profile_path': '/o3xnmePoOUCw7sjoZ4xM4W5DL26.jpg'}, {'cast_id': 21, 'character': 'Detective Paulie Sellitto', 'credit_id': '52fe44fdc3a36847f80b621d', 'gender': 2, 'id': 18977, 'name': \"Ed O'Neill\", 'order': 9, 'profile_path': '/pIaygzkgrZ9FfJRxmtwPBMcWmIz.jpg'}, {'cast_id': 22, 'character': 'Lieutenant Carl Hanson', 'credit_id': '52fe44fdc3a36847f80b6221', 'gender': 0, 'id': 129419, 'name': 'Richard Zeman', 'order': 10, 'profile_path': '/9SvDhBnPHpXbXNfG8jnnLQ7vNNx.jpg'}, {'cast_id': 23, 'character': 'Lindsay Rubin', 'credit_id': '52fe44fdc3a36847f80b6225', 'gender': 1, 'id': 129420, 'name': 'Olivia Birkelund', 'order': 11, 'profile_path': '/kdBHFbXI0orEg94VRUjMKLJr5F1.jpg'}, {'cast_id': 24, 'character': 'Alan Rubin', 'credit_id': '52fe44fdc3a36847f80b6229', 'gender': 2, 'id': 129421, 'name': 'Gary Swanson', 'order': 12, 'profile_path': '/f0aPYfFmNSOuvS9zi6KgK1SfyEu.jpg'}, {'cast_id': 25, 'character': 'Train Engineer', 'credit_id': '52fe44fdc3a36847f80b622d', 'gender': 2, 'id': 63342, 'name': 'James Bulleit', 'order': 13, 'profile_path': None}, {'cast_id': 26, 'character': 'Grandfather', 'credit_id': '52fe44fdc3a36847f80b6231', 'gender': 2, 'id': 60910, 'name': 'Frank Fontaine', 'order': 14, 'profile_path': None}, {'cast_id': 44, 'character': 'Granddaughter', 'credit_id': '53a59e52c3a3687a340014fe', 'gender': 1, 'id': 62760, 'name': 'Zena Grey', 'order': 15, 'profile_path': '/wzRRQ8vifE4OFQTS6Hh3S6ZXcT9.jpg'}, {'cast_id': 96, 'character': 'Taxi Inspector', 'credit_id': '55439fe8c3a3680cd500215f', 'gender': 2, 'id': 180996, 'name': 'Desmond Campbell', 'order': 16, 'profile_path': '/jQLTPVX66N61Ng6PEW3Z5SE3Tx5.jpg'}, {'cast_id': 100, 'character': 'Homicide Detective', 'credit_id': '56e5c715c3a36807b2000e48', 'gender': 2, 'id': 1098451, 'name': 'Peter Michael Dillon', 'order': 18, 'profile_path': '/ojQGwAF7igyjA7mJa55YnewwRRD.jpg'}, {'cast_id': 101, 'character': \"Ortiz's Assistant\", 'credit_id': '56f5bd1ec3a3686a59000985', 'gender': 2, 'id': 190900, 'name': 'Ted Whittall', 'order': 19, 'profile_path': '/AqlN8tW9bzhMJzHwOEf2MDagyG7.jpg'}, {'cast_id': 102, 'character': 'Uniform Cop', 'credit_id': '570647c69251411f3c001f97', 'gender': 2, 'id': 559971, 'name': 'Andy Bradshaw', 'order': 20, 'profile_path': '/qRj2ymfQrWcgoqVQPkt7Gby3Srd.jpg'}, {'cast_id': 148, 'character': 'Gas Worker', 'credit_id': '594fe6a2925141312704e1bd', 'gender': 2, 'id': 66934, 'name': 'Steve Adams', 'order': 21, 'profile_path': '/xjh3xEFrkF94LTvxqIwqP2ca7l6.jpg'}]                                                                                                                                                                                                                                                                                                                                                                                                                                                                                                                                                                                                                                                                                                                                                                                                                                                                                                                                                                                                                                                                                                                                                                                                                                                                                                                                                                                                                                                                                                                                                                                                                                                                                                                                                                                                                                                                                                                                                                                                                                                                                                                                                                                                                                                                                                                                                                                                                                                                                                                                                                                                                                                                                                                                                                                                                                                                                                                                                                                                                                                                                                                                                                                                                                                                                                                                                                                                                                                                                                                                                                                                                                                                                                                                                                                                                                                                                                                                                                                                                                                                                                                                                                                                                                                                                                                                                                                                                                                                                                                                                                                                                                                                                                                                                                                                                                                                                                                                                                                                                                                                                                                                                                                                                                                                                                                                                                                                                                                                                                                                                                                                                                                                                                                                                                                                                                                                                                                                                                                                                                                                                                                                                                                                                                                                                                                                                                                                                                                                                                                                                                                                                                                                                                                                                                                                                                                                                                                                                                                                                                                                                                                                                                                                                                                                                                                                                                                                                                                                                                                                                                                                                                                                                                                                                                                                                                                                                                                                                                                                                                                                                                                                                            1\n",
              "[{'cast_id': 1, 'character': 'Marissa', 'credit_id': '52fe45c6c3a36847f80d9b9b', 'gender': 1, 'id': 25541, 'name': 'Katherine Heigl', 'order': 0, 'profile_path': '/jOHVi7v3lvohI6KY7adnioiX5yl.jpg'}, {'cast_id': 2, 'character': 'Grant', 'credit_id': '52fe45c6c3a36847f80d9b9f', 'gender': 0, 'id': 562189, 'name': 'Leo Grillo', 'order': 1, 'profile_path': None}, {'cast_id': 3, 'character': 'Joey', 'credit_id': '52fe45c6c3a36847f80d9ba3', 'gender': 2, 'id': 3197, 'name': 'Tom Sizemore', 'order': 2, 'profile_path': '/soINOuacuiThRb2LyPD4tTWve7C.jpg'}, {'cast_id': 14, 'character': 'Meth Maker', 'credit_id': '52fe45c6c3a36847f80d9bdd', 'gender': 0, 'id': 1070021, 'name': 'Rickey Medlocke', 'order': 3, 'profile_path': None}, {'cast_id': 15, 'character': 'Truck Driver', 'credit_id': '52fe45c6c3a36847f80d9be1', 'gender': 0, 'id': 974352, 'name': 'Yorlin Madera', 'order': 4, 'profile_path': None}, {'cast_id': 16, 'character': 'Natalie', 'credit_id': '52fe45c6c3a36847f80d9be5', 'gender': 0, 'id': 1070024, 'name': 'Meguire Grillo', 'order': 5, 'profile_path': None}, {'cast_id': 17, 'character': 'Roulette Dealer', 'credit_id': '52fe45c6c3a36847f80d9be9', 'gender': 0, 'id': 173814, 'name': 'Di Koob', 'order': 6, 'profile_path': None}, {'cast_id': 18, 'character': 'Voice of Brenda', 'credit_id': '52fe45c6c3a36847f80d9bed', 'gender': 0, 'id': 156523, 'name': 'Nancy Linari', 'order': 7, 'profile_path': '/9cBIOvX8s3m7pdl6wGY2REERjZB.jpg'}, {'cast_id': 19, 'character': 'The Shadow', 'credit_id': '52fe45c6c3a36847f80d9bf1', 'gender': 0, 'id': 1070025, 'name': 'Michael Lugenbuehl', 'order': 8, 'profile_path': None}]                                                                                                                                                                                                                                                                                                                                                                                                                                                                                                                                                                                                                                                                                                                                                                                                                                                                                                                                                                                                                                                                                                                                                                                                                                                                                                                                                                                                                                                                                                                                                                                                                                                                                                                                                                                                                                                                                                                                                                                                                                                                                                                                                                                                                                                                                                                                                                                                                                                                                                                                                                                                                                                                                                                                                                                                                                                                                                                                                                                                                                                                                                                                                                                                                                                                                                                                                                                                                                                                                                                                                                                                                                                                                                                                                                                                                                                                                                                                                                                                                                                                                                                                                                                                                                                                                                                                                                                                                                                                                                                                                                                                                                                                                                                                                                                                                                                                                                                                                                                                                                                                                                                                                                                                                                                                                                                                                                                                                                                                                                                                                                                                                                                                                                                                                                                                                                                                                                                                                                                                                                                                                                                                                                                                                                                                                                                                                                                                                                                                                                                                                                                                                                                                                                                                                                                                                                                                                                                                                                                                                                                                                                                                                                                                                                                                                                                                                                                                                                                                                                                                                                                                                                                                                                                                                                                                                                                                                                                                                                                                                                                                                                                                                                                                                                                                                                                                                                                                                                                                                                                                                                                                                                                                                                                                                                                                                                                                                                                                                                                                                                                                                                                                                                                                                                                                                                                                                                                                                                                                                                                                                                                                                                                                                                                                                                                                                                                                                                                                                                                                                                                                                                                                                                                                                                                                                                                                                                                                                                                                                                                                                                                                                                                                                                                                                                                                                                                                                                                                         1\n",
              "[{'cast_id': 1, 'character': 'Tommy', 'credit_id': '52fe43459251416c7500a0c9', 'gender': 0, 'id': 64198, 'name': 'Thom Mathews', 'order': 0, 'profile_path': '/8wOkgEcqAeAlsglJXYiQruMGdFU.jpg'}, {'cast_id': 2, 'character': 'Megan Garris', 'credit_id': '52fe43459251416c7500a0cd', 'gender': 0, 'id': 64199, 'name': 'Jennifer Cooke', 'order': 1, 'profile_path': '/6GhWtRLnhcuKpYIDSaeQoK5I1pE.jpg'}, {'cast_id': 3, 'character': 'Sheriff Garris', 'credit_id': '52fe43459251416c7500a0d1', 'gender': 0, 'id': 64200, 'name': 'David Kagen', 'order': 2, 'profile_path': None}, {'cast_id': 4, 'character': 'Sissy', 'credit_id': '52fe43459251416c7500a0d5', 'gender': 1, 'id': 64201, 'name': 'Ren√©e Jones', 'order': 3, 'profile_path': None}, {'cast_id': 5, 'character': 'Cort', 'credit_id': '52fe43459251416c7500a0d9', 'gender': 0, 'id': 64202, 'name': 'Tom Fridley', 'order': 4, 'profile_path': None}, {'cast_id': 6, 'character': 'Jason', 'credit_id': '52fe43459251416c7500a0dd', 'gender': 0, 'id': 64203, 'name': 'C.J. Graham', 'order': 5, 'profile_path': None}, {'cast_id': 13, 'character': 'Darren', 'credit_id': '52fe43459251416c7500a105', 'gender': 2, 'id': 3417, 'name': 'Tony Goldwyn', 'order': 6, 'profile_path': '/asV7pfeMIzT8GFdA2gqBjAPGd6l.jpg'}, {'cast_id': 14, 'character': 'Nikki', 'credit_id': '52fe43459251416c7500a109', 'gender': 1, 'id': 82956, 'name': 'Darcy DeMoss', 'order': 7, 'profile_path': '/bporH7RHg4C5Bym2u3zwUmH0BjV.jpg'}, {'cast_id': 15, 'character': 'Katie', 'credit_id': '52fe43459251416c7500a10d', 'gender': 1, 'id': 156587, 'name': 'Ann Ryerson', 'order': 8, 'profile_path': '/A1PlH6dw01Eb5xkbqjtv4Wc6e7x.jpg'}, {'cast_id': 16, 'character': 'Larry', 'credit_id': '52fe43459251416c7500a111', 'gender': 2, 'id': 22053, 'name': 'Alan Blumenfeld', 'order': 9, 'profile_path': '/2ag56MvKkTuhGnUFgJza4hJZl8u.jpg'}, {'cast_id': 17, 'character': 'Allen Hawes', 'credit_id': '52fe43459251416c7500a115', 'gender': 2, 'id': 75352, 'name': 'Ron Palillo', 'order': 10, 'profile_path': '/7WCLYyPhPNgnSBzZRJ5rhXGLJLx.jpg'}, {'cast_id': 18, 'character': 'Paula Mott', 'credit_id': '58d08298c3a368674f0039e2', 'gender': 0, 'id': 1394114, 'name': 'Kerry Noonan', 'order': 11, 'profile_path': None}]                                                                                                                                                                                                                                                                                                                                                                                                                                                                                                                                                                                                                                                                                                                                                                                                                                                                                                                                                                                                                                                                                                                                                                                                                                                                                                                                                                                                                                                                                                                                                                                                                                                                                                                                                                                                                                                                                                                                                                                                                                                                                                                                                                                                                                                                                                                                                                                                                                                                                                                                                                                                                                                                                                                                                                                                                                                                                                                                                                                                                                                                                                                                                                                                                                                                                                                                                                                                                                                                                                                                                                                                                                                                                                                                                                                                                                                                                                                                                                                                                                                                                                                                                                                                                                                                                                                                                                                                                                                                                                                                                                                                                                                                                                                                                                                                                                                                                                                                                                                                                                                                                                                                                                                                                                                                                                                                                                                                                                                                                                                                                                                                                                                                                                                                                                                                                                                                                                                                                                                                                                                                                                                                                                                                                                                                                                                                                                                                                                                                                                                                                                                                                                                                                                                                                                                                                                                                                                                                                                                                                                                                                                                                                                                                                                                                                                                                                                                                                                                                                                                                                                                                                                                                                                                                                                                                                                                                                                                                                                                                                                                                                                                                                                                                                                                                                                                                                                                                                                                                                                                                                                                                                                                                                                                                                                                                                                                                                                                                                                                                                                                                                                                                                                                                                                                                                                                                                                                                                                                                                                                                                                                                                                                                                                                                                                                                                                                                                                                                                                                                                                                                                                                                                                                                                                                                                                                                  1\n",
              "[{'cast_id': 11, 'character': 'Wyatt Earp', 'credit_id': '52fe44ac9251416c7503cfb1', 'gender': 2, 'id': 6856, 'name': 'Kurt Russell', 'order': 0, 'profile_path': '/rlnFuNkisPpuypARI7QaGCmOY6V.jpg'}, {'cast_id': 12, 'character': 'Doc Holliday', 'credit_id': '52fe44ac9251416c7503cfb5', 'gender': 2, 'id': 5576, 'name': 'Val Kilmer', 'order': 1, 'profile_path': '/AlhPeiH8R4reMNGNQ9ag1FPbuW9.jpg'}, {'cast_id': 13, 'character': 'Virgil Earp', 'credit_id': '52fe44ac9251416c7503cfb9', 'gender': 2, 'id': 16431, 'name': 'Sam Elliott', 'order': 2, 'profile_path': '/td95IbYZf4LMA2wiEjktAsQvzhW.jpg'}, {'cast_id': 14, 'character': 'Morgan Earp', 'credit_id': '52fe44ac9251416c7503cfbd', 'gender': 2, 'id': 2053, 'name': 'Bill Paxton', 'order': 3, 'profile_path': '/53Ln1wTC0OCLzBF4HNlwhMXYgOU.jpg'}, {'cast_id': 17, 'character': 'Curly Bill Brocius', 'credit_id': '52fe44ac9251416c7503cfcb', 'gender': 2, 'id': 6280, 'name': 'Powers Boothe', 'order': 4, 'profile_path': '/3nNL6AvMAYq0BmHKM79RnRZVq3i.jpg'}, {'cast_id': 18, 'character': 'Johnny Ringo', 'credit_id': '52fe44ac9251416c7503cfcf', 'gender': 2, 'id': 2712, 'name': 'Michael Biehn', 'order': 5, 'profile_path': '/sTk3ltlHRvRg5quheWBxaLdLgC8.jpg'}, {'cast_id': 19, 'character': 'Henry Hooker', 'credit_id': '52fe44ac9251416c7503cfd3', 'gender': 2, 'id': 10017, 'name': 'Charlton Heston', 'order': 6, 'profile_path': '/pXwJV9JlOCKOHSfEJdt2q61SZVq.jpg'}, {'cast_id': 82, 'character': 'Billy Breckinridge', 'credit_id': '56888f29925141133401bda9', 'gender': 2, 'id': 19143, 'name': 'Jason Priestley', 'order': 7, 'profile_path': '/skXfFcbZWPOBomGBSTMfiyzgi6q.jpg'}, {'cast_id': 83, 'character': 'Behan', 'credit_id': '56888f44c3a3686075024c93', 'gender': 2, 'id': 4602, 'name': 'Jon Tenney', 'order': 8, 'profile_path': '/fiG1bW6DX1szsRDPIYjfIKPQ0kV.jpg'}, {'cast_id': 16, 'character': 'Ike Clanton', 'credit_id': '52fe44ac9251416c7503cfc7', 'gender': 2, 'id': 32747, 'name': 'Stephen Lang', 'order': 9, 'profile_path': '/tqF6ibURpLvRPlgvLRvjCQqWaa2.jpg'}, {'cast_id': 21, 'character': 'Billy Clanton', 'credit_id': '52fe44ac9251416c7503cfdb', 'gender': 2, 'id': 19159, 'name': 'Thomas Haden Church', 'order': 10, 'profile_path': '/a7a2cG0wtkKZ9NpkVfmcyn0UvOU.jpg'}, {'cast_id': 20, 'character': 'Josephine Marcus', 'credit_id': '52fe44ac9251416c7503cfd7', 'gender': 1, 'id': 65002, 'name': 'Dana Delany', 'order': 11, 'profile_path': '/6BfV8TS5Z28VNUVUX5J0NwRIDNT.jpg'}, {'cast_id': 94, 'character': 'Allie Earp', 'credit_id': '58fec7bbc3a368539000268b', 'gender': 1, 'id': 47533, 'name': 'Paula Malcomson', 'order': 12, 'profile_path': '/mqiiy0HXExPYaIczPxWFRDGqhwA.jpg'}, {'cast_id': 37, 'character': 'Louisa Earp', 'credit_id': '53a804b70e0a2614320058d2', 'gender': 0, 'id': 936813, 'name': 'Lisa Collins', 'order': 13, 'profile_path': '/lBHr2HDlmT6QGeLM9bCknXB5MWN.jpg'}, {'cast_id': 22, 'character': 'Mattie Earp', 'credit_id': '52fe44ac9251416c7503cfdf', 'gender': 1, 'id': 58866, 'name': 'Dana Wheeler-Nicholson', 'order': 14, 'profile_path': '/xxeZ2ZVM3t9NWLLpu8qmzJesktz.jpg'}, {'cast_id': 84, 'character': 'Kate', 'credit_id': '56888f89c3a3684bcc026e47', 'gender': 1, 'id': 36059, 'name': 'Joanna Pacula', 'order': 15, 'profile_path': '/697EWuER2k3lQ4oNZdYdkU6cvvd.jpg'}, {'cast_id': 23, 'character': 'Sherman McMasters', 'credit_id': '52fe44ac9251416c7503cfe3', 'gender': 2, 'id': 12132, 'name': 'Michael Rooker', 'order': 16, 'profile_path': '/bvmf7TIjCyRPrBNrmZ5qyePTL5y.jpg'}, {'cast_id': 85, 'character': 'Marshal Fred White', 'credit_id': '56888fa2c3a3684be9023f67', 'gender': 2, 'id': 4316, 'name': 'Harry Carey, Jr.', 'order': 17, 'profile_path': '/p0olWUm87R6CPsL5M9FnxNSFszF.jpg'}, {'cast_id': 24, 'character': 'Johnny Tyler', 'credit_id': '52fe44ac9251416c7503cfe7', 'gender': 2, 'id': 879, 'name': 'Billy Bob Thornton', 'order': 18, 'profile_path': '/gPCPKXh7HvobcrldRGj5QchW34p.jpg'}, {'cast_id': 86, 'character': 'Frank Stillwell', 'credit_id': '56888fcac3a36860e90252e9', 'gender': 2, 'id': 941, 'name': 'Tomas Arana', 'order': 19, 'profile_path': '/sx8tDGA7e7d5oDYpQwaydmGcc93.jpg'}, {'cast_id': 39, 'character': 'Milt Joyce', 'credit_id': '53a8b4e5c3a3687a40005d49', 'gender': 0, 'id': 1229197, 'name': 'Pat Brady', 'order': 20, 'profile_path': '/igzT9AyyVBESOLQEEjh4ihPCUX9.jpg'}, {'cast_id': 87, 'character': 'Florentino', 'credit_id': '56889001c3a3684be9023f76', 'gender': 2, 'id': 85142, 'name': 'Paul Ben-Victor', 'order': 21, 'profile_path': '/80xWsGSGwTektmHd9xcPdqeOmlI.jpg'}, {'cast_id': 38, 'character': 'Tom Mclaury', 'credit_id': '53a810e80e0a261439005a02', 'gender': 2, 'id': 103011, 'name': 'John Philbin', 'order': 22, 'profile_path': '/hVRZLok1DmiiUQ5lBXOYx04Ibk4.jpg'}, {'cast_id': 88, 'character': 'Frank McLaury', 'credit_id': '56889040c3a3686075024cc1', 'gender': 2, 'id': 31512, 'name': 'Robert John Burke', 'order': 23, 'profile_path': '/ctVRWqY0KfSBIpaGulJMbhyE3jy.jpg'}, {'cast_id': 25, 'character': 'Mr. Fabian', 'credit_id': '52fe44ac9251416c7503cfeb', 'gender': 2, 'id': 1954, 'name': 'Billy Zane', 'order': 24, 'profile_path': '/lkwvmo7vVL8TpMCDLRoHjZIkJQ4.jpg'}, {'cast_id': 95, 'character': 'Billy Claiborne', 'credit_id': '58fec7cfc3a36853730029ff', 'gender': 0, 'id': 1223940, 'name': 'Wyatt Earp', 'order': 25, 'profile_path': None}, {'cast_id': 89, 'character': 'Barnes', 'credit_id': '56889086c3a3684be9023f90', 'gender': 2, 'id': 38405, 'name': 'John Corbett', 'order': 26, 'profile_path': '/r66d7CFycEOwzFnRlAgv5HX8r1R.jpg'}, {'cast_id': 41, 'character': 'Wes Fuller', 'credit_id': '53a8b96cc3a3687a2b006304', 'gender': 0, 'id': 68447, 'name': 'Bo Greigh', 'order': 27, 'profile_path': '/fFSX6Vbp2nxf9RVhzAFyN474vGm.jpg'}, {'cast_id': 40, 'character': 'Pony Deal', 'credit_id': '53a8b8adc3a3687a34005dd7', 'gender': 0, 'id': 1333809, 'name': 'Forrie J. Smith', 'order': 28, 'profile_path': '/lDwyuYHMrCgMX8H5Nad2JM6LoL9.jpg'}, {'cast_id': 90, 'character': 'Texas Jack Vermillion', 'credit_id': '568890bcc3a368362800d61e', 'gender': 2, 'id': 113781, 'name': 'Peter Sherayko', 'order': 29, 'profile_path': '/wrhEeUhNshT1lpzJjHsd1XDgXSx.jpg'}, {'cast_id': 91, 'character': 'Turkey Creek Jack Johnson', 'credit_id': '568890f8c3a36828f501ba5c', 'gender': 2, 'id': 71562, 'name': 'Buck Taylor', 'order': 30, 'profile_path': '/8rGjtybdOWL0trJOJ6LTpz7ffgc.jpg'}, {'cast_id': 92, 'character': 'Mayor John Clum', 'credit_id': '5688910fc3a3684be9023f9e', 'gender': 2, 'id': 12646, 'name': \"Terry O'Quinn\", 'order': 31, 'profile_path': '/o6zGsvhx8klAofq8No6f3jByR42.jpg'}, {'cast_id': 96, 'character': 'Professor Gillman', 'credit_id': '58fec83cc3a36852ed002715', 'gender': 2, 'id': 148130, 'name': 'Charles Schneider', 'order': 32, 'profile_path': '/OwGugSFjJXDj4EDjkccd3Ot6WY.jpg'}, {'cast_id': 97, 'character': 'Crawley Dake', 'credit_id': '58fec84a925141081d0026eb', 'gender': 2, 'id': 134000, 'name': 'Gary Clarke', 'order': 33, 'profile_path': '/hnNqvXPQfOFMev2MsByTJSf0ygl.jpg'}, {'cast_id': 98, 'character': 'Ed Bailey', 'credit_id': '58fec85592514107ba002a82', 'gender': 2, 'id': 39780, 'name': 'Frank Stallone', 'order': 34, 'profile_path': '/jYNAnZsqgu7Fm5OWSJTGMnKcxkf.jpg'}, {'cast_id': 99, 'character': 'Hank Swilling', 'credit_id': '58fec865c3a36852ed002737', 'gender': 0, 'id': 1803309, 'name': 'Stephen C. Foster', 'order': 35, 'profile_path': None}, {'cast_id': 100, 'character': 'Dr. Goodfellow', 'credit_id': '58fec875c3a3685322002b47', 'gender': 2, 'id': 116433, 'name': 'Grant James', 'order': 36, 'profile_path': '/sgOV6UORfBnba13gVlz38tnm7Wn.jpg'}, {'cast_id': 101, 'character': 'Lucinda Hobbs', 'credit_id': '58fec88592514107cc0026e0', 'gender': 0, 'id': 593206, 'name': 'Cecil Hoffman', 'order': 37, 'profile_path': None}, {'cast_id': 102, 'character': 'Father Feeney', 'credit_id': '58fec892c3a3685331002825', 'gender': 0, 'id': 1730173, 'name': 'Sanford Gibbons', 'order': 38, 'profile_path': None}, {'cast_id': 80, 'character': 'Narrator (voice)', 'credit_id': '547a51f49251414c65000478', 'gender': 2, 'id': 10158, 'name': 'Robert Mitchum', 'order': 39, 'profile_path': '/q8imDThRFNQnfyRxadlBrKzGp4u.jpg'}, {'cast_id': 79, 'character': 'Ranch Hand', 'credit_id': '547a51cb925141298d00313c', 'gender': 2, 'id': 37251, 'name': 'Christopher Mitchum', 'order': 40, 'profile_path': '/34bl4WSWZDgl66vjSpiPwk9bPSP.jpg'}, {'cast_id': 36, 'character': 'Mexican bride (uncredited)', 'credit_id': '53a8012bc3a3687a40005051', 'gender': 0, 'id': 1333597, 'name': 'Michelle Beauchamp', 'order': 41, 'profile_path': '/d0PYvcpowq0OQHV5XhD0lMABQI3.jpg'}]                                                                                                                                                                                                                                                                                                                                                                                                                                                                                                                                                                                                                                                                                                                                                                                                                                                                                                                                                                                                                                                                                                                                                                                                                                                                                                                                                                                                                                                                                                                                                                                                                                                                                                                                                                                                                                                                                                                                                                                                                                                                                                                                                                                                                                                                                                                                                                                                                                                                                                                                                                                                                                                                                                                                                                                                                                                                                                                                                                                                                                                                                                                                                                                                                                                                                                                                                                                                                                                                                                                                                                                                                                                                                                                                                                                                        1\n",
              "[{'cast_id': 2, 'character': 'Nathan Harper', 'credit_id': '52fe49a5c3a36847f81a5137', 'gender': 2, 'id': 84214, 'name': 'Taylor Lautner', 'order': 0, 'profile_path': '/xazf3pX3fbScXvi8WojuxsGOJX2.jpg'}, {'cast_id': 3, 'character': 'Karen Murphy', 'credit_id': '52fe49a5c3a36847f81a513b', 'gender': 1, 'id': 112561, 'name': 'Lily Collins', 'order': 1, 'profile_path': '/zembz1s3BExSTgOGQTbMtXhvfN7.jpg'}, {'cast_id': 4, 'character': 'Frank Burton', 'credit_id': '52fe49a5c3a36847f81a513f', 'gender': 2, 'id': 658, 'name': 'Alfred Molina', 'order': 2, 'profile_path': '/uJQVkqEVJGLMaJbwI2tTDlJ9Oo0.jpg'}, {'cast_id': 5, 'character': 'Kevin Harper', 'credit_id': '52fe49a5c3a36847f81a5143', 'gender': 2, 'id': 11355, 'name': 'Jason Isaacs', 'order': 3, 'profile_path': '/1GtGhAJz1JloqHARqc2xMsq5rG4.jpg'}, {'cast_id': 6, 'character': 'Mara Harper', 'credit_id': '52fe49a5c3a36847f81a5147', 'gender': 1, 'id': 49, 'name': 'Maria Bello', 'order': 4, 'profile_path': '/tFkbad0JoWvYc6XYBITv6EfeLwR.jpg'}, {'cast_id': 7, 'character': 'Nikola Kozlow', 'credit_id': '52fe49a5c3a36847f81a514b', 'gender': 2, 'id': 6283, 'name': 'Michael Nyqvist', 'order': 5, 'profile_path': '/bDjPDDiSna8FN5rqHdheg2wIYYo.jpg'}, {'cast_id': 8, 'character': \"Dr. Geraldine 'Geri' Bennett\", 'credit_id': '52fe49a5c3a36847f81a514f', 'gender': 1, 'id': 10205, 'name': 'Sigourney Weaver', 'order': 6, 'profile_path': '/gxBIAr3CnBjkNRoPovVJCvEGqP0.jpg'}, {'cast_id': 84, 'character': 'Martin Price', 'credit_id': '594213539251417f9b002b7e', 'gender': 2, 'id': 20212, 'name': 'Dermot Mulroney', 'order': 7, 'profile_path': '/4ZqA0SJ8KKZ1HvVdZZJlrqjxlq1.jpg'}, {'cast_id': 72, 'character': 'Lorna Price', 'credit_id': '57bca563c3a36838de000204', 'gender': 1, 'id': 126932, 'name': 'Elisabeth R√∂hm', 'order': 8, 'profile_path': '/67qIdPzAY5XrK895EyUpJI2QF8N.jpg'}, {'cast_id': 9, 'character': 'Sandra Burns', 'credit_id': '52fe49a5c3a36847f81a5153', 'gender': 1, 'id': 171941, 'name': 'Antonique Smith', 'order': 9, 'profile_path': '/rXnTrZbWtA2Mr1Teb9LB7berlha.jpg'}, {'cast_id': 74, 'character': 'Alek', 'credit_id': '57bca606925141558500ba67', 'gender': 2, 'id': 1266052, 'name': 'Nickola Shreli', 'order': 10, 'profile_path': '/7y0bAFwF21HImvtktdlg7c7vlhN.jpg'}, {'cast_id': 10, 'character': 'Gilly', 'credit_id': '52fe49a5c3a36847f81a5157', 'gender': 2, 'id': 77278, 'name': 'Denzel Whitaker', 'order': 11, 'profile_path': '/yN4ZZDDDJI2UoKVI1BlIWwd5mp8.jpg'}, {'cast_id': 73, 'character': 'Jake', 'credit_id': '57bca577c3a368226c008b2f', 'gender': 2, 'id': 1011103, 'name': 'William Peltz', 'order': 12, 'profile_path': '/6gtqvA5yif2S1a68AfokQU57BSo.jpg'}, {'cast_id': 66, 'character': 'Gregory', 'credit_id': '54f1925b9251416b2f0014ac', 'gender': 2, 'id': 12371, 'name': 'Richard Cetrone', 'order': 13, 'profile_path': '/63LiC0atGVnNUUaEu86tce2il8Z.jpg'}, {'cast_id': 80, 'character': 'Billy', 'credit_id': '57bded34c3a36818c50019dd', 'gender': 2, 'id': 967197, 'name': 'Allen Williamson', 'order': 14, 'profile_path': '/3YU1V8XvBDVSmmZvX9wQLc5gEfh.jpg'}, {'cast_id': 75, 'character': 'Tom Shealy', 'credit_id': '57bca62d925141046e000263', 'gender': 2, 'id': 10379, 'name': 'Victor Slezak', 'order': 15, 'profile_path': '/nLFIO3GsnHgy1DAXMVSmqlooLQu.jpg'}, {'cast_id': 77, 'character': 'Mr. Miles', 'credit_id': '57bde87d9251415ea8002039', 'gender': 2, 'id': 40377, 'name': 'Roger Guenveur Smith', 'order': 16, 'profile_path': '/c6yUnUcbNxCUKAjucLlh6VHzmCd.jpg'}, {'cast_id': 64, 'character': 'Mrs. Murphy', 'credit_id': '54f19232c3a3683232001863', 'gender': 0, 'id': 1432982, 'name': 'Holly Scott Cavanaugh', 'order': 17, 'profile_path': None}, {'cast_id': 59, 'character': 'Riah', 'credit_id': '54f191c19251416b380013a5', 'gender': 0, 'id': 1432979, 'name': 'Oriah Acima Andrews', 'order': 18, 'profile_path': None}, {'cast_id': 58, 'character': 'CIA Man', 'credit_id': '54f191acc3a368324500145a', 'gender': 2, 'id': 132217, 'name': 'Jake Andolina', 'order': 19, 'profile_path': '/sCfBS7Us4cT69KiYF4jpNlgMoiU.jpg'}, {'cast_id': 60, 'character': 'Thermal', 'credit_id': '54f191db9251416b2c0013b7', 'gender': 0, 'id': 572038, 'name': 'Ken Arnold', 'order': 20, 'profile_path': '/19fy0tQQ70QpVG7XLOPKOsjnAIq.jpg'}, {'cast_id': 63, 'character': 'Driver', 'credit_id': '54f192219251416b350012f3', 'gender': 2, 'id': 1430509, 'name': 'Benjamin J. Cain Jr.', 'order': 21, 'profile_path': '/hXlO6K2eU5HlqfOllY8JiRR6lzn.jpg'}, {'cast_id': 65, 'character': \"Kozlow's Tech\", 'credit_id': '54f19249c3a3683232001869', 'gender': 2, 'id': 1432984, 'name': 'Radick Cembrzynski', 'order': 22, 'profile_path': '/t8pBu8yhr8N9LXO18Ddl920ESjF.jpg'}, {'cast_id': 68, 'character': 'Nurse', 'credit_id': '57bca38dc3a368226c008a3f', 'gender': 1, 'id': 1669570, 'name': 'Rita Gregory', 'order': 23, 'profile_path': '/pheDp4IAe5uzb7yV4rzf9uKtjvC.jpg'}, {'cast_id': 69, 'character': 'Red Flannel', 'credit_id': '57bca415925141046e00017b', 'gender': 2, 'id': 27031, 'name': 'Tim Griffin', 'order': 24, 'profile_path': '/hwGjdnFT8MAowE4oYsIGQovqUsD.jpg'}, {'cast_id': 70, 'character': 'Cop', 'credit_id': '57bca42e9251410ed000f786', 'gender': 2, 'id': 1286879, 'name': 'Nathan Hollabaugh', 'order': 25, 'profile_path': '/rMEC7LFCQNHZ0qSx7vBMn3vBACN.jpg'}, {'cast_id': 71, 'character': 'Girl', 'credit_id': '57bca4da9251410ed000f7cd', 'gender': 1, 'id': 1279375, 'name': 'Emily Peachey', 'order': 26, 'profile_path': '/sbmTv6DveW7WQP1vfizradwSQxq.jpg'}, {'cast_id': 78, 'character': 'Sweater', 'credit_id': '57bde90dc3a3682eac01598c', 'gender': 2, 'id': 109667, 'name': 'Ilia Volok', 'order': 27, 'profile_path': '/k5ACLMgPMrZjKbnOmHmaeBLx2Te.jpg'}, {'cast_id': 79, 'character': 'Helicopter Pilot', 'credit_id': '57bde91fc3a36818c5001823', 'gender': 2, 'id': 1669797, 'name': 'Cherokee Walker', 'order': 28, 'profile_path': '/dhKQTMgLF9d585kQlA0q08tIIot.jpg'}, {'cast_id': 81, 'character': 'Short Sleeves', 'credit_id': '57c4602cc3a3683e8a004a6f', 'gender': 0, 'id': 991960, 'name': 'Jack Erdie', 'order': 29, 'profile_path': '/sFFUnfeU1bwdEc4XggtrfmKbi0r.jpg'}, {'cast_id': 61, 'character': 'Game Announcer', 'credit_id': '54f191f3c3a3683248001738', 'gender': 0, 'id': 1432980, 'name': 'Steve Blass', 'order': 30, 'profile_path': None}, {'cast_id': 62, 'character': 'Hot Dog Vendor', 'credit_id': '54f1920f9251416b350012ed', 'gender': 0, 'id': 1432981, 'name': 'Derek Burnell', 'order': 31, 'profile_path': None}, {'cast_id': 82, 'character': 'Woman in ER Waiting Room (uncredited)', 'credit_id': '57c463c392514165f80054ac', 'gender': 1, 'id': 1480130, 'name': 'Tiffany Sander McKenzie', 'order': 32, 'profile_path': '/2Gvt77UAINub19VwqF1dxpCEqaR.jpg'}, {'cast_id': 83, 'character': 'Teacher (uncredited)', 'credit_id': '57c463d89251416c04004f31', 'gender': 1, 'id': 572076, 'name': 'Joanna Theobalds', 'order': 33, 'profile_path': '/cVjkZfFa8hClz2EiDZaerzvSpXr.jpg'}]                                                                                                                                                                                                                                                                                                                                                                                                                                                                                                                                                                                                                                                                                                                                                                                                                                                                                                                                                                                                                                                                                                                                                                                                                                                                                                                                                                                                                                                                                                                                                                                                                                                                                                                                                                                                                                                                                                                                                                                                                                                                                                                                                                                                                                                                                                                                                                                                                                                                                                                                                                                                                                                                                                                                                                                                                                                                                                                                                                                                                                                                                                                                                                                                                                                                                                                                                                                                                                                                                                                                                                                                                                                                                                                                                                                                                                                                                                                                                                                                                                                                                                                                                                                                                                                                                                                                                                                                                                                                                                                                                                                                                                                                                                                                                                                                                                                                                                                                                                                                                                                                                                                                                                                                                                                                                                                                                                                                                                                                                                                                  1\n",
              "Name: cast, Length: 2801, dtype: int64"
            ]
          },
          "metadata": {},
          "execution_count": 1034
        }
      ]
    },
    {
      "cell_type": "markdown",
      "source": [
        "Como já dito essa coluna será mantida pela relevância e preferencia de seus dados"
      ],
      "metadata": {
        "id": "G9kahktratbZ"
      }
    },
    {
      "cell_type": "markdown",
      "source": [
        "Conferindo o que havia na coluna de equipe:"
      ],
      "metadata": {
        "id": "X_CZCCNAHw-s"
      }
    },
    {
      "cell_type": "code",
      "source": [
        "treino['crew'].value_counts()"
      ],
      "metadata": {
        "colab": {
          "base_uri": "https://localhost:8080/"
        },
        "id": "O3wWnC4_wXx4",
        "outputId": "98ef1d0c-bf18-4582-f67c-5432476c4023"
      },
      "execution_count": 1035,
      "outputs": [
        {
          "output_type": "execute_result",
          "data": {
            "text/plain": [
              "[{'credit_id': '59ac067c92514107af02c8c8', 'department': 'Directing', 'gender': 0, 'id': 1449071, 'job': 'First Assistant Director', 'name': 'Kelly Cantley', 'profile_path': None}, {'credit_id': '52fe4ee7c3a36847f82afad7', 'department': 'Directing', 'gender': 2, 'id': 3227, 'job': 'Director', 'name': 'Steve Pink', 'profile_path': '/myHOgo8mQSCiCAZNGMRdHVr03jr.jpg'}, {'credit_id': '5524ed25c3a3687ded000d88', 'department': 'Writing', 'gender': 2, 'id': 347335, 'job': 'Writer', 'name': 'Josh Heald', 'profile_path': '/pwXJIenrDMrG7t3zNfLvr8w1RGU.jpg'}, {'credit_id': '5524ed2d925141720c001128', 'department': 'Writing', 'gender': 2, 'id': 347335, 'job': 'Characters', 'name': 'Josh Heald', 'profile_path': '/pwXJIenrDMrG7t3zNfLvr8w1RGU.jpg'}, {'credit_id': '5524ed3d92514166c1004a5d', 'department': 'Production', 'gender': 2, 'id': 57822, 'job': 'Producer', 'name': 'Andrew Panay', 'profile_path': None}, {'credit_id': '5524ed4bc3a3687df3000dd2', 'department': 'Production', 'gender': 0, 'id': 1451395, 'job': 'Associate Producer', 'name': 'Adam Blum', 'profile_path': None}, {'credit_id': '5524ed5a925141720c00112c', 'department': 'Production', 'gender': 2, 'id': 52997, 'job': 'Executive Producer', 'name': 'Rob Corddry', 'profile_path': '/k2zJL0V1nEZuFT08xUdOd3ucfXz.jpg'}, {'credit_id': '5524ed85c3a3687e0e000f56', 'department': 'Production', 'gender': 0, 'id': 62807, 'job': 'Executive Producer', 'name': 'Ben Ormand', 'profile_path': None}, {'credit_id': '5524ed9fc3a3687e0e000f59', 'department': 'Sound', 'gender': 2, 'id': 23486, 'job': 'Original Music Composer', 'name': 'Christophe Beck', 'profile_path': '/2fnJUmCk6IEpVIptpYaUk31epHx.jpg'}, {'credit_id': '5524eda6c3a3687e03000d28', 'department': 'Camera', 'gender': 2, 'id': 6117, 'job': 'Director of Photography', 'name': 'Declan Quinn', 'profile_path': None}, {'credit_id': '5524edb4925141720c00113d', 'department': 'Editing', 'gender': 0, 'id': 1451396, 'job': 'Editor', 'name': 'Jamie Gross', 'profile_path': None}, {'credit_id': '5524edc1925141727600102e', 'department': 'Production', 'gender': 0, 'id': 22219, 'job': 'Casting', 'name': 'Susie Farris', 'profile_path': None}, {'credit_id': '5524edd192514171cb008257', 'department': 'Art', 'gender': 0, 'id': 1002643, 'job': 'Production Design', 'name': 'Ryan Berg', 'profile_path': None}, {'credit_id': '555ad9be9251411e5b00d485', 'department': 'Production', 'gender': 2, 'id': 57431, 'job': 'Executive Producer', 'name': 'Matt Moore', 'profile_path': None}, {'credit_id': '5677e93bc3a36816890087dc', 'department': 'Directing', 'gender': 0, 'id': 1551818, 'job': 'Script Supervisor', 'name': 'Nicole Garcea', 'profile_path': None}, {'credit_id': '5677e96a92514179e10093d0', 'department': 'Production', 'gender': 0, 'id': 1551819, 'job': 'Production Coordinator', 'name': 'Jason Salzman', 'profile_path': None}, {'credit_id': '5677e98492514179d2008cd9', 'department': 'Costume & Make-Up', 'gender': 0, 'id': 1422996, 'job': 'Costume Design', 'name': 'Carol Cutshall', 'profile_path': None}, {'credit_id': '5677e9d5c3a368168e009414', 'department': 'Art', 'gender': 2, 'id': 500199, 'job': 'Set Decoration', 'name': 'Tim Cohn', 'profile_path': None}, {'credit_id': '5677f89d9251417845001a61', 'department': 'Costume & Make-Up', 'gender': 0, 'id': 1527917, 'job': 'Hair Department Head', 'name': 'Voni Hinkle', 'profile_path': None}, {'credit_id': '5677f8b392514179dd0089fb', 'department': 'Costume & Make-Up', 'gender': 0, 'id': 1431554, 'job': 'Makeup Department Head', 'name': 'Remi Savva', 'profile_path': None}, {'credit_id': '5677f8d1c3a3681689008a4b', 'department': 'Art', 'gender': 0, 'id': 66495, 'job': 'Art Direction', 'name': 'Jason Baldwin Stewart', 'profile_path': None}, {'credit_id': '5677f8eec3a3681685008dd5', 'department': 'Production', 'gender': 0, 'id': 1412466, 'job': 'Production Supervisor', 'name': 'Korey Budd', 'profile_path': None}, {'credit_id': '5677f90a9251417845001a7d', 'department': 'Sound', 'gender': 0, 'id': 1401562, 'job': 'Sound Re-Recording Mixer', 'name': 'Gary C. Bourgeois', 'profile_path': None}, {'credit_id': '5677f91e9251417845001a84', 'department': 'Sound', 'gender': 0, 'id': 1396794, 'job': 'Sound Re-Recording Mixer', 'name': 'Gabriel J. Serrano', 'profile_path': None}, {'credit_id': '5677f938c3a3681680008dd4', 'department': 'Editing', 'gender': 0, 'id': 13168, 'job': 'Dialogue Editor', 'name': 'Victoria Rose Sampson', 'profile_path': None}, {'credit_id': '5677f94e92514179dd008a1f', 'department': 'Sound', 'gender': 0, 'id': 1551839, 'job': 'Production Sound Mixer', 'name': 'Michael B. Koff', 'profile_path': None}, {'credit_id': '5677f968c3a368168e009698', 'department': 'Sound', 'gender': 0, 'id': 113052, 'job': 'Sound Effects Editor', 'name': 'Randall Guth', 'profile_path': None}, {'credit_id': '5677f98dc3a3681685008e02', 'department': 'Crew', 'gender': 2, 'id': 1442535, 'job': 'Stunt Coordinator', 'name': 'Chuck Picerni Jr.', 'profile_path': '/yE5QtXUzcrnCzMRctZL8F5g842B.jpg'}, {'credit_id': '5677f9a692514179dd008a49', 'department': 'Camera', 'gender': 0, 'id': 1437305, 'job': 'Camera Operator', 'name': 'Michael Applebaum', 'profile_path': None}, {'credit_id': '5677f9bd9251417845001aae', 'department': 'Camera', 'gender': 0, 'id': 1401765, 'job': 'Still Photographer', 'name': 'Steve Dietl', 'profile_path': None}, {'credit_id': '5677f9e592514179e7008bf7', 'department': 'Lighting', 'gender': 0, 'id': 1402721, 'job': 'Rigging Gaffer', 'name': 'Tarik Naim Alherimi', 'profile_path': None}, {'credit_id': '5677f9f4c3a368167c0090ed', 'department': 'Lighting', 'gender': 0, 'id': 1402719, 'job': 'Gaffer', 'name': 'Paul Olinde', 'profile_path': None}, {'credit_id': '5677fa21c3a368168e0096ca', 'department': 'Sound', 'gender': 0, 'id': 1551840, 'job': 'Music Supervisor', 'name': 'Steve Griffen', 'profile_path': None}, {'credit_id': '5677fa31c3a3681680008e04', 'department': 'Sound', 'gender': 0, 'id': 1551841, 'job': 'Music Editor', 'name': 'Matt Fausak', 'profile_path': None}, {'credit_id': '5677fa4392514179dd008a76', 'department': 'Sound', 'gender': 0, 'id': 1551840, 'job': 'Music Editor', 'name': 'Steve Griffen', 'profile_path': None}, {'credit_id': '5677fa609251417845001acf', 'department': 'Costume & Make-Up', 'gender': 0, 'id': 1403416, 'job': 'Costume Supervisor', 'name': 'Shonta T. McCray', 'profile_path': None}, {'credit_id': '5677fa8492514179d2008fb3', 'department': 'Camera', 'gender': 0, 'id': 1425831, 'job': 'Steadicam Operator', 'name': 'Mark Karavite', 'profile_path': None}, {'credit_id': '5677fab2c3a3681689008ac3', 'department': 'Camera', 'gender': 0, 'id': 1551842, 'job': 'First Assistant Camera', 'name': 'Joe Waistell', 'profile_path': None}, {'credit_id': '5677faecc3a368168e0096fe', 'department': 'Sound', 'gender': 0, 'id': 58362, 'job': 'Supervising Sound Editor', 'name': 'Michael Hilkene', 'profile_path': None}, {'credit_id': '59ac0368c3a3682c0a02c484', 'department': 'Crew', 'gender': 0, 'id': 1881584, 'job': 'Additional Writing', 'name': 'John Karnay', 'profile_path': None}, {'credit_id': '59ac0411c3a3682bf0028966', 'department': 'Costume & Make-Up', 'gender': 0, 'id': 1431552, 'job': 'Hairstylist', 'name': 'Daina Daigle', 'profile_path': None}, {'credit_id': '59ac0504925141072302b8fb', 'department': 'Costume & Make-Up', 'gender': 0, 'id': 1712001, 'job': 'Makeup Artist', 'name': 'Allison Gordin', 'profile_path': None}, {'credit_id': '59ac0570c3a3682bf0028aac', 'department': 'Costume & Make-Up', 'gender': 0, 'id': 578725, 'job': 'Makeup Artist', 'name': 'Darryl Lucas', 'profile_path': None}, {'credit_id': '59ac05a4925141077e02c97e', 'department': 'Costume & Make-Up', 'gender': 0, 'id': 1463274, 'job': 'Makeup Artist', 'name': 'Annabelle MacNeal', 'profile_path': None}, {'credit_id': '59ac05c6925141076502d106', 'department': 'Costume & Make-Up', 'gender': 0, 'id': 1881586, 'job': 'Makeup Artist', 'name': 'Marina Savva', 'profile_path': None}, {'credit_id': '59ac0615c3a3682c480296aa', 'department': 'Costume & Make-Up', 'gender': 0, 'id': 1406267, 'job': 'Hairstylist', 'name': 'Carl G. Variste', 'profile_path': None}, {'credit_id': '59ac06ba925141076502d1fa', 'department': 'Directing', 'gender': 0, 'id': 1798593, 'job': 'First Assistant Director', 'name': 'Josh King', 'profile_path': None}, {'credit_id': '59ac06f1c3a3682c2202aca0', 'department': 'Art', 'gender': 0, 'id': 1415083, 'job': 'Greensman', 'name': 'Scott C. Bivona', 'profile_path': None}, {'credit_id': '59ac072c925141076502d260', 'department': 'Art', 'gender': 0, 'id': 1881587, 'job': 'Title Designer', 'name': 'Eunha Choi', 'profile_path': None}, {'credit_id': '59ac077c925141077e02cb62', 'department': 'Art', 'gender': 0, 'id': 1585302, 'job': 'Construction Coordinator', 'name': 'Daniel Coe', 'profile_path': None}, {'credit_id': '59ac07e0925141078a02d842', 'department': 'Art', 'gender': 0, 'id': 1495523, 'job': 'Set Designer', 'name': 'Spencer Davison', 'profile_path': None}, {'credit_id': '59ac0862925141072f02cf6f', 'department': 'Art', 'gender': 0, 'id': 1881589, 'job': 'Painter', 'name': 'Sonia L. Garcia', 'profile_path': None}, {'credit_id': '59ac08e0c3a3682bf0028e51', 'department': 'Art', 'gender': 0, 'id': 1424896, 'job': 'Art Department Coordinator', 'name': 'Caleb Guillotte', 'profile_path': None}, {'credit_id': '59ac0920c3a3682c2202af36', 'department': 'Art', 'gender': 0, 'id': 1393375, 'job': 'Leadman', 'name': \"Pat A. O'Connor\", 'profile_path': None}, {'credit_id': '59ac095592514107af02cc39', 'department': 'Art', 'gender': 0, 'id': 1881592, 'job': 'Set Designer', 'name': 'Brendan Turrill', 'profile_path': None}, {'credit_id': '59ac0989925141072302bdfa', 'department': 'Art', 'gender': 2, 'id': 76497, 'job': 'Property Master', 'name': 'Brook Yeaton', 'profile_path': None}, {'credit_id': '59ac0a2cc3a3682c9c02add1', 'department': 'Sound', 'gender': 0, 'id': 1881596, 'job': 'Boom Operator', 'name': 'Matthew Armstrong', 'profile_path': None}, {'credit_id': '59ac0aa8925141072f02d282', 'department': 'Visual Effects', 'gender': 2, 'id': 1558086, 'job': 'Special Effects Supervisor', 'name': 'Matt Kutcher', 'profile_path': None}, {'credit_id': '59ac0b2ac3a3682c2202b192', 'department': 'Crew', 'gender': 2, 'id': 1558087, 'job': 'Special Effects Coordinator', 'name': 'Eric Roberts', 'profile_path': None}, {'credit_id': '59ac0b7ac3a3682c2202b1fb', 'department': 'Visual Effects', 'gender': 0, 'id': 1392098, 'job': 'Visual Effects Supervisor', 'name': 'Rocco Passionino', 'profile_path': None}, {'credit_id': '59ac0bbe925141077e02d0c4', 'department': 'Visual Effects', 'gender': 0, 'id': 1558716, 'job': 'Visual Effects Coordinator', 'name': 'Joseph Payo', 'profile_path': None}, {'credit_id': '59ac0bf2c3a3682cc802cefa', 'department': 'Visual Effects', 'gender': 0, 'id': 1408784, 'job': 'Visual Effects Producer', 'name': 'Chris Roff', 'profile_path': None}, {'credit_id': '59ac0c51c3a3682c48029d99', 'department': 'Lighting', 'gender': 0, 'id': 1881600, 'job': 'Best Boy Electric', 'name': 'Ulyan Atamanyuk', 'profile_path': None}, {'credit_id': '59ac0cbac3a3682c0a02cff6', 'department': 'Camera', 'gender': 0, 'id': 1881602, 'job': 'Key Grip', 'name': 'Chris Ekstrom', 'profile_path': None}, {'credit_id': '59ac0d54925141072f02d5e6', 'department': 'Lighting', 'gender': 0, 'id': 1484984, 'job': 'Best Boy Electric', 'name': 'Brad Garris', 'profile_path': None}, {'credit_id': '59ac0db0925141078a02df86', 'department': 'Camera', 'gender': 0, 'id': 1881603, 'job': 'Dolly Grip', 'name': 'Kendell Joseph', 'profile_path': None}, {'credit_id': '59ac0e5a925141077e02d39f', 'department': 'Camera', 'gender': 0, 'id': 1549179, 'job': 'Dolly Grip', 'name': 'Spencer Wilcox', 'profile_path': None}, {'credit_id': '59ac0e9f925141079d02bee6', 'department': 'Costume & Make-Up', 'gender': 0, 'id': 1552626, 'job': 'Key Costumer', 'name': 'Sarah P. Koeppe', 'profile_path': None}, {'credit_id': '59ac0ec1c3a3682bf0029524', 'department': 'Costume & Make-Up', 'gender': 0, 'id': 1881605, 'job': 'Seamstress', 'name': 'Catherine Rodi', 'profile_path': None}, {'credit_id': '59ac0eef925141070702c7ff', 'department': 'Costume & Make-Up', 'gender': 0, 'id': 1463801, 'job': 'Seamstress', 'name': 'Giselle Spence', 'profile_path': None}, {'credit_id': '59ac0f5dc3a3682c4802a0f5', 'department': 'Production', 'gender': 0, 'id': 1400837, 'job': 'Location Manager', 'name': 'John A. Johnston', 'profile_path': None}, {'credit_id': '59ac0ff2c3a3682c4802a196', 'department': 'Crew', 'gender': 0, 'id': 1844322, 'job': 'Production Controller', 'name': 'Gail Marks', 'profile_path': None}]    1\n",
              "[{'credit_id': '52fe4bb9c3a368484e19697d', 'department': 'Sound', 'gender': 2, 'id': 531, 'job': 'Original Music Composer', 'name': 'Danny Elfman', 'profile_path': '/pWacZpYPos8io22nEiim7d3wp2j.jpg'}, {'credit_id': '58cf3f899251415a6102dea9', 'department': 'Production', 'gender': 2, 'id': 1892, 'job': 'Producer', 'name': 'Matt Damon', 'profile_path': '/elSlNgV8xVifsbHpFsqrPGxJToZ.jpg'}, {'credit_id': '52fe4bb8c3a368484e196927', 'department': 'Writing', 'gender': 2, 'id': 1892, 'job': 'Writer', 'name': 'Matt Damon', 'profile_path': '/elSlNgV8xVifsbHpFsqrPGxJToZ.jpg'}, {'credit_id': '52fe4bb8c3a368484e196921', 'department': 'Directing', 'gender': 2, 'id': 5216, 'job': 'Director', 'name': 'Gus Van Sant', 'profile_path': '/2WsDgxPivXtPHtsXK5QZ8U7zYEb.jpg'}, {'credit_id': '58cf3f98c3a36850fb02aad1', 'department': 'Production', 'gender': 2, 'id': 5216, 'job': 'Executive Producer', 'name': 'Gus Van Sant', 'profile_path': '/2WsDgxPivXtPHtsXK5QZ8U7zYEb.jpg'}, {'credit_id': '572f84cdc3a3684e8d0003a8', 'department': 'Production', 'gender': 2, 'id': 6627, 'job': 'Producer', 'name': 'Chris Moore', 'profile_path': '/bCHrDtipWaxFuoHYeOUfm3QMBMu.jpg'}, {'credit_id': '563d2585c3a3681b61029613', 'department': 'Sound', 'gender': 0, 'id': 16497, 'job': 'Music Editor', 'name': 'Lisa Jaime', 'profile_path': None}, {'credit_id': '58cf3fa5c3a36850d7029fe6', 'department': 'Production', 'gender': 2, 'id': 17697, 'job': 'Producer', 'name': 'John Krasinski', 'profile_path': '/nOWwdZURikW22qo6OUSGFCTukgc.jpg'}, {'credit_id': '52fe4bb8c3a368484e19692d', 'department': 'Writing', 'gender': 2, 'id': 17697, 'job': 'Writer', 'name': 'John Krasinski', 'profile_path': '/nOWwdZURikW22qo6OUSGFCTukgc.jpg'}, {'credit_id': '52fe4bb9c3a368484e19698f', 'department': 'Art', 'gender': 2, 'id': 33625, 'job': 'Production Design', 'name': 'Daniel B. Clancy', 'profile_path': None}, {'credit_id': '563d2569c3a3681b5402a106', 'department': 'Sound', 'gender': 2, 'id': 40839, 'job': 'Music Supervisor', 'name': 'Brian Reitzell', 'profile_path': None}, {'credit_id': '572ca259c3a368586e000374', 'department': 'Production', 'gender': 2, 'id': 63291, 'job': 'Executive Producer', 'name': 'Ron Schmidt', 'profile_path': None}, {'credit_id': '52fe4bb8c3a368484e196933', 'department': 'Writing', 'gender': 2, 'id': 84414, 'job': 'Story', 'name': 'Dave Eggers', 'profile_path': None}, {'credit_id': '55f57f5b92514103b60013a9', 'department': 'Costume & Make-Up', 'gender': 0, 'id': 957570, 'job': 'Costume Design', 'name': 'Juliet Polcsa', 'profile_path': None}, {'credit_id': '55f57f6e92514175f8000385', 'department': 'Camera', 'gender': 2, 'id': 969171, 'job': 'Director of Photography', 'name': 'Linus Sandgren', 'profile_path': None}, {'credit_id': '52fe4bb9c3a368484e196989', 'department': 'Editing', 'gender': 2, 'id': 1017296, 'job': 'Editor', 'name': 'Billy Rich', 'profile_path': None}]                                                                                                                                                                                                                                                                                                                                                                                                                                                                                                                                                                                                                                                                                                                                                                                                                                                                                                                                                                                                                                                                                                                                                                                                                                                                                                                                                                                                                                                                                                                                                                                                                                                                                                                                                                                                                                                                                                                                                                                                                                                                                                                                                                                                                                                                                                                                                                                                                                                                                                                                                                                                                                                                                                                                                                                                                                                                                                                                                                                                                                                                                                                                                                                                                                                                                                                                                                                                                                                                                                                                                                                                                                                                                                                                                                                                                                                                                                                                                                                                                                                                                                                                                                                                                                                                                                                                                                                                                                                                                                                                                                                                                                                                                                                                                                                                                                                                                                                                                                                                                                                                                                                                                                                                                                                                                                                                                                                                                                                                                                                                                                                                                                                                                                                                                                                                                                                                                                                                                                                                                                                                                                                                                                                                                                                                                                                                                                                                                                                                                                                                                                                                                                                                                                                                                                                                                                                                                                                                                                                                                                                                                                                                                                                                                                                                                                                                                                                                                                                                                                                                                                                                                                                                                                                                                                                                                                                                                                                                                                                                                                                                                                                                                                                                                                                                                                                                                                                                                                                                                                                                                                                                                                                                                                                                                                                                                                                                                                                                                                                                                                                                                                                                                                                                                                                                                                                                                                                                                                                                                                                                                                                                                                                                                                                                                                                                                                                                                                                                                                                                                                               1\n",
              "[{'credit_id': '52fe43dfc3a36847f807540f', 'department': 'Production', 'gender': 1, 'id': 1720, 'job': 'Casting', 'name': 'Ronna Kress', 'profile_path': '/8LIqLvnE7EIWHC50j0gmSO275nR.jpg'}, {'credit_id': '52fe43dec3a36847f807537f', 'department': 'Production', 'gender': 2, 'id': 1091, 'job': 'Producer', 'name': 'Joel Silver', 'profile_path': '/9BUSlPpIAEQYtRdzVrSXaivld04.jpg'}, {'credit_id': '52fe43dec3a36847f80753a3', 'department': 'Production', 'gender': 2, 'id': 1296, 'job': 'Executive Producer', 'name': 'Bruce Berman', 'profile_path': '/nXKlbRLV5aKzIW6XViCAiqWbxPk.jpg'}, {'credit_id': '52fe43dec3a36847f80753a9', 'department': 'Camera', 'gender': 2, 'id': 5135, 'job': 'Director of Photography', 'name': 'Rainer Klausmann', 'profile_path': None}, {'credit_id': '52fe43dec3a36847f80753af', 'department': 'Art', 'gender': 2, 'id': 5632, 'job': 'Production Design', 'name': 'Jack Fisk', 'profile_path': None}, {'credit_id': '52fe43dec3a36847f8075379', 'department': 'Directing', 'gender': 2, 'id': 7832, 'job': 'Director', 'name': 'Oliver Hirschbiegel', 'profile_path': '/hvM9iMto24seiLGeJ7LKvCZoiOE.jpg'}, {'credit_id': '52fe43dec3a36847f80753bb', 'department': 'Editing', 'gender': 2, 'id': 7837, 'job': 'Editor', 'name': 'Hans Funck', 'profile_path': None}, {'credit_id': '52fe43dfc3a36847f8075409', 'department': 'Sound', 'gender': 2, 'id': 9039, 'job': 'Original Music Composer', 'name': 'John Ottman', 'profile_path': '/AlYg0cVHpwlTR4wY1iIy9gAsPKx.jpg'}, {'credit_id': '52fe43dfc3a36847f807541b', 'department': 'Directing', 'gender': 2, 'id': 11266, 'job': 'Director', 'name': 'James McTeigue', 'profile_path': '/amtLeEkP6UoB41r48vX8mew9MHJ.jpg'}, {'credit_id': '52fe43dfc3a36847f80753fd', 'department': 'Production', 'gender': 0, 'id': 11267, 'job': 'Producer', 'name': 'Jessica Alan', 'profile_path': None}, {'credit_id': '52fe43dec3a36847f80753b5', 'department': 'Editing', 'gender': 2, 'id': 13245, 'job': 'Editor', 'name': 'Joel Negron', 'profile_path': None}, {'credit_id': '52fe43dec3a36847f807538b', 'department': 'Production', 'gender': 2, 'id': 21035, 'job': 'Executive Producer', 'name': 'Doug Davison', 'profile_path': None}, {'credit_id': '52fe43dec3a36847f8075385', 'department': 'Production', 'gender': 2, 'id': 21036, 'job': 'Executive Producer', 'name': 'Roy Lee', 'profile_path': None}, {'credit_id': '52fe43dfc3a36847f80753f1', 'department': 'Writing', 'gender': 0, 'id': 29716, 'job': 'Novel', 'name': 'Jack Finney', 'profile_path': '/f1wr5V2soZAientHmhrocWTOW2P.jpg'}, {'credit_id': '52fe43dec3a36847f8075391', 'department': 'Production', 'gender': 1, 'id': 37162, 'job': 'Executive Producer', 'name': 'Susan Downey', 'profile_path': '/w2GSG4XGFWaNKvOm6fRiCwL8ROW.jpg'}, {'credit_id': '52fe43dfc3a36847f80753f7', 'department': 'Writing', 'gender': 0, 'id': 39725, 'job': 'Screenplay', 'name': 'David Kajganich', 'profile_path': None}, {'credit_id': '52fe43dec3a36847f8075397', 'department': 'Production', 'gender': 2, 'id': 39726, 'job': 'Executive Producer', 'name': 'Steve Richards', 'profile_path': None}, {'credit_id': '52fe43dec3a36847f807539d', 'department': 'Production', 'gender': 0, 'id': 39727, 'job': 'Executive Producer', 'name': 'Ronald G. Smith', 'profile_path': None}, {'credit_id': '534a50f2c3a3682dfe001257', 'department': 'Costume & Make-Up', 'gender': 1, 'id': 958488, 'job': 'Costume Design', 'name': 'Jacqueline West', 'profile_path': None}, {'credit_id': '52fe43dfc3a36847f8075403', 'department': 'Production', 'gender': 2, 'id': 979152, 'job': 'Producer', 'name': 'David Gambino', 'profile_path': None}, {'credit_id': '56f82a4e9251414c3200032e', 'department': 'Sound', 'gender': 0, 'id': 1378226, 'job': 'Sound Re-Recording Mixer', 'name': 'Michael Herbick', 'profile_path': None}]                                                                                                                                                                                                                                                                                                                                                                                                                                                                                                                                                                                                                                                                                                                                                                                                                                                                                                                                                                                                                                                                                                                                                                                                                                                                                                                                                                                                                                                                                                                                                                                                                                                                                                                                                                                                                                                                                                                                                                                                                                                                                                                                                                                                                                                                                                                                                                                                                                                                                                                                                                                                                                                                                                                                                                                                                                                                                                                                                                                                                                                                                                                                                                                                                                                                                                                                                                                                                                                                                                                                                                                                                                                                                                                                                                                                                                                                                                                                                                                                                                                                                                                                                                                                                                                                                                                                                                                                                                                                                                                                                                                                                                                                                                                                                                                                                                                                                                                                                                                                                                                                                                                                                                                                                                                                                                                                                                                                                                                                                                                                                                                                                                                                                                                                                                                                                                                                                                                                                                                                                                                                                                                                                                                                                                                                                                                                                                                                                                                                                                                                                                                                                                                                                                                                                                                                                                                                                                                                                                                                                                                                                                                                                                                                                                                                                                                                                                                                                                                                                                                                                                                                                                                                                                                                                                                                                                                                                                                                                                                                                                                                                                                                                                                                                                                                                                                                                                                                                                                                                                                                                                                                                                                                                                                                                                                                                                                                                                                                                                                                                                                                                                                                        1\n",
              "[{'credit_id': '52fe45609251416c7505452f', 'department': 'Directing', 'gender': 0, 'id': 96318, 'job': 'Director', 'name': 'Franc. Reyes', 'profile_path': None}, {'credit_id': '52fe45609251416c75054535', 'department': 'Writing', 'gender': 0, 'id': 96318, 'job': 'Writer', 'name': 'Franc. Reyes', 'profile_path': None}]                                                                                                                                                                                                                                                                                                                                                                                                                                                                                                                                                                                                                                                                                                                                                                                                                                                                                                                                                                                                                                                                                                                                                                                                                                                                                                                                                                                                                                                                                                                                                                                                                                                                                                                                                                                                                                                                                                                                                                                                                                                                                                                                                                                                                                                                                                                                                                                                                                                                                                                                                                                                                                                                                                                                                                                                                                                                                                                                                                                                                                                                                                                                                                                                                                                                                                                                                                                                                                                                                                                                                                                                                                                                                                                                                                                                                                                                                                                                                                                                                                                                                                                                                                                                                                                                                                                                                                                                                                                                                                                                                                                                                                                                                                                                                                                                                                                                                                                                                                                                                                                                                                                                                                                                                                                                                                                                                                                                                                                                                                                                                                                                                                                                                                                                                                                                                                                                                                                                                                                                                                                                                                                                                                                                                                                                                                                                                                                                                                                                                                                                                                                                                                                                                                                                                                                                                                                                                                                                                                                                                                                                                                                                                                                                                                                                                                                                                                                                                                                                                                                                                                                                                                                                                                                                                                                                                                                                                                                                                                                                                                                                                                                                                                                                                                                                                                                                                                                                                                                                                                                                                                                                                                                                                                                                                                                                                                                                                                                                                                                                                                                                                                                                                                                                                                                                                                                                                                                                                                                                                                                                                                                                                                                                                                                                                                                                                                                                                                                                                                                                                                                                                                                                                                                                                                                                                                                                                                                                                                                                                                                                                                                                                                                                                                                                                                                                                                                                                                                                                                                                                                                                                                                                                                                                                                                                                                                                                                                                                                                                                                                                                                                                                                                                                                                                                                                                                                                                                                                                                                                                                                                                                                                                                                                                                                                                                                                                                                                                                                                                                                                                                                                                                                                                                                    1\n",
              "[{'credit_id': '593f24b9c3a3680369002371', 'department': 'Production', 'gender': 2, 'id': 488, 'job': 'Producer', 'name': 'Steven Spielberg', 'profile_path': '/pOK15UNaw75Bzj7BQO1ulehbPPm.jpg'}, {'credit_id': '593f24cfc3a36803f60025d8', 'department': 'Production', 'gender': 1, 'id': 489, 'job': 'Producer', 'name': 'Kathleen Kennedy', 'profile_path': '/6rGtk7OdbkO2QDM2OQxt9Blww3O.jpg'}, {'credit_id': '52fe4409c3a368484e00bb87', 'department': 'Writing', 'gender': 2, 'id': 12061, 'job': 'Writer', 'name': 'Roger S.H. Schulman', 'profile_path': None}, {'credit_id': '52fe4409c3a368484e00bb6f', 'department': 'Directing', 'gender': 2, 'id': 21879, 'job': 'Director', 'name': 'Simon Wells', 'profile_path': '/sfartDj5d9bclP91YuunnaL7Fer.jpg'}, {'credit_id': '52fe4409c3a368484e00bb7b', 'department': 'Writing', 'gender': 1, 'id': 106850, 'job': 'Writer', 'name': 'Elana Lesser', 'profile_path': None}, {'credit_id': '52fe4409c3a368484e00bb81', 'department': 'Writing', 'gender': 0, 'id': 570268, 'job': 'Writer', 'name': 'Cliff Ruby', 'profile_path': None}, {'credit_id': '52fe4409c3a368484e00bb75', 'department': 'Writing', 'gender': 2, 'id': 991160, 'job': 'Writer', 'name': 'David Steven Cohen', 'profile_path': None}, {'credit_id': '552b76a89251416b3e001629', 'department': 'Visual Effects', 'gender': 0, 'id': 1205985, 'job': 'Animation', 'name': 'Stephan Franck', 'profile_path': None}, {'credit_id': '5543eb02c3a3680cd70029e9', 'department': 'Visual Effects', 'gender': 0, 'id': 1447385, 'job': 'Animation', 'name': 'Jean-Francois Rey', 'profile_path': None}, {'credit_id': '553b32a8c3a3682034000c1d', 'department': 'Visual Effects', 'gender': 0, 'id': 1447593, 'job': 'Animation', 'name': 'Mick De Falco', 'profile_path': None}, {'credit_id': '551c50889251416a1e000813', 'department': 'Visual Effects', 'gender': 0, 'id': 1448089, 'job': 'Animation', 'name': 'Jos√© Antonio Garc√≠a Villameriel', 'profile_path': None}, {'credit_id': '552c760cc3a3685bc1000c15', 'department': 'Art', 'gender': 0, 'id': 1451229, 'job': 'Background Designer', 'name': 'Luc Desmarchelier', 'profile_path': None}, {'credit_id': '55374482c3a36815ac00509d', 'department': 'Crew', 'gender': 0, 'id': 1457635, 'job': 'Special Effects', 'name': 'Leonard F.W. Green', 'profile_path': None}, {'credit_id': '55469c39925141499f00396d', 'department': 'Visual Effects', 'gender': 0, 'id': 1462665, 'job': 'Animation Manager', 'name': 'Harald Kraut', 'profile_path': None}]                                                                                                                                                                                                                                                                                                                                                                                                                                                                                                                                                                                                                                                                                                                                                                                                                                                                                                                                                                                                                                                                                                                                                                                                                                                                                                                                                                                                                                                                                                                                                                                                                                                                                                                                                                                                                                                                                                                                                                                                                                                                                                                                                                                                                                                                                                                                                                                                                                                                                                                                                                                                                                                                                                                                                                                                                                                                                                                                                                                                                                                                                                                                                                                                                                                                                                                                                                                                                                                                                                                                                                                                                                                                                                                                                                                                                                                                                                                                                                                                                                                                                                                                                                                                                                                                                                                                                                                                                                                                                                                                                                                                                                                                                                                                                                                                                                                                                                                                                                                                                                                                                                                                                                                                                                                                                                                                                                                                                                                                                                                                                                                                                                                                                                                                                                                                                                                                                                                                                                                                                                                                                                                                                                                                                                                                                                                                                                                                                                                                                                                                                                                                                                                                                                                                                                                                                                                                                                                                                                                                                                                                                                                                                                                                                                                                                                                                                                                                                                                                                                                                                                                                                                                                                                                                                                                                                                                                                                                                                                                                                                                                                                                                                                                                                                                                                                                                                                                                                                                                                                                                                                                                                                                                                                                                                                                                                                                                                                                                                                                                                                                                                                                                                                                                                                                                                                                                                                                                                                                                                                                                                                                                                                                                                                                                                                                                                                                                                                                                                                                                                                                                                                                                                                                                                                                                                                                                                                                                                                                                                    1\n",
              "                                                                                                                                                                                                                                                                                                                                                                                                                                                                                                                                                                                                                                                                                                                                                                                                                                                                                                                                                                                                                                                                                                                                                                                                                                                                                                                                                                                                                                                                                                                                                                                                                                                                                                                                                                                                                                                                                                                                                                                                                                                                                                                                                                                                                                                                                                                                                                                                                                                                                                                                                                                                                                                                                                                                                                                                                                                                                                                                                                                                                                                                                                                                                                                                                                                                                                                                                                                                                                                                                                                                                                                                                                                                                                                                                                                                                                                                                                                                                                                                                                                                                                                                                                                                                                                                                                                                                                                                                                                                                                                                                                                                                                                                                                                                                                                                                                                                                                                                                                                                                                                                                                                                                                                                                                                                                                                                                                                                                                                                                                                                                                                                                                                                                                                                                                                                                                                                                                                                                                                                                                                                                                                                                                                                                                                                                                                                                                                                                                                                                                                                                                                                                                                                                                                                                                                                                                                                                                                                                                                                                                                                                                                                                                                                                                                                                                                                                                                                                                                                                                                                                                                                                                                                                                                                                                                                                                                                                                                                                                                                                                                                                                                                                                                                                                                                                                                                                                                                                                                                                                                                                                                                                                                                                                                                                                                                                                                                                                                                                                                                                                                                                                                                                                                                                                                                                                                                                                                                                                                                                                                                                                                                                                                                                                                                                                                                                                                                                                                                                                                                                                                                                                                                                                                                                                                                                                                                                                                                                                                                                                                                                                                                                                                                                                                                                                                                                                                                                                                                                                                                                                                                                                                                                                                                                                                                                                                                                                                                                                                                                                                                                                                                                                                                                                                                                                                                                                                                                                                                                                                                                                                                                                                                                                                                                                                                                                                                                                                                                                                                                                                                                                                                                                                                                                                                                                                                                                                                                                                                                                                                                                 ..\n",
              "[{'credit_id': '52fe45c6c3a36847f80d9bd3', 'department': 'Production', 'gender': 1, 'id': 859, 'job': 'Casting', 'name': 'Valerie McCaffrey', 'profile_path': '/vMzhdxb51k866CXRCmj1wF74oON.jpg'}, {'credit_id': '52fe45c6c3a36847f80d9bf7', 'department': 'Camera', 'gender': 2, 'id': 21405, 'job': 'Director of Photography', 'name': 'David Klein', 'profile_path': None}, {'credit_id': '52fe45c6c3a36847f80d9bc7', 'department': 'Sound', 'gender': 2, 'id': 65820, 'job': 'Original Music Composer', 'name': 'Ryan Beveridge', 'profile_path': None}, {'credit_id': '52fe45c6c3a36847f80d9bcd', 'department': 'Editing', 'gender': 0, 'id': 72975, 'job': 'Editor', 'name': 'Joseph Gutowski', 'profile_path': None}, {'credit_id': '52fe45c6c3a36847f80d9ba9', 'department': 'Directing', 'gender': 2, 'id': 89250, 'job': 'Director', 'name': 'John Penney', 'profile_path': None}, {'credit_id': '52fe45c6c3a36847f80d9bc1', 'department': 'Production', 'gender': 2, 'id': 89250, 'job': 'Producer', 'name': 'John Penney', 'profile_path': None}, {'credit_id': '52fe45c6c3a36847f80d9baf', 'department': 'Writing', 'gender': 2, 'id': 89250, 'job': 'Writer', 'name': 'John Penney', 'profile_path': None}, {'credit_id': '52fe45c6c3a36847f80d9bbb', 'department': 'Production', 'gender': 0, 'id': 562189, 'job': 'Executive Producer', 'name': 'Leo Grillo', 'profile_path': None}, {'credit_id': '52fe45c6c3a36847f80d9bd9', 'department': 'Art', 'gender': 0, 'id': 1070016, 'job': 'Production Design', 'name': 'Dorian Vernacchio', 'profile_path': None}, {'credit_id': '52fe45c6c3a36847f80d9bb5', 'department': 'Production', 'gender': 0, 'id': 1070016, 'job': 'Line Producer', 'name': 'Dorian Vernacchio', 'profile_path': None}]                                                                                                                                                                                                                                                                                                                                                                                                                                                                                                                                                                                                                                                                                                                                                                                                                                                                                                                                                                                                                                                                                                                                                                                                                                                                                                                                                                                                                                                                                                                                                                                                                                                                                                                                                                                                                                                                                                                                                                                                                                                                                                                                                                                                                                                                                                                                                                                                                                                                                                                                                                                                                                                                                                                                                                                                                                                                                                                                                                                                                                                                                                                                                                                                                                                                                                                                                                                                                                                                                                                                                                                                                                                                                                                                                                                                                                                                                                                                                                                                                                                                                                                                                                                                                                                                                                                                                                                                                                                                                                                                                                                                                                                                                                                                                                                                                                                                                                                                                                                                                                                                                                                                                                                                                                                                                                                                                                                                                                                                                                                                                                                                                                                                                                                                                                                                                                                                                                                                                                                                                                                                                                                                                                                                                                                                                                                                                                                                                                                                                                                                                                                                                                                                                                                                                                                                                                                                                                                                                                                                                                                                                                                                                                                                                                                                                                                                                                                                                                                                                                                                                                                                                                                                                                                                                                                                                                                                                                                                                                                                                                                                                                                                                                                                                                                                                                                                                                                                                                                                                                                                                                                                                                                                                                                                                                                                                                                                                                                                                                                                                                                                                                                                                                                                                                                                                                                                                                                                                                                                                                                                                                                                                                                                                                                                                                                                                                                                                                                                                                                                                                                                                                                                                                                                                                                                                                                                                                                                                                                                                                                                                                                                                                                                                                                                                                                                                                                                                                                                                                                                                                                                                                                                                                                                                                                                     1\n",
              "[{'credit_id': '52fe43459251416c7500a0e3', 'department': 'Directing', 'gender': 2, 'id': 63550, 'job': 'Director', 'name': 'Tom McLoughlin', 'profile_path': None}, {'credit_id': '52fe43459251416c7500a0e9', 'department': 'Production', 'gender': 2, 'id': 15489, 'job': 'Production Supervisor', 'name': 'Don Behrns', 'profile_path': None}, {'credit_id': '52fe43459251416c7500a0ef', 'department': 'Writing', 'gender': 2, 'id': 63550, 'job': 'Screenplay', 'name': 'Tom McLoughlin', 'profile_path': None}, {'credit_id': '52fe43459251416c7500a0f5', 'department': 'Sound', 'gender': 2, 'id': 20953, 'job': 'Original Music Composer', 'name': 'Harry Manfredini', 'profile_path': None}, {'credit_id': '52fe43459251416c7500a0fb', 'department': 'Camera', 'gender': 2, 'id': 64204, 'job': 'Director of Photography', 'name': 'Jon Kranhouse', 'profile_path': None}, {'credit_id': '52fe43459251416c7500a101', 'department': 'Editing', 'gender': 0, 'id': 12970, 'job': 'Editor', 'name': 'Bruce Green', 'profile_path': '/yplxWPVgwK1b33AjvbhM9mWX2Aw.jpg'}]                                                                                                                                                                                                                                                                                                                                                                                                                                                                                                                                                                                                                                                                                                                                                                                                                                                                                                                                                                                                                                                                                                                                                                                                                                                                                                                                                                                                                                                                                                                                                                                                                                                                                                                                                                                                                                                                                                                                                                                                                                                                                                                                                                                                                                                                                                                                                                                                                                                                                                                                                                                                                                                                                                                                                                                                                                                                                                                                                                                                                                                                                                                                                                                                                                                                                                                                                                                                                                                                                                                                                                                                                                                                                                                                                                                                                                                                                                                                                                                                                                                                                                                                                                                                                                                                                                                                                                                                                                                                                                                                                                                                                                                                                                                                                                                                                                                                                                                                                                                                                                                                                                                                                                                                                                                                                                                                                                                                                                                                                                                                                                                                                                                                                                                                                                                                                                                                                                                                                                                                                                                                                                                                                                                                                                                                                                                                                                                                                                                                                                                                                                                                                                                                                                                                                                                                                                                                                                                                                                                                                                                                                                                                                                                                                                                                                                                                                                                                                                                                                                                                                                                                                                                                                                                                                                                                                                                                                                                                                                                                                                                                                                                                                                                                                                                                                                                                                                                                                                                                                                                                                                                                                                                                                                                                                                                                                                                                                                                                                                                                                                                                                                                                                                                                                                                                                                                                                                                                                                                                                                                                                                                                                                                                                                                                                                                                                                                                                                                                                                                                                                                                                                                                                                                                                                                                                                                                                                                                                                                                                                                                                                                                                                                                                                                                                                                                                                                                                                                                                                                                                                                                                                                                                                                                                                                                                                                                                                                                                                                                                                                                                                                                                                                                                                                                                                                                                                                                                                                                                       1\n",
              "[{'credit_id': '52fe44ac9251416c7503cf7d', 'department': 'Writing', 'gender': 2, 'id': 7781, 'job': 'Screenplay', 'name': 'Kevin Jarre', 'profile_path': None}, {'credit_id': '52fe44ac9251416c7503cf83', 'department': 'Production', 'gender': 2, 'id': 7779, 'job': 'Producer', 'name': 'Sean Daniel', 'profile_path': None}, {'credit_id': '52fe44ac9251416c7503cf89', 'department': 'Production', 'gender': 2, 'id': 12882, 'job': 'Executive Producer', 'name': 'Buzz Feitshans', 'profile_path': None}, {'credit_id': '52fe44ac9251416c7503cf8f', 'department': 'Production', 'gender': 2, 'id': 7780, 'job': 'Producer', 'name': 'James Jacks', 'profile_path': None}, {'credit_id': '52fe44ac9251416c7503cf95', 'department': 'Sound', 'gender': 2, 'id': 20897, 'job': 'Music', 'name': 'Bruce Broughton', 'profile_path': None}, {'credit_id': '52fe44ac9251416c7503cf9b', 'department': 'Camera', 'gender': 2, 'id': 12846, 'job': 'Director of Photography', 'name': 'William A. Fraker', 'profile_path': None}, {'credit_id': '52fe44ac9251416c7503cfa1', 'department': 'Editing', 'gender': 2, 'id': 57642, 'job': 'Editor', 'name': 'Harvey Rosenstock', 'profile_path': None}, {'credit_id': '52fe44ac9251416c7503cfa7', 'department': 'Editing', 'gender': 2, 'id': 53687, 'job': 'Editor', 'name': 'Roberto Silvi', 'profile_path': None}, {'credit_id': '52fe44ac9251416c7503cfad', 'department': 'Editing', 'gender': 2, 'id': 7715, 'job': 'Editor', 'name': 'Frank J. Urioste', 'profile_path': None}, {'credit_id': '52fe44ac9251416c7503cfc3', 'department': 'Directing', 'gender': 2, 'id': 16566, 'job': 'Director', 'name': 'George P. Cosmatos', 'profile_path': '/6DIKPjnDvr7oHgTPHTXM5te45Qt.jpg'}, {'credit_id': '537dbc4fc3a3680598000e75', 'department': 'Production', 'gender': 1, 'id': 2953, 'job': 'Casting', 'name': 'Lora Kennedy', 'profile_path': '/iLrYUr57iX8LdHxnh3bflegzWuE.jpg'}, {'credit_id': '537dbc6bc3a368059e000df6', 'department': 'Art', 'gender': 1, 'id': 19850, 'job': 'Production Design', 'name': 'Catherine Hardwicke', 'profile_path': '/x8qMlCXpXlM66hOZ7dSMMWnojNo.jpg'}, {'credit_id': '537dbc7ec3a3680598000e79', 'department': 'Art', 'gender': 2, 'id': 10855, 'job': 'Art Direction', 'name': 'Chris Gorak', 'profile_path': None}, {'credit_id': '537dbc91c3a36805a8000e52', 'department': 'Art', 'gender': 0, 'id': 1322413, 'job': 'Art Direction', 'name': 'Kim Hix', 'profile_path': None}, {'credit_id': '537dbcc2c3a36805a4000e7c', 'department': 'Art', 'gender': 2, 'id': 8273, 'job': 'Art Direction', 'name': 'Mark Worthington', 'profile_path': None}, {'credit_id': '537dbcd8c3a36805a8000e5c', 'department': 'Art', 'gender': 2, 'id': 5957, 'job': 'Set Decoration', 'name': 'Gene Serdena', 'profile_path': None}, {'credit_id': '537dbcf5c3a3680598000e8b', 'department': 'Costume & Make-Up', 'gender': 0, 'id': 8681, 'job': 'Costume Design', 'name': 'Joseph A. Porro', 'profile_path': None}, {'credit_id': '537dbd2bc3a36805a4000e85', 'department': 'Costume & Make-Up', 'gender': 0, 'id': 1322420, 'job': 'Costume Supervisor', 'name': 'Mary Hobin', 'profile_path': None}, {'credit_id': '537dbd44c3a36805a8000e68', 'department': 'Costume & Make-Up', 'gender': 0, 'id': 1322423, 'job': 'Costume Supervisor', 'name': 'Christi K. Work', 'profile_path': None}, {'credit_id': '537dbdb80e0a2624cb001836', 'department': 'Production', 'gender': 2, 'id': 127542, 'job': 'Producer', 'name': 'Bob Misiorowski', 'profile_path': None}, {'credit_id': '547a4a569251412990002f9e', 'department': 'Costume & Make-Up', 'gender': 0, 'id': 1324118, 'job': 'Makeup Department Head', 'name': 'David Atherton', 'profile_path': None}, {'credit_id': '547a4a82925141298a003009', 'department': 'Art', 'gender': 0, 'id': 1391380, 'job': 'Set Designer', 'name': 'Tom Benson', 'profile_path': None}, {'credit_id': '547a4aa3c3a3685c4800322e', 'department': 'Art', 'gender': 0, 'id': 1391381, 'job': 'Set Designer', 'name': 'Richard Prantis', 'profile_path': None}, {'credit_id': '547a4abfc3a3685c48003237', 'department': 'Art', 'gender': 0, 'id': 1391382, 'job': 'Art Department Coordinator', 'name': 'Donna Col√≥n', 'profile_path': None}, {'credit_id': '547a4ad29251412990002fa9', 'department': 'Art', 'gender': 0, 'id': 1070222, 'job': 'Art Department Coordinator', 'name': 'Nell Dickerson', 'profile_path': None}, {'credit_id': '547a4afd9251412769000793', 'department': 'Art', 'gender': 0, 'id': 1391383, 'job': 'Construction Coordinator', 'name': 'Bill Holmquist', 'profile_path': None}, {'credit_id': '547a4b20c3a36848e3000b31', 'department': 'Crew', 'gender': 0, 'id': 1391384, 'job': 'Property Master', 'name': 'Michael Courville', 'profile_path': None}, {'credit_id': '547a4b3a9251412986002dfe', 'department': 'Crew', 'gender': 0, 'id': 1378687, 'job': 'Property Master', 'name': 'Steven B. Melton', 'profile_path': None}, {'credit_id': '547a4b6d9251417bd7000f02', 'department': 'Art', 'gender': 0, 'id': 1357056, 'job': 'Set Designer', 'name': 'Siobhan Roome', 'profile_path': None}, {'credit_id': '547a4bbfc3a368737f0007f2', 'department': 'Sound', 'gender': 2, 'id': 1077782, 'job': 'Foley', 'name': 'Gary A. Hecker', 'profile_path': '/qyBUauN3XIS2Mlus3OdGCmrUo0S.jpg'}, {'credit_id': '547a4bd3c3a3682aa700018d', 'department': 'Sound', 'gender': 0, 'id': 1338372, 'job': 'Foley', 'name': \"Dan O'Connell\", 'profile_path': None}, {'credit_id': '547a4bfc9251412986002e09', 'department': 'Sound', 'gender': 1, 'id': 113090, 'job': 'Foley', 'name': 'Alicia Stevenson', 'profile_path': '/kgYtaWN4VSFh2B0jkHa1GMBOcNU.jpg'}, {'credit_id': '547a4c19c3a3685c42002ec9', 'department': 'Editing', 'gender': 0, 'id': 1391385, 'job': 'Dialogue Editor', 'name': 'Duncan Burns', 'profile_path': None}, {'credit_id': '547a4c3e925141298d0030bb', 'department': 'Editing', 'gender': 0, 'id': 1053, 'job': 'Dialogue Editor', 'name': 'Gordon Davidson', 'profile_path': None}, {'credit_id': '547a4c5b925141298d0030c3', 'department': 'Editing', 'gender': 0, 'id': 1341405, 'job': 'Dialogue Editor', 'name': 'Michael Magill', 'profile_path': None}, {'credit_id': '547a4c7492514127690007b1', 'department': 'Editing', 'gender': 0, 'id': 1391386, 'job': 'Dialogue Editor', 'name': 'Larry Mann', 'profile_path': None}, {'credit_id': '547a4c8ac3a36848e3000b50', 'department': 'Editing', 'gender': 0, 'id': 1050930, 'job': 'Dialogue Editor', 'name': 'Hugo Weng', 'profile_path': None}, {'credit_id': '547a4d34c3a36848e3000b5f', 'department': 'Sound', 'gender': 2, 'id': 1391387, 'job': 'Supervising Sound Editor', 'name': 'Jerry Ross', 'profile_path': None}, {'credit_id': '547a4daac3a36848e3000b6d', 'department': 'Sound', 'gender': 2, 'id': 1391388, 'job': 'Boom Operator', 'name': 'Paul Coogan', 'profile_path': None}, {'credit_id': '547a4dd8c3a3685c48003286', 'department': 'Crew', 'gender': 0, 'id': 9972, 'job': 'Special Effects Coordinator', 'name': 'Dale L. Martin', 'profile_path': None}, {'credit_id': '547a4e0fc3a3685c48003289', 'department': 'Sound', 'gender': 2, 'id': 1378169, 'job': 'Sound Re-Recording Mixer', 'name': 'Rick Kline', 'profile_path': None}, {'credit_id': '547a4e69c3a3682aa70001c4', 'department': 'Sound', 'gender': 2, 'id': 1378171, 'job': 'Sound Re-Recording Mixer', 'name': \"Kevin O'Connell\", 'profile_path': None}, {'credit_id': '547a4e8ac3a3685c48003298', 'department': 'Sound', 'gender': 0, 'id': 1338374, 'job': 'Sound Re-Recording Mixer', 'name': 'Gregory H. Watkins', 'profile_path': None}, {'credit_id': '547a4f0692514146b7000160', 'department': 'Camera', 'gender': 0, 'id': 1391389, 'job': 'Still Photographer', 'name': 'John Bramley', 'profile_path': None}, {'credit_id': '547a4f20c3a36835be0006dd', 'department': 'Camera', 'gender': 0, 'id': 1391390, 'job': 'Camera Operator', 'name': 'David E. Diano', 'profile_path': None}, {'credit_id': '547a4f3292514127690007ef', 'department': 'Camera', 'gender': 0, 'id': 1391391, 'job': 'Camera Operator', 'name': 'Kristin R. Glover', 'profile_path': None}, {'credit_id': '547a4f54c3a3682aa70001dd', 'department': 'Lighting', 'gender': 0, 'id': 1391393, 'job': 'Gaffer', 'name': 'Mick McNeely', 'profile_path': None}, {'credit_id': '547a4f799251412986002e4f', 'department': 'Production', 'gender': 0, 'id': 1391397, 'job': 'Casting', 'name': 'Holly Hire', 'profile_path': None}, {'credit_id': '547a5004c3a36803df000c73', 'department': 'Sound', 'gender': 0, 'id': 1391398, 'job': 'Music Editor', 'name': 'Patricia Carlin', 'profile_path': None}, {'credit_id': '547a5025925141299000300d', 'department': 'Crew', 'gender': 0, 'id': 1391399, 'job': 'Transportation Coordinator', 'name': 'Jon Carpenter', 'profile_path': None}, {'credit_id': '547a504292514146b700018e', 'department': 'Directing', 'gender': 0, 'id': 1391400, 'job': 'Script Supervisor', 'name': 'Sibylle Alridge', 'profile_path': None}, {'credit_id': '547a506f925141298a00309a', 'department': 'Directing', 'gender': 1, 'id': 1391401, 'job': 'Script Supervisor', 'name': 'Mary Wright', 'profile_path': None}, {'credit_id': '547a5085c3a36835be0006fa', 'department': 'Crew', 'gender': 0, 'id': 1391402, 'job': 'Choreographer', 'name': 'Sabrina Vasquez', 'profile_path': None}, {'credit_id': '547a50adc3a36848e3000bc4', 'department': 'Production', 'gender': 0, 'id': 1391403, 'job': 'Location Manager', 'name': 'Lauren Ross', 'profile_path': None}, {'credit_id': '547a50ddc3a3682aa7000203', 'department': 'Crew', 'gender': 0, 'id': 25206, 'job': 'Studio Teachers', 'name': 'Cookie Knapp', 'profile_path': None}, {'credit_id': '54b103e8925141747200190b', 'department': 'Crew', 'gender': 0, 'id': 19567, 'job': 'Stunt Coordinator', 'name': 'Terry Leonard', 'profile_path': None}, {'credit_id': '58ddc902c3a3687c5d00249c', 'department': 'Sound', 'gender': 2, 'id': 13175, 'job': 'Foley', 'name': 'Zane D. Bruce', 'profile_path': None}]                                                                                                                                                                                                                                                                                                                                                                                                                                                                                                                                                                                                                                                                                                                                                                                                                                                                                                                                                                                                                                                                                                                                                                                                                                                                                                                                                                                                                                                                                                                                                                                                                                                                                                                                                                                                                                                                                                                                                                                                                                                                                                                                                                                                                                                                                                                                                                                                                                                                                                                                                                                                                                                                                                                                                                                                                                                                                                                                  1\n",
              "[{'credit_id': '55aa7f0c92514172ef003b26', 'department': 'Sound', 'gender': 2, 'id': 312, 'job': 'Original Music Composer', 'name': 'Jon Brion', 'profile_path': '/bJZWUhhCgXN238ouWYpzPONW0sv.jpg'}, {'credit_id': '55aa7f769251411e0b005a61', 'department': 'Production', 'gender': 2, 'id': 5664, 'job': 'Producer', 'name': 'Barry Mendel', 'profile_path': None}, {'credit_id': '55aa803d9251411e11005bcf', 'department': 'Art', 'gender': 1, 'id': 17951, 'job': 'Set Decoration', 'name': 'Debra Schutt', 'profile_path': None}, {'credit_id': '55aa7fd7c3a368648e004224', 'department': 'Costume & Make-Up', 'gender': 1, 'id': 21592, 'job': 'Costume Design', 'name': 'Leesa Evans', 'profile_path': None}, {'credit_id': '564e551b9251414af9000ad1', 'department': 'Costume & Make-Up', 'gender': 0, 'id': 32490, 'job': 'Hair Department Head', 'name': \"Alan D'Angerio\", 'profile_path': None}, {'credit_id': '55aa7f3b9251411e0f005ce3', 'department': 'Editing', 'gender': 2, 'id': 33283, 'job': 'Editor', 'name': 'Peck Prior', 'profile_path': None}, {'credit_id': '55aa7fa59251411e14005bf6', 'department': 'Art', 'gender': 2, 'id': 19755, 'job': 'Production Design', 'name': 'Kevin Thompson', 'profile_path': None}, {'credit_id': '53807c33c3a368059e004f50', 'department': 'Directing', 'gender': 2, 'id': 41039, 'job': 'Director', 'name': 'Judd Apatow', 'profile_path': '/yv7aCCmWP4FOFd2COGTUpb9ieY8.jpg'}, {'credit_id': '55aa7f859251411e11005bbd', 'department': 'Production', 'gender': 2, 'id': 41039, 'job': 'Producer', 'name': 'Judd Apatow', 'profile_path': '/yv7aCCmWP4FOFd2COGTUpb9ieY8.jpg'}, {'credit_id': '55aa7f30c3a368648e00421a', 'department': 'Editing', 'gender': 2, 'id': 46942, 'job': 'Editor', 'name': 'William Kerr', 'profile_path': None}, {'credit_id': '55aa7f1fc3a368246c00089b', 'department': 'Camera', 'gender': 2, 'id': 139138, 'job': 'Director of Photography', 'name': 'Jody Lee Lipes', 'profile_path': '/uWl5aImyRLFcAYun1YnlRhrzhcj.jpg'}, {'credit_id': '53807c44c3a3680598004ec7', 'department': 'Writing', 'gender': 1, 'id': 440414, 'job': 'Writer', 'name': 'Amy Schumer', 'profile_path': '/k1k78eml8x2085b0lr86gxrpJjG.jpg'}, {'credit_id': '564e544e9251414b0a000c7e', 'department': 'Directing', 'gender': 2, 'id': 587969, 'job': 'Script Supervisor', 'name': 'Thomas Johnston', 'profile_path': None}, {'credit_id': '564e5466c3a368070d000b57', 'department': 'Camera', 'gender': 1, 'id': 992965, 'job': 'Still Photographer', 'name': 'Mary Cybulski', 'profile_path': None}, {'credit_id': '55aa7f4792514172ef003b2c', 'department': 'Editing', 'gender': 2, 'id': 993693, 'job': 'Editor', 'name': 'Paul Zucker', 'profile_path': None}, {'credit_id': '55aa8019c3a368648e00422b', 'department': 'Art', 'gender': 1, 'id': 1015645, 'job': 'Art Direction', 'name': 'Deborah Jensen', 'profile_path': None}, {'credit_id': '564e5508c3a368070a000ba5', 'department': 'Costume & Make-Up', 'gender': 0, 'id': 1416798, 'job': 'Makeup Department Head', 'name': 'Kyra Panchenko', 'profile_path': None}, {'credit_id': '55aa7fcb9251411e180057a8', 'department': 'Costume & Make-Up', 'gender': 1, 'id': 1488219, 'job': 'Costume Design', 'name': 'Jessica Albertson', 'profile_path': None}, {'credit_id': '568ba05c9251417c060063e6', 'department': 'Sound', 'gender': 0, 'id': 1546047, 'job': 'Music Editor', 'name': 'Manish Raval', 'profile_path': None}, {'credit_id': '568ba06392514132db02becc', 'department': 'Sound', 'gender': 0, 'id': 1546047, 'job': 'Music Supervisor', 'name': 'Manish Raval', 'profile_path': None}, {'credit_id': '568ba04892514169d0018b76', 'department': 'Sound', 'gender': 2, 'id': 1546441, 'job': 'Music Supervisor', 'name': 'Tom Wolfe', 'profile_path': None}, {'credit_id': '568ba01292514169d0018b6c', 'department': 'Sound', 'gender': 2, 'id': 1551025, 'job': 'Production Sound Mixer', 'name': 'Tom Nelson', 'profile_path': None}]                                                                                                                                                                                                                                                                                                                                                                                                                                                                                                                                                                                                                                                                                                                                                                                                                                                                                                                                                                                                                                                                                                                                                                                                                                                                                                                                                                                                                                                                                                                                                                                                                                                                                                                                                                                                                                                                                                                                                                                                                                                                                                                                                                                                                                                                                                                                                                                                                                                                                                                                                                                                                                                                                                                                                                                                                                                                                                                                                                                                                                                                                                                                                                                                                                                                                                                                                                                                                                                                                                                                                                                                                                                                                                                                                                                                                                                                                                                                                                                                                                                                                                                                                                                                                                                                                                                                                                                                                                                                                                                                                                                                                                                                                                                                                                                                                                                                                                                                                                                                                                                                                                                                                                                                                                                                                                                                                                                                                                                                                                                                                                                                                                                                                                                                                                                                                                                                                                                                                                                                                                                                                                                                                                                                                                                                                                                                                                                                                                                                                                                                                                                                                                                                                                                                                                                                                                                                                                                                                                                                                                                                                                                                                                                                                                                                                                                                                                                                                                                                                                                                                                                                                                                                                                                                                                                                                                                                                                                                                                                                                                                                                                                                                                                                                                                                                                                                                                                                                                                                                                                                                                                                                                                                                                                                                                                                                                                                                                                                                                                                                                               1\n",
              "[{'credit_id': '5391990d0e0a260fb5001629', 'department': 'Production', 'gender': 2, 'id': 1593, 'job': 'Casting', 'name': 'Joseph Middleton', 'profile_path': None}, {'credit_id': '57064fb4c3a3685d35002331', 'department': 'Sound', 'gender': 2, 'id': 1999, 'job': 'Original Music Composer', 'name': 'Ed Shearmur', 'profile_path': None}, {'credit_id': '52fe49a5c3a36847f81a5133', 'department': 'Directing', 'gender': 2, 'id': 6482, 'job': 'Director', 'name': 'John Singleton', 'profile_path': '/xmVaXjAAywPh7HIrYjLVsjfKPrV.jpg'}, {'credit_id': '5391985ec3a368648800121b', 'department': 'Editing', 'gender': 2, 'id': 9772, 'job': 'Editor', 'name': 'Bruce Cannon', 'profile_path': None}, {'credit_id': '53919a10c3a368647200123e', 'department': 'Costume & Make-Up', 'gender': 1, 'id': 15524, 'job': 'Costume Design', 'name': 'Ruth E. Carter', 'profile_path': None}, {'credit_id': '53919849c3a3686472001218', 'department': 'Camera', 'gender': 2, 'id': 17629, 'job': 'Director of Photography', 'name': 'Peter Menzies Jr.', 'profile_path': None}, {'credit_id': '53919776c3a3686479001213', 'department': 'Production', 'gender': 2, 'id': 21035, 'job': 'Producer', 'name': 'Doug Davison', 'profile_path': None}, {'credit_id': '539197e1c3a36864910011e8', 'department': 'Production', 'gender': 2, 'id': 21036, 'job': 'Producer', 'name': 'Roy Lee', 'profile_path': None}, {'credit_id': '539199260e0a260fc20015fb', 'department': 'Art', 'gender': 0, 'id': 22145, 'job': 'Production Design', 'name': 'Keith Brian Burns', 'profile_path': None}, {'credit_id': '5481ddd59251414efa006a09', 'department': 'Visual Effects', 'gender': 0, 'id': 80830, 'job': 'Visual Effects Supervisor', 'name': 'Mike Uguccioni', 'profile_path': None}, {'credit_id': '5481de199251416e780062d6', 'department': 'Crew', 'gender': 2, 'id': 146143, 'job': 'Stunt Coordinator', 'name': 'Brad Martin', 'profile_path': None}, {'credit_id': '5481dccac3a36829a7006519', 'department': 'Sound', 'gender': 2, 'id': 158916, 'job': 'Sound Re-Recording Mixer', 'name': 'Michael Keller', 'profile_path': None}, {'credit_id': '52fe49a5c3a36847f81a515d', 'department': 'Writing', 'gender': 0, 'id': 234817, 'job': 'Writer', 'name': 'Shawn Christensen', 'profile_path': '/wB2Vgdqikyb2RTvLH7JM3BrCBmw.jpg'}, {'credit_id': '5481db859251416e740066ea', 'department': 'Art', 'gender': 0, 'id': 582943, 'job': 'Art Department Coordinator', 'name': 'Kristin Lekki', 'profile_path': None}, {'credit_id': '5481dd6c9251416e780062c6', 'department': 'Crew', 'gender': 0, 'id': 1043368, 'job': 'Special Effects Coordinator', 'name': 'Drew Jiritano', 'profile_path': None}, {'credit_id': '5481dc7c9251416e7e0064d2', 'department': 'Sound', 'gender': 2, 'id': 1077782, 'job': 'Foley', 'name': 'Gary A. Hecker', 'profile_path': '/qyBUauN3XIS2Mlus3OdGCmrUo0S.jpg'}, {'credit_id': '5391978cc3a3685ed90010c9', 'department': 'Production', 'gender': 0, 'id': 1257754, 'job': 'Producer', 'name': 'Ellen Goldsmith-Vein', 'profile_path': None}, {'credit_id': '539197a8c3a368648800120d', 'department': 'Production', 'gender': 0, 'id': 1328141, 'job': 'Producer', 'name': 'Dan Lautner', 'profile_path': None}, {'credit_id': '539197fbc3a368647200120d', 'department': 'Production', 'gender': 0, 'id': 1328142, 'job': 'Producer', 'name': 'Lee Stollman', 'profile_path': '/e9MRsSp2WP35LCLTLsPujX9Ch6l.jpg'}, {'credit_id': '539198f50e0a260fb9001792', 'department': 'Production', 'gender': 2, 'id': 1328143, 'job': 'Casting', 'name': 'Alan Lee', 'profile_path': None}, {'credit_id': '5391993c0e0a260fc5001603', 'department': 'Art', 'gender': 0, 'id': 1328144, 'job': 'Art Direction', 'name': 'Liba Daniels', 'profile_path': None}, {'credit_id': '539199f0c3a3686491001212', 'department': 'Art', 'gender': 0, 'id': 1328145, 'job': 'Set Decoration', 'name': 'Julie Smith', 'profile_path': None}, {'credit_id': '53919a28c3a3686472001242', 'department': 'Costume & Make-Up', 'gender': 0, 'id': 1328146, 'job': 'Makeup Department Head', 'name': 'Evelyne Noraz', 'profile_path': None}, {'credit_id': '53919a48c3a3685ed9001109', 'department': 'Costume & Make-Up', 'gender': 0, 'id': 1328147, 'job': 'Costume Supervisor', 'name': 'Darcie Buterbaugh', 'profile_path': None}, {'credit_id': '53919a64c3a3686480001245', 'department': 'Production', 'gender': 1, 'id': 1328148, 'job': 'Casting', 'name': 'Donna M. Belajac', 'profile_path': '/4B6EVzcu6zOd9vFiQNgukZjts9.jpg'}, {'credit_id': '5481dc91c3a36829b5007942', 'department': 'Sound', 'gender': 0, 'id': 1374169, 'job': 'Foley', 'name': 'Michael J. Broomberg', 'profile_path': None}, {'credit_id': '5481ddbc9251416e7b005e00', 'department': 'Visual Effects', 'gender': 0, 'id': 1389593, 'job': 'Visual Effects Producer', 'name': 'Michele C. Vallillo', 'profile_path': None}, {'credit_id': '5481dcaa9251416e7b005de5', 'department': 'Editing', 'gender': 0, 'id': 1392085, 'job': 'Dialogue Editor', 'name': 'Daniel S. Irwin', 'profile_path': None}, {'credit_id': '5481dda59251416e7e0064fc', 'department': 'Visual Effects', 'gender': 0, 'id': 1393446, 'job': 'Visual Effects Producer', 'name': 'Jason Sanford', 'profile_path': None}, {'credit_id': '5481db5e9251416e7800628d', 'department': 'Crew', 'gender': 2, 'id': 1395014, 'job': 'Property Master', 'name': 'Peter C. Clarke', 'profile_path': None}, {'credit_id': '5481dba2c3a36829a7006504', 'department': 'Art', 'gender': 0, 'id': 1395015, 'job': 'Assistant Art Director', 'name': 'Jay Durrwachter', 'profile_path': None}, {'credit_id': '5481dbc6c3a36829b500792a', 'department': 'Art', 'gender': 0, 'id': 1395016, 'job': 'Construction Coordinator', 'name': 'Brian Markey', 'profile_path': None}, {'credit_id': '5481dbf69251416e780062a1', 'department': 'Art', 'gender': 0, 'id': 1395019, 'job': 'Set Designer', 'name': 'Julie Ray', 'profile_path': None}, {'credit_id': '5481dc23c3a36829ab006780', 'department': 'Art', 'gender': 0, 'id': 1395021, 'job': 'Leadman', 'name': 'Brent Rice', 'profile_path': None}, {'credit_id': '5481dc499251416e74006701', 'department': 'Sound', 'gender': 2, 'id': 1395022, 'job': 'Supervising Sound Editor', 'name': 'Greg Hedgepath', 'profile_path': None}, {'credit_id': '5481dc60c3a36829ab00678c', 'department': 'Sound', 'gender': 0, 'id': 1395023, 'job': 'Supervising Sound Editor', 'name': 'William R. Dean', 'profile_path': None}, {'credit_id': '5481dcdfc3a36829b500794f', 'department': 'Sound', 'gender': 2, 'id': 1395024, 'job': 'Sound Re-Recording Mixer', 'name': 'Mike Prestwood Smith', 'profile_path': None}, {'credit_id': '5481dd499251416e6c005bd3', 'department': 'Sound', 'gender': 2, 'id': 1395025, 'job': 'Dolby Consultant', 'name': 'James Wright', 'profile_path': None}, {'credit_id': '5481dd8ac3a36817a500663b', 'department': 'Visual Effects', 'gender': 0, 'id': 1395026, 'job': 'Visual Effects Producer', 'name': 'Tyler Kehl', 'profile_path': None}, {'credit_id': '5481ddedc3a3684afd001af0', 'department': 'Visual Effects', 'gender': 0, 'id': 1395027, 'job': 'Visual Effects Supervisor', 'name': 'Gregory D. Liegey', 'profile_path': None}, {'credit_id': '5481de5a9251416e6c005bf2', 'department': 'Camera', 'gender': 2, 'id': 1395028, 'job': 'Still Photographer', 'name': 'Bruce W. Talamon', 'profile_path': None}, {'credit_id': '5481de98c3a36829b5007982', 'department': 'Camera', 'gender': 0, 'id': 1395029, 'job': 'Camera Operator', 'name': 'Colin Hudson', 'profile_path': None}, {'credit_id': '5481dee8c3a36829ab0067d8', 'department': 'Costume & Make-Up', 'gender': 0, 'id': 1395030, 'job': 'Set Costumer', 'name': 'Alison Evans', 'profile_path': None}, {'credit_id': '5481def99251416e7e006527', 'department': 'Costume & Make-Up', 'gender': 0, 'id': 1395031, 'job': 'Set Costumer', 'name': 'Crystal Gomes', 'profile_path': None}, {'credit_id': '5481df0cc3a3684afd001b18', 'department': 'Costume & Make-Up', 'gender': 0, 'id': 1395032, 'job': 'Set Costumer', 'name': 'Amanda Jenkins', 'profile_path': None}, {'credit_id': '5481df1ec3a36829b5007992', 'department': 'Costume & Make-Up', 'gender': 0, 'id': 1395033, 'job': 'Set Costumer', 'name': 'Mara Majorowicz', 'profile_path': None}, {'credit_id': '5481df36c3a3685c0e00037e', 'department': 'Crew', 'gender': 0, 'id': 1395034, 'job': 'Transportation Coordinator', 'name': 'Donald A. Kraus', 'profile_path': None}, {'credit_id': '5481df53c3a3685c0e000387', 'department': 'Directing', 'gender': 0, 'id': 1395035, 'job': 'Script Supervisor', 'name': 'Liliana M. Molina', 'profile_path': None}]                                                                                                                                                                                                                                                                                                                                                                                                                                                                                                                                                                                                                                                                                                                                                                                                                                                                                                                                                                                                                                                                                                                                                                                                                                                                                                                                                                                                                                                                                                                                                                                                                                                                                                                                                                                                                                                                                                                                                                                                                                                                                                                                                                                                                                                                                                                                                                                                                                                                                                                                                                                                                                                                                                                                                                                                                                                                                                                                                                                                                                                                                                                                                                                                                                                                                                                                                                                                                                                                                                                                                                                                                                                                                                                                                                                                                                                                                                                                                                                                                                                                                                                                                                                                                                                                                                      1\n",
              "Name: crew, Length: 2804, dtype: int64"
            ]
          },
          "metadata": {},
          "execution_count": 1035
        }
      ]
    },
    {
      "cell_type": "markdown",
      "source": [
        "Como também já dito essa coluna será excluida pela preferencia e relevancia de outros dados"
      ],
      "metadata": {
        "id": "_wpiZiyveJSK"
      }
    },
    {
      "cell_type": "code",
      "source": [
        "treino.drop('crew', axis=1, inplace=True)"
      ],
      "metadata": {
        "id": "SGIAaB5uOMdE"
      },
      "execution_count": 1036,
      "outputs": []
    },
    {
      "cell_type": "markdown",
      "source": [
        "Conferindo o que havia na coluna de receita (dado que estamos testando prever):"
      ],
      "metadata": {
        "id": "JYFSiHfZgKvz"
      }
    },
    {
      "cell_type": "code",
      "source": [
        "treino.sort_values(by='revenue',ascending=False)"
      ],
      "metadata": {
        "colab": {
          "base_uri": "https://localhost:8080/",
          "height": 0
        },
        "id": "Pt8BJw_XgW19",
        "outputId": "1d578e3f-dc63-4023-ea28-557cc220ef85"
      },
      "execution_count": 1037,
      "outputs": [
        {
          "output_type": "execute_result",
          "data": {
            "text/html": [
              "\n",
              "  <div id=\"df-67a29c4e-fe9c-4c84-bdd3-c97b0ece62b1\">\n",
              "    <div class=\"colab-df-container\">\n",
              "      <div>\n",
              "<style scoped>\n",
              "    .dataframe tbody tr th:only-of-type {\n",
              "        vertical-align: middle;\n",
              "    }\n",
              "\n",
              "    .dataframe tbody tr th {\n",
              "        vertical-align: top;\n",
              "    }\n",
              "\n",
              "    .dataframe thead th {\n",
              "        text-align: right;\n",
              "    }\n",
              "</style>\n",
              "<table border=\"1\" class=\"dataframe\">\n",
              "  <thead>\n",
              "    <tr style=\"text-align: right;\">\n",
              "      <th></th>\n",
              "      <th>id</th>\n",
              "      <th>budget</th>\n",
              "      <th>genres</th>\n",
              "      <th>original_language</th>\n",
              "      <th>popularity</th>\n",
              "      <th>production_companies</th>\n",
              "      <th>production_countries</th>\n",
              "      <th>release_date</th>\n",
              "      <th>runtime</th>\n",
              "      <th>title</th>\n",
              "      <th>cast</th>\n",
              "      <th>revenue</th>\n",
              "    </tr>\n",
              "  </thead>\n",
              "  <tbody>\n",
              "    <tr>\n",
              "      <th>1126</th>\n",
              "      <td>1127</td>\n",
              "      <td>220000000</td>\n",
              "      <td>[{'id': 878, 'name': 'Science Fiction'}, {'id'...</td>\n",
              "      <td>en</td>\n",
              "      <td>89.887648</td>\n",
              "      <td>[{'name': 'Paramount Pictures', 'id': 4}, {'na...</td>\n",
              "      <td>[{'iso_3166_1': 'US', 'name': 'United States o...</td>\n",
              "      <td>4/25/12</td>\n",
              "      <td>143.0</td>\n",
              "      <td>The Avengers</td>\n",
              "      <td>[{'cast_id': 46, 'character': 'Tony Stark / Ir...</td>\n",
              "      <td>1519557910</td>\n",
              "    </tr>\n",
              "    <tr>\n",
              "      <th>1761</th>\n",
              "      <td>1762</td>\n",
              "      <td>190000000</td>\n",
              "      <td>[{'id': 28, 'name': 'Action'}]</td>\n",
              "      <td>en</td>\n",
              "      <td>27.275687</td>\n",
              "      <td>[{'name': 'Universal Pictures', 'id': 33}, {'n...</td>\n",
              "      <td>[{'iso_3166_1': 'JP', 'name': 'Japan'}, {'iso_...</td>\n",
              "      <td>4/1/15</td>\n",
              "      <td>137.0</td>\n",
              "      <td>Furious 7</td>\n",
              "      <td>[{'cast_id': 17, 'character': 'Dominic Toretto...</td>\n",
              "      <td>1506249360</td>\n",
              "    </tr>\n",
              "    <tr>\n",
              "      <th>2770</th>\n",
              "      <td>2771</td>\n",
              "      <td>280000000</td>\n",
              "      <td>[{'id': 28, 'name': 'Action'}, {'id': 12, 'nam...</td>\n",
              "      <td>en</td>\n",
              "      <td>37.379420</td>\n",
              "      <td>[{'name': 'Marvel Studios', 'id': 420}, {'name...</td>\n",
              "      <td>[{'iso_3166_1': 'US', 'name': 'United States o...</td>\n",
              "      <td>4/22/15</td>\n",
              "      <td>141.0</td>\n",
              "      <td>Avengers: Age of Ultron</td>\n",
              "      <td>[{'cast_id': 76, 'character': 'Tony Stark / Ir...</td>\n",
              "      <td>1405403694</td>\n",
              "    </tr>\n",
              "    <tr>\n",
              "      <th>684</th>\n",
              "      <td>685</td>\n",
              "      <td>160000000</td>\n",
              "      <td>[{'id': 10751, 'name': 'Family'}, {'id': 14, '...</td>\n",
              "      <td>en</td>\n",
              "      <td>287.253654</td>\n",
              "      <td>[{'name': 'Walt Disney Pictures', 'id': 2}, {'...</td>\n",
              "      <td>[{'iso_3166_1': 'GB', 'name': 'United Kingdom'...</td>\n",
              "      <td>3/16/17</td>\n",
              "      <td>129.0</td>\n",
              "      <td>Beauty and the Beast</td>\n",
              "      <td>[{'cast_id': 174, 'character': 'Belle', 'credi...</td>\n",
              "      <td>1262886337</td>\n",
              "    </tr>\n",
              "    <tr>\n",
              "      <th>2322</th>\n",
              "      <td>2323</td>\n",
              "      <td>195000000</td>\n",
              "      <td>[{'id': 28, 'name': 'Action'}, {'id': 878, 'na...</td>\n",
              "      <td>en</td>\n",
              "      <td>4.503505</td>\n",
              "      <td>[{'name': 'Paramount Pictures', 'id': 4}, {'na...</td>\n",
              "      <td>[{'iso_3166_1': 'US', 'name': 'United States o...</td>\n",
              "      <td>6/28/11</td>\n",
              "      <td>154.0</td>\n",
              "      <td>Transformers: Dark of the Moon</td>\n",
              "      <td>[{'cast_id': 3, 'character': 'Sam Witwicky', '...</td>\n",
              "      <td>1123746996</td>\n",
              "    </tr>\n",
              "    <tr>\n",
              "      <th>...</th>\n",
              "      <td>...</td>\n",
              "      <td>...</td>\n",
              "      <td>...</td>\n",
              "      <td>...</td>\n",
              "      <td>...</td>\n",
              "      <td>...</td>\n",
              "      <td>...</td>\n",
              "      <td>...</td>\n",
              "      <td>...</td>\n",
              "      <td>...</td>\n",
              "      <td>...</td>\n",
              "      <td>...</td>\n",
              "    </tr>\n",
              "    <tr>\n",
              "      <th>2117</th>\n",
              "      <td>2118</td>\n",
              "      <td>344</td>\n",
              "      <td>[{'id': 35, 'name': 'Comedy'}, {'id': 10749, '...</td>\n",
              "      <td>en</td>\n",
              "      <td>0.158651</td>\n",
              "      <td>[{'name': 'ABS-CBN Film Productions', 'id': 46...</td>\n",
              "      <td>[{'iso_3166_1': 'US', 'name': 'United States o...</td>\n",
              "      <td>9/29/01</td>\n",
              "      <td>104.0</td>\n",
              "      <td>American Adobo</td>\n",
              "      <td>[{'cast_id': 1, 'character': '', 'credit_id': ...</td>\n",
              "      <td>4</td>\n",
              "    </tr>\n",
              "    <tr>\n",
              "      <th>2383</th>\n",
              "      <td>2384</td>\n",
              "      <td>0</td>\n",
              "      <td>[{'id': 80, 'name': 'Crime'}, {'id': 18, 'name...</td>\n",
              "      <td>fr</td>\n",
              "      <td>4.471645</td>\n",
              "      <td>[{'name': 'Paramount Pictures', 'id': 4}, {'na...</td>\n",
              "      <td>[{'iso_3166_1': 'FR', 'name': 'France'}, {'iso...</td>\n",
              "      <td>5/19/70</td>\n",
              "      <td>126.0</td>\n",
              "      <td>Borsalino</td>\n",
              "      <td>[{'cast_id': 1, 'character': 'Fran√ßois Capell...</td>\n",
              "      <td>3</td>\n",
              "    </tr>\n",
              "    <tr>\n",
              "      <th>695</th>\n",
              "      <td>696</td>\n",
              "      <td>1</td>\n",
              "      <td>[{'id': 10749, 'name': 'Romance'}, {'id': 53, ...</td>\n",
              "      <td>hi</td>\n",
              "      <td>1.280455</td>\n",
              "      <td>[{'name': 'People Tree Films', 'id': 11791}]</td>\n",
              "      <td>[{'iso_3166_1': 'IN', 'name': 'India'}]</td>\n",
              "      <td>8/15/03</td>\n",
              "      <td>132.0</td>\n",
              "      <td>Tere Naam</td>\n",
              "      <td>[{'cast_id': 3, 'character': 'Radhe Mohan', 'c...</td>\n",
              "      <td>2</td>\n",
              "    </tr>\n",
              "    <tr>\n",
              "      <th>1754</th>\n",
              "      <td>1755</td>\n",
              "      <td>2</td>\n",
              "      <td>[{'id': 53, 'name': 'Thriller'}, {'id': 10769,...</td>\n",
              "      <td>en</td>\n",
              "      <td>2.466066</td>\n",
              "      <td>[{'name': 'Comet Film Produktion GmbH', 'id': ...</td>\n",
              "      <td>[{'iso_3166_1': 'DE', 'name': 'Germany'}, {'is...</td>\n",
              "      <td>9/28/95</td>\n",
              "      <td>95.0</td>\n",
              "      <td>Mute Witness</td>\n",
              "      <td>[{'cast_id': 22, 'character': 'Billy Hughes', ...</td>\n",
              "      <td>1</td>\n",
              "    </tr>\n",
              "    <tr>\n",
              "      <th>347</th>\n",
              "      <td>348</td>\n",
              "      <td>12</td>\n",
              "      <td>[{'id': 14, 'name': 'Fantasy'}, {'id': 18, 'na...</td>\n",
              "      <td>en</td>\n",
              "      <td>1.410322</td>\n",
              "      <td>[{'name': 'Allied Filmmakers', 'id': 1755}]</td>\n",
              "      <td>[{'iso_3166_1': 'GB', 'name': 'United Kingdom'}]</td>\n",
              "      <td>10/16/96</td>\n",
              "      <td>84.0</td>\n",
              "      <td>The Wind in the Willows</td>\n",
              "      <td>[{'cast_id': 2, 'character': 'Toad', 'credit_i...</td>\n",
              "      <td>1</td>\n",
              "    </tr>\n",
              "  </tbody>\n",
              "</table>\n",
              "<p>2804 rows × 12 columns</p>\n",
              "</div>\n",
              "      <button class=\"colab-df-convert\" onclick=\"convertToInteractive('df-67a29c4e-fe9c-4c84-bdd3-c97b0ece62b1')\"\n",
              "              title=\"Convert this dataframe to an interactive table.\"\n",
              "              style=\"display:none;\">\n",
              "        \n",
              "  <svg xmlns=\"http://www.w3.org/2000/svg\" height=\"24px\"viewBox=\"0 0 24 24\"\n",
              "       width=\"24px\">\n",
              "    <path d=\"M0 0h24v24H0V0z\" fill=\"none\"/>\n",
              "    <path d=\"M18.56 5.44l.94 2.06.94-2.06 2.06-.94-2.06-.94-.94-2.06-.94 2.06-2.06.94zm-11 1L8.5 8.5l.94-2.06 2.06-.94-2.06-.94L8.5 2.5l-.94 2.06-2.06.94zm10 10l.94 2.06.94-2.06 2.06-.94-2.06-.94-.94-2.06-.94 2.06-2.06.94z\"/><path d=\"M17.41 7.96l-1.37-1.37c-.4-.4-.92-.59-1.43-.59-.52 0-1.04.2-1.43.59L10.3 9.45l-7.72 7.72c-.78.78-.78 2.05 0 2.83L4 21.41c.39.39.9.59 1.41.59.51 0 1.02-.2 1.41-.59l7.78-7.78 2.81-2.81c.8-.78.8-2.07 0-2.86zM5.41 20L4 18.59l7.72-7.72 1.47 1.35L5.41 20z\"/>\n",
              "  </svg>\n",
              "      </button>\n",
              "      \n",
              "  <style>\n",
              "    .colab-df-container {\n",
              "      display:flex;\n",
              "      flex-wrap:wrap;\n",
              "      gap: 12px;\n",
              "    }\n",
              "\n",
              "    .colab-df-convert {\n",
              "      background-color: #E8F0FE;\n",
              "      border: none;\n",
              "      border-radius: 50%;\n",
              "      cursor: pointer;\n",
              "      display: none;\n",
              "      fill: #1967D2;\n",
              "      height: 32px;\n",
              "      padding: 0 0 0 0;\n",
              "      width: 32px;\n",
              "    }\n",
              "\n",
              "    .colab-df-convert:hover {\n",
              "      background-color: #E2EBFA;\n",
              "      box-shadow: 0px 1px 2px rgba(60, 64, 67, 0.3), 0px 1px 3px 1px rgba(60, 64, 67, 0.15);\n",
              "      fill: #174EA6;\n",
              "    }\n",
              "\n",
              "    [theme=dark] .colab-df-convert {\n",
              "      background-color: #3B4455;\n",
              "      fill: #D2E3FC;\n",
              "    }\n",
              "\n",
              "    [theme=dark] .colab-df-convert:hover {\n",
              "      background-color: #434B5C;\n",
              "      box-shadow: 0px 1px 3px 1px rgba(0, 0, 0, 0.15);\n",
              "      filter: drop-shadow(0px 1px 2px rgba(0, 0, 0, 0.3));\n",
              "      fill: #FFFFFF;\n",
              "    }\n",
              "  </style>\n",
              "\n",
              "      <script>\n",
              "        const buttonEl =\n",
              "          document.querySelector('#df-67a29c4e-fe9c-4c84-bdd3-c97b0ece62b1 button.colab-df-convert');\n",
              "        buttonEl.style.display =\n",
              "          google.colab.kernel.accessAllowed ? 'block' : 'none';\n",
              "\n",
              "        async function convertToInteractive(key) {\n",
              "          const element = document.querySelector('#df-67a29c4e-fe9c-4c84-bdd3-c97b0ece62b1');\n",
              "          const dataTable =\n",
              "            await google.colab.kernel.invokeFunction('convertToInteractive',\n",
              "                                                     [key], {});\n",
              "          if (!dataTable) return;\n",
              "\n",
              "          const docLinkHtml = 'Like what you see? Visit the ' +\n",
              "            '<a target=\"_blank\" href=https://colab.research.google.com/notebooks/data_table.ipynb>data table notebook</a>'\n",
              "            + ' to learn more about interactive tables.';\n",
              "          element.innerHTML = '';\n",
              "          dataTable['output_type'] = 'display_data';\n",
              "          await google.colab.output.renderOutput(dataTable, element);\n",
              "          const docLink = document.createElement('div');\n",
              "          docLink.innerHTML = docLinkHtml;\n",
              "          element.appendChild(docLink);\n",
              "        }\n",
              "      </script>\n",
              "    </div>\n",
              "  </div>\n",
              "  "
            ],
            "text/plain": [
              "        id     budget                                             genres  \\\n",
              "1126  1127  220000000  [{'id': 878, 'name': 'Science Fiction'}, {'id'...   \n",
              "1761  1762  190000000                     [{'id': 28, 'name': 'Action'}]   \n",
              "2770  2771  280000000  [{'id': 28, 'name': 'Action'}, {'id': 12, 'nam...   \n",
              "684    685  160000000  [{'id': 10751, 'name': 'Family'}, {'id': 14, '...   \n",
              "2322  2323  195000000  [{'id': 28, 'name': 'Action'}, {'id': 878, 'na...   \n",
              "...    ...        ...                                                ...   \n",
              "2117  2118        344  [{'id': 35, 'name': 'Comedy'}, {'id': 10749, '...   \n",
              "2383  2384          0  [{'id': 80, 'name': 'Crime'}, {'id': 18, 'name...   \n",
              "695    696          1  [{'id': 10749, 'name': 'Romance'}, {'id': 53, ...   \n",
              "1754  1755          2  [{'id': 53, 'name': 'Thriller'}, {'id': 10769,...   \n",
              "347    348         12  [{'id': 14, 'name': 'Fantasy'}, {'id': 18, 'na...   \n",
              "\n",
              "     original_language  popularity  \\\n",
              "1126                en   89.887648   \n",
              "1761                en   27.275687   \n",
              "2770                en   37.379420   \n",
              "684                 en  287.253654   \n",
              "2322                en    4.503505   \n",
              "...                ...         ...   \n",
              "2117                en    0.158651   \n",
              "2383                fr    4.471645   \n",
              "695                 hi    1.280455   \n",
              "1754                en    2.466066   \n",
              "347                 en    1.410322   \n",
              "\n",
              "                                   production_companies  \\\n",
              "1126  [{'name': 'Paramount Pictures', 'id': 4}, {'na...   \n",
              "1761  [{'name': 'Universal Pictures', 'id': 33}, {'n...   \n",
              "2770  [{'name': 'Marvel Studios', 'id': 420}, {'name...   \n",
              "684   [{'name': 'Walt Disney Pictures', 'id': 2}, {'...   \n",
              "2322  [{'name': 'Paramount Pictures', 'id': 4}, {'na...   \n",
              "...                                                 ...   \n",
              "2117  [{'name': 'ABS-CBN Film Productions', 'id': 46...   \n",
              "2383  [{'name': 'Paramount Pictures', 'id': 4}, {'na...   \n",
              "695        [{'name': 'People Tree Films', 'id': 11791}]   \n",
              "1754  [{'name': 'Comet Film Produktion GmbH', 'id': ...   \n",
              "347         [{'name': 'Allied Filmmakers', 'id': 1755}]   \n",
              "\n",
              "                                   production_countries release_date  runtime  \\\n",
              "1126  [{'iso_3166_1': 'US', 'name': 'United States o...      4/25/12    143.0   \n",
              "1761  [{'iso_3166_1': 'JP', 'name': 'Japan'}, {'iso_...       4/1/15    137.0   \n",
              "2770  [{'iso_3166_1': 'US', 'name': 'United States o...      4/22/15    141.0   \n",
              "684   [{'iso_3166_1': 'GB', 'name': 'United Kingdom'...      3/16/17    129.0   \n",
              "2322  [{'iso_3166_1': 'US', 'name': 'United States o...      6/28/11    154.0   \n",
              "...                                                 ...          ...      ...   \n",
              "2117  [{'iso_3166_1': 'US', 'name': 'United States o...      9/29/01    104.0   \n",
              "2383  [{'iso_3166_1': 'FR', 'name': 'France'}, {'iso...      5/19/70    126.0   \n",
              "695             [{'iso_3166_1': 'IN', 'name': 'India'}]      8/15/03    132.0   \n",
              "1754  [{'iso_3166_1': 'DE', 'name': 'Germany'}, {'is...      9/28/95     95.0   \n",
              "347    [{'iso_3166_1': 'GB', 'name': 'United Kingdom'}]     10/16/96     84.0   \n",
              "\n",
              "                               title  \\\n",
              "1126                    The Avengers   \n",
              "1761                       Furious 7   \n",
              "2770         Avengers: Age of Ultron   \n",
              "684             Beauty and the Beast   \n",
              "2322  Transformers: Dark of the Moon   \n",
              "...                              ...   \n",
              "2117                  American Adobo   \n",
              "2383                       Borsalino   \n",
              "695                        Tere Naam   \n",
              "1754                    Mute Witness   \n",
              "347          The Wind in the Willows   \n",
              "\n",
              "                                                   cast     revenue  \n",
              "1126  [{'cast_id': 46, 'character': 'Tony Stark / Ir...  1519557910  \n",
              "1761  [{'cast_id': 17, 'character': 'Dominic Toretto...  1506249360  \n",
              "2770  [{'cast_id': 76, 'character': 'Tony Stark / Ir...  1405403694  \n",
              "684   [{'cast_id': 174, 'character': 'Belle', 'credi...  1262886337  \n",
              "2322  [{'cast_id': 3, 'character': 'Sam Witwicky', '...  1123746996  \n",
              "...                                                 ...         ...  \n",
              "2117  [{'cast_id': 1, 'character': '', 'credit_id': ...           4  \n",
              "2383  [{'cast_id': 1, 'character': 'Fran√ßois Capell...           3  \n",
              "695   [{'cast_id': 3, 'character': 'Radhe Mohan', 'c...           2  \n",
              "1754  [{'cast_id': 22, 'character': 'Billy Hughes', ...           1  \n",
              "347   [{'cast_id': 2, 'character': 'Toad', 'credit_i...           1  \n",
              "\n",
              "[2804 rows x 12 columns]"
            ]
          },
          "metadata": {},
          "execution_count": 1037
        }
      ]
    },
    {
      "cell_type": "markdown",
      "source": [
        "Esssa coluna será mantida para usa-la de comparação"
      ],
      "metadata": {
        "id": "tiBXmQOThXEU"
      }
    },
    {
      "cell_type": "markdown",
      "source": [
        "###Conferindo as mudanças"
      ],
      "metadata": {
        "id": "PhVRUTMRbHS0"
      }
    },
    {
      "cell_type": "code",
      "source": [
        "treino.head()"
      ],
      "metadata": {
        "colab": {
          "base_uri": "https://localhost:8080/",
          "height": 0
        },
        "id": "xki1tDTvdiw0",
        "outputId": "20fb9cbf-6022-4d7b-af38-d5f0a299d491"
      },
      "execution_count": 1038,
      "outputs": [
        {
          "output_type": "execute_result",
          "data": {
            "text/html": [
              "\n",
              "  <div id=\"df-57ac7978-354a-4dd7-b86a-b328dc0b7605\">\n",
              "    <div class=\"colab-df-container\">\n",
              "      <div>\n",
              "<style scoped>\n",
              "    .dataframe tbody tr th:only-of-type {\n",
              "        vertical-align: middle;\n",
              "    }\n",
              "\n",
              "    .dataframe tbody tr th {\n",
              "        vertical-align: top;\n",
              "    }\n",
              "\n",
              "    .dataframe thead th {\n",
              "        text-align: right;\n",
              "    }\n",
              "</style>\n",
              "<table border=\"1\" class=\"dataframe\">\n",
              "  <thead>\n",
              "    <tr style=\"text-align: right;\">\n",
              "      <th></th>\n",
              "      <th>id</th>\n",
              "      <th>budget</th>\n",
              "      <th>genres</th>\n",
              "      <th>original_language</th>\n",
              "      <th>popularity</th>\n",
              "      <th>production_companies</th>\n",
              "      <th>production_countries</th>\n",
              "      <th>release_date</th>\n",
              "      <th>runtime</th>\n",
              "      <th>title</th>\n",
              "      <th>cast</th>\n",
              "      <th>revenue</th>\n",
              "    </tr>\n",
              "  </thead>\n",
              "  <tbody>\n",
              "    <tr>\n",
              "      <th>0</th>\n",
              "      <td>1</td>\n",
              "      <td>14000000</td>\n",
              "      <td>[{'id': 35, 'name': 'Comedy'}]</td>\n",
              "      <td>en</td>\n",
              "      <td>6.575393</td>\n",
              "      <td>[{'name': 'Paramount Pictures', 'id': 4}, {'na...</td>\n",
              "      <td>[{'iso_3166_1': 'US', 'name': 'United States o...</td>\n",
              "      <td>2/20/15</td>\n",
              "      <td>93.0</td>\n",
              "      <td>Hot Tub Time Machine 2</td>\n",
              "      <td>[{'cast_id': 4, 'character': 'Lou', 'credit_id...</td>\n",
              "      <td>12314651</td>\n",
              "    </tr>\n",
              "    <tr>\n",
              "      <th>1</th>\n",
              "      <td>2</td>\n",
              "      <td>40000000</td>\n",
              "      <td>[{'id': 35, 'name': 'Comedy'}, {'id': 18, 'nam...</td>\n",
              "      <td>en</td>\n",
              "      <td>8.248895</td>\n",
              "      <td>[{'name': 'Walt Disney Pictures', 'id': 2}]</td>\n",
              "      <td>[{'iso_3166_1': 'US', 'name': 'United States o...</td>\n",
              "      <td>8/6/04</td>\n",
              "      <td>113.0</td>\n",
              "      <td>The Princess Diaries 2: Royal Engagement</td>\n",
              "      <td>[{'cast_id': 1, 'character': 'Mia Thermopolis'...</td>\n",
              "      <td>95149435</td>\n",
              "    </tr>\n",
              "    <tr>\n",
              "      <th>2</th>\n",
              "      <td>3</td>\n",
              "      <td>3300000</td>\n",
              "      <td>[{'id': 18, 'name': 'Drama'}]</td>\n",
              "      <td>en</td>\n",
              "      <td>64.299990</td>\n",
              "      <td>[{'name': 'Bold Films', 'id': 2266}, {'name': ...</td>\n",
              "      <td>[{'iso_3166_1': 'US', 'name': 'United States o...</td>\n",
              "      <td>10/10/14</td>\n",
              "      <td>105.0</td>\n",
              "      <td>Whiplash</td>\n",
              "      <td>[{'cast_id': 5, 'character': 'Andrew Neimann',...</td>\n",
              "      <td>13092000</td>\n",
              "    </tr>\n",
              "    <tr>\n",
              "      <th>6</th>\n",
              "      <td>7</td>\n",
              "      <td>14000000</td>\n",
              "      <td>[{'id': 27, 'name': 'Horror'}, {'id': 53, 'nam...</td>\n",
              "      <td>en</td>\n",
              "      <td>7.286477</td>\n",
              "      <td>[{'name': 'Ghost House Pictures', 'id': 768}, ...</td>\n",
              "      <td>[{'iso_3166_1': 'US', 'name': 'United States o...</td>\n",
              "      <td>8/30/12</td>\n",
              "      <td>92.0</td>\n",
              "      <td>The Possession</td>\n",
              "      <td>[{'cast_id': 23, 'character': 'Clyde', 'credit...</td>\n",
              "      <td>85446075</td>\n",
              "    </tr>\n",
              "    <tr>\n",
              "      <th>8</th>\n",
              "      <td>9</td>\n",
              "      <td>0</td>\n",
              "      <td>[{'id': 28, 'name': 'Action'}, {'id': 35, 'nam...</td>\n",
              "      <td>en</td>\n",
              "      <td>6.902423</td>\n",
              "      <td>[{'name': 'Walt Disney Pictures', 'id': 2}, {'...</td>\n",
              "      <td>[{'iso_3166_1': 'US', 'name': 'United States o...</td>\n",
              "      <td>2/16/96</td>\n",
              "      <td>100.0</td>\n",
              "      <td>Muppet Treasure Island</td>\n",
              "      <td>[{'cast_id': 1, 'character': 'Long John Silver...</td>\n",
              "      <td>34327391</td>\n",
              "    </tr>\n",
              "  </tbody>\n",
              "</table>\n",
              "</div>\n",
              "      <button class=\"colab-df-convert\" onclick=\"convertToInteractive('df-57ac7978-354a-4dd7-b86a-b328dc0b7605')\"\n",
              "              title=\"Convert this dataframe to an interactive table.\"\n",
              "              style=\"display:none;\">\n",
              "        \n",
              "  <svg xmlns=\"http://www.w3.org/2000/svg\" height=\"24px\"viewBox=\"0 0 24 24\"\n",
              "       width=\"24px\">\n",
              "    <path d=\"M0 0h24v24H0V0z\" fill=\"none\"/>\n",
              "    <path d=\"M18.56 5.44l.94 2.06.94-2.06 2.06-.94-2.06-.94-.94-2.06-.94 2.06-2.06.94zm-11 1L8.5 8.5l.94-2.06 2.06-.94-2.06-.94L8.5 2.5l-.94 2.06-2.06.94zm10 10l.94 2.06.94-2.06 2.06-.94-2.06-.94-.94-2.06-.94 2.06-2.06.94z\"/><path d=\"M17.41 7.96l-1.37-1.37c-.4-.4-.92-.59-1.43-.59-.52 0-1.04.2-1.43.59L10.3 9.45l-7.72 7.72c-.78.78-.78 2.05 0 2.83L4 21.41c.39.39.9.59 1.41.59.51 0 1.02-.2 1.41-.59l7.78-7.78 2.81-2.81c.8-.78.8-2.07 0-2.86zM5.41 20L4 18.59l7.72-7.72 1.47 1.35L5.41 20z\"/>\n",
              "  </svg>\n",
              "      </button>\n",
              "      \n",
              "  <style>\n",
              "    .colab-df-container {\n",
              "      display:flex;\n",
              "      flex-wrap:wrap;\n",
              "      gap: 12px;\n",
              "    }\n",
              "\n",
              "    .colab-df-convert {\n",
              "      background-color: #E8F0FE;\n",
              "      border: none;\n",
              "      border-radius: 50%;\n",
              "      cursor: pointer;\n",
              "      display: none;\n",
              "      fill: #1967D2;\n",
              "      height: 32px;\n",
              "      padding: 0 0 0 0;\n",
              "      width: 32px;\n",
              "    }\n",
              "\n",
              "    .colab-df-convert:hover {\n",
              "      background-color: #E2EBFA;\n",
              "      box-shadow: 0px 1px 2px rgba(60, 64, 67, 0.3), 0px 1px 3px 1px rgba(60, 64, 67, 0.15);\n",
              "      fill: #174EA6;\n",
              "    }\n",
              "\n",
              "    [theme=dark] .colab-df-convert {\n",
              "      background-color: #3B4455;\n",
              "      fill: #D2E3FC;\n",
              "    }\n",
              "\n",
              "    [theme=dark] .colab-df-convert:hover {\n",
              "      background-color: #434B5C;\n",
              "      box-shadow: 0px 1px 3px 1px rgba(0, 0, 0, 0.15);\n",
              "      filter: drop-shadow(0px 1px 2px rgba(0, 0, 0, 0.3));\n",
              "      fill: #FFFFFF;\n",
              "    }\n",
              "  </style>\n",
              "\n",
              "      <script>\n",
              "        const buttonEl =\n",
              "          document.querySelector('#df-57ac7978-354a-4dd7-b86a-b328dc0b7605 button.colab-df-convert');\n",
              "        buttonEl.style.display =\n",
              "          google.colab.kernel.accessAllowed ? 'block' : 'none';\n",
              "\n",
              "        async function convertToInteractive(key) {\n",
              "          const element = document.querySelector('#df-57ac7978-354a-4dd7-b86a-b328dc0b7605');\n",
              "          const dataTable =\n",
              "            await google.colab.kernel.invokeFunction('convertToInteractive',\n",
              "                                                     [key], {});\n",
              "          if (!dataTable) return;\n",
              "\n",
              "          const docLinkHtml = 'Like what you see? Visit the ' +\n",
              "            '<a target=\"_blank\" href=https://colab.research.google.com/notebooks/data_table.ipynb>data table notebook</a>'\n",
              "            + ' to learn more about interactive tables.';\n",
              "          element.innerHTML = '';\n",
              "          dataTable['output_type'] = 'display_data';\n",
              "          await google.colab.output.renderOutput(dataTable, element);\n",
              "          const docLink = document.createElement('div');\n",
              "          docLink.innerHTML = docLinkHtml;\n",
              "          element.appendChild(docLink);\n",
              "        }\n",
              "      </script>\n",
              "    </div>\n",
              "  </div>\n",
              "  "
            ],
            "text/plain": [
              "   id    budget                                             genres  \\\n",
              "0   1  14000000                     [{'id': 35, 'name': 'Comedy'}]   \n",
              "1   2  40000000  [{'id': 35, 'name': 'Comedy'}, {'id': 18, 'nam...   \n",
              "2   3   3300000                      [{'id': 18, 'name': 'Drama'}]   \n",
              "6   7  14000000  [{'id': 27, 'name': 'Horror'}, {'id': 53, 'nam...   \n",
              "8   9         0  [{'id': 28, 'name': 'Action'}, {'id': 35, 'nam...   \n",
              "\n",
              "  original_language  popularity  \\\n",
              "0                en    6.575393   \n",
              "1                en    8.248895   \n",
              "2                en   64.299990   \n",
              "6                en    7.286477   \n",
              "8                en    6.902423   \n",
              "\n",
              "                                production_companies  \\\n",
              "0  [{'name': 'Paramount Pictures', 'id': 4}, {'na...   \n",
              "1        [{'name': 'Walt Disney Pictures', 'id': 2}]   \n",
              "2  [{'name': 'Bold Films', 'id': 2266}, {'name': ...   \n",
              "6  [{'name': 'Ghost House Pictures', 'id': 768}, ...   \n",
              "8  [{'name': 'Walt Disney Pictures', 'id': 2}, {'...   \n",
              "\n",
              "                                production_countries release_date  runtime  \\\n",
              "0  [{'iso_3166_1': 'US', 'name': 'United States o...      2/20/15     93.0   \n",
              "1  [{'iso_3166_1': 'US', 'name': 'United States o...       8/6/04    113.0   \n",
              "2  [{'iso_3166_1': 'US', 'name': 'United States o...     10/10/14    105.0   \n",
              "6  [{'iso_3166_1': 'US', 'name': 'United States o...      8/30/12     92.0   \n",
              "8  [{'iso_3166_1': 'US', 'name': 'United States o...      2/16/96    100.0   \n",
              "\n",
              "                                      title  \\\n",
              "0                    Hot Tub Time Machine 2   \n",
              "1  The Princess Diaries 2: Royal Engagement   \n",
              "2                                  Whiplash   \n",
              "6                            The Possession   \n",
              "8                    Muppet Treasure Island   \n",
              "\n",
              "                                                cast   revenue  \n",
              "0  [{'cast_id': 4, 'character': 'Lou', 'credit_id...  12314651  \n",
              "1  [{'cast_id': 1, 'character': 'Mia Thermopolis'...  95149435  \n",
              "2  [{'cast_id': 5, 'character': 'Andrew Neimann',...  13092000  \n",
              "6  [{'cast_id': 23, 'character': 'Clyde', 'credit...  85446075  \n",
              "8  [{'cast_id': 1, 'character': 'Long John Silver...  34327391  "
            ]
          },
          "metadata": {},
          "execution_count": 1038
        }
      ]
    },
    {
      "cell_type": "code",
      "source": [
        "treino.shape"
      ],
      "metadata": {
        "colab": {
          "base_uri": "https://localhost:8080/"
        },
        "outputId": "bd537411-78e6-4f5c-f6f6-a7a245c059f7",
        "id": "fGb-YLGsLbuu"
      },
      "execution_count": 1039,
      "outputs": [
        {
          "output_type": "execute_result",
          "data": {
            "text/plain": [
              "(2804, 12)"
            ]
          },
          "metadata": {},
          "execution_count": 1039
        }
      ]
    },
    {
      "cell_type": "markdown",
      "source": [
        "Analisando quais são as colunas restantes"
      ],
      "metadata": {
        "id": "cddq_drjlZow"
      }
    },
    {
      "cell_type": "code",
      "source": [
        "list(treino.columns)"
      ],
      "metadata": {
        "colab": {
          "base_uri": "https://localhost:8080/"
        },
        "id": "pZ2bRTnMkF0D",
        "outputId": "fc00ec03-4280-4796-e17b-43473143e2c5"
      },
      "execution_count": 1040,
      "outputs": [
        {
          "output_type": "execute_result",
          "data": {
            "text/plain": [
              "['id',\n",
              " 'budget',\n",
              " 'genres',\n",
              " 'original_language',\n",
              " 'popularity',\n",
              " 'production_companies',\n",
              " 'production_countries',\n",
              " 'release_date',\n",
              " 'runtime',\n",
              " 'title',\n",
              " 'cast',\n",
              " 'revenue']"
            ]
          },
          "metadata": {},
          "execution_count": 1040
        }
      ]
    },
    {
      "cell_type": "markdown",
      "source": [
        "###Salvando"
      ],
      "metadata": {
        "id": "j8lrX8N8n2DF"
      }
    },
    {
      "cell_type": "code",
      "source": [
        "#treino.to_csv('treino_copia.csv')"
      ],
      "metadata": {
        "id": "tMgAMkWs4msM"
      },
      "execution_count": 1041,
      "outputs": []
    },
    {
      "cell_type": "markdown",
      "source": [
        "###Tratamento de dados"
      ],
      "metadata": {
        "id": "kxuIr6AnpdX4"
      }
    },
    {
      "cell_type": "markdown",
      "source": [
        "Transformando os dados das colunas escritas de string para dicionários"
      ],
      "metadata": {
        "id": "GszQz_RTqAma"
      }
    },
    {
      "cell_type": "code",
      "source": [
        "dict_columns = ['genres', 'production_companies',\n",
        "                'production_countries', 'cast']\n",
        "\n",
        "def text_to_dict(df):\n",
        "    for column in dict_columns:\n",
        "        df[column] = df[column].apply(lambda x: {} if pd.isna(x) else ast.literal_eval(x) )\n",
        "    return df\n",
        "        \n",
        "dfx = text_to_dict(treino)\n",
        "for col in dict_columns:\n",
        "       treino[col]=dfx[col]"
      ],
      "metadata": {
        "id": "H8a_nuhL_lsJ"
      },
      "execution_count": 1042,
      "outputs": []
    },
    {
      "cell_type": "markdown",
      "source": [
        "####Observando de maneira mais simplificada os dados não numéricos"
      ],
      "metadata": {
        "id": "_fDXUsjSqEnk"
      }
    },
    {
      "cell_type": "markdown",
      "source": [
        "Observando quantos gêneros tem os filmes"
      ],
      "metadata": {
        "id": "lt_UO-u0zmER"
      }
    },
    {
      "cell_type": "code",
      "source": [
        "treino['genres'].apply(lambda x: len(x) if x != {} else 0).value_counts()"
      ],
      "metadata": {
        "id": "CdWx3PIJOriP",
        "colab": {
          "base_uri": "https://localhost:8080/"
        },
        "outputId": "640c7b70-977a-4348-c5f2-f9a5058df475"
      },
      "execution_count": 1043,
      "outputs": [
        {
          "output_type": "execute_result",
          "data": {
            "text/plain": [
              "2    898\n",
              "3    859\n",
              "1    543\n",
              "4    372\n",
              "5    109\n",
              "6     20\n",
              "7      3\n",
              "Name: genres, dtype: int64"
            ]
          },
          "metadata": {},
          "execution_count": 1043
        }
      ]
    },
    {
      "cell_type": "markdown",
      "source": [
        "Gêneros mais comuns no Dataframe"
      ],
      "metadata": {
        "id": "hrTFjos1tWPz"
      }
    },
    {
      "cell_type": "code",
      "source": [
        "genre=treino['genres'].apply(lambda x: [i['name'] for i in x] if x != {} else [])\n",
        "count=Counter([i for j in genre for i in j]).most_common(15)\n",
        "sns.barplot([val[1] for val in count],[val[0] for val in count])"
      ],
      "metadata": {
        "colab": {
          "base_uri": "https://localhost:8080/",
          "height": 354
        },
        "id": "e3bq89kltydB",
        "outputId": "4605f1cf-3732-45b7-b60b-894c62517911"
      },
      "execution_count": 1044,
      "outputs": [
        {
          "output_type": "stream",
          "name": "stderr",
          "text": [
            "/usr/local/lib/python3.7/dist-packages/seaborn/_decorators.py:43: FutureWarning: Pass the following variables as keyword args: x, y. From version 0.12, the only valid positional argument will be `data`, and passing other arguments without an explicit keyword will result in an error or misinterpretation.\n",
            "  FutureWarning\n"
          ]
        },
        {
          "output_type": "execute_result",
          "data": {
            "text/plain": [
              "<matplotlib.axes._subplots.AxesSubplot at 0x7fc3fd00b210>"
            ]
          },
          "metadata": {},
          "execution_count": 1044
        },
        {
          "output_type": "display_data",
          "data": {
            "image/png": "[encoded data removed]",
            "text/plain": [
              "<Figure size 432x288 with 1 Axes>"
            ]
          },
          "metadata": {}
        }
      ]
    },
    {
      "cell_type": "markdown",
      "source": [
        "As produtora de filmes com mais filmes no Dataframe"
      ],
      "metadata": {
        "id": "whRS9t_ps94h"
      }
    },
    {
      "cell_type": "code",
      "source": [
        "x=treino['production_companies'].apply(lambda x : [x[i]['name'] for i in range(len(x))] if x != {} else []).values\n",
        "Counter([i for j in x for i in j]).most_common(20)"
      ],
      "metadata": {
        "colab": {
          "base_uri": "https://localhost:8080/"
        },
        "id": "ab0pWDuwo54g",
        "outputId": "b4b220ad-29b9-4d24-fd29-6e944057aa30"
      },
      "execution_count": 1045,
      "outputs": [
        {
          "output_type": "execute_result",
          "data": {
            "text/plain": [
              "[('Warner Bros.', 199),\n",
              " ('Universal Pictures', 187),\n",
              " ('Paramount Pictures', 160),\n",
              " ('Twentieth Century Fox Film Corporation', 135),\n",
              " ('Columbia Pictures', 87),\n",
              " ('Metro-Goldwyn-Mayer (MGM)', 81),\n",
              " ('New Line Cinema', 73),\n",
              " ('Touchstone Pictures', 63),\n",
              " ('Walt Disney Pictures', 61),\n",
              " ('Columbia Pictures Corporation', 61),\n",
              " ('TriStar Pictures', 49),\n",
              " ('Canal+', 46),\n",
              " ('Relativity Media', 46),\n",
              " ('United Artists', 44),\n",
              " ('Miramax Films', 40),\n",
              " ('Village Roadshow Pictures', 36),\n",
              " ('Regency Enterprises', 31),\n",
              " ('BBC Films', 30),\n",
              " ('Fox Searchlight Pictures', 29),\n",
              " ('Dune Entertainment', 29)]"
            ]
          },
          "metadata": {},
          "execution_count": 1045
        }
      ]
    },
    {
      "cell_type": "markdown",
      "source": [
        "Os países com  mais filmes no Dataframe"
      ],
      "metadata": {
        "id": "SKuGcac8sbQ6"
      }
    },
    {
      "cell_type": "code",
      "source": [
        "countries=treino['production_countries'].apply(lambda x: [i['name'] for i in x] if x!={} else []).values\n",
        "count=Counter([j for i in countries for j in i]).most_common(5)\n",
        "sns.barplot([val[1] for val in count],[val[0] for val in count])"
      ],
      "metadata": {
        "colab": {
          "base_uri": "https://localhost:8080/",
          "height": 354
        },
        "id": "lhId1SfTuF7_",
        "outputId": "5ed6bd65-13b7-4908-cb61-06bc52bd5060"
      },
      "execution_count": 1046,
      "outputs": [
        {
          "output_type": "stream",
          "name": "stderr",
          "text": [
            "/usr/local/lib/python3.7/dist-packages/seaborn/_decorators.py:43: FutureWarning: Pass the following variables as keyword args: x, y. From version 0.12, the only valid positional argument will be `data`, and passing other arguments without an explicit keyword will result in an error or misinterpretation.\n",
            "  FutureWarning\n"
          ]
        },
        {
          "output_type": "execute_result",
          "data": {
            "text/plain": [
              "<matplotlib.axes._subplots.AxesSubplot at 0x7fc427c90c50>"
            ]
          },
          "metadata": {},
          "execution_count": 1046
        },
        {
          "output_type": "display_data",
          "data": {
            "image/png": "[encoded data removed]",
            "text/plain": [
              "<Figure size 432x288 with 1 Axes>"
            ]
          },
          "metadata": {}
        }
      ]
    },
    {
      "cell_type": "markdown",
      "source": [
        "Percebe-se uma diferença bem grande entre os EUA e os outros países"
      ],
      "metadata": {
        "id": "cBINqEmluf1e"
      }
    },
    {
      "cell_type": "code",
      "source": [
        "#treino.sort_values(by='original_language',ascending=False)"
      ],
      "metadata": {
        "id": "bDBNvvN7y4zf"
      },
      "execution_count": 1059,
      "outputs": []
    },
    {
      "cell_type": "markdown",
      "source": [
        "##A"
      ],
      "metadata": {
        "id": "a2or1211u1bI"
      }
    },
    {
      "cell_type": "code",
      "source": [
        "# text =''\n",
        "# generos = set({})\n",
        "# for linha in treino.genres:\n",
        "#     if type(linha) == str:\n",
        "#         text += linha\n",
        "\n",
        "# linhas = text.split('{')\n",
        "# for i in linhas:\n",
        "#     x = i.find('name')\n",
        "#     y = i.find('}')\n",
        "#     texto = i[x+8:y-1]\n",
        "#     generos.add(texto)\n",
        "\n",
        "# print(generos)\n",
        "\n",
        "# oq eu falei é o IDEAL é vc tirar de dentro do texto e criar uma coluna binária pra cada gênero\n",
        "# e ai vc marca se é 0 ou 1\n",
        "# pq é isso q tu vai usar pra treinar o modelo"
      ],
      "metadata": {
        "id": "z0BQHFL_M239"
      },
      "execution_count": 1048,
      "outputs": []
    },
    {
      "cell_type": "markdown",
      "source": [
        "## Manipulando os dados"
      ],
      "metadata": {
        "id": "9PzfcnB50jCF"
      }
    },
    {
      "cell_type": "code",
      "source": [
        "plt.figure(figsize=(10,8))\n",
        "\n",
        "treino = treino.sort_values(by='revenue', ascending=False)\n",
        "treino2 = treino.head(20)\n",
        "ax= sns.pointplot(treino2['budget'], treino2['revenue'], hue= treino2['title'])\n",
        "ax.set_xticklabels(ax.get_xticklabels(), rotation=40, ha= \"right\")\n",
        "plt.tight_layout()\n",
        "plt.show()\n"
      ],
      "metadata": {
        "colab": {
          "base_uri": "https://localhost:8080/",
          "height": 0
        },
        "id": "qnTM9Xlqrg16",
        "outputId": "be77528d-07c6-44b9-b8ca-f533b67d3701"
      },
      "execution_count": 1049,
      "outputs": [
        {
          "output_type": "stream",
          "name": "stderr",
          "text": [
            "/usr/local/lib/python3.7/dist-packages/seaborn/_decorators.py:43: FutureWarning: Pass the following variables as keyword args: x, y. From version 0.12, the only valid positional argument will be `data`, and passing other arguments without an explicit keyword will result in an error or misinterpretation.\n",
            "  FutureWarning\n"
          ]
        },
        {
          "output_type": "display_data",
          "data": {
            "image/png": "[encoded data removed]",
            "text/plain": [
              "<Figure size 720x576 with 1 Axes>"
            ]
          },
          "metadata": {}
        }
      ]
    },
    {
      "cell_type": "code",
      "source": [
        "# print('Number of genres')\n",
        "# lista_genero = list(treino['genres'].apply(lambda x: [i['name'] for i in x] if x != {} else []).values)\n",
        "# Counter([i for j in lista_genero for i in j]).most_common()"
      ],
      "metadata": {
        "id": "QtTvLM4w8G-3"
      },
      "execution_count": 1050,
      "outputs": []
    },
    {
      "cell_type": "markdown",
      "source": [
        "# Submissão"
      ],
      "metadata": {
        "id": "abvqiGsEy89W"
      }
    },
    {
      "cell_type": "code",
      "source": [
        "#https://www.kaggle.com/c/tmdb-box-office-prediction/overview"
      ],
      "metadata": {
        "id": "MVlNAsFmzDX2"
      },
      "execution_count": 1051,
      "outputs": []
    },
    {
      "cell_type": "markdown",
      "source": [
        "#Teste"
      ],
      "metadata": {
        "id": "9FsI61zjraIV"
      }
    },
    {
      "cell_type": "code",
      "source": [
        "# print('Number of genres in films')\n",
        "# treino['genres'].apply(lambda x: len(x) if x != {} else 0).value_counts()"
      ],
      "metadata": {
        "id": "djjHyjhQBA0S"
      },
      "execution_count": 1052,
      "outputs": []
    },
    {
      "cell_type": "code",
      "source": [
        "# collections= treino['belongs_to_collection'].apply(lambda x : x[0]['name'] if x!= {} else '?').value_counts()[1:15]\n",
        "# plt.figure(figsize=(8,8))\n",
        "# sns.barplot(collections,collections.index)\n",
        "# plt.show()"
      ],
      "metadata": {
        "id": "wsMVBYu-QiL2"
      },
      "execution_count": 1053,
      "outputs": []
    },
    {
      "cell_type": "code",
      "source": [
        "#verificando correlações\n",
        "corr = treino.corr()\n",
        "sns.heatmap(corr, annot=True)"
      ],
      "metadata": {
        "colab": {
          "base_uri": "https://localhost:8080/",
          "height": 362
        },
        "id": "-YEJfR4HMPjG",
        "outputId": "684ba482-5fd3-413b-d81b-f97a50d99553"
      },
      "execution_count": 1054,
      "outputs": [
        {
          "output_type": "execute_result",
          "data": {
            "text/plain": [
              "<matplotlib.axes._subplots.AxesSubplot at 0x7fc3f746aa50>"
            ]
          },
          "metadata": {},
          "execution_count": 1054
        },
        {
          "output_type": "display_data",
          "data": {
            "image/png": "[encoded data removed]",
            "text/plain": [
              "<Figure size 432x288 with 2 Axes>"
            ]
          },
          "metadata": {}
        }
      ]
    },
    {
      "cell_type": "markdown",
      "source": [
        "# Testando funções"
      ],
      "metadata": {
        "id": "ojRznUnKGo26"
      }
    },
    {
      "cell_type": "code",
      "source": [
        "#treino.sort_values(by='budget',ascending=False)"
      ],
      "metadata": {
        "id": "NPNYlBAY-xa7"
      },
      "execution_count": 1055,
      "outputs": []
    },
    {
      "cell_type": "code",
      "source": [
        "#Retirando linhas com dados faltantes\n",
        "#linha axis=0 / coluna axis=1\n",
        "#linha por linha ->\n",
        "#treino.dropna(axis=0, subset=['genres', 'overview','poster_path','production_countries', 'runtime','spoken_languages', 'cast', 'crew'],inplace = True)"
      ],
      "metadata": {
        "id": "krb4eLfNHLOg"
      },
      "execution_count": 1056,
      "outputs": []
    },
    {
      "cell_type": "code",
      "source": [
        "#treino.sort_values(by='popularity',ascending=False)"
      ],
      "metadata": {
        "id": "zbOU-jvf_ksg"
      },
      "execution_count": 1057,
      "outputs": []
    }
  ]
}