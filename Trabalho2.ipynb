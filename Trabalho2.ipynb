{
  "nbformat": 4,
  "nbformat_minor": 0,
  "metadata": {
    "colab": {
      "name": "Trabalho2.ipynb",
      "provenance": [],
      "collapsed_sections": [
        "ojRznUnKGo26"
      ]
    },
    "kernelspec": {
      "name": "python3",
      "display_name": "Python 3"
    },
    "language_info": {
      "name": "python"
    }
  },
  "cells": [
    {
      "cell_type": "markdown",
      "source": [
        "#Bibliotecas"
      ],
      "metadata": {
        "id": "UfWwCHngzZ7Q"
      }
    },
    {
      "cell_type": "code",
      "execution_count": 556,
      "metadata": {
        "id": "9TlkxIIR5mpx"
      },
      "outputs": [],
      "source": [
        "import pandas as pd\n",
        "import numpy as np\n",
        "import matplotlib.pyplot as plt\n",
        "import seaborn as sns\n",
        "from sklearn.model_selection import train_test_split\n",
        "from sklearn.linear_model import LogisticRegression\n",
        "from sklearn.metrics import accuracy_score\n",
        "from sklearn import datasets\n",
        "\n",
        "import ast\n",
        "from keras import models\n",
        "from keras import layers\n",
        "from keras import optimizers\n",
        "from datetime import datetime\n",
        "from keras import regularizers\n",
        "from collections import Counter\n",
        "from wordcloud import WordCloud\n",
        "import matplotlib.pyplot as plt\n",
        "from sklearn import preprocessing\n",
        "from sklearn.model_selection import KFold\n",
        "from sklearn.preprocessing import normalize\n",
        "from sklearn.preprocessing import LabelEncoder\n",
        "from sklearn.model_selection import train_test_split\n",
        "from keras.metrics import mean_squared_logarithmic_error\n",
        "\n",
        "plt.style.use('fivethirtyeight')"
      ]
    },
    {
      "cell_type": "markdown",
      "source": [
        "# Código"
      ],
      "metadata": {
        "id": "_M64Q9w7zhCF"
      }
    },
    {
      "cell_type": "markdown",
      "source": [
        "## Verificando os dados"
      ],
      "metadata": {
        "id": "gg83tRGXzuiV"
      }
    },
    {
      "cell_type": "code",
      "source": [
        "treino = pd.read_csv(\"./train.csv\")\n",
        "teste = pd.read_csv(\"./test.csv\")"
      ],
      "metadata": {
        "id": "KhsuN4ew8mKR"
      },
      "execution_count": 557,
      "outputs": []
    },
    {
      "cell_type": "code",
      "source": [
        "treino.head()"
      ],
      "metadata": {
        "id": "Sr1olD-R8rGk",
        "colab": {
          "base_uri": "https://localhost:8080/",
          "height": 716
        },
        "outputId": "782ba83e-3fa5-4865-8bf1-296e0c1016ae"
      },
      "execution_count": 558,
      "outputs": [
        {
          "output_type": "execute_result",
          "data": {
            "text/html": [
              "\n",
              "  <div id=\"df-75c64eb4-142b-4e11-a00e-f0cfbc541daa\">\n",
              "    <div class=\"colab-df-container\">\n",
              "      <div>\n",
              "<style scoped>\n",
              "    .dataframe tbody tr th:only-of-type {\n",
              "        vertical-align: middle;\n",
              "    }\n",
              "\n",
              "    .dataframe tbody tr th {\n",
              "        vertical-align: top;\n",
              "    }\n",
              "\n",
              "    .dataframe thead th {\n",
              "        text-align: right;\n",
              "    }\n",
              "</style>\n",
              "<table border=\"1\" class=\"dataframe\">\n",
              "  <thead>\n",
              "    <tr style=\"text-align: right;\">\n",
              "      <th></th>\n",
              "      <th>id</th>\n",
              "      <th>belongs_to_collection</th>\n",
              "      <th>budget</th>\n",
              "      <th>genres</th>\n",
              "      <th>homepage</th>\n",
              "      <th>imdb_id</th>\n",
              "      <th>original_language</th>\n",
              "      <th>original_title</th>\n",
              "      <th>overview</th>\n",
              "      <th>popularity</th>\n",
              "      <th>...</th>\n",
              "      <th>release_date</th>\n",
              "      <th>runtime</th>\n",
              "      <th>spoken_languages</th>\n",
              "      <th>status</th>\n",
              "      <th>tagline</th>\n",
              "      <th>title</th>\n",
              "      <th>Keywords</th>\n",
              "      <th>cast</th>\n",
              "      <th>crew</th>\n",
              "      <th>revenue</th>\n",
              "    </tr>\n",
              "  </thead>\n",
              "  <tbody>\n",
              "    <tr>\n",
              "      <th>0</th>\n",
              "      <td>1</td>\n",
              "      <td>[{'id': 313576, 'name': 'Hot Tub Time Machine ...</td>\n",
              "      <td>14000000</td>\n",
              "      <td>[{'id': 35, 'name': 'Comedy'}]</td>\n",
              "      <td>NaN</td>\n",
              "      <td>tt2637294</td>\n",
              "      <td>en</td>\n",
              "      <td>Hot Tub Time Machine 2</td>\n",
              "      <td>When Lou, who has become the \"father of the In...</td>\n",
              "      <td>6.575393</td>\n",
              "      <td>...</td>\n",
              "      <td>2/20/15</td>\n",
              "      <td>93.0</td>\n",
              "      <td>[{'iso_639_1': 'en', 'name': 'English'}]</td>\n",
              "      <td>Released</td>\n",
              "      <td>The Laws of Space and Time are About to be Vio...</td>\n",
              "      <td>Hot Tub Time Machine 2</td>\n",
              "      <td>[{'id': 4379, 'name': 'time travel'}, {'id': 9...</td>\n",
              "      <td>[{'cast_id': 4, 'character': 'Lou', 'credit_id...</td>\n",
              "      <td>[{'credit_id': '59ac067c92514107af02c8c8', 'de...</td>\n",
              "      <td>12314651</td>\n",
              "    </tr>\n",
              "    <tr>\n",
              "      <th>1</th>\n",
              "      <td>2</td>\n",
              "      <td>[{'id': 107674, 'name': 'The Princess Diaries ...</td>\n",
              "      <td>40000000</td>\n",
              "      <td>[{'id': 35, 'name': 'Comedy'}, {'id': 18, 'nam...</td>\n",
              "      <td>NaN</td>\n",
              "      <td>tt0368933</td>\n",
              "      <td>en</td>\n",
              "      <td>The Princess Diaries 2: Royal Engagement</td>\n",
              "      <td>Mia Thermopolis is now a college graduate and ...</td>\n",
              "      <td>8.248895</td>\n",
              "      <td>...</td>\n",
              "      <td>8/6/04</td>\n",
              "      <td>113.0</td>\n",
              "      <td>[{'iso_639_1': 'en', 'name': 'English'}]</td>\n",
              "      <td>Released</td>\n",
              "      <td>It can take a lifetime to find true love; she'...</td>\n",
              "      <td>The Princess Diaries 2: Royal Engagement</td>\n",
              "      <td>[{'id': 2505, 'name': 'coronation'}, {'id': 42...</td>\n",
              "      <td>[{'cast_id': 1, 'character': 'Mia Thermopolis'...</td>\n",
              "      <td>[{'credit_id': '52fe43fe9251416c7502563d', 'de...</td>\n",
              "      <td>95149435</td>\n",
              "    </tr>\n",
              "    <tr>\n",
              "      <th>2</th>\n",
              "      <td>3</td>\n",
              "      <td>NaN</td>\n",
              "      <td>3300000</td>\n",
              "      <td>[{'id': 18, 'name': 'Drama'}]</td>\n",
              "      <td>http://sonyclassics.com/whiplash/</td>\n",
              "      <td>tt2582802</td>\n",
              "      <td>en</td>\n",
              "      <td>Whiplash</td>\n",
              "      <td>Under the direction of a ruthless instructor, ...</td>\n",
              "      <td>64.299990</td>\n",
              "      <td>...</td>\n",
              "      <td>10/10/14</td>\n",
              "      <td>105.0</td>\n",
              "      <td>[{'iso_639_1': 'en', 'name': 'English'}]</td>\n",
              "      <td>Released</td>\n",
              "      <td>The road to greatness can take you to the edge.</td>\n",
              "      <td>Whiplash</td>\n",
              "      <td>[{'id': 1416, 'name': 'jazz'}, {'id': 1523, 'n...</td>\n",
              "      <td>[{'cast_id': 5, 'character': 'Andrew Neimann',...</td>\n",
              "      <td>[{'credit_id': '54d5356ec3a3683ba0000039', 'de...</td>\n",
              "      <td>13092000</td>\n",
              "    </tr>\n",
              "    <tr>\n",
              "      <th>3</th>\n",
              "      <td>4</td>\n",
              "      <td>NaN</td>\n",
              "      <td>1200000</td>\n",
              "      <td>[{'id': 53, 'name': 'Thriller'}, {'id': 18, 'n...</td>\n",
              "      <td>http://kahaanithefilm.com/</td>\n",
              "      <td>tt1821480</td>\n",
              "      <td>hi</td>\n",
              "      <td>Kahaani</td>\n",
              "      <td>Vidya Bagchi (Vidya Balan) arrives in Kolkata ...</td>\n",
              "      <td>3.174936</td>\n",
              "      <td>...</td>\n",
              "      <td>3/9/12</td>\n",
              "      <td>122.0</td>\n",
              "      <td>[{'iso_639_1': 'en', 'name': 'English'}, {'iso...</td>\n",
              "      <td>Released</td>\n",
              "      <td>NaN</td>\n",
              "      <td>Kahaani</td>\n",
              "      <td>[{'id': 10092, 'name': 'mystery'}, {'id': 1054...</td>\n",
              "      <td>[{'cast_id': 1, 'character': 'Vidya Bagchi', '...</td>\n",
              "      <td>[{'credit_id': '52fe48779251416c9108d6eb', 'de...</td>\n",
              "      <td>16000000</td>\n",
              "    </tr>\n",
              "    <tr>\n",
              "      <th>4</th>\n",
              "      <td>5</td>\n",
              "      <td>NaN</td>\n",
              "      <td>0</td>\n",
              "      <td>[{'id': 28, 'name': 'Action'}, {'id': 53, 'nam...</td>\n",
              "      <td>NaN</td>\n",
              "      <td>tt1380152</td>\n",
              "      <td>ko</td>\n",
              "      <td>마린보이</td>\n",
              "      <td>Marine Boy is the story of a former national s...</td>\n",
              "      <td>1.148070</td>\n",
              "      <td>...</td>\n",
              "      <td>2/5/09</td>\n",
              "      <td>118.0</td>\n",
              "      <td>[{'iso_639_1': 'ko', 'name': '한국어/조선말'}]</td>\n",
              "      <td>Released</td>\n",
              "      <td>NaN</td>\n",
              "      <td>Marine Boy</td>\n",
              "      <td>NaN</td>\n",
              "      <td>[{'cast_id': 3, 'character': 'Chun-soo', 'cred...</td>\n",
              "      <td>[{'credit_id': '52fe464b9251416c75073b43', 'de...</td>\n",
              "      <td>3923970</td>\n",
              "    </tr>\n",
              "  </tbody>\n",
              "</table>\n",
              "<p>5 rows × 23 columns</p>\n",
              "</div>\n",
              "      <button class=\"colab-df-convert\" onclick=\"convertToInteractive('df-75c64eb4-142b-4e11-a00e-f0cfbc541daa')\"\n",
              "              title=\"Convert this dataframe to an interactive table.\"\n",
              "              style=\"display:none;\">\n",
              "        \n",
              "  <svg xmlns=\"http://www.w3.org/2000/svg\" height=\"24px\"viewBox=\"0 0 24 24\"\n",
              "       width=\"24px\">\n",
              "    <path d=\"M0 0h24v24H0V0z\" fill=\"none\"/>\n",
              "    <path d=\"M18.56 5.44l.94 2.06.94-2.06 2.06-.94-2.06-.94-.94-2.06-.94 2.06-2.06.94zm-11 1L8.5 8.5l.94-2.06 2.06-.94-2.06-.94L8.5 2.5l-.94 2.06-2.06.94zm10 10l.94 2.06.94-2.06 2.06-.94-2.06-.94-.94-2.06-.94 2.06-2.06.94z\"/><path d=\"M17.41 7.96l-1.37-1.37c-.4-.4-.92-.59-1.43-.59-.52 0-1.04.2-1.43.59L10.3 9.45l-7.72 7.72c-.78.78-.78 2.05 0 2.83L4 21.41c.39.39.9.59 1.41.59.51 0 1.02-.2 1.41-.59l7.78-7.78 2.81-2.81c.8-.78.8-2.07 0-2.86zM5.41 20L4 18.59l7.72-7.72 1.47 1.35L5.41 20z\"/>\n",
              "  </svg>\n",
              "      </button>\n",
              "      \n",
              "  <style>\n",
              "    .colab-df-container {\n",
              "      display:flex;\n",
              "      flex-wrap:wrap;\n",
              "      gap: 12px;\n",
              "    }\n",
              "\n",
              "    .colab-df-convert {\n",
              "      background-color: #E8F0FE;\n",
              "      border: none;\n",
              "      border-radius: 50%;\n",
              "      cursor: pointer;\n",
              "      display: none;\n",
              "      fill: #1967D2;\n",
              "      height: 32px;\n",
              "      padding: 0 0 0 0;\n",
              "      width: 32px;\n",
              "    }\n",
              "\n",
              "    .colab-df-convert:hover {\n",
              "      background-color: #E2EBFA;\n",
              "      box-shadow: 0px 1px 2px rgba(60, 64, 67, 0.3), 0px 1px 3px 1px rgba(60, 64, 67, 0.15);\n",
              "      fill: #174EA6;\n",
              "    }\n",
              "\n",
              "    [theme=dark] .colab-df-convert {\n",
              "      background-color: #3B4455;\n",
              "      fill: #D2E3FC;\n",
              "    }\n",
              "\n",
              "    [theme=dark] .colab-df-convert:hover {\n",
              "      background-color: #434B5C;\n",
              "      box-shadow: 0px 1px 3px 1px rgba(0, 0, 0, 0.15);\n",
              "      filter: drop-shadow(0px 1px 2px rgba(0, 0, 0, 0.3));\n",
              "      fill: #FFFFFF;\n",
              "    }\n",
              "  </style>\n",
              "\n",
              "      <script>\n",
              "        const buttonEl =\n",
              "          document.querySelector('#df-75c64eb4-142b-4e11-a00e-f0cfbc541daa button.colab-df-convert');\n",
              "        buttonEl.style.display =\n",
              "          google.colab.kernel.accessAllowed ? 'block' : 'none';\n",
              "\n",
              "        async function convertToInteractive(key) {\n",
              "          const element = document.querySelector('#df-75c64eb4-142b-4e11-a00e-f0cfbc541daa');\n",
              "          const dataTable =\n",
              "            await google.colab.kernel.invokeFunction('convertToInteractive',\n",
              "                                                     [key], {});\n",
              "          if (!dataTable) return;\n",
              "\n",
              "          const docLinkHtml = 'Like what you see? Visit the ' +\n",
              "            '<a target=\"_blank\" href=https://colab.research.google.com/notebooks/data_table.ipynb>data table notebook</a>'\n",
              "            + ' to learn more about interactive tables.';\n",
              "          element.innerHTML = '';\n",
              "          dataTable['output_type'] = 'display_data';\n",
              "          await google.colab.output.renderOutput(dataTable, element);\n",
              "          const docLink = document.createElement('div');\n",
              "          docLink.innerHTML = docLinkHtml;\n",
              "          element.appendChild(docLink);\n",
              "        }\n",
              "      </script>\n",
              "    </div>\n",
              "  </div>\n",
              "  "
            ],
            "text/plain": [
              "   id                              belongs_to_collection    budget  \\\n",
              "0   1  [{'id': 313576, 'name': 'Hot Tub Time Machine ...  14000000   \n",
              "1   2  [{'id': 107674, 'name': 'The Princess Diaries ...  40000000   \n",
              "2   3                                                NaN   3300000   \n",
              "3   4                                                NaN   1200000   \n",
              "4   5                                                NaN         0   \n",
              "\n",
              "                                              genres  \\\n",
              "0                     [{'id': 35, 'name': 'Comedy'}]   \n",
              "1  [{'id': 35, 'name': 'Comedy'}, {'id': 18, 'nam...   \n",
              "2                      [{'id': 18, 'name': 'Drama'}]   \n",
              "3  [{'id': 53, 'name': 'Thriller'}, {'id': 18, 'n...   \n",
              "4  [{'id': 28, 'name': 'Action'}, {'id': 53, 'nam...   \n",
              "\n",
              "                            homepage    imdb_id original_language  \\\n",
              "0                                NaN  tt2637294                en   \n",
              "1                                NaN  tt0368933                en   \n",
              "2  http://sonyclassics.com/whiplash/  tt2582802                en   \n",
              "3         http://kahaanithefilm.com/  tt1821480                hi   \n",
              "4                                NaN  tt1380152                ko   \n",
              "\n",
              "                             original_title  \\\n",
              "0                    Hot Tub Time Machine 2   \n",
              "1  The Princess Diaries 2: Royal Engagement   \n",
              "2                                  Whiplash   \n",
              "3                                   Kahaani   \n",
              "4                                      마린보이   \n",
              "\n",
              "                                            overview  popularity  ...  \\\n",
              "0  When Lou, who has become the \"father of the In...    6.575393  ...   \n",
              "1  Mia Thermopolis is now a college graduate and ...    8.248895  ...   \n",
              "2  Under the direction of a ruthless instructor, ...   64.299990  ...   \n",
              "3  Vidya Bagchi (Vidya Balan) arrives in Kolkata ...    3.174936  ...   \n",
              "4  Marine Boy is the story of a former national s...    1.148070  ...   \n",
              "\n",
              "  release_date runtime                                   spoken_languages  \\\n",
              "0      2/20/15    93.0           [{'iso_639_1': 'en', 'name': 'English'}]   \n",
              "1       8/6/04   113.0           [{'iso_639_1': 'en', 'name': 'English'}]   \n",
              "2     10/10/14   105.0           [{'iso_639_1': 'en', 'name': 'English'}]   \n",
              "3       3/9/12   122.0  [{'iso_639_1': 'en', 'name': 'English'}, {'iso...   \n",
              "4       2/5/09   118.0           [{'iso_639_1': 'ko', 'name': '한국어/조선말'}]   \n",
              "\n",
              "     status                                            tagline  \\\n",
              "0  Released  The Laws of Space and Time are About to be Vio...   \n",
              "1  Released  It can take a lifetime to find true love; she'...   \n",
              "2  Released    The road to greatness can take you to the edge.   \n",
              "3  Released                                                NaN   \n",
              "4  Released                                                NaN   \n",
              "\n",
              "                                      title  \\\n",
              "0                    Hot Tub Time Machine 2   \n",
              "1  The Princess Diaries 2: Royal Engagement   \n",
              "2                                  Whiplash   \n",
              "3                                   Kahaani   \n",
              "4                                Marine Boy   \n",
              "\n",
              "                                            Keywords  \\\n",
              "0  [{'id': 4379, 'name': 'time travel'}, {'id': 9...   \n",
              "1  [{'id': 2505, 'name': 'coronation'}, {'id': 42...   \n",
              "2  [{'id': 1416, 'name': 'jazz'}, {'id': 1523, 'n...   \n",
              "3  [{'id': 10092, 'name': 'mystery'}, {'id': 1054...   \n",
              "4                                                NaN   \n",
              "\n",
              "                                                cast  \\\n",
              "0  [{'cast_id': 4, 'character': 'Lou', 'credit_id...   \n",
              "1  [{'cast_id': 1, 'character': 'Mia Thermopolis'...   \n",
              "2  [{'cast_id': 5, 'character': 'Andrew Neimann',...   \n",
              "3  [{'cast_id': 1, 'character': 'Vidya Bagchi', '...   \n",
              "4  [{'cast_id': 3, 'character': 'Chun-soo', 'cred...   \n",
              "\n",
              "                                                crew   revenue  \n",
              "0  [{'credit_id': '59ac067c92514107af02c8c8', 'de...  12314651  \n",
              "1  [{'credit_id': '52fe43fe9251416c7502563d', 'de...  95149435  \n",
              "2  [{'credit_id': '54d5356ec3a3683ba0000039', 'de...  13092000  \n",
              "3  [{'credit_id': '52fe48779251416c9108d6eb', 'de...  16000000  \n",
              "4  [{'credit_id': '52fe464b9251416c75073b43', 'de...   3923970  \n",
              "\n",
              "[5 rows x 23 columns]"
            ]
          },
          "metadata": {},
          "execution_count": 558
        }
      ]
    },
    {
      "cell_type": "markdown",
      "source": [
        "## Analisando e limpando os dados"
      ],
      "metadata": {
        "id": "y3o03tr91VY_"
      }
    },
    {
      "cell_type": "markdown",
      "source": [
        "Analisando o formato dos dados"
      ],
      "metadata": {
        "id": "rw5y70gTGVI_"
      }
    },
    {
      "cell_type": "code",
      "source": [
        "treino.shape, teste.shape"
      ],
      "metadata": {
        "colab": {
          "base_uri": "https://localhost:8080/"
        },
        "id": "k-IrSVD1-Y5l",
        "outputId": "c0c09385-858b-4fa6-ddb9-027ea5e60987"
      },
      "execution_count": 559,
      "outputs": [
        {
          "output_type": "execute_result",
          "data": {
            "text/plain": [
              "((3000, 23), (4398, 22))"
            ]
          },
          "metadata": {},
          "execution_count": 559
        }
      ]
    },
    {
      "cell_type": "markdown",
      "source": [
        "Analisando os nomes das colunas do dataframe"
      ],
      "metadata": {
        "id": "Au6DRm-JGZcj"
      }
    },
    {
      "cell_type": "code",
      "source": [
        "list(treino.columns)"
      ],
      "metadata": {
        "colab": {
          "base_uri": "https://localhost:8080/"
        },
        "id": "jp44Yt8CeJv8",
        "outputId": "289e2f60-e5bd-4ccc-989d-d89576fe86f4"
      },
      "execution_count": 560,
      "outputs": [
        {
          "output_type": "execute_result",
          "data": {
            "text/plain": [
              "['id',\n",
              " 'belongs_to_collection',\n",
              " 'budget',\n",
              " 'genres',\n",
              " 'homepage',\n",
              " 'imdb_id',\n",
              " 'original_language',\n",
              " 'original_title',\n",
              " 'overview',\n",
              " 'popularity',\n",
              " 'poster_path',\n",
              " 'production_companies',\n",
              " 'production_countries',\n",
              " 'release_date',\n",
              " 'runtime',\n",
              " 'spoken_languages',\n",
              " 'status',\n",
              " 'tagline',\n",
              " 'title',\n",
              " 'Keywords',\n",
              " 'cast',\n",
              " 'crew',\n",
              " 'revenue']"
            ]
          },
          "metadata": {},
          "execution_count": 560
        }
      ]
    },
    {
      "cell_type": "markdown",
      "source": [
        "Analisando os tipos de dados"
      ],
      "metadata": {
        "id": "EhDGWqsqGshI"
      }
    },
    {
      "cell_type": "code",
      "source": [
        "treino.dtypes"
      ],
      "metadata": {
        "colab": {
          "base_uri": "https://localhost:8080/"
        },
        "id": "0ybitQBIkfu0",
        "outputId": "dc91413e-d5fd-44e4-b6c0-d4d83c8ad778"
      },
      "execution_count": 561,
      "outputs": [
        {
          "output_type": "execute_result",
          "data": {
            "text/plain": [
              "id                         int64\n",
              "belongs_to_collection     object\n",
              "budget                     int64\n",
              "genres                    object\n",
              "homepage                  object\n",
              "imdb_id                   object\n",
              "original_language         object\n",
              "original_title            object\n",
              "overview                  object\n",
              "popularity               float64\n",
              "poster_path               object\n",
              "production_companies      object\n",
              "production_countries      object\n",
              "release_date              object\n",
              "runtime                  float64\n",
              "spoken_languages          object\n",
              "status                    object\n",
              "tagline                   object\n",
              "title                     object\n",
              "Keywords                  object\n",
              "cast                      object\n",
              "crew                      object\n",
              "revenue                    int64\n",
              "dtype: object"
            ]
          },
          "metadata": {},
          "execution_count": 561
        }
      ]
    },
    {
      "cell_type": "markdown",
      "source": [
        "Alisando se há algum valor nulo"
      ],
      "metadata": {
        "id": "gDS9wqv8Gvtu"
      }
    },
    {
      "cell_type": "code",
      "source": [
        "treino.isna().any()"
      ],
      "metadata": {
        "colab": {
          "base_uri": "https://localhost:8080/"
        },
        "id": "G2DQe516mmJ7",
        "outputId": "68f8806e-f42c-465a-a462-5ed8ac81158f"
      },
      "execution_count": 562,
      "outputs": [
        {
          "output_type": "execute_result",
          "data": {
            "text/plain": [
              "id                       False\n",
              "belongs_to_collection     True\n",
              "budget                   False\n",
              "genres                    True\n",
              "homepage                  True\n",
              "imdb_id                  False\n",
              "original_language        False\n",
              "original_title           False\n",
              "overview                  True\n",
              "popularity               False\n",
              "poster_path               True\n",
              "production_companies      True\n",
              "production_countries      True\n",
              "release_date             False\n",
              "runtime                   True\n",
              "spoken_languages          True\n",
              "status                   False\n",
              "tagline                   True\n",
              "title                    False\n",
              "Keywords                  True\n",
              "cast                      True\n",
              "crew                      True\n",
              "revenue                  False\n",
              "dtype: bool"
            ]
          },
          "metadata": {},
          "execution_count": 562
        }
      ]
    },
    {
      "cell_type": "markdown",
      "source": [
        "Analisando a quantidade de dados nulos"
      ],
      "metadata": {
        "id": "k_F4RXnIG1is"
      }
    },
    {
      "cell_type": "code",
      "source": [
        "treino.isna().sum()"
      ],
      "metadata": {
        "colab": {
          "base_uri": "https://localhost:8080/"
        },
        "id": "ZnJLf5HknPgr",
        "outputId": "b144ead1-b97c-4f93-813f-1ebdf56f1c77"
      },
      "execution_count": 563,
      "outputs": [
        {
          "output_type": "execute_result",
          "data": {
            "text/plain": [
              "id                          0\n",
              "belongs_to_collection    2396\n",
              "budget                      0\n",
              "genres                      7\n",
              "homepage                 2054\n",
              "imdb_id                     0\n",
              "original_language           0\n",
              "original_title              0\n",
              "overview                    8\n",
              "popularity                  0\n",
              "poster_path                 1\n",
              "production_companies      156\n",
              "production_countries       55\n",
              "release_date                0\n",
              "runtime                     2\n",
              "spoken_languages           20\n",
              "status                      0\n",
              "tagline                   597\n",
              "title                       0\n",
              "Keywords                  276\n",
              "cast                       13\n",
              "crew                       16\n",
              "revenue                     0\n",
              "dtype: int64"
            ]
          },
          "metadata": {},
          "execution_count": 563
        }
      ]
    },
    {
      "cell_type": "markdown",
      "source": [
        "Conferindo se hé dados duplicado"
      ],
      "metadata": {
        "id": "QOXdyHhyG4a8"
      }
    },
    {
      "cell_type": "code",
      "source": [
        "treino.duplicated().sum()"
      ],
      "metadata": {
        "colab": {
          "base_uri": "https://localhost:8080/"
        },
        "id": "Hxiof-ghtbi_",
        "outputId": "b2cf56ad-b0b3-42cf-88e8-59f7dcacebe3"
      },
      "execution_count": 564,
      "outputs": [
        {
          "output_type": "execute_result",
          "data": {
            "text/plain": [
              "0"
            ]
          },
          "metadata": {},
          "execution_count": 564
        }
      ]
    },
    {
      "cell_type": "code",
      "source": [
        "#excluir belongs_to_collection, tagline, Keyword, crew"
      ],
      "metadata": {
        "id": "pifhcuiwK9LJ"
      },
      "execution_count": 565,
      "outputs": []
    },
    {
      "cell_type": "markdown",
      "source": [
        "Retirando algumas linhas com dados faltantes\n",
        " \n",
        "(*Essas colunas foram escolhidas por terem número de dados nulos pouco relevantes para que influenciassem na análise*)\n",
        " \n"
      ],
      "metadata": {
        "id": "4NQFFwNiG6bl"
      }
    },
    {
      "cell_type": "code",
      "source": [
        "treino.dropna(axis=0, subset=['genres', 'overview','poster_path','production_countries', 'runtime','spoken_languages', 'cast', 'crew'],inplace = True)"
      ],
      "metadata": {
        "id": "xrJ5GL7hecv8"
      },
      "execution_count": 566,
      "outputs": []
    },
    {
      "cell_type": "markdown",
      "source": [
        "###Conferindo as mudanças"
      ],
      "metadata": {
        "id": "JB6oHwTdHD3o"
      }
    },
    {
      "cell_type": "code",
      "source": [
        "treino.shape"
      ],
      "metadata": {
        "colab": {
          "base_uri": "https://localhost:8080/"
        },
        "id": "FdLZIS6yHp3Z",
        "outputId": "dfe20416-b8e6-49ba-8231-2a0c9e2b6436"
      },
      "execution_count": 567,
      "outputs": [
        {
          "output_type": "execute_result",
          "data": {
            "text/plain": [
              "(2911, 23)"
            ]
          },
          "metadata": {},
          "execution_count": 567
        }
      ]
    },
    {
      "cell_type": "markdown",
      "source": [
        "### Certificando e retirando dados por coluna"
      ],
      "metadata": {
        "id": "Gl4CwnZEPn6M"
      }
    },
    {
      "cell_type": "markdown",
      "source": [
        "Conferindo o que havia na coluna de pertencente a coleção:"
      ],
      "metadata": {
        "id": "HqMKChngTyoN"
      }
    },
    {
      "cell_type": "code",
      "source": [
        "treino['belongs_to_collection'].value_counts()"
      ],
      "metadata": {
        "colab": {
          "base_uri": "https://localhost:8080/"
        },
        "id": "wOnnuAhfQskt",
        "outputId": "a78bb04d-f4dc-4bc5-843e-a5b56790562f"
      },
      "execution_count": 568,
      "outputs": [
        {
          "output_type": "execute_result",
          "data": {
            "text/plain": [
              "[{'id': 645, 'name': 'James Bond Collection', 'poster_path': '/HORpg5CSkmeQlAolx3bKMrKgfi.jpg', 'backdrop_path': '/6VcVl48kNKvdXOZfJPdarlUGOsk.jpg'}]                      16\n",
              "[{'id': 9735, 'name': 'Friday the 13th Collection', 'poster_path': '/uobgqpLQff9WvxGKE2OSvXv1RHm.jpg', 'backdrop_path': '/c7pMKwv5NzIN6N3KM4L8fYMTtPw.jpg'}]                7\n",
              "[{'id': 937, 'name': 'The Pink Panther (Original) Collection', 'poster_path': '/xu6gZ0zGUSR8SC2QLKFaUrX2niM.jpg', 'backdrop_path': '/6KE7AguGR3UqwUn5RkzkoBc3MLy.jpg'}]     6\n",
              "[{'id': 9338, 'name': 'Police Academy Collection', 'poster_path': '/1VRdXVy2FYlX4EtllnLKWK6kYDJ.jpg', 'backdrop_path': '/RhpI828r9EKPV4x0pyHiqCDZDQ.jpg'}]                  5\n",
              "[{'id': 34055, 'name': 'Pokémon Collection', 'poster_path': '/j5te0YNZAMXDBnsqTUDKIBEt8iu.jpg', 'backdrop_path': '/iGoYKA0TFfgSoZpG2u5viTJMGfK.jpg'}]                       5\n",
              "                                                                                                                                                                           ..\n",
              "[{'id': 241729, 'name': 'Alpha and Omega Collection', 'poster_path': '/mAY1IkH0IoaETKlPu7t7Qj0agbp.jpg', 'backdrop_path': '/234TMV6vkkQZgYMJ2fOc1Gx1QeK.jpg'}]              1\n",
              "[{'id': 14890, 'name': 'Bad Boys Collection', 'poster_path': '/tSVbihfvVTCbcm0zXKA7L8R6Y9v.jpg', 'backdrop_path': '/yUvBiiC77UY6SyKhfFyLj7DNbfh.jpg'}]                      1\n",
              "[{'id': 344555, 'name': 'F*ck You, Goethe Collection', 'poster_path': '/3jH6BgPTXxkBx7N35aTaATzlaG.jpg', 'backdrop_path': '/AtoH8LJQ2sFXfV4gSxxe39XSdzZ.jpg'}]              1\n",
              "[{'id': 91427, 'name': 'Agent Cody Banks Collection', 'poster_path': '/nQZ1TuxTEFrZLEU02kTTeKogFbX.jpg', 'backdrop_path': '/gh0OZpG16E5LtTAkCRkr5j0v1Fh.jpg'}]              1\n",
              "[{'id': 107469, 'name': 'Save The Last Dance Collection', 'poster_path': '/jAByXoHn29RlCjIrOa3k1jl60DB.jpg', 'backdrop_path': None}]                                        1\n",
              "Name: belongs_to_collection, Length: 416, dtype: int64"
            ]
          },
          "metadata": {},
          "execution_count": 568
        }
      ]
    },
    {
      "cell_type": "markdown",
      "source": [
        "Como era uma categorização por coleção precisaria de um estudo mais aprofundado para que tal coluna fosse relevante. Além de se ter muitos dados faltantes.\n"
      ],
      "metadata": {
        "id": "r2hhwuF7UOwd"
      }
    },
    {
      "cell_type": "code",
      "source": [
        "treino.drop('belongs_to_collection', axis=1, inplace=True)"
      ],
      "metadata": {
        "id": "eqU09XuyU30k"
      },
      "execution_count": 569,
      "outputs": []
    },
    {
      "cell_type": "markdown",
      "source": [
        "Conferindo o que havia na coluna de orçamento em ordem descrescente"
      ],
      "metadata": {
        "id": "Fg0pkJ4YQfJo"
      }
    },
    {
      "cell_type": "code",
      "source": [
        "treino.sort_values(by='budget',ascending=False)"
      ],
      "metadata": {
        "colab": {
          "base_uri": "https://localhost:8080/",
          "height": 1000
        },
        "id": "x65GqIyGQQNZ",
        "outputId": "967c8385-422d-47eb-ec62-a344e2d84031"
      },
      "execution_count": 570,
      "outputs": [
        {
          "output_type": "execute_result",
          "data": {
            "text/html": [
              "\n",
              "  <div id=\"df-7e883acf-f98f-43b5-bab7-2a7ec8378755\">\n",
              "    <div class=\"colab-df-container\">\n",
              "      <div>\n",
              "<style scoped>\n",
              "    .dataframe tbody tr th:only-of-type {\n",
              "        vertical-align: middle;\n",
              "    }\n",
              "\n",
              "    .dataframe tbody tr th {\n",
              "        vertical-align: top;\n",
              "    }\n",
              "\n",
              "    .dataframe thead th {\n",
              "        text-align: right;\n",
              "    }\n",
              "</style>\n",
              "<table border=\"1\" class=\"dataframe\">\n",
              "  <thead>\n",
              "    <tr style=\"text-align: right;\">\n",
              "      <th></th>\n",
              "      <th>id</th>\n",
              "      <th>budget</th>\n",
              "      <th>genres</th>\n",
              "      <th>homepage</th>\n",
              "      <th>imdb_id</th>\n",
              "      <th>original_language</th>\n",
              "      <th>original_title</th>\n",
              "      <th>overview</th>\n",
              "      <th>popularity</th>\n",
              "      <th>poster_path</th>\n",
              "      <th>...</th>\n",
              "      <th>release_date</th>\n",
              "      <th>runtime</th>\n",
              "      <th>spoken_languages</th>\n",
              "      <th>status</th>\n",
              "      <th>tagline</th>\n",
              "      <th>title</th>\n",
              "      <th>Keywords</th>\n",
              "      <th>cast</th>\n",
              "      <th>crew</th>\n",
              "      <th>revenue</th>\n",
              "    </tr>\n",
              "  </thead>\n",
              "  <tbody>\n",
              "    <tr>\n",
              "      <th>2135</th>\n",
              "      <td>2136</td>\n",
              "      <td>380000000</td>\n",
              "      <td>[{'id': 12, 'name': 'Adventure'}, {'id': 28, '...</td>\n",
              "      <td>http://disney.go.com/pirates/index-on-stranger...</td>\n",
              "      <td>tt1298650</td>\n",
              "      <td>en</td>\n",
              "      <td>Pirates of the Caribbean: On Stranger Tides</td>\n",
              "      <td>Captain Jack Sparrow crosses paths with a woma...</td>\n",
              "      <td>27.887720</td>\n",
              "      <td>/wNUDAq5OUMOtxMlz64YaCp7gZma.jpg</td>\n",
              "      <td>...</td>\n",
              "      <td>5/14/11</td>\n",
              "      <td>136.0</td>\n",
              "      <td>[{'iso_639_1': 'en', 'name': 'English'}, {'iso...</td>\n",
              "      <td>Released</td>\n",
              "      <td>Live Forever Or Die Trying.</td>\n",
              "      <td>Pirates of the Caribbean: On Stranger Tides</td>\n",
              "      <td>[{'id': 658, 'name': 'sea'}, {'id': 1316, 'nam...</td>\n",
              "      <td>[{'cast_id': 15, 'character': 'Captain Jack Sp...</td>\n",
              "      <td>[{'credit_id': '566b4f54c3a3683f56005151', 'de...</td>\n",
              "      <td>1045713802</td>\n",
              "    </tr>\n",
              "    <tr>\n",
              "      <th>2209</th>\n",
              "      <td>2210</td>\n",
              "      <td>300000000</td>\n",
              "      <td>[{'id': 12, 'name': 'Adventure'}, {'id': 14, '...</td>\n",
              "      <td>http://disney.go.com/disneypictures/pirates/</td>\n",
              "      <td>tt0449088</td>\n",
              "      <td>en</td>\n",
              "      <td>Pirates of the Caribbean: At World's End</td>\n",
              "      <td>Captain Barbossa, long believed to be dead, ha...</td>\n",
              "      <td>31.363664</td>\n",
              "      <td>/bXb00CkHqx7TPchTGG131sWV59y.jpg</td>\n",
              "      <td>...</td>\n",
              "      <td>5/19/07</td>\n",
              "      <td>169.0</td>\n",
              "      <td>[{'iso_639_1': 'en', 'name': 'English'}]</td>\n",
              "      <td>Released</td>\n",
              "      <td>At the end of the world, the adventure begins.</td>\n",
              "      <td>Pirates of the Caribbean: At World's End</td>\n",
              "      <td>[{'id': 270, 'name': 'ocean'}, {'id': 726, 'na...</td>\n",
              "      <td>[{'cast_id': 4, 'character': 'Captain Jack Spa...</td>\n",
              "      <td>[{'credit_id': '52fe4232c3a36847f800b579', 'de...</td>\n",
              "      <td>961000000</td>\n",
              "    </tr>\n",
              "    <tr>\n",
              "      <th>2770</th>\n",
              "      <td>2771</td>\n",
              "      <td>280000000</td>\n",
              "      <td>[{'id': 28, 'name': 'Action'}, {'id': 12, 'nam...</td>\n",
              "      <td>http://marvel.com/movies/movie/193/avengers_ag...</td>\n",
              "      <td>tt2395427</td>\n",
              "      <td>en</td>\n",
              "      <td>Avengers: Age of Ultron</td>\n",
              "      <td>When Tony Stark tries to jumpstart a dormant p...</td>\n",
              "      <td>37.379420</td>\n",
              "      <td>/t90Y3G8UGQp0f0DrP60wRu9gfrH.jpg</td>\n",
              "      <td>...</td>\n",
              "      <td>4/22/15</td>\n",
              "      <td>141.0</td>\n",
              "      <td>[{'iso_639_1': 'en', 'name': 'English'}]</td>\n",
              "      <td>Released</td>\n",
              "      <td>A New Age Has Come.</td>\n",
              "      <td>Avengers: Age of Ultron</td>\n",
              "      <td>[{'id': 8828, 'name': 'marvel comic'}, {'id': ...</td>\n",
              "      <td>[{'cast_id': 76, 'character': 'Tony Stark / Ir...</td>\n",
              "      <td>[{'credit_id': '55d5f7d4c3a3683e7e0016eb', 'de...</td>\n",
              "      <td>1405403694</td>\n",
              "    </tr>\n",
              "    <tr>\n",
              "      <th>1425</th>\n",
              "      <td>1426</td>\n",
              "      <td>270000000</td>\n",
              "      <td>[{'id': 12, 'name': 'Adventure'}, {'id': 14, '...</td>\n",
              "      <td>http://www.superman.com</td>\n",
              "      <td>tt0348150</td>\n",
              "      <td>en</td>\n",
              "      <td>Superman Returns</td>\n",
              "      <td>Superman returns to discover his 5-year absenc...</td>\n",
              "      <td>13.284712</td>\n",
              "      <td>/e3aLTaD5ppxo3en0GAGceekEPAe.jpg</td>\n",
              "      <td>...</td>\n",
              "      <td>6/28/06</td>\n",
              "      <td>154.0</td>\n",
              "      <td>[{'iso_639_1': 'en', 'name': 'English'}, {'iso...</td>\n",
              "      <td>Released</td>\n",
              "      <td>NaN</td>\n",
              "      <td>Superman Returns</td>\n",
              "      <td>[{'id': 83, 'name': 'saving the world'}, {'id'...</td>\n",
              "      <td>[{'cast_id': 3, 'character': 'Superman / Clark...</td>\n",
              "      <td>[{'credit_id': '553bef6a9251416874003c8f', 'de...</td>\n",
              "      <td>391081192</td>\n",
              "    </tr>\n",
              "    <tr>\n",
              "      <th>1270</th>\n",
              "      <td>1271</td>\n",
              "      <td>260000000</td>\n",
              "      <td>[{'id': 28, 'name': 'Action'}, {'id': 12, 'nam...</td>\n",
              "      <td>http://movies.disney.com/john-carter</td>\n",
              "      <td>tt0401729</td>\n",
              "      <td>en</td>\n",
              "      <td>John Carter</td>\n",
              "      <td>John Carter is a war-weary, former military ca...</td>\n",
              "      <td>14.670353</td>\n",
              "      <td>/4QDBNt9PmxqUH4Ab2R5xKWqzXiQ.jpg</td>\n",
              "      <td>...</td>\n",
              "      <td>3/7/12</td>\n",
              "      <td>132.0</td>\n",
              "      <td>[{'iso_639_1': 'en', 'name': 'English'}]</td>\n",
              "      <td>Released</td>\n",
              "      <td>Lost in our world, found in another.</td>\n",
              "      <td>John Carter</td>\n",
              "      <td>[{'id': 818, 'name': 'based on novel'}, {'id':...</td>\n",
              "      <td>[{'cast_id': 5, 'character': 'John Carter', 'c...</td>\n",
              "      <td>[{'credit_id': '52fe479ac3a36847f813eaa3', 'de...</td>\n",
              "      <td>284139100</td>\n",
              "    </tr>\n",
              "    <tr>\n",
              "      <th>...</th>\n",
              "      <td>...</td>\n",
              "      <td>...</td>\n",
              "      <td>...</td>\n",
              "      <td>...</td>\n",
              "      <td>...</td>\n",
              "      <td>...</td>\n",
              "      <td>...</td>\n",
              "      <td>...</td>\n",
              "      <td>...</td>\n",
              "      <td>...</td>\n",
              "      <td>...</td>\n",
              "      <td>...</td>\n",
              "      <td>...</td>\n",
              "      <td>...</td>\n",
              "      <td>...</td>\n",
              "      <td>...</td>\n",
              "      <td>...</td>\n",
              "      <td>...</td>\n",
              "      <td>...</td>\n",
              "      <td>...</td>\n",
              "      <td>...</td>\n",
              "    </tr>\n",
              "    <tr>\n",
              "      <th>1853</th>\n",
              "      <td>1854</td>\n",
              "      <td>0</td>\n",
              "      <td>[{'id': 35, 'name': 'Comedy'}]</td>\n",
              "      <td>NaN</td>\n",
              "      <td>tt0092948</td>\n",
              "      <td>en</td>\n",
              "      <td>Eddie Murphy Raw</td>\n",
              "      <td>Eddie Murphy delights, shocks and entertains w...</td>\n",
              "      <td>11.266569</td>\n",
              "      <td>/6hLlDbhxkjqDlTWklYXERDYX7SL.jpg</td>\n",
              "      <td>...</td>\n",
              "      <td>11/25/87</td>\n",
              "      <td>90.0</td>\n",
              "      <td>[{'iso_639_1': 'en', 'name': 'English'}]</td>\n",
              "      <td>Released</td>\n",
              "      <td>Shock has its value.</td>\n",
              "      <td>Eddie Murphy Raw</td>\n",
              "      <td>[{'id': 9716, 'name': 'stand-up comedy'}, {'id...</td>\n",
              "      <td>[{'cast_id': 2, 'character': 'Himself', 'credi...</td>\n",
              "      <td>[{'credit_id': '52fe470a9251416c7508bf65', 'de...</td>\n",
              "      <td>50504655</td>\n",
              "    </tr>\n",
              "    <tr>\n",
              "      <th>386</th>\n",
              "      <td>387</td>\n",
              "      <td>0</td>\n",
              "      <td>[{'id': 18, 'name': 'Drama'}]</td>\n",
              "      <td>NaN</td>\n",
              "      <td>tt1322264</td>\n",
              "      <td>en</td>\n",
              "      <td>The Dry Land</td>\n",
              "      <td>A U.S. soldier returning home from war struggl...</td>\n",
              "      <td>0.118135</td>\n",
              "      <td>/hI9OEVzKuPDiMb5LRuQQBm683XA.jpg</td>\n",
              "      <td>...</td>\n",
              "      <td>7/30/10</td>\n",
              "      <td>92.0</td>\n",
              "      <td>[{'iso_639_1': 'en', 'name': 'English'}, {'iso...</td>\n",
              "      <td>Released</td>\n",
              "      <td>NaN</td>\n",
              "      <td>The Dry Land</td>\n",
              "      <td>[{'id': 10183, 'name': 'independent film'}, {'...</td>\n",
              "      <td>[{'cast_id': 2, 'character': 'Sarah', 'credit_...</td>\n",
              "      <td>[{'credit_id': '52fe46a9c3a36847f810b2eb', 'de...</td>\n",
              "      <td>12000</td>\n",
              "    </tr>\n",
              "    <tr>\n",
              "      <th>2463</th>\n",
              "      <td>2464</td>\n",
              "      <td>0</td>\n",
              "      <td>[{'id': 18, 'name': 'Drama'}]</td>\n",
              "      <td>NaN</td>\n",
              "      <td>tt4428814</td>\n",
              "      <td>fr</td>\n",
              "      <td>La Loi du marché</td>\n",
              "      <td>At the age of 51 and after 20 months on unempl...</td>\n",
              "      <td>4.778045</td>\n",
              "      <td>/4iBgmuRFwI6r73EZnCgjABHGwEU.jpg</td>\n",
              "      <td>...</td>\n",
              "      <td>3/16/15</td>\n",
              "      <td>93.0</td>\n",
              "      <td>[{'iso_639_1': 'fr', 'name': 'Français'}]</td>\n",
              "      <td>Released</td>\n",
              "      <td>NaN</td>\n",
              "      <td>The Measure of a Man</td>\n",
              "      <td>[{'id': 156052, 'name': 'unemployment'}]</td>\n",
              "      <td>[{'cast_id': 1, 'character': 'Thierry Taugourd...</td>\n",
              "      <td>[{'credit_id': '553b87649251412c27001037', 'de...</td>\n",
              "      <td>106498</td>\n",
              "    </tr>\n",
              "    <tr>\n",
              "      <th>383</th>\n",
              "      <td>384</td>\n",
              "      <td>0</td>\n",
              "      <td>[{'id': 18, 'name': 'Drama'}, {'id': 10749, 'n...</td>\n",
              "      <td>NaN</td>\n",
              "      <td>tt1781769</td>\n",
              "      <td>en</td>\n",
              "      <td>Anna Karenina</td>\n",
              "      <td>Trapped in a loveless marriage, aristocrat Ann...</td>\n",
              "      <td>8.543311</td>\n",
              "      <td>/vueoajubjMMmDpcLOZnrU9wW95E.jpg</td>\n",
              "      <td>...</td>\n",
              "      <td>9/6/12</td>\n",
              "      <td>130.0</td>\n",
              "      <td>[{'iso_639_1': 'ru', 'name': 'Pусский'}, {'iso...</td>\n",
              "      <td>Released</td>\n",
              "      <td>An epic story of love.</td>\n",
              "      <td>Anna Karenina</td>\n",
              "      <td>[{'id': 818, 'name': 'based on novel'}, {'id':...</td>\n",
              "      <td>[{'cast_id': 4, 'character': 'Anna Karenina', ...</td>\n",
              "      <td>[{'credit_id': '52fe49bf9251416c750d218b', 'de...</td>\n",
              "      <td>68929150</td>\n",
              "    </tr>\n",
              "    <tr>\n",
              "      <th>1221</th>\n",
              "      <td>1222</td>\n",
              "      <td>0</td>\n",
              "      <td>[{'id': 28, 'name': 'Action'}, {'id': 12, 'nam...</td>\n",
              "      <td>NaN</td>\n",
              "      <td>tt0078056</td>\n",
              "      <td>en</td>\n",
              "      <td>Paradise Alley</td>\n",
              "      <td>Sylvester Stallone is fighting the odds again,...</td>\n",
              "      <td>5.634675</td>\n",
              "      <td>/lnkp93sG3UJQhdCuX0kgwPfuMky.jpg</td>\n",
              "      <td>...</td>\n",
              "      <td>9/22/78</td>\n",
              "      <td>107.0</td>\n",
              "      <td>[{'iso_639_1': 'en', 'name': 'English'}]</td>\n",
              "      <td>Released</td>\n",
              "      <td>The Carboni Boys. They haul ice, lay out stiff...</td>\n",
              "      <td>Paradise Alley</td>\n",
              "      <td>[{'id': 246, 'name': 'dancing'}, {'id': 380, '...</td>\n",
              "      <td>[{'cast_id': 1, 'character': 'Cosmo Carboni', ...</td>\n",
              "      <td>[{'credit_id': '554caa519251413faa001b3a', 'de...</td>\n",
              "      <td>7185518</td>\n",
              "    </tr>\n",
              "  </tbody>\n",
              "</table>\n",
              "<p>2911 rows × 22 columns</p>\n",
              "</div>\n",
              "      <button class=\"colab-df-convert\" onclick=\"convertToInteractive('df-7e883acf-f98f-43b5-bab7-2a7ec8378755')\"\n",
              "              title=\"Convert this dataframe to an interactive table.\"\n",
              "              style=\"display:none;\">\n",
              "        \n",
              "  <svg xmlns=\"http://www.w3.org/2000/svg\" height=\"24px\"viewBox=\"0 0 24 24\"\n",
              "       width=\"24px\">\n",
              "    <path d=\"M0 0h24v24H0V0z\" fill=\"none\"/>\n",
              "    <path d=\"M18.56 5.44l.94 2.06.94-2.06 2.06-.94-2.06-.94-.94-2.06-.94 2.06-2.06.94zm-11 1L8.5 8.5l.94-2.06 2.06-.94-2.06-.94L8.5 2.5l-.94 2.06-2.06.94zm10 10l.94 2.06.94-2.06 2.06-.94-2.06-.94-.94-2.06-.94 2.06-2.06.94z\"/><path d=\"M17.41 7.96l-1.37-1.37c-.4-.4-.92-.59-1.43-.59-.52 0-1.04.2-1.43.59L10.3 9.45l-7.72 7.72c-.78.78-.78 2.05 0 2.83L4 21.41c.39.39.9.59 1.41.59.51 0 1.02-.2 1.41-.59l7.78-7.78 2.81-2.81c.8-.78.8-2.07 0-2.86zM5.41 20L4 18.59l7.72-7.72 1.47 1.35L5.41 20z\"/>\n",
              "  </svg>\n",
              "      </button>\n",
              "      \n",
              "  <style>\n",
              "    .colab-df-container {\n",
              "      display:flex;\n",
              "      flex-wrap:wrap;\n",
              "      gap: 12px;\n",
              "    }\n",
              "\n",
              "    .colab-df-convert {\n",
              "      background-color: #E8F0FE;\n",
              "      border: none;\n",
              "      border-radius: 50%;\n",
              "      cursor: pointer;\n",
              "      display: none;\n",
              "      fill: #1967D2;\n",
              "      height: 32px;\n",
              "      padding: 0 0 0 0;\n",
              "      width: 32px;\n",
              "    }\n",
              "\n",
              "    .colab-df-convert:hover {\n",
              "      background-color: #E2EBFA;\n",
              "      box-shadow: 0px 1px 2px rgba(60, 64, 67, 0.3), 0px 1px 3px 1px rgba(60, 64, 67, 0.15);\n",
              "      fill: #174EA6;\n",
              "    }\n",
              "\n",
              "    [theme=dark] .colab-df-convert {\n",
              "      background-color: #3B4455;\n",
              "      fill: #D2E3FC;\n",
              "    }\n",
              "\n",
              "    [theme=dark] .colab-df-convert:hover {\n",
              "      background-color: #434B5C;\n",
              "      box-shadow: 0px 1px 3px 1px rgba(0, 0, 0, 0.15);\n",
              "      filter: drop-shadow(0px 1px 2px rgba(0, 0, 0, 0.3));\n",
              "      fill: #FFFFFF;\n",
              "    }\n",
              "  </style>\n",
              "\n",
              "      <script>\n",
              "        const buttonEl =\n",
              "          document.querySelector('#df-7e883acf-f98f-43b5-bab7-2a7ec8378755 button.colab-df-convert');\n",
              "        buttonEl.style.display =\n",
              "          google.colab.kernel.accessAllowed ? 'block' : 'none';\n",
              "\n",
              "        async function convertToInteractive(key) {\n",
              "          const element = document.querySelector('#df-7e883acf-f98f-43b5-bab7-2a7ec8378755');\n",
              "          const dataTable =\n",
              "            await google.colab.kernel.invokeFunction('convertToInteractive',\n",
              "                                                     [key], {});\n",
              "          if (!dataTable) return;\n",
              "\n",
              "          const docLinkHtml = 'Like what you see? Visit the ' +\n",
              "            '<a target=\"_blank\" href=https://colab.research.google.com/notebooks/data_table.ipynb>data table notebook</a>'\n",
              "            + ' to learn more about interactive tables.';\n",
              "          element.innerHTML = '';\n",
              "          dataTable['output_type'] = 'display_data';\n",
              "          await google.colab.output.renderOutput(dataTable, element);\n",
              "          const docLink = document.createElement('div');\n",
              "          docLink.innerHTML = docLinkHtml;\n",
              "          element.appendChild(docLink);\n",
              "        }\n",
              "      </script>\n",
              "    </div>\n",
              "  </div>\n",
              "  "
            ],
            "text/plain": [
              "        id     budget                                             genres  \\\n",
              "2135  2136  380000000  [{'id': 12, 'name': 'Adventure'}, {'id': 28, '...   \n",
              "2209  2210  300000000  [{'id': 12, 'name': 'Adventure'}, {'id': 14, '...   \n",
              "2770  2771  280000000  [{'id': 28, 'name': 'Action'}, {'id': 12, 'nam...   \n",
              "1425  1426  270000000  [{'id': 12, 'name': 'Adventure'}, {'id': 14, '...   \n",
              "1270  1271  260000000  [{'id': 28, 'name': 'Action'}, {'id': 12, 'nam...   \n",
              "...    ...        ...                                                ...   \n",
              "1853  1854          0                     [{'id': 35, 'name': 'Comedy'}]   \n",
              "386    387          0                      [{'id': 18, 'name': 'Drama'}]   \n",
              "2463  2464          0                      [{'id': 18, 'name': 'Drama'}]   \n",
              "383    384          0  [{'id': 18, 'name': 'Drama'}, {'id': 10749, 'n...   \n",
              "1221  1222          0  [{'id': 28, 'name': 'Action'}, {'id': 12, 'nam...   \n",
              "\n",
              "                                               homepage    imdb_id  \\\n",
              "2135  http://disney.go.com/pirates/index-on-stranger...  tt1298650   \n",
              "2209       http://disney.go.com/disneypictures/pirates/  tt0449088   \n",
              "2770  http://marvel.com/movies/movie/193/avengers_ag...  tt2395427   \n",
              "1425                            http://www.superman.com  tt0348150   \n",
              "1270               http://movies.disney.com/john-carter  tt0401729   \n",
              "...                                                 ...        ...   \n",
              "1853                                                NaN  tt0092948   \n",
              "386                                                 NaN  tt1322264   \n",
              "2463                                                NaN  tt4428814   \n",
              "383                                                 NaN  tt1781769   \n",
              "1221                                                NaN  tt0078056   \n",
              "\n",
              "     original_language                               original_title  \\\n",
              "2135                en  Pirates of the Caribbean: On Stranger Tides   \n",
              "2209                en     Pirates of the Caribbean: At World's End   \n",
              "2770                en                      Avengers: Age of Ultron   \n",
              "1425                en                             Superman Returns   \n",
              "1270                en                                  John Carter   \n",
              "...                ...                                          ...   \n",
              "1853                en                             Eddie Murphy Raw   \n",
              "386                 en                                 The Dry Land   \n",
              "2463                fr                             La Loi du marché   \n",
              "383                 en                                Anna Karenina   \n",
              "1221                en                               Paradise Alley   \n",
              "\n",
              "                                               overview  popularity  \\\n",
              "2135  Captain Jack Sparrow crosses paths with a woma...   27.887720   \n",
              "2209  Captain Barbossa, long believed to be dead, ha...   31.363664   \n",
              "2770  When Tony Stark tries to jumpstart a dormant p...   37.379420   \n",
              "1425  Superman returns to discover his 5-year absenc...   13.284712   \n",
              "1270  John Carter is a war-weary, former military ca...   14.670353   \n",
              "...                                                 ...         ...   \n",
              "1853  Eddie Murphy delights, shocks and entertains w...   11.266569   \n",
              "386   A U.S. soldier returning home from war struggl...    0.118135   \n",
              "2463  At the age of 51 and after 20 months on unempl...    4.778045   \n",
              "383   Trapped in a loveless marriage, aristocrat Ann...    8.543311   \n",
              "1221  Sylvester Stallone is fighting the odds again,...    5.634675   \n",
              "\n",
              "                           poster_path  ... release_date runtime  \\\n",
              "2135  /wNUDAq5OUMOtxMlz64YaCp7gZma.jpg  ...      5/14/11   136.0   \n",
              "2209  /bXb00CkHqx7TPchTGG131sWV59y.jpg  ...      5/19/07   169.0   \n",
              "2770  /t90Y3G8UGQp0f0DrP60wRu9gfrH.jpg  ...      4/22/15   141.0   \n",
              "1425  /e3aLTaD5ppxo3en0GAGceekEPAe.jpg  ...      6/28/06   154.0   \n",
              "1270  /4QDBNt9PmxqUH4Ab2R5xKWqzXiQ.jpg  ...       3/7/12   132.0   \n",
              "...                                ...  ...          ...     ...   \n",
              "1853  /6hLlDbhxkjqDlTWklYXERDYX7SL.jpg  ...     11/25/87    90.0   \n",
              "386   /hI9OEVzKuPDiMb5LRuQQBm683XA.jpg  ...      7/30/10    92.0   \n",
              "2463  /4iBgmuRFwI6r73EZnCgjABHGwEU.jpg  ...      3/16/15    93.0   \n",
              "383   /vueoajubjMMmDpcLOZnrU9wW95E.jpg  ...       9/6/12   130.0   \n",
              "1221  /lnkp93sG3UJQhdCuX0kgwPfuMky.jpg  ...      9/22/78   107.0   \n",
              "\n",
              "                                       spoken_languages    status  \\\n",
              "2135  [{'iso_639_1': 'en', 'name': 'English'}, {'iso...  Released   \n",
              "2209           [{'iso_639_1': 'en', 'name': 'English'}]  Released   \n",
              "2770           [{'iso_639_1': 'en', 'name': 'English'}]  Released   \n",
              "1425  [{'iso_639_1': 'en', 'name': 'English'}, {'iso...  Released   \n",
              "1270           [{'iso_639_1': 'en', 'name': 'English'}]  Released   \n",
              "...                                                 ...       ...   \n",
              "1853           [{'iso_639_1': 'en', 'name': 'English'}]  Released   \n",
              "386   [{'iso_639_1': 'en', 'name': 'English'}, {'iso...  Released   \n",
              "2463          [{'iso_639_1': 'fr', 'name': 'Français'}]  Released   \n",
              "383   [{'iso_639_1': 'ru', 'name': 'Pусский'}, {'iso...  Released   \n",
              "1221           [{'iso_639_1': 'en', 'name': 'English'}]  Released   \n",
              "\n",
              "                                                tagline  \\\n",
              "2135                        Live Forever Or Die Trying.   \n",
              "2209     At the end of the world, the adventure begins.   \n",
              "2770                                A New Age Has Come.   \n",
              "1425                                                NaN   \n",
              "1270               Lost in our world, found in another.   \n",
              "...                                                 ...   \n",
              "1853                               Shock has its value.   \n",
              "386                                                 NaN   \n",
              "2463                                                NaN   \n",
              "383                              An epic story of love.   \n",
              "1221  The Carboni Boys. They haul ice, lay out stiff...   \n",
              "\n",
              "                                            title  \\\n",
              "2135  Pirates of the Caribbean: On Stranger Tides   \n",
              "2209     Pirates of the Caribbean: At World's End   \n",
              "2770                      Avengers: Age of Ultron   \n",
              "1425                             Superman Returns   \n",
              "1270                                  John Carter   \n",
              "...                                           ...   \n",
              "1853                             Eddie Murphy Raw   \n",
              "386                                  The Dry Land   \n",
              "2463                         The Measure of a Man   \n",
              "383                                 Anna Karenina   \n",
              "1221                               Paradise Alley   \n",
              "\n",
              "                                               Keywords  \\\n",
              "2135  [{'id': 658, 'name': 'sea'}, {'id': 1316, 'nam...   \n",
              "2209  [{'id': 270, 'name': 'ocean'}, {'id': 726, 'na...   \n",
              "2770  [{'id': 8828, 'name': 'marvel comic'}, {'id': ...   \n",
              "1425  [{'id': 83, 'name': 'saving the world'}, {'id'...   \n",
              "1270  [{'id': 818, 'name': 'based on novel'}, {'id':...   \n",
              "...                                                 ...   \n",
              "1853  [{'id': 9716, 'name': 'stand-up comedy'}, {'id...   \n",
              "386   [{'id': 10183, 'name': 'independent film'}, {'...   \n",
              "2463           [{'id': 156052, 'name': 'unemployment'}]   \n",
              "383   [{'id': 818, 'name': 'based on novel'}, {'id':...   \n",
              "1221  [{'id': 246, 'name': 'dancing'}, {'id': 380, '...   \n",
              "\n",
              "                                                   cast  \\\n",
              "2135  [{'cast_id': 15, 'character': 'Captain Jack Sp...   \n",
              "2209  [{'cast_id': 4, 'character': 'Captain Jack Spa...   \n",
              "2770  [{'cast_id': 76, 'character': 'Tony Stark / Ir...   \n",
              "1425  [{'cast_id': 3, 'character': 'Superman / Clark...   \n",
              "1270  [{'cast_id': 5, 'character': 'John Carter', 'c...   \n",
              "...                                                 ...   \n",
              "1853  [{'cast_id': 2, 'character': 'Himself', 'credi...   \n",
              "386   [{'cast_id': 2, 'character': 'Sarah', 'credit_...   \n",
              "2463  [{'cast_id': 1, 'character': 'Thierry Taugourd...   \n",
              "383   [{'cast_id': 4, 'character': 'Anna Karenina', ...   \n",
              "1221  [{'cast_id': 1, 'character': 'Cosmo Carboni', ...   \n",
              "\n",
              "                                                   crew     revenue  \n",
              "2135  [{'credit_id': '566b4f54c3a3683f56005151', 'de...  1045713802  \n",
              "2209  [{'credit_id': '52fe4232c3a36847f800b579', 'de...   961000000  \n",
              "2770  [{'credit_id': '55d5f7d4c3a3683e7e0016eb', 'de...  1405403694  \n",
              "1425  [{'credit_id': '553bef6a9251416874003c8f', 'de...   391081192  \n",
              "1270  [{'credit_id': '52fe479ac3a36847f813eaa3', 'de...   284139100  \n",
              "...                                                 ...         ...  \n",
              "1853  [{'credit_id': '52fe470a9251416c7508bf65', 'de...    50504655  \n",
              "386   [{'credit_id': '52fe46a9c3a36847f810b2eb', 'de...       12000  \n",
              "2463  [{'credit_id': '553b87649251412c27001037', 'de...      106498  \n",
              "383   [{'credit_id': '52fe49bf9251416c750d218b', 'de...    68929150  \n",
              "1221  [{'credit_id': '554caa519251413faa001b3a', 'de...     7185518  \n",
              "\n",
              "[2911 rows x 22 columns]"
            ]
          },
          "metadata": {},
          "execution_count": 570
        }
      ]
    },
    {
      "cell_type": "markdown",
      "source": [
        "Como tal dado parece relevante será mantido"
      ],
      "metadata": {
        "id": "W4t8KWKSS7ge"
      }
    },
    {
      "cell_type": "markdown",
      "source": [
        "Conferindo o que havia na coluna de gêneros de filme:"
      ],
      "metadata": {
        "id": "Q0niLcTZOvKo"
      }
    },
    {
      "cell_type": "code",
      "source": [
        "treino['genres'].value_counts()"
      ],
      "metadata": {
        "colab": {
          "base_uri": "https://localhost:8080/"
        },
        "id": "UO0QtpKLMuUm",
        "outputId": "a4e542b1-a908-47e1-81f9-f1d2408ddd3c"
      },
      "execution_count": 571,
      "outputs": [
        {
          "output_type": "execute_result",
          "data": {
            "text/plain": [
              "[{'id': 18, 'name': 'Drama'}]                                                                                                                                                256\n",
              "[{'id': 35, 'name': 'Comedy'}]                                                                                                                                               178\n",
              "[{'id': 18, 'name': 'Drama'}, {'id': 10749, 'name': 'Romance'}]                                                                                                              102\n",
              "[{'id': 35, 'name': 'Comedy'}, {'id': 10749, 'name': 'Romance'}]                                                                                                              86\n",
              "[{'id': 35, 'name': 'Comedy'}, {'id': 18, 'name': 'Drama'}]                                                                                                                   82\n",
              "                                                                                                                                                                            ... \n",
              "[{'id': 12, 'name': 'Adventure'}, {'id': 18, 'name': 'Drama'}, {'id': 14, 'name': 'Fantasy'}, {'id': 10751, 'name': 'Family'}, {'id': 9648, 'name': 'Mystery'}]                1\n",
              "[{'id': 14, 'name': 'Fantasy'}, {'id': 16, 'name': 'Animation'}, {'id': 18, 'name': 'Drama'}, {'id': 10749, 'name': 'Romance'}, {'id': 10751, 'name': 'Family'}]               1\n",
              "[{'id': 28, 'name': 'Action'}, {'id': 12, 'name': 'Adventure'}, {'id': 10749, 'name': 'Romance'}, {'id': 878, 'name': 'Science Fiction'}, {'id': 53, 'name': 'Thriller'}]      1\n",
              "[{'id': 12, 'name': 'Adventure'}, {'id': 16, 'name': 'Animation'}, {'id': 10751, 'name': 'Family'}, {'id': 35, 'name': 'Comedy'}]                                              1\n",
              "[{'id': 53, 'name': 'Thriller'}, {'id': 28, 'name': 'Action'}, {'id': 9648, 'name': 'Mystery'}]                                                                                1\n",
              "Name: genres, Length: 859, dtype: int64"
            ]
          },
          "metadata": {},
          "execution_count": 571
        }
      ]
    },
    {
      "cell_type": "markdown",
      "source": [
        "Como tal dado parece relevante será mantido"
      ],
      "metadata": {
        "id": "-1WTayeRStEO"
      }
    },
    {
      "cell_type": "markdown",
      "source": [
        "Conferindo o que havia na coluna de homepage:"
      ],
      "metadata": {
        "id": "g5gmXjWpHHO1"
      }
    },
    {
      "cell_type": "code",
      "source": [
        "treino['homepage'].value_counts()"
      ],
      "metadata": {
        "colab": {
          "base_uri": "https://localhost:8080/"
        },
        "id": "gXeRvVxEAU4e",
        "outputId": "6769afd1-7fb8-45d5-e727-4af6b94e00e4"
      },
      "execution_count": 572,
      "outputs": [
        {
          "output_type": "execute_result",
          "data": {
            "text/plain": [
              "http://www.transformersmovie.com/           4\n",
              "http://www.thehobbit.com/                   2\n",
              "http://www.lordoftherings.net/              2\n",
              "http://sonyclassics.com/whiplash/           1\n",
              "http://sh-sh.ru/                            1\n",
              "                                           ..\n",
              "http://admiralfilm.ru/                      1\n",
              "http://www.jackreachermovie.com/            1\n",
              "http://www.sleepdealer.com/                 1\n",
              "http://www.popperspenguins.com/main.html    1\n",
              "http://www.abductionthefilm.com/            1\n",
              "Name: homepage, Length: 922, dtype: int64"
            ]
          },
          "metadata": {},
          "execution_count": 572
        }
      ]
    },
    {
      "cell_type": "markdown",
      "source": [
        "Como eram apenas links e todos eram diferente foi decidido excluir essa coluna"
      ],
      "metadata": {
        "id": "ABcylrDLQD8M"
      }
    },
    {
      "cell_type": "code",
      "source": [
        "treino.drop('homepage', axis=1, inplace=True)"
      ],
      "metadata": {
        "id": "kMBHtlrKN3sp"
      },
      "execution_count": 573,
      "outputs": []
    },
    {
      "cell_type": "markdown",
      "source": [
        "Conferindo o que havia na coluna de id do IMDB"
      ],
      "metadata": {
        "id": "8DZjrHxfHNbl"
      }
    },
    {
      "cell_type": "code",
      "source": [
        "treino['imdb_id'].value_counts()"
      ],
      "metadata": {
        "colab": {
          "base_uri": "https://localhost:8080/"
        },
        "id": "Fho6NrXgHUOg",
        "outputId": "e1436f8a-4632-4b4f-dbda-1810206c21b1"
      },
      "execution_count": 574,
      "outputs": [
        {
          "output_type": "execute_result",
          "data": {
            "text/plain": [
              "tt2637294    1\n",
              "tt0095271    1\n",
              "tt1821317    1\n",
              "tt3139086    1\n",
              "tt0116830    1\n",
              "            ..\n",
              "tt0101775    1\n",
              "tt2720680    1\n",
              "tt0114681    1\n",
              "tt0369672    1\n",
              "tt1600195    1\n",
              "Name: imdb_id, Length: 2911, dtype: int64"
            ]
          },
          "metadata": {},
          "execution_count": 574
        }
      ]
    },
    {
      "cell_type": "markdown",
      "source": [
        "Como eram apenas Ids todos diferentes foi decidido excluir essa coluna"
      ],
      "metadata": {
        "id": "DZuokIgHTFO8"
      }
    },
    {
      "cell_type": "code",
      "source": [
        "treino.drop('imdb_id', axis=1, inplace=True)"
      ],
      "metadata": {
        "id": "DZfqbEBAUloz"
      },
      "execution_count": 575,
      "outputs": []
    },
    {
      "cell_type": "markdown",
      "source": [
        "Conferindo o que havia na coluna de língua original:"
      ],
      "metadata": {
        "id": "mApEiRsWV8g9"
      }
    },
    {
      "cell_type": "code",
      "source": [
        "treino['original_language'].value_counts()"
      ],
      "metadata": {
        "colab": {
          "base_uri": "https://localhost:8080/"
        },
        "id": "FZ4aMLsyVvR7",
        "outputId": "65f4be05-1fce-4da4-e2cf-41c0c12ffa66"
      },
      "execution_count": 576,
      "outputs": [
        {
          "output_type": "execute_result",
          "data": {
            "text/plain": [
              "en    2503\n",
              "fr      77\n",
              "es      43\n",
              "hi      42\n",
              "ru      41\n",
              "ja      37\n",
              "cn      20\n",
              "ko      20\n",
              "zh      19\n",
              "it      18\n",
              "de      17\n",
              "ta      16\n",
              "sv       8\n",
              "nl       6\n",
              "pt       6\n",
              "fa       5\n",
              "da       5\n",
              "ro       4\n",
              "hu       3\n",
              "tr       2\n",
              "te       2\n",
              "ml       2\n",
              "pl       2\n",
              "no       2\n",
              "ar       1\n",
              "bn       1\n",
              "nb       1\n",
              "el       1\n",
              "he       1\n",
              "ur       1\n",
              "cs       1\n",
              "fi       1\n",
              "mr       1\n",
              "sr       1\n",
              "id       1\n",
              "Name: original_language, dtype: int64"
            ]
          },
          "metadata": {},
          "execution_count": 576
        }
      ]
    },
    {
      "cell_type": "markdown",
      "source": [
        "Como tal dado parece relevante será mantido"
      ],
      "metadata": {
        "id": "3ArRUoRtWobF"
      }
    },
    {
      "cell_type": "markdown",
      "source": [
        "Conferindo o que havia na coluna de título original"
      ],
      "metadata": {
        "id": "ZtJKBWb0W1xl"
      }
    },
    {
      "cell_type": "code",
      "source": [
        "treino['original_title'].value_counts()"
      ],
      "metadata": {
        "colab": {
          "base_uri": "https://localhost:8080/"
        },
        "id": "Wc-O0Y3DXHA9",
        "outputId": "750559f5-e8fd-4493-f8bf-ea7c6840f643"
      },
      "execution_count": 577,
      "outputs": [
        {
          "output_type": "execute_result",
          "data": {
            "text/plain": [
              "Bad Boys                      2\n",
              "The Gift                      2\n",
              "Sahara                        2\n",
              "King Kong                     2\n",
              "Red Dawn                      2\n",
              "                             ..\n",
              "The Salvation                 1\n",
              "To Die For                    1\n",
              "A Love Song for Bobby Long    1\n",
              "Dabba                         1\n",
              "Abduction                     1\n",
              "Name: original_title, Length: 2888, dtype: int64"
            ]
          },
          "metadata": {},
          "execution_count": 577
        }
      ]
    },
    {
      "cell_type": "markdown",
      "source": [
        "Como tal dado parece relevante será mantido"
      ],
      "metadata": {
        "id": "Mid5OAthXHA9"
      }
    },
    {
      "cell_type": "markdown",
      "source": [
        "Conferindo o que havia na coluna de sinopse"
      ],
      "metadata": {
        "id": "zM7cmlRIHU1O"
      }
    },
    {
      "cell_type": "code",
      "source": [
        "treino['overview'].value_counts()"
      ],
      "metadata": {
        "id": "N9hJCBxOIQ6t",
        "colab": {
          "base_uri": "https://localhost:8080/"
        },
        "outputId": "3ab1ed34-fa4d-4329-eeb1-6cfc4dc64dde"
      },
      "execution_count": 578,
      "outputs": [
        {
          "output_type": "execute_result",
          "data": {
            "text/plain": [
              "When Lou, who has become the \"father of the Internet,\" is shot by an unknown assailant, Jacob and Nick fire up the time machine again to save their friend.                                                                                                                                                                                                                                                                                                                                                                                                                                                                                                                                                                                         1\n",
              "The legend of that creepy masked-man, Michael Myers, comes to life once again in this fourth installment of the successful horror franchise. This time, it's Michael's niece, Jamie, who can't seem to escape her crazy uncle. With Michael on the loose, Jamie enlists the help of good old Dr. Loomis to stop the murderer. This time, though, there seems to be no end to Michael's madness.                                                                                                                                                                                                                                                                                                                                                     1\n",
              "The movie is set in the backdrop of a town, where Rooster fights are common. Pettaikaaran and Rathnaswamy, a cop are tough competitors in these games and it is often Pettai who wins due to the fact that nobody knows his way of maintaining the quality of the birds. Karuppu (Dhanush) and Durai (Kishore) are also in Pettaikaran's team. Rathnasamy keeps insisting on having one last fight to win and satisfy his old mother‚Äôs wish but Pettaikaran declines to have any more fights with him because he feels Rathnasamy has lost faith in his roosters and will be using nefarious methods to win. Rathnasamy keeps insisting and tries to make him accept the challenge through cajoling, threatening, bribing and other vile acts.    1\n",
              "Based on the hit video game series, Batman must find a bomb planted by the Joker while dealing with a mysterious team of villains called, The Suicide Squad.                                                                                                                                                                                                                                                                                                                                                                                                                                                                                                                                                                                        1\n",
              "John Smith is a mysterious stranger who is drawn into a vicious war between two Prohibition-era gangs. In a dangerous game, he switches allegiances from one to another, offering his services to the highest bidder. As the death toll mounts, Smith takes the law into his own hands in a deadly race to stay alive.                                                                                                                                                                                                                                                                                                                                                                                                                              1\n",
              "                                                                                                                                                                                                                                                                                                                                                                                                                                                                                                                                                                                                                                                                                                                                                   ..\n",
              "When Elizabeth returns to her mother's home after her marriage breaks up, she recreates her imaginary childhood friend, Fred, to escape from the trauma of losing her husband and her job. In between the chaos and mayhem that Fred creates, Elizabeth attempts to win back her husband and return to normality.                                                                                                                                                                                                                                                                                                                                                                                                                                   1\n",
              "In 1870s America, a peaceful American settler kills his family's murderer which unleashes the fury of a notorious gang leader. His cowardly fellow townspeople then betray him, forcing him to hunt down the outlaws alone.                                                                                                                                                                                                                                                                                                                                                                                                                                                                                                                         1\n",
              "Susan wants to work in television and will therefore do anything it takes, even if it means killing her husband. A very dark comedy from independent director Gus Van Sant with a brilliant Nicole Kidman in the leading role.                                                                                                                                                                                                                                                                                                                                                                                                                                                                                                                      1\n",
              "A headstrong young woman returns to New Orleans after the death of her estranged mother.                                                                                                                                                                                                                                                                                                                                                                                                                                                                                                                                                                                                                                                            1\n",
              "A young man sets out to uncover the truth about his life after finding his baby photo on a missing persons website.                                                                                                                                                                                                                                                                                                                                                                                                                                                                                                                                                                                                                                 1\n",
              "Name: overview, Length: 2911, dtype: int64"
            ]
          },
          "metadata": {},
          "execution_count": 578
        }
      ]
    },
    {
      "cell_type": "markdown",
      "source": [
        "Como essa coluna tinha as sinopses dos filmes precisaria de um estudo mais aprofundado das palavras usadas, para que tal coluna fosse relevante"
      ],
      "metadata": {
        "id": "b7t-5JV5Xq9W"
      }
    },
    {
      "cell_type": "code",
      "source": [
        "treino.drop('overview', axis=1, inplace=True)"
      ],
      "metadata": {
        "id": "r_ZyIMeIYfe-"
      },
      "execution_count": 579,
      "outputs": []
    },
    {
      "cell_type": "markdown",
      "source": [
        "Conferindo o que havia na coluna de popularidade"
      ],
      "metadata": {
        "id": "z4ZhSPf2GNLx"
      }
    },
    {
      "cell_type": "code",
      "source": [
        "treino['popularity'].value_counts()"
      ],
      "metadata": {
        "id": "hljHzxqUImMg",
        "colab": {
          "base_uri": "https://localhost:8080/"
        },
        "outputId": "54fd94fc-8b1f-4f64-83bf-544197e2c89f"
      },
      "execution_count": 580,
      "outputs": [
        {
          "output_type": "execute_result",
          "data": {
            "text/plain": [
              "0.318437     2\n",
              "6.575393     1\n",
              "8.500628     1\n",
              "6.095500     1\n",
              "11.845918    1\n",
              "            ..\n",
              "7.881010     1\n",
              "8.253705     1\n",
              "10.448481    1\n",
              "5.185771     1\n",
              "10.512109    1\n",
              "Name: popularity, Length: 2910, dtype: int64"
            ]
          },
          "metadata": {},
          "execution_count": 580
        }
      ]
    },
    {
      "cell_type": "markdown",
      "source": [
        "Conferindo melhor o que havia na coluna de popularidade:"
      ],
      "metadata": {
        "id": "FiYBpHQ5GES1"
      }
    },
    {
      "cell_type": "code",
      "source": [
        "treino.sort_values(by='popularity',ascending=False)"
      ],
      "metadata": {
        "id": "dnXb0O8OJHhE",
        "colab": {
          "base_uri": "https://localhost:8080/",
          "height": 1000
        },
        "outputId": "a89fc3b1-9755-418f-e10f-0003d0853ea3"
      },
      "execution_count": 581,
      "outputs": [
        {
          "output_type": "execute_result",
          "data": {
            "text/html": [
              "\n",
              "  <div id=\"df-0a132bda-3504-43f3-8022-65304b893562\">\n",
              "    <div class=\"colab-df-container\">\n",
              "      <div>\n",
              "<style scoped>\n",
              "    .dataframe tbody tr th:only-of-type {\n",
              "        vertical-align: middle;\n",
              "    }\n",
              "\n",
              "    .dataframe tbody tr th {\n",
              "        vertical-align: top;\n",
              "    }\n",
              "\n",
              "    .dataframe thead th {\n",
              "        text-align: right;\n",
              "    }\n",
              "</style>\n",
              "<table border=\"1\" class=\"dataframe\">\n",
              "  <thead>\n",
              "    <tr style=\"text-align: right;\">\n",
              "      <th></th>\n",
              "      <th>id</th>\n",
              "      <th>budget</th>\n",
              "      <th>genres</th>\n",
              "      <th>original_language</th>\n",
              "      <th>original_title</th>\n",
              "      <th>popularity</th>\n",
              "      <th>poster_path</th>\n",
              "      <th>production_companies</th>\n",
              "      <th>production_countries</th>\n",
              "      <th>release_date</th>\n",
              "      <th>runtime</th>\n",
              "      <th>spoken_languages</th>\n",
              "      <th>status</th>\n",
              "      <th>tagline</th>\n",
              "      <th>title</th>\n",
              "      <th>Keywords</th>\n",
              "      <th>cast</th>\n",
              "      <th>crew</th>\n",
              "      <th>revenue</th>\n",
              "    </tr>\n",
              "  </thead>\n",
              "  <tbody>\n",
              "    <tr>\n",
              "      <th>684</th>\n",
              "      <td>685</td>\n",
              "      <td>160000000</td>\n",
              "      <td>[{'id': 10751, 'name': 'Family'}, {'id': 14, '...</td>\n",
              "      <td>en</td>\n",
              "      <td>Beauty and the Beast</td>\n",
              "      <td>287.253654</td>\n",
              "      <td>/tWqifoYuwLETmmasnGHO7xBjEtt.jpg</td>\n",
              "      <td>[{'name': 'Walt Disney Pictures', 'id': 2}, {'...</td>\n",
              "      <td>[{'iso_3166_1': 'GB', 'name': 'United Kingdom'...</td>\n",
              "      <td>3/16/17</td>\n",
              "      <td>129.0</td>\n",
              "      <td>[{'iso_639_1': 'en', 'name': 'English'}]</td>\n",
              "      <td>Released</td>\n",
              "      <td>Be our guest.</td>\n",
              "      <td>Beauty and the Beast</td>\n",
              "      <td>[{'id': 254, 'name': 'france'}, {'id': 2343, '...</td>\n",
              "      <td>[{'cast_id': 174, 'character': 'Belle', 'credi...</td>\n",
              "      <td>[{'credit_id': '551879bec3a3681f840004eb', 'de...</td>\n",
              "      <td>1262886337</td>\n",
              "    </tr>\n",
              "    <tr>\n",
              "      <th>1695</th>\n",
              "      <td>1696</td>\n",
              "      <td>34000000</td>\n",
              "      <td>[{'id': 28, 'name': 'Action'}, {'id': 80, 'nam...</td>\n",
              "      <td>en</td>\n",
              "      <td>Baby Driver</td>\n",
              "      <td>228.032744</td>\n",
              "      <td>/dN9LbVNNZFITwfaRjl4tmwGWkRg.jpg</td>\n",
              "      <td>[{'name': 'Big Talk Productions', 'id': 443}, ...</td>\n",
              "      <td>[{'iso_3166_1': 'GB', 'name': 'United Kingdom'...</td>\n",
              "      <td>6/28/17</td>\n",
              "      <td>113.0</td>\n",
              "      <td>[{'iso_639_1': 'en', 'name': 'English'}]</td>\n",
              "      <td>Released</td>\n",
              "      <td>All you need is one killer track.</td>\n",
              "      <td>Baby Driver</td>\n",
              "      <td>[{'id': 642, 'name': 'robbery'}, {'id': 2076, ...</td>\n",
              "      <td>[{'cast_id': 9, 'character': 'Baby', 'credit_i...</td>\n",
              "      <td>[{'credit_id': '55c58c009251417a21000e5d', 'de...</td>\n",
              "      <td>224511319</td>\n",
              "    </tr>\n",
              "    <tr>\n",
              "      <th>2326</th>\n",
              "      <td>2327</td>\n",
              "      <td>58000000</td>\n",
              "      <td>[{'id': 28, 'name': 'Action'}, {'id': 12, 'nam...</td>\n",
              "      <td>en</td>\n",
              "      <td>Deadpool</td>\n",
              "      <td>187.860492</td>\n",
              "      <td>/inVq3FRqcYIRl2la8iZikYYxFNR.jpg</td>\n",
              "      <td>[{'name': 'Twentieth Century Fox Film Corporat...</td>\n",
              "      <td>[{'iso_3166_1': 'US', 'name': 'United States o...</td>\n",
              "      <td>2/9/16</td>\n",
              "      <td>108.0</td>\n",
              "      <td>[{'iso_639_1': 'en', 'name': 'English'}]</td>\n",
              "      <td>Released</td>\n",
              "      <td>Witness the beginning of a happy ending</td>\n",
              "      <td>Deadpool</td>\n",
              "      <td>[{'id': 2095, 'name': 'anti hero'}, {'id': 307...</td>\n",
              "      <td>[{'cast_id': 99, 'character': 'Wade Wilson / D...</td>\n",
              "      <td>[{'credit_id': '57e564fac3a3681beb0000cc', 'de...</td>\n",
              "      <td>783112979</td>\n",
              "    </tr>\n",
              "    <tr>\n",
              "      <th>2126</th>\n",
              "      <td>2127</td>\n",
              "      <td>200000000</td>\n",
              "      <td>[{'id': 28, 'name': 'Action'}, {'id': 12, 'nam...</td>\n",
              "      <td>en</td>\n",
              "      <td>Guardians of the Galaxy Vol. 2</td>\n",
              "      <td>185.330992</td>\n",
              "      <td>/y4MBh0EjBlMuOzv9axM4qJlmhzz.jpg</td>\n",
              "      <td>[{'name': 'Walt Disney Pictures', 'id': 2}, {'...</td>\n",
              "      <td>[{'iso_3166_1': 'US', 'name': 'United States o...</td>\n",
              "      <td>4/19/17</td>\n",
              "      <td>137.0</td>\n",
              "      <td>[{'iso_639_1': 'en', 'name': 'English'}]</td>\n",
              "      <td>Released</td>\n",
              "      <td>Obviously.</td>\n",
              "      <td>Guardians of the Galaxy Vol. 2</td>\n",
              "      <td>[{'id': 9663, 'name': 'sequel'}, {'id': 9715, ...</td>\n",
              "      <td>[{'cast_id': 3, 'character': 'Peter Quill / St...</td>\n",
              "      <td>[{'credit_id': '59171547925141583c0315a6', 'de...</td>\n",
              "      <td>863416141</td>\n",
              "    </tr>\n",
              "    <tr>\n",
              "      <th>1309</th>\n",
              "      <td>1310</td>\n",
              "      <td>61000000</td>\n",
              "      <td>[{'id': 9648, 'name': 'Mystery'}, {'id': 53, '...</td>\n",
              "      <td>en</td>\n",
              "      <td>Gone Girl</td>\n",
              "      <td>154.801009</td>\n",
              "      <td>/gdiLTof3rbPDAmPaCf4g6op46bj.jpg</td>\n",
              "      <td>[{'name': 'Twentieth Century Fox Film Corporat...</td>\n",
              "      <td>[{'iso_3166_1': 'US', 'name': 'United States o...</td>\n",
              "      <td>10/1/14</td>\n",
              "      <td>145.0</td>\n",
              "      <td>[{'iso_639_1': 'en', 'name': 'English'}]</td>\n",
              "      <td>Released</td>\n",
              "      <td>You don't know what you've got 'til it's...</td>\n",
              "      <td>Gone Girl</td>\n",
              "      <td>[{'id': 818, 'name': 'based on novel'}, {'id':...</td>\n",
              "      <td>[{'cast_id': 7, 'character': 'Nick Dunne', 'cr...</td>\n",
              "      <td>[{'credit_id': '52fe4d7fc3a368484e1ec741', 'de...</td>\n",
              "      <td>369330363</td>\n",
              "    </tr>\n",
              "    <tr>\n",
              "      <th>...</th>\n",
              "      <td>...</td>\n",
              "      <td>...</td>\n",
              "      <td>...</td>\n",
              "      <td>...</td>\n",
              "      <td>...</td>\n",
              "      <td>...</td>\n",
              "      <td>...</td>\n",
              "      <td>...</td>\n",
              "      <td>...</td>\n",
              "      <td>...</td>\n",
              "      <td>...</td>\n",
              "      <td>...</td>\n",
              "      <td>...</td>\n",
              "      <td>...</td>\n",
              "      <td>...</td>\n",
              "      <td>...</td>\n",
              "      <td>...</td>\n",
              "      <td>...</td>\n",
              "      <td>...</td>\n",
              "    </tr>\n",
              "    <tr>\n",
              "      <th>862</th>\n",
              "      <td>863</td>\n",
              "      <td>0</td>\n",
              "      <td>[{'id': 99, 'name': 'Documentary'}]</td>\n",
              "      <td>en</td>\n",
              "      <td>Hey, Boo: Harper Lee &amp; To Kill a Mockingbird</td>\n",
              "      <td>0.007294</td>\n",
              "      <td>/iMQYs4BoXMpplkp6d2UbYbvkjWS.jpg</td>\n",
              "      <td>[{'name': 'Mary Murphy &amp; Company', 'id': 84212}]</td>\n",
              "      <td>[{'iso_3166_1': 'US', 'name': 'United States o...</td>\n",
              "      <td>5/13/11</td>\n",
              "      <td>82.0</td>\n",
              "      <td>[{'iso_639_1': 'en', 'name': 'English'}]</td>\n",
              "      <td>Released</td>\n",
              "      <td>The untold story behind a great American novel</td>\n",
              "      <td>Hey, Boo: Harper Lee &amp; To Kill a Mockingbird</td>\n",
              "      <td>[{'id': 187056, 'name': 'woman director'}]</td>\n",
              "      <td>[{'cast_id': 3, 'character': 'Herself', 'credi...</td>\n",
              "      <td>[{'credit_id': '52fe4810c3a368484e0e792f', 'de...</td>\n",
              "      <td>26488</td>\n",
              "    </tr>\n",
              "    <tr>\n",
              "      <th>1800</th>\n",
              "      <td>1801</td>\n",
              "      <td>5</td>\n",
              "      <td>[{'id': 18, 'name': 'Drama'}, {'id': 35, 'name...</td>\n",
              "      <td>en</td>\n",
              "      <td>The Cherry Orchard</td>\n",
              "      <td>0.001880</td>\n",
              "      <td>/4rdpxyb0S5TYsotTU8hkMFl8bxe.jpg</td>\n",
              "      <td>NaN</td>\n",
              "      <td>[{'iso_3166_1': 'GR', 'name': 'Greece'}, {'iso...</td>\n",
              "      <td>1/1/99</td>\n",
              "      <td>141.0</td>\n",
              "      <td>[{'iso_639_1': 'en', 'name': 'English'}, {'iso...</td>\n",
              "      <td>Released</td>\n",
              "      <td>NaN</td>\n",
              "      <td>The Cherry Orchard</td>\n",
              "      <td>NaN</td>\n",
              "      <td>[]</td>\n",
              "      <td>[{'credit_id': '52fe471bc3a36847f8123c13', 'de...</td>\n",
              "      <td>135</td>\n",
              "    </tr>\n",
              "    <tr>\n",
              "      <th>773</th>\n",
              "      <td>774</td>\n",
              "      <td>0</td>\n",
              "      <td>[{'id': 99, 'name': 'Documentary'}]</td>\n",
              "      <td>en</td>\n",
              "      <td>Live Nude Girls Unite!</td>\n",
              "      <td>0.001272</td>\n",
              "      <td>/ezGkJq8O8ZQbZkW1BJY0iaxDeqi.jpg</td>\n",
              "      <td>NaN</td>\n",
              "      <td>[{'iso_3166_1': 'US', 'name': 'United States o...</td>\n",
              "      <td>10/6/00</td>\n",
              "      <td>75.0</td>\n",
              "      <td>[{'iso_639_1': 'en', 'name': 'English'}]</td>\n",
              "      <td>Released</td>\n",
              "      <td>NaN</td>\n",
              "      <td>Live Nude Girls Unite!</td>\n",
              "      <td>[{'id': 582, 'name': 'san francisco'}, {'id': ...</td>\n",
              "      <td>[]</td>\n",
              "      <td>[{'credit_id': '52fe4a249251416c750df26b', 'de...</td>\n",
              "      <td>48752</td>\n",
              "    </tr>\n",
              "    <tr>\n",
              "      <th>741</th>\n",
              "      <td>742</td>\n",
              "      <td>0</td>\n",
              "      <td>[{'id': 10751, 'name': 'Family'}, {'id': 878, ...</td>\n",
              "      <td>en</td>\n",
              "      <td>And You Thought Your Parents Were Weird</td>\n",
              "      <td>0.000578</td>\n",
              "      <td>/omOVUwT5FjhjHWARa3gDh5kuP0L.jpg</td>\n",
              "      <td>[{'name': 'Panorama', 'id': 4016}]</td>\n",
              "      <td>[{'iso_3166_1': 'US', 'name': 'United States o...</td>\n",
              "      <td>11/15/91</td>\n",
              "      <td>92.0</td>\n",
              "      <td>[{'iso_639_1': 'en', 'name': 'English'}]</td>\n",
              "      <td>Released</td>\n",
              "      <td>NaN</td>\n",
              "      <td>And You Thought Your Parents Were Weird!</td>\n",
              "      <td>[{'id': 5202, 'name': 'boy'}, {'id': 13130, 'n...</td>\n",
              "      <td>[{'cast_id': 3, 'character': 'Sarah Carson', '...</td>\n",
              "      <td>[{'credit_id': '52fe4978c3a368484e12ce53', 'de...</td>\n",
              "      <td>402539</td>\n",
              "    </tr>\n",
              "    <tr>\n",
              "      <th>2556</th>\n",
              "      <td>2557</td>\n",
              "      <td>0</td>\n",
              "      <td>[{'id': 99, 'name': 'Documentary'}, {'id': 18,...</td>\n",
              "      <td>en</td>\n",
              "      <td>Big Time</td>\n",
              "      <td>0.000001</td>\n",
              "      <td>/bhq6dvbwPbebHT6xd8g7gie7spe.jpg</td>\n",
              "      <td>NaN</td>\n",
              "      <td>[{'iso_3166_1': 'US', 'name': 'United States o...</td>\n",
              "      <td>9/15/88</td>\n",
              "      <td>87.0</td>\n",
              "      <td>[{'iso_639_1': 'en', 'name': 'English'}]</td>\n",
              "      <td>Released</td>\n",
              "      <td>The concert was \"the best live performance of ...</td>\n",
              "      <td>Big Time</td>\n",
              "      <td>[{'id': 10183, 'name': 'independent film'}]</td>\n",
              "      <td>[{'cast_id': 1, 'character': '', 'credit_id': ...</td>\n",
              "      <td>[{'credit_id': '5654795892514170210042e6', 'de...</td>\n",
              "      <td>148426</td>\n",
              "    </tr>\n",
              "  </tbody>\n",
              "</table>\n",
              "<p>2911 rows × 19 columns</p>\n",
              "</div>\n",
              "      <button class=\"colab-df-convert\" onclick=\"convertToInteractive('df-0a132bda-3504-43f3-8022-65304b893562')\"\n",
              "              title=\"Convert this dataframe to an interactive table.\"\n",
              "              style=\"display:none;\">\n",
              "        \n",
              "  <svg xmlns=\"http://www.w3.org/2000/svg\" height=\"24px\"viewBox=\"0 0 24 24\"\n",
              "       width=\"24px\">\n",
              "    <path d=\"M0 0h24v24H0V0z\" fill=\"none\"/>\n",
              "    <path d=\"M18.56 5.44l.94 2.06.94-2.06 2.06-.94-2.06-.94-.94-2.06-.94 2.06-2.06.94zm-11 1L8.5 8.5l.94-2.06 2.06-.94-2.06-.94L8.5 2.5l-.94 2.06-2.06.94zm10 10l.94 2.06.94-2.06 2.06-.94-2.06-.94-.94-2.06-.94 2.06-2.06.94z\"/><path d=\"M17.41 7.96l-1.37-1.37c-.4-.4-.92-.59-1.43-.59-.52 0-1.04.2-1.43.59L10.3 9.45l-7.72 7.72c-.78.78-.78 2.05 0 2.83L4 21.41c.39.39.9.59 1.41.59.51 0 1.02-.2 1.41-.59l7.78-7.78 2.81-2.81c.8-.78.8-2.07 0-2.86zM5.41 20L4 18.59l7.72-7.72 1.47 1.35L5.41 20z\"/>\n",
              "  </svg>\n",
              "      </button>\n",
              "      \n",
              "  <style>\n",
              "    .colab-df-container {\n",
              "      display:flex;\n",
              "      flex-wrap:wrap;\n",
              "      gap: 12px;\n",
              "    }\n",
              "\n",
              "    .colab-df-convert {\n",
              "      background-color: #E8F0FE;\n",
              "      border: none;\n",
              "      border-radius: 50%;\n",
              "      cursor: pointer;\n",
              "      display: none;\n",
              "      fill: #1967D2;\n",
              "      height: 32px;\n",
              "      padding: 0 0 0 0;\n",
              "      width: 32px;\n",
              "    }\n",
              "\n",
              "    .colab-df-convert:hover {\n",
              "      background-color: #E2EBFA;\n",
              "      box-shadow: 0px 1px 2px rgba(60, 64, 67, 0.3), 0px 1px 3px 1px rgba(60, 64, 67, 0.15);\n",
              "      fill: #174EA6;\n",
              "    }\n",
              "\n",
              "    [theme=dark] .colab-df-convert {\n",
              "      background-color: #3B4455;\n",
              "      fill: #D2E3FC;\n",
              "    }\n",
              "\n",
              "    [theme=dark] .colab-df-convert:hover {\n",
              "      background-color: #434B5C;\n",
              "      box-shadow: 0px 1px 3px 1px rgba(0, 0, 0, 0.15);\n",
              "      filter: drop-shadow(0px 1px 2px rgba(0, 0, 0, 0.3));\n",
              "      fill: #FFFFFF;\n",
              "    }\n",
              "  </style>\n",
              "\n",
              "      <script>\n",
              "        const buttonEl =\n",
              "          document.querySelector('#df-0a132bda-3504-43f3-8022-65304b893562 button.colab-df-convert');\n",
              "        buttonEl.style.display =\n",
              "          google.colab.kernel.accessAllowed ? 'block' : 'none';\n",
              "\n",
              "        async function convertToInteractive(key) {\n",
              "          const element = document.querySelector('#df-0a132bda-3504-43f3-8022-65304b893562');\n",
              "          const dataTable =\n",
              "            await google.colab.kernel.invokeFunction('convertToInteractive',\n",
              "                                                     [key], {});\n",
              "          if (!dataTable) return;\n",
              "\n",
              "          const docLinkHtml = 'Like what you see? Visit the ' +\n",
              "            '<a target=\"_blank\" href=https://colab.research.google.com/notebooks/data_table.ipynb>data table notebook</a>'\n",
              "            + ' to learn more about interactive tables.';\n",
              "          element.innerHTML = '';\n",
              "          dataTable['output_type'] = 'display_data';\n",
              "          await google.colab.output.renderOutput(dataTable, element);\n",
              "          const docLink = document.createElement('div');\n",
              "          docLink.innerHTML = docLinkHtml;\n",
              "          element.appendChild(docLink);\n",
              "        }\n",
              "      </script>\n",
              "    </div>\n",
              "  </div>\n",
              "  "
            ],
            "text/plain": [
              "        id     budget                                             genres  \\\n",
              "684    685  160000000  [{'id': 10751, 'name': 'Family'}, {'id': 14, '...   \n",
              "1695  1696   34000000  [{'id': 28, 'name': 'Action'}, {'id': 80, 'nam...   \n",
              "2326  2327   58000000  [{'id': 28, 'name': 'Action'}, {'id': 12, 'nam...   \n",
              "2126  2127  200000000  [{'id': 28, 'name': 'Action'}, {'id': 12, 'nam...   \n",
              "1309  1310   61000000  [{'id': 9648, 'name': 'Mystery'}, {'id': 53, '...   \n",
              "...    ...        ...                                                ...   \n",
              "862    863          0                [{'id': 99, 'name': 'Documentary'}]   \n",
              "1800  1801          5  [{'id': 18, 'name': 'Drama'}, {'id': 35, 'name...   \n",
              "773    774          0                [{'id': 99, 'name': 'Documentary'}]   \n",
              "741    742          0  [{'id': 10751, 'name': 'Family'}, {'id': 878, ...   \n",
              "2556  2557          0  [{'id': 99, 'name': 'Documentary'}, {'id': 18,...   \n",
              "\n",
              "     original_language                                original_title  \\\n",
              "684                 en                          Beauty and the Beast   \n",
              "1695                en                                   Baby Driver   \n",
              "2326                en                                      Deadpool   \n",
              "2126                en                Guardians of the Galaxy Vol. 2   \n",
              "1309                en                                     Gone Girl   \n",
              "...                ...                                           ...   \n",
              "862                 en  Hey, Boo: Harper Lee & To Kill a Mockingbird   \n",
              "1800                en                            The Cherry Orchard   \n",
              "773                 en                        Live Nude Girls Unite!   \n",
              "741                 en       And You Thought Your Parents Were Weird   \n",
              "2556                en                                      Big Time   \n",
              "\n",
              "      popularity                       poster_path  \\\n",
              "684   287.253654  /tWqifoYuwLETmmasnGHO7xBjEtt.jpg   \n",
              "1695  228.032744  /dN9LbVNNZFITwfaRjl4tmwGWkRg.jpg   \n",
              "2326  187.860492  /inVq3FRqcYIRl2la8iZikYYxFNR.jpg   \n",
              "2126  185.330992  /y4MBh0EjBlMuOzv9axM4qJlmhzz.jpg   \n",
              "1309  154.801009  /gdiLTof3rbPDAmPaCf4g6op46bj.jpg   \n",
              "...          ...                               ...   \n",
              "862     0.007294  /iMQYs4BoXMpplkp6d2UbYbvkjWS.jpg   \n",
              "1800    0.001880  /4rdpxyb0S5TYsotTU8hkMFl8bxe.jpg   \n",
              "773     0.001272  /ezGkJq8O8ZQbZkW1BJY0iaxDeqi.jpg   \n",
              "741     0.000578  /omOVUwT5FjhjHWARa3gDh5kuP0L.jpg   \n",
              "2556    0.000001  /bhq6dvbwPbebHT6xd8g7gie7spe.jpg   \n",
              "\n",
              "                                   production_companies  \\\n",
              "684   [{'name': 'Walt Disney Pictures', 'id': 2}, {'...   \n",
              "1695  [{'name': 'Big Talk Productions', 'id': 443}, ...   \n",
              "2326  [{'name': 'Twentieth Century Fox Film Corporat...   \n",
              "2126  [{'name': 'Walt Disney Pictures', 'id': 2}, {'...   \n",
              "1309  [{'name': 'Twentieth Century Fox Film Corporat...   \n",
              "...                                                 ...   \n",
              "862    [{'name': 'Mary Murphy & Company', 'id': 84212}]   \n",
              "1800                                                NaN   \n",
              "773                                                 NaN   \n",
              "741                  [{'name': 'Panorama', 'id': 4016}]   \n",
              "2556                                                NaN   \n",
              "\n",
              "                                   production_countries release_date  runtime  \\\n",
              "684   [{'iso_3166_1': 'GB', 'name': 'United Kingdom'...      3/16/17    129.0   \n",
              "1695  [{'iso_3166_1': 'GB', 'name': 'United Kingdom'...      6/28/17    113.0   \n",
              "2326  [{'iso_3166_1': 'US', 'name': 'United States o...       2/9/16    108.0   \n",
              "2126  [{'iso_3166_1': 'US', 'name': 'United States o...      4/19/17    137.0   \n",
              "1309  [{'iso_3166_1': 'US', 'name': 'United States o...      10/1/14    145.0   \n",
              "...                                                 ...          ...      ...   \n",
              "862   [{'iso_3166_1': 'US', 'name': 'United States o...      5/13/11     82.0   \n",
              "1800  [{'iso_3166_1': 'GR', 'name': 'Greece'}, {'iso...       1/1/99    141.0   \n",
              "773   [{'iso_3166_1': 'US', 'name': 'United States o...      10/6/00     75.0   \n",
              "741   [{'iso_3166_1': 'US', 'name': 'United States o...     11/15/91     92.0   \n",
              "2556  [{'iso_3166_1': 'US', 'name': 'United States o...      9/15/88     87.0   \n",
              "\n",
              "                                       spoken_languages    status  \\\n",
              "684            [{'iso_639_1': 'en', 'name': 'English'}]  Released   \n",
              "1695           [{'iso_639_1': 'en', 'name': 'English'}]  Released   \n",
              "2326           [{'iso_639_1': 'en', 'name': 'English'}]  Released   \n",
              "2126           [{'iso_639_1': 'en', 'name': 'English'}]  Released   \n",
              "1309           [{'iso_639_1': 'en', 'name': 'English'}]  Released   \n",
              "...                                                 ...       ...   \n",
              "862            [{'iso_639_1': 'en', 'name': 'English'}]  Released   \n",
              "1800  [{'iso_639_1': 'en', 'name': 'English'}, {'iso...  Released   \n",
              "773            [{'iso_639_1': 'en', 'name': 'English'}]  Released   \n",
              "741            [{'iso_639_1': 'en', 'name': 'English'}]  Released   \n",
              "2556           [{'iso_639_1': 'en', 'name': 'English'}]  Released   \n",
              "\n",
              "                                                tagline  \\\n",
              "684                                       Be our guest.   \n",
              "1695                  All you need is one killer track.   \n",
              "2326            Witness the beginning of a happy ending   \n",
              "2126                                         Obviously.   \n",
              "1309        You don't know what you've got 'til it's...   \n",
              "...                                                 ...   \n",
              "862      The untold story behind a great American novel   \n",
              "1800                                                NaN   \n",
              "773                                                 NaN   \n",
              "741                                                 NaN   \n",
              "2556  The concert was \"the best live performance of ...   \n",
              "\n",
              "                                             title  \\\n",
              "684                           Beauty and the Beast   \n",
              "1695                                   Baby Driver   \n",
              "2326                                      Deadpool   \n",
              "2126                Guardians of the Galaxy Vol. 2   \n",
              "1309                                     Gone Girl   \n",
              "...                                            ...   \n",
              "862   Hey, Boo: Harper Lee & To Kill a Mockingbird   \n",
              "1800                            The Cherry Orchard   \n",
              "773                         Live Nude Girls Unite!   \n",
              "741       And You Thought Your Parents Were Weird!   \n",
              "2556                                      Big Time   \n",
              "\n",
              "                                               Keywords  \\\n",
              "684   [{'id': 254, 'name': 'france'}, {'id': 2343, '...   \n",
              "1695  [{'id': 642, 'name': 'robbery'}, {'id': 2076, ...   \n",
              "2326  [{'id': 2095, 'name': 'anti hero'}, {'id': 307...   \n",
              "2126  [{'id': 9663, 'name': 'sequel'}, {'id': 9715, ...   \n",
              "1309  [{'id': 818, 'name': 'based on novel'}, {'id':...   \n",
              "...                                                 ...   \n",
              "862          [{'id': 187056, 'name': 'woman director'}]   \n",
              "1800                                                NaN   \n",
              "773   [{'id': 582, 'name': 'san francisco'}, {'id': ...   \n",
              "741   [{'id': 5202, 'name': 'boy'}, {'id': 13130, 'n...   \n",
              "2556        [{'id': 10183, 'name': 'independent film'}]   \n",
              "\n",
              "                                                   cast  \\\n",
              "684   [{'cast_id': 174, 'character': 'Belle', 'credi...   \n",
              "1695  [{'cast_id': 9, 'character': 'Baby', 'credit_i...   \n",
              "2326  [{'cast_id': 99, 'character': 'Wade Wilson / D...   \n",
              "2126  [{'cast_id': 3, 'character': 'Peter Quill / St...   \n",
              "1309  [{'cast_id': 7, 'character': 'Nick Dunne', 'cr...   \n",
              "...                                                 ...   \n",
              "862   [{'cast_id': 3, 'character': 'Herself', 'credi...   \n",
              "1800                                                 []   \n",
              "773                                                  []   \n",
              "741   [{'cast_id': 3, 'character': 'Sarah Carson', '...   \n",
              "2556  [{'cast_id': 1, 'character': '', 'credit_id': ...   \n",
              "\n",
              "                                                   crew     revenue  \n",
              "684   [{'credit_id': '551879bec3a3681f840004eb', 'de...  1262886337  \n",
              "1695  [{'credit_id': '55c58c009251417a21000e5d', 'de...   224511319  \n",
              "2326  [{'credit_id': '57e564fac3a3681beb0000cc', 'de...   783112979  \n",
              "2126  [{'credit_id': '59171547925141583c0315a6', 'de...   863416141  \n",
              "1309  [{'credit_id': '52fe4d7fc3a368484e1ec741', 'de...   369330363  \n",
              "...                                                 ...         ...  \n",
              "862   [{'credit_id': '52fe4810c3a368484e0e792f', 'de...       26488  \n",
              "1800  [{'credit_id': '52fe471bc3a36847f8123c13', 'de...         135  \n",
              "773   [{'credit_id': '52fe4a249251416c750df26b', 'de...       48752  \n",
              "741   [{'credit_id': '52fe4978c3a368484e12ce53', 'de...      402539  \n",
              "2556  [{'credit_id': '5654795892514170210042e6', 'de...      148426  \n",
              "\n",
              "[2911 rows x 19 columns]"
            ]
          },
          "metadata": {},
          "execution_count": 581
        }
      ]
    },
    {
      "cell_type": "markdown",
      "source": [
        "Como tal dado parece relevante será mantido"
      ],
      "metadata": {
        "id": "VFwQDPrJNGcx"
      }
    },
    {
      "cell_type": "markdown",
      "source": [
        "Conferindo o que havia na coluna de poster:\n"
      ],
      "metadata": {
        "id": "O7NBBnkvF-5u"
      }
    },
    {
      "cell_type": "code",
      "source": [
        "treino['poster_path'].value_counts()"
      ],
      "metadata": {
        "colab": {
          "base_uri": "https://localhost:8080/"
        },
        "id": "FO3bafs4Awmf",
        "outputId": "14a6ae3c-479c-4067-9705-4b1106ce7d6c"
      },
      "execution_count": 582,
      "outputs": [
        {
          "output_type": "execute_result",
          "data": {
            "text/plain": [
              "/tQtWuwvMf0hCc2QR2tkolwl7c3c.jpg    1\n",
              "/oudmrV1WljSJMpgwq6K4VzbIMMK.jpg    1\n",
              "/kysrhFoRGtZlXWQyDGMEiLF1aO8.jpg    1\n",
              "/jY5DEgyMmHUh4AbWTu6pOb5g7vk.jpg    1\n",
              "/fkURS96D2ceuocZIBuyiIBGHilF.jpg    1\n",
              "                                   ..\n",
              "/skRvltgHJXnFRMfZNOiID6o4UQn.jpg    1\n",
              "/b8uBcz6CgXOUsZhf2Y4RLHCwk19.jpg    1\n",
              "/zCREx8trzejNieDLUsRuwLU0cS3.jpg    1\n",
              "/c03bIFoCbbtC4uLcTb03t1Xgv3K.jpg    1\n",
              "/cUT6NQP5LAJpmUoStGtXmvNt4zA.jpg    1\n",
              "Name: poster_path, Length: 2911, dtype: int64"
            ]
          },
          "metadata": {},
          "execution_count": 582
        }
      ]
    },
    {
      "cell_type": "markdown",
      "source": [
        "Como eram apenas links de imagens e todos eram diferente foi decidido excluir essa coluna"
      ],
      "metadata": {
        "id": "RU9Nt2evMJv4"
      }
    },
    {
      "cell_type": "code",
      "source": [
        "treino.drop('poster_path', axis=1, inplace=True)"
      ],
      "metadata": {
        "id": "CHkNcIHBBGSU"
      },
      "execution_count": 583,
      "outputs": []
    },
    {
      "cell_type": "markdown",
      "source": [
        "Conferindo o que havia na coluna de produtora do filme:"
      ],
      "metadata": {
        "id": "KTgeeJXxd6FK"
      }
    },
    {
      "cell_type": "code",
      "source": [
        "treino['production_companies'].value_counts()"
      ],
      "metadata": {
        "colab": {
          "base_uri": "https://localhost:8080/"
        },
        "id": "qCmLOcp-cuY6",
        "outputId": "674e3f83-02ad-4481-c1b5-452d238ac100"
      },
      "execution_count": 584,
      "outputs": [
        {
          "output_type": "execute_result",
          "data": {
            "text/plain": [
              "[{'name': 'Paramount Pictures', 'id': 4}]                                                                                                                                                                                                                     51\n",
              "[{'name': 'Universal Pictures', 'id': 33}]                                                                                                                                                                                                                    36\n",
              "[{'name': 'Warner Bros.', 'id': 6194}]                                                                                                                                                                                                                        32\n",
              "[{'name': 'Metro-Goldwyn-Mayer (MGM)', 'id': 8411}]                                                                                                                                                                                                           30\n",
              "[{'name': 'Twentieth Century Fox Film Corporation', 'id': 306}]                                                                                                                                                                                               24\n",
              "                                                                                                                                                                                                                                                              ..\n",
              "[{'name': 'Universal Pictures', 'id': 33}, {'name': 'Fuji Television Network', 'id': 3341}, {'name': 'Dentsu', 'id': 6452}, {'name': 'Apatow Productions', 'id': 10105}]                                                                                       1\n",
              "[{'name': 'Zyzzyx LLC', 'id': 92534}]                                                                                                                                                                                                                          1\n",
              "[{'name': 'Universal Pictures', 'id': 33}, {'name': 'Columbia Pictures Corporation', 'id': 441}]                                                                                                                                                               1\n",
              "[{'name': 'Yari Film Group', 'id': 2448}]                                                                                                                                                                                                                      1\n",
              "[{'name': 'Lions Gate Films', 'id': 35}, {'name': 'Vertigo Entertainment', 'id': 829}, {'name': 'Gotham Group', 'id': 3672}, {'name': 'Tailor Made', 'id': 24557}, {'name': 'Mango Farms', 'id': 24558}, {'name': 'Quick Six Entertainment', 'id': 24561}]     1\n",
              "Name: production_companies, Length: 2353, dtype: int64"
            ]
          },
          "metadata": {},
          "execution_count": 584
        }
      ]
    },
    {
      "cell_type": "markdown",
      "source": [
        "Como tal dado parece relevante será mantido"
      ],
      "metadata": {
        "id": "VDDLETAqd-Ey"
      }
    },
    {
      "cell_type": "markdown",
      "source": [
        "Conferindo o que havia na coluna de onde o filme foi produzido:"
      ],
      "metadata": {
        "id": "iz19cegqeAgb"
      }
    },
    {
      "cell_type": "code",
      "source": [
        "treino['production_countries'].value_counts()"
      ],
      "metadata": {
        "colab": {
          "base_uri": "https://localhost:8080/"
        },
        "id": "BdIncpsmc0lS",
        "outputId": "92db3bc8-92ef-4727-f13f-7f65229010b4"
      },
      "execution_count": 585,
      "outputs": [
        {
          "output_type": "execute_result",
          "data": {
            "text/plain": [
              "[{'iso_3166_1': 'US', 'name': 'United States of America'}]                                                                                                                                                                                    1737\n",
              "[{'iso_3166_1': 'GB', 'name': 'United Kingdom'}, {'iso_3166_1': 'US', 'name': 'United States of America'}]                                                                                                                                     117\n",
              "[{'iso_3166_1': 'GB', 'name': 'United Kingdom'}]                                                                                                                                                                                                93\n",
              "[{'iso_3166_1': 'IN', 'name': 'India'}]                                                                                                                                                                                                         68\n",
              "[{'iso_3166_1': 'FR', 'name': 'France'}]                                                                                                                                                                                                        50\n",
              "                                                                                                                                                                                                                                              ... \n",
              "[{'iso_3166_1': 'IT', 'name': 'Italy'}, {'iso_3166_1': 'GB', 'name': 'United Kingdom'}, {'iso_3166_1': 'US', 'name': 'United States of America'}, {'iso_3166_1': 'CZ', 'name': 'Czech Republic'}, {'iso_3166_1': 'DE', 'name': 'Germany'}]       1\n",
              "[{'iso_3166_1': 'IL', 'name': 'Israel'}, {'iso_3166_1': 'FR', 'name': 'France'}, {'iso_3166_1': 'DE', 'name': 'Germany'}]                                                                                                                        1\n",
              "[{'iso_3166_1': 'CN', 'name': 'China'}, {'iso_3166_1': 'US', 'name': 'United States of America'}, {'iso_3166_1': 'HK', 'name': 'Hong Kong'}]                                                                                                     1\n",
              "[{'iso_3166_1': 'FR', 'name': 'France'}, {'iso_3166_1': 'IT', 'name': 'Italy'}, {'iso_3166_1': 'QA', 'name': 'Qatar'}, {'iso_3166_1': 'TN', 'name': 'Tunisia'}]                                                                                  1\n",
              "[{'iso_3166_1': 'DK', 'name': 'Denmark'}, {'iso_3166_1': 'SE', 'name': 'Sweden'}]                                                                                                                                                                1\n",
              "Name: production_countries, Length: 321, dtype: int64"
            ]
          },
          "metadata": {},
          "execution_count": 585
        }
      ]
    },
    {
      "cell_type": "markdown",
      "source": [
        "Como tal dado parece relevante será mantido"
      ],
      "metadata": {
        "id": "jL8iVkwjeCjF"
      }
    },
    {
      "cell_type": "markdown",
      "source": [
        "Conferindo o que havia na coluna data de lançamento:"
      ],
      "metadata": {
        "id": "Al73LQQoY3PS"
      }
    },
    {
      "cell_type": "code",
      "source": [
        "treino['release_date'].value_counts()"
      ],
      "metadata": {
        "colab": {
          "base_uri": "https://localhost:8080/"
        },
        "id": "AF1k0GU_Y2ic",
        "outputId": "aec8883b-9190-48bd-b5a5-3e65b4a67861"
      },
      "execution_count": 586,
      "outputs": [
        {
          "output_type": "execute_result",
          "data": {
            "text/plain": [
              "9/10/10    5\n",
              "9/10/15    5\n",
              "2/4/16     4\n",
              "1/14/10    4\n",
              "9/27/13    4\n",
              "          ..\n",
              "9/11/12    1\n",
              "12/3/06    1\n",
              "1/9/66     1\n",
              "8/22/14    1\n",
              "9/22/11    1\n",
              "Name: release_date, Length: 2348, dtype: int64"
            ]
          },
          "metadata": {},
          "execution_count": 586
        }
      ]
    },
    {
      "cell_type": "markdown",
      "source": [
        "Como tal dado parece relevante será mantido"
      ],
      "metadata": {
        "id": "y1o86Wu0hhlD"
      }
    },
    {
      "cell_type": "markdown",
      "source": [
        "Conferindo o que havia na coluna de tempo de filme:"
      ],
      "metadata": {
        "id": "9xpjsdiLHd9P"
      }
    },
    {
      "cell_type": "code",
      "source": [
        "treino['runtime'].value_counts()"
      ],
      "metadata": {
        "colab": {
          "base_uri": "https://localhost:8080/"
        },
        "id": "WHe2m1O9KNlP",
        "outputId": "cfca62de-4121-4956-d94b-1a4ab386072a"
      },
      "execution_count": 587,
      "outputs": [
        {
          "output_type": "execute_result",
          "data": {
            "text/plain": [
              "90.0     95\n",
              "100.0    93\n",
              "105.0    89\n",
              "95.0     86\n",
              "98.0     84\n",
              "         ..\n",
              "71.0      1\n",
              "60.0      1\n",
              "176.0     1\n",
              "177.0     1\n",
              "182.0     1\n",
              "Name: runtime, Length: 139, dtype: int64"
            ]
          },
          "metadata": {},
          "execution_count": 587
        }
      ]
    },
    {
      "cell_type": "markdown",
      "source": [
        "Como tal dado parece relevante será mantido"
      ],
      "metadata": {
        "id": "Rv97pUcPYxXt"
      }
    },
    {
      "cell_type": "markdown",
      "source": [
        "Conferindo o que havia na coluna de linguas faladas:"
      ],
      "metadata": {
        "id": "vbAIqochHgit"
      }
    },
    {
      "cell_type": "code",
      "source": [
        "treino['spoken_languages'].value_counts()"
      ],
      "metadata": {
        "id": "VGGUXB4_Fwr2",
        "colab": {
          "base_uri": "https://localhost:8080/"
        },
        "outputId": "213b23d0-826e-45b9-f791-1089fac12b43"
      },
      "execution_count": 588,
      "outputs": [
        {
          "output_type": "execute_result",
          "data": {
            "text/plain": [
              "[{'iso_639_1': 'en', 'name': 'English'}]                                                                                                                                                                            1780\n",
              "[{'iso_639_1': 'en', 'name': 'English'}, {'iso_639_1': 'es', 'name': 'Español'}]                                                                                                                                      85\n",
              "[{'iso_639_1': 'en', 'name': 'English'}, {'iso_639_1': 'fr', 'name': 'Français'}]                                                                                                                                     77\n",
              "[{'iso_639_1': 'fr', 'name': 'Français'}]                                                                                                                                                                             40\n",
              "[{'iso_639_1': 'ru', 'name': 'Pусский'}]                                                                                                                                                                              39\n",
              "                                                                                                                                                                                                                    ... \n",
              "[{'iso_639_1': 'am', 'name': ''}]                                                                                                                                                                                      1\n",
              "[{'iso_639_1': 'ar', 'name': 'العربية'}, {'iso_639_1': 'en', 'name': 'English'}, {'iso_639_1': 'fr', 'name': 'Français'}, {'iso_639_1': 'it', 'name': 'Italiano'}]                                                     1\n",
              "[{'iso_639_1': 'cs', 'name': 'Český'}, {'iso_639_1': 'de', 'name': 'Deutsch'}]                                                                                                                                         1\n",
              "[{'iso_639_1': 'en', 'name': 'English'}, {'iso_639_1': 'fr', 'name': 'Français'}, {'iso_639_1': 'it', 'name': 'Italiano'}, {'iso_639_1': 'ru', 'name': 'Pусский'}, {'iso_639_1': 'es', 'name': 'Español'}]             1\n",
              "[{'iso_639_1': 'bg', 'name': 'български език'}, {'iso_639_1': 'en', 'name': 'English'}, {'iso_639_1': 'fr', 'name': 'Français'}, {'iso_639_1': 'ru', 'name': 'Pусский'}, {'iso_639_1': 'es', 'name': 'Español'}]       1\n",
              "Name: spoken_languages, Length: 395, dtype: int64"
            ]
          },
          "metadata": {},
          "execution_count": 588
        }
      ]
    },
    {
      "cell_type": "markdown",
      "source": [
        "Como essa coluna era apenas as linguas faladas no filme e não a lingua de origem do filme foi decidido excluir essa coluna"
      ],
      "metadata": {
        "id": "EtoTyWiOOVXQ"
      }
    },
    {
      "cell_type": "code",
      "source": [
        "treino.drop('spoken_languages', axis=1, inplace=True)"
      ],
      "metadata": {
        "id": "xa_68OrvNv-h"
      },
      "execution_count": 589,
      "outputs": []
    },
    {
      "cell_type": "markdown",
      "source": [
        "Conferindo o que havia na coluna de status:"
      ],
      "metadata": {
        "id": "Ws0aMfouHkl2"
      }
    },
    {
      "cell_type": "code",
      "source": [
        "treino['status'].value_counts()"
      ],
      "metadata": {
        "colab": {
          "base_uri": "https://localhost:8080/"
        },
        "id": "RvrciROKAJqI",
        "outputId": "652d3ac0-e946-42d5-8f6b-f8fe6b7edf45"
      },
      "execution_count": 590,
      "outputs": [
        {
          "output_type": "execute_result",
          "data": {
            "text/plain": [
              "Released    2908\n",
              "Rumored        3\n",
              "Name: status, dtype: int64"
            ]
          },
          "metadata": {},
          "execution_count": 590
        }
      ]
    },
    {
      "cell_type": "markdown",
      "source": [
        "Como tinham apenas 3 filmes não lançados foi decidido excluir essa coluna"
      ],
      "metadata": {
        "id": "5Wiyv3MiOFuu"
      }
    },
    {
      "cell_type": "code",
      "source": [
        "treino.drop('status', axis=1, inplace=True)"
      ],
      "metadata": {
        "id": "w4jKhWjXOApM"
      },
      "execution_count": 591,
      "outputs": []
    },
    {
      "cell_type": "markdown",
      "source": [
        "Conferindo o que havia na coluna de \"slogan\":"
      ],
      "metadata": {
        "id": "Rh9Gx0m9HquX"
      }
    },
    {
      "cell_type": "code",
      "source": [
        "treino['tagline'].value_counts()"
      ],
      "metadata": {
        "colab": {
          "base_uri": "https://localhost:8080/"
        },
        "id": "-P7akaM2vWNq",
        "outputId": "09821c63-536d-4a6a-ecbd-89559e788c0c"
      },
      "execution_count": 592,
      "outputs": [
        {
          "output_type": "execute_result",
          "data": {
            "text/plain": [
              "Based on a true story.                                  3\n",
              "Who is John Galt?                                       2\n",
              "The Laws of Space and Time are About to be Violated.    1\n",
              "They can't keep their hands off each others assets.     1\n",
              "Get ready to root for the bad guys.                     1\n",
              "                                                       ..\n",
              "A god incarnate. A city doomed.                         1\n",
              "Live or die. Make your choice.                          1\n",
              "Who's your daddy?                                       1\n",
              "A movie for people who love movies.                     1\n",
              "They stole his life. He's taking it back.               1\n",
              "Name: tagline, Length: 2356, dtype: int64"
            ]
          },
          "metadata": {},
          "execution_count": 592
        }
      ]
    },
    {
      "cell_type": "markdown",
      "source": [
        "Como essa coluna tinha os \"slogans\" dos filmes precisaria de um estudo mais aprofundado das palavras usadas, para que tal coluna fosse relevante\n"
      ],
      "metadata": {
        "id": "ZHMhwtSUdzwx"
      }
    },
    {
      "cell_type": "code",
      "source": [
        "treino.drop('tagline', axis=1, inplace=True)"
      ],
      "metadata": {
        "id": "ci8aRE7bOJA9"
      },
      "execution_count": 593,
      "outputs": []
    },
    {
      "cell_type": "markdown",
      "source": [
        "Conferindo o que havia na coluna de título:"
      ],
      "metadata": {
        "id": "0wSLkDZQZvn8"
      }
    },
    {
      "cell_type": "code",
      "source": [
        "treino['title'].value_counts()"
      ],
      "metadata": {
        "colab": {
          "base_uri": "https://localhost:8080/"
        },
        "id": "VNId4Xb2Zt5d",
        "outputId": "48d6c05d-78f0-426c-91d2-de70845f44f4"
      },
      "execution_count": 594,
      "outputs": [
        {
          "output_type": "execute_result",
          "data": {
            "text/plain": [
              "Anna Karenina                 2\n",
              "Sahara                        2\n",
              "Alone in the Dark             2\n",
              "Black Sheep                   2\n",
              "Bad Boys                      2\n",
              "                             ..\n",
              "A Love Song for Bobby Long    1\n",
              "The Lunchbox                  1\n",
              "The Bone Collector            1\n",
              "Zyzzyx Road                   1\n",
              "Abduction                     1\n",
              "Name: title, Length: 2882, dtype: int64"
            ]
          },
          "metadata": {},
          "execution_count": 594
        }
      ]
    },
    {
      "cell_type": "markdown",
      "source": [
        "Como foram tirada a maioria das colunas com palavras o estudo será focado nessa coluna e na de elenco. Logo essa coluna será mantida"
      ],
      "metadata": {
        "id": "tZKwX9f7Zwls"
      }
    },
    {
      "cell_type": "markdown",
      "source": [
        "Conferindo o que havia na coluna de palavras chaves:"
      ],
      "metadata": {
        "id": "EpgdaPlSHtNv"
      }
    },
    {
      "cell_type": "code",
      "source": [
        "treino['Keywords'].value_counts()"
      ],
      "metadata": {
        "colab": {
          "base_uri": "https://localhost:8080/"
        },
        "id": "vy2nz1J3wTmw",
        "outputId": "175eee01-2aac-4564-8e6e-1f5aff838c38"
      },
      "execution_count": 595,
      "outputs": [
        {
          "output_type": "execute_result",
          "data": {
            "text/plain": [
              "[{'id': 10183, 'name': 'independent film'}]                                                                                                                                                                                                                                                                                                                                                                                                                                      26\n",
              "[{'id': 187056, 'name': 'woman director'}]                                                                                                                                                                                                                                                                                                                                                                                                                                       16\n",
              "[{'id': 179431, 'name': 'duringcreditsstinger'}]                                                                                                                                                                                                                                                                                                                                                                                                                                  7\n",
              "[{'id': 9937, 'name': 'suspense'}]                                                                                                                                                                                                                                                                                                                                                                                                                                                6\n",
              "[{'id': 5565, 'name': 'biography'}]                                                                                                                                                                                                                                                                                                                                                                                                                                               5\n",
              "                                                                                                                                                                                                                                                                                                                                                                                                                                                                                 ..\n",
              "[{'id': 1157, 'name': 'wife husband relationship'}, {'id': 2793, 'name': 'film director'}, {'id': 5565, 'name': 'biography'}, {'id': 184793, 'name': 'movie set'}, {'id': 185482, 'name': 'movie actress'}, {'id': 185483, 'name': 'movie actor'}]                                                                                                                                                                                                                                1\n",
              "[{'id': 1252, 'name': 'suicide attempt'}, {'id': 1741, 'name': 'blindness and impaired vision'}, {'id': 4543, 'name': 'thanksgiving'}, {'id': 6271, 'name': 'boarding school'}, {'id': 9864, 'name': 'prank'}, {'id': 10786, 'name': 'colonel'}, {'id': 12105, 'name': 'student'}, {'id': 14512, 'name': 'new york city'}, {'id': 14708, 'name': 'tears'}, {'id': 183241, 'name': 'change of heart'}, {'id': 185994, 'name': 'ex military'}]                                      1\n",
              "[{'id': 2820, 'name': 'wound'}, {'id': 4560, 'name': 'mountaineer'}, {'id': 5967, 'name': 'peru'}, {'id': 6075, 'name': 'sport'}, {'id': 7330, 'name': 'glacier'}, {'id': 8624, 'name': 'climbing'}, {'id': 10084, 'name': 'rescue'}, {'id': 10794, 'name': 'snow'}, {'id': 209455, 'name': 'cordillera huayhuash'}]                                                                                                                                                              1\n",
              "[{'id': 2122, 'name': 'death penalty'}, {'id': 5946, 'name': 'ethiopia'}, {'id': 18339, 'name': 'human rights'}, {'id': 164149, 'name': 'attempted kidnapping'}, {'id': 170865, 'name': 'child kidnapping'}]                                                                                                                                                                                                                                                                      1\n",
              "[{'id': 591, 'name': 'cia'}, {'id': 822, 'name': 'airport'}, {'id': 1701, 'name': 'hero'}, {'id': 1721, 'name': 'fight'}, {'id': 1930, 'name': 'kidnapping'}, {'id': 3562, 'name': 'time bomb'}, {'id': 4613, 'name': 'training'}, {'id': 6435, 'name': 'webcam'}, {'id': 6614, 'name': 'website'}, {'id': 8508, 'name': 'party'}, {'id': 10562, 'name': 'on the run'}, {'id': 11612, 'name': 'hospital'}, {'id': 13008, 'name': 'train'}, {'id': 13130, 'name': 'teenager'}]     1\n",
              "Name: Keywords, Length: 2605, dtype: int64"
            ]
          },
          "metadata": {},
          "execution_count": 595
        }
      ]
    },
    {
      "cell_type": "markdown",
      "source": [
        "Como essa coluna tinha as palavras-chaves dos filmes precisaria de um estudo mais aprofundado das palavras usadas, para que tal coluna fosse relevante\n"
      ],
      "metadata": {
        "id": "e5fZBjrMbgyS"
      }
    },
    {
      "cell_type": "code",
      "source": [
        "treino.drop('Keywords', axis=1, inplace=True)"
      ],
      "metadata": {
        "id": "eYIThCvkOK20"
      },
      "execution_count": 596,
      "outputs": []
    },
    {
      "cell_type": "markdown",
      "source": [
        "Conferindo o que havia na coluna de elenco:"
      ],
      "metadata": {
        "id": "ZUA9Nl0dakID"
      }
    },
    {
      "cell_type": "code",
      "source": [
        "treino['cast'].value_counts()"
      ],
      "metadata": {
        "colab": {
          "base_uri": "https://localhost:8080/"
        },
        "id": "Z6j0tgZ3akpJ",
        "outputId": "63084959-42f3-4cd6-dc62-b171daff9750"
      },
      "execution_count": 597,
      "outputs": [
        {
          "output_type": "execute_result",
          "data": {
            "text/plain": [
              "[]                                                                                                                                                                                                                                                                                                                                                                                                                                                                                                                                                                                                                                                                                                                                                                                                                                                                                                                                                                                                                                                                                                                                                                                                                                                                                                                                                                                                                                                                                                                                                                                                                                                                                                                                                                                                                                                                                                                                                                                                                                                                                                                                                                                                                                                                                                                                                                                                                                                                                                                                                                                                                                                                                                                                                                                                                                                                                                                                                                                                                                                                                                                                                                                                                                                                                                                                                                                                                                                                                                                                                                                                                                                                                                                                                                                                                                                                                                                                                                                                                                                                                                                                                                                                                                                                                                                                                                                                                                                                                                                                                                                                                                                                                                                                                                                                                                                                                                                                                                                                                                                                                                                                                                                                                                                                                                                                                                                                                                                                                                                                                                                                                                                                                                                                                                                                                                                                                                                                                                                                                                                                                                                                                                                                                                                                                                                                                                                                                                                                                                                                                                                                                                                                                                                                                                                                                                                                                                                                                                                                                                                                                                                                                                                                                                                                                                                                                                                                                                                                                                                                                                                                                                                                                                                                                                                                                                                                                                                                                                                                                                                                                                                                                                                                                                                                                                                                                                                                                                                                                                                                                                                                                                                                                                                                                                                                                                                                                                                                                                                                                                                                                                                                                                                                                                                                                                                                                                                                                                                                                                                                                                                                                                                                                                                                                                                                                                                                                                                                                                                                                                                                                                                                                                                                                                                                                                                                                                                                                                            9\n",
              "[{'cast_id': 1, 'character': 'Dr. Sam Loomis', 'credit_id': '52fe442f9251416c7502bc83', 'gender': 2, 'id': 9221, 'name': 'Donald Pleasence', 'order': 0, 'profile_path': '/fr9lf679ZsHbDZsbcpKZfbFO1Pu.jpg'}, {'cast_id': 2, 'character': 'Rachel Carruthers', 'credit_id': '52fe442f9251416c7502bc87', 'gender': 1, 'id': 62589, 'name': 'Ellie Cornell', 'order': 1, 'profile_path': '/zYOoUWU5vUpvcawOjiqFTsPz59B.jpg'}, {'cast_id': 3, 'character': 'Jamie Lloyd', 'credit_id': '52fe442f9251416c7502bc8b', 'gender': 1, 'id': 21320, 'name': 'Danielle Harris', 'order': 2, 'profile_path': '/q3wQP4ZwVjfBerFK0iVZPzaF5BL.jpg'}, {'cast_id': 4, 'character': 'Michael Myers', 'credit_id': '52fe442f9251416c7502bc8f', 'gender': 2, 'id': 69129, 'name': 'George P. Wilbur', 'order': 3, 'profile_path': '/dwxRPdqNgdhJqLyp7e80rr899pz.jpg'}, {'cast_id': 5, 'character': 'Dr. Hoffman', 'credit_id': '52fe442f9251416c7502bc93', 'gender': 0, 'id': 15993, 'name': 'Michael Pataki', 'order': 4, 'profile_path': '/bwkT9HQr1HkGBToA1Mz4ej2F6Ra.jpg'}, {'cast_id': 6, 'character': 'Sheriff Ben Meeker', 'credit_id': '52fe442f9251416c7502bc97', 'gender': 2, 'id': 42308, 'name': 'Beau Starr', 'order': 5, 'profile_path': '/hUQfwJYLuaQhdx02MWhzQuwFzxW.jpg'}, {'cast_id': 7, 'character': 'Kelly Meeker', 'credit_id': '52fe442f9251416c7502bc9b', 'gender': 1, 'id': 69130, 'name': 'Kathleen Kinmont', 'order': 6, 'profile_path': '/4kM7flwBLWUxHYy3Sv5e7rcFgJ1.jpg'}, {'cast_id': 15, 'character': 'Brady', 'credit_id': '52fe442f9251416c7502bcc9', 'gender': 2, 'id': 58000, 'name': 'Sasha Jenson', 'order': 7, 'profile_path': None}, {'cast_id': 16, 'character': 'Earl', 'credit_id': '52fe442f9251416c7502bccd', 'gender': 2, 'id': 9295, 'name': 'Gene Ross', 'order': 8, 'profile_path': None}, {'cast_id': 17, 'character': 'Rev. Jackson P. Sayer', 'credit_id': '52fe442f9251416c7502bcd1', 'gender': 2, 'id': 154073, 'name': 'Carmen Filpi', 'order': 9, 'profile_path': '/a1XRRqiUDBC4Wlg5fklVhfvnWLx.jpg'}, {'cast_id': 18, 'character': 'Security Guard', 'credit_id': '52fe442f9251416c7502bcd5', 'gender': 2, 'id': 84606, 'name': \"Raymond O'Connor\", 'order': 10, 'profile_path': '/bIC6drKtKjr4F2GXQwbBgJGh8y9.jpg'}, {'cast_id': 19, 'character': 'Richard Carruthers', 'credit_id': '52fe442f9251416c7502bcd9', 'gender': 0, 'id': 146337, 'name': 'Jeff Olson', 'order': 11, 'profile_path': None}, {'cast_id': 20, 'character': 'Darlene Carruthers', 'credit_id': '52fe442f9251416c7502bcdd', 'gender': 1, 'id': 1107034, 'name': 'Karen Alston', 'order': 12, 'profile_path': None}, {'cast_id': 21, 'character': 'Woman Attendant', 'credit_id': '52fe442f9251416c7502bce1', 'gender': 1, 'id': 1107162, 'name': 'Nancy Borgenicht', 'order': 13, 'profile_path': None}, {'cast_id': 22, 'character': 'Man Attendant', 'credit_id': '58ac76eb9251415900016333', 'gender': 2, 'id': 1099080, 'name': 'David Jensen', 'order': 14, 'profile_path': '/mpbAx4xrdeGMdvEdpyE0J2tWJSA.jpg'}, {'cast_id': 23, 'character': 'Bucky - Power Worker', 'credit_id': '58ac773292514158bc01685d', 'gender': 0, 'id': 1107079, 'name': 'Harlow Marks', 'order': 15, 'profile_path': None}, {'cast_id': 24, 'character': \"Dr. Hoffman's Assistant\", 'credit_id': '58ac7752925141590001636e', 'gender': 0, 'id': 1762933, 'name': 'M.J. McDonnell', 'order': 16, 'profile_path': None}, {'cast_id': 25, 'character': 'Wade', 'credit_id': '58ac776bc3a3684a0a015ab1', 'gender': 0, 'id': 1762934, 'name': 'Richard Stay', 'order': 17, 'profile_path': None}, {'cast_id': 26, 'character': 'Deputy Pierce', 'credit_id': '58ac778b925141590e014b76', 'gender': 2, 'id': 7144, 'name': 'Michael Flynn', 'order': 18, 'profile_path': '/46QxGvHhnyAl803ioYA3wtxUHcW.jpg'}, {'cast_id': 27, 'character': 'Deputy Logan', 'credit_id': '58ac77a0c3a36849d401341b', 'gender': 0, 'id': 200803, 'name': 'George Sullivan', 'order': 19, 'profile_path': None}, {'cast_id': 28, 'character': 'Big Al', 'credit_id': '58ac77be92514158bc0168b2', 'gender': 0, 'id': 1195003, 'name': 'Michael Ruud', 'order': 20, 'profile_path': None}, {'cast_id': 29, 'character': 'State Policeman', 'credit_id': '58ac77da92514158c00164a9', 'gender': 2, 'id': 954790, 'name': 'Donr√© Sampson', 'order': 21, 'profile_path': None}, {'cast_id': 30, 'character': \"Dead Penney's Gas Waitress\", 'credit_id': '58ac77fec3a3684a0a015b10', 'gender': 0, 'id': 1762938, 'name': 'Kelly Lookinland', 'order': 22, 'profile_path': None}, {'cast_id': 31, 'character': 'Young Michael Myers', 'credit_id': '58ac781892514158c4016037', 'gender': 0, 'id': 1762939, 'name': 'Erik Preston', 'order': 23, 'profile_path': None}]                                                                                                                                                                                                                                                                                                                                                                                                                                                                                                                                                                                                                                                                                                                                                                                                                                                                                                                                                                                                                                                                                                                                                                                                                                                                                                                                                                                                                                                                                                                                                                                                                                                                                                                                                                                                                                                                                                                                                                                                                                                                                                                                                                                                                                                                                                                                                                                                                                                                                                                                                                                                                                                                                                                                                                                                                                                                                                                                                                                                                                                                                                                                                                                                                                                                                                                                                                                                                                                                                                                                                                                                                                                                                                                                                                                                                                                                                                                                                                                                                                                                                                                                                                                                                                                                                                                                                                                                                                                                                                                                                                                                                                                                                                                                                                                                                                                                                                                                                                                                                                                                                                                                                                                                                                                                                                                                                                                                                                                                                                                                                                                                                                                                                                             1\n",
              "[{'cast_id': 1000, 'character': 'Karuppu', 'credit_id': '52fe4780c3a368484e0ca92f', 'gender': 2, 'id': 550165, 'name': 'Dhanush', 'order': 0, 'profile_path': '/4VZ4O3GRnp0FK99pnhYF9wELuUm.jpg'}, {'cast_id': 1001, 'character': 'Durai', 'credit_id': '52fe4780c3a368484e0ca933', 'gender': 2, 'id': 550166, 'name': 'Kishore', 'order': 1, 'profile_path': '/qhBzwskrdPoRgphqzBLuofdeF5y.jpg'}, {'cast_id': 1002, 'character': 'Irene Claude', 'credit_id': '52fe4780c3a368484e0ca937', 'gender': 1, 'id': 550167, 'name': 'Taapsee Pannu', 'order': 2, 'profile_path': '/mllrw7byQxz0YQW9Wi0I1RKZE5B.jpg'}, {'cast_id': 1004, 'character': \"Pettaikaran's wife\", 'credit_id': '52fe4780c3a368484e0ca93f', 'gender': 0, 'id': 550169, 'name': 'Meenal', 'order': 4, 'profile_path': '/pE7xKIwzRn59B9mB8OjxTM1VnLi.jpg'}, {'cast_id': 1013, 'character': 'Rathnasamy', 'credit_id': '53aeb9830e0a265975004687', 'gender': 2, 'id': 503842, 'name': 'Aadukalam Naren', 'order': 5, 'profile_path': '/zTMaxYRxJHix48GyW1PwFmGXMC2.jpg'}, {'cast_id': 1006, 'character': 'Ayub', 'credit_id': '52fe4780c3a368484e0ca947', 'gender': 0, 'id': 550171, 'name': 'Periyakaruppu Thevar', 'order': 6, 'profile_path': None}, {'cast_id': 1012, 'character': 'Dinesh', 'credit_id': '532e0988c3a3685fcb00295a', 'gender': 2, 'id': 1114581, 'name': 'Dinesh Ravi', 'order': 7, 'profile_path': '/ap4KcScPnTzj9IEy3b2LiH87nMy.jpg'}, {'cast_id': 1014, 'character': 'Pettaikaran', 'credit_id': '55b1d147c3a3682ff900e900', 'gender': 2, 'id': 1337015, 'name': 'V. I. S. Jayapalan', 'order': 8, 'profile_path': '/x8fcxNEuuDTlFz2ekHDOnaeYq1g.jpg'}]                                                                                                                                                                                                                                                                                                                                                                                                                                                                                                                                                                                                                                                                                                                                                                                                                                                                                                                                                                                                                                                                                                                                                                                                                                                                                                                                                                                                                                                                                                                                                                                                                                                                                                                                                                                                                                                                                                                                                                                                                                                                                                                                                                                                                                                                                                                                                                                                                                                                                                                                                                                                                                                                                                                                                                                                                                                                                                                                                                                                                                                                                                                                                                                                                                                                                                                                                                                                                                                                                                                                                                                                                                                                                                                                                                                                                                                                                                                                                                                                                                                                                                                                                                                                                                                                                                                                                                                                                                                                                                                                                                                                                                                                                                                                                                                                                                                                                                                                                                                                                                                                                                                                                                                                                                                                                                                                                                                                                                                                                                                                                                                                                                                                                                                                                                                                                                                                                                                                                                                                                                                                                                                                                                                                                                                                                                                                                                                                                                                                                                                                                                                                                                                                                                                                                                                                                                                                                                                                                                                                                                                                                                                                                                                                                                                                                                                                                                                                                                                                                                                                                                                                                                                                                                                                                                                                                                                                                                                                                                                                                                                                                                                                                                                                                                                                                                                                                                                                                                                                                                                                                                                                                                                                                                                                                                                                1\n",
              "[{'cast_id': 0, 'character': 'Batman / Bruce Wayne (voice)', 'credit_id': '535192d20e0a26561400197f', 'gender': 2, 'id': 34947, 'name': 'Kevin Conroy', 'order': 0, 'profile_path': '/4MVApMiARrecuVjTCPfi6Z7biLW.jpg'}, {'cast_id': 11, 'character': 'Deadshot / Floyd Lawton (voice)', 'credit_id': '537d3679c3a368059e000041', 'gender': 2, 'id': 2203, 'name': 'Neal McDonough', 'order': 1, 'profile_path': '/8Vg7WKE4QEGz18at8mQHP9aqEbB.jpg'}, {'cast_id': 23, 'character': 'The Riddler / Edward Nigma (voice)', 'credit_id': '53e182c3c3a3686d18000200', 'gender': 2, 'id': 5661, 'name': 'Matthew Gray Gubler', 'order': 2, 'profile_path': '/l7wFN37wNnt4HYNz1Im94RkBwF7.jpg'}, {'cast_id': 22, 'character': 'Harley Quinn / Harleen Quinzel (voice)', 'credit_id': '53e181ddc3a3686d260001f8', 'gender': 1, 'id': 113919, 'name': 'Hynden Walch', 'order': 3, 'profile_path': '/gCHMyVwt2vlQt3AYPfoknVmklXI.jpg'}, {'cast_id': 1, 'character': 'The Joker (voice)', 'credit_id': '5351937a0e0a26560e0019ad', 'gender': 2, 'id': 963818, 'name': 'Troy Baker', 'order': 4, 'profile_path': '/akfCaU7Gsxft4gd4B7zjtqshjux.jpg'}, {'cast_id': 24, 'character': 'G.C.P.D. Commissioner James Gordon (voice)', 'credit_id': '53e182f80e0a260af000034d', 'gender': 2, 'id': 136930, 'name': 'Chris Cox', 'order': 5, 'profile_path': None}, {'cast_id': 31, 'character': 'King Shark / Nanaue / Bane (voice)', 'credit_id': '567a8e8f92514106f5002190', 'gender': 0, 'id': 31531, 'name': 'John DiMaggio', 'order': 6, 'profile_path': '/4gEy7tWkh95mgfsiHmTuFQkeRkx.jpg'}, {'cast_id': 29, 'character': 'Captain Boomerang', 'credit_id': '53e183e30e0a260af600032b', 'gender': 2, 'id': 4031, 'name': 'Greg Ellis', 'order': 8, 'profile_path': '/qQvPe0TO5yYJCSNIM8KRf55F5cw.jpg'}, {'cast_id': 15, 'character': 'Black Spider / Eric Needham (voice)', 'credit_id': '537d36efc3a36805a1000046', 'gender': 2, 'id': 4808, 'name': 'Giancarlo Esposito', 'order': 9, 'profile_path': '/7oLo0CMGzBtWmePnTnGldnM4jQE.jpg'}, {'cast_id': 30, 'character': 'Killer Frost / Louise Lincoln (voice)', 'credit_id': '53e184120e0a260af6000335', 'gender': 1, 'id': 81667, 'name': 'Jennifer Hale', 'order': 10, 'profile_path': '/vdU4NPiUGTksctN6IrxMP3nXxgR.jpg'}, {'cast_id': 6, 'character': 'Alfred Pennyworth (voice)', 'credit_id': '535194610e0a265611001a61', 'gender': 2, 'id': 126363, 'name': 'Martin Jarvis', 'order': 11, 'profile_path': '/215m6UHCFodTbvhnNi2cGWcUZWT.jpg'}, {'cast_id': 4, 'character': 'The Penguin / Oswald Cobblepot / KGBeast / Anatoli Knyazev (voice)', 'credit_id': '535193f50e0a2656030019ec', 'gender': 2, 'id': 19508, 'name': 'Nolan North', 'order': 12, 'profile_path': '/3mCPGjyH6bzSZ6yYE4Um1ntsz6x.jpg'}, {'cast_id': 12, 'character': 'Amanda Waller (voice)', 'credit_id': '537d3693c3a368059b000032', 'gender': 1, 'id': 30485, 'name': 'CCH Pounder', 'order': 13, 'profile_path': '/4Xu155Rt87p42HVxI2L6Hf9AB4w.jpg'}, {'cast_id': 32, 'character': 'Security Guy (voice)', 'credit_id': '567a8ed9c3a3685bbc002428', 'gender': 0, 'id': 89599, 'name': 'Eric Bauza', 'order': 14, 'profile_path': '/afOlsVPQxbtkom604MeCemjlwEV.jpg'}, {'cast_id': 33, 'character': 'Watch Commander (voice)', 'credit_id': '567a8ed9c3a3685bbc00242a', 'gender': 0, 'id': 1214810, 'name': 'Peter Jessop', 'order': 15, 'profile_path': None}, {'cast_id': 34, 'character': 'Scarecrow / Dr. Jonathan Crane / Victor Zsasz (voice)', 'credit_id': '567a8edac3a3685bc30022d6', 'gender': 0, 'id': 1552817, 'name': 'Christian Lanz', 'order': 16, 'profile_path': None}, {'cast_id': 35, 'character': 'Stout Guard (voice)', 'credit_id': '567a8eda92514106eb002224', 'gender': 0, 'id': 1552818, 'name': 'Christopher L. Parson', 'order': 17, 'profile_path': None}, {'cast_id': 36, 'character': 'Woman (voice)', 'credit_id': '567a8edac3a3685bb6001e58', 'gender': 0, 'id': 34945, 'name': 'Andrea Romano', 'order': 18, 'profile_path': '/1XTwon7oYI6nl9YWtrYC4AkjgID.jpg'}, {'cast_id': 37, 'character': 'Morgue Guy / Penguin Thug (voice)', 'credit_id': '567a8edac3a3685bb90021f3', 'gender': 2, 'id': 1221888, 'name': 'Travis Willingham', 'order': 19, 'profile_path': '/clvP30k6cUMf4hukRQqZD3k9z4S.jpg'}, {'cast_id': 38, 'character': 'Joker Security Guy (voice)', 'credit_id': '567a8edbc3a3685bdf002298', 'gender': 0, 'id': 971877, 'name': 'Mick Wingert', 'order': 20, 'profile_path': '/7Vf2Uem42xSZarPljlQqUntWisb.jpg'}]                                                                                                                                                                                                                                                                                                                                                                                                                                                                                                                                                                                                                                                                                                                                                                                                                                                                                                                                                                                                                                                                                                                                                                                                                                                                                                                                                                                                                                                                                                                                                                                                                                                                                                                                                                                                                                                                                                                                                                                                                                                                                                                                                                                                                                                                                                                                                                                                                                                                                                                                                                                                                                                                                                                                                                                                                                                                                                                                                                                                                                                                                                                                                                                                                                                                                                                                                                                                                                                                                                                                                                                                                                                                                                                                                                                                                                                                                                                                                                                                                                                                                                                                                                                                                                                                                                                                                                                                                                                                                                                                                                                                                                                                                                                                                                                                                                                                                                                                                                                                                                                                                                                                                                                                                                                                                                                                                                                                                                                                                                                                                                                                                                                                                                                                                                                                                                                                                                                                                      1\n",
              "[{'cast_id': 1, 'character': 'John Smith', 'credit_id': '52fe44e8c3a36847f80b138f', 'gender': 2, 'id': 62, 'name': 'Bruce Willis', 'order': 0, 'profile_path': '/2B7RySy2WMVJKKEFN2XA3IFb8w0.jpg'}, {'cast_id': 2, 'character': 'Sheriff Ed Galt', 'credit_id': '52fe44e8c3a36847f80b1393', 'gender': 1, 'id': 6905, 'name': 'Bruce Dern', 'order': 1, 'profile_path': '/lumA2Tb4YAfClkCRDCR0YrDimmF.jpg'}, {'cast_id': 3, 'character': 'Joe Monday', 'credit_id': '52fe44e8c3a36847f80b1397', 'gender': 2, 'id': 590, 'name': 'William Sanderson', 'order': 2, 'profile_path': '/vR2EnhcPUqkIeXmHf10Sokeuw1J.jpg'}, {'cast_id': 4, 'character': 'Hickey', 'credit_id': '52fe44e8c3a36847f80b139b', 'gender': 2, 'id': 4690, 'name': 'Christopher Walken', 'order': 3, 'profile_path': '/ysO1GwRzLT9OVAB9Y2SKHxomqDr.jpg'}, {'cast_id': 14, 'character': 'Doyle', 'credit_id': '52fe44e8c3a36847f80b13d5', 'gender': 2, 'id': 1737, 'name': 'David Patrick Kelly', 'order': 4, 'profile_path': '/ujvmeyBvEJ7gkvww0OYDBlbxOTT.jpg'}, {'cast_id': 15, 'character': 'Felina', 'credit_id': '52fe44e8c3a36847f80b13d9', 'gender': 1, 'id': 11068, 'name': 'Karina Lombard', 'order': 5, 'profile_path': '/8uS7dXBJCTQaHQGyTFc2EhB9mKD.jpg'}, {'cast_id': 16, 'character': 'Fredo Strozzi', 'credit_id': '52fe44e8c3a36847f80b13dd', 'gender': 2, 'id': 137529, 'name': 'Ned Eisenberg', 'order': 6, 'profile_path': '/ohy0wy7JbQCD0qPqtLJ3NcxJ8C8.jpg'}, {'cast_id': 17, 'character': 'Lucy Kolinski', 'credit_id': '52fe44e8c3a36847f80b13e1', 'gender': 1, 'id': 131183, 'name': 'Alexandra Powers', 'order': 7, 'profile_path': '/bcZFHTddjsAR73j0rlRetktvEIE.jpg'}, {'cast_id': 18, 'character': 'Giorgio Carmonte', 'credit_id': '52fe44e8c3a36847f80b13e5', 'gender': 2, 'id': 11486, 'name': 'Michael Imperioli', 'order': 8, 'profile_path': '/3AupsGJOUaAiXXaq626wzKaLiZ8.jpg'}, {'cast_id': 19, 'character': 'Captain Tom Pickett', 'credit_id': '52fe44e8c3a36847f80b13e9', 'gender': 2, 'id': 38570, 'name': 'Ken Jenkins', 'order': 9, 'profile_path': '/6w9OgC4nGUfYavC86a3FeeMgUJ4.jpg'}, {'cast_id': 20, 'character': 'Jack McCool', 'credit_id': '52fe44e8c3a36847f80b13ed', 'gender': 2, 'id': 49832, 'name': 'R. D. Call', 'order': 10, 'profile_path': '/txa2FUem2tQGPH5HQR6WceIX9B7.jpg'}, {'cast_id': 21, 'character': 'Deputy Bob', 'credit_id': '52fe44e8c3a36847f80b13f1', 'gender': 2, 'id': 136195, 'name': 'Ted Markland', 'order': 11, 'profile_path': '/orBobhJSFxq1TgRM9qKv0lJwV9v.jpg'}, {'cast_id': 22, 'character': 'Wanda', 'credit_id': '52fe44e8c3a36847f80b13f5', 'gender': 1, 'id': 41087, 'name': 'Leslie Mann', 'order': 12, 'profile_path': '/lQwcjcy5R4gZZGDkelvWbsKDoZq.jpg'}, {'cast_id': 23, 'character': 'Finn', 'credit_id': '52fe44e8c3a36847f80b13f9', 'gender': 2, 'id': 32286, 'name': 'Patrick Kilpatrick', 'order': 13, 'profile_path': '/wEu61ecaSkCN1mD4vXf5WlrUKTV.jpg'}, {'cast_id': 24, 'character': 'Comandante Ramirez', 'credit_id': '52fe44e8c3a36847f80b13fd', 'gender': 2, 'id': 85870, 'name': 'Luis Contreras', 'order': 14, 'profile_path': '/1OZ6UwzgLEFWvHJXyOvZTYuYisq.jpg'}, {'cast_id': 25, 'character': 'Gas Station Attendant', 'credit_id': '52fe44e8c3a36847f80b1401', 'gender': 2, 'id': 21082, 'name': 'Raynor Scheine', 'order': 15, 'profile_path': '/o5jW5NDeFPIyETEVJQItQEqmJcx.jpg'}, {'cast_id': 26, 'character': 'Jacko the Giant', 'credit_id': '52fe44e8c3a36847f80b1405', 'gender': 2, 'id': 98579, 'name': 'Tiny Ron Taylor', 'order': 16, 'profile_path': '/wSA3KPLbETH9JwyJ8ZvCakb4n8h.jpg'}, {'cast_id': 27, 'character': 'The Undertaker', 'credit_id': '52fe44e8c3a36847f80b1409', 'gender': 0, 'id': 19326, 'name': 'John Paxton', 'order': 17, 'profile_path': '/bizhhVVs4y8CfHzPfqPYNEvs2eZ.jpg'}, {'cast_id': 28, 'character': 'Berto', 'credit_id': '52fe44e8c3a36847f80b140d', 'gender': 0, 'id': 112150, 'name': 'Michael Cavalieri', 'order': 18, 'profile_path': '/ckCQxGL1A3NsfwamGXkGOwLcz8d.jpg'}, {'cast_id': 29, 'character': 'Santo', 'credit_id': '52fe44e8c3a36847f80b1411', 'gender': 0, 'id': 1130949, 'name': 'Hannes Fritsch', 'order': 19, 'profile_path': None}, {'cast_id': 30, 'character': 'Docker', 'credit_id': '52fe44e8c3a36847f80b1415', 'gender': 0, 'id': 82687, 'name': 'Michael Strasser', 'order': 20, 'profile_path': None}, {'cast_id': 31, 'character': 'Burke', 'credit_id': '52fe44e8c3a36847f80b1419', 'gender': 0, 'id': 79651, 'name': \"Matt O'Toole\", 'order': 21, 'profile_path': '/kNWX5D3SU9Z666M8OcOy5QUF3my.jpg'}, {'cast_id': 32, 'character': 'The Madame', 'credit_id': '52fe44e8c3a36847f80b141d', 'gender': 1, 'id': 7401, 'name': 'Lin Shaye', 'order': 22, 'profile_path': '/erD3UM1YDkRS46D3XkhTSNXtRyg.jpg'}, {'cast_id': 33, 'character': 'Border Patrolman', 'credit_id': '52fe44e9c3a36847f80b1421', 'gender': 0, 'id': 195981, 'name': 'Larry Holt', 'order': 23, 'profile_path': None}, {'cast_id': 34, 'character': 'Donnie', 'credit_id': '571cd91dc3a3684e980017a2', 'gender': 2, 'id': 1279744, 'name': 'Dean Rader Duval', 'order': 24, 'profile_path': '/dbvphLdVQwcW9JHIqufKhC3HtLx.jpg'}]                                                                                                                                                                                                                                                                                                                                                                                                                                                                                                                                                                                                                                                                                                                                                                                                                                                                                                                                                                                                                                                                                                                                                                                                                                                                                                                                                                                                                                                                                                                                                                                                                                                                                                                                                                                                                                                                                                                                                                                                                                                                                                                                                                                                                                                                                                                                                                                                                                                                                                                                                                                                                                                                                                                                                                                                                                                                                                                                                                                                                                                                                                                                                                                                                                                                                                                                                                                                                                                                                                                                                                                                                                                                                                                                                                                                                                                                                                                                                                                                                                                                                                                                                                                                                                                                                                                                                                                                                                                                                                                                                                                                                                                                                                                                                                                                                                                                                                                                                                                                                                                                                                                                                                                                                                                                                  1\n",
              "                                                                                                                                                                                                                                                                                                                                                                                                                                                                                                                                                                                                                                                                                                                                                                                                                                                                                                                                                                                                                                                                                                                                                                                                                                                                                                                                                                                                                                                                                                                                                                                                                                                                                                                                                                                                                                                                                                                                                                                                                                                                                                                                                                                                                                                                                                                                                                                                                                                                                                                                                                                                                                                                                                                                                                                                                                                                                                                                                                                                                                                                                                                                                                                                                                                                                                                                                                                                                                                                                                                                                                                                                                                                                                                                                                                                                                                                                                                                                                                                                                                                                                                                                                                                                                                                                                                                                                                                                                                                                                                                                                                                                                                                                                                                                                                                                                                                                                                                                                                                                                                                                                                                                                                                                                                                                                                                                                                                                                                                                                                                                                                                                                                                                                                                                                                                                                                                                                                                                                                                                                                                                                                                                                                                                                                                                                                                                                                                                                                                                                                                                                                                                                                                                                                                                                                                                                                                                                                                                                                                                                                                                                                                                                                                                                                                                                                                                                                                                                                                                                                                                                                                                                                                                                                                                                                                                                                                                                                                                                                                                                                                                                                                                                                                                                                                                                                                                                                                                                                                                                                                                                                                                                                                                                                                                                                                                                                                                                                                                                                                                                                                                                                                                                                                                                                                                                                                                                                                                                                                                                                                                                                                                                                                                                                                                                                                                                                                                                                                                                                                                                                                                                                                                                                                                                                                                                                                                                                                                                             ..\n",
              "[{'cast_id': 1, 'character': 'Charlie Hinton', 'credit_id': '52fe43a69251416c75018b77', 'gender': 2, 'id': 776, 'name': 'Eddie Murphy', 'order': 0, 'profile_path': '/bsi706zdqs0KAPdOsqz6AkLNcFF.jpg'}, {'cast_id': 2, 'character': 'Phil', 'credit_id': '52fe43a69251416c75018b7b', 'gender': 2, 'id': 60074, 'name': 'Jeff Garlin', 'order': 1, 'profile_path': '/cBs7u7rBTvDFp5MFCnvrPeF7SI2.jpg'}, {'cast_id': 3, 'character': 'Marvin', 'credit_id': '52fe43a69251416c75018b7f', 'gender': 2, 'id': 18324, 'name': 'Steve Zahn', 'order': 2, 'profile_path': '/tcRHqtdi4wM8hlZ3MjPDWgePp7L.jpg'}, {'cast_id': 4, 'character': 'Kim Hinton', 'credit_id': '52fe43a69251416c75018b83', 'gender': 1, 'id': 9788, 'name': 'Regina King', 'order': 3, 'profile_path': '/6cQIHc2JNeNs3nkf6nQtqsSi58s.jpg'}, {'cast_id': 5, 'character': 'Bruce', 'credit_id': '52fe43a69251416c75018b87', 'gender': 2, 'id': 58478, 'name': 'Kevin Nealon', 'order': 4, 'profile_path': '/8IyCgKbjDTBlIICz49igBskwssS.jpg'}, {'cast_id': 17, 'character': 'Peggy', 'credit_id': '52fe43a69251416c75018bcd', 'gender': 1, 'id': 6751, 'name': 'Siobhan Fallon', 'order': 5, 'profile_path': '/wVFa8GiY0xdOLFsvGygy9RMtcBc.jpg'}, {'cast_id': 18, 'character': 'Jenny', 'credit_id': '52fe43a69251416c75018bd1', 'gender': 1, 'id': 22082, 'name': 'Lacey Chabert', 'order': 6, 'profile_path': '/80IBrdN6X1N9Ma0QZnfieqlHOkW.jpg'}, {'cast_id': 19, 'character': 'Dan Kubitz', 'credit_id': '52fe43a69251416c75018bd5', 'gender': 2, 'id': 96072, 'name': 'Jonathan Katz', 'order': 7, 'profile_path': '/4pOrBSI2lp6Ex5wnd9FhNIBrKvp.jpg'}, {'cast_id': 20, 'character': \"Crispin's Mom\", 'credit_id': '52fe43a69251416c75018bd9', 'gender': 1, 'id': 41420, 'name': 'Lisa Edelstein', 'order': 8, 'profile_path': '/mPTRiyPAf2cxAEfZJILIu9NDwjZ.jpg'}, {'cast_id': 21, 'character': 'Sheila', 'credit_id': '52fe43a69251416c75018bdd', 'gender': 1, 'id': 61409, 'name': 'Laura Kightlinger', 'order': 9, 'profile_path': '/4vslXi1sgtxWKekk8juHHqP0vWU.jpg'}, {'cast_id': 22, 'character': 'Kelli', 'credit_id': '52fe43a69251416c75018be1', 'gender': 1, 'id': 65240, 'name': 'Leila Arcieri', 'order': 10, 'profile_path': '/mTg8yjkDHO6qoNxISuORh5gSfpF.jpg'}, {'cast_id': 23, 'character': 'Mrs. Gwyneth Harridan', 'credit_id': '52fe43a69251416c75018be5', 'gender': 1, 'id': 5657, 'name': 'Anjelica Huston', 'order': 11, 'profile_path': '/Aiyv68gYWcEe9OYhyCkOa09kjmy.jpg'}, {'cast_id': 24, 'character': 'Ben Hinton', 'credit_id': '52fe43a69251416c75018be9', 'gender': 2, 'id': 87056, 'name': 'Khamani Griffin', 'order': 12, 'profile_path': '/tmmbNDbhXIQ66E7fWqqmZvI8yoE.jpg'}, {'cast_id': 25, 'character': 'Max', 'credit_id': '52fe43a69251416c75018bed', 'gender': 2, 'id': 81083, 'name': 'Max Burkholder', 'order': 13, 'profile_path': '/8tM61XfapNvBnXum2WcBKlmDDeE.jpg'}, {'cast_id': 26, 'character': 'Nicky', 'credit_id': '52fe43a69251416c75018bf1', 'gender': 2, 'id': 62563, 'name': 'Arthur Young', 'order': 14, 'profile_path': '/wskriBM2JwztaR7mnFbWEWB86ly.jpg'}, {'cast_id': 27, 'character': 'Cheap Trick', 'credit_id': '52fe43a69251416c75018bf5', 'gender': 0, 'id': 1038347, 'name': 'Cheap Trick', 'order': 15, 'profile_path': None}, {'cast_id': 28, 'character': 'German Speaking Boy', 'credit_id': '52fe43a69251416c75018bf9', 'gender': 2, 'id': 74616, 'name': 'Damani Roberts', 'order': 16, 'profile_path': '/rMdDbBNIvF6aDHtykKyHGN8M5ht.jpg'}, {'cast_id': 29, 'character': 'Day Care Lady', 'credit_id': '56fb05df925141288300009c', 'gender': 1, 'id': 85097, 'name': 'Joan Blair', 'order': 17, 'profile_path': '/6yUToUzDp4j4egTS2HrL8jWZH4b.jpg'}, {'cast_id': 30, 'character': 'Jamie', 'credit_id': '5754e393925141176200235c', 'gender': 1, 'id': 18050, 'name': 'Elle Fanning', 'order': 18, 'profile_path': '/xvFnSS0urK2ZCxjTaaq6OJNMiTO.jpg'}, {'cast_id': 31, 'character': 'Sean', 'credit_id': '58dd15b792514140fa00cbb7', 'gender': 0, 'id': 53211, 'name': 'Cesar Flores', 'order': 19, 'profile_path': '/rSd1djt40Koyu3nhd3Qfa76yrK5.jpg'}, {'cast_id': 32, 'character': 'Becca', 'credit_id': '58dd15cd925141412600bc15', 'gender': 0, 'id': 56538, 'name': 'Hailey Noelle Johnson', 'order': 20, 'profile_path': '/lmcF3mL2l2v4AyXb8EocJbeXbhv.jpg'}, {'cast_id': 33, 'character': 'Dylan', 'credit_id': '58dd15da925141411000c84e', 'gender': 0, 'id': 1786648, 'name': 'Felix Achille', 'order': 21, 'profile_path': None}, {'cast_id': 34, 'character': 'Crispin', 'credit_id': '58dd15eac3a368229300c493', 'gender': 2, 'id': 52868, 'name': 'Shane Baumel', 'order': 22, 'profile_path': '/7RRdtecRNi9JY172MP8i71i9Z1Q.jpg'}, {'cast_id': 35, 'character': 'The Flash / Tony', 'credit_id': '58dd15fc925141413c00c2f4', 'gender': 2, 'id': 6860, 'name': 'Jimmy Bennett', 'order': 23, 'profile_path': '/fFLagzTLvbnbKRlQvW8kDOtlncr.jpg'}, {'cast_id': 36, 'character': 'Duncan', 'credit_id': '58dd1608925141411000c880', 'gender': 0, 'id': 1786649, 'name': 'Connor Carmody', 'order': 24, 'profile_path': None}, {'cast_id': 37, 'character': 'Jeannie', 'credit_id': '58dd1640c3a368228a00b08e', 'gender': 0, 'id': 1786652, 'name': 'Kennedy McCullough', 'order': 25, 'profile_path': None}, {'cast_id': 38, 'character': 'Juel', 'credit_id': '58dd165192514140f200c7f0', 'gender': 1, 'id': 59786, 'name': 'Alyssa Shafer', 'order': 26, 'profile_path': None}, {'cast_id': 39, 'character': 'Erin', 'credit_id': '58dd166092514140f600bfef', 'gender': 0, 'id': 1786653, 'name': 'Bridgette Ho', 'order': 27, 'profile_path': None}, {'cast_id': 40, 'character': \"Jamie's Mom\", 'credit_id': '58dd166ec3a368227300c4cb', 'gender': 1, 'id': 981323, 'name': 'Brie Hill Arbaugh', 'order': 28, 'profile_path': None}, {'cast_id': 41, 'character': \"Sean's Mom\", 'credit_id': '58dd1699c3a368229300c51e', 'gender': 1, 'id': 59227, 'name': 'Susan Santiago', 'order': 29, 'profile_path': '/qVGcOX7bXnvGh59Y8Wrgl3B9bYh.jpg'}, {'cast_id': 42, 'character': \"Becca's Mom\", 'credit_id': '58dd170dc3a368227300c543', 'gender': 1, 'id': 42324, 'name': 'Annabelle Gurwitch', 'order': 30, 'profile_path': '/fNubMSpdGfRT94qDsOKJs7BcdZd.jpg'}, {'cast_id': 43, 'character': \"Tony's Mom\", 'credit_id': '58dd1726c3a368227300c557', 'gender': 1, 'id': 58354, 'name': 'Mary Portser', 'order': 31, 'profile_path': '/tBcI5T3Y0bxm5u3n1T5w1doFL8e.jpg'}, {'cast_id': 44, 'character': \"Tony's Brother\", 'credit_id': '58dd1764c3a368228a00b157', 'gender': 0, 'id': 61408, 'name': 'Timmy Deters', 'order': 32, 'profile_path': None}, {'cast_id': 45, 'character': 'Enraged Mom', 'credit_id': '58dd1771925141412600bd38', 'gender': 1, 'id': 148632, 'name': 'McNally Sagal', 'order': 33, 'profile_path': '/idUmB4tXOOjnXB4avefOUi343DB.jpg'}, {'cast_id': 46, 'character': 'SAT Teacher', 'credit_id': '58dd1818c3a368223e00bc7b', 'gender': 1, 'id': 142608, 'name': 'Tara Mercurio', 'order': 34, 'profile_path': '/h958AE7Q4dy5fBV3IQeBUQnu61P.jpg'}, {'cast_id': 47, 'character': 'Mr. Carrott', 'credit_id': '58dd18adc3a36822a600c9a3', 'gender': 0, 'id': 214108, 'name': 'Gary Owen', 'order': 35, 'profile_path': '/419tCojrRrEDhINC38wXuiUOTC4.jpg'}, {'cast_id': 48, 'character': 'Jim Fields', 'credit_id': '58dd18b9c3a36822ae00c163', 'gender': 2, 'id': 17421, 'name': 'Wallace Langham', 'order': 36, 'profile_path': '/whXwSdAmMww9nXyDSrI4M4F0gHN.jpg'}, {'cast_id': 49, 'character': 'Job Counselor', 'credit_id': '58dd18cac3a368229d00bb77', 'gender': 0, 'id': 1223828, 'name': 'Fred Stoller', 'order': 37, 'profile_path': '/e6SNPg0VwUPlzeni9zRSMbGAIKZ.jpg'}, {'cast_id': 50, 'character': 'Old Gypsy Woman', 'credit_id': '58dd1907c3a36822ae00c196', 'gender': 1, 'id': 54648, 'name': 'Bess Meisler', 'order': 38, 'profile_path': None}, {'cast_id': 51, 'character': 'Waitress', 'credit_id': '58dd193dc3a368228a00b25d', 'gender': 1, 'id': 155625, 'name': 'Sonya Eddy', 'order': 39, 'profile_path': '/7Hv0IPi6vkoKZ7LTTvVveuF58iy.jpg'}, {'cast_id': 52, 'character': 'Co-Worker Marty', 'credit_id': '58dd1950c3a368227300c6c6', 'gender': 0, 'id': 1786656, 'name': 'Paul Anthony Reynolds', 'order': 40, 'profile_path': None}, {'cast_id': 53, 'character': 'Co-Worker Elaine', 'credit_id': '58dd195f925141412600be7d', 'gender': 1, 'id': 46074, 'name': 'Rachael Harris', 'order': 41, 'profile_path': '/wrmz6aTM7aFYmd1I12rGWjDtoaf.jpg'}, {'cast_id': 54, 'character': 'Co-Worker Steve', 'credit_id': '58dd1987c3a368229300c72e', 'gender': 2, 'id': 60603, 'name': 'Mark Griffin', 'order': 42, 'profile_path': None}, {'cast_id': 55, 'character': 'Marketing Guy', 'credit_id': '58dd199b92514140fa00ce8c', 'gender': 2, 'id': 155825, 'name': 'Dennis Cockrum', 'order': 43, 'profile_path': '/3RGfs2kJ71XCho8VsDxpYlzlFur.jpg'}, {'cast_id': 56, 'character': 'Marketing Guy', 'credit_id': '58dd19b1c3a368228300bba0', 'gender': 0, 'id': 1323219, 'name': 'Don Winston', 'order': 44, 'profile_path': None}, {'cast_id': 57, 'character': 'Marketing Girl', 'credit_id': '58dd19cec3a36822ae00c216', 'gender': 1, 'id': 1786657, 'name': 'Lisa Oliva Rodriguez', 'order': 45, 'profile_path': None}, {'cast_id': 58, 'character': 'English Teacher', 'credit_id': '58dd1a37c3a368228300bc01', 'gender': 1, 'id': 55253, 'name': 'Michelle Krusiec', 'order': 46, 'profile_path': '/9wA6VGNr3Z6lY8DZGBO9MOTCSB3.jpg'}, {'cast_id': 59, 'character': 'Interested Mom', 'credit_id': '58dd1a93925141412a00cbee', 'gender': 1, 'id': 1786658, 'name': 'Kristin Cruz', 'order': 47, 'profile_path': '/pyhfxKJv5MpP0Yf5dV6Jkr6J6oq.jpg'}, {'cast_id': 60, 'character': 'Skeptical Father', 'credit_id': '58dd1b0c925141412a00cc44', 'gender': 0, 'id': 89708, 'name': 'Brian Palermo', 'order': 48, 'profile_path': '/43BX6IIcT8krVKLIGPEy9v2OOcD.jpg'}, {'cast_id': 61, 'character': 'Parks Employee', 'credit_id': '58dd1b1992514140f600c37b', 'gender': 0, 'id': 1786659, 'name': 'Roger E. Reid', 'order': 49, 'profile_path': None}, {'cast_id': 62, 'character': 'Focus Group Kid', 'credit_id': '58dd1b27c3a368229300c83e', 'gender': 0, 'id': 1786661, 'name': 'Nathaniel Carter', 'order': 50, 'profile_path': None}, {'cast_id': 63, 'character': 'Office Worker', 'credit_id': '58dd1b45c3a36822a600cbdd', 'gender': 1, 'id': 1786662, 'name': 'Tracy Britton', 'order': 51, 'profile_path': None}]    1\n",
              "[{'cast_id': 3, 'character': 'Julie', 'credit_id': '52fe430bc3a36847f80362a9', 'gender': 1, 'id': 14061, 'name': 'Jacqueline Bisset', 'order': 0, 'profile_path': '/ys2YfG4d26jUiGvok0jplWgUhzP.jpg'}, {'cast_id': 5, 'character': 'Alphonse', 'credit_id': '52fe430bc3a36847f80362b1', 'gender': 2, 'id': 1653, 'name': 'Jean-Pierre L√©aud', 'order': 1, 'profile_path': '/dzkPODapVe4CSubEqI9ytTCqnZ7.jpg'}, {'cast_id': 7, 'character': 'Alexandre', 'credit_id': '52fe430bc3a36847f80362b9', 'gender': 2, 'id': 18766, 'name': 'Jean-Pierre Aumont', 'order': 2, 'profile_path': '/zmH3P6Wr5hkiRo8Rx060nhvAEdX.jpg'}, {'cast_id': 21, 'character': 'Severine', 'credit_id': '52fe430bc3a36847f80362ed', 'gender': 1, 'id': 24499, 'name': 'Valentina Cortese', 'order': 3, 'profile_path': '/dp4DfS9wO2cmaHWsmPNC7cHPTOM.jpg'}, {'cast_id': 4, 'character': 'Liliane', 'credit_id': '52fe430bc3a36847f80362ad', 'gender': 1, 'id': 3591, 'name': 'Dani', 'order': 4, 'profile_path': '/1dyNd5JEvKYkgTKCT3Tn3RneiV1.jpg'}, {'cast_id': 6, 'character': 'Stacey', 'credit_id': '52fe430bc3a36847f80362b5', 'gender': 1, 'id': 18765, 'name': 'Alexandra Stewart', 'order': 5, 'profile_path': '/2hiKef95taRinlseKp6uFhVDTIR.jpg'}, {'cast_id': 8, 'character': 'Directeur Ferrand', 'credit_id': '52fe430bc3a36847f80362bd', 'gender': 0, 'id': 1650, 'name': 'Fran√ßois Truffaut', 'order': 6, 'profile_path': '/apCCV99N3FqB5NsEPqOzetlkprL.jpg'}, {'cast_id': 10, 'character': 'Bertrand', 'credit_id': '52fe430bc3a36847f80362c1', 'gender': 0, 'id': 18767, 'name': 'Jean Champion', 'order': 7, 'profile_path': '/cPmXNw1jbJzFzs3h09ZLICyQYhu.jpg'}, {'cast_id': 11, 'character': 'Odile', 'credit_id': '52fe430bc3a36847f80362c5', 'gender': 0, 'id': 18768, 'name': 'Nike Arrighi', 'order': 8, 'profile_path': '/8dDRwjScCYbApYZfNxwnxlk9wiU.jpg'}, {'cast_id': 12, 'character': 'Doctor Nelson', 'credit_id': '52fe430bc3a36847f80362c9', 'gender': 0, 'id': 18769, 'name': 'David Markham', 'order': 9, 'profile_path': None}, {'cast_id': 13, 'character': 'Bernard', 'credit_id': '52fe430bc3a36847f80362cd', 'gender': 0, 'id': 18770, 'name': 'Bernard M√©nez', 'order': 10, 'profile_path': '/gSrLj86RpqN0Lutwuz4iCRZQYR3.jpg'}, {'cast_id': 14, 'character': 'Jean-Fran√ßois', 'credit_id': '52fe430bc3a36847f80362d1', 'gender': 2, 'id': 6304, 'name': 'Jean-Fran√ßois St√©venin', 'order': 11, 'profile_path': '/82NUI5wvm0viU6U9PzGyRNLlnk5.jpg'}, {'cast_id': 15, 'character': 'Walter', 'credit_id': '52fe430bc3a36847f80362d5', 'gender': 0, 'id': 18771, 'name': 'Walter Bal', 'order': 12, 'profile_path': None}, {'cast_id': 16, 'character': 'Lajoie', 'credit_id': '52fe430bc3a36847f80362d9', 'gender': 0, 'id': 18772, 'name': 'Gaston Joly', 'order': 13, 'profile_path': None}, {'cast_id': 17, 'character': 'Madame Lajoie', 'credit_id': '52fe430bc3a36847f80362dd', 'gender': 0, 'id': 18773, 'name': 'Z√©na√Øde Rossi', 'order': 14, 'profile_path': None}, {'cast_id': 18, 'character': 'Photograph', 'credit_id': '52fe430bc3a36847f80362e1', 'gender': 0, 'id': 18774, 'name': 'Pierre Zucca', 'order': 15, 'profile_path': None}, {'cast_id': 19, 'character': 'Stuntman', 'credit_id': '52fe430bc3a36847f80362e5', 'gender': 2, 'id': 18775, 'name': 'Marc Boyle', 'order': 16, 'profile_path': None}, {'cast_id': 20, 'character': 'Franz√∂sischer Versicherungsmann', 'credit_id': '52fe430bc3a36847f80362e9', 'gender': 2, 'id': 3524, 'name': 'Marcel Berbert', 'order': 17, 'profile_path': '/ktxkk99X4Yj3uTKCEkkVRhWTPSo.jpg'}, {'cast_id': 22, 'character': 'Alexandres Liebhaber', 'credit_id': '52fe430bc3a36847f80362f1', 'gender': 2, 'id': 25148, 'name': 'Xavier Saint-Macary', 'order': 18, 'profile_path': '/s6kIHfJv5d11owUNt7MTwFKh5Qj.jpg'}, {'cast_id': 28, 'character': 'Joelle', 'credit_id': '52fe430bc3a36847f8036313', 'gender': 1, 'id': 136761, 'name': 'Nathalie Baye', 'order': 19, 'profile_path': '/1oDCTomK09eXEZwMTniNNciH7zp.jpg'}, {'cast_id': 39, 'character': '', 'credit_id': '596da8d89251412d7b0078da', 'gender': 0, 'id': 578333, 'name': 'Maurice Seveno', 'order': 20, 'profile_path': None}, {'cast_id': 40, 'character': 'Insurance company representative', 'credit_id': '596da9749251412d860077ee', 'gender': 2, 'id': 15379, 'name': 'Graham Greene', 'order': 21, 'profile_path': '/cz2Nnw7YASKCOHB5B9cgHT7mZuH.jpg'}]                                                                                                                                                                                                                                                                                                                                                                                                                                                                                                                                                                                                                                                                                                                                                                                                                                                                                                                                                                                                                                                                                                                                                                                                                                                                                                                                                                                                                                                                                                                                                                                                                                                                                                                                                                                                                                                                                                                                                                                                                                                                                                                                                                                                                                                                                                                                                                                                                                                                                                                                                                                                                                                                                                                                                                                                                                                                                                                                                                                                                                                                                                                                                                                                                                                                                                                                                                                                                                                                                                                                                                                                                                                                                                                                                                                                                                                                                                                                                                                                                                                                                                                                                                                                                                                                                                                                                                                                                                                                                                                                                                                                                                                                                                                                                                                                                                                                                                                                                                                                                                                                                                                                                                                                                                                                                                                                                                                                                                                                                                                                                                                                                                                                                                                                                                                                                                                                                                                                                                                                                           1\n",
              "[{'cast_id': 1, 'character': \"Elizabeth 'Lizzie' Cronin\", 'credit_id': '52fe43639251416c7500e5f7', 'gender': 1, 'id': 16171, 'name': 'Phoebe Cates', 'order': 0, 'profile_path': '/zOUE6cOZjFGrIeqidjOfrONj98G.jpg'}, {'cast_id': 2, 'character': 'Drop Dead Fred', 'credit_id': '52fe43639251416c7500e5fb', 'gender': 2, 'id': 14469, 'name': 'Rik Mayall', 'order': 1, 'profile_path': '/wntKz7ORqD8mAsME6CFJdWTn6m.jpg'}, {'cast_id': 3, 'character': 'Polly Cronin', 'credit_id': '52fe43639251416c7500e5ff', 'gender': 1, 'id': 19131, 'name': 'Marsha Mason', 'order': 2, 'profile_path': '/1iTPM9ciKMFb5RzePlcKhfWO0Fb.jpg'}, {'cast_id': 4, 'character': 'Charles', 'credit_id': '52fe43639251416c7500e603', 'gender': 2, 'id': 21561, 'name': 'Tim Matheson', 'order': 3, 'profile_path': '/iQQCtIS9bQJlQ8OMOzeidsJptAQ.jpg'}, {'cast_id': 5, 'character': 'Janie', 'credit_id': '52fe43639251416c7500e607', 'gender': 1, 'id': 4, 'name': 'Carrie Fisher', 'order': 4, 'profile_path': '/pbleNurCYdrLFQMEnlQB2nkOR1O.jpg'}, {'cast_id': 6, 'character': 'Murray', 'credit_id': '52fe43639251416c7500e60b', 'gender': 2, 'id': 64944, 'name': 'Keith Charles', 'order': 5, 'profile_path': None}, {'cast_id': 17, 'character': 'Mickey Bunce', 'credit_id': '52fe43639251416c7500e64b', 'gender': 2, 'id': 12260, 'name': 'Ron Eldard', 'order': 6, 'profile_path': '/n49scru0f7iuoj4Uy1Pp9KZr2zK.jpg'}]                                                                                                                                                                                                                                                                                                                                                                                                                                                                                                                                                                                                                                                                                                                                                                                                                                                                                                                                                                                                                                                                                                                                                                                                                                                                                                                                                                                                                                                                                                                                                                                                                                                                                                                                                                                                                                                                                                                                                                                                                                                                                                                                                                                                                                                                                                                                                                                                                                                                                                                                                                                                                                                                                                                                                                                                                                                                                                                                                                                                                                                                                                                                                                                                                                                                                                                                                                                                                                                                                                                                                                                                                                                                                                                                                                                                                                                                                                                                                                                                                                                                                                                                                                                                                                                                                                                                                                                                                                                                                                                                                                                                                                                                                                                                                                                                                                                                                                                                                                                                                                                                                                                                                                                                                                                                                                                                                                                                                                                                                                                                                                                                                                                                                                                                                                                                                                                                                                                                                                                                                                                                                                                                                                                                                                                                                                                                                                                                                                                                                                                                                                                                                                                                                                                                                                                                                                                                                                                                                                                                                                                                                                                                                                                                                                                                                                                                                                                                                                                                                                                                                                                                                                                                                                                                                                                                                                                                                                                                                                                                                                                                                                                                                                                                                                                                                                                                                                                                                                                                                                                                                                                                                                                                                                                                                                                                                                                                                                                                                                                                                             1\n",
              "[{'cast_id': 1, 'character': 'Jon Jensen', 'credit_id': '5357d3f3c3a3685601002c59', 'gender': 2, 'id': 1019, 'name': 'Mads Mikkelsen', 'order': 0, 'profile_path': '/8F1dY2rjZ1YDEKH0imDs21xdTDX.jpg'}, {'cast_id': 0, 'character': 'Madelaine', 'credit_id': '5357d3e9c3a36855f9002c7e', 'gender': 1, 'id': 10912, 'name': 'Eva Green', 'order': 1, 'profile_path': '/wqK0BhMuNBvDqIg1bwT9RhYMy6L.jpg'}, {'cast_id': 2, 'character': 'Henry Delarue', 'credit_id': '5357d403c3a36855f2002c77', 'gender': 2, 'id': 47296, 'name': 'Jeffrey Dean Morgan', 'order': 2, 'profile_path': '/6ors2HGy8UdXm8kBx6on0HwRHB5.jpg'}, {'cast_id': 13, 'character': 'Corsican', 'credit_id': '53de67ccc3a3686c510014d2', 'gender': 0, 'id': 37758, 'name': 'Eric Cantona', 'order': 3, 'profile_path': '/lMIXZd1QiHH7Y5emujCKGnRh6np.jpg'}, {'cast_id': 14, 'character': 'Peter Jensen', 'credit_id': '53de67dec3a3686c56001435', 'gender': 2, 'id': 52398, 'name': 'Mikael Persbrandt', 'order': 4, 'profile_path': '/gApm4OirfwRss9SNLyZLRHEIr4Y.jpg'}, {'cast_id': 15, 'character': 'Sheriff Mallick', 'credit_id': '53de67fac3a3686c450014cc', 'gender': 0, 'id': 35862, 'name': 'Douglas Henshall', 'order': 5, 'profile_path': '/ofbU3w8hlafOJfQ1uiAwjL1QSRw.jpg'}, {'cast_id': 16, 'character': 'Paul Delarue', 'credit_id': '53de680bc3a3686c4d0015af', 'gender': 2, 'id': 53259, 'name': 'Michael Raymond-James', 'order': 6, 'profile_path': '/35kiFPR1MhaoNbBJYg8wWi187TW.jpg'}, {'cast_id': 17, 'character': 'Mayor Nathan Keane', 'credit_id': '53de6819c3a3686c6000140a', 'gender': 2, 'id': 378, 'name': 'Jonathan Pryce', 'order': 7, 'profile_path': '/kfRf0eRfh9RRvBZEmpcXazWBgjd.jpg'}, {'cast_id': 19, 'character': 'Marie Jensen', 'credit_id': '553cf017c3a3683e550059db', 'gender': 0, 'id': 1459336, 'name': 'Nanna √òland Fabricius', 'order': 9, 'profile_path': '/cSF82qLYs2pKeCB3JMmAkbPLD0g.jpg'}, {'cast_id': 20, 'character': 'Kresten Jensen', 'credit_id': '553cf14d9251415852000c9b', 'gender': 0, 'id': 1180793, 'name': 'Toke Lars Bjarke', 'order': 10, 'profile_path': None}, {'cast_id': 21, 'character': 'Lester', 'credit_id': '553cf1979251411435001584', 'gender': 2, 'id': 86320, 'name': 'Sean Cameron Michael', 'order': 11, 'profile_path': '/9O7Mnz1zxRLqhm3VR5Mwix2fqiT.jpg'}, {'cast_id': 22, 'character': 'Stagecoach Whip', 'credit_id': '553cf1d79251416874005718', 'gender': 0, 'id': 1459343, 'name': 'Carl Nel', 'order': 12, 'profile_path': None}, {'cast_id': 23, 'character': 'Stagecoach Gunman', 'credit_id': '553cf211c3a3683c480041fb', 'gender': 0, 'id': 1459344, 'name': 'Kobus Swanepool', 'order': 13, 'profile_path': None}, {'cast_id': 24, 'character': 'Mr. Raul Delgado', 'credit_id': '553cf28ec3a3685cf800781f', 'gender': 2, 'id': 1038935, 'name': 'Jose Domingos', 'order': 14, 'profile_path': None}, {'cast_id': 25, 'character': 'Mrs. Delgado', 'credit_id': '553cf5d2925141125600bb91', 'gender': 0, 'id': 1459353, 'name': 'Sivan Raphaely', 'order': 15, 'profile_path': None}, {'cast_id': 26, 'character': 'Mrs. Borowski', 'credit_id': '553cf6d5c3a3683c48004293', 'gender': 0, 'id': 1084896, 'name': 'Vanessa Cooke', 'order': 16, 'profile_path': None}, {'cast_id': 27, 'character': 'Joe No Leg', 'credit_id': '553cf75ec3a368784500c8e2', 'gender': 2, 'id': 67059, 'name': 'Grant Swanby', 'order': 17, 'profile_path': '/jfsYK4m3OOrh5cJtPjga2M7kytj.jpg'}, {'cast_id': 28, 'character': 'Mr. Whisler', 'credit_id': '553cf789925141143500161d', 'gender': 0, 'id': 1459356, 'name': 'Theo Geldenhuys', 'order': 18, 'profile_path': None}, {'cast_id': 29, 'character': 'Mrs. Whisler', 'credit_id': '553cf8439251413f5a007c96', 'gender': 1, 'id': 1021884, 'name': 'Susan Danford', 'order': 19, 'profile_path': '/27RKPeVs2cphbyGCGs8OqMjK1z3.jpg'}, {'cast_id': 30, 'character': 'Whisler Boy', 'credit_id': '553cf879c3a3683e14005a96', 'gender': 2, 'id': 1459357, 'name': 'Matthew Thompson', 'order': 20, 'profile_path': None}, {'cast_id': 31, 'character': 'Whisler Girl', 'credit_id': '553cf8dbc3a3683e55005acb', 'gender': 0, 'id': 1459358, 'name': 'Kelly Lambe', 'order': 21, 'profile_path': None}, {'cast_id': 32, 'character': 'Calder Jenkins', 'credit_id': '553d06b49251415852000e8b', 'gender': 0, 'id': 93919, 'name': 'Danny Keogh', 'order': 22, 'profile_path': '/vU8Td21YxkyTU1L9M7Pkw3g5fkU.jpg'}, {'cast_id': 33, 'character': 'Mr. Bradley', 'credit_id': '553d07b1c3a3683c4800442f', 'gender': 0, 'id': 1459373, 'name': 'Adam Neill', 'order': 23, 'profile_path': '/uM9bzdvwBXgamp5NhFtBIsmNflj.jpg'}, {'cast_id': 34, 'character': 'Tracker', 'credit_id': '553d0c7dc3a368066d001692', 'gender': 2, 'id': 1071689, 'name': 'David James', 'order': 24, 'profile_path': None}, {'cast_id': 35, 'character': 'Jefferson', 'credit_id': '553d13579251415852000f90', 'gender': 0, 'id': 1338475, 'name': 'Anthony Oseyemi', 'order': 25, 'profile_path': None}, {'cast_id': 36, 'character': 'Man With Cigar', 'credit_id': '553d1402c3a3683c48004520', 'gender': 2, 'id': 47969, 'name': 'Nick Boraine', 'order': 26, 'profile_path': '/1fdfPqIGQxe1ECppwqlqTIXvHKT.jpg'}, {'cast_id': 37, 'character': 'Silvertooth', 'credit_id': '553d15df92514135c80043ad', 'gender': 2, 'id': 82190, 'name': 'Robert Hobbs', 'order': 27, 'profile_path': '/yN6gVehZi1Y5P5kDazI8FmB8Bb0.jpg'}, {'cast_id': 38, 'character': 'Skinny Man', 'credit_id': '553d165d92514114350018ea', 'gender': 0, 'id': 1459398, 'name': 'Anthony Bishop', 'order': 28, 'profile_path': None}, {'cast_id': 39, 'character': 'One Eyed Jack', 'credit_id': '553d169ec3a3683e14005e3e', 'gender': 0, 'id': 1459399, 'name': 'St John Alexander', 'order': 29, 'profile_path': None}, {'cast_id': 40, 'character': 'Man With Beard', 'credit_id': '553d178c9251413f5a007f3c', 'gender': 2, 'id': 37093, 'name': 'Langley Kirkwood', 'order': 30, 'profile_path': '/A46yo1No6vxFjxYS7eATjgPDtDO.jpg'}, {'cast_id': 41, 'character': 'Rattlesnake', 'credit_id': '553d17b39251415852000ff3', 'gender': 0, 'id': 1459402, 'name': 'Aidan Lithgow', 'order': 31, 'profile_path': None}, {'cast_id': 42, 'character': 'Aron', 'credit_id': '553d18c79251416874005a62', 'gender': 0, 'id': 47973, 'name': 'Dan Robbertse', 'order': 32, 'profile_path': None}, {'cast_id': 43, 'character': 'Cash', 'credit_id': '553d19d09251413f5a007f59', 'gender': 0, 'id': 136309, 'name': 'Andre Odendaal', 'order': 33, 'profile_path': None}, {'cast_id': 44, 'character': 'Train Conductor #1', 'credit_id': '553d1a9e925141585200102a', 'gender': 0, 'id': 1459404, 'name': 'Ian Edmondstone', 'order': 34, 'profile_path': None}, {'cast_id': 45, 'character': 'Train Conductor #2', 'credit_id': '553d1acc92514138a9008b2b', 'gender': 0, 'id': 1459405, 'name': 'Willem Huyzers', 'order': 35, 'profile_path': None}, {'cast_id': 46, 'character': 'Moustache Man on Train', 'credit_id': '553d1ba19251413f5a007f81', 'gender': 0, 'id': 1156032, 'name': 'Jacques Gombault', 'order': 36, 'profile_path': '/gn4ddtISThkQghd6rIWwEhnu5sV.jpg'}, {'cast_id': 47, 'character': 'US Marshall', 'credit_id': '553de9c092514137f9002cb5', 'gender': 2, 'id': 1459810, 'name': 'Daniel Janks', 'order': 37, 'profile_path': '/lgJF4ei3XiTmZZ0S2T9SyRzfFcD.jpg'}, {'cast_id': 48, 'character': \"Delarue's Gang\", 'credit_id': '553dea0fc3a3683e140075e2', 'gender': 0, 'id': 1459811, 'name': 'Koos Dippenaar', 'order': 38, 'profile_path': None}, {'cast_id': 49, 'character': \"Delarue's Gang\", 'credit_id': '553dea46c3a368784500e23a', 'gender': 0, 'id': 1459812, 'name': 'Chad Sapire', 'order': 39, 'profile_path': None}, {'cast_id': 50, 'character': \"Delarue's Gang\", 'credit_id': '553dea86c3a36820ec004f6e', 'gender': 0, 'id': 1459813, 'name': 'Juan Dippenaar', 'order': 40, 'profile_path': None}, {'cast_id': 51, 'character': \"Delarue's Gang\", 'credit_id': '553deabdc3a3683c48005b53', 'gender': 0, 'id': 1459814, 'name': 'Tjaka Erasmus', 'order': 41, 'profile_path': None}, {'cast_id': 52, 'character': \"Delarue's Gang\", 'credit_id': '553deaf9c3a36879e7001067', 'gender': 0, 'id': 1459815, 'name': 'Hannes Vosloo', 'order': 42, 'profile_path': None}, {'cast_id': 53, 'character': \"Delarue's Gang\", 'credit_id': '553deb2b925141687400700b', 'gender': 0, 'id': 1459816, 'name': 'Chris Oberem', 'order': 43, 'profile_path': None}, {'cast_id': 54, 'character': \"Delarue's Gang\", 'credit_id': '553deb5a92514137f9002cd5', 'gender': 0, 'id': 1459817, 'name': 'Jimmy Fell', 'order': 44, 'profile_path': None}, {'cast_id': 55, 'character': \"Delarue's Gang\", 'credit_id': '553debb19251411435002f86', 'gender': 0, 'id': 1459818, 'name': 'Gavin Mey', 'order': 45, 'profile_path': None}, {'cast_id': 56, 'character': 'Villager', 'credit_id': '553dec8b92514135c80058ec', 'gender': 0, 'id': 1459819, 'name': 'Janus Prinsloo', 'order': 46, 'profile_path': None}, {'cast_id': 63, 'character': 'Voichek Borowski', 'credit_id': '58b1aeb69251415b2d00fa10', 'gender': 2, 'id': 1221080, 'name': 'Alex Arnold', 'order': 47, 'profile_path': '/7OPqUjXXNpWEJ7wEMDqbRXEK0SU.jpg'}]                                                                                                                                                                                                                                                                                                                                                                                                                                                                                                                                                                                                                                                                                                                                                                                                                                                                                                                                                                                                                                                                                                                                                                                                                                           1\n",
              "[{'cast_id': 2, 'character': 'Nathan Harper', 'credit_id': '52fe49a5c3a36847f81a5137', 'gender': 2, 'id': 84214, 'name': 'Taylor Lautner', 'order': 0, 'profile_path': '/xazf3pX3fbScXvi8WojuxsGOJX2.jpg'}, {'cast_id': 3, 'character': 'Karen Murphy', 'credit_id': '52fe49a5c3a36847f81a513b', 'gender': 1, 'id': 112561, 'name': 'Lily Collins', 'order': 1, 'profile_path': '/zembz1s3BExSTgOGQTbMtXhvfN7.jpg'}, {'cast_id': 4, 'character': 'Frank Burton', 'credit_id': '52fe49a5c3a36847f81a513f', 'gender': 2, 'id': 658, 'name': 'Alfred Molina', 'order': 2, 'profile_path': '/uJQVkqEVJGLMaJbwI2tTDlJ9Oo0.jpg'}, {'cast_id': 5, 'character': 'Kevin Harper', 'credit_id': '52fe49a5c3a36847f81a5143', 'gender': 2, 'id': 11355, 'name': 'Jason Isaacs', 'order': 3, 'profile_path': '/1GtGhAJz1JloqHARqc2xMsq5rG4.jpg'}, {'cast_id': 6, 'character': 'Mara Harper', 'credit_id': '52fe49a5c3a36847f81a5147', 'gender': 1, 'id': 49, 'name': 'Maria Bello', 'order': 4, 'profile_path': '/tFkbad0JoWvYc6XYBITv6EfeLwR.jpg'}, {'cast_id': 7, 'character': 'Nikola Kozlow', 'credit_id': '52fe49a5c3a36847f81a514b', 'gender': 2, 'id': 6283, 'name': 'Michael Nyqvist', 'order': 5, 'profile_path': '/bDjPDDiSna8FN5rqHdheg2wIYYo.jpg'}, {'cast_id': 8, 'character': \"Dr. Geraldine 'Geri' Bennett\", 'credit_id': '52fe49a5c3a36847f81a514f', 'gender': 1, 'id': 10205, 'name': 'Sigourney Weaver', 'order': 6, 'profile_path': '/gxBIAr3CnBjkNRoPovVJCvEGqP0.jpg'}, {'cast_id': 84, 'character': 'Martin Price', 'credit_id': '594213539251417f9b002b7e', 'gender': 2, 'id': 20212, 'name': 'Dermot Mulroney', 'order': 7, 'profile_path': '/4ZqA0SJ8KKZ1HvVdZZJlrqjxlq1.jpg'}, {'cast_id': 72, 'character': 'Lorna Price', 'credit_id': '57bca563c3a36838de000204', 'gender': 1, 'id': 126932, 'name': 'Elisabeth R√∂hm', 'order': 8, 'profile_path': '/67qIdPzAY5XrK895EyUpJI2QF8N.jpg'}, {'cast_id': 9, 'character': 'Sandra Burns', 'credit_id': '52fe49a5c3a36847f81a5153', 'gender': 1, 'id': 171941, 'name': 'Antonique Smith', 'order': 9, 'profile_path': '/rXnTrZbWtA2Mr1Teb9LB7berlha.jpg'}, {'cast_id': 74, 'character': 'Alek', 'credit_id': '57bca606925141558500ba67', 'gender': 2, 'id': 1266052, 'name': 'Nickola Shreli', 'order': 10, 'profile_path': '/7y0bAFwF21HImvtktdlg7c7vlhN.jpg'}, {'cast_id': 10, 'character': 'Gilly', 'credit_id': '52fe49a5c3a36847f81a5157', 'gender': 2, 'id': 77278, 'name': 'Denzel Whitaker', 'order': 11, 'profile_path': '/yN4ZZDDDJI2UoKVI1BlIWwd5mp8.jpg'}, {'cast_id': 73, 'character': 'Jake', 'credit_id': '57bca577c3a368226c008b2f', 'gender': 2, 'id': 1011103, 'name': 'William Peltz', 'order': 12, 'profile_path': '/6gtqvA5yif2S1a68AfokQU57BSo.jpg'}, {'cast_id': 66, 'character': 'Gregory', 'credit_id': '54f1925b9251416b2f0014ac', 'gender': 2, 'id': 12371, 'name': 'Richard Cetrone', 'order': 13, 'profile_path': '/63LiC0atGVnNUUaEu86tce2il8Z.jpg'}, {'cast_id': 80, 'character': 'Billy', 'credit_id': '57bded34c3a36818c50019dd', 'gender': 2, 'id': 967197, 'name': 'Allen Williamson', 'order': 14, 'profile_path': '/3YU1V8XvBDVSmmZvX9wQLc5gEfh.jpg'}, {'cast_id': 75, 'character': 'Tom Shealy', 'credit_id': '57bca62d925141046e000263', 'gender': 2, 'id': 10379, 'name': 'Victor Slezak', 'order': 15, 'profile_path': '/nLFIO3GsnHgy1DAXMVSmqlooLQu.jpg'}, {'cast_id': 77, 'character': 'Mr. Miles', 'credit_id': '57bde87d9251415ea8002039', 'gender': 2, 'id': 40377, 'name': 'Roger Guenveur Smith', 'order': 16, 'profile_path': '/c6yUnUcbNxCUKAjucLlh6VHzmCd.jpg'}, {'cast_id': 64, 'character': 'Mrs. Murphy', 'credit_id': '54f19232c3a3683232001863', 'gender': 0, 'id': 1432982, 'name': 'Holly Scott Cavanaugh', 'order': 17, 'profile_path': None}, {'cast_id': 59, 'character': 'Riah', 'credit_id': '54f191c19251416b380013a5', 'gender': 0, 'id': 1432979, 'name': 'Oriah Acima Andrews', 'order': 18, 'profile_path': None}, {'cast_id': 58, 'character': 'CIA Man', 'credit_id': '54f191acc3a368324500145a', 'gender': 2, 'id': 132217, 'name': 'Jake Andolina', 'order': 19, 'profile_path': '/sCfBS7Us4cT69KiYF4jpNlgMoiU.jpg'}, {'cast_id': 60, 'character': 'Thermal', 'credit_id': '54f191db9251416b2c0013b7', 'gender': 0, 'id': 572038, 'name': 'Ken Arnold', 'order': 20, 'profile_path': '/19fy0tQQ70QpVG7XLOPKOsjnAIq.jpg'}, {'cast_id': 63, 'character': 'Driver', 'credit_id': '54f192219251416b350012f3', 'gender': 2, 'id': 1430509, 'name': 'Benjamin J. Cain Jr.', 'order': 21, 'profile_path': '/hXlO6K2eU5HlqfOllY8JiRR6lzn.jpg'}, {'cast_id': 65, 'character': \"Kozlow's Tech\", 'credit_id': '54f19249c3a3683232001869', 'gender': 2, 'id': 1432984, 'name': 'Radick Cembrzynski', 'order': 22, 'profile_path': '/t8pBu8yhr8N9LXO18Ddl920ESjF.jpg'}, {'cast_id': 68, 'character': 'Nurse', 'credit_id': '57bca38dc3a368226c008a3f', 'gender': 1, 'id': 1669570, 'name': 'Rita Gregory', 'order': 23, 'profile_path': '/pheDp4IAe5uzb7yV4rzf9uKtjvC.jpg'}, {'cast_id': 69, 'character': 'Red Flannel', 'credit_id': '57bca415925141046e00017b', 'gender': 2, 'id': 27031, 'name': 'Tim Griffin', 'order': 24, 'profile_path': '/hwGjdnFT8MAowE4oYsIGQovqUsD.jpg'}, {'cast_id': 70, 'character': 'Cop', 'credit_id': '57bca42e9251410ed000f786', 'gender': 2, 'id': 1286879, 'name': 'Nathan Hollabaugh', 'order': 25, 'profile_path': '/rMEC7LFCQNHZ0qSx7vBMn3vBACN.jpg'}, {'cast_id': 71, 'character': 'Girl', 'credit_id': '57bca4da9251410ed000f7cd', 'gender': 1, 'id': 1279375, 'name': 'Emily Peachey', 'order': 26, 'profile_path': '/sbmTv6DveW7WQP1vfizradwSQxq.jpg'}, {'cast_id': 78, 'character': 'Sweater', 'credit_id': '57bde90dc3a3682eac01598c', 'gender': 2, 'id': 109667, 'name': 'Ilia Volok', 'order': 27, 'profile_path': '/k5ACLMgPMrZjKbnOmHmaeBLx2Te.jpg'}, {'cast_id': 79, 'character': 'Helicopter Pilot', 'credit_id': '57bde91fc3a36818c5001823', 'gender': 2, 'id': 1669797, 'name': 'Cherokee Walker', 'order': 28, 'profile_path': '/dhKQTMgLF9d585kQlA0q08tIIot.jpg'}, {'cast_id': 81, 'character': 'Short Sleeves', 'credit_id': '57c4602cc3a3683e8a004a6f', 'gender': 0, 'id': 991960, 'name': 'Jack Erdie', 'order': 29, 'profile_path': '/sFFUnfeU1bwdEc4XggtrfmKbi0r.jpg'}, {'cast_id': 61, 'character': 'Game Announcer', 'credit_id': '54f191f3c3a3683248001738', 'gender': 0, 'id': 1432980, 'name': 'Steve Blass', 'order': 30, 'profile_path': None}, {'cast_id': 62, 'character': 'Hot Dog Vendor', 'credit_id': '54f1920f9251416b350012ed', 'gender': 0, 'id': 1432981, 'name': 'Derek Burnell', 'order': 31, 'profile_path': None}, {'cast_id': 82, 'character': 'Woman in ER Waiting Room (uncredited)', 'credit_id': '57c463c392514165f80054ac', 'gender': 1, 'id': 1480130, 'name': 'Tiffany Sander McKenzie', 'order': 32, 'profile_path': '/2Gvt77UAINub19VwqF1dxpCEqaR.jpg'}, {'cast_id': 83, 'character': 'Teacher (uncredited)', 'credit_id': '57c463d89251416c04004f31', 'gender': 1, 'id': 572076, 'name': 'Joanna Theobalds', 'order': 33, 'profile_path': '/cVjkZfFa8hClz2EiDZaerzvSpXr.jpg'}]                                                                                                                                                                                                                                                                                                                                                                                                                                                                                                                                                                                                                                                                                                                                                                                                                                                                                                                                                                                                                                                                                                                                                                                                                                                                                                                                                                                                                                                                                                                                                                                                                                                                                                                                                                                                                                                                                                                                                                                                                                                                                                                                                                                                                                                                                                                                                                                                                                                                                                                                                                                                                                                                                                                                                                                                                                                                                                                                                                                                                                                                                                                                                                                                                                                                                                                                                   1\n",
              "Name: cast, Length: 2903, dtype: int64"
            ]
          },
          "metadata": {},
          "execution_count": 597
        }
      ]
    },
    {
      "cell_type": "markdown",
      "source": [
        "Como já dito essa coluna será mantida pela relevância e preferencia de seus dados"
      ],
      "metadata": {
        "id": "G9kahktratbZ"
      }
    },
    {
      "cell_type": "markdown",
      "source": [
        "Conferindo o que havia na coluna de equipe:"
      ],
      "metadata": {
        "id": "X_CZCCNAHw-s"
      }
    },
    {
      "cell_type": "code",
      "source": [
        "treino['crew'].value_counts()"
      ],
      "metadata": {
        "colab": {
          "base_uri": "https://localhost:8080/"
        },
        "id": "O3wWnC4_wXx4",
        "outputId": "2422bbb5-61fd-4bfc-f38c-dc59e8c5575e"
      },
      "execution_count": 598,
      "outputs": [
        {
          "output_type": "execute_result",
          "data": {
            "text/plain": [
              "[{'credit_id': '59ac067c92514107af02c8c8', 'department': 'Directing', 'gender': 0, 'id': 1449071, 'job': 'First Assistant Director', 'name': 'Kelly Cantley', 'profile_path': None}, {'credit_id': '52fe4ee7c3a36847f82afad7', 'department': 'Directing', 'gender': 2, 'id': 3227, 'job': 'Director', 'name': 'Steve Pink', 'profile_path': '/myHOgo8mQSCiCAZNGMRdHVr03jr.jpg'}, {'credit_id': '5524ed25c3a3687ded000d88', 'department': 'Writing', 'gender': 2, 'id': 347335, 'job': 'Writer', 'name': 'Josh Heald', 'profile_path': '/pwXJIenrDMrG7t3zNfLvr8w1RGU.jpg'}, {'credit_id': '5524ed2d925141720c001128', 'department': 'Writing', 'gender': 2, 'id': 347335, 'job': 'Characters', 'name': 'Josh Heald', 'profile_path': '/pwXJIenrDMrG7t3zNfLvr8w1RGU.jpg'}, {'credit_id': '5524ed3d92514166c1004a5d', 'department': 'Production', 'gender': 2, 'id': 57822, 'job': 'Producer', 'name': 'Andrew Panay', 'profile_path': None}, {'credit_id': '5524ed4bc3a3687df3000dd2', 'department': 'Production', 'gender': 0, 'id': 1451395, 'job': 'Associate Producer', 'name': 'Adam Blum', 'profile_path': None}, {'credit_id': '5524ed5a925141720c00112c', 'department': 'Production', 'gender': 2, 'id': 52997, 'job': 'Executive Producer', 'name': 'Rob Corddry', 'profile_path': '/k2zJL0V1nEZuFT08xUdOd3ucfXz.jpg'}, {'credit_id': '5524ed85c3a3687e0e000f56', 'department': 'Production', 'gender': 0, 'id': 62807, 'job': 'Executive Producer', 'name': 'Ben Ormand', 'profile_path': None}, {'credit_id': '5524ed9fc3a3687e0e000f59', 'department': 'Sound', 'gender': 2, 'id': 23486, 'job': 'Original Music Composer', 'name': 'Christophe Beck', 'profile_path': '/2fnJUmCk6IEpVIptpYaUk31epHx.jpg'}, {'credit_id': '5524eda6c3a3687e03000d28', 'department': 'Camera', 'gender': 2, 'id': 6117, 'job': 'Director of Photography', 'name': 'Declan Quinn', 'profile_path': None}, {'credit_id': '5524edb4925141720c00113d', 'department': 'Editing', 'gender': 0, 'id': 1451396, 'job': 'Editor', 'name': 'Jamie Gross', 'profile_path': None}, {'credit_id': '5524edc1925141727600102e', 'department': 'Production', 'gender': 0, 'id': 22219, 'job': 'Casting', 'name': 'Susie Farris', 'profile_path': None}, {'credit_id': '5524edd192514171cb008257', 'department': 'Art', 'gender': 0, 'id': 1002643, 'job': 'Production Design', 'name': 'Ryan Berg', 'profile_path': None}, {'credit_id': '555ad9be9251411e5b00d485', 'department': 'Production', 'gender': 2, 'id': 57431, 'job': 'Executive Producer', 'name': 'Matt Moore', 'profile_path': None}, {'credit_id': '5677e93bc3a36816890087dc', 'department': 'Directing', 'gender': 0, 'id': 1551818, 'job': 'Script Supervisor', 'name': 'Nicole Garcea', 'profile_path': None}, {'credit_id': '5677e96a92514179e10093d0', 'department': 'Production', 'gender': 0, 'id': 1551819, 'job': 'Production Coordinator', 'name': 'Jason Salzman', 'profile_path': None}, {'credit_id': '5677e98492514179d2008cd9', 'department': 'Costume & Make-Up', 'gender': 0, 'id': 1422996, 'job': 'Costume Design', 'name': 'Carol Cutshall', 'profile_path': None}, {'credit_id': '5677e9d5c3a368168e009414', 'department': 'Art', 'gender': 2, 'id': 500199, 'job': 'Set Decoration', 'name': 'Tim Cohn', 'profile_path': None}, {'credit_id': '5677f89d9251417845001a61', 'department': 'Costume & Make-Up', 'gender': 0, 'id': 1527917, 'job': 'Hair Department Head', 'name': 'Voni Hinkle', 'profile_path': None}, {'credit_id': '5677f8b392514179dd0089fb', 'department': 'Costume & Make-Up', 'gender': 0, 'id': 1431554, 'job': 'Makeup Department Head', 'name': 'Remi Savva', 'profile_path': None}, {'credit_id': '5677f8d1c3a3681689008a4b', 'department': 'Art', 'gender': 0, 'id': 66495, 'job': 'Art Direction', 'name': 'Jason Baldwin Stewart', 'profile_path': None}, {'credit_id': '5677f8eec3a3681685008dd5', 'department': 'Production', 'gender': 0, 'id': 1412466, 'job': 'Production Supervisor', 'name': 'Korey Budd', 'profile_path': None}, {'credit_id': '5677f90a9251417845001a7d', 'department': 'Sound', 'gender': 0, 'id': 1401562, 'job': 'Sound Re-Recording Mixer', 'name': 'Gary C. Bourgeois', 'profile_path': None}, {'credit_id': '5677f91e9251417845001a84', 'department': 'Sound', 'gender': 0, 'id': 1396794, 'job': 'Sound Re-Recording Mixer', 'name': 'Gabriel J. Serrano', 'profile_path': None}, {'credit_id': '5677f938c3a3681680008dd4', 'department': 'Editing', 'gender': 0, 'id': 13168, 'job': 'Dialogue Editor', 'name': 'Victoria Rose Sampson', 'profile_path': None}, {'credit_id': '5677f94e92514179dd008a1f', 'department': 'Sound', 'gender': 0, 'id': 1551839, 'job': 'Production Sound Mixer', 'name': 'Michael B. Koff', 'profile_path': None}, {'credit_id': '5677f968c3a368168e009698', 'department': 'Sound', 'gender': 0, 'id': 113052, 'job': 'Sound Effects Editor', 'name': 'Randall Guth', 'profile_path': None}, {'credit_id': '5677f98dc3a3681685008e02', 'department': 'Crew', 'gender': 2, 'id': 1442535, 'job': 'Stunt Coordinator', 'name': 'Chuck Picerni Jr.', 'profile_path': '/yE5QtXUzcrnCzMRctZL8F5g842B.jpg'}, {'credit_id': '5677f9a692514179dd008a49', 'department': 'Camera', 'gender': 0, 'id': 1437305, 'job': 'Camera Operator', 'name': 'Michael Applebaum', 'profile_path': None}, {'credit_id': '5677f9bd9251417845001aae', 'department': 'Camera', 'gender': 0, 'id': 1401765, 'job': 'Still Photographer', 'name': 'Steve Dietl', 'profile_path': None}, {'credit_id': '5677f9e592514179e7008bf7', 'department': 'Lighting', 'gender': 0, 'id': 1402721, 'job': 'Rigging Gaffer', 'name': 'Tarik Naim Alherimi', 'profile_path': None}, {'credit_id': '5677f9f4c3a368167c0090ed', 'department': 'Lighting', 'gender': 0, 'id': 1402719, 'job': 'Gaffer', 'name': 'Paul Olinde', 'profile_path': None}, {'credit_id': '5677fa21c3a368168e0096ca', 'department': 'Sound', 'gender': 0, 'id': 1551840, 'job': 'Music Supervisor', 'name': 'Steve Griffen', 'profile_path': None}, {'credit_id': '5677fa31c3a3681680008e04', 'department': 'Sound', 'gender': 0, 'id': 1551841, 'job': 'Music Editor', 'name': 'Matt Fausak', 'profile_path': None}, {'credit_id': '5677fa4392514179dd008a76', 'department': 'Sound', 'gender': 0, 'id': 1551840, 'job': 'Music Editor', 'name': 'Steve Griffen', 'profile_path': None}, {'credit_id': '5677fa609251417845001acf', 'department': 'Costume & Make-Up', 'gender': 0, 'id': 1403416, 'job': 'Costume Supervisor', 'name': 'Shonta T. McCray', 'profile_path': None}, {'credit_id': '5677fa8492514179d2008fb3', 'department': 'Camera', 'gender': 0, 'id': 1425831, 'job': 'Steadicam Operator', 'name': 'Mark Karavite', 'profile_path': None}, {'credit_id': '5677fab2c3a3681689008ac3', 'department': 'Camera', 'gender': 0, 'id': 1551842, 'job': 'First Assistant Camera', 'name': 'Joe Waistell', 'profile_path': None}, {'credit_id': '5677faecc3a368168e0096fe', 'department': 'Sound', 'gender': 0, 'id': 58362, 'job': 'Supervising Sound Editor', 'name': 'Michael Hilkene', 'profile_path': None}, {'credit_id': '59ac0368c3a3682c0a02c484', 'department': 'Crew', 'gender': 0, 'id': 1881584, 'job': 'Additional Writing', 'name': 'John Karnay', 'profile_path': None}, {'credit_id': '59ac0411c3a3682bf0028966', 'department': 'Costume & Make-Up', 'gender': 0, 'id': 1431552, 'job': 'Hairstylist', 'name': 'Daina Daigle', 'profile_path': None}, {'credit_id': '59ac0504925141072302b8fb', 'department': 'Costume & Make-Up', 'gender': 0, 'id': 1712001, 'job': 'Makeup Artist', 'name': 'Allison Gordin', 'profile_path': None}, {'credit_id': '59ac0570c3a3682bf0028aac', 'department': 'Costume & Make-Up', 'gender': 0, 'id': 578725, 'job': 'Makeup Artist', 'name': 'Darryl Lucas', 'profile_path': None}, {'credit_id': '59ac05a4925141077e02c97e', 'department': 'Costume & Make-Up', 'gender': 0, 'id': 1463274, 'job': 'Makeup Artist', 'name': 'Annabelle MacNeal', 'profile_path': None}, {'credit_id': '59ac05c6925141076502d106', 'department': 'Costume & Make-Up', 'gender': 0, 'id': 1881586, 'job': 'Makeup Artist', 'name': 'Marina Savva', 'profile_path': None}, {'credit_id': '59ac0615c3a3682c480296aa', 'department': 'Costume & Make-Up', 'gender': 0, 'id': 1406267, 'job': 'Hairstylist', 'name': 'Carl G. Variste', 'profile_path': None}, {'credit_id': '59ac06ba925141076502d1fa', 'department': 'Directing', 'gender': 0, 'id': 1798593, 'job': 'First Assistant Director', 'name': 'Josh King', 'profile_path': None}, {'credit_id': '59ac06f1c3a3682c2202aca0', 'department': 'Art', 'gender': 0, 'id': 1415083, 'job': 'Greensman', 'name': 'Scott C. Bivona', 'profile_path': None}, {'credit_id': '59ac072c925141076502d260', 'department': 'Art', 'gender': 0, 'id': 1881587, 'job': 'Title Designer', 'name': 'Eunha Choi', 'profile_path': None}, {'credit_id': '59ac077c925141077e02cb62', 'department': 'Art', 'gender': 0, 'id': 1585302, 'job': 'Construction Coordinator', 'name': 'Daniel Coe', 'profile_path': None}, {'credit_id': '59ac07e0925141078a02d842', 'department': 'Art', 'gender': 0, 'id': 1495523, 'job': 'Set Designer', 'name': 'Spencer Davison', 'profile_path': None}, {'credit_id': '59ac0862925141072f02cf6f', 'department': 'Art', 'gender': 0, 'id': 1881589, 'job': 'Painter', 'name': 'Sonia L. Garcia', 'profile_path': None}, {'credit_id': '59ac08e0c3a3682bf0028e51', 'department': 'Art', 'gender': 0, 'id': 1424896, 'job': 'Art Department Coordinator', 'name': 'Caleb Guillotte', 'profile_path': None}, {'credit_id': '59ac0920c3a3682c2202af36', 'department': 'Art', 'gender': 0, 'id': 1393375, 'job': 'Leadman', 'name': \"Pat A. O'Connor\", 'profile_path': None}, {'credit_id': '59ac095592514107af02cc39', 'department': 'Art', 'gender': 0, 'id': 1881592, 'job': 'Set Designer', 'name': 'Brendan Turrill', 'profile_path': None}, {'credit_id': '59ac0989925141072302bdfa', 'department': 'Art', 'gender': 2, 'id': 76497, 'job': 'Property Master', 'name': 'Brook Yeaton', 'profile_path': None}, {'credit_id': '59ac0a2cc3a3682c9c02add1', 'department': 'Sound', 'gender': 0, 'id': 1881596, 'job': 'Boom Operator', 'name': 'Matthew Armstrong', 'profile_path': None}, {'credit_id': '59ac0aa8925141072f02d282', 'department': 'Visual Effects', 'gender': 2, 'id': 1558086, 'job': 'Special Effects Supervisor', 'name': 'Matt Kutcher', 'profile_path': None}, {'credit_id': '59ac0b2ac3a3682c2202b192', 'department': 'Crew', 'gender': 2, 'id': 1558087, 'job': 'Special Effects Coordinator', 'name': 'Eric Roberts', 'profile_path': None}, {'credit_id': '59ac0b7ac3a3682c2202b1fb', 'department': 'Visual Effects', 'gender': 0, 'id': 1392098, 'job': 'Visual Effects Supervisor', 'name': 'Rocco Passionino', 'profile_path': None}, {'credit_id': '59ac0bbe925141077e02d0c4', 'department': 'Visual Effects', 'gender': 0, 'id': 1558716, 'job': 'Visual Effects Coordinator', 'name': 'Joseph Payo', 'profile_path': None}, {'credit_id': '59ac0bf2c3a3682cc802cefa', 'department': 'Visual Effects', 'gender': 0, 'id': 1408784, 'job': 'Visual Effects Producer', 'name': 'Chris Roff', 'profile_path': None}, {'credit_id': '59ac0c51c3a3682c48029d99', 'department': 'Lighting', 'gender': 0, 'id': 1881600, 'job': 'Best Boy Electric', 'name': 'Ulyan Atamanyuk', 'profile_path': None}, {'credit_id': '59ac0cbac3a3682c0a02cff6', 'department': 'Camera', 'gender': 0, 'id': 1881602, 'job': 'Key Grip', 'name': 'Chris Ekstrom', 'profile_path': None}, {'credit_id': '59ac0d54925141072f02d5e6', 'department': 'Lighting', 'gender': 0, 'id': 1484984, 'job': 'Best Boy Electric', 'name': 'Brad Garris', 'profile_path': None}, {'credit_id': '59ac0db0925141078a02df86', 'department': 'Camera', 'gender': 0, 'id': 1881603, 'job': 'Dolly Grip', 'name': 'Kendell Joseph', 'profile_path': None}, {'credit_id': '59ac0e5a925141077e02d39f', 'department': 'Camera', 'gender': 0, 'id': 1549179, 'job': 'Dolly Grip', 'name': 'Spencer Wilcox', 'profile_path': None}, {'credit_id': '59ac0e9f925141079d02bee6', 'department': 'Costume & Make-Up', 'gender': 0, 'id': 1552626, 'job': 'Key Costumer', 'name': 'Sarah P. Koeppe', 'profile_path': None}, {'credit_id': '59ac0ec1c3a3682bf0029524', 'department': 'Costume & Make-Up', 'gender': 0, 'id': 1881605, 'job': 'Seamstress', 'name': 'Catherine Rodi', 'profile_path': None}, {'credit_id': '59ac0eef925141070702c7ff', 'department': 'Costume & Make-Up', 'gender': 0, 'id': 1463801, 'job': 'Seamstress', 'name': 'Giselle Spence', 'profile_path': None}, {'credit_id': '59ac0f5dc3a3682c4802a0f5', 'department': 'Production', 'gender': 0, 'id': 1400837, 'job': 'Location Manager', 'name': 'John A. Johnston', 'profile_path': None}, {'credit_id': '59ac0ff2c3a3682c4802a196', 'department': 'Crew', 'gender': 0, 'id': 1844322, 'job': 'Production Controller', 'name': 'Gail Marks', 'profile_path': None}]    1\n",
              "[{'credit_id': '52fe442f9251416c7502bca1', 'department': 'Directing', 'gender': 0, 'id': 56998, 'job': 'Director', 'name': 'Dwight H. Little', 'profile_path': '/9Q77ZzYvRkVmfdU6twRQyvW4YB8.jpg'}, {'credit_id': '52fe442f9251416c7502bca7', 'department': 'Writing', 'gender': 2, 'id': 56452, 'job': 'Screenplay', 'name': 'Alan B. McElroy', 'profile_path': None}, {'credit_id': '52fe442f9251416c7502bcad', 'department': 'Production', 'gender': 2, 'id': 66203, 'job': 'Executive Producer', 'name': 'Moustapha Akkad', 'profile_path': '/lL9LxSsNN6qYXHgnDaocCl2xVI2.jpg'}, {'credit_id': '52fe442f9251416c7502bcb3', 'department': 'Production', 'gender': 0, 'id': 652, 'job': 'Producer', 'name': 'Paul Freeman', 'profile_path': '/gWRX09kyrzTFFehwE53cJtps2fx.jpg'}, {'credit_id': '52fe442f9251416c7502bcb9', 'department': 'Sound', 'gender': 2, 'id': 15445, 'job': 'Original Music Composer', 'name': 'Alan Howarth', 'profile_path': None}, {'credit_id': '52fe442f9251416c7502bcbf', 'department': 'Camera', 'gender': 2, 'id': 20823, 'job': 'Director of Photography', 'name': 'Peter Lyons Collister', 'profile_path': None}, {'credit_id': '52fe442f9251416c7502bcc5', 'department': 'Editing', 'gender': 2, 'id': 6390, 'job': 'Editor', 'name': 'Curtiss Clayton', 'profile_path': None}, {'credit_id': '58ac784092514158c00164df', 'department': 'Production', 'gender': 0, 'id': 1485315, 'job': 'Associate Producer', 'name': 'M.N. Sanousi', 'profile_path': None}, {'credit_id': '58ac786c925141590e014bfc', 'department': 'Art', 'gender': 0, 'id': 1341333, 'job': 'Art Direction', 'name': 'Roger Crandall', 'profile_path': None}]                                                                                                                                                                                                                                                                                                                                                                                                                                                                                                                                                                                                                                                                                                                                                                                                                                                                                                                                                                                                                                                                                                                                                                                                                                                                                                                                                                                                                                                                                                                                                                                                                                                                                                                                                                                                                                                                                                                                                                                                                                                                                                                                                                                                                                                                                                                                                                                                                                                                                                                                                                                                                                                                                                                                                                                                                                                                                                                                                                                                                                                                                                                                                                                                                                                                                                                                                                                                                                                                                                                                                                                                                                                                                                                                                                                                                                                                                                                                                                                                                                                                                                                                                                                                                                                                                                                                                                                                                                                                                                                                                                                                                                                                                                                                                                                                                                                                                                                                                                                                                                                                                                                                                                                                                                                                                                                                                                                                                                                                                                                                                                                                                                                                                                                                                                                                                                                                                                                                                                                                                                                                                                                                                                                                                                                                                                                                                                                                                                                                                                                                                                                                                                                                                                                                                                                                                                                                                                                                                                                                                                                                                                                                                                                                                                                                                                                                                                                                                                                                                                                                                                                                                                                                                                                                                                                                                                                                                                                                                                                                                                                                                                                                                                                                                                                                                                                                                                                                                                                                                                                                                                                                                                                                                                                                                                                                                                                                                                                                                                                                                                                                                                                                                                                                                                                                                                                                                                                                                                                                                                                                                                                                                                                                                                                                                                                                                                                                                                                                                                                                                                                                                                                                                                                                                                                                                                                                                                                                                                                                                                                                                                                                                                                                                                                                                                                                                                                                                                                                                                                                                                                                                                                                                                                                                                                                                                                                                             1\n",
              "[{'credit_id': '52fe4780c3a368484e0ca94d', 'department': 'Directing', 'gender': 0, 'id': 550172, 'job': 'Director', 'name': 'Vetrimaran', 'profile_path': '/26CngaQNb883pY8KC0tRWtkRlTs.jpg'}, {'credit_id': '52fe4780c3a368484e0ca953', 'department': 'Production', 'gender': 0, 'id': 550173, 'job': 'Producer', 'name': 'Kathiresan', 'profile_path': None}, {'credit_id': '52fe4780c3a368484e0ca959', 'department': 'Sound', 'gender': 2, 'id': 584950, 'job': 'Music', 'name': 'G. V. Prakash Kumar', 'profile_path': '/acoKN1VOgOTq4zKTwtuZoRObo0w.jpg'}, {'credit_id': '52fe4780c3a368484e0ca95f', 'department': 'Writing', 'gender': 0, 'id': 550172, 'job': 'Writer', 'name': 'Vetrimaran', 'profile_path': '/26CngaQNb883pY8KC0tRWtkRlTs.jpg'}]                                                                                                                                                                                                                                                                                                                                                                                                                                                                                                                                                                                                                                                                                                                                                                                                                                                                                                                                                                                                                                                                                                                                                                                                                                                                                                                                                                                                                                                                                                                                                                                                                                                                                                                                                                                                                                                                                                                                                                                                                                                                                                                                                                                                                                                                                                                                                                                                                                                                                                                                                                                                                                                                                                                                                                                                                                                                                                                                                                                                                                                                                                                                                                                                                                                                                                                                                                                                                                                                                                                                                                                                                                                                                                                                                                                                                                                                                                                                                                                                                                                                                                                                                                                                                                                                                                                                                                                                                                                                                                                                                                                                                                                                                                                                                                                                                                                                                                                                                                                                                                                                                                                                                                                                                                                                                                                                                                                                                                                                                                                                                                                                                                                                                                                                                                                                                                                                                                                                                                                                                                                                                                                                                                                                                                                                                                                                                                                                                                                                                                                                                                                                                                                                                                                                                                                                                                                                                                                                                                                                                                                                                                                                                                                                                                                                                                                                                                                                                                                                                                                                                                                                                                                                                                                                                                                                                                                                                                                                                                                                                                                                                                                                                                                                                                                                                                                                                                                                                                                                                                                                                                                                                                                                                                                                                                                                                                                                                                                                                                                                                                                                                                                                                                                                                                                                                                                                                                                                                                                                                                                                                                                                                                                                                                                                                                                                                                                                                                                                                                                                                                                                                                                                                                                                                                                                                                                                                                                                                                                                                                                                                                                                                                                                                                                                                                                                                                                                                                                                                                                                                                                                                                                                                                                                                                                                                                                                                                                                                                                                                                                                                                                                                                                                                                                                                                                                                                                                                                                                                                                                                                                                                                                                                                                                                                                                         1\n",
              "[{'credit_id': '537d37bb0e0a2624c3000064', 'department': 'Directing', 'gender': 0, 'id': 204553, 'job': 'Director', 'name': 'Ethan Spaulding', 'profile_path': None}, {'credit_id': '535195230e0a2656030019ff', 'department': 'Directing', 'gender': 2, 'id': 105643, 'job': 'Director', 'name': 'Jay Oliva', 'profile_path': '/y7EbnuoKFMvU7uZ4aD50jThyNoF.jpg'}, {'credit_id': '537d3746c3a368059b00003e', 'department': 'Production', 'gender': 2, 'id': 10951, 'job': 'Executive Producer', 'name': 'Benjamin Melniker', 'profile_path': None}, {'credit_id': '537d3767c3a3680595000048', 'department': 'Production', 'gender': 2, 'id': 141043, 'job': 'Executive Producer', 'name': 'Sam Register', 'profile_path': None}, {'credit_id': '537d37d10e0a2624cb00003f', 'department': 'Writing', 'gender': 0, 'id': 1267557, 'job': 'Writer', 'name': 'Heath Corson', 'profile_path': None}, {'credit_id': '570ed20392514102bf000b61', 'department': 'Production', 'gender': 2, 'id': 10949, 'job': 'Executive Producer', 'name': 'Michael Uslan', 'profile_path': '/lJ8n7Z9JB0XH4dxdgI48HG9jX1o.jpg'}, {'credit_id': '56a4fc4d9251410c080050fd', 'department': 'Production', 'gender': 0, 'id': 1225820, 'job': 'Supervising Producer', 'name': 'James Tucker', 'profile_path': None}, {'credit_id': '58780d3c925141103500ce89', 'department': 'Sound', 'gender': 2, 'id': 1322323, 'job': 'Original Music Composer', 'name': 'Robert J. Kral', 'profile_path': None}, {'credit_id': '58d5a0fb9251411f9003288a', 'department': 'Editing', 'gender': 0, 'id': 1033619, 'job': 'Editor', 'name': 'Christopher D. Lozinski', 'profile_path': None}, {'credit_id': '58e4b39f925141283502b49f', 'department': 'Art', 'gender': 0, 'id': 90367, 'job': 'Storyboard Designer', 'name': 'Sam Liu', 'profile_path': '/6YLCBYqgILXZNpHql8xxadZldXq.jpg'}]                                                                                                                                                                                                                                                                                                                                                                                                                                                                                                                                                                                                                                                                                                                                                                                                                                                                                                                                                                                                                                                                                                                                                                                                                                                                                                                                                                                                                                                                                                                                                                                                                                                                                                                                                                                                                                                                                                                                                                                                                                                                                                                                                                                                                                                                                                                                                                                                                                                                                                                                                                                                                                                                                                                                                                                                                                                                                                                                                                                                                                                                                                                                                                                                                                                                                                                                                                                                                                                                                                                                                                                                                                                                                                                                                                                                                                                                                                                                                                                                                                                                                                                                                                                                                                                                                                                                                                                                                                                                                                                                                                                                                                                                                                                                                                                                                                                                                                                                                                                                                                                                                                                                                                                                                                                                                                                                                                                                                                                                                                                                                                                                                                                                                                                                                                                                                                                                                                                                                                                                                                                                                                                                                                                                                                                                                                                                                                                                                                                                                                                                                                                                                                                                                                                                                                                                                                                                                                                                                                                                                                                                                                                                                                                                                                                                                                                                                                                                                                                                                                                                                                                                                                                                                                                                                                                                                                                                                                                                                                                                                                                                                                                                                                                                                                                                                                                                                                                                                                                                                                                                                                                                                                                                                                                                                                                                                                                                                                                                                                                                                                                                                                                                                                                                                                                                                                                                                                                                                                                                                                                                                                                                                                                                                                                                                                                                                                                                                                                                                                                                                                                                                                                                                                                                                                                                                                                                                                                                                                                                                                                                                                                                                                                                                                                                                                                                                                                                                                                                                                                                                                                                                                                                                                               1\n",
              "[{'credit_id': '52fe44e8c3a36847f80b13a1', 'department': 'Directing', 'gender': 2, 'id': 1723, 'job': 'Director', 'name': 'Walter Hill', 'profile_path': '/gCU3dgnNaZuvmArtBJgjCUMmimd.jpg'}, {'credit_id': '52fe44e8c3a36847f80b13a7', 'department': 'Writing', 'gender': 2, 'id': 1723, 'job': 'Screenplay', 'name': 'Walter Hill', 'profile_path': '/gCU3dgnNaZuvmArtBJgjCUMmimd.jpg'}, {'credit_id': '52fe44e8c3a36847f80b13ad', 'department': 'Production', 'gender': 2, 'id': 4767, 'job': 'Executive Producer', 'name': 'Michael De Luca', 'profile_path': None}, {'credit_id': '52fe44e8c3a36847f80b13b3', 'department': 'Production', 'gender': 2, 'id': 1723, 'job': 'Producer', 'name': 'Walter Hill', 'profile_path': '/gCU3dgnNaZuvmArtBJgjCUMmimd.jpg'}, {'credit_id': '52fe44e8c3a36847f80b13b9', 'department': 'Production', 'gender': 1, 'id': 13668, 'job': 'Executive Producer', 'name': 'Sara Risher', 'profile_path': None}, {'credit_id': '52fe44e8c3a36847f80b13bf', 'department': 'Production', 'gender': 2, 'id': 21636, 'job': 'Producer', 'name': 'Arthur M. Sarkissian', 'profile_path': None}, {'credit_id': '52fe44e8c3a36847f80b13c5', 'department': 'Sound', 'gender': 2, 'id': 6918, 'job': 'Original Music Composer', 'name': 'Ry Cooder', 'profile_path': '/jDeoNWlT6ZTdjdOkgbccb3nFH8H.jpg'}, {'credit_id': '52fe44e8c3a36847f80b13cb', 'department': 'Camera', 'gender': 2, 'id': 43891, 'job': 'Director of Photography', 'name': 'Lloyd Ahern II', 'profile_path': None}, {'credit_id': '52fe44e8c3a36847f80b13d1', 'department': 'Editing', 'gender': 2, 'id': 1731, 'job': 'Editor', 'name': 'Freeman A. Davies', 'profile_path': None}, {'credit_id': '597cf7b39251415daa0061ee', 'department': 'Writing', 'gender': 0, 'id': 34373, 'job': 'Story', 'name': 'Ry√ªz√¥ Kikushima', 'profile_path': None}, {'credit_id': '597cf7c4c3a36853dd005ab1', 'department': 'Writing', 'gender': 2, 'id': 5026, 'job': 'Story', 'name': 'Akira Kurosawa', 'profile_path': '/7MTiuRIaAFlYLZMOJDysFNCqhGA.jpg'}, {'credit_id': '597cf7f4c3a3685440006169', 'department': 'Production', 'gender': 2, 'id': 18855, 'job': 'Co-Producer', 'name': 'Ralph S. Singleton', 'profile_path': None}, {'credit_id': '597cf8129251415d61006847', 'department': 'Crew', 'gender': 2, 'id': 43891, 'job': 'Cinematography', 'name': 'Lloyd Ahern II', 'profile_path': None}, {'credit_id': '597cf834c3a3685451006158', 'department': 'Production', 'gender': 1, 'id': 19679, 'job': 'Casting', 'name': 'Mary Gail Artz', 'profile_path': None}, {'credit_id': '597cf849c3a3685397006b58', 'department': 'Production', 'gender': 1, 'id': 19680, 'job': 'Casting', 'name': 'Barbara Cohen', 'profile_path': None}, {'credit_id': '597cf85d9251415db100649c', 'department': 'Art', 'gender': 2, 'id': 12051, 'job': 'Production Design', 'name': 'Gary Wissner', 'profile_path': None}, {'credit_id': '597cf873c3a368545100619a', 'department': 'Art', 'gender': 2, 'id': 10820, 'job': 'Art Direction', 'name': 'Barry Chusid', 'profile_path': None}, {'credit_id': '597cf885c3a3685417005e0d', 'department': 'Art', 'gender': 2, 'id': 65711, 'job': 'Set Decoration', 'name': 'Gary Fettis', 'profile_path': None}]                                                                                                                                                                                                                                                                                                                                                                                                                                                                                                                                                                                                                                                                                                                                                                                                                                                                                                                                                                                                                                                                                                                                                                                                                                                                                                                                                                                                                                                                                                                                                                                                                                                                                                                                                                                                                                                                                                                                                                                                                                                                                                                                                                                                                                                                                                                                                                                                                                                                                                                                                                                                                                                                                                                                                                                                                                                                                                                                                                                                                                                                                                                                                                                                                                                                                                                                                                                                                                                                                                                                                                                                                                                                                                                                                                                                                                                                                                                                                                                                                                                                                                                                                                                                                                                                                                                                                                                                                                                                                                                                                                                                                                                                                                                                                                                                                                                                                                                                                                                                                                                                                                                                                                                                                                                                                                                                                                                                                                                                                                                                                                                                                                                                                                                                                                                                                                                                                                                                                                                                                                                                                                                                                                                                                                                                                                                                                                                                                                                                                                                                                                                                                                                                                                                                                                                                                                                                                                                                                                                                                                                                                                                                                                                                                                                                                                                                                                                                                                                                                                                                                                                                                                                                                                                                                                                                                                                                                                                                                                                                                                                                                                                                                                                                                                                                                                                                                                                                                                                                                                                                                                                                                                                                                                                                                                                                                                                                                                                                                                                                                                                                                                                                                                                                                                                                                                                                                                                                                                                                                                                                                                                                                                                                                                                                                                                             1\n",
              "                                                                                                                                                                                                                                                                                                                                                                                                                                                                                                                                                                                                                                                                                                                                                                                                                                                                                                                                                                                                                                                                                                                                                                                                                                                                                                                                                                                                                                                                                                                                                                                                                                                                                                                                                                                                                                                                                                                                                                                                                                                                                                                                                                                                                                                                                                                                                                                                                                                                                                                                                                                                                                                                                                                                                                                                                                                                                                                                                                                                                                                                                                                                                                                                                                                                                                                                                                                                                                                                                                                                                                                                                                                                                                                                                                                                                                                                                                                                                                                                                                                                                                                                                                                                                                                                                                                                                                                                                                                                                                                                                                                                                                                                                                                                                                                                                                                                                                                                                                                                                                                                                                                                                                                                                                                                                                                                                                                                                                                                                                                                                                                                                                                                                                                                                                                                                                                                                                                                                                                                                                                                                                                                                                                                                                                                                                                                                                                                                                                                                                                                                                                                                                                                                                                                                                                                                                                                                                                                                                                                                                                                                                                                                                                                                                                                                                                                                                                                                                                                                                                                                                                                                                                                                                                                                                                                                                                                                                                                                                                                                                                                                                                                                                                                                                                                                                                                                                                                                                                                                                                                                                                                                                                                                                                                                                                                                                                                                                                                                                                                                                                                                                                                                                                                                                                                                                                                                                                                                                                                                                                                                                                                                                                                                                                                                                                                                                                                                                                                                                                                                                                                                                                                                                                                                                                                                                                                                                                                                                                                                                                                                                                                                                                                                                                                                                                                                                                                                                                                                                                                                                                                                                                                                                                                                                                                                                                                                                                                                                                                                                                                                                                                                                                                                                                                                                                                                                                                                                                                                                                                                                                                                                                                                                                                                                                                                                                                                                                                                                                                                                                                                                                                                                                                                                                                                                                                                                                                                                                                                                                                                                 ..\n",
              "[{'credit_id': '52fe43639251416c7500e623', 'department': 'Production', 'gender': 2, 'id': 2236, 'job': 'Executive Producer', 'name': 'Tim Bevan', 'profile_path': '/f7o93O1KocuLwIrSa7KqyL1sWaT.jpg'}, {'credit_id': '52fe43639251416c7500e641', 'department': 'Camera', 'gender': 2, 'id': 9573, 'job': 'Director of Photography', 'name': 'Peter Deming', 'profile_path': '/3NgM7E5kRYFMXY5znBPktbeI6qB.jpg'}, {'credit_id': '52fe43639251416c7500e63b', 'department': 'Sound', 'gender': 0, 'id': 14712, 'job': 'Original Music Composer', 'name': 'Randy Edelman', 'profile_path': '/fGS6OjvQpivFVajkmjTRgRiC9BN.jpg'}, {'credit_id': '52fe43639251416c7500e611', 'department': 'Directing', 'gender': 2, 'id': 16672, 'job': 'Director', 'name': 'Ate de Jong', 'profile_path': '/7CccV2n5Xe1RtRRImezylYLPYZS.jpg'}, {'credit_id': '52fe43639251416c7500e635', 'department': 'Production', 'gender': 2, 'id': 21378, 'job': 'Producer', 'name': 'Paul Webster', 'profile_path': '/fze6uF1oCdDYJFA5tbVhKX9nwW3.jpg'}, {'credit_id': '52fe43639251416c7500e647', 'department': 'Editing', 'gender': 2, 'id': 44993, 'job': 'Editor', 'name': 'Marshall Harvey', 'profile_path': None}, {'credit_id': '52fe43639251416c7500e617', 'department': 'Writing', 'gender': 0, 'id': 64946, 'job': 'Screenplay', 'name': 'Carlos Davis', 'profile_path': None}, {'credit_id': '52fe43639251416c7500e629', 'department': 'Production', 'gender': 0, 'id': 64946, 'job': 'Executive Producer', 'name': 'Carlos Davis', 'profile_path': None}, {'credit_id': '52fe43639251416c7500e61d', 'department': 'Writing', 'gender': 2, 'id': 64947, 'job': 'Screenplay', 'name': 'Anthony Fingleton', 'profile_path': None}, {'credit_id': '52fe43639251416c7500e62f', 'department': 'Production', 'gender': 2, 'id': 64947, 'job': 'Executive Producer', 'name': 'Anthony Fingleton', 'profile_path': None}, {'credit_id': '52fe43639251416c7500e651', 'department': 'Editing', 'gender': 0, 'id': 1211632, 'job': 'Editorial Production Assistant', 'name': 'James Groetsch', 'profile_path': None}]                                                                                                                                                                                                                                                                                                                                                                                                                                                                                                                                                                                                                                                                                                                                                                                                                                                                                                                                                                                                                                                                                                                                                                                                                                                                                                                                                                                                                                                                                                                                                                                                                                                                                                                                                                                                                                                                                                                                                                                                                                                                                                                                                                                                                                                                                                                                                                                                                                                                                                                                                                                                                                                                                                                                                                                                                                                                                                                                                                                                                                                                                                                                                                                                                                                                                                                                                                                                                                                                                                                                                                                                                                                                                                                                                                                                                                                                                                                                                                                                                                                                                                                                                                                                                                                                                                                                                                                                                                                                                                                                                                                                                                                                                                                                                                                                                                                                                                                                                                                                                                                                                                                                                                                                                                                                                                                                                                                                                                                                                                                                                                                                                                                                                                                                                                                                                                                                                                                                                                                                                                                                                                                                                                                                                                                                                                                                                                                                                                                                                                                                                                                                                                                                                                                                                                                                                                                                                                                                                                                                                                                                                                                                                                                                                                                                                                                                                                                                                                                                                                                                                                                                                                                                                                                                                                                                                                                                                                                                                                                                                                                                                                                                                                                                                                                                                                                                                                                                                                                                                                                                                                                                                                                                                                                                                                                                                                                                                                                                                                                                                                                                                                                                                                                                                                                                                                                                                                                                                                                                                                                                                                                                                                                                                                                                                                                                                                                                                                                                                                                                                                                                                                                                                                                                                                                                                                                                                                                                                                                                                                                                                                                                                                                                                                                                                                                                                                                                                                                                            1\n",
              "[{'credit_id': '597dfeb49251415d78019fee', 'department': 'Costume & Make-Up', 'gender': 1, 'id': 19692, 'job': 'Costume Design', 'name': 'Diana Cilliers', 'profile_path': None}, {'credit_id': '5357d416c3a3685621002c09', 'department': 'Directing', 'gender': 0, 'id': 65879, 'job': 'Director', 'name': 'Kristian Levring', 'profile_path': '/9BoGTgDyRyRW51JgXaCl5gmVNYC.jpg'}, {'credit_id': '5357d421c3a36855f9002c81', 'department': 'Writing', 'gender': 0, 'id': 65879, 'job': 'Writer', 'name': 'Kristian Levring', 'profile_path': '/9BoGTgDyRyRW51JgXaCl5gmVNYC.jpg'}, {'credit_id': '5357d439c3a36855f2002c79', 'department': 'Writing', 'gender': 2, 'id': 1012, 'job': 'Writer', 'name': 'Anders Thomas Jensen', 'profile_path': '/qlTicJ92OcWBvKZUxCGnHTskzhA.jpg'}, {'credit_id': '5357d44bc3a36855f2002c7b', 'department': 'Production', 'gender': 0, 'id': 1195575, 'job': 'Producer', 'name': 'Michael Auret', 'profile_path': None}, {'credit_id': '5357d456c3a36855f2002c7f', 'department': 'Production', 'gender': 0, 'id': 1015, 'job': 'Producer', 'name': 'Sisse Graum J√∏rgensen', 'profile_path': None}, {'credit_id': '5357d47bc3a3685611002b6a', 'department': 'Sound', 'gender': 0, 'id': 1015, 'job': 'Music', 'name': 'Sisse Graum J√∏rgensen', 'profile_path': None}, {'credit_id': '5357d4bfc3a3685609002cac', 'department': 'Camera', 'gender': 0, 'id': 65882, 'job': 'Director of Photography', 'name': 'Jens Schlosser', 'profile_path': None}, {'credit_id': '5357d4cac3a3685609002cae', 'department': 'Editing', 'gender': 2, 'id': 1030, 'job': 'Editor', 'name': 'Pernille Bech Christensen', 'profile_path': None}, {'credit_id': '5357d4d9c3a36855f9002c8c', 'department': 'Art', 'gender': 0, 'id': 1312809, 'job': 'Art Direction', 'name': 'Chantal Carter', 'profile_path': None}, {'credit_id': '5357d4efc3a3685619002b84', 'department': 'Sound', 'gender': 0, 'id': 1312810, 'job': 'Sound Designer', 'name': 'Alastair Sirkett', 'profile_path': None}, {'credit_id': '5575a515c3a36855f5001c49', 'department': 'Production', 'gender': 1, 'id': 3922, 'job': 'Casting', 'name': 'Joyce Nettles', 'profile_path': None}, {'credit_id': '5575a52bc3a36838d30090ef', 'department': 'Production', 'gender': 1, 'id': 2952, 'job': 'Casting', 'name': 'Avy Kaufman', 'profile_path': '/yQPGktsmkKkhkOQAUlmYlxHJOiJ.jpg'}, {'credit_id': '5575a56bc3a36838d3009103', 'department': 'Art', 'gender': 0, 'id': 1475315, 'job': 'Production Design', 'name': 'J√∏rgen Munk', 'profile_path': None}, {'credit_id': '5575a5869251412e26005edb', 'department': 'Art', 'gender': 0, 'id': 1475317, 'job': 'Set Decoration', 'name': 'Anneke Botha', 'profile_path': None}, {'credit_id': '5575a5c5c3a368234c004461', 'department': 'Directing', 'gender': 0, 'id': 1475319, 'job': 'Script Coordinator', 'name': 'Maureen Conway', 'profile_path': None}]                                                                                                                                                                                                                                                                                                                                                                                                                                                                                                                                                                                                                                                                                                                                                                                                                                                                                                                                                                                                                                                                                                                                                                                                                                                                                                                                                                                                                                                                                                                                                                                                                                                                                                                                                                                                                                                                                                                                                                                                                                                                                                                                                                                                                                                                                                                                                                                                                                                                                                                                                                                                                                                                                                                                                                                                                                                                                                                                                                                                                                                                                                                                                                                                                                                                                                                                                                                                                                                                                                                                                                                                                                                                                                                                                                                                                                                                                                                                                                                                                                                                                                                                                                                                                                                                                                                                                                                                                                                                                                                                                                                                                                                                                                                                                                                                                                                                                                                                                                                                                                                                                                                                                                                                                                                                                                                                                                                                                                                                                                                                                                                                                                                                                                                                                                                                                                                                                                                                                                                                                                                                                                                                                                                                                                                                                                                                                                                                                                                                                                                                                                                                                                                                                                                                                                                                                                                                                                                                                                                                                                                                                                                                                                                                                                                                                                                                                                                                                                                                                                                                                                                                                                                                                                                                                                                                                                                                                                                                                                                                                                                                                                                                                                                                                                                                                                                                                                                                                                                                                                                                                                                                                                                                                                                                                                                                                                                                                                                                                                                                                                                                                                                                                                                                                                                                                                                                                                                                                                                                                                                                                                                                                                                                                                                                                                                                                                                                                                                                                                                                                                                                                                                               1\n",
              "[{'credit_id': '52fe4255c3a36847f8015f49', 'department': 'Directing', 'gender': 2, 'id': 5216, 'job': 'Director', 'name': 'Gus Van Sant', 'profile_path': '/2WsDgxPivXtPHtsXK5QZ8U7zYEb.jpg'}, {'credit_id': '52fe4255c3a36847f8015f4f', 'department': 'Writing', 'gender': 1, 'id': 7794, 'job': 'Author', 'name': 'Joyce Maynard', 'profile_path': None}, {'credit_id': '52fe4255c3a36847f8015f55', 'department': 'Writing', 'gender': 0, 'id': 7795, 'job': 'Screenplay', 'name': 'Buck Henry', 'profile_path': '/1RVDoUYK85mynMCU7mom7B1TQqC.jpg'}, {'credit_id': '52fe4255c3a36847f8015f73', 'department': 'Production', 'gender': 1, 'id': 7627, 'job': 'Producer', 'name': 'Laura Ziskin', 'profile_path': None}, {'credit_id': '52fe4255c3a36847f8015f79', 'department': 'Production', 'gender': 0, 'id': 2553, 'job': 'Executive Producer', 'name': 'Jonathan T. Taplin', 'profile_path': None}, {'credit_id': '52fe4255c3a36847f8015f7f', 'department': 'Production', 'gender': 0, 'id': 7797, 'job': 'Producer', 'name': 'Leslie Morgan', 'profile_path': None}, {'credit_id': '52fe4255c3a36847f8015f85', 'department': 'Production', 'gender': 2, 'id': 7798, 'job': 'Producer', 'name': 'Sandy Isaac', 'profile_path': None}, {'credit_id': '52fe4255c3a36847f8015f8b', 'department': 'Sound', 'gender': 2, 'id': 531, 'job': 'Original Music Composer', 'name': 'Danny Elfman', 'profile_path': '/pWacZpYPos8io22nEiim7d3wp2j.jpg'}, {'credit_id': '52fe4255c3a36847f8015f91', 'department': 'Camera', 'gender': 0, 'id': 6389, 'job': 'Director of Photography', 'name': 'Eric Alan Edwards', 'profile_path': None}, {'credit_id': '52fe4255c3a36847f8015f97', 'department': 'Editing', 'gender': 2, 'id': 6390, 'job': 'Editor', 'name': 'Curtiss Clayton', 'profile_path': None}, {'credit_id': '52fe4255c3a36847f8015f9d', 'department': 'Production', 'gender': 1, 'id': 7800, 'job': 'Casting', 'name': 'Deirdre Bowen', 'profile_path': None}, {'credit_id': '52fe4255c3a36847f8015fa3', 'department': 'Art', 'gender': 1, 'id': 6628, 'job': 'Production Design', 'name': 'Missy Stewart', 'profile_path': None}, {'credit_id': '52fe4255c3a36847f8015fa9', 'department': 'Art', 'gender': 1, 'id': 7802, 'job': 'Set Decoration', 'name': 'Carol Lavoie', 'profile_path': None}, {'credit_id': '52fe4255c3a36847f8015faf', 'department': 'Costume & Make-Up', 'gender': 1, 'id': 6392, 'job': 'Costume Design', 'name': 'Beatrix Aruna Pasztor', 'profile_path': None}, {'credit_id': '52fe4255c3a36847f8015fc1', 'department': 'Production', 'gender': 2, 'id': 1530, 'job': 'Casting', 'name': 'Howard Feuer', 'profile_path': None}, {'credit_id': '52fe4255c3a36847f8015fc7', 'department': 'Production', 'gender': 0, 'id': 10570, 'job': 'Executive Producer', 'name': 'Joseph M. Caracciolo Jr.', 'profile_path': None}]                                                                                                                                                                                                                                                                                                                                                                                                                                                                                                                                                                                                                                                                                                                                                                                                                                                                                                                                                                                                                                                                                                                                                                                                                                                                                                                                                                                                                                                                                                                                                                                                                                                                                                                                                                                                                                                                                                                                                                                                                                                                                                                                                                                                                                                                                                                                                                                                                                                                                                                                                                                                                                                                                                                                                                                                                                                                                                                                                                                                                                                                                                                                                                                                                                                                                                                                                                                                                                                                                                                                                                                                                                                                                                                                                                                                                                                                                                                                                                                                                                                                                                                                                                                                                                                                                                                                                                                                                                                                                                                                                                                                                                                                                                                                                                                                                                                                                                                                                                                                                                                                                                                                                                                                                                                                                                                                                                                                                                                                                                                                                                                                                                                                                                                                                                                                                                                                                                                                                                                                                                                                                                                                                                                                                                                                                                                                                                                                                                                                                                                                                                                                                                                                                                                                                                                                                                                                                                                                                                                                                                                                                                                                                                                                                                                                                                                                                                                                                                                                                                                                                                                                                                                                                                                                                                                                                                                                                                                                                                                                                                                                                                                                                                                                                                                                                                                                                                                                                                                                                                                                                                                                                                                                                                                                                                                                                                                                                                                                                                                                                                                                                                                                                                                                                                                                                                                                                                                                                                                                                                                                                                                                                                                                                                                                                                                                                                                                                                                                                                                                                                                                                                                                                                           1\n",
              "[{'credit_id': '52fe454fc3a36847f80c70cf', 'department': 'Editing', 'gender': 1, 'id': 3274, 'job': 'Editor', 'name': 'Lisa Fruchtman', 'profile_path': None}, {'credit_id': '52fe454fc3a36847f80c70ed', 'department': 'Production', 'gender': 1, 'id': 2031, 'job': 'Casting', 'name': 'Amanda Mackey', 'profile_path': None}, {'credit_id': '52fe454fc3a36847f80c70db', 'department': 'Production', 'gender': 1, 'id': 2532, 'job': 'Casting', 'name': 'Cathy Sandrich', 'profile_path': None}, {'credit_id': '52fe454fc3a36847f80c70f3', 'department': 'Sound', 'gender': 2, 'id': 2863, 'job': 'Original Music Composer', 'name': 'Nathan Larson', 'profile_path': None}, {'credit_id': '52fe454fc3a36847f80c70d5', 'department': 'Editing', 'gender': 2, 'id': 2866, 'job': 'Editor', 'name': 'Lee Percy', 'profile_path': None}, {'credit_id': '52fe454fc3a36847f80c70c3', 'department': 'Production', 'gender': 2, 'id': 4232, 'job': 'Producer', 'name': 'Bob Yari', 'profile_path': None}, {'credit_id': '52fe454fc3a36847f80c70e7', 'department': 'Production', 'gender': 2, 'id': 4906, 'job': 'Casting', 'name': 'Sig De Miguel', 'profile_path': None}, {'credit_id': '52fe454fc3a36847f80c70c9', 'department': 'Camera', 'gender': 2, 'id': 5506, 'job': 'Director of Photography', 'name': 'Elliot Davis', 'profile_path': None}, {'credit_id': '52fe454fc3a36847f80c7087', 'department': 'Production', 'gender': 2, 'id': 17210, 'job': 'Executive Producer', 'name': 'George Furla', 'profile_path': None}, {'credit_id': '52fe454fc3a36847f80c708d', 'department': 'Production', 'gender': 2, 'id': 17211, 'job': 'Executive Producer', 'name': 'Randall Emmett', 'profile_path': None}, {'credit_id': '52fe454fc3a36847f80c710f', 'department': 'Costume & Make-Up', 'gender': 1, 'id': 28162, 'job': 'Costume Design', 'name': 'Jill M. Ohanneson', 'profile_path': None}, {'credit_id': '52fe454fc3a36847f80c70e1', 'department': 'Production', 'gender': 1, 'id': 41677, 'job': 'Casting', 'name': 'Wendy Weidman', 'profile_path': None}, {'credit_id': '52fe454fc3a36847f80c7093', 'department': 'Production', 'gender': 2, 'id': 51702, 'job': 'Executive Producer', 'name': 'Brad Krevoy', 'profile_path': None}, {'credit_id': '52fe454fc3a36847f80c7081', 'department': 'Production', 'gender': 0, 'id': 52469, 'job': 'Producer', 'name': 'Anson Downes', 'profile_path': None}, {'credit_id': '52fe454fc3a36847f80c7099', 'department': 'Production', 'gender': 0, 'id': 52990, 'job': 'Producer', 'name': 'Jamie Gordon', 'profile_path': None}, {'credit_id': '52fe454fc3a36847f80c7105', 'department': 'Production', 'gender': 1, 'id': 60503, 'job': 'Casting', 'name': 'Lisa Mae Fincannon', 'profile_path': None}, {'credit_id': '52fe454fc3a36847f80c709f', 'department': 'Production', 'gender': 0, 'id': 60862, 'job': 'Producer', 'name': 'Linda Favila', 'profile_path': None}, {'credit_id': '52fe454fc3a36847f80c70a5', 'department': 'Directing', 'gender': 0, 'id': 60860, 'job': 'Director', 'name': 'Shainee Gabel', 'profile_path': '/jDCufbFdVFP1easYXsQscGHSDM9.jpg'}, {'credit_id': '52fe454fc3a36847f80c716d', 'department': 'Production', 'gender': 0, 'id': 60860, 'job': 'Producer', 'name': 'Shainee Gabel', 'profile_path': '/jDCufbFdVFP1easYXsQscGHSDM9.jpg'}, {'credit_id': '52fe454fc3a36847f80c7173', 'department': 'Writing', 'gender': 0, 'id': 60860, 'job': 'Author', 'name': 'Shainee Gabel', 'profile_path': '/jDCufbFdVFP1easYXsQscGHSDM9.jpg'}, {'credit_id': '52fe454fc3a36847f80c70ab', 'department': 'Production', 'gender': 2, 'id': 60864, 'job': 'Producer', 'name': 'David Lancaster', 'profile_path': None}, {'credit_id': '52fe454fc3a36847f80c70b1', 'department': 'Production', 'gender': 0, 'id': 60865, 'job': 'Producer', 'name': 'R. Paul Miller', 'profile_path': None}, {'credit_id': '52fe454fc3a36847f80c70b7', 'department': 'Production', 'gender': 2, 'id': 60866, 'job': 'Producer', 'name': 'Chad Marting', 'profile_path': None}, {'credit_id': '52fe454fc3a36847f80c70bd', 'department': 'Production', 'gender': 0, 'id': 60867, 'job': 'Producer', 'name': 'Melanie Sloan', 'profile_path': None}, {'credit_id': '52fe454fc3a36847f80c70f9', 'department': 'Writing', 'gender': 0, 'id': 60869, 'job': 'Author', 'name': 'Ronald Everett Capps', 'profile_path': None}, {'credit_id': '52fe454fc3a36847f80c70ff', 'department': 'Art', 'gender': 1, 'id': 60870, 'job': 'Production Design', 'name': 'Sharon Lomofsky', 'profile_path': None}, {'credit_id': '52fe454fc3a36847f80c711d', 'department': 'Art', 'gender': 0, 'id': 60871, 'job': 'Art Direction', 'name': 'Adele Plauche', 'profile_path': None}, {'credit_id': '52fe454fc3a36847f80c7123', 'department': 'Art', 'gender': 2, 'id': 60872, 'job': 'Set Decoration', 'name': 'Leonard R. Spears', 'profile_path': None}]                                                                                                                                                                                                                                                                                                                                                                                                                                                                                                                                                                                                                                                                                                                                                                                                                                                                                                                                                                                                                                                                                                                                                                                                                                                                                                                                                                                                                                                                                                                                                                                                                                                                                                                                                                                                                                                                                                                                                                                                                                                                                                                                                                                                                                                                                                                                                                                                                                                                                                                                                                                                                                                                                                                                                                                                                                                                                                                                                                                                                                                                                                                                                                                                                                                                                                                                                                                                                                                                                                                                                                                                                                                                                                                                                                                                                                                                                                                                                                                                                                                                                                                                                                                                                                                                                                                                                                                                                                                                                                                                                                                                                                                                                                                                                                                                                                                                                                                                                                                                                                                                                                                                                                                                                                                                                                                                                                                                                                                                                                                                                                                                                                                                                                                                                                                                                                                                                                                                                                                                                                                                                                                                                                                                                                                                                                                                                                                                                                                                                                                                                                                                                                                                                                                                                                                                                                                                                                                                                                                                                                                                                                                                                                                                                                                                                                                                                                                                                                                                                                                                                                                                                                                                                                                                                                                                                                                                                                                                                                                                                                                                                                                                            1\n",
              "[{'credit_id': '5391990d0e0a260fb5001629', 'department': 'Production', 'gender': 2, 'id': 1593, 'job': 'Casting', 'name': 'Joseph Middleton', 'profile_path': None}, {'credit_id': '57064fb4c3a3685d35002331', 'department': 'Sound', 'gender': 2, 'id': 1999, 'job': 'Original Music Composer', 'name': 'Ed Shearmur', 'profile_path': None}, {'credit_id': '52fe49a5c3a36847f81a5133', 'department': 'Directing', 'gender': 2, 'id': 6482, 'job': 'Director', 'name': 'John Singleton', 'profile_path': '/xmVaXjAAywPh7HIrYjLVsjfKPrV.jpg'}, {'credit_id': '5391985ec3a368648800121b', 'department': 'Editing', 'gender': 2, 'id': 9772, 'job': 'Editor', 'name': 'Bruce Cannon', 'profile_path': None}, {'credit_id': '53919a10c3a368647200123e', 'department': 'Costume & Make-Up', 'gender': 1, 'id': 15524, 'job': 'Costume Design', 'name': 'Ruth E. Carter', 'profile_path': None}, {'credit_id': '53919849c3a3686472001218', 'department': 'Camera', 'gender': 2, 'id': 17629, 'job': 'Director of Photography', 'name': 'Peter Menzies Jr.', 'profile_path': None}, {'credit_id': '53919776c3a3686479001213', 'department': 'Production', 'gender': 2, 'id': 21035, 'job': 'Producer', 'name': 'Doug Davison', 'profile_path': None}, {'credit_id': '539197e1c3a36864910011e8', 'department': 'Production', 'gender': 2, 'id': 21036, 'job': 'Producer', 'name': 'Roy Lee', 'profile_path': None}, {'credit_id': '539199260e0a260fc20015fb', 'department': 'Art', 'gender': 0, 'id': 22145, 'job': 'Production Design', 'name': 'Keith Brian Burns', 'profile_path': None}, {'credit_id': '5481ddd59251414efa006a09', 'department': 'Visual Effects', 'gender': 0, 'id': 80830, 'job': 'Visual Effects Supervisor', 'name': 'Mike Uguccioni', 'profile_path': None}, {'credit_id': '5481de199251416e780062d6', 'department': 'Crew', 'gender': 2, 'id': 146143, 'job': 'Stunt Coordinator', 'name': 'Brad Martin', 'profile_path': None}, {'credit_id': '5481dccac3a36829a7006519', 'department': 'Sound', 'gender': 2, 'id': 158916, 'job': 'Sound Re-Recording Mixer', 'name': 'Michael Keller', 'profile_path': None}, {'credit_id': '52fe49a5c3a36847f81a515d', 'department': 'Writing', 'gender': 0, 'id': 234817, 'job': 'Writer', 'name': 'Shawn Christensen', 'profile_path': '/wB2Vgdqikyb2RTvLH7JM3BrCBmw.jpg'}, {'credit_id': '5481db859251416e740066ea', 'department': 'Art', 'gender': 0, 'id': 582943, 'job': 'Art Department Coordinator', 'name': 'Kristin Lekki', 'profile_path': None}, {'credit_id': '5481dd6c9251416e780062c6', 'department': 'Crew', 'gender': 0, 'id': 1043368, 'job': 'Special Effects Coordinator', 'name': 'Drew Jiritano', 'profile_path': None}, {'credit_id': '5481dc7c9251416e7e0064d2', 'department': 'Sound', 'gender': 2, 'id': 1077782, 'job': 'Foley', 'name': 'Gary A. Hecker', 'profile_path': '/qyBUauN3XIS2Mlus3OdGCmrUo0S.jpg'}, {'credit_id': '5391978cc3a3685ed90010c9', 'department': 'Production', 'gender': 0, 'id': 1257754, 'job': 'Producer', 'name': 'Ellen Goldsmith-Vein', 'profile_path': None}, {'credit_id': '539197a8c3a368648800120d', 'department': 'Production', 'gender': 0, 'id': 1328141, 'job': 'Producer', 'name': 'Dan Lautner', 'profile_path': None}, {'credit_id': '539197fbc3a368647200120d', 'department': 'Production', 'gender': 0, 'id': 1328142, 'job': 'Producer', 'name': 'Lee Stollman', 'profile_path': '/e9MRsSp2WP35LCLTLsPujX9Ch6l.jpg'}, {'credit_id': '539198f50e0a260fb9001792', 'department': 'Production', 'gender': 2, 'id': 1328143, 'job': 'Casting', 'name': 'Alan Lee', 'profile_path': None}, {'credit_id': '5391993c0e0a260fc5001603', 'department': 'Art', 'gender': 0, 'id': 1328144, 'job': 'Art Direction', 'name': 'Liba Daniels', 'profile_path': None}, {'credit_id': '539199f0c3a3686491001212', 'department': 'Art', 'gender': 0, 'id': 1328145, 'job': 'Set Decoration', 'name': 'Julie Smith', 'profile_path': None}, {'credit_id': '53919a28c3a3686472001242', 'department': 'Costume & Make-Up', 'gender': 0, 'id': 1328146, 'job': 'Makeup Department Head', 'name': 'Evelyne Noraz', 'profile_path': None}, {'credit_id': '53919a48c3a3685ed9001109', 'department': 'Costume & Make-Up', 'gender': 0, 'id': 1328147, 'job': 'Costume Supervisor', 'name': 'Darcie Buterbaugh', 'profile_path': None}, {'credit_id': '53919a64c3a3686480001245', 'department': 'Production', 'gender': 1, 'id': 1328148, 'job': 'Casting', 'name': 'Donna M. Belajac', 'profile_path': '/4B6EVzcu6zOd9vFiQNgukZjts9.jpg'}, {'credit_id': '5481dc91c3a36829b5007942', 'department': 'Sound', 'gender': 0, 'id': 1374169, 'job': 'Foley', 'name': 'Michael J. Broomberg', 'profile_path': None}, {'credit_id': '5481ddbc9251416e7b005e00', 'department': 'Visual Effects', 'gender': 0, 'id': 1389593, 'job': 'Visual Effects Producer', 'name': 'Michele C. Vallillo', 'profile_path': None}, {'credit_id': '5481dcaa9251416e7b005de5', 'department': 'Editing', 'gender': 0, 'id': 1392085, 'job': 'Dialogue Editor', 'name': 'Daniel S. Irwin', 'profile_path': None}, {'credit_id': '5481dda59251416e7e0064fc', 'department': 'Visual Effects', 'gender': 0, 'id': 1393446, 'job': 'Visual Effects Producer', 'name': 'Jason Sanford', 'profile_path': None}, {'credit_id': '5481db5e9251416e7800628d', 'department': 'Crew', 'gender': 2, 'id': 1395014, 'job': 'Property Master', 'name': 'Peter C. Clarke', 'profile_path': None}, {'credit_id': '5481dba2c3a36829a7006504', 'department': 'Art', 'gender': 0, 'id': 1395015, 'job': 'Assistant Art Director', 'name': 'Jay Durrwachter', 'profile_path': None}, {'credit_id': '5481dbc6c3a36829b500792a', 'department': 'Art', 'gender': 0, 'id': 1395016, 'job': 'Construction Coordinator', 'name': 'Brian Markey', 'profile_path': None}, {'credit_id': '5481dbf69251416e780062a1', 'department': 'Art', 'gender': 0, 'id': 1395019, 'job': 'Set Designer', 'name': 'Julie Ray', 'profile_path': None}, {'credit_id': '5481dc23c3a36829ab006780', 'department': 'Art', 'gender': 0, 'id': 1395021, 'job': 'Leadman', 'name': 'Brent Rice', 'profile_path': None}, {'credit_id': '5481dc499251416e74006701', 'department': 'Sound', 'gender': 2, 'id': 1395022, 'job': 'Supervising Sound Editor', 'name': 'Greg Hedgepath', 'profile_path': None}, {'credit_id': '5481dc60c3a36829ab00678c', 'department': 'Sound', 'gender': 0, 'id': 1395023, 'job': 'Supervising Sound Editor', 'name': 'William R. Dean', 'profile_path': None}, {'credit_id': '5481dcdfc3a36829b500794f', 'department': 'Sound', 'gender': 2, 'id': 1395024, 'job': 'Sound Re-Recording Mixer', 'name': 'Mike Prestwood Smith', 'profile_path': None}, {'credit_id': '5481dd499251416e6c005bd3', 'department': 'Sound', 'gender': 2, 'id': 1395025, 'job': 'Dolby Consultant', 'name': 'James Wright', 'profile_path': None}, {'credit_id': '5481dd8ac3a36817a500663b', 'department': 'Visual Effects', 'gender': 0, 'id': 1395026, 'job': 'Visual Effects Producer', 'name': 'Tyler Kehl', 'profile_path': None}, {'credit_id': '5481ddedc3a3684afd001af0', 'department': 'Visual Effects', 'gender': 0, 'id': 1395027, 'job': 'Visual Effects Supervisor', 'name': 'Gregory D. Liegey', 'profile_path': None}, {'credit_id': '5481de5a9251416e6c005bf2', 'department': 'Camera', 'gender': 2, 'id': 1395028, 'job': 'Still Photographer', 'name': 'Bruce W. Talamon', 'profile_path': None}, {'credit_id': '5481de98c3a36829b5007982', 'department': 'Camera', 'gender': 0, 'id': 1395029, 'job': 'Camera Operator', 'name': 'Colin Hudson', 'profile_path': None}, {'credit_id': '5481dee8c3a36829ab0067d8', 'department': 'Costume & Make-Up', 'gender': 0, 'id': 1395030, 'job': 'Set Costumer', 'name': 'Alison Evans', 'profile_path': None}, {'credit_id': '5481def99251416e7e006527', 'department': 'Costume & Make-Up', 'gender': 0, 'id': 1395031, 'job': 'Set Costumer', 'name': 'Crystal Gomes', 'profile_path': None}, {'credit_id': '5481df0cc3a3684afd001b18', 'department': 'Costume & Make-Up', 'gender': 0, 'id': 1395032, 'job': 'Set Costumer', 'name': 'Amanda Jenkins', 'profile_path': None}, {'credit_id': '5481df1ec3a36829b5007992', 'department': 'Costume & Make-Up', 'gender': 0, 'id': 1395033, 'job': 'Set Costumer', 'name': 'Mara Majorowicz', 'profile_path': None}, {'credit_id': '5481df36c3a3685c0e00037e', 'department': 'Crew', 'gender': 0, 'id': 1395034, 'job': 'Transportation Coordinator', 'name': 'Donald A. Kraus', 'profile_path': None}, {'credit_id': '5481df53c3a3685c0e000387', 'department': 'Directing', 'gender': 0, 'id': 1395035, 'job': 'Script Supervisor', 'name': 'Liliana M. Molina', 'profile_path': None}]                                                                                                                                                                                                                                                                                                                                                                                                                                                                                                                                                                                                                                                                                                                                                                                                                                                                                                                                                                                                                                                                                                                                                                                                                                                                                                                                                                                                                                                                                                                                                                                                                                                                                                                                                                                                                                                                                                                                                                                                                                                                                                                                                                                                                                                                                                                                                                                                                                                                                                                                                                                                                                                                                                                                                                                                                                                                                                                                                                                                                                                                                                                                                                                                                                                                                                                                                                                                                                                                                                                                                                                                                                                                                                                                                                                                                                                                                                                                                                                                                                                                                                                                                                                                                                                                                                      1\n",
              "Name: crew, Length: 2911, dtype: int64"
            ]
          },
          "metadata": {},
          "execution_count": 598
        }
      ]
    },
    {
      "cell_type": "markdown",
      "source": [
        "Como também já dito essa coluna será excluida pela preferencia e relevancia de outros dados"
      ],
      "metadata": {
        "id": "_wpiZiyveJSK"
      }
    },
    {
      "cell_type": "code",
      "source": [
        "treino.drop('crew', axis=1, inplace=True)"
      ],
      "metadata": {
        "id": "SGIAaB5uOMdE"
      },
      "execution_count": 599,
      "outputs": []
    },
    {
      "cell_type": "markdown",
      "source": [
        "Conferindo o que havia na coluna de receita (dado que estamos testando prever):"
      ],
      "metadata": {
        "id": "JYFSiHfZgKvz"
      }
    },
    {
      "cell_type": "code",
      "source": [
        "treino.sort_values(by='revenue',ascending=False)"
      ],
      "metadata": {
        "id": "Pt8BJw_XgW19"
      },
      "execution_count": null,
      "outputs": []
    },
    {
      "cell_type": "markdown",
      "source": [
        "Esssa coluna será mantida para usa-la de comparação"
      ],
      "metadata": {
        "id": "tiBXmQOThXEU"
      }
    },
    {
      "cell_type": "markdown",
      "source": [
        "###Conferindo as mudanças"
      ],
      "metadata": {
        "id": "PhVRUTMRbHS0"
      }
    },
    {
      "cell_type": "code",
      "source": [
        "treino.head()"
      ],
      "metadata": {
        "colab": {
          "base_uri": "https://localhost:8080/",
          "height": 583
        },
        "id": "xki1tDTvdiw0",
        "outputId": "a495f224-5c1c-4bde-a141-d8af604e4693"
      },
      "execution_count": 600,
      "outputs": [
        {
          "output_type": "execute_result",
          "data": {
            "text/html": [
              "\n",
              "  <div id=\"df-366eb191-0f09-4b76-bf3e-af206e73b41e\">\n",
              "    <div class=\"colab-df-container\">\n",
              "      <div>\n",
              "<style scoped>\n",
              "    .dataframe tbody tr th:only-of-type {\n",
              "        vertical-align: middle;\n",
              "    }\n",
              "\n",
              "    .dataframe tbody tr th {\n",
              "        vertical-align: top;\n",
              "    }\n",
              "\n",
              "    .dataframe thead th {\n",
              "        text-align: right;\n",
              "    }\n",
              "</style>\n",
              "<table border=\"1\" class=\"dataframe\">\n",
              "  <thead>\n",
              "    <tr style=\"text-align: right;\">\n",
              "      <th></th>\n",
              "      <th>id</th>\n",
              "      <th>budget</th>\n",
              "      <th>genres</th>\n",
              "      <th>original_language</th>\n",
              "      <th>original_title</th>\n",
              "      <th>popularity</th>\n",
              "      <th>production_companies</th>\n",
              "      <th>production_countries</th>\n",
              "      <th>release_date</th>\n",
              "      <th>runtime</th>\n",
              "      <th>title</th>\n",
              "      <th>cast</th>\n",
              "      <th>revenue</th>\n",
              "    </tr>\n",
              "  </thead>\n",
              "  <tbody>\n",
              "    <tr>\n",
              "      <th>0</th>\n",
              "      <td>1</td>\n",
              "      <td>14000000</td>\n",
              "      <td>[{'id': 35, 'name': 'Comedy'}]</td>\n",
              "      <td>en</td>\n",
              "      <td>Hot Tub Time Machine 2</td>\n",
              "      <td>6.575393</td>\n",
              "      <td>[{'name': 'Paramount Pictures', 'id': 4}, {'na...</td>\n",
              "      <td>[{'iso_3166_1': 'US', 'name': 'United States o...</td>\n",
              "      <td>2/20/15</td>\n",
              "      <td>93.0</td>\n",
              "      <td>Hot Tub Time Machine 2</td>\n",
              "      <td>[{'cast_id': 4, 'character': 'Lou', 'credit_id...</td>\n",
              "      <td>12314651</td>\n",
              "    </tr>\n",
              "    <tr>\n",
              "      <th>1</th>\n",
              "      <td>2</td>\n",
              "      <td>40000000</td>\n",
              "      <td>[{'id': 35, 'name': 'Comedy'}, {'id': 18, 'nam...</td>\n",
              "      <td>en</td>\n",
              "      <td>The Princess Diaries 2: Royal Engagement</td>\n",
              "      <td>8.248895</td>\n",
              "      <td>[{'name': 'Walt Disney Pictures', 'id': 2}]</td>\n",
              "      <td>[{'iso_3166_1': 'US', 'name': 'United States o...</td>\n",
              "      <td>8/6/04</td>\n",
              "      <td>113.0</td>\n",
              "      <td>The Princess Diaries 2: Royal Engagement</td>\n",
              "      <td>[{'cast_id': 1, 'character': 'Mia Thermopolis'...</td>\n",
              "      <td>95149435</td>\n",
              "    </tr>\n",
              "    <tr>\n",
              "      <th>2</th>\n",
              "      <td>3</td>\n",
              "      <td>3300000</td>\n",
              "      <td>[{'id': 18, 'name': 'Drama'}]</td>\n",
              "      <td>en</td>\n",
              "      <td>Whiplash</td>\n",
              "      <td>64.299990</td>\n",
              "      <td>[{'name': 'Bold Films', 'id': 2266}, {'name': ...</td>\n",
              "      <td>[{'iso_3166_1': 'US', 'name': 'United States o...</td>\n",
              "      <td>10/10/14</td>\n",
              "      <td>105.0</td>\n",
              "      <td>Whiplash</td>\n",
              "      <td>[{'cast_id': 5, 'character': 'Andrew Neimann',...</td>\n",
              "      <td>13092000</td>\n",
              "    </tr>\n",
              "    <tr>\n",
              "      <th>3</th>\n",
              "      <td>4</td>\n",
              "      <td>1200000</td>\n",
              "      <td>[{'id': 53, 'name': 'Thriller'}, {'id': 18, 'n...</td>\n",
              "      <td>hi</td>\n",
              "      <td>Kahaani</td>\n",
              "      <td>3.174936</td>\n",
              "      <td>NaN</td>\n",
              "      <td>[{'iso_3166_1': 'IN', 'name': 'India'}]</td>\n",
              "      <td>3/9/12</td>\n",
              "      <td>122.0</td>\n",
              "      <td>Kahaani</td>\n",
              "      <td>[{'cast_id': 1, 'character': 'Vidya Bagchi', '...</td>\n",
              "      <td>16000000</td>\n",
              "    </tr>\n",
              "    <tr>\n",
              "      <th>4</th>\n",
              "      <td>5</td>\n",
              "      <td>0</td>\n",
              "      <td>[{'id': 28, 'name': 'Action'}, {'id': 53, 'nam...</td>\n",
              "      <td>ko</td>\n",
              "      <td>마린보이</td>\n",
              "      <td>1.148070</td>\n",
              "      <td>NaN</td>\n",
              "      <td>[{'iso_3166_1': 'KR', 'name': 'South Korea'}]</td>\n",
              "      <td>2/5/09</td>\n",
              "      <td>118.0</td>\n",
              "      <td>Marine Boy</td>\n",
              "      <td>[{'cast_id': 3, 'character': 'Chun-soo', 'cred...</td>\n",
              "      <td>3923970</td>\n",
              "    </tr>\n",
              "  </tbody>\n",
              "</table>\n",
              "</div>\n",
              "      <button class=\"colab-df-convert\" onclick=\"convertToInteractive('df-366eb191-0f09-4b76-bf3e-af206e73b41e')\"\n",
              "              title=\"Convert this dataframe to an interactive table.\"\n",
              "              style=\"display:none;\">\n",
              "        \n",
              "  <svg xmlns=\"http://www.w3.org/2000/svg\" height=\"24px\"viewBox=\"0 0 24 24\"\n",
              "       width=\"24px\">\n",
              "    <path d=\"M0 0h24v24H0V0z\" fill=\"none\"/>\n",
              "    <path d=\"M18.56 5.44l.94 2.06.94-2.06 2.06-.94-2.06-.94-.94-2.06-.94 2.06-2.06.94zm-11 1L8.5 8.5l.94-2.06 2.06-.94-2.06-.94L8.5 2.5l-.94 2.06-2.06.94zm10 10l.94 2.06.94-2.06 2.06-.94-2.06-.94-.94-2.06-.94 2.06-2.06.94z\"/><path d=\"M17.41 7.96l-1.37-1.37c-.4-.4-.92-.59-1.43-.59-.52 0-1.04.2-1.43.59L10.3 9.45l-7.72 7.72c-.78.78-.78 2.05 0 2.83L4 21.41c.39.39.9.59 1.41.59.51 0 1.02-.2 1.41-.59l7.78-7.78 2.81-2.81c.8-.78.8-2.07 0-2.86zM5.41 20L4 18.59l7.72-7.72 1.47 1.35L5.41 20z\"/>\n",
              "  </svg>\n",
              "      </button>\n",
              "      \n",
              "  <style>\n",
              "    .colab-df-container {\n",
              "      display:flex;\n",
              "      flex-wrap:wrap;\n",
              "      gap: 12px;\n",
              "    }\n",
              "\n",
              "    .colab-df-convert {\n",
              "      background-color: #E8F0FE;\n",
              "      border: none;\n",
              "      border-radius: 50%;\n",
              "      cursor: pointer;\n",
              "      display: none;\n",
              "      fill: #1967D2;\n",
              "      height: 32px;\n",
              "      padding: 0 0 0 0;\n",
              "      width: 32px;\n",
              "    }\n",
              "\n",
              "    .colab-df-convert:hover {\n",
              "      background-color: #E2EBFA;\n",
              "      box-shadow: 0px 1px 2px rgba(60, 64, 67, 0.3), 0px 1px 3px 1px rgba(60, 64, 67, 0.15);\n",
              "      fill: #174EA6;\n",
              "    }\n",
              "\n",
              "    [theme=dark] .colab-df-convert {\n",
              "      background-color: #3B4455;\n",
              "      fill: #D2E3FC;\n",
              "    }\n",
              "\n",
              "    [theme=dark] .colab-df-convert:hover {\n",
              "      background-color: #434B5C;\n",
              "      box-shadow: 0px 1px 3px 1px rgba(0, 0, 0, 0.15);\n",
              "      filter: drop-shadow(0px 1px 2px rgba(0, 0, 0, 0.3));\n",
              "      fill: #FFFFFF;\n",
              "    }\n",
              "  </style>\n",
              "\n",
              "      <script>\n",
              "        const buttonEl =\n",
              "          document.querySelector('#df-366eb191-0f09-4b76-bf3e-af206e73b41e button.colab-df-convert');\n",
              "        buttonEl.style.display =\n",
              "          google.colab.kernel.accessAllowed ? 'block' : 'none';\n",
              "\n",
              "        async function convertToInteractive(key) {\n",
              "          const element = document.querySelector('#df-366eb191-0f09-4b76-bf3e-af206e73b41e');\n",
              "          const dataTable =\n",
              "            await google.colab.kernel.invokeFunction('convertToInteractive',\n",
              "                                                     [key], {});\n",
              "          if (!dataTable) return;\n",
              "\n",
              "          const docLinkHtml = 'Like what you see? Visit the ' +\n",
              "            '<a target=\"_blank\" href=https://colab.research.google.com/notebooks/data_table.ipynb>data table notebook</a>'\n",
              "            + ' to learn more about interactive tables.';\n",
              "          element.innerHTML = '';\n",
              "          dataTable['output_type'] = 'display_data';\n",
              "          await google.colab.output.renderOutput(dataTable, element);\n",
              "          const docLink = document.createElement('div');\n",
              "          docLink.innerHTML = docLinkHtml;\n",
              "          element.appendChild(docLink);\n",
              "        }\n",
              "      </script>\n",
              "    </div>\n",
              "  </div>\n",
              "  "
            ],
            "text/plain": [
              "   id    budget                                             genres  \\\n",
              "0   1  14000000                     [{'id': 35, 'name': 'Comedy'}]   \n",
              "1   2  40000000  [{'id': 35, 'name': 'Comedy'}, {'id': 18, 'nam...   \n",
              "2   3   3300000                      [{'id': 18, 'name': 'Drama'}]   \n",
              "3   4   1200000  [{'id': 53, 'name': 'Thriller'}, {'id': 18, 'n...   \n",
              "4   5         0  [{'id': 28, 'name': 'Action'}, {'id': 53, 'nam...   \n",
              "\n",
              "  original_language                            original_title  popularity  \\\n",
              "0                en                    Hot Tub Time Machine 2    6.575393   \n",
              "1                en  The Princess Diaries 2: Royal Engagement    8.248895   \n",
              "2                en                                  Whiplash   64.299990   \n",
              "3                hi                                   Kahaani    3.174936   \n",
              "4                ko                                      마린보이    1.148070   \n",
              "\n",
              "                                production_companies  \\\n",
              "0  [{'name': 'Paramount Pictures', 'id': 4}, {'na...   \n",
              "1        [{'name': 'Walt Disney Pictures', 'id': 2}]   \n",
              "2  [{'name': 'Bold Films', 'id': 2266}, {'name': ...   \n",
              "3                                                NaN   \n",
              "4                                                NaN   \n",
              "\n",
              "                                production_countries release_date  runtime  \\\n",
              "0  [{'iso_3166_1': 'US', 'name': 'United States o...      2/20/15     93.0   \n",
              "1  [{'iso_3166_1': 'US', 'name': 'United States o...       8/6/04    113.0   \n",
              "2  [{'iso_3166_1': 'US', 'name': 'United States o...     10/10/14    105.0   \n",
              "3            [{'iso_3166_1': 'IN', 'name': 'India'}]       3/9/12    122.0   \n",
              "4      [{'iso_3166_1': 'KR', 'name': 'South Korea'}]       2/5/09    118.0   \n",
              "\n",
              "                                      title  \\\n",
              "0                    Hot Tub Time Machine 2   \n",
              "1  The Princess Diaries 2: Royal Engagement   \n",
              "2                                  Whiplash   \n",
              "3                                   Kahaani   \n",
              "4                                Marine Boy   \n",
              "\n",
              "                                                cast   revenue  \n",
              "0  [{'cast_id': 4, 'character': 'Lou', 'credit_id...  12314651  \n",
              "1  [{'cast_id': 1, 'character': 'Mia Thermopolis'...  95149435  \n",
              "2  [{'cast_id': 5, 'character': 'Andrew Neimann',...  13092000  \n",
              "3  [{'cast_id': 1, 'character': 'Vidya Bagchi', '...  16000000  \n",
              "4  [{'cast_id': 3, 'character': 'Chun-soo', 'cred...   3923970  "
            ]
          },
          "metadata": {},
          "execution_count": 600
        }
      ]
    },
    {
      "cell_type": "code",
      "source": [
        "treino.shape"
      ],
      "metadata": {
        "colab": {
          "base_uri": "https://localhost:8080/"
        },
        "outputId": "5938a648-002a-451d-9fbe-d42d088d336f",
        "id": "fGb-YLGsLbuu"
      },
      "execution_count": 601,
      "outputs": [
        {
          "output_type": "execute_result",
          "data": {
            "text/plain": [
              "(2911, 13)"
            ]
          },
          "metadata": {},
          "execution_count": 601
        }
      ]
    },
    {
      "cell_type": "markdown",
      "source": [
        "##A"
      ],
      "metadata": {
        "id": "NCuthwdHbYgD"
      }
    },
    {
      "cell_type": "code",
      "source": [
        "#treino.to_csv('treino_copia.csv')"
      ],
      "metadata": {
        "id": "tMgAMkWs4msM"
      },
      "execution_count": 602,
      "outputs": []
    },
    {
      "cell_type": "code",
      "source": [
        "# for i, e in enumerate(treino['genres'][:10]):\n",
        "#     print(i, e)"
      ],
      "metadata": {
        "id": "tVANqxyQAiZT"
      },
      "execution_count": 603,
      "outputs": []
    },
    {
      "cell_type": "code",
      "source": [
        "# print('Number of genres in films')\n",
        "# treino['genres'].apply(lambda x: len(x) if x != {} else 0).value_counts()"
      ],
      "metadata": {
        "id": "djjHyjhQBA0S"
      },
      "execution_count": 604,
      "outputs": []
    },
    {
      "cell_type": "code",
      "source": [
        "# text =''\n",
        "# generos = set({})\n",
        "# for linha in treino.genres:\n",
        "#     if type(linha) == str:\n",
        "#         text += linha\n",
        "\n",
        "# linhas = text.split('{')\n",
        "# for i in linhas:\n",
        "#     x = i.find('name')\n",
        "#     y = i.find('}')\n",
        "#     texto = i[x+8:y-1]\n",
        "#     generos.add(texto)\n",
        "\n",
        "# print(generos)"
      ],
      "metadata": {
        "id": "z0BQHFL_M239"
      },
      "execution_count": 605,
      "outputs": []
    },
    {
      "cell_type": "code",
      "source": [
        "# oq eu falei é o IDEAL é vc tirar de dentro do texto e criar uma coluna binária pra cada gênero\n",
        "# e ai vc marca se é 0 ou 1\n",
        "# pq é isso q tu vai usar pra treinar o modelo"
      ],
      "metadata": {
        "id": "YOdClbBNrJx3"
      },
      "execution_count": 606,
      "outputs": []
    },
    {
      "cell_type": "markdown",
      "source": [
        "## Manipulando os dados"
      ],
      "metadata": {
        "id": "9PzfcnB50jCF"
      }
    },
    {
      "cell_type": "code",
      "source": [
        "#Transformando os dados das colunas escritas de string para dicionários\n",
        "\n",
        "# dict_columns = ['belongs_to_collection', 'genres', 'production_companies',\n",
        "#                 'production_countries', 'Keywords', 'cast', 'crew']\n",
        "\n",
        "# def text_to_dict(df):\n",
        "#     for column in dict_columns:\n",
        "#         df[column] = df[column].apply(lambda x: {} if pd.isna(x) else ast.literal_eval(x) )\n",
        "#     return df\n",
        "        \n",
        "# dfx = text_to_dict(treino)\n",
        "# for col in dict_columns:\n",
        "#        treino[col]=dfx[col]"
      ],
      "metadata": {
        "id": "H8a_nuhL_lsJ"
      },
      "execution_count": 607,
      "outputs": []
    },
    {
      "cell_type": "code",
      "source": [
        "# print('Number of genres')\n",
        "# lista_genero = list(treino['genres'].apply(lambda x: [i['name'] for i in x] if x != {} else []).values)\n",
        "# Counter([i for j in lista_genero for i in j]).most_common()"
      ],
      "metadata": {
        "id": "QtTvLM4w8G-3"
      },
      "execution_count": 608,
      "outputs": []
    },
    {
      "cell_type": "code",
      "source": [
        "plt.figure(figsize=(10,8))\n",
        "\n",
        "treino = treino.sort_values(by='revenue', ascending=False)\n",
        "treino2 = treino.head(20)\n",
        "ax= sns.pointplot(treino2['budget'], treino2['revenue'], hue= treino2['title'])\n",
        "ax.set_xticklabels(ax.get_xticklabels(), rotation=40, ha= \"right\")\n",
        "plt.tight_layout()\n",
        "plt.show()\n"
      ],
      "metadata": {
        "colab": {
          "base_uri": "https://localhost:8080/",
          "height": 0
        },
        "id": "qnTM9Xlqrg16",
        "outputId": "80b11796-d45e-462e-a5a2-966c0635f2bf"
      },
      "execution_count": 609,
      "outputs": [
        {
          "output_type": "stream",
          "name": "stderr",
          "text": [
            "/usr/local/lib/python3.7/dist-packages/seaborn/_decorators.py:43: FutureWarning: Pass the following variables as keyword args: x, y. From version 0.12, the only valid positional argument will be `data`, and passing other arguments without an explicit keyword will result in an error or misinterpretation.\n",
            "  FutureWarning\n"
          ]
        },
        {
          "output_type": "display_data",
          "data": {
            "image/png": "[encoded data removed]",
            "text/plain": [
              "<Figure size 720x576 with 1 Axes>"
            ]
          },
          "metadata": {}
        }
      ]
    },
    {
      "cell_type": "markdown",
      "source": [
        "# Submissão"
      ],
      "metadata": {
        "id": "abvqiGsEy89W"
      }
    },
    {
      "cell_type": "code",
      "source": [
        "#https://www.kaggle.com/c/tmdb-box-office-prediction/overview"
      ],
      "metadata": {
        "id": "MVlNAsFmzDX2"
      },
      "execution_count": 610,
      "outputs": []
    },
    {
      "cell_type": "markdown",
      "source": [
        "#Teste"
      ],
      "metadata": {
        "id": "9FsI61zjraIV"
      }
    },
    {
      "cell_type": "code",
      "source": [
        "#print('Number of genres in films')\n",
        "# treino['genres'].apply(lambda x: len(x) if x != {} else 0).value_counts()"
      ],
      "metadata": {
        "id": "CdWx3PIJOriP"
      },
      "execution_count": 611,
      "outputs": []
    },
    {
      "cell_type": "code",
      "source": [
        "# dict_columns = ['belongs_to_collection', 'genres', 'production_companies',\n",
        "#                 'production_countries', 'spoken_languages', 'Keywords', 'cast', 'crew']\n",
        "\n",
        "# def text_to_dict(df):\n",
        "#     for column in dict_columns:\n",
        "#         df[column] = df[column].apply(lambda x: {} if pd.isna(x) else ast.literal_eval(x) )\n",
        "#     return df\n",
        "        \n",
        "# dfx = text_to_dict(treino)\n",
        "# for col in dict_columns:\n",
        "#        treino[col]=dfx[col]"
      ],
      "metadata": {
        "id": "R8gccKSXSOZs"
      },
      "execution_count": 612,
      "outputs": []
    },
    {
      "cell_type": "code",
      "source": [
        "# collections= treino['belongs_to_collection'].apply(lambda x : x[0]['name'] if x!= {} else '?').value_counts()[1:15]\n",
        "# plt.figure(figsize=(8,8))\n",
        "# sns.barplot(collections,collections.index)\n",
        "# plt.show()"
      ],
      "metadata": {
        "id": "wsMVBYu-QiL2"
      },
      "execution_count": 613,
      "outputs": []
    },
    {
      "cell_type": "code",
      "source": [
        "#verificando correlações\n",
        "corr = treino.corr()\n",
        "sns.heatmap(corr, annot=True)"
      ],
      "metadata": {
        "colab": {
          "base_uri": "https://localhost:8080/",
          "height": 0
        },
        "id": "-YEJfR4HMPjG",
        "outputId": "e6f8e402-3902-41cb-ab3c-f51230ed69a0"
      },
      "execution_count": 614,
      "outputs": [
        {
          "output_type": "execute_result",
          "data": {
            "text/plain": [
              "<matplotlib.axes._subplots.AxesSubplot at 0x7fc420cfe390>"
            ]
          },
          "metadata": {},
          "execution_count": 614
        },
        {
          "output_type": "display_data",
          "data": {
            "image/png": "[encoded data removed]",
            "text/plain": [
              "<Figure size 432x288 with 2 Axes>"
            ]
          },
          "metadata": {}
        }
      ]
    },
    {
      "cell_type": "markdown",
      "source": [
        "# Testando funções"
      ],
      "metadata": {
        "id": "ojRznUnKGo26"
      }
    },
    {
      "cell_type": "code",
      "source": [
        "#treino.sort_values(by='budget',ascending=False)"
      ],
      "metadata": {
        "id": "NPNYlBAY-xa7"
      },
      "execution_count": 615,
      "outputs": []
    },
    {
      "cell_type": "code",
      "source": [
        "#Retirando linhas com dados faltantes\n",
        "#linha axis=0 / coluna axis=1\n",
        "#linha por linha ->\n",
        "#treino.dropna(axis=0, subset=['genres', 'overview','poster_path','production_countries', 'runtime','spoken_languages', 'cast', 'crew'],inplace = True)"
      ],
      "metadata": {
        "id": "krb4eLfNHLOg"
      },
      "execution_count": 616,
      "outputs": []
    },
    {
      "cell_type": "code",
      "source": [
        "#treino.sort_values(by='popularity',ascending=False)"
      ],
      "metadata": {
        "id": "zbOU-jvf_ksg"
      },
      "execution_count": 617,
      "outputs": []
    }
  ]
}