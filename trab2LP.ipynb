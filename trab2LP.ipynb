{
 "cells": [
  {
   "cell_type": "code",
   "execution_count": 22,
   "metadata": {},
   "outputs": [],
   "source": [
    "import numpy as np\n",
    "import pandas as pd\n",
    "import matplotlib.pyplot as plt\n",
    "import seaborn as sns\n"
   ]
  },
  {
   "cell_type": "code",
   "execution_count": 23,
   "metadata": {},
   "outputs": [],
   "source": [
    "treino = pd.read_csv(\"train.csv\")\n",
    "teste = pd.read_csv(\"test.csv\")"
   ]
  },
  {
   "cell_type": "code",
   "execution_count": 24,
   "metadata": {},
   "outputs": [
    {
     "data": {
      "text/html": [
       "<div>\n",
       "<style scoped>\n",
       "    .dataframe tbody tr th:only-of-type {\n",
       "        vertical-align: middle;\n",
       "    }\n",
       "\n",
       "    .dataframe tbody tr th {\n",
       "        vertical-align: top;\n",
       "    }\n",
       "\n",
       "    .dataframe thead th {\n",
       "        text-align: right;\n",
       "    }\n",
       "</style>\n",
       "<table border=\"1\" class=\"dataframe\">\n",
       "  <thead>\n",
       "    <tr style=\"text-align: right;\">\n",
       "      <th></th>\n",
       "      <th>id</th>\n",
       "      <th>belongs_to_collection</th>\n",
       "      <th>budget</th>\n",
       "      <th>genres</th>\n",
       "      <th>homepage</th>\n",
       "      <th>imdb_id</th>\n",
       "      <th>original_language</th>\n",
       "      <th>original_title</th>\n",
       "      <th>overview</th>\n",
       "      <th>popularity</th>\n",
       "      <th>...</th>\n",
       "      <th>release_date</th>\n",
       "      <th>runtime</th>\n",
       "      <th>spoken_languages</th>\n",
       "      <th>status</th>\n",
       "      <th>tagline</th>\n",
       "      <th>title</th>\n",
       "      <th>Keywords</th>\n",
       "      <th>cast</th>\n",
       "      <th>crew</th>\n",
       "      <th>revenue</th>\n",
       "    </tr>\n",
       "  </thead>\n",
       "  <tbody>\n",
       "    <tr>\n",
       "      <th>0</th>\n",
       "      <td>1</td>\n",
       "      <td>[{'id': 313576, 'name': 'Hot Tub Time Machine ...</td>\n",
       "      <td>14000000</td>\n",
       "      <td>[{'id': 35, 'name': 'Comedy'}]</td>\n",
       "      <td>NaN</td>\n",
       "      <td>tt2637294</td>\n",
       "      <td>en</td>\n",
       "      <td>Hot Tub Time Machine 2</td>\n",
       "      <td>When Lou, who has become the \"father of the In...</td>\n",
       "      <td>6.575393</td>\n",
       "      <td>...</td>\n",
       "      <td>2/20/15</td>\n",
       "      <td>93.0</td>\n",
       "      <td>[{'iso_639_1': 'en', 'name': 'English'}]</td>\n",
       "      <td>Released</td>\n",
       "      <td>The Laws of Space and Time are About to be Vio...</td>\n",
       "      <td>Hot Tub Time Machine 2</td>\n",
       "      <td>[{'id': 4379, 'name': 'time travel'}, {'id': 9...</td>\n",
       "      <td>[{'cast_id': 4, 'character': 'Lou', 'credit_id...</td>\n",
       "      <td>[{'credit_id': '59ac067c92514107af02c8c8', 'de...</td>\n",
       "      <td>12314651</td>\n",
       "    </tr>\n",
       "    <tr>\n",
       "      <th>1</th>\n",
       "      <td>2</td>\n",
       "      <td>[{'id': 107674, 'name': 'The Princess Diaries ...</td>\n",
       "      <td>40000000</td>\n",
       "      <td>[{'id': 35, 'name': 'Comedy'}, {'id': 18, 'nam...</td>\n",
       "      <td>NaN</td>\n",
       "      <td>tt0368933</td>\n",
       "      <td>en</td>\n",
       "      <td>The Princess Diaries 2: Royal Engagement</td>\n",
       "      <td>Mia Thermopolis is now a college graduate and ...</td>\n",
       "      <td>8.248895</td>\n",
       "      <td>...</td>\n",
       "      <td>8/6/04</td>\n",
       "      <td>113.0</td>\n",
       "      <td>[{'iso_639_1': 'en', 'name': 'English'}]</td>\n",
       "      <td>Released</td>\n",
       "      <td>It can take a lifetime to find true love; she'...</td>\n",
       "      <td>The Princess Diaries 2: Royal Engagement</td>\n",
       "      <td>[{'id': 2505, 'name': 'coronation'}, {'id': 42...</td>\n",
       "      <td>[{'cast_id': 1, 'character': 'Mia Thermopolis'...</td>\n",
       "      <td>[{'credit_id': '52fe43fe9251416c7502563d', 'de...</td>\n",
       "      <td>95149435</td>\n",
       "    </tr>\n",
       "    <tr>\n",
       "      <th>2</th>\n",
       "      <td>3</td>\n",
       "      <td>NaN</td>\n",
       "      <td>3300000</td>\n",
       "      <td>[{'id': 18, 'name': 'Drama'}]</td>\n",
       "      <td>http://sonyclassics.com/whiplash/</td>\n",
       "      <td>tt2582802</td>\n",
       "      <td>en</td>\n",
       "      <td>Whiplash</td>\n",
       "      <td>Under the direction of a ruthless instructor, ...</td>\n",
       "      <td>64.299990</td>\n",
       "      <td>...</td>\n",
       "      <td>10/10/14</td>\n",
       "      <td>105.0</td>\n",
       "      <td>[{'iso_639_1': 'en', 'name': 'English'}]</td>\n",
       "      <td>Released</td>\n",
       "      <td>The road to greatness can take you to the edge.</td>\n",
       "      <td>Whiplash</td>\n",
       "      <td>[{'id': 1416, 'name': 'jazz'}, {'id': 1523, 'n...</td>\n",
       "      <td>[{'cast_id': 5, 'character': 'Andrew Neimann',...</td>\n",
       "      <td>[{'credit_id': '54d5356ec3a3683ba0000039', 'de...</td>\n",
       "      <td>13092000</td>\n",
       "    </tr>\n",
       "    <tr>\n",
       "      <th>3</th>\n",
       "      <td>4</td>\n",
       "      <td>NaN</td>\n",
       "      <td>1200000</td>\n",
       "      <td>[{'id': 53, 'name': 'Thriller'}, {'id': 18, 'n...</td>\n",
       "      <td>http://kahaanithefilm.com/</td>\n",
       "      <td>tt1821480</td>\n",
       "      <td>hi</td>\n",
       "      <td>Kahaani</td>\n",
       "      <td>Vidya Bagchi (Vidya Balan) arrives in Kolkata ...</td>\n",
       "      <td>3.174936</td>\n",
       "      <td>...</td>\n",
       "      <td>3/9/12</td>\n",
       "      <td>122.0</td>\n",
       "      <td>[{'iso_639_1': 'en', 'name': 'English'}, {'iso...</td>\n",
       "      <td>Released</td>\n",
       "      <td>NaN</td>\n",
       "      <td>Kahaani</td>\n",
       "      <td>[{'id': 10092, 'name': 'mystery'}, {'id': 1054...</td>\n",
       "      <td>[{'cast_id': 1, 'character': 'Vidya Bagchi', '...</td>\n",
       "      <td>[{'credit_id': '52fe48779251416c9108d6eb', 'de...</td>\n",
       "      <td>16000000</td>\n",
       "    </tr>\n",
       "    <tr>\n",
       "      <th>4</th>\n",
       "      <td>5</td>\n",
       "      <td>NaN</td>\n",
       "      <td>0</td>\n",
       "      <td>[{'id': 28, 'name': 'Action'}, {'id': 53, 'nam...</td>\n",
       "      <td>NaN</td>\n",
       "      <td>tt1380152</td>\n",
       "      <td>ko</td>\n",
       "      <td>마린보이</td>\n",
       "      <td>Marine Boy is the story of a former national s...</td>\n",
       "      <td>1.148070</td>\n",
       "      <td>...</td>\n",
       "      <td>2/5/09</td>\n",
       "      <td>118.0</td>\n",
       "      <td>[{'iso_639_1': 'ko', 'name': '한국어/조선말'}]</td>\n",
       "      <td>Released</td>\n",
       "      <td>NaN</td>\n",
       "      <td>Marine Boy</td>\n",
       "      <td>NaN</td>\n",
       "      <td>[{'cast_id': 3, 'character': 'Chun-soo', 'cred...</td>\n",
       "      <td>[{'credit_id': '52fe464b9251416c75073b43', 'de...</td>\n",
       "      <td>3923970</td>\n",
       "    </tr>\n",
       "  </tbody>\n",
       "</table>\n",
       "<p>5 rows × 23 columns</p>\n",
       "</div>"
      ],
      "text/plain": [
       "   id                              belongs_to_collection    budget  \\\n",
       "0   1  [{'id': 313576, 'name': 'Hot Tub Time Machine ...  14000000   \n",
       "1   2  [{'id': 107674, 'name': 'The Princess Diaries ...  40000000   \n",
       "2   3                                                NaN   3300000   \n",
       "3   4                                                NaN   1200000   \n",
       "4   5                                                NaN         0   \n",
       "\n",
       "                                              genres  \\\n",
       "0                     [{'id': 35, 'name': 'Comedy'}]   \n",
       "1  [{'id': 35, 'name': 'Comedy'}, {'id': 18, 'nam...   \n",
       "2                      [{'id': 18, 'name': 'Drama'}]   \n",
       "3  [{'id': 53, 'name': 'Thriller'}, {'id': 18, 'n...   \n",
       "4  [{'id': 28, 'name': 'Action'}, {'id': 53, 'nam...   \n",
       "\n",
       "                            homepage    imdb_id original_language  \\\n",
       "0                                NaN  tt2637294                en   \n",
       "1                                NaN  tt0368933                en   \n",
       "2  http://sonyclassics.com/whiplash/  tt2582802                en   \n",
       "3         http://kahaanithefilm.com/  tt1821480                hi   \n",
       "4                                NaN  tt1380152                ko   \n",
       "\n",
       "                             original_title  \\\n",
       "0                    Hot Tub Time Machine 2   \n",
       "1  The Princess Diaries 2: Royal Engagement   \n",
       "2                                  Whiplash   \n",
       "3                                   Kahaani   \n",
       "4                                      마린보이   \n",
       "\n",
       "                                            overview  popularity  ...  \\\n",
       "0  When Lou, who has become the \"father of the In...    6.575393  ...   \n",
       "1  Mia Thermopolis is now a college graduate and ...    8.248895  ...   \n",
       "2  Under the direction of a ruthless instructor, ...   64.299990  ...   \n",
       "3  Vidya Bagchi (Vidya Balan) arrives in Kolkata ...    3.174936  ...   \n",
       "4  Marine Boy is the story of a former national s...    1.148070  ...   \n",
       "\n",
       "  release_date runtime                                   spoken_languages  \\\n",
       "0      2/20/15    93.0           [{'iso_639_1': 'en', 'name': 'English'}]   \n",
       "1       8/6/04   113.0           [{'iso_639_1': 'en', 'name': 'English'}]   \n",
       "2     10/10/14   105.0           [{'iso_639_1': 'en', 'name': 'English'}]   \n",
       "3       3/9/12   122.0  [{'iso_639_1': 'en', 'name': 'English'}, {'iso...   \n",
       "4       2/5/09   118.0           [{'iso_639_1': 'ko', 'name': '한국어/조선말'}]   \n",
       "\n",
       "     status                                            tagline  \\\n",
       "0  Released  The Laws of Space and Time are About to be Vio...   \n",
       "1  Released  It can take a lifetime to find true love; she'...   \n",
       "2  Released    The road to greatness can take you to the edge.   \n",
       "3  Released                                                NaN   \n",
       "4  Released                                                NaN   \n",
       "\n",
       "                                      title  \\\n",
       "0                    Hot Tub Time Machine 2   \n",
       "1  The Princess Diaries 2: Royal Engagement   \n",
       "2                                  Whiplash   \n",
       "3                                   Kahaani   \n",
       "4                                Marine Boy   \n",
       "\n",
       "                                            Keywords  \\\n",
       "0  [{'id': 4379, 'name': 'time travel'}, {'id': 9...   \n",
       "1  [{'id': 2505, 'name': 'coronation'}, {'id': 42...   \n",
       "2  [{'id': 1416, 'name': 'jazz'}, {'id': 1523, 'n...   \n",
       "3  [{'id': 10092, 'name': 'mystery'}, {'id': 1054...   \n",
       "4                                                NaN   \n",
       "\n",
       "                                                cast  \\\n",
       "0  [{'cast_id': 4, 'character': 'Lou', 'credit_id...   \n",
       "1  [{'cast_id': 1, 'character': 'Mia Thermopolis'...   \n",
       "2  [{'cast_id': 5, 'character': 'Andrew Neimann',...   \n",
       "3  [{'cast_id': 1, 'character': 'Vidya Bagchi', '...   \n",
       "4  [{'cast_id': 3, 'character': 'Chun-soo', 'cred...   \n",
       "\n",
       "                                                crew   revenue  \n",
       "0  [{'credit_id': '59ac067c92514107af02c8c8', 'de...  12314651  \n",
       "1  [{'credit_id': '52fe43fe9251416c7502563d', 'de...  95149435  \n",
       "2  [{'credit_id': '54d5356ec3a3683ba0000039', 'de...  13092000  \n",
       "3  [{'credit_id': '52fe48779251416c9108d6eb', 'de...  16000000  \n",
       "4  [{'credit_id': '52fe464b9251416c75073b43', 'de...   3923970  \n",
       "\n",
       "[5 rows x 23 columns]"
      ]
     },
     "execution_count": 24,
     "metadata": {},
     "output_type": "execute_result"
    }
   ],
   "source": [
    "treino.head()"
   ]
  },
  {
   "cell_type": "code",
   "execution_count": 25,
   "metadata": {},
   "outputs": [
    {
     "data": {
      "text/plain": [
       "(3000, 23)"
      ]
     },
     "execution_count": 25,
     "metadata": {},
     "output_type": "execute_result"
    }
   ],
   "source": [
    "treino.shape"
   ]
  },
  {
   "cell_type": "code",
   "execution_count": 26,
   "metadata": {},
   "outputs": [
    {
     "data": {
      "text/plain": [
       "id                         int64\n",
       "belongs_to_collection     object\n",
       "budget                     int64\n",
       "genres                    object\n",
       "homepage                  object\n",
       "imdb_id                   object\n",
       "original_language         object\n",
       "original_title            object\n",
       "overview                  object\n",
       "popularity               float64\n",
       "poster_path               object\n",
       "production_companies      object\n",
       "production_countries      object\n",
       "release_date              object\n",
       "runtime                  float64\n",
       "spoken_languages          object\n",
       "status                    object\n",
       "tagline                   object\n",
       "title                     object\n",
       "Keywords                  object\n",
       "cast                      object\n",
       "crew                      object\n",
       "revenue                    int64\n",
       "dtype: object"
      ]
     },
     "execution_count": 26,
     "metadata": {},
     "output_type": "execute_result"
    }
   ],
   "source": [
    "treino.dtypes"
   ]
  },
  {
   "cell_type": "code",
   "execution_count": 27,
   "metadata": {},
   "outputs": [
    {
     "data": {
      "text/plain": [
       "['id',\n",
       " 'belongs_to_collection',\n",
       " 'budget',\n",
       " 'genres',\n",
       " 'homepage',\n",
       " 'imdb_id',\n",
       " 'original_language',\n",
       " 'original_title',\n",
       " 'overview',\n",
       " 'popularity',\n",
       " 'poster_path',\n",
       " 'production_companies',\n",
       " 'production_countries',\n",
       " 'release_date',\n",
       " 'runtime',\n",
       " 'spoken_languages',\n",
       " 'status',\n",
       " 'tagline',\n",
       " 'title',\n",
       " 'Keywords',\n",
       " 'cast',\n",
       " 'crew',\n",
       " 'revenue']"
      ]
     },
     "execution_count": 27,
     "metadata": {},
     "output_type": "execute_result"
    }
   ],
   "source": [
    "list(treino.columns)"
   ]
  },
  {
   "cell_type": "code",
   "execution_count": 28,
   "metadata": {},
   "outputs": [
    {
     "data": {
      "text/plain": [
       "id                       False\n",
       "belongs_to_collection     True\n",
       "budget                   False\n",
       "genres                    True\n",
       "homepage                  True\n",
       "imdb_id                  False\n",
       "original_language        False\n",
       "original_title           False\n",
       "overview                  True\n",
       "popularity               False\n",
       "poster_path               True\n",
       "production_companies      True\n",
       "production_countries      True\n",
       "release_date             False\n",
       "runtime                   True\n",
       "spoken_languages          True\n",
       "status                   False\n",
       "tagline                   True\n",
       "title                    False\n",
       "Keywords                  True\n",
       "cast                      True\n",
       "crew                      True\n",
       "revenue                  False\n",
       "dtype: bool"
      ]
     },
     "execution_count": 28,
     "metadata": {},
     "output_type": "execute_result"
    }
   ],
   "source": [
    "treino.isna().any()"
   ]
  },
  {
   "cell_type": "code",
   "execution_count": 29,
   "metadata": {},
   "outputs": [
    {
     "data": {
      "text/plain": [
       "id                          0\n",
       "belongs_to_collection    2396\n",
       "budget                      0\n",
       "genres                      7\n",
       "homepage                 2054\n",
       "imdb_id                     0\n",
       "original_language           0\n",
       "original_title              0\n",
       "overview                    8\n",
       "popularity                  0\n",
       "poster_path                 1\n",
       "production_companies      156\n",
       "production_countries       55\n",
       "release_date                0\n",
       "runtime                     2\n",
       "spoken_languages           20\n",
       "status                      0\n",
       "tagline                   597\n",
       "title                       0\n",
       "Keywords                  276\n",
       "cast                       13\n",
       "crew                       16\n",
       "revenue                     0\n",
       "dtype: int64"
      ]
     },
     "execution_count": 29,
     "metadata": {},
     "output_type": "execute_result"
    }
   ],
   "source": [
    "treino.isna().sum()"
   ]
  },
  {
   "cell_type": "code",
   "execution_count": 30,
   "metadata": {},
   "outputs": [
    {
     "data": {
      "text/plain": [
       "[{'id': 645, 'name': 'James Bond Collection', 'poster_path': '/HORpg5CSkmeQlAolx3bKMrKgfi.jpg', 'backdrop_path': '/6VcVl48kNKvdXOZfJPdarlUGOsk.jpg'}]                      16\n",
       "[{'id': 9735, 'name': 'Friday the 13th Collection', 'poster_path': '/uobgqpLQff9WvxGKE2OSvXv1RHm.jpg', 'backdrop_path': '/c7pMKwv5NzIN6N3KM4L8fYMTtPw.jpg'}]                7\n",
       "[{'id': 937, 'name': 'The Pink Panther (Original) Collection', 'poster_path': '/xu6gZ0zGUSR8SC2QLKFaUrX2niM.jpg', 'backdrop_path': '/6KE7AguGR3UqwUn5RkzkoBc3MLy.jpg'}]     6\n",
       "[{'id': 9338, 'name': 'Police Academy Collection', 'poster_path': '/1VRdXVy2FYlX4EtllnLKWK6kYDJ.jpg', 'backdrop_path': '/RhpI828r9EKPV4x0pyHiqCDZDQ.jpg'}]                  5\n",
       "[{'id': 34055, 'name': 'Pokémon Collection', 'poster_path': '/j5te0YNZAMXDBnsqTUDKIBEt8iu.jpg', 'backdrop_path': '/iGoYKA0TFfgSoZpG2u5viTJMGfK.jpg'}]                       5\n",
       "                                                                                                                                                                           ..\n",
       "[{'id': 306031, 'name': 'Pitch Perfect Collection', 'poster_path': '/n1bCFVJeVxX1yCTnXy4OCRwynF1.jpg', 'backdrop_path': '/jolu4gMP6g2VmUZt099U6X6jNNJ.jpg'}]                1\n",
       "[{'id': 241729, 'name': 'Alpha and Omega Collection', 'poster_path': '/mAY1IkH0IoaETKlPu7t7Qj0agbp.jpg', 'backdrop_path': '/234TMV6vkkQZgYMJ2fOc1Gx1QeK.jpg'}]              1\n",
       "[{'id': 14890, 'name': 'Bad Boys Collection', 'poster_path': '/tSVbihfvVTCbcm0zXKA7L8R6Y9v.jpg', 'backdrop_path': '/yUvBiiC77UY6SyKhfFyLj7DNbfh.jpg'}]                      1\n",
       "[{'id': 344555, 'name': 'F*ck You, Goethe Collection', 'poster_path': '/3jH6BgPTXxkBx7N35aTaATzlaG.jpg', 'backdrop_path': '/AtoH8LJQ2sFXfV4gSxxe39XSdzZ.jpg'}]              1\n",
       "[{'id': 107469, 'name': 'Save The Last Dance Collection', 'poster_path': '/jAByXoHn29RlCjIrOa3k1jl60DB.jpg', 'backdrop_path': None}]                                        1\n",
       "Name: belongs_to_collection, Length: 422, dtype: int64"
      ]
     },
     "execution_count": 30,
     "metadata": {},
     "output_type": "execute_result"
    }
   ],
   "source": [
    "treino['belongs_to_collection'].value_counts()"
   ]
  },
  {
   "cell_type": "code",
   "execution_count": 31,
   "metadata": {},
   "outputs": [
    {
     "data": {
      "text/plain": [
       "http://www.transformersmovie.com/               4\n",
       "http://www.thehobbit.com/                       2\n",
       "http://www.lordoftherings.net/                  2\n",
       "http://sonyclassics.com/whiplash/               1\n",
       "https://www.facebook.com/thefinesthoursmovie    1\n",
       "                                               ..\n",
       "http://admiralfilm.ru/                          1\n",
       "http://www.jackreachermovie.com/                1\n",
       "http://www.sleepdealer.com/                     1\n",
       "http://www.popperspenguins.com/main.html        1\n",
       "http://www.abductionthefilm.com/                1\n",
       "Name: homepage, Length: 941, dtype: int64"
      ]
     },
     "execution_count": 31,
     "metadata": {},
     "output_type": "execute_result"
    }
   ],
   "source": [
    "treino['homepage'].value_counts()"
   ]
  },
  {
   "cell_type": "code",
   "execution_count": 32,
   "metadata": {},
   "outputs": [],
   "source": [
    "treino.drop('homepage', axis=1, inplace=True)"
   ]
  },
  {
   "cell_type": "code",
   "execution_count": 33,
   "metadata": {},
   "outputs": [],
   "source": [
    "treino.drop('status', axis=1, inplace=True)"
   ]
  },
  {
   "cell_type": "code",
   "execution_count": 34,
   "metadata": {},
   "outputs": [
    {
     "data": {
      "text/plain": [
       "6000000      10\n",
       "11000000     10\n",
       "10000000      9\n",
       "500000        8\n",
       "12000000      6\n",
       "             ..\n",
       "957240        1\n",
       "114830111     1\n",
       "29000000      1\n",
       "47042000      1\n",
       "82087155      1\n",
       "Name: revenue, Length: 2850, dtype: int64"
      ]
     },
     "execution_count": 34,
     "metadata": {},
     "output_type": "execute_result"
    }
   ],
   "source": [
    "treino['revenue'].value_counts()"
   ]
  },
  {
   "cell_type": "code",
   "execution_count": 35,
   "metadata": {},
   "outputs": [],
   "source": [
    "treino.dropna(axis=0, subset=['production_companies','overview','genres', 'poster_path', 'production_countries', 'runtime', 'spoken_languages', 'cast', 'crew'], inplace=True)"
   ]
  },
  {
   "cell_type": "code",
   "execution_count": 36,
   "metadata": {},
   "outputs": [
    {
     "data": {
      "text/plain": [
       "(2804, 21)"
      ]
     },
     "execution_count": 36,
     "metadata": {},
     "output_type": "execute_result"
    }
   ],
   "source": [
    "treino.shape"
   ]
  },
  {
   "cell_type": "code",
   "execution_count": 37,
   "metadata": {},
   "outputs": [
    {
     "data": {
      "text/plain": [
       "[{'id': 10183, 'name': 'independent film'}]                                                                                                                                                                                                                                                                                                                                                                                                                                      21\n",
       "[{'id': 187056, 'name': 'woman director'}]                                                                                                                                                                                                                                                                                                                                                                                                                                       11\n",
       "[{'id': 179431, 'name': 'duringcreditsstinger'}]                                                                                                                                                                                                                                                                                                                                                                                                                                  7\n",
       "[{'id': 5565, 'name': 'biography'}]                                                                                                                                                                                                                                                                                                                                                                                                                                               5\n",
       "[{'id': 9937, 'name': 'suspense'}]                                                                                                                                                                                                                                                                                                                                                                                                                                                3\n",
       "                                                                                                                                                                                                                                                                                                                                                                                                                                                                                 ..\n",
       "[{'id': 1299, 'name': 'monster'}, {'id': 7671, 'name': 'godzilla'}, {'id': 11100, 'name': 'giant monster'}, {'id': 14796, 'name': 'destruction'}, {'id': 161791, 'name': 'kaiju'}, {'id': 235525, 'name': 'toyko'}]                                                                                                                                                                                                                                                               1\n",
       "[{'id': 1366, 'name': 'shotgun'}, {'id': 13000, 'name': 'based on short film'}, {'id': 13125, 'name': 'sadist'}, {'id': 13132, 'name': 'pistol'}, {'id': 157367, 'name': 'chained'}, {'id': 157375, 'name': 'bludgeoning'}, {'id': 157376, 'name': 'game of death'}]                                                                                                                                                                                                              1\n",
       "[{'id': 271, 'name': 'competition'}, {'id': 3836, 'name': 'success'}, {'id': 4590, 'name': 'kindergarten'}, {'id': 10103, 'name': 'children'}, {'id': 156052, 'name': 'unemployment'}]                                                                                                                                                                                                                                                                                            1\n",
       "[{'id': 725, 'name': 'lovesickness'}, {'id': 774, 'name': 'film business'}, {'id': 886, 'name': 'film making'}, {'id': 1388, 'name': 'cinema'}, {'id': 1861, 'name': 'nice'}, {'id': 2559, 'name': 'film maker'}, {'id': 3973, 'name': 'insurance salesman'}, {'id': 34094, 'name': 'extramarital affair'}]                                                                                                                                                                       1\n",
       "[{'id': 591, 'name': 'cia'}, {'id': 822, 'name': 'airport'}, {'id': 1701, 'name': 'hero'}, {'id': 1721, 'name': 'fight'}, {'id': 1930, 'name': 'kidnapping'}, {'id': 3562, 'name': 'time bomb'}, {'id': 4613, 'name': 'training'}, {'id': 6435, 'name': 'webcam'}, {'id': 6614, 'name': 'website'}, {'id': 8508, 'name': 'party'}, {'id': 10562, 'name': 'on the run'}, {'id': 11612, 'name': 'hospital'}, {'id': 13008, 'name': 'train'}, {'id': 13130, 'name': 'teenager'}]     1\n",
       "Name: Keywords, Length: 2550, dtype: int64"
      ]
     },
     "execution_count": 37,
     "metadata": {},
     "output_type": "execute_result"
    }
   ],
   "source": [
    "treino['Keywords'].value_counts()"
   ]
  },
  {
   "cell_type": "code",
   "execution_count": 38,
   "metadata": {},
   "outputs": [],
   "source": [
    "treino['Keywords'].fillna(0, inplace=True)"
   ]
  },
  {
   "cell_type": "code",
   "execution_count": 39,
   "metadata": {},
   "outputs": [
    {
     "data": {
      "text/plain": [
       "0                                                                                                                                                                                                                                                                                                                                                                                                                                                                                198\n",
       "[{'id': 10183, 'name': 'independent film'}]                                                                                                                                                                                                                                                                                                                                                                                                                                       21\n",
       "[{'id': 187056, 'name': 'woman director'}]                                                                                                                                                                                                                                                                                                                                                                                                                                        11\n",
       "[{'id': 179431, 'name': 'duringcreditsstinger'}]                                                                                                                                                                                                                                                                                                                                                                                                                                   7\n",
       "[{'id': 5565, 'name': 'biography'}]                                                                                                                                                                                                                                                                                                                                                                                                                                                5\n",
       "                                                                                                                                                                                                                                                                                                                                                                                                                                                                                ... \n",
       "[{'id': 1299, 'name': 'monster'}, {'id': 7671, 'name': 'godzilla'}, {'id': 11100, 'name': 'giant monster'}, {'id': 14796, 'name': 'destruction'}, {'id': 161791, 'name': 'kaiju'}, {'id': 235525, 'name': 'toyko'}]                                                                                                                                                                                                                                                                1\n",
       "[{'id': 1366, 'name': 'shotgun'}, {'id': 13000, 'name': 'based on short film'}, {'id': 13125, 'name': 'sadist'}, {'id': 13132, 'name': 'pistol'}, {'id': 157367, 'name': 'chained'}, {'id': 157375, 'name': 'bludgeoning'}, {'id': 157376, 'name': 'game of death'}]                                                                                                                                                                                                               1\n",
       "[{'id': 271, 'name': 'competition'}, {'id': 3836, 'name': 'success'}, {'id': 4590, 'name': 'kindergarten'}, {'id': 10103, 'name': 'children'}, {'id': 156052, 'name': 'unemployment'}]                                                                                                                                                                                                                                                                                             1\n",
       "[{'id': 725, 'name': 'lovesickness'}, {'id': 774, 'name': 'film business'}, {'id': 886, 'name': 'film making'}, {'id': 1388, 'name': 'cinema'}, {'id': 1861, 'name': 'nice'}, {'id': 2559, 'name': 'film maker'}, {'id': 3973, 'name': 'insurance salesman'}, {'id': 34094, 'name': 'extramarital affair'}]                                                                                                                                                                        1\n",
       "[{'id': 591, 'name': 'cia'}, {'id': 822, 'name': 'airport'}, {'id': 1701, 'name': 'hero'}, {'id': 1721, 'name': 'fight'}, {'id': 1930, 'name': 'kidnapping'}, {'id': 3562, 'name': 'time bomb'}, {'id': 4613, 'name': 'training'}, {'id': 6435, 'name': 'webcam'}, {'id': 6614, 'name': 'website'}, {'id': 8508, 'name': 'party'}, {'id': 10562, 'name': 'on the run'}, {'id': 11612, 'name': 'hospital'}, {'id': 13008, 'name': 'train'}, {'id': 13130, 'name': 'teenager'}]      1\n",
       "Name: Keywords, Length: 2551, dtype: int64"
      ]
     },
     "execution_count": 39,
     "metadata": {},
     "output_type": "execute_result"
    }
   ],
   "source": [
    "treino['Keywords'].value_counts()"
   ]
  },
  {
   "cell_type": "code",
   "execution_count": 40,
   "metadata": {},
   "outputs": [
    {
     "data": {
      "text/plain": [
       "id                          0\n",
       "belongs_to_collection    2221\n",
       "budget                      0\n",
       "genres                      0\n",
       "imdb_id                     0\n",
       "original_language           0\n",
       "original_title              0\n",
       "overview                    0\n",
       "popularity                  0\n",
       "poster_path                 0\n",
       "production_companies        0\n",
       "production_countries        0\n",
       "release_date                0\n",
       "runtime                     0\n",
       "spoken_languages            0\n",
       "tagline                   481\n",
       "title                       0\n",
       "Keywords                    0\n",
       "cast                        0\n",
       "crew                        0\n",
       "revenue                     0\n",
       "dtype: int64"
      ]
     },
     "execution_count": 40,
     "metadata": {},
     "output_type": "execute_result"
    }
   ],
   "source": [
    "treino.isna().sum()"
   ]
  },
  {
   "cell_type": "code",
   "execution_count": 41,
   "metadata": {},
   "outputs": [],
   "source": [
    "treino.drop('id', axis=1, inplace=True)"
   ]
  },
  {
   "cell_type": "code",
   "execution_count": 42,
   "metadata": {},
   "outputs": [
    {
     "data": {
      "text/plain": [
       "Based on a true story.                                      3\n",
       "Who is John Galt?                                           2\n",
       "The Laws of Space and Time are About to be Violated.        1\n",
       "They can't keep their hands off each others assets.         1\n",
       "A world where the night never ends.                         1\n",
       "                                                           ..\n",
       "There's only one way these two are going to get along...    1\n",
       "A god incarnate. A city doomed.                             1\n",
       "Live or die. Make your choice.                              1\n",
       "Who's your daddy?                                           1\n",
       "They stole his life. He's taking it back.                   1\n",
       "Name: tagline, Length: 2320, dtype: int64"
      ]
     },
     "execution_count": 42,
     "metadata": {},
     "output_type": "execute_result"
    }
   ],
   "source": [
    "treino['tagline'].value_counts()"
   ]
  },
  {
   "cell_type": "code",
   "execution_count": 43,
   "metadata": {},
   "outputs": [],
   "source": [
    "treino.drop('tagline', axis=1, inplace=True)"
   ]
  },
  {
   "cell_type": "code",
   "execution_count": 44,
   "metadata": {},
   "outputs": [],
   "source": [
    "treino.drop('imdb_id', axis=1, inplace=True)"
   ]
  },
  {
   "cell_type": "code",
   "execution_count": 45,
   "metadata": {},
   "outputs": [
    {
     "data": {
      "text/plain": [
       "[{'name': 'Paramount Pictures', 'id': 4}]                                                                                                                                                                                                                     51\n",
       "[{'name': 'Universal Pictures', 'id': 33}]                                                                                                                                                                                                                    36\n",
       "[{'name': 'Warner Bros.', 'id': 6194}]                                                                                                                                                                                                                        32\n",
       "[{'name': 'Metro-Goldwyn-Mayer (MGM)', 'id': 8411}]                                                                                                                                                                                                           30\n",
       "[{'name': 'Twentieth Century Fox Film Corporation', 'id': 306}]                                                                                                                                                                                               24\n",
       "                                                                                                                                                                                                                                                              ..\n",
       "[{'name': 'Universal Pictures', 'id': 33}, {'name': 'Fuji Television Network', 'id': 3341}, {'name': 'Dentsu', 'id': 6452}, {'name': 'Apatow Productions', 'id': 10105}]                                                                                       1\n",
       "[{'name': 'Zyzzyx LLC', 'id': 92534}]                                                                                                                                                                                                                          1\n",
       "[{'name': 'Universal Pictures', 'id': 33}, {'name': 'Columbia Pictures Corporation', 'id': 441}]                                                                                                                                                               1\n",
       "[{'name': 'Yari Film Group', 'id': 2448}]                                                                                                                                                                                                                      1\n",
       "[{'name': 'Lions Gate Films', 'id': 35}, {'name': 'Vertigo Entertainment', 'id': 829}, {'name': 'Gotham Group', 'id': 3672}, {'name': 'Tailor Made', 'id': 24557}, {'name': 'Mango Farms', 'id': 24558}, {'name': 'Quick Six Entertainment', 'id': 24561}]     1\n",
       "Name: production_companies, Length: 2353, dtype: int64"
      ]
     },
     "execution_count": 45,
     "metadata": {},
     "output_type": "execute_result"
    }
   ],
   "source": [
    "treino['production_companies'].value_counts()"
   ]
  },
  {
   "cell_type": "code",
   "execution_count": 46,
   "metadata": {},
   "outputs": [
    {
     "data": {
      "text/plain": [
       "belongs_to_collection    2221\n",
       "budget                      0\n",
       "genres                      0\n",
       "original_language           0\n",
       "original_title              0\n",
       "overview                    0\n",
       "popularity                  0\n",
       "poster_path                 0\n",
       "production_companies        0\n",
       "production_countries        0\n",
       "release_date                0\n",
       "runtime                     0\n",
       "spoken_languages            0\n",
       "title                       0\n",
       "Keywords                    0\n",
       "cast                        0\n",
       "crew                        0\n",
       "revenue                     0\n",
       "dtype: int64"
      ]
     },
     "execution_count": 46,
     "metadata": {},
     "output_type": "execute_result"
    }
   ],
   "source": [
    "treino.isna().sum()"
   ]
  },
  {
   "cell_type": "code",
   "execution_count": 47,
   "metadata": {},
   "outputs": [],
   "source": [
    "treino['belongs_to_collection'].fillna(0, inplace=True)"
   ]
  },
  {
   "cell_type": "code",
   "execution_count": 48,
   "metadata": {},
   "outputs": [
    {
     "data": {
      "text/plain": [
       "0                                                                                                                                                                                       2221\n",
       "[{'id': 645, 'name': 'James Bond Collection', 'poster_path': '/HORpg5CSkmeQlAolx3bKMrKgfi.jpg', 'backdrop_path': '/6VcVl48kNKvdXOZfJPdarlUGOsk.jpg'}]                                     16\n",
       "[{'id': 9735, 'name': 'Friday the 13th Collection', 'poster_path': '/uobgqpLQff9WvxGKE2OSvXv1RHm.jpg', 'backdrop_path': '/c7pMKwv5NzIN6N3KM4L8fYMTtPw.jpg'}]                               7\n",
       "[{'id': 937, 'name': 'The Pink Panther (Original) Collection', 'poster_path': '/xu6gZ0zGUSR8SC2QLKFaUrX2niM.jpg', 'backdrop_path': '/6KE7AguGR3UqwUn5RkzkoBc3MLy.jpg'}]                    6\n",
       "[{'id': 9338, 'name': 'Police Academy Collection', 'poster_path': '/1VRdXVy2FYlX4EtllnLKWK6kYDJ.jpg', 'backdrop_path': '/RhpI828r9EKPV4x0pyHiqCDZDQ.jpg'}]                                 5\n",
       "                                                                                                                                                                                        ... \n",
       "[{'id': 401562, 'name': 'Teenage Mutant Ninja Turtles (Remake) Collection', 'poster_path': '/i3DywIl37k83YXWreQGIcWNF7kL.jpg', 'backdrop_path': '/tfpOdV9gvqbGJEeLGSu5X1vOLKV.jpg'}]       1\n",
       "[{'id': 306031, 'name': 'Pitch Perfect Collection', 'poster_path': '/n1bCFVJeVxX1yCTnXy4OCRwynF1.jpg', 'backdrop_path': '/jolu4gMP6g2VmUZt099U6X6jNNJ.jpg'}]                               1\n",
       "[{'id': 241729, 'name': 'Alpha and Omega Collection', 'poster_path': '/mAY1IkH0IoaETKlPu7t7Qj0agbp.jpg', 'backdrop_path': '/234TMV6vkkQZgYMJ2fOc1Gx1QeK.jpg'}]                             1\n",
       "[{'id': 14890, 'name': 'Bad Boys Collection', 'poster_path': '/tSVbihfvVTCbcm0zXKA7L8R6Y9v.jpg', 'backdrop_path': '/yUvBiiC77UY6SyKhfFyLj7DNbfh.jpg'}]                                     1\n",
       "[{'id': 107469, 'name': 'Save The Last Dance Collection', 'poster_path': '/jAByXoHn29RlCjIrOa3k1jl60DB.jpg', 'backdrop_path': None}]                                                       1\n",
       "Name: belongs_to_collection, Length: 409, dtype: int64"
      ]
     },
     "execution_count": 48,
     "metadata": {},
     "output_type": "execute_result"
    }
   ],
   "source": [
    "treino['belongs_to_collection'].value_counts()"
   ]
  },
  {
   "cell_type": "code",
   "execution_count": 49,
   "metadata": {},
   "outputs": [
    {
     "data": {
      "text/plain": [
       "<AxesSubplot:>"
      ]
     },
     "execution_count": 49,
     "metadata": {},
     "output_type": "execute_result"
    },
    {
     "data": {
      "image/png": "[encoded data removed]",
      "text/plain": [
       "<Figure size 432x288 with 2 Axes>"
      ]
     },
     "metadata": {
      "needs_background": "light"
     },
     "output_type": "display_data"
    }
   ],
   "source": [
    "df = treino\n",
    "corr = df.corr()\n",
    "sns.heatmap(corr, annot=True)"
   ]
  },
  {
   "cell_type": "code",
   "execution_count": 50,
   "metadata": {},
   "outputs": [
    {
     "data": {
      "text/html": [
       "<div>\n",
       "<style scoped>\n",
       "    .dataframe tbody tr th:only-of-type {\n",
       "        vertical-align: middle;\n",
       "    }\n",
       "\n",
       "    .dataframe tbody tr th {\n",
       "        vertical-align: top;\n",
       "    }\n",
       "\n",
       "    .dataframe thead th {\n",
       "        text-align: right;\n",
       "    }\n",
       "</style>\n",
       "<table border=\"1\" class=\"dataframe\">\n",
       "  <thead>\n",
       "    <tr style=\"text-align: right;\">\n",
       "      <th></th>\n",
       "      <th>belongs_to_collection</th>\n",
       "      <th>budget</th>\n",
       "      <th>genres</th>\n",
       "      <th>original_language</th>\n",
       "      <th>original_title</th>\n",
       "      <th>overview</th>\n",
       "      <th>popularity</th>\n",
       "      <th>poster_path</th>\n",
       "      <th>production_companies</th>\n",
       "      <th>production_countries</th>\n",
       "      <th>release_date</th>\n",
       "      <th>runtime</th>\n",
       "      <th>spoken_languages</th>\n",
       "      <th>title</th>\n",
       "      <th>Keywords</th>\n",
       "      <th>cast</th>\n",
       "      <th>crew</th>\n",
       "      <th>revenue</th>\n",
       "    </tr>\n",
       "  </thead>\n",
       "  <tbody>\n",
       "    <tr>\n",
       "      <th>0</th>\n",
       "      <td>[{'id': 313576, 'name': 'Hot Tub Time Machine ...</td>\n",
       "      <td>14000000</td>\n",
       "      <td>[{'id': 35, 'name': 'Comedy'}]</td>\n",
       "      <td>en</td>\n",
       "      <td>Hot Tub Time Machine 2</td>\n",
       "      <td>When Lou, who has become the \"father of the In...</td>\n",
       "      <td>6.575393</td>\n",
       "      <td>/tQtWuwvMf0hCc2QR2tkolwl7c3c.jpg</td>\n",
       "      <td>[{'name': 'Paramount Pictures', 'id': 4}, {'na...</td>\n",
       "      <td>[{'iso_3166_1': 'US', 'name': 'United States o...</td>\n",
       "      <td>2/20/15</td>\n",
       "      <td>93.0</td>\n",
       "      <td>[{'iso_639_1': 'en', 'name': 'English'}]</td>\n",
       "      <td>Hot Tub Time Machine 2</td>\n",
       "      <td>[{'id': 4379, 'name': 'time travel'}, {'id': 9...</td>\n",
       "      <td>[{'cast_id': 4, 'character': 'Lou', 'credit_id...</td>\n",
       "      <td>[{'credit_id': '59ac067c92514107af02c8c8', 'de...</td>\n",
       "      <td>12314651</td>\n",
       "    </tr>\n",
       "    <tr>\n",
       "      <th>1</th>\n",
       "      <td>[{'id': 107674, 'name': 'The Princess Diaries ...</td>\n",
       "      <td>40000000</td>\n",
       "      <td>[{'id': 35, 'name': 'Comedy'}, {'id': 18, 'nam...</td>\n",
       "      <td>en</td>\n",
       "      <td>The Princess Diaries 2: Royal Engagement</td>\n",
       "      <td>Mia Thermopolis is now a college graduate and ...</td>\n",
       "      <td>8.248895</td>\n",
       "      <td>/w9Z7A0GHEhIp7etpj0vyKOeU1Wx.jpg</td>\n",
       "      <td>[{'name': 'Walt Disney Pictures', 'id': 2}]</td>\n",
       "      <td>[{'iso_3166_1': 'US', 'name': 'United States o...</td>\n",
       "      <td>8/6/04</td>\n",
       "      <td>113.0</td>\n",
       "      <td>[{'iso_639_1': 'en', 'name': 'English'}]</td>\n",
       "      <td>The Princess Diaries 2: Royal Engagement</td>\n",
       "      <td>[{'id': 2505, 'name': 'coronation'}, {'id': 42...</td>\n",
       "      <td>[{'cast_id': 1, 'character': 'Mia Thermopolis'...</td>\n",
       "      <td>[{'credit_id': '52fe43fe9251416c7502563d', 'de...</td>\n",
       "      <td>95149435</td>\n",
       "    </tr>\n",
       "    <tr>\n",
       "      <th>2</th>\n",
       "      <td>0</td>\n",
       "      <td>3300000</td>\n",
       "      <td>[{'id': 18, 'name': 'Drama'}]</td>\n",
       "      <td>en</td>\n",
       "      <td>Whiplash</td>\n",
       "      <td>Under the direction of a ruthless instructor, ...</td>\n",
       "      <td>64.299990</td>\n",
       "      <td>/lIv1QinFqz4dlp5U4lQ6HaiskOZ.jpg</td>\n",
       "      <td>[{'name': 'Bold Films', 'id': 2266}, {'name': ...</td>\n",
       "      <td>[{'iso_3166_1': 'US', 'name': 'United States o...</td>\n",
       "      <td>10/10/14</td>\n",
       "      <td>105.0</td>\n",
       "      <td>[{'iso_639_1': 'en', 'name': 'English'}]</td>\n",
       "      <td>Whiplash</td>\n",
       "      <td>[{'id': 1416, 'name': 'jazz'}, {'id': 1523, 'n...</td>\n",
       "      <td>[{'cast_id': 5, 'character': 'Andrew Neimann',...</td>\n",
       "      <td>[{'credit_id': '54d5356ec3a3683ba0000039', 'de...</td>\n",
       "      <td>13092000</td>\n",
       "    </tr>\n",
       "    <tr>\n",
       "      <th>6</th>\n",
       "      <td>0</td>\n",
       "      <td>14000000</td>\n",
       "      <td>[{'id': 27, 'name': 'Horror'}, {'id': 53, 'nam...</td>\n",
       "      <td>en</td>\n",
       "      <td>The Possession</td>\n",
       "      <td>A young girl buys an antique box at a yard sal...</td>\n",
       "      <td>7.286477</td>\n",
       "      <td>/4QjzFuaZmB4btGnLwAgdp23BzIU.jpg</td>\n",
       "      <td>[{'name': 'Ghost House Pictures', 'id': 768}, ...</td>\n",
       "      <td>[{'iso_3166_1': 'US', 'name': 'United States o...</td>\n",
       "      <td>8/30/12</td>\n",
       "      <td>92.0</td>\n",
       "      <td>[{'iso_639_1': 'en', 'name': 'English'}]</td>\n",
       "      <td>The Possession</td>\n",
       "      <td>0</td>\n",
       "      <td>[{'cast_id': 23, 'character': 'Clyde', 'credit...</td>\n",
       "      <td>[{'credit_id': '52fe4981c3a368484e12ee29', 'de...</td>\n",
       "      <td>85446075</td>\n",
       "    </tr>\n",
       "    <tr>\n",
       "      <th>8</th>\n",
       "      <td>[{'id': 256377, 'name': 'The Muppet Collection...</td>\n",
       "      <td>0</td>\n",
       "      <td>[{'id': 28, 'name': 'Action'}, {'id': 35, 'nam...</td>\n",
       "      <td>en</td>\n",
       "      <td>Muppet Treasure Island</td>\n",
       "      <td>After telling the story of Flint's last journe...</td>\n",
       "      <td>6.902423</td>\n",
       "      <td>/5A8gKzOrF9Z7tSUX6xd5dEx4NXf.jpg</td>\n",
       "      <td>[{'name': 'Walt Disney Pictures', 'id': 2}, {'...</td>\n",
       "      <td>[{'iso_3166_1': 'US', 'name': 'United States o...</td>\n",
       "      <td>2/16/96</td>\n",
       "      <td>100.0</td>\n",
       "      <td>[{'iso_639_1': 'en', 'name': 'English'}]</td>\n",
       "      <td>Muppet Treasure Island</td>\n",
       "      <td>[{'id': 2041, 'name': 'island'}, {'id': 4418, ...</td>\n",
       "      <td>[{'cast_id': 1, 'character': 'Long John Silver...</td>\n",
       "      <td>[{'credit_id': '52fe43c89251416c7501deb3', 'de...</td>\n",
       "      <td>34327391</td>\n",
       "    </tr>\n",
       "  </tbody>\n",
       "</table>\n",
       "</div>"
      ],
      "text/plain": [
       "                               belongs_to_collection    budget  \\\n",
       "0  [{'id': 313576, 'name': 'Hot Tub Time Machine ...  14000000   \n",
       "1  [{'id': 107674, 'name': 'The Princess Diaries ...  40000000   \n",
       "2                                                  0   3300000   \n",
       "6                                                  0  14000000   \n",
       "8  [{'id': 256377, 'name': 'The Muppet Collection...         0   \n",
       "\n",
       "                                              genres original_language  \\\n",
       "0                     [{'id': 35, 'name': 'Comedy'}]                en   \n",
       "1  [{'id': 35, 'name': 'Comedy'}, {'id': 18, 'nam...                en   \n",
       "2                      [{'id': 18, 'name': 'Drama'}]                en   \n",
       "6  [{'id': 27, 'name': 'Horror'}, {'id': 53, 'nam...                en   \n",
       "8  [{'id': 28, 'name': 'Action'}, {'id': 35, 'nam...                en   \n",
       "\n",
       "                             original_title  \\\n",
       "0                    Hot Tub Time Machine 2   \n",
       "1  The Princess Diaries 2: Royal Engagement   \n",
       "2                                  Whiplash   \n",
       "6                            The Possession   \n",
       "8                    Muppet Treasure Island   \n",
       "\n",
       "                                            overview  popularity  \\\n",
       "0  When Lou, who has become the \"father of the In...    6.575393   \n",
       "1  Mia Thermopolis is now a college graduate and ...    8.248895   \n",
       "2  Under the direction of a ruthless instructor, ...   64.299990   \n",
       "6  A young girl buys an antique box at a yard sal...    7.286477   \n",
       "8  After telling the story of Flint's last journe...    6.902423   \n",
       "\n",
       "                        poster_path  \\\n",
       "0  /tQtWuwvMf0hCc2QR2tkolwl7c3c.jpg   \n",
       "1  /w9Z7A0GHEhIp7etpj0vyKOeU1Wx.jpg   \n",
       "2  /lIv1QinFqz4dlp5U4lQ6HaiskOZ.jpg   \n",
       "6  /4QjzFuaZmB4btGnLwAgdp23BzIU.jpg   \n",
       "8  /5A8gKzOrF9Z7tSUX6xd5dEx4NXf.jpg   \n",
       "\n",
       "                                production_companies  \\\n",
       "0  [{'name': 'Paramount Pictures', 'id': 4}, {'na...   \n",
       "1        [{'name': 'Walt Disney Pictures', 'id': 2}]   \n",
       "2  [{'name': 'Bold Films', 'id': 2266}, {'name': ...   \n",
       "6  [{'name': 'Ghost House Pictures', 'id': 768}, ...   \n",
       "8  [{'name': 'Walt Disney Pictures', 'id': 2}, {'...   \n",
       "\n",
       "                                production_countries release_date  runtime  \\\n",
       "0  [{'iso_3166_1': 'US', 'name': 'United States o...      2/20/15     93.0   \n",
       "1  [{'iso_3166_1': 'US', 'name': 'United States o...       8/6/04    113.0   \n",
       "2  [{'iso_3166_1': 'US', 'name': 'United States o...     10/10/14    105.0   \n",
       "6  [{'iso_3166_1': 'US', 'name': 'United States o...      8/30/12     92.0   \n",
       "8  [{'iso_3166_1': 'US', 'name': 'United States o...      2/16/96    100.0   \n",
       "\n",
       "                           spoken_languages  \\\n",
       "0  [{'iso_639_1': 'en', 'name': 'English'}]   \n",
       "1  [{'iso_639_1': 'en', 'name': 'English'}]   \n",
       "2  [{'iso_639_1': 'en', 'name': 'English'}]   \n",
       "6  [{'iso_639_1': 'en', 'name': 'English'}]   \n",
       "8  [{'iso_639_1': 'en', 'name': 'English'}]   \n",
       "\n",
       "                                      title  \\\n",
       "0                    Hot Tub Time Machine 2   \n",
       "1  The Princess Diaries 2: Royal Engagement   \n",
       "2                                  Whiplash   \n",
       "6                            The Possession   \n",
       "8                    Muppet Treasure Island   \n",
       "\n",
       "                                            Keywords  \\\n",
       "0  [{'id': 4379, 'name': 'time travel'}, {'id': 9...   \n",
       "1  [{'id': 2505, 'name': 'coronation'}, {'id': 42...   \n",
       "2  [{'id': 1416, 'name': 'jazz'}, {'id': 1523, 'n...   \n",
       "6                                                  0   \n",
       "8  [{'id': 2041, 'name': 'island'}, {'id': 4418, ...   \n",
       "\n",
       "                                                cast  \\\n",
       "0  [{'cast_id': 4, 'character': 'Lou', 'credit_id...   \n",
       "1  [{'cast_id': 1, 'character': 'Mia Thermopolis'...   \n",
       "2  [{'cast_id': 5, 'character': 'Andrew Neimann',...   \n",
       "6  [{'cast_id': 23, 'character': 'Clyde', 'credit...   \n",
       "8  [{'cast_id': 1, 'character': 'Long John Silver...   \n",
       "\n",
       "                                                crew   revenue  \n",
       "0  [{'credit_id': '59ac067c92514107af02c8c8', 'de...  12314651  \n",
       "1  [{'credit_id': '52fe43fe9251416c7502563d', 'de...  95149435  \n",
       "2  [{'credit_id': '54d5356ec3a3683ba0000039', 'de...  13092000  \n",
       "6  [{'credit_id': '52fe4981c3a368484e12ee29', 'de...  85446075  \n",
       "8  [{'credit_id': '52fe43c89251416c7501deb3', 'de...  34327391  "
      ]
     },
     "execution_count": 50,
     "metadata": {},
     "output_type": "execute_result"
    }
   ],
   "source": [
    "treino.head()"
   ]
  },
  {
   "cell_type": "code",
   "execution_count": 51,
   "metadata": {},
   "outputs": [
    {
     "data": {
      "text/plain": [
       "en    2424\n",
       "fr      76\n",
       "es      40\n",
       "hi      38\n",
       "ru      34\n",
       "ja      33\n",
       "cn      20\n",
       "ko      19\n",
       "it      18\n",
       "zh      18\n",
       "de      17\n",
       "ta      14\n",
       "sv       8\n",
       "pt       6\n",
       "fa       5\n",
       "da       5\n",
       "ro       4\n",
       "nl       4\n",
       "hu       3\n",
       "tr       2\n",
       "ml       2\n",
       "no       2\n",
       "pl       2\n",
       "bn       1\n",
       "te       1\n",
       "he       1\n",
       "nb       1\n",
       "ar       1\n",
       "ur       1\n",
       "el       1\n",
       "fi       1\n",
       "sr       1\n",
       "id       1\n",
       "Name: original_language, dtype: int64"
      ]
     },
     "execution_count": 51,
     "metadata": {},
     "output_type": "execute_result"
    }
   ],
   "source": [
    "treino['original_language'].value_counts()"
   ]
  },
  {
   "cell_type": "code",
   "execution_count": 52,
   "metadata": {},
   "outputs": [
    {
     "data": {
      "text/plain": [
       "[{'id': 18, 'name': 'Drama'}]                                                                                                                                                                                                             249\n",
       "[{'id': 35, 'name': 'Comedy'}]                                                                                                                                                                                                            171\n",
       "[{'id': 18, 'name': 'Drama'}, {'id': 10749, 'name': 'Romance'}]                                                                                                                                                                           101\n",
       "[{'id': 35, 'name': 'Comedy'}, {'id': 10749, 'name': 'Romance'}]                                                                                                                                                                           83\n",
       "[{'id': 35, 'name': 'Comedy'}, {'id': 18, 'name': 'Drama'}]                                                                                                                                                                                75\n",
       "                                                                                                                                                                                                                                         ... \n",
       "[{'id': 12, 'name': 'Adventure'}, {'id': 28, 'name': 'Action'}, {'id': 35, 'name': 'Comedy'}, {'id': 53, 'name': 'Thriller'}, {'id': 80, 'name': 'Crime'}]                                                                                  1\n",
       "[{'id': 28, 'name': 'Action'}, {'id': 12, 'name': 'Adventure'}, {'id': 16, 'name': 'Animation'}, {'id': 35, 'name': 'Comedy'}, {'id': 10751, 'name': 'Family'}, {'id': 14, 'name': 'Fantasy'}, {'id': 878, 'name': 'Science Fiction'}]      1\n",
       "[{'id': 14, 'name': 'Fantasy'}, {'id': 10402, 'name': 'Music'}, {'id': 10749, 'name': 'Romance'}]                                                                                                                                           1\n",
       "[{'id': 35, 'name': 'Comedy'}, {'id': 80, 'name': 'Crime'}, {'id': 10749, 'name': 'Romance'}, {'id': 53, 'name': 'Thriller'}]                                                                                                               1\n",
       "[{'id': 53, 'name': 'Thriller'}, {'id': 28, 'name': 'Action'}, {'id': 9648, 'name': 'Mystery'}]                                                                                                                                             1\n",
       "Name: genres, Length: 841, dtype: int64"
      ]
     },
     "execution_count": 52,
     "metadata": {},
     "output_type": "execute_result"
    }
   ],
   "source": [
    "treino['genres'].value_counts()"
   ]
  },
  {
   "cell_type": "code",
   "execution_count": 53,
   "metadata": {},
   "outputs": [
    {
     "name": "stdout",
     "output_type": "stream",
     "text": [
      "{'', 'Fantasy', 'Foreign', 'History', 'TV Movie', 'Mystery', 'Horror', 'Science Fiction', 'War', 'Thriller', 'Western', 'Drama', 'Documentary', 'Crime', 'Family', 'Animation', 'Music', 'Romance', 'Adventure', 'Action', 'Comedy'}\n"
     ]
    }
   ],
   "source": [
    "text =''\n",
    "generos = set({})\n",
    "for linha in treino.genres:\n",
    "    if type(linha) == str:\n",
    "        text += linha\n",
    "\n",
    "linhas = text.split('{')\n",
    "for i in linhas:\n",
    "    x = i.find('name')\n",
    "    y = i.find('}')\n",
    "    texto = i[x+8:y-1]\n",
    "    generos.add(texto)\n",
    "\n",
    "print(generos)"
   ]
  },
  {
   "cell_type": "code",
   "execution_count": null,
   "metadata": {},
   "outputs": [],
   "source": []
  }
 ],
 "metadata": {
  "interpreter": {
   "hash": "097252a46f76910237a908ddf639b58d98986eaefb3368e742eaf3e96d034480"
  },
  "kernelspec": {
   "display_name": "Python 3.9.7 ('base')",
   "language": "python",
   "name": "python3"
  },
  "language_info": {
   "codemirror_mode": {
    "name": "ipython",
    "version": 3
   },
   "file_extension": ".py",
   "mimetype": "text/x-python",
   "name": "python",
   "nbconvert_exporter": "python",
   "pygments_lexer": "ipython3",
   "version": "3.9.7"
  },
  "orig_nbformat": 4
 },
 "nbformat": 4,
 "nbformat_minor": 2
}
